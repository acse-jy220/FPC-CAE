{
  "nbformat": 4,
  "nbformat_minor": 0,
  "metadata": {
    "accelerator": "GPU",
    "colab": {
      "name": "ShufflingBatches+Smoothinglayer+2 curves.ipynb",
      "provenance": [],
      "collapsed_sections": [],
      "machine_shape": "hm"
    },
    "kernelspec": {
      "display_name": "Python 3",
      "name": "python3"
    },
    "language_info": {
      "name": "python"
    }
  },
  "cells": [
    {
      "cell_type": "code",
      "metadata": {
        "colab": {
          "base_uri": "https://localhost:8080/"
        },
        "id": "3mBN38-pzJRP",
        "outputId": "1b313159-680c-4848-e365-03deaa129e80"
      },
      "source": [
        "from google.colab import drive\n",
        "drive.mount('/content/gdrive/')"
      ],
      "execution_count": 1,
      "outputs": [
        {
          "output_type": "stream",
          "text": [
            "Drive already mounted at /content/gdrive/; to attempt to forcibly remount, call drive.mount(\"/content/gdrive/\", force_remount=True).\n"
          ],
          "name": "stdout"
        }
      ]
    },
    {
      "cell_type": "code",
      "metadata": {
        "colab": {
          "base_uri": "https://localhost:8080/"
        },
        "id": "cUAJeJVomDX7",
        "outputId": "e1514c93-5a64-4f2c-d528-fd1feea18389"
      },
      "source": [
        "%cd gdrive/MyDrive/DISSERTATION/MultipleCurves/"
      ],
      "execution_count": 2,
      "outputs": [
        {
          "output_type": "stream",
          "text": [
            "/content/gdrive/MyDrive/DISSERTATION/MultipleCurves\n"
          ],
          "name": "stdout"
        }
      ]
    },
    {
      "cell_type": "code",
      "metadata": {
        "id": "tDwjy1Lhl6bb"
      },
      "source": [
        "#!git clone https://github.com/acse-jy220/SFC-CAE-Ready-to-use"
      ],
      "execution_count": 3,
      "outputs": []
    },
    {
      "cell_type": "code",
      "metadata": {
        "colab": {
          "base_uri": "https://localhost:8080/"
        },
        "id": "vB2IDPJBzat-",
        "outputId": "0162b274-dc9e-4995-8b3a-0f20df6e3dae"
      },
      "source": [
        "%cd SFC-CAE-Ready-to-use"
      ],
      "execution_count": 4,
      "outputs": [
        {
          "output_type": "stream",
          "text": [
            "/content/gdrive/MyDrive/DISSERTATION/MultipleCurves/SFC-CAE-Ready-to-use\n"
          ],
          "name": "stdout"
        }
      ]
    },
    {
      "cell_type": "markdown",
      "metadata": {
        "id": "psNEoVIXtirz"
      },
      "source": [
        "### Install dependencies"
      ]
    },
    {
      "cell_type": "code",
      "metadata": {
        "id": "mCAqgswwUqiR"
      },
      "source": [
        "#!pip install -e ."
      ],
      "execution_count": 5,
      "outputs": []
    },
    {
      "cell_type": "markdown",
      "metadata": {
        "id": "dp1x1ZtVtn-7"
      },
      "source": [
        "### Import useful functions inside this repo, very important, don't forget!!!"
      ]
    },
    {
      "cell_type": "code",
      "metadata": {
        "id": "Q1O9kBUQzfaO"
      },
      "source": [
        "# import os\n",
        "# os.environ['KMP_DUPLICATE_LIB_OK']='True'\n",
        "from structured import *\n",
        "from training import *\n",
        "from util import *\n",
        "from sfc_cae import *"
      ],
      "execution_count": 6,
      "outputs": []
    },
    {
      "cell_type": "markdown",
      "metadata": {
        "id": "Izom9X97OtYV"
      },
      "source": [
        "Unzip advection_block data, taking 3 miniutes:"
      ]
    },
    {
      "cell_type": "markdown",
      "metadata": {
        "id": "sj8ywX0resqG"
      },
      "source": [
        "### Load tensors"
      ]
    },
    {
      "cell_type": "code",
      "metadata": {
        "id": "ZObqdWLTvox8"
      },
      "source": [
        "os.chdir(\"..\")"
      ],
      "execution_count": 7,
      "outputs": []
    },
    {
      "cell_type": "code",
      "metadata": {
        "id": "f_sgfjUTesED"
      },
      "source": [
        "DATADIR = 'advection_gaussian_128/output/simulation'\n",
        "simulaion_steps = 40\n",
        "total_num = 500"
      ],
      "execution_count": 8,
      "outputs": []
    },
    {
      "cell_type": "code",
      "metadata": {
        "id": "gV0lxoR5fNZm"
      },
      "source": [
        "# simulaion_steps = 40\n",
        "# full_tensor = load_tensor(DATADIR, np.arange(total_num), simulaion_steps)"
      ],
      "execution_count": 9,
      "outputs": []
    },
    {
      "cell_type": "code",
      "metadata": {
        "id": "symu6v37ffdV"
      },
      "source": [
        "train_ratio = 0.8\n",
        "valid_ratio = 0.1\n",
        "test_ratio = 0.1\n",
        "train_index, valid_index, test_index = index_split(train_ratio, valid_ratio, test_ratio, total_num = total_num)"
      ],
      "execution_count": 10,
      "outputs": []
    },
    {
      "cell_type": "code",
      "metadata": {
        "id": "2gqobquvfkC8"
      },
      "source": [
        "# train_set = full_tensor[train_index - 1]\n",
        "# valid_set = full_tensor[valid_index - 1]\n",
        "# test_set = full_tensor[test_index - 1]"
      ],
      "execution_count": 11,
      "outputs": []
    },
    {
      "cell_type": "markdown",
      "metadata": {
        "id": "6zut4FJU9DgS"
      },
      "source": [
        "### Save tensor if you want to reuse:"
      ]
    },
    {
      "cell_type": "code",
      "metadata": {
        "id": "sCcF2jXQ9CvD"
      },
      "source": [
        "# torch.save(train_set, '/content/gdrive/MyDrive/advection_block/train_tensor_gaussian.pt')\n",
        "# torch.save(valid_set, '/content/gdrive/MyDrive/advection_block/valid_tensor_gaussian.pt')\n",
        "# torch.save(test_set, '/content/gdrive/MyDrive/advection_block/test_tensor_gaussian.pt')"
      ],
      "execution_count": 12,
      "outputs": []
    },
    {
      "cell_type": "markdown",
      "metadata": {
        "id": "WTqnRgbg-FSm"
      },
      "source": [
        "Load tensor"
      ]
    },
    {
      "cell_type": "code",
      "metadata": {
        "id": "z8vv7esu9w90"
      },
      "source": [
        "train_set = torch.load('/content/gdrive/MyDrive/DISSERTATION/MultipleCurves/train_tensor.pt', map_location=torch.device('cpu')).float()\n",
        "valid_set = torch.load('/content/gdrive/MyDrive/DISSERTATION/MultipleCurves/valid_tensor.pt', map_location=torch.device('cpu')).float()\n",
        "test_set = torch.load('/content/gdrive/MyDrive/DISSERTATION/MultipleCurves/test_tensor.pt', map_location=torch.device('cpu')).float()"
      ],
      "execution_count": 13,
      "outputs": []
    },
    {
      "cell_type": "markdown",
      "metadata": {
        "id": "V-6l2HlzjngO"
      },
      "source": [
        "# Structured mesh"
      ]
    },
    {
      "cell_type": "code",
      "metadata": {
        "id": "8_rfV84X_5S6"
      },
      "source": [
        "simulation = run_simulation_advection()\n",
        "def get_simulation_index(num, simulation):\n",
        "    return np.arange(num * (simulation.steps + 1), (num + 1) * (simulation.steps + 1))"
      ],
      "execution_count": 14,
      "outputs": []
    },
    {
      "cell_type": "code",
      "metadata": {
        "id": "y8Pz2FxxvEF0"
      },
      "source": [
        "simulation.full_stage = np.array(test_set[get_simulation_index(17, simulation), :])"
      ],
      "execution_count": 15,
      "outputs": []
    },
    {
      "cell_type": "code",
      "metadata": {
        "id": "klLspLOlkiNB"
      },
      "source": [
        "size = 128\n",
        "batch_size = 64\n",
        "seed = 17\n",
        "valid_batch_size = 1000\n",
        "test_batch_size = 1000"
      ],
      "execution_count": 16,
      "outputs": []
    },
    {
      "cell_type": "code",
      "metadata": {
        "id": "Ikp-cbFIASnE"
      },
      "source": [
        "# space_filling_orderings, invert_space_filling_orderings = get_MFT_RNN_curves_structured(size, 50)"
      ],
      "execution_count": 17,
      "outputs": []
    },
    {
      "cell_type": "code",
      "metadata": {
        "id": "1-5_ozw-3zsF"
      },
      "source": [
        "# import pickle\n",
        "\n",
        "# pickle_out = open(\"sfcz.pickle\",\"wb\")\n",
        "# pickle.dump(space_filling_orderings, pickle_out)\n",
        "# pickle_out.close()\n",
        "\n",
        "# pickle_out = open(\"isfcz.pickle\",\"wb\")\n",
        "# pickle.dump(invert_space_filling_orderings, pickle_out)\n",
        "# pickle_out.close()"
      ],
      "execution_count": 18,
      "outputs": []
    },
    {
      "cell_type": "code",
      "metadata": {
        "id": "LNutFuM_PW2r"
      },
      "source": [
        "import pickle\n",
        "pickle_in = open(\"sfcz.pickle\",\"rb\")\n",
        "space_filling_orderings = pickle.load(pickle_in)\n",
        "\n",
        "pickle_in = open(\"isfcz.pickle\",\"rb\")\n",
        "invert_space_filling_orderings = pickle.load(pickle_in)"
      ],
      "execution_count": 19,
      "outputs": []
    },
    {
      "cell_type": "code",
      "metadata": {
        "id": "_gDLIJS88BDE"
      },
      "source": [
        "nx, ny = (128, 128)\n",
        "x = np.linspace(0, 10, nx)\n",
        "y = np.linspace(0, 10, ny)\n",
        "xv, yv= np.meshgrid(x, y)\n",
        "coords = np.zeros((128*128,3))\n",
        "coords[:,0] = xv.flatten()\n",
        "coords[:,1] = yv.flatten()\n",
        "coords = torch.Tensor(coords)"
      ],
      "execution_count": 20,
      "outputs": []
    },
    {
      "cell_type": "code",
      "metadata": {
        "id": "rAE8AZZuzawh"
      },
      "source": [
        "# coords"
      ],
      "execution_count": 21,
      "outputs": []
    },
    {
      "cell_type": "code",
      "metadata": {
        "id": "dbdRwPcd7u60"
      },
      "source": [
        "# plot_trace_vtu_2D(coords[space_filling_orderings[0]], 20)"
      ],
      "execution_count": 22,
      "outputs": []
    },
    {
      "cell_type": "code",
      "metadata": {
        "id": "rorE83oF198F"
      },
      "source": [
        "train_loader = DataLoader(dataset=train_set, batch_size=batch_size, shuffle=True)\n",
        "valid_loader = DataLoader(dataset=valid_set, batch_size=valid_batch_size, shuffle=True)\n",
        "test_loader = DataLoader(dataset=test_set, batch_size=test_batch_size, shuffle=True)"
      ],
      "execution_count": 23,
      "outputs": []
    },
    {
      "cell_type": "code",
      "metadata": {
        "id": "YXEue8g8zXbO"
      },
      "source": [
        "input_size = size ** 2\n",
        "dimension = 2\n",
        "components = 1\n",
        "structured = True\n",
        "self_concat = 1\n",
        "nearest_neighbouring = False\n",
        "fully_connected = False\n",
        "dims_latent = 200\n",
        "coordsoption = False"
      ],
      "execution_count": 24,
      "outputs": []
    },
    {
      "cell_type": "code",
      "metadata": {
        "id": "cjTNWPA6MjHz"
      },
      "source": [
        "# space_filling_orderings, invert_space_filling_orderings = get_hilbert_curves(128, 1)"
      ],
      "execution_count": 25,
      "outputs": []
    },
    {
      "cell_type": "code",
      "metadata": {
        "id": "LP7lWB-3_Gvt"
      },
      "source": [
        "#custom_structure = [[16384, 16384, 4097, 1025, 257, 68], [1, 12, 4, 4, 8, 16], []]"
      ],
      "execution_count": 26,
      "outputs": []
    },
    {
      "cell_type": "code",
      "metadata": {
        "id": "5QkqohSClUIM"
      },
      "source": [
        "autoencoder = SFC_CAE(input_size,\n",
        "                                  dimension,\n",
        "                                  components,\n",
        "                                  structured,\n",
        "                                  self_concat,\n",
        "                                  nearest_neighbouring,\n",
        "                                  fully_connected,\n",
        "                                  dims_latent,\n",
        "                                  [space_filling_orderings[0]], \n",
        "                                  [invert_space_filling_orderings[0]],\n",
        "                                  coordsoption = coordsoption,\n",
        "                                  coords = coords,\n",
        "                                  smoothinglayer = False)"
      ],
      "execution_count": 27,
      "outputs": []
    },
    {
      "cell_type": "code",
      "metadata": {
        "colab": {
          "base_uri": "https://localhost:8080/",
          "height": 770
        },
        "id": "PrET0eWTbWVe",
        "outputId": "cf106508-6082-4e93-b231-fa5b9c2f7571"
      },
      "source": [
        "autoencoder = train_model(autoencoder, \n",
        "                            train_loader = train_loader,\n",
        "                            valid_loader = valid_loader,\n",
        "                            test_loader = test_loader,\n",
        "                            shufflebatches = True,\n",
        "                            sfcstoshuffle = space_filling_orderings[:40],\n",
        "                            isfcstoshuffle = invert_space_filling_orderings[:40],\n",
        "                            n_epochs = 50, \n",
        "                            lr = 2e-5, \n",
        "                            seed = seed,\n",
        "                            visualize = True\n",
        "                            )"
      ],
      "execution_count": null,
      "outputs": [
        {
          "output_type": "display_data",
          "data": {
            "image/png": "[encoded data removed]",
            "text/plain": [
              "<Figure size 864x576 with 2 Axes>"
            ]
          },
          "metadata": {
            "tags": [],
            "needs_background": "light"
          }
        },
        {
          "output_type": "stream",
          "text": [
            "log loss\n",
            "\ttraining         \t (min:    0.062, max:    0.062, cur:    0.062)\n",
            "\tvalidation       \t (min:    0.062, max:    0.062, cur:    0.062)\n",
            "log loss (relative)\n",
            "\ttraining         \t (min:      inf, max:      inf, cur:      inf)\n",
            "\tvalidation       \t (min:      inf, max:      inf, cur:      inf)\n",
            "Epoch:  19 | train loss: 6.249214e-02 | valid loss: 6.249810e-02 \n",
            "      \t| train loss (relative): inf | valid loss (relative): inf \n",
            "Epoch 19 use: 3.26 second.\n",
            "\n",
            "epoch 20 starting......\n"
          ],
          "name": "stdout"
        }
      ]
    },
    {
      "cell_type": "code",
      "metadata": {
        "id": "r9K23LPlxWLi"
      },
      "source": [
        "autoencoder = train_model(autoencoder, \n",
        "                            train_loader = train_loader,\n",
        "                            valid_loader = valid_loader,\n",
        "                            test_loader = test_loader,\n",
        "                            shufflebatches = True,\n",
        "                            sfcstoshuffle = space_filling_orderings[:40],\n",
        "                            isfcstoshuffle = invert_space_filling_orderings[:40],\n",
        "                            n_epochs = 50, \n",
        "                            lr = 1e-5, \n",
        "                            seed = seed,\n",
        "                            visualize = True\n",
        "                            )"
      ],
      "execution_count": null,
      "outputs": []
    },
    {
      "cell_type": "code",
      "metadata": {
        "id": "7pDAwuiUZBIP"
      },
      "source": [
        "autoencoder.changesfcs([space_filling_orderings[40]],[invert_space_filling_orderings[40]])\n",
        "test_out = autoencoder.to('cuda')(test_set.to(\"cuda\"))"
      ],
      "execution_count": null,
      "outputs": []
    },
    {
      "cell_type": "code",
      "metadata": {
        "id": "xoJAi2wKu9PR"
      },
      "source": [
        "torch.save(autoencoder.state_dict(), \"Autoencoder-\"+ str(autoencoder.encoder.conv_size[-1]*autoencoder.encoder.channels[-1]) + \"-error7-03-shuffled.w\")"
      ],
      "execution_count": null,
      "outputs": []
    },
    {
      "cell_type": "code",
      "metadata": {
        "id": "42guRO4jm_Ez"
      },
      "source": [
        "# simulation.full_stage = np.array(test_set[get_simulation_index(20, simulation), :])\n",
        "# anim = simulation.generate_anime()\n",
        "# anim.save('OG20.mp4')"
      ],
      "execution_count": null,
      "outputs": []
    },
    {
      "cell_type": "code",
      "metadata": {
        "id": "lbvH_knMvwVe"
      },
      "source": [
        "for j in (20,30):\n",
        "  for i in range(40, 45):\n",
        "    autoencoder.changesfcs([space_filling_orderings[i]],[invert_space_filling_orderings[i]])\n",
        "    simulation.full_stage = test_out[get_simulation_index(j, simulation), :].cpu().detach().numpy()\n",
        "    anim = simulation.generate_anime()\n",
        "    stringy = '%s' % float('%.2g' % nn.MSELoss()(test_set, test_out.cpu()).item())\n",
        "    anim.save(\"reconstructed_batchshuffle_ldims\"+ str(autoencoder.encoder.conv_size[-1]*autoencoder.encoder.channels[-1]) +\"_curven_\"+ str(i) +\"error_\"+ stringy + \"_sim\"+str(j)+\".mp4\")"
      ],
      "execution_count": null,
      "outputs": []
    },
    {
      "cell_type": "code",
      "metadata": {
        "id": "1G9Sc94mugkS"
      },
      "source": [
        "import time\n",
        "time.sleep(50000)"
      ],
      "execution_count": null,
      "outputs": []
    },
    {
      "cell_type": "markdown",
      "metadata": {
        "id": "wSoW9nfOujMF"
      },
      "source": [
        "## Get the Flow Past Cylinder data (three pieces)\n",
        "1. DG_Mesh_old (1000 snapshots)\n",
        "2. DG_Mesh_new (2000 snapshots)\n",
        "3. CG_Mesh_new (2000 snapshots)"
      ]
    },
    {
      "cell_type": "code",
      "metadata": {
        "id": "P9o9KfhUJiH4"
      },
      "source": [
        "function ConnectButton(){\n",
        "    console.log(\"Connect pushed\"); \n",
        "    document.querySelector(\"#top-toolbar > colab-connect-button\").shadowRoot.querySelector(\"#connect\").click() \n",
        "}\n",
        "setInterval(ConnectButton,60000);"
      ],
      "execution_count": null,
      "outputs": []
    },
    {
      "cell_type": "code",
      "metadata": {
        "id": "jcUyDEuXUS7m"
      },
      "source": [
        "!bash ./get_FPC_data.sh"
      ],
      "execution_count": null,
      "outputs": []
    },
    {
      "cell_type": "markdown",
      "metadata": {
        "id": "2uUae0wxu6s-"
      },
      "source": [
        "### specify your own {DATA_DIR} of vtu files here."
      ]
    },
    {
      "cell_type": "code",
      "metadata": {
        "id": "q5liu8GegVnP"
      },
      "source": [
        "# data_path = 'FPC_Re3900_DG_old/'\n",
        "data_path = 'FPC_Re3900_DG_new/'\n",
        "# data_path = 'FPC_Re3900_CG_new/'"
      ],
      "execution_count": null,
      "outputs": []
    },
    {
      "cell_type": "code",
      "metadata": {
        "id": "4YY0Nh68wbXE"
      },
      "source": [
        "!cd {data_path} && ls -l |grep \"^-\"|wc -l"
      ],
      "execution_count": null,
      "outputs": []
    },
    {
      "cell_type": "code",
      "metadata": {
        "id": "4e86ipaRVioU"
      },
      "source": [
        "full_tensor, coords = read_in_files(data_path, vtu_field='Velocity')"
      ],
      "execution_count": null,
      "outputs": []
    },
    {
      "cell_type": "markdown",
      "metadata": {
        "id": "1PxP4LlQO8c5"
      },
      "source": [
        "### Save the full tensor in your `google_drive` for further use."
      ]
    },
    {
      "cell_type": "code",
      "metadata": {
        "id": "Y3EjoOmgO6f9"
      },
      "source": [
        "# full_tensor = torch.from_numpy(full_tensor).float()\n",
        "# torch.save(full_tensor, '/content/gdrive/MyDrive/FPC_new_velocity.pt')\n",
        "# torch.save(coords, '/content/gdrive/MyDrive/FPC_new_mesh.pt')"
      ],
      "execution_count": null,
      "outputs": []
    },
    {
      "cell_type": "code",
      "metadata": {
        "id": "vWh7BX5GjJgt"
      },
      "source": [
        "# full_tensor = torch.load('/content/gdrive/MyDrive/FPC_old_velocity.pt').float()\n",
        "# old_coords = torch.load('/content/gdrive/MyDrive/FPC_old_mesh.pt')"
      ],
      "execution_count": null,
      "outputs": []
    },
    {
      "cell_type": "markdown",
      "metadata": {
        "id": "EkaBK5xeHKVJ"
      },
      "source": [
        ""
      ]
    },
    {
      "cell_type": "code",
      "metadata": {
        "id": "4i8J4szsXzZd"
      },
      "source": [
        "full_tensor = torch.load('/content/gdrive/MyDrive/FPC_new_velocity.pt')\n",
        "coords = torch.load('/content/gdrive/MyDrive/FPC_new_mesh.pt')"
      ],
      "execution_count": null,
      "outputs": []
    },
    {
      "cell_type": "markdown",
      "metadata": {
        "id": "rl0obICyPGiM"
      },
      "source": [
        "### Generate space-filling-curves from `vtu` files"
      ]
    },
    {
      "cell_type": "code",
      "metadata": {
        "id": "Q3q2AkVJkTQ-"
      },
      "source": [
        "# specify space-filling curve numbers\n",
        "ncurves = 2\n",
        "space_filling_orderings, invert_space_filling_orderings = get_sfc_curves_from_coords(coords, ncurves)"
      ],
      "execution_count": null,
      "outputs": []
    },
    {
      "cell_type": "code",
      "metadata": {
        "id": "hvF8pqqedWZp"
      },
      "source": [
        "#visualize the space-filling curve\n",
        "plot_trace_vtu_2D(coords[space_filling_orderings[0]], 15)"
      ],
      "execution_count": null,
      "outputs": []
    },
    {
      "cell_type": "code",
      "metadata": {
        "id": "d4odlOJDZGUc"
      },
      "source": [
        "train_ratio = 0.8\n",
        "valid_ratio = 0.1\n",
        "test_ratio = 0.1\n",
        "train_index, valid_index, test_index = index_split(train_ratio, valid_ratio, test_ratio, total_num = full_tensor.shape[0])"
      ],
      "execution_count": null,
      "outputs": []
    },
    {
      "cell_type": "code",
      "metadata": {
        "id": "FowLzhsSln_C"
      },
      "source": [
        "# full_tensor_nor, tk, tb = normalize_tensor(full_tensor)"
      ],
      "execution_count": null,
      "outputs": []
    },
    {
      "cell_type": "code",
      "metadata": {
        "id": "5hNY6X17ZLHX"
      },
      "source": [
        "train_set = full_tensor[train_index - 1]\n",
        "valid_set = full_tensor[valid_index - 1]\n",
        "test_set = full_tensor[test_index - 1]"
      ],
      "execution_count": null,
      "outputs": []
    },
    {
      "cell_type": "code",
      "metadata": {
        "id": "RWqKe9DcAP25"
      },
      "source": [
        "#normalization\n",
        "train_set, train_mean, train_std = normalize_tensor(train_set, lower = 0, upper = 1)\n",
        "valid_set, valid_mean, valid_std = normalize_tensor(valid_set, lower = 0, upper = 1)\n",
        "test_set, test_mean, test_std = normalize_tensor(test_set, lower = 0, upper = 1)"
      ],
      "execution_count": null,
      "outputs": []
    },
    {
      "cell_type": "code",
      "metadata": {
        "id": "I2ZYZmtiw64i"
      },
      "source": [
        "train_set.shape"
      ],
      "execution_count": null,
      "outputs": []
    },
    {
      "cell_type": "code",
      "metadata": {
        "id": "jRpF40heZjKa"
      },
      "source": [
        "# # random indexing test\n",
        "# rng = np.random.default_rng()\n",
        "# space_filling_orderings = [rng.permutation(np.arange(full_tensor.shape[1])), rng.permutation(np.arange(full_tensor.shape[1]))]\n",
        "# invert_space_filling_orderings = [rng.permutation(np.arange(full_tensor.shape[1])), rng.permutation(np.arange(full_tensor.shape[1]))]"
      ],
      "execution_count": null,
      "outputs": []
    },
    {
      "cell_type": "code",
      "metadata": {
        "id": "TAAalUJLh7o_"
      },
      "source": [
        "autoencoder = SFC_CAE(input_size,\n",
        "                      dimension,\n",
        "                      components,\n",
        "                      structured,\n",
        "                      self_concat,\n",
        "                      nearest_neighbouring,\n",
        "                      dims_latent,\n",
        "                      space_filling_orderings, \n",
        "                      invert_space_filling_orderings)"
      ],
      "execution_count": null,
      "outputs": []
    },
    {
      "cell_type": "code",
      "metadata": {
        "id": "mV_I8qXKi0bd"
      },
      "source": [
        "batch_size = 64\n",
        "seed = 32\n",
        "valid_batch_size = 1000"
      ],
      "execution_count": null,
      "outputs": []
    },
    {
      "cell_type": "code",
      "metadata": {
        "id": "jStujwHSjKH1"
      },
      "source": [
        "train_loader = DataLoader(dataset=train_set, batch_size=batch_size, shuffle=True)\n",
        "valid_loader = DataLoader(dataset=valid_set, batch_size=valid_batch_size, shuffle=True)"
      ],
      "execution_count": null,
      "outputs": []
    },
    {
      "cell_type": "code",
      "metadata": {
        "id": "78fSI2TAhyml"
      },
      "source": [
        "input_size = full_tensor.shape[1]\n",
        "dimension = 2\n",
        "if full_tensor.ndim > 2: components = full_tensor.shape[-1]\n",
        "else: components = 1\n",
        "structured = True\n",
        "self_concat = 1\n",
        "nearest_neighbouring = True\n",
        "dims_latent = 1"
      ],
      "execution_count": null,
      "outputs": []
    },
    {
      "cell_type": "code",
      "metadata": {
        "id": "oqE4z4TtjK1D"
      },
      "source": [
        "autoencoder = train_model(autoencoder, \n",
        "                          train_loader = train_loader,\n",
        "                          valid_loader = valid_loader,\n",
        "                          n_epochs =1000, \n",
        "                          lr = 1e-4,\n",
        "                          criterion_type = 'MSE',\n",
        "                          seed = seed)"
      ],
      "execution_count": null,
      "outputs": []
    },
    {
      "cell_type": "markdown",
      "metadata": {
        "id": "dvcSLmHG1TIT"
      },
      "source": [
        "## Get the Slugflow data (16 snapshots)"
      ]
    },
    {
      "cell_type": "code",
      "metadata": {
        "id": "U3pcnyvO1aHk"
      },
      "source": [
        "!bash get_data_slugflow.sh"
      ],
      "execution_count": null,
      "outputs": []
    },
    {
      "cell_type": "code",
      "metadata": {
        "id": "1KA4aexg2ARv"
      },
      "source": [
        "data_path = 'slugflow_sixteen/'"
      ],
      "execution_count": null,
      "outputs": []
    },
    {
      "cell_type": "code",
      "metadata": {
        "id": "1lyeaqoSJQJj"
      },
      "source": [
        "files = glob.glob(data_path + '*')\n",
        "vtu_fields = ['Component1::ComponentMassFractionPhase1','phase1::Velocity']"
      ],
      "execution_count": null,
      "outputs": []
    },
    {
      "cell_type": "code",
      "metadata": {
        "id": "PXkdPVKg57dD"
      },
      "source": [
        "# vtu_file = meshio.read('./slugflow_sixteen/slug_255_exp_projected_compressed_10.vtu')\n",
        "data = []\n",
        "for i, file in enumerate(files):\n",
        "    vtu_file = meshio.read(file)\n",
        "    print('loaded ' + file)\n",
        "    for j in range(len(vtu_fields)):\n",
        "        vtu_field = vtu_fields[j]\n",
        "        field = vtu_file.point_data[vtu_field]\n",
        "        if field.ndim == 1: field = field.reshape(field.shape[0], 1)\n",
        "        if j==0: data.append(field)\n",
        "        else: data[i] = np.hstack((data[i], field))\n",
        "tensor = torch.from_numpy(np.array(data)).float()"
      ],
      "execution_count": null,
      "outputs": []
    },
    {
      "cell_type": "code",
      "metadata": {
        "id": "WTV4GygeLdNR"
      },
      "source": [
        "# torch.save(tensor, '/content/gdrive/MyDrive/slugflow_16.pt')\n",
        "full_tensor = torch.load('/content/gdrive/MyDrive/slugflow_16.pt')"
      ],
      "execution_count": null,
      "outputs": []
    },
    {
      "cell_type": "code",
      "metadata": {
        "id": "kjTthSSX1gGm"
      },
      "source": [
        "train_set = full_tensor\n",
        "valid_set = full_tensor"
      ],
      "execution_count": null,
      "outputs": []
    },
    {
      "cell_type": "code",
      "metadata": {
        "id": "aMvpLuivqFTa"
      },
      "source": [
        "#normalization\n",
        "train_set, train_mean, train_std = normalize_tensor(train_set, lower = 0, upper = 1)\n",
        "valid_set, valid_mean, valid_std = normalize_tensor(valid_set, lower = 0, upper = 1)"
      ],
      "execution_count": null,
      "outputs": []
    },
    {
      "cell_type": "code",
      "metadata": {
        "id": "u7_gBs4EbS-U"
      },
      "source": [
        "train_set.shape"
      ],
      "execution_count": null,
      "outputs": []
    },
    {
      "cell_type": "code",
      "metadata": {
        "id": "4UkC71kXMJaf"
      },
      "source": [
        "input_size = full_tensor.shape[1]\n",
        "dimension = 3\n",
        "components = full_tensor.shape[-1]\n",
        "structured = False\n",
        "self_concat = 1\n",
        "nearest_neighbouring = True\n",
        "dims_latent = 32"
      ],
      "execution_count": null,
      "outputs": []
    },
    {
      "cell_type": "code",
      "metadata": {
        "id": "VRbAham6MZr_"
      },
      "source": [
        "# random indexing test\n",
        "ncurve = 1\n",
        "space_filling_orderings = []\n",
        "invert_space_filling_orderings = []\n",
        "rng = np.random.default_rng()\n",
        "for i in range(ncurve):\n",
        "    space_filling_orderings.append(rng.permutation(np.arange(full_tensor.shape[1])))\n",
        "    invert_space_filling_orderings.append(rng.permutation(np.arange(full_tensor.shape[1])))"
      ],
      "execution_count": null,
      "outputs": []
    },
    {
      "cell_type": "code",
      "metadata": {
        "id": "f-iZL3m2Me8f"
      },
      "source": [
        "autoencoder = SFC_CAE(input_size,\n",
        "                      dimension,\n",
        "                      components,\n",
        "                      structured,\n",
        "                      self_concat,\n",
        "                      nearest_neighbouring,\n",
        "                      dims_latent,\n",
        "                      space_filling_orderings, \n",
        "                      invert_space_filling_orderings)"
      ],
      "execution_count": null,
      "outputs": []
    },
    {
      "cell_type": "code",
      "metadata": {
        "id": "1zKzbrtqNEjx"
      },
      "source": [
        "batch_size = 8\n",
        "seed = 31\n",
        "valid_batch_size = valid_set.shape[0]"
      ],
      "execution_count": null,
      "outputs": []
    },
    {
      "cell_type": "code",
      "metadata": {
        "id": "u5j76bNjNOsZ"
      },
      "source": [
        "train_loader = DataLoader(dataset=train_set, batch_size=batch_size, shuffle=True)\n",
        "valid_loader = DataLoader(dataset=valid_set, batch_size=valid_batch_size, shuffle=True)"
      ],
      "execution_count": null,
      "outputs": []
    },
    {
      "cell_type": "code",
      "metadata": {
        "id": "bXW0jv8JNPlm"
      },
      "source": [
        "autoencoder = train_model(autoencoder, \n",
        "                          train_loader = train_loader,\n",
        "                          valid_loader = valid_loader,\n",
        "                          n_epochs =200, \n",
        "                          lr = 1e-4,\n",
        "                          criterion_type = 'MSE',\n",
        "                          seed = seed)"
      ],
      "execution_count": null,
      "outputs": []
    },
    {
      "cell_type": "code",
      "metadata": {
        "id": "pb7HEETmNTJF"
      },
      "source": [
        "torch.cuda.empty_cache()"
      ],
      "execution_count": null,
      "outputs": []
    },
    {
      "cell_type": "code",
      "metadata": {
        "id": "RWu7shTZNsED"
      },
      "source": [
        ""
      ],
      "execution_count": null,
      "outputs": []
    }
  ]
}