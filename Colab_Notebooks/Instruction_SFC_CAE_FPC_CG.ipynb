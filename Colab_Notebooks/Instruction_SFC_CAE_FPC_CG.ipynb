{
  "nbformat": 4,
  "nbformat_minor": 0,
  "metadata": {
    "accelerator": "GPU",
    "colab": {
      "name": "Instruction-SFC-CAE-FPC-CG.ipynb",
      "provenance": [],
      "collapsed_sections": [],
      "machine_shape": "hm"
    },
    "kernelspec": {
      "display_name": "Python 3",
      "name": "python3"
    },
    "language_info": {
      "name": "python"
    }
  },
  "cells": [
    {
      "cell_type": "code",
      "metadata": {
        "id": "3mBN38-pzJRP",
        "colab": {
          "base_uri": "https://localhost:8080/"
        },
        "outputId": "5dd16e37-56e8-4d79-e659-2d484cf0fe64"
      },
      "source": [
        "from google.colab import drive\n",
        "drive.mount('/content/gdrive/')"
      ],
      "execution_count": 1,
      "outputs": [
        {
          "output_type": "stream",
          "text": [
            "Mounted at /content/gdrive/\n"
          ],
          "name": "stdout"
        }
      ]
    },
    {
      "cell_type": "code",
      "metadata": {
        "colab": {
          "base_uri": "https://localhost:8080/"
        },
        "id": "1hSb7WeDzKL7",
        "outputId": "3a436192-83a9-4ab4-db14-b0257e5c1de5"
      },
      "source": [
        "!git clone https://github.com/acse-jy220/SFC-CAE-Ready-to-use"
      ],
      "execution_count": 2,
      "outputs": [
        {
          "output_type": "stream",
          "text": [
            "Cloning into 'SFC-CAE-Ready-to-use'...\n",
            "remote: Enumerating objects: 1393, done.\u001b[K\n",
            "remote: Counting objects: 100% (490/490), done.\u001b[K\n",
            "remote: Compressing objects: 100% (282/282), done.\u001b[K\n",
            "remote: Total 1393 (delta 296), reused 349 (delta 160), pack-reused 903\u001b[K\n",
            "Receiving objects: 100% (1393/1393), 52.74 MiB | 29.49 MiB/s, done.\n",
            "Resolving deltas: 100% (869/869), done.\n"
          ],
          "name": "stdout"
        }
      ]
    },
    {
      "cell_type": "code",
      "metadata": {
        "colab": {
          "base_uri": "https://localhost:8080/"
        },
        "id": "vB2IDPJBzat-",
        "outputId": "a707e727-1b6b-42a5-b080-b639fce27e37"
      },
      "source": [
        "%cd SFC-CAE-Ready-to-use"
      ],
      "execution_count": 3,
      "outputs": [
        {
          "output_type": "stream",
          "text": [
            "/content/SFC-CAE-Ready-to-use\n"
          ],
          "name": "stdout"
        }
      ]
    },
    {
      "cell_type": "code",
      "metadata": {
        "colab": {
          "base_uri": "https://localhost:8080/"
        },
        "id": "sB2BO1dtX_js",
        "outputId": "091684db-a4a6-4fea-cfb7-b4ae255836d7"
      },
      "source": [
        "!git pull"
      ],
      "execution_count": 4,
      "outputs": [
        {
          "output_type": "stream",
          "text": [
            "Already up to date.\n"
          ],
          "name": "stdout"
        }
      ]
    },
    {
      "cell_type": "markdown",
      "metadata": {
        "id": "psNEoVIXtirz"
      },
      "source": [
        "### Install dependencies"
      ]
    },
    {
      "cell_type": "code",
      "metadata": {
        "colab": {
          "base_uri": "https://localhost:8080/"
        },
        "id": "mCAqgswwUqiR",
        "outputId": "9354b808-b902-4e3c-8db2-a8d2b22a7d55"
      },
      "source": [
        "!pip install -e ."
      ],
      "execution_count": 5,
      "outputs": [
        {
          "output_type": "stream",
          "text": [
            "Obtaining file:///content/SFC-CAE-Ready-to-use\n",
            "Requirement already satisfied: numpy>=1.19.5 in /usr/local/lib/python3.7/dist-packages (from SFC-CAE==0.0.0) (1.19.5)\n",
            "Requirement already satisfied: scipy>=1.4.1 in /usr/local/lib/python3.7/dist-packages (from SFC-CAE==0.0.0) (1.4.1)\n",
            "Requirement already satisfied: matplotlib~=3.2.2 in /usr/local/lib/python3.7/dist-packages (from SFC-CAE==0.0.0) (3.2.2)\n",
            "Collecting vtk>=9.0\n",
            "  Downloading vtk-9.0.3-cp37-cp37m-manylinux_2_17_x86_64.manylinux2014_x86_64.whl (59.5 MB)\n",
            "\u001b[K     |████████████████████████████████| 59.5 MB 40 kB/s \n",
            "\u001b[?25hCollecting livelossplot~=0.5.4\n",
            "  Downloading livelossplot-0.5.4-py3-none-any.whl (22 kB)\n",
            "Collecting meshio[all]\n",
            "  Downloading meshio-5.0.0-py3-none-any.whl (163 kB)\n",
            "\u001b[K     |████████████████████████████████| 163 kB 58.6 MB/s \n",
            "\u001b[?25hCollecting cmocean~=2.0\n",
            "  Downloading cmocean-2.0-py3-none-any.whl (223 kB)\n",
            "\u001b[K     |████████████████████████████████| 223 kB 64.8 MB/s \n",
            "\u001b[?25hRequirement already satisfied: torch>=1.8.0 in /usr/local/lib/python3.7/dist-packages (from SFC-CAE==0.0.0) (1.9.0+cu102)\n",
            "Collecting dash~=1.21.0\n",
            "  Downloading dash-1.21.0.tar.gz (1.1 MB)\n",
            "\u001b[K     |████████████████████████████████| 1.1 MB 53.7 MB/s \n",
            "\u001b[?25hRequirement already satisfied: pytest>=3.6.4 in /usr/local/lib/python3.7/dist-packages (from SFC-CAE==0.0.0) (3.6.4)\n",
            "Requirement already satisfied: progressbar2~=3.38.0 in /usr/local/lib/python3.7/dist-packages (from SFC-CAE==0.0.0) (3.38.0)\n",
            "Requirement already satisfied: Flask>=1.0.4 in /usr/local/lib/python3.7/dist-packages (from dash~=1.21.0->SFC-CAE==0.0.0) (1.1.4)\n",
            "Collecting flask-compress\n",
            "  Downloading Flask_Compress-1.10.1-py3-none-any.whl (7.9 kB)\n",
            "Requirement already satisfied: plotly in /usr/local/lib/python3.7/dist-packages (from dash~=1.21.0->SFC-CAE==0.0.0) (4.4.1)\n",
            "Collecting dash-core-components==1.17.1\n",
            "  Downloading dash_core_components-1.17.1.tar.gz (3.7 MB)\n",
            "\u001b[K     |████████████████████████████████| 3.7 MB 52.3 MB/s \n",
            "\u001b[?25hCollecting dash-html-components==1.1.4\n",
            "  Downloading dash_html_components-1.1.4.tar.gz (83 kB)\n",
            "\u001b[K     |████████████████████████████████| 83 kB 2.3 MB/s \n",
            "\u001b[?25hCollecting dash-table==4.12.0\n",
            "  Downloading dash_table-4.12.0.tar.gz (1.8 MB)\n",
            "\u001b[K     |████████████████████████████████| 1.8 MB 51.7 MB/s \n",
            "\u001b[?25hRequirement already satisfied: future in /usr/local/lib/python3.7/dist-packages (from dash~=1.21.0->SFC-CAE==0.0.0) (0.16.0)\n",
            "Requirement already satisfied: Jinja2<3.0,>=2.10.1 in /usr/local/lib/python3.7/dist-packages (from Flask>=1.0.4->dash~=1.21.0->SFC-CAE==0.0.0) (2.11.3)\n",
            "Requirement already satisfied: Werkzeug<2.0,>=0.15 in /usr/local/lib/python3.7/dist-packages (from Flask>=1.0.4->dash~=1.21.0->SFC-CAE==0.0.0) (1.0.1)\n",
            "Requirement already satisfied: itsdangerous<2.0,>=0.24 in /usr/local/lib/python3.7/dist-packages (from Flask>=1.0.4->dash~=1.21.0->SFC-CAE==0.0.0) (1.1.0)\n",
            "Requirement already satisfied: click<8.0,>=5.1 in /usr/local/lib/python3.7/dist-packages (from Flask>=1.0.4->dash~=1.21.0->SFC-CAE==0.0.0) (7.1.2)\n",
            "Requirement already satisfied: MarkupSafe>=0.23 in /usr/local/lib/python3.7/dist-packages (from Jinja2<3.0,>=2.10.1->Flask>=1.0.4->dash~=1.21.0->SFC-CAE==0.0.0) (2.0.1)\n",
            "Requirement already satisfied: bokeh in /usr/local/lib/python3.7/dist-packages (from livelossplot~=0.5.4->SFC-CAE==0.0.0) (2.3.3)\n",
            "Requirement already satisfied: ipython in /usr/local/lib/python3.7/dist-packages (from livelossplot~=0.5.4->SFC-CAE==0.0.0) (5.5.0)\n",
            "Requirement already satisfied: python-dateutil>=2.1 in /usr/local/lib/python3.7/dist-packages (from matplotlib~=3.2.2->SFC-CAE==0.0.0) (2.8.2)\n",
            "Requirement already satisfied: kiwisolver>=1.0.1 in /usr/local/lib/python3.7/dist-packages (from matplotlib~=3.2.2->SFC-CAE==0.0.0) (1.3.1)\n",
            "Requirement already satisfied: cycler>=0.10 in /usr/local/lib/python3.7/dist-packages (from matplotlib~=3.2.2->SFC-CAE==0.0.0) (0.10.0)\n",
            "Requirement already satisfied: pyparsing!=2.0.4,!=2.1.2,!=2.1.6,>=2.0.1 in /usr/local/lib/python3.7/dist-packages (from matplotlib~=3.2.2->SFC-CAE==0.0.0) (2.4.7)\n",
            "Requirement already satisfied: six in /usr/local/lib/python3.7/dist-packages (from cycler>=0.10->matplotlib~=3.2.2->SFC-CAE==0.0.0) (1.15.0)\n",
            "Requirement already satisfied: python-utils>=2.3.0 in /usr/local/lib/python3.7/dist-packages (from progressbar2~=3.38.0->SFC-CAE==0.0.0) (2.5.6)\n",
            "Requirement already satisfied: py>=1.5.0 in /usr/local/lib/python3.7/dist-packages (from pytest>=3.6.4->SFC-CAE==0.0.0) (1.10.0)\n",
            "Requirement already satisfied: atomicwrites>=1.0 in /usr/local/lib/python3.7/dist-packages (from pytest>=3.6.4->SFC-CAE==0.0.0) (1.4.0)\n",
            "Requirement already satisfied: pluggy<0.8,>=0.5 in /usr/local/lib/python3.7/dist-packages (from pytest>=3.6.4->SFC-CAE==0.0.0) (0.7.1)\n",
            "Requirement already satisfied: attrs>=17.4.0 in /usr/local/lib/python3.7/dist-packages (from pytest>=3.6.4->SFC-CAE==0.0.0) (21.2.0)\n",
            "Requirement already satisfied: more-itertools>=4.0.0 in /usr/local/lib/python3.7/dist-packages (from pytest>=3.6.4->SFC-CAE==0.0.0) (8.8.0)\n",
            "Requirement already satisfied: setuptools in /usr/local/lib/python3.7/dist-packages (from pytest>=3.6.4->SFC-CAE==0.0.0) (57.2.0)\n",
            "Requirement already satisfied: typing-extensions in /usr/local/lib/python3.7/dist-packages (from torch>=1.8.0->SFC-CAE==0.0.0) (3.7.4.3)\n",
            "Collecting autobahn>=17.7.1\n",
            "  Downloading autobahn-21.3.1-py2.py3-none-any.whl (495 kB)\n",
            "\u001b[K     |████████████████████████████████| 495 kB 52.2 MB/s \n",
            "\u001b[?25hCollecting wslink>=0.1.3\n",
            "  Downloading wslink-1.0.5-py3-none-any.whl (20 kB)\n",
            "Collecting Twisted>=17.5.0\n",
            "  Downloading Twisted-21.7.0-py3-none-any.whl (3.1 MB)\n",
            "\u001b[K     |████████████████████████████████| 3.1 MB 47.1 MB/s \n",
            "\u001b[?25hCollecting txaio>=21.2.1\n",
            "  Downloading txaio-21.2.1-py2.py3-none-any.whl (30 kB)\n",
            "Collecting cryptography>=3.4.6\n",
            "  Downloading cryptography-3.4.7-cp36-abi3-manylinux2014_x86_64.whl (3.2 MB)\n",
            "\u001b[K     |████████████████████████████████| 3.2 MB 48.3 MB/s \n",
            "\u001b[?25hCollecting hyperlink>=21.0.0\n",
            "  Downloading hyperlink-21.0.0-py2.py3-none-any.whl (74 kB)\n",
            "\u001b[K     |████████████████████████████████| 74 kB 3.1 MB/s \n",
            "\u001b[?25hRequirement already satisfied: cffi>=1.12 in /usr/local/lib/python3.7/dist-packages (from cryptography>=3.4.6->autobahn>=17.7.1->vtk>=9.0->SFC-CAE==0.0.0) (1.14.6)\n",
            "Requirement already satisfied: pycparser in /usr/local/lib/python3.7/dist-packages (from cffi>=1.12->cryptography>=3.4.6->autobahn>=17.7.1->vtk>=9.0->SFC-CAE==0.0.0) (2.20)\n",
            "Requirement already satisfied: idna>=2.5 in /usr/local/lib/python3.7/dist-packages (from hyperlink>=21.0.0->autobahn>=17.7.1->vtk>=9.0->SFC-CAE==0.0.0) (2.10)\n",
            "Collecting zope.interface>=4.4.2\n",
            "  Downloading zope.interface-5.4.0-cp37-cp37m-manylinux2010_x86_64.whl (251 kB)\n",
            "\u001b[K     |████████████████████████████████| 251 kB 63.6 MB/s \n",
            "\u001b[?25hCollecting incremental>=21.3.0\n",
            "  Downloading incremental-21.3.0-py2.py3-none-any.whl (15 kB)\n",
            "Collecting constantly>=15.1\n",
            "  Downloading constantly-15.1.0-py2.py3-none-any.whl (7.9 kB)\n",
            "Collecting Automat>=0.8.0\n",
            "  Downloading Automat-20.2.0-py2.py3-none-any.whl (31 kB)\n",
            "Collecting aiohttp\n",
            "  Downloading aiohttp-3.7.4.post0-cp37-cp37m-manylinux2014_x86_64.whl (1.3 MB)\n",
            "\u001b[K     |████████████████████████████████| 1.3 MB 55.3 MB/s \n",
            "\u001b[?25hRequirement already satisfied: chardet<5.0,>=2.0 in /usr/local/lib/python3.7/dist-packages (from aiohttp->wslink>=0.1.3->vtk>=9.0->SFC-CAE==0.0.0) (3.0.4)\n",
            "Collecting async-timeout<4.0,>=3.0\n",
            "  Downloading async_timeout-3.0.1-py3-none-any.whl (8.2 kB)\n",
            "Collecting multidict<7.0,>=4.5\n",
            "  Downloading multidict-5.1.0-cp37-cp37m-manylinux2014_x86_64.whl (142 kB)\n",
            "\u001b[K     |████████████████████████████████| 142 kB 59.7 MB/s \n",
            "\u001b[?25hCollecting yarl<2.0,>=1.0\n",
            "  Downloading yarl-1.6.3-cp37-cp37m-manylinux2014_x86_64.whl (294 kB)\n",
            "\u001b[K     |████████████████████████████████| 294 kB 61.9 MB/s \n",
            "\u001b[?25hRequirement already satisfied: pillow>=7.1.0 in /usr/local/lib/python3.7/dist-packages (from bokeh->livelossplot~=0.5.4->SFC-CAE==0.0.0) (7.1.2)\n",
            "Requirement already satisfied: tornado>=5.1 in /usr/local/lib/python3.7/dist-packages (from bokeh->livelossplot~=0.5.4->SFC-CAE==0.0.0) (5.1.1)\n",
            "Requirement already satisfied: packaging>=16.8 in /usr/local/lib/python3.7/dist-packages (from bokeh->livelossplot~=0.5.4->SFC-CAE==0.0.0) (21.0)\n",
            "Requirement already satisfied: PyYAML>=3.10 in /usr/local/lib/python3.7/dist-packages (from bokeh->livelossplot~=0.5.4->SFC-CAE==0.0.0) (3.13)\n",
            "Collecting brotli\n",
            "  Downloading Brotli-1.0.9-cp37-cp37m-manylinux1_x86_64.whl (357 kB)\n",
            "\u001b[K     |████████████████████████████████| 357 kB 62.0 MB/s \n",
            "\u001b[?25hRequirement already satisfied: traitlets>=4.2 in /usr/local/lib/python3.7/dist-packages (from ipython->livelossplot~=0.5.4->SFC-CAE==0.0.0) (5.0.5)\n",
            "Requirement already satisfied: prompt-toolkit<2.0.0,>=1.0.4 in /usr/local/lib/python3.7/dist-packages (from ipython->livelossplot~=0.5.4->SFC-CAE==0.0.0) (1.0.18)\n",
            "Requirement already satisfied: simplegeneric>0.8 in /usr/local/lib/python3.7/dist-packages (from ipython->livelossplot~=0.5.4->SFC-CAE==0.0.0) (0.8.1)\n",
            "Requirement already satisfied: decorator in /usr/local/lib/python3.7/dist-packages (from ipython->livelossplot~=0.5.4->SFC-CAE==0.0.0) (4.4.2)\n",
            "Requirement already satisfied: pickleshare in /usr/local/lib/python3.7/dist-packages (from ipython->livelossplot~=0.5.4->SFC-CAE==0.0.0) (0.7.5)\n",
            "Requirement already satisfied: pexpect in /usr/local/lib/python3.7/dist-packages (from ipython->livelossplot~=0.5.4->SFC-CAE==0.0.0) (4.8.0)\n",
            "Requirement already satisfied: pygments in /usr/local/lib/python3.7/dist-packages (from ipython->livelossplot~=0.5.4->SFC-CAE==0.0.0) (2.6.1)\n",
            "Requirement already satisfied: wcwidth in /usr/local/lib/python3.7/dist-packages (from prompt-toolkit<2.0.0,>=1.0.4->ipython->livelossplot~=0.5.4->SFC-CAE==0.0.0) (0.2.5)\n",
            "Requirement already satisfied: ipython-genutils in /usr/local/lib/python3.7/dist-packages (from traitlets>=4.2->ipython->livelossplot~=0.5.4->SFC-CAE==0.0.0) (0.2.0)\n",
            "Requirement already satisfied: importlib-metadata in /usr/local/lib/python3.7/dist-packages (from meshio[all]->SFC-CAE==0.0.0) (4.6.3)\n",
            "Requirement already satisfied: h5py in /usr/local/lib/python3.7/dist-packages (from meshio[all]->SFC-CAE==0.0.0) (3.1.0)\n",
            "Requirement already satisfied: netCDF4 in /usr/local/lib/python3.7/dist-packages (from meshio[all]->SFC-CAE==0.0.0) (1.5.7)\n",
            "Requirement already satisfied: cached-property in /usr/local/lib/python3.7/dist-packages (from h5py->meshio[all]->SFC-CAE==0.0.0) (1.5.2)\n",
            "Requirement already satisfied: zipp>=0.5 in /usr/local/lib/python3.7/dist-packages (from importlib-metadata->meshio[all]->SFC-CAE==0.0.0) (3.5.0)\n",
            "Requirement already satisfied: cftime in /usr/local/lib/python3.7/dist-packages (from netCDF4->meshio[all]->SFC-CAE==0.0.0) (1.5.0)\n",
            "Requirement already satisfied: ptyprocess>=0.5 in /usr/local/lib/python3.7/dist-packages (from pexpect->ipython->livelossplot~=0.5.4->SFC-CAE==0.0.0) (0.7.0)\n",
            "Requirement already satisfied: retrying>=1.3.3 in /usr/local/lib/python3.7/dist-packages (from plotly->dash~=1.21.0->SFC-CAE==0.0.0) (1.3.3)\n",
            "Building wheels for collected packages: dash, dash-core-components, dash-html-components, dash-table\n",
            "  Building wheel for dash (setup.py) ... \u001b[?25l\u001b[?25hdone\n",
            "  Created wheel for dash: filename=dash-1.21.0-py3-none-any.whl size=1100488 sha256=7dd58cca103925858b0c951b16bd982c574a523fd11e150d37f53724fe09e030\n",
            "  Stored in directory: /root/.cache/pip/wheels/59/a4/f1/a7140afcad8dbaa3b1b12ef80843d29403d6ecca1c2f397948\n",
            "  Building wheel for dash-core-components (setup.py) ... \u001b[?25l\u001b[?25hdone\n",
            "  Created wheel for dash-core-components: filename=dash_core_components-1.17.1-py3-none-any.whl size=3738997 sha256=bfa571f185704df1697744b81b30da3e37e43eefe26e022393c835d72267b30f\n",
            "  Stored in directory: /root/.cache/pip/wheels/ca/5b/fb/a135a7bf8e21223e4104aa5526a5173a20b64fe7fcd055b999\n",
            "  Building wheel for dash-html-components (setup.py) ... \u001b[?25l\u001b[?25hdone\n",
            "  Created wheel for dash-html-components: filename=dash_html_components-1.1.4-py3-none-any.whl size=319772 sha256=a9e544674784c5ab836855eca3488b3f946efc85d8af3731dff6dd99762f9372\n",
            "  Stored in directory: /root/.cache/pip/wheels/51/d7/5f/5730b784b5333941740a0dfc57b10395c3507b35ddac112ac0\n",
            "  Building wheel for dash-table (setup.py) ... \u001b[?25l\u001b[?25hdone\n",
            "  Created wheel for dash-table: filename=dash_table-4.12.0-py3-none-any.whl size=1837676 sha256=c5a96a6f5ab678d905ab830baf0c51b3192f56db8e6a6538702f4120ba322a26\n",
            "  Stored in directory: /root/.cache/pip/wheels/5f/d4/8b/639186e25b7234dac44ba004cfb58ea5b39fe492085bda2a88\n",
            "Successfully built dash dash-core-components dash-html-components dash-table\n",
            "Installing collected packages: multidict, yarl, async-timeout, zope.interface, txaio, incremental, hyperlink, cryptography, constantly, brotli, Automat, aiohttp, wslink, Twisted, meshio, flask-compress, dash-table, dash-html-components, dash-core-components, autobahn, vtk, livelossplot, dash, cmocean, SFC-CAE\n",
            "  Running setup.py develop for SFC-CAE\n",
            "Successfully installed Automat-20.2.0 SFC-CAE-0.0.0 Twisted-21.7.0 aiohttp-3.7.4.post0 async-timeout-3.0.1 autobahn-21.3.1 brotli-1.0.9 cmocean-2.0 constantly-15.1.0 cryptography-3.4.7 dash-1.21.0 dash-core-components-1.17.1 dash-html-components-1.1.4 dash-table-4.12.0 flask-compress-1.10.1 hyperlink-21.0.0 incremental-21.3.0 livelossplot-0.5.4 meshio-5.0.0 multidict-5.1.0 txaio-21.2.1 vtk-9.0.3 wslink-1.0.5 yarl-1.6.3 zope.interface-5.4.0\n"
          ],
          "name": "stdout"
        }
      ]
    },
    {
      "cell_type": "markdown",
      "metadata": {
        "id": "dp1x1ZtVtn-7"
      },
      "source": [
        "### Import useful functions inside this repo, very important, don't forget!!!"
      ]
    },
    {
      "cell_type": "code",
      "metadata": {
        "id": "Q1O9kBUQzfaO"
      },
      "source": [
        "from sfc_cae import *"
      ],
      "execution_count": 6,
      "outputs": []
    },
    {
      "cell_type": "markdown",
      "metadata": {
        "id": "wSoW9nfOujMF"
      },
      "source": [
        "## (Example) Get the Flow Past Cylinder data `CG_Mesh_new` (2000 snapshots) \n",
        "Try to specify you own `data_dir` !!!!"
      ]
    },
    {
      "cell_type": "code",
      "metadata": {
        "colab": {
          "base_uri": "https://localhost:8080/"
        },
        "id": "rRVbp9BbAV5b",
        "outputId": "326aaace-6b21-4d4d-8d53-e4122ac19a45"
      },
      "source": [
        "!mkdir FPC_Re3900_CG_new\n",
        "!wget https://www.dropbox.com/sh/aid0yv2685nln51/AADmtVChECW_B85M8O2cDmR0a\n",
        "!unzip AADmtVChECW_B85M8O2cDmR0a -d './FPC_Re3900_CG_new/'\n",
        "!rm -rf AADmtVChECW_B85M8O2cDmR0a"
      ],
      "execution_count": 7,
      "outputs": [
        {
          "output_type": "stream",
          "text": [
            "--2021-08-14 07:00:49--  https://www.dropbox.com/sh/aid0yv2685nln51/AADmtVChECW_B85M8O2cDmR0a\n",
            "Resolving www.dropbox.com (www.dropbox.com)... 162.125.1.18, 2620:100:6016:18::a27d:112\n",
            "Connecting to www.dropbox.com (www.dropbox.com)|162.125.1.18|:443... connected.\n",
            "HTTP request sent, awaiting response... 301 Moved Permanently\n",
            "Location: /sh/raw/aid0yv2685nln51/AADmtVChECW_B85M8O2cDmR0a [following]\n",
            "--2021-08-14 07:00:49--  https://www.dropbox.com/sh/raw/aid0yv2685nln51/AADmtVChECW_B85M8O2cDmR0a\n",
            "Reusing existing connection to www.dropbox.com:443.\n",
            "HTTP request sent, awaiting response... 302 Found\n",
            "Location: https://ucbca3be865d0f59cd5f94bf63dd.dl.dropboxusercontent.com/zip_download_get/A3mDH4O9oWqenHhYZH-bqy66vct8APaJuEO1Xebhpm4aJjpt2GmFtYL52wpc0YHOSc0RmdF361zta3IJfJTOPPNVFump6WGs3APw1zjQ8753Hg# [following]\n",
            "--2021-08-14 07:00:50--  https://ucbca3be865d0f59cd5f94bf63dd.dl.dropboxusercontent.com/zip_download_get/A3mDH4O9oWqenHhYZH-bqy66vct8APaJuEO1Xebhpm4aJjpt2GmFtYL52wpc0YHOSc0RmdF361zta3IJfJTOPPNVFump6WGs3APw1zjQ8753Hg\n",
            "Resolving ucbca3be865d0f59cd5f94bf63dd.dl.dropboxusercontent.com (ucbca3be865d0f59cd5f94bf63dd.dl.dropboxusercontent.com)... 162.125.1.15, 2620:100:6024:15::a27d:440f\n",
            "Connecting to ucbca3be865d0f59cd5f94bf63dd.dl.dropboxusercontent.com (ucbca3be865d0f59cd5f94bf63dd.dl.dropboxusercontent.com)|162.125.1.15|:443... connected.\n",
            "HTTP request sent, awaiting response... 200 OK\n",
            "Length: 435636356 (415M) [application/zip]\n",
            "Saving to: ‘AADmtVChECW_B85M8O2cDmR0a’\n",
            "\n",
            "AADmtVChECW_B85M8O2 100%[===================>] 415.46M  26.8MB/s    in 18s     \n",
            "\n",
            "2021-08-14 07:01:10 (23.0 MB/s) - ‘AADmtVChECW_B85M8O2cDmR0a’ saved [435636356/435636356]\n",
            "\n",
            "Archive:  AADmtVChECW_B85M8O2cDmR0a\n",
            "warning:  stripped absolute path spec from /\n",
            "mapname:  conversion of  failed\n",
            " extracting: ./FPC_Re3900_CG_new/fpc_9.vtu  \n",
            " extracting: ./FPC_Re3900_CG_new/fpc_6.vtu  \n",
            " extracting: ./FPC_Re3900_CG_new/fpc_0.vtu  \n",
            " extracting: ./FPC_Re3900_CG_new/fpc_2.vtu  \n",
            " extracting: ./FPC_Re3900_CG_new/fpc_7.vtu  \n",
            " extracting: ./FPC_Re3900_CG_new/fpc_3.vtu  \n",
            " extracting: ./FPC_Re3900_CG_new/fpc_5.vtu  \n",
            " extracting: ./FPC_Re3900_CG_new/fpc_4.vtu  \n",
            " extracting: ./FPC_Re3900_CG_new/fpc_8.vtu  \n",
            " extracting: ./FPC_Re3900_CG_new/fpc_1.vtu  \n",
            " extracting: ./FPC_Re3900_CG_new/fpc_26.vtu  \n",
            " extracting: ./FPC_Re3900_CG_new/fpc_67.vtu  \n",
            " extracting: ./FPC_Re3900_CG_new/fpc_16.vtu  \n",
            " extracting: ./FPC_Re3900_CG_new/fpc_48.vtu  \n",
            " extracting: ./FPC_Re3900_CG_new/fpc_72.vtu  \n",
            " extracting: ./FPC_Re3900_CG_new/fpc_22.vtu  \n",
            " extracting: ./FPC_Re3900_CG_new/fpc_35.vtu  \n",
            " extracting: ./FPC_Re3900_CG_new/fpc_87.vtu  \n",
            " extracting: ./FPC_Re3900_CG_new/fpc_14.vtu  \n",
            " extracting: ./FPC_Re3900_CG_new/fpc_50.vtu  \n",
            " extracting: ./FPC_Re3900_CG_new/fpc_92.vtu  \n",
            " extracting: ./FPC_Re3900_CG_new/fpc_75.vtu  \n",
            " extracting: ./FPC_Re3900_CG_new/fpc_21.vtu  \n",
            " extracting: ./FPC_Re3900_CG_new/fpc_62.vtu  \n",
            " extracting: ./FPC_Re3900_CG_new/fpc_55.vtu  \n",
            " extracting: ./FPC_Re3900_CG_new/fpc_15.vtu  \n",
            " extracting: ./FPC_Re3900_CG_new/fpc_28.vtu  \n",
            " extracting: ./FPC_Re3900_CG_new/fpc_88.vtu  \n",
            " extracting: ./FPC_Re3900_CG_new/fpc_56.vtu  \n",
            " extracting: ./FPC_Re3900_CG_new/fpc_79.vtu  \n",
            " extracting: ./FPC_Re3900_CG_new/fpc_27.vtu  \n",
            " extracting: ./FPC_Re3900_CG_new/fpc_18.vtu  \n",
            " extracting: ./FPC_Re3900_CG_new/fpc_39.vtu  \n",
            " extracting: ./FPC_Re3900_CG_new/fpc_13.vtu  \n",
            " extracting: ./FPC_Re3900_CG_new/fpc_31.vtu  \n",
            " extracting: ./FPC_Re3900_CG_new/fpc_20.vtu  \n",
            " extracting: ./FPC_Re3900_CG_new/fpc_82.vtu  \n",
            " extracting: ./FPC_Re3900_CG_new/fpc_86.vtu  \n",
            " extracting: ./FPC_Re3900_CG_new/fpc_23.vtu  \n",
            " extracting: ./FPC_Re3900_CG_new/fpc_19.vtu  \n",
            " extracting: ./FPC_Re3900_CG_new/fpc_90.vtu  \n",
            " extracting: ./FPC_Re3900_CG_new/fpc_43.vtu  \n",
            " extracting: ./FPC_Re3900_CG_new/fpc_32.vtu  \n",
            " extracting: ./FPC_Re3900_CG_new/fpc_51.vtu  \n",
            " extracting: ./FPC_Re3900_CG_new/fpc_60.vtu  \n",
            " extracting: ./FPC_Re3900_CG_new/fpc_99.vtu  \n",
            " extracting: ./FPC_Re3900_CG_new/fpc_44.vtu  \n",
            " extracting: ./FPC_Re3900_CG_new/fpc_84.vtu  \n",
            " extracting: ./FPC_Re3900_CG_new/fpc_65.vtu  \n",
            " extracting: ./FPC_Re3900_CG_new/fpc_11.vtu  \n",
            " extracting: ./FPC_Re3900_CG_new/fpc_91.vtu  \n",
            " extracting: ./FPC_Re3900_CG_new/fpc_83.vtu  \n",
            " extracting: ./FPC_Re3900_CG_new/fpc_58.vtu  \n",
            " extracting: ./FPC_Re3900_CG_new/fpc_30.vtu  \n",
            " extracting: ./FPC_Re3900_CG_new/fpc_63.vtu  \n",
            " extracting: ./FPC_Re3900_CG_new/fpc_42.vtu  \n",
            " extracting: ./FPC_Re3900_CG_new/fpc_34.vtu  \n",
            " extracting: ./FPC_Re3900_CG_new/fpc_64.vtu  \n",
            " extracting: ./FPC_Re3900_CG_new/fpc_54.vtu  \n",
            " extracting: ./FPC_Re3900_CG_new/fpc_59.vtu  \n",
            " extracting: ./FPC_Re3900_CG_new/fpc_68.vtu  \n",
            " extracting: ./FPC_Re3900_CG_new/fpc_69.vtu  \n",
            " extracting: ./FPC_Re3900_CG_new/fpc_74.vtu  \n",
            " extracting: ./FPC_Re3900_CG_new/fpc_29.vtu  \n",
            " extracting: ./FPC_Re3900_CG_new/fpc_78.vtu  \n",
            " extracting: ./FPC_Re3900_CG_new/fpc_53.vtu  \n",
            " extracting: ./FPC_Re3900_CG_new/fpc_33.vtu  \n",
            " extracting: ./FPC_Re3900_CG_new/fpc_71.vtu  \n",
            " extracting: ./FPC_Re3900_CG_new/fpc_12.vtu  \n",
            " extracting: ./FPC_Re3900_CG_new/fpc_80.vtu  \n",
            " extracting: ./FPC_Re3900_CG_new/fpc_61.vtu  \n",
            " extracting: ./FPC_Re3900_CG_new/fpc_66.vtu  \n",
            " extracting: ./FPC_Re3900_CG_new/fpc_94.vtu  \n",
            " extracting: ./FPC_Re3900_CG_new/fpc_89.vtu  \n",
            " extracting: ./FPC_Re3900_CG_new/fpc_38.vtu  \n",
            " extracting: ./FPC_Re3900_CG_new/fpc_17.vtu  \n",
            " extracting: ./FPC_Re3900_CG_new/fpc_97.vtu  \n",
            " extracting: ./FPC_Re3900_CG_new/fpc_98.vtu  \n",
            " extracting: ./FPC_Re3900_CG_new/fpc_49.vtu  \n",
            " extracting: ./FPC_Re3900_CG_new/fpc_81.vtu  \n",
            " extracting: ./FPC_Re3900_CG_new/fpc_85.vtu  \n",
            " extracting: ./FPC_Re3900_CG_new/fpc_25.vtu  \n",
            " extracting: ./FPC_Re3900_CG_new/fpc_47.vtu  \n",
            " extracting: ./FPC_Re3900_CG_new/fpc_73.vtu  \n",
            " extracting: ./FPC_Re3900_CG_new/fpc_95.vtu  \n",
            " extracting: ./FPC_Re3900_CG_new/fpc_76.vtu  \n",
            " extracting: ./FPC_Re3900_CG_new/fpc_40.vtu  \n",
            " extracting: ./FPC_Re3900_CG_new/fpc_10.vtu  \n",
            " extracting: ./FPC_Re3900_CG_new/fpc_24.vtu  \n",
            " extracting: ./FPC_Re3900_CG_new/fpc_70.vtu  \n",
            " extracting: ./FPC_Re3900_CG_new/fpc_93.vtu  \n",
            " extracting: ./FPC_Re3900_CG_new/fpc_36.vtu  \n",
            " extracting: ./FPC_Re3900_CG_new/fpc_52.vtu  \n",
            " extracting: ./FPC_Re3900_CG_new/fpc_96.vtu  \n",
            " extracting: ./FPC_Re3900_CG_new/fpc_46.vtu  \n",
            " extracting: ./FPC_Re3900_CG_new/fpc_45.vtu  \n",
            " extracting: ./FPC_Re3900_CG_new/fpc_57.vtu  \n",
            " extracting: ./FPC_Re3900_CG_new/fpc_37.vtu  \n",
            " extracting: ./FPC_Re3900_CG_new/fpc_41.vtu  \n",
            " extracting: ./FPC_Re3900_CG_new/fpc_77.vtu  \n",
            " extracting: ./FPC_Re3900_CG_new/fpc_196.vtu  \n",
            " extracting: ./FPC_Re3900_CG_new/fpc_705.vtu  \n",
            " extracting: ./FPC_Re3900_CG_new/fpc_761.vtu  \n",
            " extracting: ./FPC_Re3900_CG_new/fpc_779.vtu  \n",
            " extracting: ./FPC_Re3900_CG_new/fpc_553.vtu  \n",
            " extracting: ./FPC_Re3900_CG_new/fpc_611.vtu  \n",
            " extracting: ./FPC_Re3900_CG_new/fpc_712.vtu  \n",
            " extracting: ./FPC_Re3900_CG_new/fpc_809.vtu  \n",
            " extracting: ./FPC_Re3900_CG_new/fpc_323.vtu  \n",
            " extracting: ./FPC_Re3900_CG_new/fpc_113.vtu  \n",
            " extracting: ./FPC_Re3900_CG_new/fpc_537.vtu  \n",
            " extracting: ./FPC_Re3900_CG_new/fpc_733.vtu  \n",
            " extracting: ./FPC_Re3900_CG_new/fpc_478.vtu  \n",
            " extracting: ./FPC_Re3900_CG_new/fpc_853.vtu  \n",
            " extracting: ./FPC_Re3900_CG_new/fpc_672.vtu  \n",
            " extracting: ./FPC_Re3900_CG_new/fpc_451.vtu  \n",
            " extracting: ./FPC_Re3900_CG_new/fpc_143.vtu  \n",
            " extracting: ./FPC_Re3900_CG_new/fpc_370.vtu  \n",
            " extracting: ./FPC_Re3900_CG_new/fpc_207.vtu  \n",
            " extracting: ./FPC_Re3900_CG_new/fpc_905.vtu  \n",
            " extracting: ./FPC_Re3900_CG_new/fpc_893.vtu  \n",
            " extracting: ./FPC_Re3900_CG_new/fpc_724.vtu  \n",
            " extracting: ./FPC_Re3900_CG_new/fpc_446.vtu  \n",
            " extracting: ./FPC_Re3900_CG_new/fpc_397.vtu  \n",
            " extracting: ./FPC_Re3900_CG_new/fpc_732.vtu  \n",
            " extracting: ./FPC_Re3900_CG_new/fpc_152.vtu  \n",
            " extracting: ./FPC_Re3900_CG_new/fpc_262.vtu  \n",
            " extracting: ./FPC_Re3900_CG_new/fpc_141.vtu  \n",
            " extracting: ./FPC_Re3900_CG_new/fpc_475.vtu  \n",
            " extracting: ./FPC_Re3900_CG_new/fpc_423.vtu  \n",
            " extracting: ./FPC_Re3900_CG_new/fpc_919.vtu  \n",
            " extracting: ./FPC_Re3900_CG_new/fpc_744.vtu  \n",
            " extracting: ./FPC_Re3900_CG_new/fpc_184.vtu  \n",
            " extracting: ./FPC_Re3900_CG_new/fpc_788.vtu  \n",
            " extracting: ./FPC_Re3900_CG_new/fpc_703.vtu  \n",
            " extracting: ./FPC_Re3900_CG_new/fpc_406.vtu  \n",
            " extracting: ./FPC_Re3900_CG_new/fpc_764.vtu  \n",
            " extracting: ./FPC_Re3900_CG_new/fpc_470.vtu  \n",
            " extracting: ./FPC_Re3900_CG_new/fpc_652.vtu  \n",
            " extracting: ./FPC_Re3900_CG_new/fpc_344.vtu  \n",
            " extracting: ./FPC_Re3900_CG_new/fpc_200.vtu  \n",
            " extracting: ./FPC_Re3900_CG_new/fpc_209.vtu  \n",
            " extracting: ./FPC_Re3900_CG_new/fpc_805.vtu  \n",
            " extracting: ./FPC_Re3900_CG_new/fpc_995.vtu  \n",
            " extracting: ./FPC_Re3900_CG_new/fpc_498.vtu  \n",
            " extracting: ./FPC_Re3900_CG_new/fpc_273.vtu  \n",
            " extracting: ./FPC_Re3900_CG_new/fpc_657.vtu  \n",
            " extracting: ./FPC_Re3900_CG_new/fpc_625.vtu  \n",
            " extracting: ./FPC_Re3900_CG_new/fpc_521.vtu  \n",
            " extracting: ./FPC_Re3900_CG_new/fpc_920.vtu  \n",
            " extracting: ./FPC_Re3900_CG_new/fpc_180.vtu  \n",
            " extracting: ./FPC_Re3900_CG_new/fpc_165.vtu  \n",
            " extracting: ./FPC_Re3900_CG_new/fpc_641.vtu  \n",
            " extracting: ./FPC_Re3900_CG_new/fpc_931.vtu  \n",
            " extracting: ./FPC_Re3900_CG_new/fpc_457.vtu  \n",
            " extracting: ./FPC_Re3900_CG_new/fpc_361.vtu  \n",
            " extracting: ./FPC_Re3900_CG_new/fpc_954.vtu  \n",
            " extracting: ./FPC_Re3900_CG_new/fpc_647.vtu  \n",
            " extracting: ./FPC_Re3900_CG_new/fpc_708.vtu  \n",
            " extracting: ./FPC_Re3900_CG_new/fpc_726.vtu  \n",
            " extracting: ./FPC_Re3900_CG_new/fpc_988.vtu  \n",
            " extracting: ./FPC_Re3900_CG_new/fpc_542.vtu  \n",
            " extracting: ./FPC_Re3900_CG_new/fpc_609.vtu  \n",
            " extracting: ./FPC_Re3900_CG_new/fpc_311.vtu  \n",
            " extracting: ./FPC_Re3900_CG_new/fpc_381.vtu  \n",
            " extracting: ./FPC_Re3900_CG_new/fpc_576.vtu  \n",
            " extracting: ./FPC_Re3900_CG_new/fpc_516.vtu  \n",
            " extracting: ./FPC_Re3900_CG_new/fpc_948.vtu  \n",
            " extracting: ./FPC_Re3900_CG_new/fpc_144.vtu  \n",
            " extracting: ./FPC_Re3900_CG_new/fpc_785.vtu  \n",
            " extracting: ./FPC_Re3900_CG_new/fpc_668.vtu  \n",
            " extracting: ./FPC_Re3900_CG_new/fpc_194.vtu  \n",
            " extracting: ./FPC_Re3900_CG_new/fpc_278.vtu  \n",
            " extracting: ./FPC_Re3900_CG_new/fpc_130.vtu  \n",
            " extracting: ./FPC_Re3900_CG_new/fpc_112.vtu  \n",
            " extracting: ./FPC_Re3900_CG_new/fpc_416.vtu  \n",
            " extracting: ./FPC_Re3900_CG_new/fpc_509.vtu  \n",
            " extracting: ./FPC_Re3900_CG_new/fpc_967.vtu  \n",
            " extracting: ./FPC_Re3900_CG_new/fpc_513.vtu  \n",
            " extracting: ./FPC_Re3900_CG_new/fpc_941.vtu  \n",
            " extracting: ./FPC_Re3900_CG_new/fpc_340.vtu  \n",
            " extracting: ./FPC_Re3900_CG_new/fpc_842.vtu  \n",
            " extracting: ./FPC_Re3900_CG_new/fpc_222.vtu  \n",
            " extracting: ./FPC_Re3900_CG_new/fpc_241.vtu  \n",
            " extracting: ./FPC_Re3900_CG_new/fpc_692.vtu  \n",
            " extracting: ./FPC_Re3900_CG_new/fpc_556.vtu  \n",
            " extracting: ./FPC_Re3900_CG_new/fpc_599.vtu  \n",
            " extracting: ./FPC_Re3900_CG_new/fpc_567.vtu  \n",
            " extracting: ./FPC_Re3900_CG_new/fpc_962.vtu  \n",
            " extracting: ./FPC_Re3900_CG_new/fpc_891.vtu  \n",
            " extracting: ./FPC_Re3900_CG_new/fpc_696.vtu  \n",
            " extracting: ./FPC_Re3900_CG_new/fpc_239.vtu  \n",
            " extracting: ./FPC_Re3900_CG_new/fpc_927.vtu  \n",
            " extracting: ./FPC_Re3900_CG_new/fpc_738.vtu  \n",
            " extracting: ./FPC_Re3900_CG_new/fpc_202.vtu  \n",
            " extracting: ./FPC_Re3900_CG_new/fpc_245.vtu  \n",
            " extracting: ./FPC_Re3900_CG_new/fpc_233.vtu  \n",
            " extracting: ./FPC_Re3900_CG_new/fpc_924.vtu  \n",
            " extracting: ./FPC_Re3900_CG_new/fpc_701.vtu  \n",
            " extracting: ./FPC_Re3900_CG_new/fpc_142.vtu  \n",
            " extracting: ./FPC_Re3900_CG_new/fpc_676.vtu  \n",
            " extracting: ./FPC_Re3900_CG_new/fpc_192.vtu  \n",
            " extracting: ./FPC_Re3900_CG_new/fpc_786.vtu  \n",
            " extracting: ./FPC_Re3900_CG_new/fpc_464.vtu  \n",
            " extracting: ./FPC_Re3900_CG_new/fpc_454.vtu  \n",
            " extracting: ./FPC_Re3900_CG_new/fpc_135.vtu  \n",
            " extracting: ./FPC_Re3900_CG_new/fpc_158.vtu  \n",
            " extracting: ./FPC_Re3900_CG_new/fpc_930.vtu  \n",
            " extracting: ./FPC_Re3900_CG_new/fpc_455.vtu  \n",
            " extracting: ./FPC_Re3900_CG_new/fpc_145.vtu  \n",
            " extracting: ./FPC_Re3900_CG_new/fpc_326.vtu  \n",
            " extracting: ./FPC_Re3900_CG_new/fpc_271.vtu  \n",
            " extracting: ./FPC_Re3900_CG_new/fpc_597.vtu  \n",
            " extracting: ./FPC_Re3900_CG_new/fpc_811.vtu  \n",
            " extracting: ./FPC_Re3900_CG_new/fpc_349.vtu  \n",
            " extracting: ./FPC_Re3900_CG_new/fpc_837.vtu  \n",
            " extracting: ./FPC_Re3900_CG_new/fpc_897.vtu  \n",
            " extracting: ./FPC_Re3900_CG_new/fpc_119.vtu  \n",
            " extracting: ./FPC_Re3900_CG_new/fpc_883.vtu  \n",
            " extracting: ./FPC_Re3900_CG_new/fpc_185.vtu  \n",
            " extracting: ./FPC_Re3900_CG_new/fpc_367.vtu  \n",
            " extracting: ./FPC_Re3900_CG_new/fpc_803.vtu  \n",
            " extracting: ./FPC_Re3900_CG_new/fpc_529.vtu  \n",
            " extracting: ./FPC_Re3900_CG_new/fpc_286.vtu  \n",
            " extracting: ./FPC_Re3900_CG_new/fpc_199.vtu  \n",
            " extracting: ./FPC_Re3900_CG_new/fpc_981.vtu  \n",
            " extracting: ./FPC_Re3900_CG_new/fpc_319.vtu  \n",
            " extracting: ./FPC_Re3900_CG_new/fpc_678.vtu  \n",
            " extracting: ./FPC_Re3900_CG_new/fpc_977.vtu  \n",
            " extracting: ./FPC_Re3900_CG_new/fpc_989.vtu  \n",
            " extracting: ./FPC_Re3900_CG_new/fpc_415.vtu  \n",
            " extracting: ./FPC_Re3900_CG_new/fpc_471.vtu  \n",
            " extracting: ./FPC_Re3900_CG_new/fpc_682.vtu  \n",
            " extracting: ./FPC_Re3900_CG_new/fpc_887.vtu  \n",
            " extracting: ./FPC_Re3900_CG_new/fpc_214.vtu  \n",
            " extracting: ./FPC_Re3900_CG_new/fpc_388.vtu  \n",
            " extracting: ./FPC_Re3900_CG_new/fpc_593.vtu  \n",
            " extracting: ./FPC_Re3900_CG_new/fpc_329.vtu  \n",
            " extracting: ./FPC_Re3900_CG_new/fpc_775.vtu  \n",
            " extracting: ./FPC_Re3900_CG_new/fpc_368.vtu  \n",
            " extracting: ./FPC_Re3900_CG_new/fpc_407.vtu  \n",
            " extracting: ./FPC_Re3900_CG_new/fpc_687.vtu  \n",
            " extracting: ./FPC_Re3900_CG_new/fpc_554.vtu  \n",
            " extracting: ./FPC_Re3900_CG_new/fpc_866.vtu  \n",
            " extracting: ./FPC_Re3900_CG_new/fpc_422.vtu  \n",
            " extracting: ./FPC_Re3900_CG_new/fpc_417.vtu  \n",
            " extracting: ./FPC_Re3900_CG_new/fpc_808.vtu  \n",
            " extracting: ./FPC_Re3900_CG_new/fpc_819.vtu  \n",
            " extracting: ./FPC_Re3900_CG_new/fpc_943.vtu  \n",
            " extracting: ./FPC_Re3900_CG_new/fpc_101.vtu  \n",
            " extracting: ./FPC_Re3900_CG_new/fpc_770.vtu  \n",
            " extracting: ./FPC_Re3900_CG_new/fpc_720.vtu  \n",
            " extracting: ./FPC_Re3900_CG_new/fpc_458.vtu  \n",
            " extracting: ./FPC_Re3900_CG_new/fpc_662.vtu  \n",
            " extracting: ./FPC_Re3900_CG_new/fpc_691.vtu  \n",
            " extracting: ./FPC_Re3900_CG_new/fpc_565.vtu  \n",
            " extracting: ./FPC_Re3900_CG_new/fpc_501.vtu  \n",
            " extracting: ./FPC_Re3900_CG_new/fpc_148.vtu  \n",
            " extracting: ./FPC_Re3900_CG_new/fpc_519.vtu  \n",
            " extracting: ./FPC_Re3900_CG_new/fpc_740.vtu  \n",
            " extracting: ./FPC_Re3900_CG_new/fpc_613.vtu  \n",
            " extracting: ./FPC_Re3900_CG_new/fpc_630.vtu  \n",
            " extracting: ./FPC_Re3900_CG_new/fpc_283.vtu  \n",
            " extracting: ./FPC_Re3900_CG_new/fpc_572.vtu  \n",
            " extracting: ./FPC_Re3900_CG_new/fpc_846.vtu  \n",
            " extracting: ./FPC_Re3900_CG_new/fpc_765.vtu  \n",
            " extracting: ./FPC_Re3900_CG_new/fpc_218.vtu  \n",
            " extracting: ./FPC_Re3900_CG_new/fpc_851.vtu  \n",
            " extracting: ./FPC_Re3900_CG_new/fpc_231.vtu  \n",
            " extracting: ./FPC_Re3900_CG_new/fpc_190.vtu  \n",
            " extracting: ./FPC_Re3900_CG_new/fpc_490.vtu  \n",
            " extracting: ./FPC_Re3900_CG_new/fpc_650.vtu  \n",
            " extracting: ./FPC_Re3900_CG_new/fpc_403.vtu  \n",
            " extracting: ./FPC_Re3900_CG_new/fpc_907.vtu  \n",
            " extracting: ./FPC_Re3900_CG_new/fpc_304.vtu  \n",
            " extracting: ./FPC_Re3900_CG_new/fpc_673.vtu  \n",
            " extracting: ./FPC_Re3900_CG_new/fpc_544.vtu  \n",
            " extracting: ./FPC_Re3900_CG_new/fpc_226.vtu  \n",
            " extracting: ./FPC_Re3900_CG_new/fpc_177.vtu  \n",
            " extracting: ./FPC_Re3900_CG_new/fpc_634.vtu  \n",
            " extracting: ./FPC_Re3900_CG_new/fpc_460.vtu  \n",
            " extracting: ./FPC_Re3900_CG_new/fpc_150.vtu  \n",
            " extracting: ./FPC_Re3900_CG_new/fpc_938.vtu  \n",
            " extracting: ./FPC_Re3900_CG_new/fpc_520.vtu  \n",
            " extracting: ./FPC_Re3900_CG_new/fpc_999.vtu  \n",
            " extracting: ./FPC_Re3900_CG_new/fpc_552.vtu  \n",
            " extracting: ./FPC_Re3900_CG_new/fpc_624.vtu  \n",
            " extracting: ./FPC_Re3900_CG_new/fpc_215.vtu  \n",
            " extracting: ./FPC_Re3900_CG_new/fpc_243.vtu  \n",
            " extracting: ./FPC_Re3900_CG_new/fpc_524.vtu  \n",
            " extracting: ./FPC_Re3900_CG_new/fpc_219.vtu  \n",
            " extracting: ./FPC_Re3900_CG_new/fpc_814.vtu  \n",
            " extracting: ./FPC_Re3900_CG_new/fpc_878.vtu  \n",
            " extracting: ./FPC_Re3900_CG_new/fpc_563.vtu  \n",
            " extracting: ./FPC_Re3900_CG_new/fpc_380.vtu  \n",
            " extracting: ./FPC_Re3900_CG_new/fpc_266.vtu  \n",
            " extracting: ./FPC_Re3900_CG_new/fpc_206.vtu  \n",
            " extracting: ./FPC_Re3900_CG_new/fpc_895.vtu  \n",
            " extracting: ./FPC_Re3900_CG_new/fpc_300.vtu  \n",
            " extracting: ./FPC_Re3900_CG_new/fpc_504.vtu  \n",
            " extracting: ./FPC_Re3900_CG_new/fpc_210.vtu  \n",
            " extracting: ./FPC_Re3900_CG_new/fpc_310.vtu  \n",
            " extracting: ./FPC_Re3900_CG_new/fpc_983.vtu  \n",
            " extracting: ./FPC_Re3900_CG_new/fpc_318.vtu  \n",
            " extracting: ./FPC_Re3900_CG_new/fpc_384.vtu  \n",
            " extracting: ./FPC_Re3900_CG_new/fpc_829.vtu  \n",
            " extracting: ./FPC_Re3900_CG_new/fpc_285.vtu  \n",
            " extracting: ./FPC_Re3900_CG_new/fpc_735.vtu  \n",
            " extracting: ./FPC_Re3900_CG_new/fpc_780.vtu  \n",
            " extracting: ./FPC_Re3900_CG_new/fpc_791.vtu  \n",
            " extracting: ./FPC_Re3900_CG_new/fpc_237.vtu  \n",
            " extracting: ./FPC_Re3900_CG_new/fpc_181.vtu  \n",
            " extracting: ./FPC_Re3900_CG_new/fpc_845.vtu  \n",
            " extracting: ./FPC_Re3900_CG_new/fpc_395.vtu  \n",
            " extracting: ./FPC_Re3900_CG_new/fpc_596.vtu  \n",
            " extracting: ./FPC_Re3900_CG_new/fpc_106.vtu  \n",
            " extracting: ./FPC_Re3900_CG_new/fpc_568.vtu  \n",
            " extracting: ./FPC_Re3900_CG_new/fpc_595.vtu  \n",
            " extracting: ./FPC_Re3900_CG_new/fpc_546.vtu  \n",
            " extracting: ./FPC_Re3900_CG_new/fpc_479.vtu  \n",
            " extracting: ./FPC_Re3900_CG_new/fpc_728.vtu  \n",
            " extracting: ./FPC_Re3900_CG_new/fpc_864.vtu  \n",
            " extracting: ./FPC_Re3900_CG_new/fpc_282.vtu  \n",
            " extracting: ./FPC_Re3900_CG_new/fpc_860.vtu  \n",
            " extracting: ./FPC_Re3900_CG_new/fpc_461.vtu  \n",
            " extracting: ./FPC_Re3900_CG_new/fpc_352.vtu  \n",
            " extracting: ./FPC_Re3900_CG_new/fpc_915.vtu  \n",
            " extracting: ./FPC_Re3900_CG_new/fpc_489.vtu  \n",
            " extracting: ./FPC_Re3900_CG_new/fpc_103.vtu  \n",
            " extracting: ./FPC_Re3900_CG_new/fpc_161.vtu  \n",
            " extracting: ./FPC_Re3900_CG_new/fpc_607.vtu  \n",
            " extracting: ./FPC_Re3900_CG_new/fpc_369.vtu  \n",
            " extracting: ./FPC_Re3900_CG_new/fpc_972.vtu  \n",
            " extracting: ./FPC_Re3900_CG_new/fpc_950.vtu  \n",
            " extracting: ./FPC_Re3900_CG_new/fpc_428.vtu  \n",
            " extracting: ./FPC_Re3900_CG_new/fpc_836.vtu  \n",
            " extracting: ./FPC_Re3900_CG_new/fpc_276.vtu  \n",
            " extracting: ./FPC_Re3900_CG_new/fpc_858.vtu  \n",
            " extracting: ./FPC_Re3900_CG_new/fpc_512.vtu  \n",
            " extracting: ./FPC_Re3900_CG_new/fpc_333.vtu  \n",
            " extracting: ./FPC_Re3900_CG_new/fpc_985.vtu  \n",
            " extracting: ./FPC_Re3900_CG_new/fpc_140.vtu  \n",
            " extracting: ./FPC_Re3900_CG_new/fpc_134.vtu  \n",
            " extracting: ./FPC_Re3900_CG_new/fpc_427.vtu  \n",
            " extracting: ./FPC_Re3900_CG_new/fpc_466.vtu  \n",
            " extracting: ./FPC_Re3900_CG_new/fpc_827.vtu  \n",
            " extracting: ./FPC_Re3900_CG_new/fpc_763.vtu  \n",
            " extracting: ./FPC_Re3900_CG_new/fpc_671.vtu  \n",
            " extracting: ./FPC_Re3900_CG_new/fpc_487.vtu  \n",
            " extracting: ./FPC_Re3900_CG_new/fpc_963.vtu  \n",
            " extracting: ./FPC_Re3900_CG_new/fpc_849.vtu  \n",
            " extracting: ./FPC_Re3900_CG_new/fpc_787.vtu  \n",
            " extracting: ./FPC_Re3900_CG_new/fpc_435.vtu  \n",
            " extracting: ./FPC_Re3900_CG_new/fpc_558.vtu  \n",
            " extracting: ./FPC_Re3900_CG_new/fpc_816.vtu  \n",
            " extracting: ./FPC_Re3900_CG_new/fpc_550.vtu  \n",
            " extracting: ./FPC_Re3900_CG_new/fpc_991.vtu  \n",
            " extracting: ./FPC_Re3900_CG_new/fpc_626.vtu  \n",
            " extracting: ./FPC_Re3900_CG_new/fpc_646.vtu  \n",
            " extracting: ./FPC_Re3900_CG_new/fpc_784.vtu  \n",
            " extracting: ./FPC_Re3900_CG_new/fpc_944.vtu  \n",
            " extracting: ./FPC_Re3900_CG_new/fpc_399.vtu  \n",
            " extracting: ./FPC_Re3900_CG_new/fpc_561.vtu  \n",
            " extracting: ./FPC_Re3900_CG_new/fpc_797.vtu  \n",
            " extracting: ./FPC_Re3900_CG_new/fpc_832.vtu  \n",
            " extracting: ./FPC_Re3900_CG_new/fpc_681.vtu  \n",
            " extracting: ./FPC_Re3900_CG_new/fpc_339.vtu  \n",
            " extracting: ./FPC_Re3900_CG_new/fpc_879.vtu  \n",
            " extracting: ./FPC_Re3900_CG_new/fpc_617.vtu  \n",
            " extracting: ./FPC_Re3900_CG_new/fpc_204.vtu  \n",
            " extracting: ./FPC_Re3900_CG_new/fpc_903.vtu  \n",
            " extracting: ./FPC_Re3900_CG_new/fpc_410.vtu  \n",
            " extracting: ./FPC_Re3900_CG_new/fpc_790.vtu  \n",
            " extracting: ./FPC_Re3900_CG_new/fpc_531.vtu  \n",
            " extracting: ./FPC_Re3900_CG_new/fpc_932.vtu  \n",
            " extracting: ./FPC_Re3900_CG_new/fpc_296.vtu  \n",
            " extracting: ./FPC_Re3900_CG_new/fpc_312.vtu  \n",
            " extracting: ./FPC_Re3900_CG_new/fpc_606.vtu  \n",
            " extracting: ./FPC_Re3900_CG_new/fpc_632.vtu  \n",
            " extracting: ./FPC_Re3900_CG_new/fpc_394.vtu  \n",
            " extracting: ./FPC_Re3900_CG_new/fpc_235.vtu  \n",
            " extracting: ./FPC_Re3900_CG_new/fpc_147.vtu  \n",
            " extracting: ./FPC_Re3900_CG_new/fpc_777.vtu  \n",
            " extracting: ./FPC_Re3900_CG_new/fpc_447.vtu  \n",
            " extracting: ./FPC_Re3900_CG_new/fpc_818.vtu  \n",
            " extracting: ./FPC_Re3900_CG_new/fpc_750.vtu  \n",
            " extracting: ./FPC_Re3900_CG_new/fpc_677.vtu  \n",
            " extracting: ./FPC_Re3900_CG_new/fpc_717.vtu  \n",
            " extracting: ./FPC_Re3900_CG_new/fpc_663.vtu  \n",
            " extracting: ./FPC_Re3900_CG_new/fpc_117.vtu  \n",
            " extracting: ./FPC_Re3900_CG_new/fpc_187.vtu  \n",
            " extracting: ./FPC_Re3900_CG_new/fpc_603.vtu  \n",
            " extracting: ./FPC_Re3900_CG_new/fpc_721.vtu  \n",
            " extracting: ./FPC_Re3900_CG_new/fpc_351.vtu  \n",
            " extracting: ./FPC_Re3900_CG_new/fpc_332.vtu  \n",
            " extracting: ./FPC_Re3900_CG_new/fpc_306.vtu  \n",
            " extracting: ./FPC_Re3900_CG_new/fpc_729.vtu  \n",
            " extracting: ./FPC_Re3900_CG_new/fpc_275.vtu  \n",
            " extracting: ./FPC_Re3900_CG_new/fpc_211.vtu  \n",
            " extracting: ./FPC_Re3900_CG_new/fpc_979.vtu  \n",
            " extracting: ./FPC_Re3900_CG_new/fpc_473.vtu  \n",
            " extracting: ./FPC_Re3900_CG_new/fpc_168.vtu  \n",
            " extracting: ./FPC_Re3900_CG_new/fpc_917.vtu  \n",
            " extracting: ./FPC_Re3900_CG_new/fpc_620.vtu  \n",
            " extracting: ./FPC_Re3900_CG_new/fpc_592.vtu  \n",
            " extracting: ./FPC_Re3900_CG_new/fpc_363.vtu  \n",
            " extracting: ./FPC_Re3900_CG_new/fpc_160.vtu  \n",
            " extracting: ./FPC_Re3900_CG_new/fpc_443.vtu  \n",
            " extracting: ./FPC_Re3900_CG_new/fpc_643.vtu  \n",
            " extracting: ./FPC_Re3900_CG_new/fpc_337.vtu  \n",
            " extracting: ./FPC_Re3900_CG_new/fpc_188.vtu  \n",
            " extracting: ./FPC_Re3900_CG_new/fpc_293.vtu  \n",
            " extracting: ./FPC_Re3900_CG_new/fpc_267.vtu  \n",
            " extracting: ./FPC_Re3900_CG_new/fpc_580.vtu  \n",
            " extracting: ./FPC_Re3900_CG_new/fpc_124.vtu  \n",
            " extracting: ./FPC_Re3900_CG_new/fpc_686.vtu  \n",
            " extracting: ./FPC_Re3900_CG_new/fpc_242.vtu  \n",
            " extracting: ./FPC_Re3900_CG_new/fpc_987.vtu  \n",
            " extracting: ./FPC_Re3900_CG_new/fpc_277.vtu  \n",
            " extracting: ./FPC_Re3900_CG_new/fpc_890.vtu  \n",
            " extracting: ./FPC_Re3900_CG_new/fpc_510.vtu  \n",
            " extracting: ./FPC_Re3900_CG_new/fpc_540.vtu  \n",
            " extracting: ./FPC_Re3900_CG_new/fpc_238.vtu  \n",
            " extracting: ./FPC_Re3900_CG_new/fpc_958.vtu  \n",
            " extracting: ./FPC_Re3900_CG_new/fpc_843.vtu  \n",
            " extracting: ./FPC_Re3900_CG_new/fpc_874.vtu  \n",
            " extracting: ./FPC_Re3900_CG_new/fpc_314.vtu  \n",
            " extracting: ./FPC_Re3900_CG_new/fpc_900.vtu  \n",
            " extracting: ./FPC_Re3900_CG_new/fpc_514.vtu  \n",
            " extracting: ./FPC_Re3900_CG_new/fpc_114.vtu  \n",
            " extracting: ./FPC_Re3900_CG_new/fpc_254.vtu  \n",
            " extracting: ./FPC_Re3900_CG_new/fpc_132.vtu  \n",
            " extracting: ./FPC_Re3900_CG_new/fpc_961.vtu  \n",
            " extracting: ./FPC_Re3900_CG_new/fpc_419.vtu  \n",
            " extracting: ./FPC_Re3900_CG_new/fpc_947.vtu  \n",
            " extracting: ./FPC_Re3900_CG_new/fpc_965.vtu  \n",
            " extracting: ./FPC_Re3900_CG_new/fpc_437.vtu  \n",
            " extracting: ./FPC_Re3900_CG_new/fpc_742.vtu  \n",
            " extracting: ./FPC_Re3900_CG_new/fpc_426.vtu  \n",
            " extracting: ./FPC_Re3900_CG_new/fpc_719.vtu  \n",
            " extracting: ./FPC_Re3900_CG_new/fpc_322.vtu  \n",
            " extracting: ./FPC_Re3900_CG_new/fpc_505.vtu  \n",
            " extracting: ./FPC_Re3900_CG_new/fpc_767.vtu  \n",
            " extracting: ./FPC_Re3900_CG_new/fpc_951.vtu  \n",
            " extracting: ./FPC_Re3900_CG_new/fpc_355.vtu  \n",
            " extracting: ./FPC_Re3900_CG_new/fpc_159.vtu  \n",
            " extracting: ./FPC_Re3900_CG_new/fpc_945.vtu  \n",
            " extracting: ./FPC_Re3900_CG_new/fpc_804.vtu  \n",
            " extracting: ./FPC_Re3900_CG_new/fpc_826.vtu  \n",
            " extracting: ./FPC_Re3900_CG_new/fpc_263.vtu  \n",
            " extracting: ./FPC_Re3900_CG_new/fpc_149.vtu  \n",
            " extracting: ./FPC_Re3900_CG_new/fpc_798.vtu  \n",
            " extracting: ./FPC_Re3900_CG_new/fpc_287.vtu  \n",
            " extracting: ./FPC_Re3900_CG_new/fpc_739.vtu  \n",
            " extracting: ./FPC_Re3900_CG_new/fpc_801.vtu  \n",
            " extracting: ./FPC_Re3900_CG_new/fpc_752.vtu  \n",
            " extracting: ./FPC_Re3900_CG_new/fpc_844.vtu  \n",
            " extracting: ./FPC_Re3900_CG_new/fpc_855.vtu  \n",
            " extracting: ./FPC_Re3900_CG_new/fpc_414.vtu  \n",
            " extracting: ./FPC_Re3900_CG_new/fpc_104.vtu  \n",
            " extracting: ./FPC_Re3900_CG_new/fpc_698.vtu  \n",
            " extracting: ./FPC_Re3900_CG_new/fpc_449.vtu  \n",
            " extracting: ./FPC_Re3900_CG_new/fpc_748.vtu  \n",
            " extracting: ./FPC_Re3900_CG_new/fpc_975.vtu  \n",
            " extracting: ./FPC_Re3900_CG_new/fpc_675.vtu  \n",
            " extracting: ./FPC_Re3900_CG_new/fpc_162.vtu  \n",
            " extracting: ./FPC_Re3900_CG_new/fpc_535.vtu  \n",
            " extracting: ./FPC_Re3900_CG_new/fpc_723.vtu  \n",
            " extracting: ./FPC_Re3900_CG_new/fpc_847.vtu  \n",
            " extracting: ./FPC_Re3900_CG_new/fpc_622.vtu  \n",
            " extracting: ./FPC_Re3900_CG_new/fpc_164.vtu  \n",
            " extracting: ./FPC_Re3900_CG_new/fpc_555.vtu  \n",
            " extracting: ./FPC_Re3900_CG_new/fpc_468.vtu  \n",
            " extracting: ./FPC_Re3900_CG_new/fpc_438.vtu  \n",
            " extracting: ./FPC_Re3900_CG_new/fpc_955.vtu  \n",
            " extracting: ./FPC_Re3900_CG_new/fpc_494.vtu  \n",
            " extracting: ./FPC_Re3900_CG_new/fpc_916.vtu  \n",
            " extracting: ./FPC_Re3900_CG_new/fpc_175.vtu  \n",
            " extracting: ./FPC_Re3900_CG_new/fpc_594.vtu  \n",
            " extracting: ./FPC_Re3900_CG_new/fpc_492.vtu  \n",
            " extracting: ./FPC_Re3900_CG_new/fpc_875.vtu  \n",
            " extracting: ./FPC_Re3900_CG_new/fpc_743.vtu  \n",
            " extracting: ./FPC_Re3900_CG_new/fpc_711.vtu  \n",
            " extracting: ./FPC_Re3900_CG_new/fpc_548.vtu  \n",
            " extracting: ./FPC_Re3900_CG_new/fpc_684.vtu  \n",
            " extracting: ./FPC_Re3900_CG_new/fpc_316.vtu  \n",
            " extracting: ./FPC_Re3900_CG_new/fpc_602.vtu  \n",
            " extracting: ./FPC_Re3900_CG_new/fpc_375.vtu  \n",
            " extracting: ./FPC_Re3900_CG_new/fpc_280.vtu  \n",
            " extracting: ./FPC_Re3900_CG_new/fpc_680.vtu  \n",
            " extracting: ./FPC_Re3900_CG_new/fpc_201.vtu  \n",
            " extracting: ./FPC_Re3900_CG_new/fpc_189.vtu  \n",
            " extracting: ./FPC_Re3900_CG_new/fpc_348.vtu  \n",
            " extracting: ./FPC_Re3900_CG_new/fpc_588.vtu  \n",
            " extracting: ./FPC_Re3900_CG_new/fpc_754.vtu  \n",
            " extracting: ./FPC_Re3900_CG_new/fpc_248.vtu  \n",
            " extracting: ./FPC_Re3900_CG_new/fpc_746.vtu  \n",
            " extracting: ./FPC_Re3900_CG_new/fpc_445.vtu  \n",
            " extracting: ./FPC_Re3900_CG_new/fpc_633.vtu  \n",
            " extracting: ./FPC_Re3900_CG_new/fpc_356.vtu  \n",
            " extracting: ./FPC_Re3900_CG_new/fpc_336.vtu  \n",
            " extracting: ./FPC_Re3900_CG_new/fpc_856.vtu  \n",
            " extracting: ./FPC_Re3900_CG_new/fpc_581.vtu  \n",
            " extracting: ./FPC_Re3900_CG_new/fpc_328.vtu  \n",
            " extracting: ./FPC_Re3900_CG_new/fpc_925.vtu  \n",
            " extracting: ./FPC_Re3900_CG_new/fpc_725.vtu  \n",
            " extracting: ./FPC_Re3900_CG_new/fpc_488.vtu  \n",
            " extracting: ./FPC_Re3900_CG_new/fpc_136.vtu  \n",
            " extracting: ./FPC_Re3900_CG_new/fpc_247.vtu  \n",
            " extracting: ./FPC_Re3900_CG_new/fpc_362.vtu  \n",
            " extracting: ./FPC_Re3900_CG_new/fpc_503.vtu  \n",
            " extracting: ./FPC_Re3900_CG_new/fpc_307.vtu  \n",
            " extracting: ./FPC_Re3900_CG_new/fpc_354.vtu  \n",
            " extracting: ./FPC_Re3900_CG_new/fpc_255.vtu  \n",
            " extracting: ./FPC_Re3900_CG_new/fpc_824.vtu  \n",
            " extracting: ./FPC_Re3900_CG_new/fpc_906.vtu  \n",
            " extracting: ./FPC_Re3900_CG_new/fpc_731.vtu  \n",
            " extracting: ./FPC_Re3900_CG_new/fpc_718.vtu  \n",
            " extracting: ./FPC_Re3900_CG_new/fpc_116.vtu  \n",
            " extracting: ./FPC_Re3900_CG_new/fpc_179.vtu  \n",
            " extracting: ./FPC_Re3900_CG_new/fpc_881.vtu  \n",
            " extracting: ./FPC_Re3900_CG_new/fpc_573.vtu  \n",
            " extracting: ./FPC_Re3900_CG_new/fpc_699.vtu  \n",
            " extracting: ./FPC_Re3900_CG_new/fpc_398.vtu  \n",
            " extracting: ./FPC_Re3900_CG_new/fpc_465.vtu  \n",
            " extracting: ./FPC_Re3900_CG_new/fpc_642.vtu  \n",
            " extracting: ./FPC_Re3900_CG_new/fpc_270.vtu  \n",
            " extracting: ./FPC_Re3900_CG_new/fpc_792.vtu  \n",
            " extracting: ./FPC_Re3900_CG_new/fpc_174.vtu  \n",
            " extracting: ./FPC_Re3900_CG_new/fpc_430.vtu  \n",
            " extracting: ./FPC_Re3900_CG_new/fpc_517.vtu  \n",
            " extracting: ./FPC_Re3900_CG_new/fpc_366.vtu  \n",
            " extracting: ./FPC_Re3900_CG_new/fpc_868.vtu  \n",
            " extracting: ./FPC_Re3900_CG_new/fpc_530.vtu  \n",
            " extracting: ./FPC_Re3900_CG_new/fpc_949.vtu  \n",
            " extracting: ./FPC_Re3900_CG_new/fpc_577.vtu  \n",
            " extracting: ./FPC_Re3900_CG_new/fpc_541.vtu  \n",
            " extracting: ./FPC_Re3900_CG_new/fpc_549.vtu  \n",
            " extracting: ./FPC_Re3900_CG_new/fpc_213.vtu  \n",
            " extracting: ./FPC_Re3900_CG_new/fpc_901.vtu  \n",
            " extracting: ./FPC_Re3900_CG_new/fpc_936.vtu  \n",
            " extracting: ./FPC_Re3900_CG_new/fpc_899.vtu  \n",
            " extracting: ./FPC_Re3900_CG_new/fpc_346.vtu  \n",
            " extracting: ./FPC_Re3900_CG_new/fpc_183.vtu  \n",
            " extracting: ./FPC_Re3900_CG_new/fpc_756.vtu  \n",
            " extracting: ./FPC_Re3900_CG_new/fpc_223.vtu  \n",
            " extracting: ./FPC_Re3900_CG_new/fpc_978.vtu  \n",
            " extracting: ./FPC_Re3900_CG_new/fpc_942.vtu  \n",
            " extracting: ./FPC_Re3900_CG_new/fpc_902.vtu  \n",
            " extracting: ./FPC_Re3900_CG_new/fpc_727.vtu  \n",
            " extracting: ./FPC_Re3900_CG_new/fpc_704.vtu  \n",
            " extracting: ./FPC_Re3900_CG_new/fpc_670.vtu  \n",
            " extracting: ./FPC_Re3900_CG_new/fpc_583.vtu  \n",
            " extracting: ./FPC_Re3900_CG_new/fpc_658.vtu  \n",
            " extracting: ./FPC_Re3900_CG_new/fpc_482.vtu  \n",
            " extracting: ./FPC_Re3900_CG_new/fpc_477.vtu  \n",
            " extracting: ./FPC_Re3900_CG_new/fpc_694.vtu  \n",
            " extracting: ./FPC_Re3900_CG_new/fpc_298.vtu  \n",
            " extracting: ./FPC_Re3900_CG_new/fpc_639.vtu  \n",
            " extracting: ./FPC_Re3900_CG_new/fpc_772.vtu  \n",
            " extracting: ./FPC_Re3900_CG_new/fpc_880.vtu  \n",
            " extracting: ./FPC_Re3900_CG_new/fpc_614.vtu  \n",
            " extracting: ./FPC_Re3900_CG_new/fpc_279.vtu  \n",
            " extracting: ./FPC_Re3900_CG_new/fpc_747.vtu  \n",
            " extracting: ./FPC_Re3900_CG_new/fpc_450.vtu  \n",
            " extracting: ./FPC_Re3900_CG_new/fpc_759.vtu  \n",
            " extracting: ./FPC_Re3900_CG_new/fpc_257.vtu  \n",
            " extracting: ./FPC_Re3900_CG_new/fpc_810.vtu  \n",
            " extracting: ./FPC_Re3900_CG_new/fpc_522.vtu  \n",
            " extracting: ./FPC_Re3900_CG_new/fpc_246.vtu  \n",
            " extracting: ./FPC_Re3900_CG_new/fpc_424.vtu  \n",
            " extracting: ./FPC_Re3900_CG_new/fpc_480.vtu  \n",
            " extracting: ./FPC_Re3900_CG_new/fpc_854.vtu  \n",
            " extracting: ./FPC_Re3900_CG_new/fpc_401.vtu  \n",
            " extracting: ./FPC_Re3900_CG_new/fpc_685.vtu  \n",
            " extracting: ./FPC_Re3900_CG_new/fpc_391.vtu  \n",
            " extracting: ./FPC_Re3900_CG_new/fpc_885.vtu  \n",
            " extracting: ./FPC_Re3900_CG_new/fpc_507.vtu  \n",
            " extracting: ./FPC_Re3900_CG_new/fpc_636.vtu  \n",
            " extracting: ./FPC_Re3900_CG_new/fpc_850.vtu  \n",
            " extracting: ./FPC_Re3900_CG_new/fpc_110.vtu  \n",
            " extracting: ./FPC_Re3900_CG_new/fpc_656.vtu  \n",
            " extracting: ./FPC_Re3900_CG_new/fpc_922.vtu  \n",
            " extracting: ./FPC_Re3900_CG_new/fpc_710.vtu  \n",
            " extracting: ./FPC_Re3900_CG_new/fpc_433.vtu  \n",
            " extracting: ./FPC_Re3900_CG_new/fpc_935.vtu  \n",
            " extracting: ./FPC_Re3900_CG_new/fpc_485.vtu  \n",
            " extracting: ./FPC_Re3900_CG_new/fpc_373.vtu  \n",
            " extracting: ./FPC_Re3900_CG_new/fpc_364.vtu  \n",
            " extracting: ./FPC_Re3900_CG_new/fpc_861.vtu  \n",
            " extracting: ./FPC_Re3900_CG_new/fpc_559.vtu  \n",
            " extracting: ./FPC_Re3900_CG_new/fpc_302.vtu  \n",
            " extracting: ./FPC_Re3900_CG_new/fpc_439.vtu  \n",
            " extracting: ./FPC_Re3900_CG_new/fpc_644.vtu  \n",
            " extracting: ./FPC_Re3900_CG_new/fpc_532.vtu  \n",
            " extracting: ./FPC_Re3900_CG_new/fpc_800.vtu  \n",
            " extracting: ./FPC_Re3900_CG_new/fpc_444.vtu  \n",
            " extracting: ./FPC_Re3900_CG_new/fpc_431.vtu  \n",
            " extracting: ./FPC_Re3900_CG_new/fpc_291.vtu  \n",
            " extracting: ./FPC_Re3900_CG_new/fpc_274.vtu  \n",
            " extracting: ./FPC_Re3900_CG_new/fpc_648.vtu  \n",
            " extracting: ./FPC_Re3900_CG_new/fpc_229.vtu  \n",
            " extracting: ./FPC_Re3900_CG_new/fpc_528.vtu  \n",
            " extracting: ./FPC_Re3900_CG_new/fpc_358.vtu  \n",
            " extracting: ./FPC_Re3900_CG_new/fpc_448.vtu  \n",
            " extracting: ./FPC_Re3900_CG_new/fpc_894.vtu  \n",
            " extracting: ./FPC_Re3900_CG_new/fpc_392.vtu  \n",
            " extracting: ./FPC_Re3900_CG_new/fpc_997.vtu  \n",
            " extracting: ./FPC_Re3900_CG_new/fpc_543.vtu  \n",
            " extracting: ./FPC_Re3900_CG_new/fpc_823.vtu  \n",
            " extracting: ./FPC_Re3900_CG_new/fpc_294.vtu  \n",
            " extracting: ./FPC_Re3900_CG_new/fpc_929.vtu  \n",
            " extracting: ./FPC_Re3900_CG_new/fpc_208.vtu  \n",
            " extracting: ./FPC_Re3900_CG_new/fpc_762.vtu  \n",
            " extracting: ./FPC_Re3900_CG_new/fpc_258.vtu  \n",
            " extracting: ./FPC_Re3900_CG_new/fpc_616.vtu  \n",
            " extracting: ./FPC_Re3900_CG_new/fpc_121.vtu  \n",
            " extracting: ./FPC_Re3900_CG_new/fpc_601.vtu  \n",
            " extracting: ./FPC_Re3900_CG_new/fpc_129.vtu  \n",
            " extracting: ./FPC_Re3900_CG_new/fpc_343.vtu  \n",
            " extracting: ./FPC_Re3900_CG_new/fpc_353.vtu  \n",
            " extracting: ./FPC_Re3900_CG_new/fpc_695.vtu  \n",
            " extracting: ./FPC_Re3900_CG_new/fpc_877.vtu  \n",
            " extracting: ./FPC_Re3900_CG_new/fpc_151.vtu  \n",
            " extracting: ./FPC_Re3900_CG_new/fpc_371.vtu  \n",
            " extracting: ./FPC_Re3900_CG_new/fpc_523.vtu  \n",
            " extracting: ./FPC_Re3900_CG_new/fpc_571.vtu  \n",
            " extracting: ./FPC_Re3900_CG_new/fpc_299.vtu  \n",
            " extracting: ./FPC_Re3900_CG_new/fpc_115.vtu  \n",
            " extracting: ./FPC_Re3900_CG_new/fpc_600.vtu  \n",
            " extracting: ./FPC_Re3900_CG_new/fpc_195.vtu  \n",
            " extracting: ./FPC_Re3900_CG_new/fpc_848.vtu  \n",
            " extracting: ./FPC_Re3900_CG_new/fpc_946.vtu  \n",
            " extracting: ./FPC_Re3900_CG_new/fpc_429.vtu  \n",
            " extracting: ./FPC_Re3900_CG_new/fpc_123.vtu  \n",
            " extracting: ./FPC_Re3900_CG_new/fpc_590.vtu  \n",
            " extracting: ./FPC_Re3900_CG_new/fpc_534.vtu  \n",
            " extracting: ./FPC_Re3900_CG_new/fpc_612.vtu  \n",
            " extracting: ./FPC_Re3900_CG_new/fpc_912.vtu  \n",
            " extracting: ./FPC_Re3900_CG_new/fpc_526.vtu  \n",
            " extracting: ./FPC_Re3900_CG_new/fpc_108.vtu  \n",
            " extracting: ./FPC_Re3900_CG_new/fpc_225.vtu  \n",
            " extracting: ./FPC_Re3900_CG_new/fpc_334.vtu  \n",
            " extracting: ./FPC_Re3900_CG_new/fpc_126.vtu  \n",
            " extracting: ./FPC_Re3900_CG_new/fpc_812.vtu  \n",
            " extracting: ./FPC_Re3900_CG_new/fpc_405.vtu  \n",
            " extracting: ./FPC_Re3900_CG_new/fpc_545.vtu  \n",
            " extracting: ./FPC_Re3900_CG_new/fpc_939.vtu  \n",
            " extracting: ./FPC_Re3900_CG_new/fpc_857.vtu  \n",
            " extracting: ./FPC_Re3900_CG_new/fpc_154.vtu  \n",
            " extracting: ./FPC_Re3900_CG_new/fpc_182.vtu  \n",
            " extracting: ./FPC_Re3900_CG_new/fpc_386.vtu  \n",
            " extracting: ./FPC_Re3900_CG_new/fpc_515.vtu  \n",
            " extracting: ./FPC_Re3900_CG_new/fpc_753.vtu  \n",
            " extracting: ./FPC_Re3900_CG_new/fpc_637.vtu  \n",
            " extracting: ./FPC_Re3900_CG_new/fpc_551.vtu  \n",
            " extracting: ./FPC_Re3900_CG_new/fpc_578.vtu  \n",
            " extracting: ./FPC_Re3900_CG_new/fpc_493.vtu  \n",
            " extracting: ./FPC_Re3900_CG_new/fpc_584.vtu  \n",
            " extracting: ./FPC_Re3900_CG_new/fpc_802.vtu  \n",
            " extracting: ./FPC_Re3900_CG_new/fpc_820.vtu  \n",
            " extracting: ./FPC_Re3900_CG_new/fpc_884.vtu  \n",
            " extracting: ./FPC_Re3900_CG_new/fpc_806.vtu  \n",
            " extracting: ./FPC_Re3900_CG_new/fpc_378.vtu  \n",
            " extracting: ./FPC_Re3900_CG_new/fpc_973.vtu  \n",
            " extracting: ./FPC_Re3900_CG_new/fpc_923.vtu  \n",
            " extracting: ./FPC_Re3900_CG_new/fpc_661.vtu  \n",
            " extracting: ./FPC_Re3900_CG_new/fpc_303.vtu  \n",
            " extracting: ./FPC_Re3900_CG_new/fpc_937.vtu  \n",
            " extracting: ./FPC_Re3900_CG_new/fpc_702.vtu  \n",
            " extracting: ./FPC_Re3900_CG_new/fpc_420.vtu  \n",
            " extracting: ./FPC_Re3900_CG_new/fpc_178.vtu  \n",
            " extracting: ./FPC_Re3900_CG_new/fpc_292.vtu  \n",
            " extracting: ./FPC_Re3900_CG_new/fpc_205.vtu  \n",
            " extracting: ./FPC_Re3900_CG_new/fpc_640.vtu  \n",
            " extracting: ./FPC_Re3900_CG_new/fpc_715.vtu  \n",
            " extracting: ./FPC_Re3900_CG_new/fpc_324.vtu  \n",
            " extracting: ./FPC_Re3900_CG_new/fpc_730.vtu  \n",
            " extracting: ./FPC_Re3900_CG_new/fpc_409.vtu  \n",
            " extracting: ./FPC_Re3900_CG_new/fpc_933.vtu  \n",
            " extracting: ./FPC_Re3900_CG_new/fpc_250.vtu  \n",
            " extracting: ./FPC_Re3900_CG_new/fpc_771.vtu  \n",
            " extracting: ./FPC_Re3900_CG_new/fpc_822.vtu  \n",
            " extracting: ./FPC_Re3900_CG_new/fpc_432.vtu  \n",
            " extracting: ./FPC_Re3900_CG_new/fpc_133.vtu  \n",
            " extracting: ./FPC_Re3900_CG_new/fpc_186.vtu  \n",
            " extracting: ./FPC_Re3900_CG_new/fpc_688.vtu  \n",
            " extracting: ./FPC_Re3900_CG_new/fpc_456.vtu  \n",
            " extracting: ./FPC_Re3900_CG_new/fpc_618.vtu  \n",
            " extracting: ./FPC_Re3900_CG_new/fpc_964.vtu  \n",
            " extracting: ./FPC_Re3900_CG_new/fpc_476.vtu  \n",
            " extracting: ./FPC_Re3900_CG_new/fpc_863.vtu  \n",
            " extracting: ./FPC_Re3900_CG_new/fpc_796.vtu  \n",
            " extracting: ./FPC_Re3900_CG_new/fpc_472.vtu  \n",
            " extracting: ./FPC_Re3900_CG_new/fpc_993.vtu  \n",
            " extracting: ./FPC_Re3900_CG_new/fpc_679.vtu  \n",
            " extracting: ./FPC_Re3900_CG_new/fpc_357.vtu  \n",
            " extracting: ./FPC_Re3900_CG_new/fpc_335.vtu  \n",
            " extracting: ./FPC_Re3900_CG_new/fpc_347.vtu  \n",
            " extracting: ./FPC_Re3900_CG_new/fpc_536.vtu  \n",
            " extracting: ./FPC_Re3900_CG_new/fpc_496.vtu  \n",
            " extracting: ./FPC_Re3900_CG_new/fpc_896.vtu  \n",
            " extracting: ./FPC_Re3900_CG_new/fpc_390.vtu  \n",
            " extracting: ./FPC_Re3900_CG_new/fpc_700.vtu  \n",
            " extracting: ./FPC_Re3900_CG_new/fpc_547.vtu  \n",
            " extracting: ./FPC_Re3900_CG_new/fpc_564.vtu  \n",
            " extracting: ./FPC_Re3900_CG_new/fpc_377.vtu  \n",
            " extracting: ./FPC_Re3900_CG_new/fpc_830.vtu  \n",
            " extracting: ./FPC_Re3900_CG_new/fpc_598.vtu  \n",
            " extracting: ./FPC_Re3900_CG_new/fpc_217.vtu  \n",
            " extracting: ./FPC_Re3900_CG_new/fpc_813.vtu  \n",
            " extracting: ./FPC_Re3900_CG_new/fpc_969.vtu  \n",
            " extracting: ./FPC_Re3900_CG_new/fpc_400.vtu  \n",
            " extracting: ./FPC_Re3900_CG_new/fpc_436.vtu  \n",
            " extracting: ./FPC_Re3900_CG_new/fpc_918.vtu  \n",
            " extracting: ./FPC_Re3900_CG_new/fpc_862.vtu  \n",
            " extracting: ./FPC_Re3900_CG_new/fpc_660.vtu  \n",
            " extracting: ./FPC_Re3900_CG_new/fpc_587.vtu  \n",
            " extracting: ./FPC_Re3900_CG_new/fpc_527.vtu  \n",
            " extracting: ./FPC_Re3900_CG_new/fpc_745.vtu  \n",
            " extracting: ./FPC_Re3900_CG_new/fpc_230.vtu  \n",
            " extracting: ./FPC_Re3900_CG_new/fpc_539.vtu  \n",
            " extracting: ./FPC_Re3900_CG_new/fpc_760.vtu  \n",
            " extracting: ./FPC_Re3900_CG_new/fpc_758.vtu  \n",
            " extracting: ./FPC_Re3900_CG_new/fpc_244.vtu  \n",
            " extracting: ./FPC_Re3900_CG_new/fpc_834.vtu  \n",
            " extracting: ./FPC_Re3900_CG_new/fpc_412.vtu  \n",
            " extracting: ./FPC_Re3900_CG_new/fpc_659.vtu  \n",
            " extracting: ./FPC_Re3900_CG_new/fpc_649.vtu  \n",
            " extracting: ./FPC_Re3900_CG_new/fpc_171.vtu  \n",
            " extracting: ./FPC_Re3900_CG_new/fpc_665.vtu  \n",
            " extracting: ./FPC_Re3900_CG_new/fpc_591.vtu  \n",
            " extracting: ./FPC_Re3900_CG_new/fpc_908.vtu  \n",
            " extracting: ./FPC_Re3900_CG_new/fpc_782.vtu  \n",
            " extracting: ./FPC_Re3900_CG_new/fpc_570.vtu  \n",
            " extracting: ./FPC_Re3900_CG_new/fpc_585.vtu  \n",
            " extracting: ./FPC_Re3900_CG_new/fpc_253.vtu  \n",
            " extracting: ./FPC_Re3900_CG_new/fpc_795.vtu  \n",
            " extracting: ./FPC_Re3900_CG_new/fpc_499.vtu  \n",
            " extracting: ./FPC_Re3900_CG_new/fpc_484.vtu  \n",
            " extracting: ./FPC_Re3900_CG_new/fpc_146.vtu  \n",
            " extracting: ./FPC_Re3900_CG_new/fpc_971.vtu  \n",
            " extracting: ./FPC_Re3900_CG_new/fpc_193.vtu  \n",
            " extracting: ./FPC_Re3900_CG_new/fpc_309.vtu  \n",
            " extracting: ./FPC_Re3900_CG_new/fpc_934.vtu  \n",
            " extracting: ./FPC_Re3900_CG_new/fpc_259.vtu  \n",
            " extracting: ./FPC_Re3900_CG_new/fpc_828.vtu  \n",
            " extracting: ./FPC_Re3900_CG_new/fpc_102.vtu  \n",
            " extracting: ./FPC_Re3900_CG_new/fpc_224.vtu  \n",
            " extracting: ./FPC_Re3900_CG_new/fpc_251.vtu  \n",
            " extracting: ./FPC_Re3900_CG_new/fpc_982.vtu  \n",
            " extracting: ./FPC_Re3900_CG_new/fpc_434.vtu  \n",
            " extracting: ./FPC_Re3900_CG_new/fpc_382.vtu  \n",
            " extracting: ./FPC_Re3900_CG_new/fpc_709.vtu  \n",
            " extracting: ./FPC_Re3900_CG_new/fpc_714.vtu  \n",
            " extracting: ./FPC_Re3900_CG_new/fpc_869.vtu  \n",
            " extracting: ./FPC_Re3900_CG_new/fpc_228.vtu  \n",
            " extracting: ./FPC_Re3900_CG_new/fpc_674.vtu  \n",
            " extracting: ./FPC_Re3900_CG_new/fpc_172.vtu  \n",
            " extracting: ./FPC_Re3900_CG_new/fpc_737.vtu  \n",
            " extracting: ./FPC_Re3900_CG_new/fpc_838.vtu  \n",
            " extracting: ./FPC_Re3900_CG_new/fpc_389.vtu  \n",
            " extracting: ./FPC_Re3900_CG_new/fpc_789.vtu  \n",
            " extracting: ./FPC_Re3900_CG_new/fpc_320.vtu  \n",
            " extracting: ./FPC_Re3900_CG_new/fpc_502.vtu  \n",
            " extracting: ./FPC_Re3900_CG_new/fpc_288.vtu  \n",
            " extracting: ./FPC_Re3900_CG_new/fpc_440.vtu  \n",
            " extracting: ./FPC_Re3900_CG_new/fpc_996.vtu  \n",
            " extracting: ./FPC_Re3900_CG_new/fpc_959.vtu  \n",
            " extracting: ./FPC_Re3900_CG_new/fpc_295.vtu  \n",
            " extracting: ./FPC_Re3900_CG_new/fpc_713.vtu  \n",
            " extracting: ./FPC_Re3900_CG_new/fpc_341.vtu  \n",
            " extracting: ./FPC_Re3900_CG_new/fpc_865.vtu  \n",
            " extracting: ./FPC_Re3900_CG_new/fpc_463.vtu  \n",
            " extracting: ./FPC_Re3900_CG_new/fpc_697.vtu  \n",
            " extracting: ./FPC_Re3900_CG_new/fpc_191.vtu  \n",
            " extracting: ./FPC_Re3900_CG_new/fpc_396.vtu  \n",
            " extracting: ./FPC_Re3900_CG_new/fpc_911.vtu  \n",
            " extracting: ./FPC_Re3900_CG_new/fpc_781.vtu  \n",
            " extracting: ./FPC_Re3900_CG_new/fpc_249.vtu  \n",
            " extracting: ./FPC_Re3900_CG_new/fpc_751.vtu  \n",
            " extracting: ./FPC_Re3900_CG_new/fpc_261.vtu  \n",
            " extracting: ./FPC_Re3900_CG_new/fpc_889.vtu  \n",
            " extracting: ./FPC_Re3900_CG_new/fpc_815.vtu  \n",
            " extracting: ./FPC_Re3900_CG_new/fpc_608.vtu  \n",
            " extracting: ./FPC_Re3900_CG_new/fpc_778.vtu  \n",
            " extracting: ./FPC_Re3900_CG_new/fpc_408.vtu  \n",
            " extracting: ./FPC_Re3900_CG_new/fpc_966.vtu  \n",
            " extracting: ./FPC_Re3900_CG_new/fpc_873.vtu  \n",
            " extracting: ./FPC_Re3900_CG_new/fpc_127.vtu  \n",
            " extracting: ./FPC_Re3900_CG_new/fpc_706.vtu  \n",
            " extracting: ./FPC_Re3900_CG_new/fpc_109.vtu  \n",
            " extracting: ./FPC_Re3900_CG_new/fpc_604.vtu  \n",
            " extracting: ./FPC_Re3900_CG_new/fpc_265.vtu  \n",
            " extracting: ./FPC_Re3900_CG_new/fpc_766.vtu  \n",
            " extracting: ./FPC_Re3900_CG_new/fpc_404.vtu  \n",
            " extracting: ./FPC_Re3900_CG_new/fpc_799.vtu  \n",
            " extracting: ./FPC_Re3900_CG_new/fpc_831.vtu  \n",
            " extracting: ./FPC_Re3900_CG_new/fpc_483.vtu  \n",
            " extracting: ./FPC_Re3900_CG_new/fpc_825.vtu  \n",
            " extracting: ./FPC_Re3900_CG_new/fpc_627.vtu  \n",
            " extracting: ./FPC_Re3900_CG_new/fpc_166.vtu  \n",
            " extracting: ./FPC_Re3900_CG_new/fpc_533.vtu  \n",
            " extracting: ./FPC_Re3900_CG_new/fpc_317.vtu  \n",
            " extracting: ./FPC_Re3900_CG_new/fpc_486.vtu  \n",
            " extracting: ./FPC_Re3900_CG_new/fpc_452.vtu  \n",
            " extracting: ./FPC_Re3900_CG_new/fpc_957.vtu  \n",
            " extracting: ./FPC_Re3900_CG_new/fpc_635.vtu  \n",
            " extracting: ./FPC_Re3900_CG_new/fpc_651.vtu  \n",
            " extracting: ./FPC_Re3900_CG_new/fpc_157.vtu  \n",
            " extracting: ./FPC_Re3900_CG_new/fpc_330.vtu  \n",
            " extracting: ./FPC_Re3900_CG_new/fpc_970.vtu  \n",
            " extracting: ./FPC_Re3900_CG_new/fpc_393.vtu  \n",
            " extracting: ./FPC_Re3900_CG_new/fpc_664.vtu  \n",
            " extracting: ./FPC_Re3900_CG_new/fpc_886.vtu  \n",
            " extracting: ./FPC_Re3900_CG_new/fpc_313.vtu  \n",
            " extracting: ./FPC_Re3900_CG_new/fpc_654.vtu  \n",
            " extracting: ./FPC_Re3900_CG_new/fpc_198.vtu  \n",
            " extracting: ./FPC_Re3900_CG_new/fpc_383.vtu  \n",
            " extracting: ./FPC_Re3900_CG_new/fpc_921.vtu  \n",
            " extracting: ./FPC_Re3900_CG_new/fpc_301.vtu  \n",
            " extracting: ./FPC_Re3900_CG_new/fpc_562.vtu  \n",
            " extracting: ./FPC_Re3900_CG_new/fpc_387.vtu  \n",
            " extracting: ./FPC_Re3900_CG_new/fpc_953.vtu  \n",
            " extracting: ./FPC_Re3900_CG_new/fpc_240.vtu  \n",
            " extracting: ./FPC_Re3900_CG_new/fpc_111.vtu  \n",
            " extracting: ./FPC_Re3900_CG_new/fpc_497.vtu  \n",
            " extracting: ./FPC_Re3900_CG_new/fpc_768.vtu  \n",
            " extracting: ./FPC_Re3900_CG_new/fpc_575.vtu  \n",
            " extracting: ./FPC_Re3900_CG_new/fpc_269.vtu  \n",
            " extracting: ./FPC_Re3900_CG_new/fpc_793.vtu  \n",
            " extracting: ./FPC_Re3900_CG_new/fpc_511.vtu  \n",
            " extracting: ./FPC_Re3900_CG_new/fpc_841.vtu  \n",
            " extracting: ./FPC_Re3900_CG_new/fpc_615.vtu  \n",
            " extracting: ./FPC_Re3900_CG_new/fpc_870.vtu  \n",
            " extracting: ./FPC_Re3900_CG_new/fpc_281.vtu  \n",
            " extracting: ./FPC_Re3900_CG_new/fpc_325.vtu  \n",
            " extracting: ./FPC_Re3900_CG_new/fpc_236.vtu  \n",
            " extracting: ./FPC_Re3900_CG_new/fpc_589.vtu  \n",
            " extracting: ./FPC_Re3900_CG_new/fpc_619.vtu  \n",
            " extracting: ./FPC_Re3900_CG_new/fpc_216.vtu  \n",
            " extracting: ./FPC_Re3900_CG_new/fpc_221.vtu  \n",
            " extracting: ./FPC_Re3900_CG_new/fpc_118.vtu  \n",
            " extracting: ./FPC_Re3900_CG_new/fpc_308.vtu  \n",
            " extracting: ./FPC_Re3900_CG_new/fpc_376.vtu  \n",
            " extracting: ./FPC_Re3900_CG_new/fpc_629.vtu  \n",
            " extracting: ./FPC_Re3900_CG_new/fpc_683.vtu  \n",
            " extracting: ./FPC_Re3900_CG_new/fpc_212.vtu  \n",
            " extracting: ./FPC_Re3900_CG_new/fpc_156.vtu  \n",
            " extracting: ./FPC_Re3900_CG_new/fpc_783.vtu  \n",
            " extracting: ./FPC_Re3900_CG_new/fpc_653.vtu  \n",
            " extracting: ./FPC_Re3900_CG_new/fpc_757.vtu  \n",
            " extracting: ./FPC_Re3900_CG_new/fpc_120.vtu  \n",
            " extracting: ./FPC_Re3900_CG_new/fpc_170.vtu  \n",
            " extracting: ./FPC_Re3900_CG_new/fpc_582.vtu  \n",
            " extracting: ./FPC_Re3900_CG_new/fpc_892.vtu  \n",
            " extracting: ./FPC_Re3900_CG_new/fpc_560.vtu  \n",
            " extracting: ./FPC_Re3900_CG_new/fpc_153.vtu  \n",
            " extracting: ./FPC_Re3900_CG_new/fpc_290.vtu  \n",
            " extracting: ./FPC_Re3900_CG_new/fpc_467.vtu  \n",
            " extracting: ./FPC_Re3900_CG_new/fpc_125.vtu  \n",
            " extracting: ./FPC_Re3900_CG_new/fpc_645.vtu  \n",
            " extracting: ./FPC_Re3900_CG_new/fpc_197.vtu  \n",
            " extracting: ./FPC_Re3900_CG_new/fpc_638.vtu  \n",
            " extracting: ./FPC_Re3900_CG_new/fpc_984.vtu  \n",
            " extracting: ./FPC_Re3900_CG_new/fpc_137.vtu  \n",
            " extracting: ./FPC_Re3900_CG_new/fpc_914.vtu  \n",
            " extracting: ./FPC_Re3900_CG_new/fpc_992.vtu  \n",
            " extracting: ./FPC_Re3900_CG_new/fpc_260.vtu  \n",
            " extracting: ./FPC_Re3900_CG_new/fpc_402.vtu  \n",
            " extracting: ./FPC_Re3900_CG_new/fpc_960.vtu  \n",
            " extracting: ./FPC_Re3900_CG_new/fpc_131.vtu  \n",
            " extracting: ./FPC_Re3900_CG_new/fpc_256.vtu  \n",
            " extracting: ./FPC_Re3900_CG_new/fpc_234.vtu  \n",
            " extracting: ./FPC_Re3900_CG_new/fpc_839.vtu  \n",
            " extracting: ./FPC_Re3900_CG_new/fpc_525.vtu  \n",
            " extracting: ./FPC_Re3900_CG_new/fpc_538.vtu  \n",
            " extracting: ./FPC_Re3900_CG_new/fpc_821.vtu  \n",
            " extracting: ./FPC_Re3900_CG_new/fpc_928.vtu  \n",
            " extracting: ./FPC_Re3900_CG_new/fpc_342.vtu  \n",
            " extracting: ./FPC_Re3900_CG_new/fpc_835.vtu  \n",
            " extracting: ./FPC_Re3900_CG_new/fpc_227.vtu  \n",
            " extracting: ./FPC_Re3900_CG_new/fpc_817.vtu  \n",
            " extracting: ./FPC_Re3900_CG_new/fpc_976.vtu  \n",
            " extracting: ./FPC_Re3900_CG_new/fpc_338.vtu  \n",
            " extracting: ./FPC_Re3900_CG_new/fpc_469.vtu  \n",
            " extracting: ./FPC_Re3900_CG_new/fpc_909.vtu  \n",
            " extracting: ./FPC_Re3900_CG_new/fpc_413.vtu  \n",
            " extracting: ./FPC_Re3900_CG_new/fpc_774.vtu  \n",
            " extracting: ./FPC_Re3900_CG_new/fpc_741.vtu  \n",
            " extracting: ./FPC_Re3900_CG_new/fpc_360.vtu  \n",
            " extracting: ./FPC_Re3900_CG_new/fpc_385.vtu  \n",
            " extracting: ./FPC_Re3900_CG_new/fpc_289.vtu  \n",
            " extracting: ./FPC_Re3900_CG_new/fpc_794.vtu  \n",
            " extracting: ./FPC_Re3900_CG_new/fpc_956.vtu  \n",
            " extracting: ./FPC_Re3900_CG_new/fpc_139.vtu  \n",
            " extracting: ./FPC_Re3900_CG_new/fpc_986.vtu  \n",
            " extracting: ./FPC_Re3900_CG_new/fpc_491.vtu  \n",
            " extracting: ./FPC_Re3900_CG_new/fpc_968.vtu  \n",
            " extracting: ./FPC_Re3900_CG_new/fpc_327.vtu  \n",
            " extracting: ./FPC_Re3900_CG_new/fpc_994.vtu  \n",
            " extracting: ./FPC_Re3900_CG_new/fpc_722.vtu  \n",
            " extracting: ./FPC_Re3900_CG_new/fpc_569.vtu  \n",
            " extracting: ./FPC_Re3900_CG_new/fpc_910.vtu  \n",
            " extracting: ./FPC_Re3900_CG_new/fpc_574.vtu  \n",
            " extracting: ./FPC_Re3900_CG_new/fpc_716.vtu  \n",
            " extracting: ./FPC_Re3900_CG_new/fpc_776.vtu  \n",
            " extracting: ./FPC_Re3900_CG_new/fpc_689.vtu  \n",
            " extracting: ./FPC_Re3900_CG_new/fpc_631.vtu  \n",
            " extracting: ./FPC_Re3900_CG_new/fpc_888.vtu  \n",
            " extracting: ./FPC_Re3900_CG_new/fpc_579.vtu  \n",
            " extracting: ./FPC_Re3900_CG_new/fpc_557.vtu  \n",
            " extracting: ./FPC_Re3900_CG_new/fpc_374.vtu  \n",
            " extracting: ./FPC_Re3900_CG_new/fpc_418.vtu  \n",
            " extracting: ./FPC_Re3900_CG_new/fpc_359.vtu  \n",
            " extracting: ./FPC_Re3900_CG_new/fpc_769.vtu  \n",
            " extracting: ./FPC_Re3900_CG_new/fpc_169.vtu  \n",
            " extracting: ./FPC_Re3900_CG_new/fpc_773.vtu  \n",
            " extracting: ./FPC_Re3900_CG_new/fpc_840.vtu  \n",
            " extracting: ./FPC_Re3900_CG_new/fpc_220.vtu  \n",
            " extracting: ./FPC_Re3900_CG_new/fpc_442.vtu  \n",
            " extracting: ./FPC_Re3900_CG_new/fpc_421.vtu  \n",
            " extracting: ./FPC_Re3900_CG_new/fpc_872.vtu  \n",
            " extracting: ./FPC_Re3900_CG_new/fpc_736.vtu  \n",
            " extracting: ./FPC_Re3900_CG_new/fpc_621.vtu  \n",
            " extracting: ./FPC_Re3900_CG_new/fpc_667.vtu  \n",
            " extracting: ./FPC_Re3900_CG_new/fpc_305.vtu  \n",
            " extracting: ./FPC_Re3900_CG_new/fpc_297.vtu  \n",
            " extracting: ./FPC_Re3900_CG_new/fpc_155.vtu  \n",
            " extracting: ./FPC_Re3900_CG_new/fpc_605.vtu  \n",
            " extracting: ./FPC_Re3900_CG_new/fpc_128.vtu  \n",
            " extracting: ./FPC_Re3900_CG_new/fpc_610.vtu  \n",
            " extracting: ./FPC_Re3900_CG_new/fpc_203.vtu  \n",
            " extracting: ./FPC_Re3900_CG_new/fpc_707.vtu  \n",
            " extracting: ./FPC_Re3900_CG_new/fpc_876.vtu  \n",
            " extracting: ./FPC_Re3900_CG_new/fpc_176.vtu  \n",
            " extracting: ./FPC_Re3900_CG_new/fpc_904.vtu  \n",
            " extracting: ./FPC_Re3900_CG_new/fpc_459.vtu  \n",
            " extracting: ./FPC_Re3900_CG_new/fpc_628.vtu  \n",
            " extracting: ./FPC_Re3900_CG_new/fpc_586.vtu  \n",
            " extracting: ./FPC_Re3900_CG_new/fpc_481.vtu  \n",
            " extracting: ./FPC_Re3900_CG_new/fpc_998.vtu  \n",
            " extracting: ./FPC_Re3900_CG_new/fpc_462.vtu  \n",
            " extracting: ./FPC_Re3900_CG_new/fpc_315.vtu  \n",
            " extracting: ./FPC_Re3900_CG_new/fpc_807.vtu  \n",
            " extracting: ./FPC_Re3900_CG_new/fpc_345.vtu  \n",
            " extracting: ./FPC_Re3900_CG_new/fpc_321.vtu  \n",
            " extracting: ./FPC_Re3900_CG_new/fpc_990.vtu  \n",
            " extracting: ./FPC_Re3900_CG_new/fpc_425.vtu  \n",
            " extracting: ./FPC_Re3900_CG_new/fpc_669.vtu  \n",
            " extracting: ./FPC_Re3900_CG_new/fpc_331.vtu  \n",
            " extracting: ./FPC_Re3900_CG_new/fpc_453.vtu  \n",
            " extracting: ./FPC_Re3900_CG_new/fpc_518.vtu  \n",
            " extracting: ./FPC_Re3900_CG_new/fpc_441.vtu  \n",
            " extracting: ./FPC_Re3900_CG_new/fpc_268.vtu  \n",
            " extracting: ./FPC_Re3900_CG_new/fpc_693.vtu  \n",
            " extracting: ./FPC_Re3900_CG_new/fpc_566.vtu  \n",
            " extracting: ./FPC_Re3900_CG_new/fpc_284.vtu  \n",
            " extracting: ./FPC_Re3900_CG_new/fpc_252.vtu  \n",
            " extracting: ./FPC_Re3900_CG_new/fpc_506.vtu  \n",
            " extracting: ./FPC_Re3900_CG_new/fpc_852.vtu  \n",
            " extracting: ./FPC_Re3900_CG_new/fpc_372.vtu  \n",
            " extracting: ./FPC_Re3900_CG_new/fpc_264.vtu  \n",
            " extracting: ./FPC_Re3900_CG_new/fpc_926.vtu  \n",
            " extracting: ./FPC_Re3900_CG_new/fpc_833.vtu  \n",
            " extracting: ./FPC_Re3900_CG_new/fpc_500.vtu  \n",
            " extracting: ./FPC_Re3900_CG_new/fpc_272.vtu  \n",
            " extracting: ./FPC_Re3900_CG_new/fpc_623.vtu  \n",
            " extracting: ./FPC_Re3900_CG_new/fpc_411.vtu  \n",
            " extracting: ./FPC_Re3900_CG_new/fpc_232.vtu  \n",
            " extracting: ./FPC_Re3900_CG_new/fpc_107.vtu  \n",
            " extracting: ./FPC_Re3900_CG_new/fpc_755.vtu  \n",
            " extracting: ./FPC_Re3900_CG_new/fpc_365.vtu  \n",
            " extracting: ./FPC_Re3900_CG_new/fpc_749.vtu  \n",
            " extracting: ./FPC_Re3900_CG_new/fpc_379.vtu  \n",
            " extracting: ./FPC_Re3900_CG_new/fpc_898.vtu  \n",
            " extracting: ./FPC_Re3900_CG_new/fpc_173.vtu  \n",
            " extracting: ./FPC_Re3900_CG_new/fpc_666.vtu  \n",
            " extracting: ./FPC_Re3900_CG_new/fpc_655.vtu  \n",
            " extracting: ./FPC_Re3900_CG_new/fpc_163.vtu  \n",
            " extracting: ./FPC_Re3900_CG_new/fpc_474.vtu  \n",
            " extracting: ./FPC_Re3900_CG_new/fpc_105.vtu  \n",
            " extracting: ./FPC_Re3900_CG_new/fpc_167.vtu  \n",
            " extracting: ./FPC_Re3900_CG_new/fpc_952.vtu  \n",
            " extracting: ./FPC_Re3900_CG_new/fpc_350.vtu  \n",
            " extracting: ./FPC_Re3900_CG_new/fpc_974.vtu  \n",
            " extracting: ./FPC_Re3900_CG_new/fpc_859.vtu  \n",
            " extracting: ./FPC_Re3900_CG_new/fpc_508.vtu  \n",
            " extracting: ./FPC_Re3900_CG_new/fpc_495.vtu  \n",
            " extracting: ./FPC_Re3900_CG_new/fpc_940.vtu  \n",
            " extracting: ./FPC_Re3900_CG_new/fpc_867.vtu  \n",
            " extracting: ./FPC_Re3900_CG_new/fpc_734.vtu  \n",
            " extracting: ./FPC_Re3900_CG_new/fpc_138.vtu  \n",
            " extracting: ./FPC_Re3900_CG_new/fpc_690.vtu  \n",
            " extracting: ./FPC_Re3900_CG_new/fpc_100.vtu  \n",
            " extracting: ./FPC_Re3900_CG_new/fpc_980.vtu  \n",
            " extracting: ./FPC_Re3900_CG_new/fpc_122.vtu  \n",
            " extracting: ./FPC_Re3900_CG_new/fpc_882.vtu  \n",
            " extracting: ./FPC_Re3900_CG_new/fpc_913.vtu  \n",
            " extracting: ./FPC_Re3900_CG_new/fpc_871.vtu  \n",
            " extracting: ./FPC_Re3900_CG_new/fpc_1296.vtu  \n",
            " extracting: ./FPC_Re3900_CG_new/fpc_1426.vtu  \n",
            " extracting: ./FPC_Re3900_CG_new/fpc_1129.vtu  \n",
            " extracting: ./FPC_Re3900_CG_new/fpc_1604.vtu  \n",
            " extracting: ./FPC_Re3900_CG_new/fpc_1398.vtu  \n",
            " extracting: ./FPC_Re3900_CG_new/fpc_1253.vtu  \n",
            " extracting: ./FPC_Re3900_CG_new/fpc_1063.vtu  \n",
            " extracting: ./FPC_Re3900_CG_new/fpc_1299.vtu  \n",
            " extracting: ./FPC_Re3900_CG_new/fpc_1203.vtu  \n",
            " extracting: ./FPC_Re3900_CG_new/fpc_1363.vtu  \n",
            " extracting: ./FPC_Re3900_CG_new/fpc_1778.vtu  \n",
            " extracting: ./FPC_Re3900_CG_new/fpc_1261.vtu  \n",
            " extracting: ./FPC_Re3900_CG_new/fpc_1373.vtu  \n",
            " extracting: ./FPC_Re3900_CG_new/fpc_1794.vtu  \n",
            " extracting: ./FPC_Re3900_CG_new/fpc_1315.vtu  \n",
            " extracting: ./FPC_Re3900_CG_new/fpc_1726.vtu  \n",
            " extracting: ./FPC_Re3900_CG_new/fpc_1442.vtu  \n",
            " extracting: ./FPC_Re3900_CG_new/fpc_1303.vtu  \n",
            " extracting: ./FPC_Re3900_CG_new/fpc_1066.vtu  \n",
            " extracting: ./FPC_Re3900_CG_new/fpc_1424.vtu  \n",
            " extracting: ./FPC_Re3900_CG_new/fpc_1395.vtu  \n",
            " extracting: ./FPC_Re3900_CG_new/fpc_1759.vtu  \n",
            " extracting: ./FPC_Re3900_CG_new/fpc_1615.vtu  \n",
            " extracting: ./FPC_Re3900_CG_new/fpc_1229.vtu  \n",
            " extracting: ./FPC_Re3900_CG_new/fpc_1968.vtu  \n",
            " extracting: ./FPC_Re3900_CG_new/fpc_1824.vtu  \n",
            " extracting: ./FPC_Re3900_CG_new/fpc_1447.vtu  \n",
            " extracting: ./FPC_Re3900_CG_new/fpc_1343.vtu  \n",
            " extracting: ./FPC_Re3900_CG_new/fpc_1939.vtu  \n",
            " extracting: ./FPC_Re3900_CG_new/fpc_1581.vtu  \n",
            " extracting: ./FPC_Re3900_CG_new/fpc_1524.vtu  \n",
            " extracting: ./FPC_Re3900_CG_new/fpc_1110.vtu  \n",
            " extracting: ./FPC_Re3900_CG_new/fpc_1511.vtu  \n",
            " extracting: ./FPC_Re3900_CG_new/fpc_1451.vtu  \n",
            " extracting: ./FPC_Re3900_CG_new/fpc_1101.vtu  \n",
            " extracting: ./FPC_Re3900_CG_new/fpc_1332.vtu  \n",
            " extracting: ./FPC_Re3900_CG_new/fpc_1986.vtu  \n",
            " extracting: ./FPC_Re3900_CG_new/fpc_1590.vtu  \n",
            " extracting: ./FPC_Re3900_CG_new/fpc_1243.vtu  \n",
            " extracting: ./FPC_Re3900_CG_new/fpc_1092.vtu  \n",
            " extracting: ./FPC_Re3900_CG_new/fpc_1706.vtu  \n",
            " extracting: ./FPC_Re3900_CG_new/fpc_1164.vtu  \n",
            " extracting: ./FPC_Re3900_CG_new/fpc_1457.vtu  \n",
            " extracting: ./FPC_Re3900_CG_new/fpc_1738.vtu  \n",
            " extracting: ./FPC_Re3900_CG_new/fpc_1843.vtu  \n",
            " extracting: ./FPC_Re3900_CG_new/fpc_1572.vtu  \n",
            " extracting: ./FPC_Re3900_CG_new/fpc_1982.vtu  \n",
            " extracting: ./FPC_Re3900_CG_new/fpc_1419.vtu  \n",
            " extracting: ./FPC_Re3900_CG_new/fpc_1010.vtu  \n",
            " extracting: ./FPC_Re3900_CG_new/fpc_1963.vtu  \n",
            " extracting: ./FPC_Re3900_CG_new/fpc_1526.vtu  \n",
            " extracting: ./FPC_Re3900_CG_new/fpc_1178.vtu  \n",
            " extracting: ./FPC_Re3900_CG_new/fpc_1916.vtu  \n",
            " extracting: ./FPC_Re3900_CG_new/fpc_1434.vtu  \n",
            " extracting: ./FPC_Re3900_CG_new/fpc_1048.vtu  \n",
            " extracting: ./FPC_Re3900_CG_new/fpc_1951.vtu  \n",
            " extracting: ./FPC_Re3900_CG_new/fpc_1920.vtu  \n",
            " extracting: ./FPC_Re3900_CG_new/fpc_1918.vtu  \n",
            " extracting: ./FPC_Re3900_CG_new/fpc_1539.vtu  \n",
            " extracting: ./FPC_Re3900_CG_new/fpc_1282.vtu  \n",
            " extracting: ./FPC_Re3900_CG_new/fpc_1523.vtu  \n",
            " extracting: ./FPC_Re3900_CG_new/fpc_1157.vtu  \n",
            " extracting: ./FPC_Re3900_CG_new/fpc_1171.vtu  \n",
            " extracting: ./FPC_Re3900_CG_new/fpc_1768.vtu  \n",
            " extracting: ./FPC_Re3900_CG_new/fpc_1782.vtu  \n",
            " extracting: ./FPC_Re3900_CG_new/fpc_1146.vtu  \n",
            " extracting: ./FPC_Re3900_CG_new/fpc_1652.vtu  \n",
            " extracting: ./FPC_Re3900_CG_new/fpc_1482.vtu  \n",
            " extracting: ./FPC_Re3900_CG_new/fpc_1566.vtu  \n",
            " extracting: ./FPC_Re3900_CG_new/fpc_1909.vtu  \n",
            " extracting: ./FPC_Re3900_CG_new/fpc_1019.vtu  \n",
            " extracting: ./FPC_Re3900_CG_new/fpc_1005.vtu  \n",
            " extracting: ./FPC_Re3900_CG_new/fpc_1152.vtu  \n",
            " extracting: ./FPC_Re3900_CG_new/fpc_1338.vtu  \n",
            " extracting: ./FPC_Re3900_CG_new/fpc_1681.vtu  \n",
            " extracting: ./FPC_Re3900_CG_new/fpc_1978.vtu  \n",
            " extracting: ./FPC_Re3900_CG_new/fpc_1073.vtu  \n",
            " extracting: ./FPC_Re3900_CG_new/fpc_1117.vtu  \n",
            " extracting: ./FPC_Re3900_CG_new/fpc_1671.vtu  \n",
            " extracting: ./FPC_Re3900_CG_new/fpc_1974.vtu  \n",
            " extracting: ./FPC_Re3900_CG_new/fpc_1996.vtu  \n",
            " extracting: ./FPC_Re3900_CG_new/fpc_1114.vtu  \n",
            " extracting: ./FPC_Re3900_CG_new/fpc_1263.vtu  \n",
            " extracting: ./FPC_Re3900_CG_new/fpc_1596.vtu  \n",
            " extracting: ./FPC_Re3900_CG_new/fpc_1248.vtu  \n",
            " extracting: ./FPC_Re3900_CG_new/fpc_1466.vtu  \n",
            " extracting: ./FPC_Re3900_CG_new/fpc_1776.vtu  \n",
            " extracting: ./FPC_Re3900_CG_new/fpc_1864.vtu  \n",
            " extracting: ./FPC_Re3900_CG_new/fpc_1884.vtu  \n",
            " extracting: ./FPC_Re3900_CG_new/fpc_1375.vtu  \n",
            " extracting: ./FPC_Re3900_CG_new/fpc_1100.vtu  \n",
            " extracting: ./FPC_Re3900_CG_new/fpc_1833.vtu  \n",
            " extracting: ./FPC_Re3900_CG_new/fpc_1205.vtu  \n",
            " extracting: ./FPC_Re3900_CG_new/fpc_1973.vtu  \n",
            " extracting: ./FPC_Re3900_CG_new/fpc_1860.vtu  \n",
            " extracting: ./FPC_Re3900_CG_new/fpc_1886.vtu  \n",
            " extracting: ./FPC_Re3900_CG_new/fpc_1900.vtu  \n",
            " extracting: ./FPC_Re3900_CG_new/fpc_1911.vtu  \n",
            " extracting: ./FPC_Re3900_CG_new/fpc_1323.vtu  \n",
            " extracting: ./FPC_Re3900_CG_new/fpc_1035.vtu  \n",
            " extracting: ./FPC_Re3900_CG_new/fpc_1553.vtu  \n",
            " extracting: ./FPC_Re3900_CG_new/fpc_1580.vtu  \n",
            " extracting: ./FPC_Re3900_CG_new/fpc_1601.vtu  \n",
            " extracting: ./FPC_Re3900_CG_new/fpc_1711.vtu  \n",
            " extracting: ./FPC_Re3900_CG_new/fpc_1627.vtu  \n",
            " extracting: ./FPC_Re3900_CG_new/fpc_1687.vtu  \n",
            " extracting: ./FPC_Re3900_CG_new/fpc_1187.vtu  \n",
            " extracting: ./FPC_Re3900_CG_new/fpc_1848.vtu  \n",
            " extracting: ./FPC_Re3900_CG_new/fpc_1693.vtu  \n",
            " extracting: ./FPC_Re3900_CG_new/fpc_1613.vtu  \n",
            " extracting: ./FPC_Re3900_CG_new/fpc_1519.vtu  \n",
            " extracting: ./FPC_Re3900_CG_new/fpc_1235.vtu  \n",
            " extracting: ./FPC_Re3900_CG_new/fpc_1294.vtu  \n",
            " extracting: ./FPC_Re3900_CG_new/fpc_1468.vtu  \n",
            " extracting: ./FPC_Re3900_CG_new/fpc_1929.vtu  \n",
            " extracting: ./FPC_Re3900_CG_new/fpc_1905.vtu  \n",
            " extracting: ./FPC_Re3900_CG_new/fpc_1492.vtu  \n",
            " extracting: ./FPC_Re3900_CG_new/fpc_1697.vtu  \n",
            " extracting: ./FPC_Re3900_CG_new/fpc_1302.vtu  \n",
            " extracting: ./FPC_Re3900_CG_new/fpc_1975.vtu  \n",
            " extracting: ./FPC_Re3900_CG_new/fpc_1083.vtu  \n",
            " extracting: ./FPC_Re3900_CG_new/fpc_1031.vtu  \n",
            " extracting: ./FPC_Re3900_CG_new/fpc_1392.vtu  \n",
            " extracting: ./FPC_Re3900_CG_new/fpc_1250.vtu  \n",
            " extracting: ./FPC_Re3900_CG_new/fpc_1970.vtu  \n",
            " extracting: ./FPC_Re3900_CG_new/fpc_1785.vtu  \n",
            " extracting: ./FPC_Re3900_CG_new/fpc_1246.vtu  \n",
            " extracting: ./FPC_Re3900_CG_new/fpc_1325.vtu  \n",
            " extracting: ./FPC_Re3900_CG_new/fpc_1564.vtu  \n",
            " extracting: ./FPC_Re3900_CG_new/fpc_1908.vtu  \n",
            " extracting: ./FPC_Re3900_CG_new/fpc_1892.vtu  \n",
            " extracting: ./FPC_Re3900_CG_new/fpc_1618.vtu  \n",
            " extracting: ./FPC_Re3900_CG_new/fpc_1609.vtu  \n",
            " extracting: ./FPC_Re3900_CG_new/fpc_1173.vtu  \n",
            " extracting: ./FPC_Re3900_CG_new/fpc_1780.vtu  \n",
            " extracting: ./FPC_Re3900_CG_new/fpc_1472.vtu  \n",
            " extracting: ./FPC_Re3900_CG_new/fpc_1608.vtu  \n",
            " extracting: ./FPC_Re3900_CG_new/fpc_1211.vtu  \n",
            " extracting: ./FPC_Re3900_CG_new/fpc_1481.vtu  \n",
            " extracting: ./FPC_Re3900_CG_new/fpc_1199.vtu  \n",
            " extracting: ./FPC_Re3900_CG_new/fpc_1309.vtu  \n",
            " extracting: ./FPC_Re3900_CG_new/fpc_1007.vtu  \n",
            " extracting: ./FPC_Re3900_CG_new/fpc_1531.vtu  \n",
            " extracting: ./FPC_Re3900_CG_new/fpc_1212.vtu  \n",
            " extracting: ./FPC_Re3900_CG_new/fpc_1435.vtu  \n",
            " extracting: ./FPC_Re3900_CG_new/fpc_1847.vtu  \n",
            " extracting: ./FPC_Re3900_CG_new/fpc_1529.vtu  \n",
            " extracting: ./FPC_Re3900_CG_new/fpc_1856.vtu  \n",
            " extracting: ./FPC_Re3900_CG_new/fpc_1231.vtu  \n",
            " extracting: ./FPC_Re3900_CG_new/fpc_1189.vtu  \n",
            " extracting: ./FPC_Re3900_CG_new/fpc_1420.vtu  \n",
            " extracting: ./FPC_Re3900_CG_new/fpc_1403.vtu  \n",
            " extracting: ./FPC_Re3900_CG_new/fpc_1940.vtu  \n",
            " extracting: ./FPC_Re3900_CG_new/fpc_1838.vtu  \n",
            " extracting: ./FPC_Re3900_CG_new/fpc_1948.vtu  \n",
            " extracting: ./FPC_Re3900_CG_new/fpc_1542.vtu  \n",
            " extracting: ./FPC_Re3900_CG_new/fpc_1656.vtu  \n",
            " extracting: ./FPC_Re3900_CG_new/fpc_1795.vtu  \n",
            " extracting: ./FPC_Re3900_CG_new/fpc_1641.vtu  \n",
            " extracting: ./FPC_Re3900_CG_new/fpc_1704.vtu  \n",
            " extracting: ./FPC_Re3900_CG_new/fpc_1140.vtu  \n",
            " extracting: ./FPC_Re3900_CG_new/fpc_1348.vtu  \n",
            " extracting: ./FPC_Re3900_CG_new/fpc_1817.vtu  \n",
            " extracting: ./FPC_Re3900_CG_new/fpc_1286.vtu  \n",
            " extracting: ./FPC_Re3900_CG_new/fpc_1440.vtu  \n",
            " extracting: ./FPC_Re3900_CG_new/fpc_1979.vtu  \n",
            " extracting: ./FPC_Re3900_CG_new/fpc_1137.vtu  \n",
            " extracting: ./FPC_Re3900_CG_new/fpc_1969.vtu  \n",
            " extracting: ./FPC_Re3900_CG_new/fpc_1049.vtu  \n",
            " extracting: ./FPC_Re3900_CG_new/fpc_1574.vtu  \n",
            " extracting: ./FPC_Re3900_CG_new/fpc_1463.vtu  \n",
            " extracting: ./FPC_Re3900_CG_new/fpc_1076.vtu  \n",
            " extracting: ./FPC_Re3900_CG_new/fpc_1054.vtu  \n",
            " extracting: ./FPC_Re3900_CG_new/fpc_1562.vtu  \n",
            " extracting: ./FPC_Re3900_CG_new/fpc_1108.vtu  \n",
            " extracting: ./FPC_Re3900_CG_new/fpc_1510.vtu  \n",
            " extracting: ./FPC_Re3900_CG_new/fpc_1042.vtu  \n",
            " extracting: ./FPC_Re3900_CG_new/fpc_1342.vtu  \n",
            " extracting: ./FPC_Re3900_CG_new/fpc_1749.vtu  \n",
            " extracting: ./FPC_Re3900_CG_new/fpc_1316.vtu  \n",
            " extracting: ./FPC_Re3900_CG_new/fpc_1605.vtu  \n",
            " extracting: ./FPC_Re3900_CG_new/fpc_1514.vtu  \n",
            " extracting: ./FPC_Re3900_CG_new/fpc_1992.vtu  \n",
            " extracting: ./FPC_Re3900_CG_new/fpc_1668.vtu  \n",
            " extracting: ./FPC_Re3900_CG_new/fpc_1802.vtu  \n",
            " extracting: ./FPC_Re3900_CG_new/fpc_1344.vtu  \n",
            " extracting: ./FPC_Re3900_CG_new/fpc_1685.vtu  \n",
            " extracting: ./FPC_Re3900_CG_new/fpc_1399.vtu  \n",
            " extracting: ./FPC_Re3900_CG_new/fpc_1903.vtu  \n",
            " extracting: ./FPC_Re3900_CG_new/fpc_1534.vtu  \n",
            " extracting: ./FPC_Re3900_CG_new/fpc_1586.vtu  \n",
            " extracting: ./FPC_Re3900_CG_new/fpc_1875.vtu  \n",
            " extracting: ./FPC_Re3900_CG_new/fpc_1954.vtu  \n",
            " extracting: ./FPC_Re3900_CG_new/fpc_1292.vtu  \n",
            " extracting: ./FPC_Re3900_CG_new/fpc_1067.vtu  \n",
            " extracting: ./FPC_Re3900_CG_new/fpc_1639.vtu  \n",
            " extracting: ./FPC_Re3900_CG_new/fpc_1831.vtu  \n",
            " extracting: ./FPC_Re3900_CG_new/fpc_1300.vtu  \n",
            " extracting: ./FPC_Re3900_CG_new/fpc_1761.vtu  \n",
            " extracting: ./FPC_Re3900_CG_new/fpc_1770.vtu  \n",
            " extracting: ./FPC_Re3900_CG_new/fpc_1945.vtu  \n",
            " extracting: ./FPC_Re3900_CG_new/fpc_1238.vtu  \n",
            " extracting: ./FPC_Re3900_CG_new/fpc_1655.vtu  \n",
            " extracting: ./FPC_Re3900_CG_new/fpc_1034.vtu  \n",
            " extracting: ./FPC_Re3900_CG_new/fpc_1256.vtu  \n",
            " extracting: ./FPC_Re3900_CG_new/fpc_1558.vtu  \n",
            " extracting: ./FPC_Re3900_CG_new/fpc_1576.vtu  \n",
            " extracting: ./FPC_Re3900_CG_new/fpc_1598.vtu  \n",
            " extracting: ./FPC_Re3900_CG_new/fpc_1757.vtu  \n",
            " extracting: ./FPC_Re3900_CG_new/fpc_1674.vtu  \n",
            " extracting: ./FPC_Re3900_CG_new/fpc_1894.vtu  \n",
            " extracting: ./FPC_Re3900_CG_new/fpc_1125.vtu  \n",
            " extracting: ./FPC_Re3900_CG_new/fpc_1417.vtu  \n",
            " extracting: ./FPC_Re3900_CG_new/fpc_1358.vtu  \n",
            " extracting: ./FPC_Re3900_CG_new/fpc_1718.vtu  \n",
            " extracting: ./FPC_Re3900_CG_new/fpc_1142.vtu  \n",
            " extracting: ./FPC_Re3900_CG_new/fpc_1160.vtu  \n",
            " extracting: ./FPC_Re3900_CG_new/fpc_1087.vtu  \n",
            " extracting: ./FPC_Re3900_CG_new/fpc_1958.vtu  \n",
            " extracting: ./FPC_Re3900_CG_new/fpc_1851.vtu  \n",
            " extracting: ./FPC_Re3900_CG_new/fpc_1259.vtu  \n",
            " extracting: ./FPC_Re3900_CG_new/fpc_1626.vtu  \n",
            " extracting: ./FPC_Re3900_CG_new/fpc_1648.vtu  \n",
            " extracting: ./FPC_Re3900_CG_new/fpc_1737.vtu  \n",
            " extracting: ./FPC_Re3900_CG_new/fpc_1247.vtu  \n",
            " extracting: ./FPC_Re3900_CG_new/fpc_1522.vtu  \n",
            " extracting: ./FPC_Re3900_CG_new/fpc_1854.vtu  \n",
            " extracting: ./FPC_Re3900_CG_new/fpc_1820.vtu  \n",
            " extracting: ./FPC_Re3900_CG_new/fpc_1421.vtu  \n",
            " extracting: ./FPC_Re3900_CG_new/fpc_1826.vtu  \n",
            " extracting: ./FPC_Re3900_CG_new/fpc_1637.vtu  \n",
            " extracting: ./FPC_Re3900_CG_new/fpc_1181.vtu  \n",
            " extracting: ./FPC_Re3900_CG_new/fpc_1793.vtu  \n",
            " extracting: ./FPC_Re3900_CG_new/fpc_1461.vtu  \n",
            " extracting: ./FPC_Re3900_CG_new/fpc_1153.vtu  \n",
            " extracting: ./FPC_Re3900_CG_new/fpc_1297.vtu  \n",
            " extracting: ./FPC_Re3900_CG_new/fpc_1659.vtu  \n",
            " extracting: ./FPC_Re3900_CG_new/fpc_1217.vtu  \n",
            " extracting: ./FPC_Re3900_CG_new/fpc_1777.vtu  \n",
            " extracting: ./FPC_Re3900_CG_new/fpc_1924.vtu  \n",
            " extracting: ./FPC_Re3900_CG_new/fpc_1705.vtu  \n",
            " extracting: ./FPC_Re3900_CG_new/fpc_1828.vtu  \n",
            " extracting: ./FPC_Re3900_CG_new/fpc_1287.vtu  \n",
            " extracting: ./FPC_Re3900_CG_new/fpc_1568.vtu  \n",
            " extracting: ./FPC_Re3900_CG_new/fpc_1283.vtu  \n",
            " extracting: ./FPC_Re3900_CG_new/fpc_1606.vtu  \n",
            " extracting: ./FPC_Re3900_CG_new/fpc_1560.vtu  \n",
            " extracting: ./FPC_Re3900_CG_new/fpc_1546.vtu  \n",
            " extracting: ./FPC_Re3900_CG_new/fpc_1390.vtu  \n",
            " extracting: ./FPC_Re3900_CG_new/fpc_1188.vtu  \n",
            " extracting: ./FPC_Re3900_CG_new/fpc_1849.vtu  \n",
            " extracting: ./FPC_Re3900_CG_new/fpc_1436.vtu  \n",
            " extracting: ./FPC_Re3900_CG_new/fpc_1456.vtu  \n",
            " extracting: ./FPC_Re3900_CG_new/fpc_1950.vtu  \n",
            " extracting: ./FPC_Re3900_CG_new/fpc_1174.vtu  \n",
            " extracting: ./FPC_Re3900_CG_new/fpc_1003.vtu  \n",
            " extracting: ./FPC_Re3900_CG_new/fpc_1028.vtu  \n",
            " extracting: ./FPC_Re3900_CG_new/fpc_1336.vtu  \n",
            " extracting: ./FPC_Re3900_CG_new/fpc_1746.vtu  \n",
            " extracting: ./FPC_Re3900_CG_new/fpc_1622.vtu  \n",
            " extracting: ./FPC_Re3900_CG_new/fpc_1670.vtu  \n",
            " extracting: ./FPC_Re3900_CG_new/fpc_1385.vtu  \n",
            " extracting: ./FPC_Re3900_CG_new/fpc_1665.vtu  \n",
            " extracting: ./FPC_Re3900_CG_new/fpc_1275.vtu  \n",
            " extracting: ./FPC_Re3900_CG_new/fpc_1997.vtu  \n",
            " extracting: ./FPC_Re3900_CG_new/fpc_1669.vtu  \n",
            " extracting: ./FPC_Re3900_CG_new/fpc_1407.vtu  \n",
            " extracting: ./FPC_Re3900_CG_new/fpc_1084.vtu  \n",
            " extracting: ./FPC_Re3900_CG_new/fpc_1742.vtu  \n",
            " extracting: ./FPC_Re3900_CG_new/fpc_1962.vtu  \n",
            " extracting: ./FPC_Re3900_CG_new/fpc_1133.vtu  \n",
            " extracting: ./FPC_Re3900_CG_new/fpc_1501.vtu  \n",
            " extracting: ./FPC_Re3900_CG_new/fpc_1944.vtu  \n",
            " extracting: ./FPC_Re3900_CG_new/fpc_1102.vtu  \n",
            " extracting: ./FPC_Re3900_CG_new/fpc_1422.vtu  \n",
            " extracting: ./FPC_Re3900_CG_new/fpc_1416.vtu  \n",
            " extracting: ./FPC_Re3900_CG_new/fpc_1065.vtu  \n",
            " extracting: ./FPC_Re3900_CG_new/fpc_1061.vtu  \n",
            " extracting: ./FPC_Re3900_CG_new/fpc_1334.vtu  \n",
            " extracting: ./FPC_Re3900_CG_new/fpc_1787.vtu  \n",
            " extracting: ./FPC_Re3900_CG_new/fpc_1494.vtu  \n",
            " extracting: ./FPC_Re3900_CG_new/fpc_1313.vtu  \n",
            " extracting: ./FPC_Re3900_CG_new/fpc_1213.vtu  \n",
            " extracting: ./FPC_Re3900_CG_new/fpc_1371.vtu  \n",
            " extracting: ./FPC_Re3900_CG_new/fpc_1467.vtu  \n",
            " extracting: ./FPC_Re3900_CG_new/fpc_1473.vtu  \n",
            " extracting: ./FPC_Re3900_CG_new/fpc_1413.vtu  \n",
            " extracting: ./FPC_Re3900_CG_new/fpc_1055.vtu  \n",
            " extracting: ./FPC_Re3900_CG_new/fpc_1478.vtu  \n",
            " extracting: ./FPC_Re3900_CG_new/fpc_1393.vtu  \n",
            " extracting: ./FPC_Re3900_CG_new/fpc_1727.vtu  \n",
            " extracting: ./FPC_Re3900_CG_new/fpc_1927.vtu  \n",
            " extracting: ./FPC_Re3900_CG_new/fpc_1818.vtu  \n",
            " extracting: ./FPC_Re3900_CG_new/fpc_1477.vtu  \n",
            " extracting: ./FPC_Re3900_CG_new/fpc_1871.vtu  \n",
            " extracting: ./FPC_Re3900_CG_new/fpc_1127.vtu  \n",
            " extracting: ./FPC_Re3900_CG_new/fpc_1983.vtu  \n",
            " extracting: ./FPC_Re3900_CG_new/fpc_1430.vtu  \n",
            " extracting: ./FPC_Re3900_CG_new/fpc_1030.vtu  \n",
            " extracting: ./FPC_Re3900_CG_new/fpc_1904.vtu  \n",
            " extracting: ./FPC_Re3900_CG_new/fpc_1453.vtu  \n",
            " extracting: ./FPC_Re3900_CG_new/fpc_1584.vtu  \n",
            " extracting: ./FPC_Re3900_CG_new/fpc_1525.vtu  \n",
            " extracting: ./FPC_Re3900_CG_new/fpc_1913.vtu  \n",
            " extracting: ./FPC_Re3900_CG_new/fpc_1026.vtu  \n",
            " extracting: ./FPC_Re3900_CG_new/fpc_1017.vtu  \n",
            " extracting: ./FPC_Re3900_CG_new/fpc_1324.vtu  \n",
            " extracting: ./FPC_Re3900_CG_new/fpc_1088.vtu  \n",
            " extracting: ./FPC_Re3900_CG_new/fpc_1380.vtu  \n",
            " extracting: ./FPC_Re3900_CG_new/fpc_1194.vtu  \n",
            " extracting: ./FPC_Re3900_CG_new/fpc_1680.vtu  \n",
            " extracting: ./FPC_Re3900_CG_new/fpc_1245.vtu  \n",
            " extracting: ./FPC_Re3900_CG_new/fpc_1520.vtu  \n",
            " extracting: ./FPC_Re3900_CG_new/fpc_1570.vtu  \n",
            " extracting: ./FPC_Re3900_CG_new/fpc_1258.vtu  \n",
            " extracting: ./FPC_Re3900_CG_new/fpc_1653.vtu  \n",
            " extracting: ./FPC_Re3900_CG_new/fpc_1888.vtu  \n",
            " extracting: ./FPC_Re3900_CG_new/fpc_1071.vtu  \n",
            " extracting: ./FPC_Re3900_CG_new/fpc_1207.vtu  \n",
            " extracting: ./FPC_Re3900_CG_new/fpc_1953.vtu  \n",
            " extracting: ./FPC_Re3900_CG_new/fpc_1662.vtu  \n",
            " extracting: ./FPC_Re3900_CG_new/fpc_1347.vtu  \n",
            " extracting: ./FPC_Re3900_CG_new/fpc_1307.vtu  \n",
            " extracting: ./FPC_Re3900_CG_new/fpc_1151.vtu  \n",
            " extracting: ./FPC_Re3900_CG_new/fpc_1177.vtu  \n",
            " extracting: ./FPC_Re3900_CG_new/fpc_1155.vtu  \n",
            " extracting: ./FPC_Re3900_CG_new/fpc_1051.vtu  \n",
            " extracting: ./FPC_Re3900_CG_new/fpc_1487.vtu  \n",
            " extracting: ./FPC_Re3900_CG_new/fpc_1700.vtu  \n",
            " extracting: ./FPC_Re3900_CG_new/fpc_1995.vtu  \n",
            " extracting: ./FPC_Re3900_CG_new/fpc_1180.vtu  \n",
            " extracting: ./FPC_Re3900_CG_new/fpc_1175.vtu  \n",
            " extracting: ./FPC_Re3900_CG_new/fpc_1389.vtu  \n",
            " extracting: ./FPC_Re3900_CG_new/fpc_1614.vtu  \n",
            " extracting: ./FPC_Re3900_CG_new/fpc_1636.vtu  \n",
            " extracting: ./FPC_Re3900_CG_new/fpc_1209.vtu  \n",
            " extracting: ./FPC_Re3900_CG_new/fpc_1836.vtu  \n",
            " extracting: ./FPC_Re3900_CG_new/fpc_1495.vtu  \n",
            " extracting: ./FPC_Re3900_CG_new/fpc_1883.vtu  \n",
            " extracting: ./FPC_Re3900_CG_new/fpc_1611.vtu  \n",
            " extracting: ./FPC_Re3900_CG_new/fpc_1329.vtu  \n",
            " extracting: ./FPC_Re3900_CG_new/fpc_1318.vtu  \n",
            " extracting: ./FPC_Re3900_CG_new/fpc_1654.vtu  \n",
            " extracting: ./FPC_Re3900_CG_new/fpc_1645.vtu  \n",
            " extracting: ./FPC_Re3900_CG_new/fpc_1225.vtu  \n",
            " extracting: ./FPC_Re3900_CG_new/fpc_1812.vtu  \n",
            " extracting: ./FPC_Re3900_CG_new/fpc_1488.vtu  \n",
            " extracting: ./FPC_Re3900_CG_new/fpc_1834.vtu  \n",
            " extracting: ./FPC_Re3900_CG_new/fpc_1816.vtu  \n",
            " extracting: ./FPC_Re3900_CG_new/fpc_1145.vtu  \n",
            " extracting: ./FPC_Re3900_CG_new/fpc_1465.vtu  \n",
            " extracting: ./FPC_Re3900_CG_new/fpc_1657.vtu  \n",
            " extracting: ./FPC_Re3900_CG_new/fpc_1216.vtu  \n",
            " extracting: ./FPC_Re3900_CG_new/fpc_1240.vtu  \n",
            " extracting: ./FPC_Re3900_CG_new/fpc_1565.vtu  \n",
            " extracting: ./FPC_Re3900_CG_new/fpc_1505.vtu  \n",
            " extracting: ./FPC_Re3900_CG_new/fpc_1853.vtu  \n",
            " extracting: ./FPC_Re3900_CG_new/fpc_1165.vtu  \n",
            " extracting: ./FPC_Re3900_CG_new/fpc_1965.vtu  \n",
            " extracting: ./FPC_Re3900_CG_new/fpc_1932.vtu  \n",
            " extracting: ./FPC_Re3900_CG_new/fpc_1379.vtu  \n",
            " extracting: ./FPC_Re3900_CG_new/fpc_1874.vtu  \n",
            " extracting: ./FPC_Re3900_CG_new/fpc_1082.vtu  \n",
            " extracting: ./FPC_Re3900_CG_new/fpc_1423.vtu  \n",
            " extracting: ./FPC_Re3900_CG_new/fpc_1097.vtu  \n",
            " extracting: ./FPC_Re3900_CG_new/fpc_1126.vtu  \n",
            " extracting: ./FPC_Re3900_CG_new/fpc_1058.vtu  \n",
            " extracting: ./FPC_Re3900_CG_new/fpc_1993.vtu  \n",
            " extracting: ./FPC_Re3900_CG_new/fpc_1987.vtu  \n",
            " extracting: ./FPC_Re3900_CG_new/fpc_1036.vtu  \n",
            " extracting: ./FPC_Re3900_CG_new/fpc_1547.vtu  \n",
            " extracting: ./FPC_Re3900_CG_new/fpc_1889.vtu  \n",
            " extracting: ./FPC_Re3900_CG_new/fpc_1277.vtu  \n",
            " extracting: ./FPC_Re3900_CG_new/fpc_1578.vtu  \n",
            " extracting: ./FPC_Re3900_CG_new/fpc_1326.vtu  \n",
            " extracting: ./FPC_Re3900_CG_new/fpc_1304.vtu  \n",
            " extracting: ./FPC_Re3900_CG_new/fpc_1412.vtu  \n",
            " extracting: ./FPC_Re3900_CG_new/fpc_1910.vtu  \n",
            " extracting: ./FPC_Re3900_CG_new/fpc_1490.vtu  \n",
            " extracting: ./FPC_Re3900_CG_new/fpc_1745.vtu  \n",
            " extracting: ./FPC_Re3900_CG_new/fpc_1597.vtu  \n",
            " extracting: ./FPC_Re3900_CG_new/fpc_1925.vtu  \n",
            " extracting: ./FPC_Re3900_CG_new/fpc_1930.vtu  \n",
            " extracting: ./FPC_Re3900_CG_new/fpc_1722.vtu  \n",
            " extracting: ./FPC_Re3900_CG_new/fpc_1557.vtu  \n",
            " extracting: ./FPC_Re3900_CG_new/fpc_1252.vtu  \n",
            " extracting: ./FPC_Re3900_CG_new/fpc_1800.vtu  \n",
            " extracting: ./FPC_Re3900_CG_new/fpc_1039.vtu  \n",
            " extracting: ./FPC_Re3900_CG_new/fpc_1370.vtu  \n",
            " extracting: ./FPC_Re3900_CG_new/fpc_1391.vtu  \n",
            " extracting: ./FPC_Re3900_CG_new/fpc_1921.vtu  \n",
            " extracting: ./FPC_Re3900_CG_new/fpc_1486.vtu  \n",
            " extracting: ./FPC_Re3900_CG_new/fpc_1351.vtu  \n",
            " extracting: ./FPC_Re3900_CG_new/fpc_1306.vtu  \n",
            " extracting: ./FPC_Re3900_CG_new/fpc_1646.vtu  \n",
            " extracting: ./FPC_Re3900_CG_new/fpc_1917.vtu  \n",
            " extracting: ./FPC_Re3900_CG_new/fpc_1045.vtu  \n",
            " extracting: ./FPC_Re3900_CG_new/fpc_1901.vtu  \n",
            " extracting: ./FPC_Re3900_CG_new/fpc_1027.vtu  \n",
            " extracting: ./FPC_Re3900_CG_new/fpc_1966.vtu  \n",
            " extracting: ./FPC_Re3900_CG_new/fpc_1754.vtu  \n",
            " extracting: ./FPC_Re3900_CG_new/fpc_1349.vtu  \n",
            " extracting: ./FPC_Re3900_CG_new/fpc_1322.vtu  \n",
            " extracting: ./FPC_Re3900_CG_new/fpc_1200.vtu  \n",
            " extracting: ./FPC_Re3900_CG_new/fpc_1365.vtu  \n",
            " extracting: ./FPC_Re3900_CG_new/fpc_1040.vtu  \n",
            " extracting: ./FPC_Re3900_CG_new/fpc_1533.vtu  \n",
            " extracting: ./FPC_Re3900_CG_new/fpc_1221.vtu  \n",
            " extracting: ./FPC_Re3900_CG_new/fpc_1085.vtu  \n",
            " extracting: ./FPC_Re3900_CG_new/fpc_1634.vtu  \n",
            " extracting: ./FPC_Re3900_CG_new/fpc_1994.vtu  \n",
            " extracting: ./FPC_Re3900_CG_new/fpc_1866.vtu  \n",
            " extracting: ./FPC_Re3900_CG_new/fpc_1972.vtu  \n",
            " extracting: ./FPC_Re3900_CG_new/fpc_1136.vtu  \n",
            " extracting: ./FPC_Re3900_CG_new/fpc_1314.vtu  \n",
            " extracting: ./FPC_Re3900_CG_new/fpc_1220.vtu  \n",
            " extracting: ./FPC_Re3900_CG_new/fpc_1086.vtu  \n",
            " extracting: ./FPC_Re3900_CG_new/fpc_1714.vtu  \n",
            " extracting: ./FPC_Re3900_CG_new/fpc_1374.vtu  \n",
            " extracting: ./FPC_Re3900_CG_new/fpc_1691.vtu  \n",
            " extracting: ./FPC_Re3900_CG_new/fpc_1543.vtu  \n",
            " extracting: ./FPC_Re3900_CG_new/fpc_1192.vtu  \n",
            " extracting: ./FPC_Re3900_CG_new/fpc_1941.vtu  \n",
            " extracting: ./FPC_Re3900_CG_new/fpc_1814.vtu  \n",
            " extracting: ./FPC_Re3900_CG_new/fpc_1337.vtu  \n",
            " extracting: ./FPC_Re3900_CG_new/fpc_1156.vtu  \n",
            " extracting: ./FPC_Re3900_CG_new/fpc_1666.vtu  \n",
            " extracting: ./FPC_Re3900_CG_new/fpc_1949.vtu  \n",
            " extracting: ./FPC_Re3900_CG_new/fpc_1753.vtu  \n",
            " extracting: ./FPC_Re3900_CG_new/fpc_1452.vtu  \n",
            " extracting: ./FPC_Re3900_CG_new/fpc_1185.vtu  \n",
            " extracting: ./FPC_Re3900_CG_new/fpc_1096.vtu  \n",
            " extracting: ./FPC_Re3900_CG_new/fpc_1946.vtu  \n",
            " extracting: ./FPC_Re3900_CG_new/fpc_1876.vtu  \n",
            " extracting: ./FPC_Re3900_CG_new/fpc_1527.vtu  \n",
            " extracting: ./FPC_Re3900_CG_new/fpc_1328.vtu  \n",
            " extracting: ./FPC_Re3900_CG_new/fpc_1678.vtu  \n",
            " extracting: ./FPC_Re3900_CG_new/fpc_1999.vtu  \n",
            " extracting: ./FPC_Re3900_CG_new/fpc_1500.vtu  \n",
            " extracting: ./FPC_Re3900_CG_new/fpc_1179.vtu  \n",
            " extracting: ./FPC_Re3900_CG_new/fpc_1011.vtu  \n",
            " extracting: ./FPC_Re3900_CG_new/fpc_1991.vtu  \n",
            " extracting: ./FPC_Re3900_CG_new/fpc_1881.vtu  \n",
            " extracting: ./FPC_Re3900_CG_new/fpc_1120.vtu  \n",
            " extracting: ./FPC_Re3900_CG_new/fpc_1592.vtu  \n",
            " extracting: ./FPC_Re3900_CG_new/fpc_1868.vtu  \n",
            " extracting: ./FPC_Re3900_CG_new/fpc_1571.vtu  \n",
            " extracting: ./FPC_Re3900_CG_new/fpc_1827.vtu  \n",
            " extracting: ./FPC_Re3900_CG_new/fpc_1801.vtu  \n",
            " extracting: ./FPC_Re3900_CG_new/fpc_1587.vtu  \n",
            " extracting: ./FPC_Re3900_CG_new/fpc_1579.vtu  \n",
            " extracting: ./FPC_Re3900_CG_new/fpc_1729.vtu  \n",
            " extracting: ./FPC_Re3900_CG_new/fpc_1131.vtu  \n",
            " extracting: ./FPC_Re3900_CG_new/fpc_1106.vtu  \n",
            " extracting: ./FPC_Re3900_CG_new/fpc_1689.vtu  \n",
            " extracting: ./FPC_Re3900_CG_new/fpc_1733.vtu  \n",
            " extracting: ./FPC_Re3900_CG_new/fpc_1215.vtu  \n",
            " extracting: ./FPC_Re3900_CG_new/fpc_1293.vtu  \n",
            " extracting: ./FPC_Re3900_CG_new/fpc_1224.vtu  \n",
            " extracting: ./FPC_Re3900_CG_new/fpc_1906.vtu  \n",
            " extracting: ./FPC_Re3900_CG_new/fpc_1926.vtu  \n",
            " extracting: ./FPC_Re3900_CG_new/fpc_1172.vtu  \n",
            " extracting: ./FPC_Re3900_CG_new/fpc_1190.vtu  \n",
            " extracting: ./FPC_Re3900_CG_new/fpc_1132.vtu  \n",
            " extracting: ./FPC_Re3900_CG_new/fpc_1867.vtu  \n",
            " extracting: ./FPC_Re3900_CG_new/fpc_1397.vtu  \n",
            " extracting: ./FPC_Re3900_CG_new/fpc_1266.vtu  \n",
            " extracting: ./FPC_Re3900_CG_new/fpc_1460.vtu  \n",
            " extracting: ./FPC_Re3900_CG_new/fpc_1025.vtu  \n",
            " extracting: ./FPC_Re3900_CG_new/fpc_1448.vtu  \n",
            " extracting: ./FPC_Re3900_CG_new/fpc_1038.vtu  \n",
            " extracting: ./FPC_Re3900_CG_new/fpc_1239.vtu  \n",
            " extracting: ./FPC_Re3900_CG_new/fpc_1708.vtu  \n",
            " extracting: ./FPC_Re3900_CG_new/fpc_1484.vtu  \n",
            " extracting: ./FPC_Re3900_CG_new/fpc_1544.vtu  \n",
            " extracting: ./FPC_Re3900_CG_new/fpc_1750.vtu  \n",
            " extracting: ./FPC_Re3900_CG_new/fpc_1870.vtu  \n",
            " extracting: ./FPC_Re3900_CG_new/fpc_1249.vtu  \n",
            " extracting: ./FPC_Re3900_CG_new/fpc_1842.vtu  \n",
            " extracting: ./FPC_Re3900_CG_new/fpc_1429.vtu  \n",
            " extracting: ./FPC_Re3900_CG_new/fpc_1340.vtu  \n",
            " extracting: ./FPC_Re3900_CG_new/fpc_1004.vtu  \n",
            " extracting: ./FPC_Re3900_CG_new/fpc_1223.vtu  \n",
            " extracting: ./FPC_Re3900_CG_new/fpc_1717.vtu  \n",
            " extracting: ./FPC_Re3900_CG_new/fpc_1227.vtu  \n",
            " extracting: ./FPC_Re3900_CG_new/fpc_1600.vtu  \n",
            " extracting: ./FPC_Re3900_CG_new/fpc_1937.vtu  \n",
            " extracting: ./FPC_Re3900_CG_new/fpc_1512.vtu  \n",
            " extracting: ./FPC_Re3900_CG_new/fpc_1549.vtu  \n",
            " extracting: ./FPC_Re3900_CG_new/fpc_1644.vtu  \n",
            " extracting: ./FPC_Re3900_CG_new/fpc_1308.vtu  \n",
            " extracting: ./FPC_Re3900_CG_new/fpc_1044.vtu  \n",
            " extracting: ./FPC_Re3900_CG_new/fpc_1822.vtu  \n",
            " extracting: ./FPC_Re3900_CG_new/fpc_1353.vtu  \n",
            " extracting: ./FPC_Re3900_CG_new/fpc_1898.vtu  \n",
            " extracting: ./FPC_Re3900_CG_new/fpc_1695.vtu  \n",
            " extracting: ./FPC_Re3900_CG_new/fpc_1537.vtu  \n",
            " extracting: ./FPC_Re3900_CG_new/fpc_1354.vtu  \n",
            " extracting: ./FPC_Re3900_CG_new/fpc_1701.vtu  \n",
            " extracting: ./FPC_Re3900_CG_new/fpc_1640.vtu  \n",
            " extracting: ./FPC_Re3900_CG_new/fpc_1446.vtu  \n",
            " extracting: ./FPC_Re3900_CG_new/fpc_1112.vtu  \n",
            " extracting: ./FPC_Re3900_CG_new/fpc_1276.vtu  \n",
            " extracting: ./FPC_Re3900_CG_new/fpc_1715.vtu  \n",
            " extracting: ./FPC_Re3900_CG_new/fpc_1105.vtu  \n",
            " extracting: ./FPC_Re3900_CG_new/fpc_1364.vtu  \n",
            " extracting: ./FPC_Re3900_CG_new/fpc_1285.vtu  \n",
            " extracting: ./FPC_Re3900_CG_new/fpc_1069.vtu  \n",
            " extracting: ./FPC_Re3900_CG_new/fpc_1895.vtu  \n",
            " extracting: ./FPC_Re3900_CG_new/fpc_1829.vtu  \n",
            " extracting: ./FPC_Re3900_CG_new/fpc_1029.vtu  \n",
            " extracting: ./FPC_Re3900_CG_new/fpc_1331.vtu  \n",
            " extracting: ./FPC_Re3900_CG_new/fpc_1569.vtu  \n",
            " extracting: ./FPC_Re3900_CG_new/fpc_1774.vtu  \n",
            " extracting: ./FPC_Re3900_CG_new/fpc_1268.vtu  \n",
            " extracting: ./FPC_Re3900_CG_new/fpc_1454.vtu  \n",
            " extracting: ./FPC_Re3900_CG_new/fpc_1502.vtu  \n",
            " extracting: ./FPC_Re3900_CG_new/fpc_1610.vtu  \n",
            " extracting: ./FPC_Re3900_CG_new/fpc_1202.vtu  \n",
            " extracting: ./FPC_Re3900_CG_new/fpc_1378.vtu  \n",
            " extracting: ./FPC_Re3900_CG_new/fpc_1184.vtu  \n",
            " extracting: ./FPC_Re3900_CG_new/fpc_1458.vtu  \n",
            " extracting: ./FPC_Re3900_CG_new/fpc_1518.vtu  \n",
            " extracting: ./FPC_Re3900_CG_new/fpc_1725.vtu  \n",
            " extracting: ./FPC_Re3900_CG_new/fpc_1551.vtu  \n",
            " extracting: ./FPC_Re3900_CG_new/fpc_1183.vtu  \n",
            " extracting: ./FPC_Re3900_CG_new/fpc_1912.vtu  \n",
            " extracting: ./FPC_Re3900_CG_new/fpc_1319.vtu  \n",
            " extracting: ./FPC_Re3900_CG_new/fpc_1684.vtu  \n",
            " extracting: ./FPC_Re3900_CG_new/fpc_1301.vtu  \n",
            " extracting: ./FPC_Re3900_CG_new/fpc_1573.vtu  \n",
            " extracting: ./FPC_Re3900_CG_new/fpc_1341.vtu  \n",
            " extracting: ./FPC_Re3900_CG_new/fpc_1633.vtu  \n",
            " extracting: ./FPC_Re3900_CG_new/fpc_1756.vtu  \n",
            " extracting: ./FPC_Re3900_CG_new/fpc_1119.vtu  \n",
            " extracting: ./FPC_Re3900_CG_new/fpc_1830.vtu  \n",
            " extracting: ./FPC_Re3900_CG_new/fpc_1792.vtu  \n",
            " extracting: ./FPC_Re3900_CG_new/fpc_1775.vtu  \n",
            " extracting: ./FPC_Re3900_CG_new/fpc_1257.vtu  \n",
            " extracting: ./FPC_Re3900_CG_new/fpc_1233.vtu  \n",
            " extracting: ./FPC_Re3900_CG_new/fpc_1406.vtu  \n",
            " extracting: ./FPC_Re3900_CG_new/fpc_1890.vtu  \n",
            " extracting: ./FPC_Re3900_CG_new/fpc_1214.vtu  \n",
            " extracting: ./FPC_Re3900_CG_new/fpc_1433.vtu  \n",
            " extracting: ./FPC_Re3900_CG_new/fpc_1952.vtu  \n",
            " extracting: ./FPC_Re3900_CG_new/fpc_1485.vtu  \n",
            " extracting: ./FPC_Re3900_CG_new/fpc_1667.vtu  \n",
            " extracting: ./FPC_Re3900_CG_new/fpc_1541.vtu  \n",
            " extracting: ./FPC_Re3900_CG_new/fpc_1513.vtu  \n",
            " extracting: ./FPC_Re3900_CG_new/fpc_1242.vtu  \n",
            " extracting: ./FPC_Re3900_CG_new/fpc_1410.vtu  \n",
            " extracting: ./FPC_Re3900_CG_new/fpc_1658.vtu  \n",
            " extracting: ./FPC_Re3900_CG_new/fpc_1077.vtu  \n",
            " extracting: ./FPC_Re3900_CG_new/fpc_1176.vtu  \n",
            " extracting: ./FPC_Re3900_CG_new/fpc_1237.vtu  \n",
            " extracting: ./FPC_Re3900_CG_new/fpc_1582.vtu  \n",
            " extracting: ./FPC_Re3900_CG_new/fpc_1032.vtu  \n",
            " extracting: ./FPC_Re3900_CG_new/fpc_1504.vtu  \n",
            " extracting: ./FPC_Re3900_CG_new/fpc_1402.vtu  \n",
            " extracting: ./FPC_Re3900_CG_new/fpc_1872.vtu  \n",
            " extracting: ./FPC_Re3900_CG_new/fpc_1425.vtu  \n",
            " extracting: ./FPC_Re3900_CG_new/fpc_1122.vtu  \n",
            " extracting: ./FPC_Re3900_CG_new/fpc_1516.vtu  \n",
            " extracting: ./FPC_Re3900_CG_new/fpc_1000.vtu  \n",
            " extracting: ./FPC_Re3900_CG_new/fpc_1915.vtu  \n",
            " extracting: ./FPC_Re3900_CG_new/fpc_1196.vtu  \n",
            " extracting: ./FPC_Re3900_CG_new/fpc_1885.vtu  \n",
            " extracting: ./FPC_Re3900_CG_new/fpc_1602.vtu  \n",
            " extracting: ./FPC_Re3900_CG_new/fpc_1878.vtu  \n",
            " extracting: ./FPC_Re3900_CG_new/fpc_1060.vtu  \n",
            " extracting: ./FPC_Re3900_CG_new/fpc_1575.vtu  \n",
            " extracting: ./FPC_Re3900_CG_new/fpc_1109.vtu  \n",
            " extracting: ./FPC_Re3900_CG_new/fpc_1647.vtu  \n",
            " extracting: ./FPC_Re3900_CG_new/fpc_1382.vtu  \n",
            " extracting: ./FPC_Re3900_CG_new/fpc_1732.vtu  \n",
            " extracting: ./FPC_Re3900_CG_new/fpc_1859.vtu  \n",
            " extracting: ./FPC_Re3900_CG_new/fpc_1809.vtu  \n",
            " extracting: ./FPC_Re3900_CG_new/fpc_1041.vtu  \n",
            " extracting: ./FPC_Re3900_CG_new/fpc_1863.vtu  \n",
            " extracting: ./FPC_Re3900_CG_new/fpc_1366.vtu  \n",
            " extracting: ./FPC_Re3900_CG_new/fpc_1355.vtu  \n",
            " extracting: ./FPC_Re3900_CG_new/fpc_1977.vtu  \n",
            " extracting: ./FPC_Re3900_CG_new/fpc_1208.vtu  \n",
            " extracting: ./FPC_Re3900_CG_new/fpc_1219.vtu  \n",
            " extracting: ./FPC_Re3900_CG_new/fpc_1255.vtu  \n",
            " extracting: ./FPC_Re3900_CG_new/fpc_1015.vtu  \n",
            " extracting: ./FPC_Re3900_CG_new/fpc_1432.vtu  \n",
            " extracting: ./FPC_Re3900_CG_new/fpc_1561.vtu  \n",
            " extracting: ./FPC_Re3900_CG_new/fpc_1548.vtu  \n",
            " extracting: ./FPC_Re3900_CG_new/fpc_1356.vtu  \n",
            " extracting: ./FPC_Re3900_CG_new/fpc_1022.vtu  \n",
            " extracting: ./FPC_Re3900_CG_new/fpc_1612.vtu  \n",
            " extracting: ./FPC_Re3900_CG_new/fpc_1630.vtu  \n",
            " extracting: ./FPC_Re3900_CG_new/fpc_1694.vtu  \n",
            " extracting: ./FPC_Re3900_CG_new/fpc_1616.vtu  \n",
            " extracting: ./FPC_Re3900_CG_new/fpc_1143.vtu  \n",
            " extracting: ./FPC_Re3900_CG_new/fpc_1489.vtu  \n",
            " extracting: ./FPC_Re3900_CG_new/fpc_1201.vtu  \n",
            " extracting: ./FPC_Re3900_CG_new/fpc_1471.vtu  \n",
            " extracting: ./FPC_Re3900_CG_new/fpc_1113.vtu  \n",
            " extracting: ./FPC_Re3900_CG_new/fpc_1760.vtu  \n",
            " extracting: ./FPC_Re3900_CG_new/fpc_1107.vtu  \n",
            " extracting: ./FPC_Re3900_CG_new/fpc_1260.vtu  \n",
            " extracting: ./FPC_Re3900_CG_new/fpc_1204.vtu  \n",
            " extracting: ./FPC_Re3900_CG_new/fpc_1837.vtu  \n",
            " extracting: ./FPC_Re3900_CG_new/fpc_1450.vtu  \n",
            " extracting: ./FPC_Re3900_CG_new/fpc_1273.vtu  \n",
            " extracting: ./FPC_Re3900_CG_new/fpc_1094.vtu  \n",
            " extracting: ./FPC_Re3900_CG_new/fpc_1350.vtu  \n",
            " extracting: ./FPC_Re3900_CG_new/fpc_1103.vtu  \n",
            " extracting: ./FPC_Re3900_CG_new/fpc_1781.vtu  \n",
            " extracting: ./FPC_Re3900_CG_new/fpc_1882.vtu  \n",
            " extracting: ./FPC_Re3900_CG_new/fpc_1632.vtu  \n",
            " extracting: ./FPC_Re3900_CG_new/fpc_1961.vtu  \n",
            " extracting: ./FPC_Re3900_CG_new/fpc_1089.vtu  \n",
            " extracting: ./FPC_Re3900_CG_new/fpc_1269.vtu  \n",
            " extracting: ./FPC_Re3900_CG_new/fpc_1832.vtu  \n",
            " extracting: ./FPC_Re3900_CG_new/fpc_1305.vtu  \n",
            " extracting: ./FPC_Re3900_CG_new/fpc_1810.vtu  \n",
            " extracting: ./FPC_Re3900_CG_new/fpc_1498.vtu  \n",
            " extracting: ./FPC_Re3900_CG_new/fpc_1408.vtu  \n",
            " extracting: ./FPC_Re3900_CG_new/fpc_1154.vtu  \n",
            " extracting: ./FPC_Re3900_CG_new/fpc_1387.vtu  \n",
            " extracting: ./FPC_Re3900_CG_new/fpc_1719.vtu  \n",
            " extracting: ./FPC_Re3900_CG_new/fpc_1333.vtu  \n",
            " extracting: ./FPC_Re3900_CG_new/fpc_1964.vtu  \n",
            " extracting: ./FPC_Re3900_CG_new/fpc_1897.vtu  \n",
            " extracting: ./FPC_Re3900_CG_new/fpc_1751.vtu  \n",
            " extracting: ./FPC_Re3900_CG_new/fpc_1766.vtu  \n",
            " extracting: ./FPC_Re3900_CG_new/fpc_1469.vtu  \n",
            " extracting: ./FPC_Re3900_CG_new/fpc_1369.vtu  \n",
            " extracting: ./FPC_Re3900_CG_new/fpc_1075.vtu  \n",
            " extracting: ./FPC_Re3900_CG_new/fpc_1762.vtu  \n",
            " extracting: ./FPC_Re3900_CG_new/fpc_1813.vtu  \n",
            " extracting: ./FPC_Re3900_CG_new/fpc_1506.vtu  \n",
            " extracting: ./FPC_Re3900_CG_new/fpc_1728.vtu  \n",
            " extracting: ./FPC_Re3900_CG_new/fpc_1232.vtu  \n",
            " extracting: ./FPC_Re3900_CG_new/fpc_1823.vtu  \n",
            " extracting: ./FPC_Re3900_CG_new/fpc_1244.vtu  \n",
            " extracting: ./FPC_Re3900_CG_new/fpc_1262.vtu  \n",
            " extracting: ./FPC_Re3900_CG_new/fpc_1752.vtu  \n",
            " extracting: ./FPC_Re3900_CG_new/fpc_1577.vtu  \n",
            " extracting: ./FPC_Re3900_CG_new/fpc_1006.vtu  \n",
            " extracting: ./FPC_Re3900_CG_new/fpc_1957.vtu  \n",
            " extracting: ./FPC_Re3900_CG_new/fpc_1620.vtu  \n",
            " extracting: ./FPC_Re3900_CG_new/fpc_1059.vtu  \n",
            " extracting: ./FPC_Re3900_CG_new/fpc_1603.vtu  \n",
            " extracting: ./FPC_Re3900_CG_new/fpc_1284.vtu  \n",
            " extracting: ./FPC_Re3900_CG_new/fpc_1976.vtu  \n",
            " extracting: ./FPC_Re3900_CG_new/fpc_1159.vtu  \n",
            " extracting: ./FPC_Re3900_CG_new/fpc_1130.vtu  \n",
            " extracting: ./FPC_Re3900_CG_new/fpc_1943.vtu  \n",
            " extracting: ./FPC_Re3900_CG_new/fpc_1218.vtu  \n",
            " extracting: ./FPC_Re3900_CG_new/fpc_1128.vtu  \n",
            " extracting: ./FPC_Re3900_CG_new/fpc_1552.vtu  \n",
            " extracting: ./FPC_Re3900_CG_new/fpc_1404.vtu  \n",
            " extracting: ./FPC_Re3900_CG_new/fpc_1470.vtu  \n",
            " extracting: ./FPC_Re3900_CG_new/fpc_1043.vtu  \n",
            " extracting: ./FPC_Re3900_CG_new/fpc_1280.vtu  \n",
            " extracting: ./FPC_Re3900_CG_new/fpc_1021.vtu  \n",
            " extracting: ./FPC_Re3900_CG_new/fpc_1517.vtu  \n",
            " extracting: ./FPC_Re3900_CG_new/fpc_1381.vtu  \n",
            " extracting: ./FPC_Re3900_CG_new/fpc_1509.vtu  \n",
            " extracting: ./FPC_Re3900_CG_new/fpc_1595.vtu  \n",
            " extracting: ./FPC_Re3900_CG_new/fpc_1312.vtu  \n",
            " extracting: ./FPC_Re3900_CG_new/fpc_1672.vtu  \n",
            " extracting: ./FPC_Re3900_CG_new/fpc_1624.vtu  \n",
            " extracting: ./FPC_Re3900_CG_new/fpc_1449.vtu  \n",
            " extracting: ./FPC_Re3900_CG_new/fpc_1291.vtu  \n",
            " extracting: ./FPC_Re3900_CG_new/fpc_1459.vtu  \n",
            " extracting: ./FPC_Re3900_CG_new/fpc_1475.vtu  \n",
            " extracting: ./FPC_Re3900_CG_new/fpc_1033.vtu  \n",
            " extracting: ./FPC_Re3900_CG_new/fpc_1138.vtu  \n",
            " extracting: ./FPC_Re3900_CG_new/fpc_1271.vtu  \n",
            " extracting: ./FPC_Re3900_CG_new/fpc_1956.vtu  \n",
            " extracting: ./FPC_Re3900_CG_new/fpc_1016.vtu  \n",
            " extracting: ./FPC_Re3900_CG_new/fpc_1023.vtu  \n",
            " extracting: ./FPC_Re3900_CG_new/fpc_1765.vtu  \n",
            " extracting: ./FPC_Re3900_CG_new/fpc_1386.vtu  \n",
            " extracting: ./FPC_Re3900_CG_new/fpc_1877.vtu  \n",
            " extracting: ./FPC_Re3900_CG_new/fpc_1147.vtu  \n",
            " extracting: ./FPC_Re3900_CG_new/fpc_1141.vtu  \n",
            " extracting: ./FPC_Re3900_CG_new/fpc_1955.vtu  \n",
            " extracting: ./FPC_Re3900_CG_new/fpc_1491.vtu  \n",
            " extracting: ./FPC_Re3900_CG_new/fpc_1104.vtu  \n",
            " extracting: ./FPC_Re3900_CG_new/fpc_1935.vtu  \n",
            " extracting: ./FPC_Re3900_CG_new/fpc_1008.vtu  \n",
            " extracting: ./FPC_Re3900_CG_new/fpc_1638.vtu  \n",
            " extracting: ./FPC_Re3900_CG_new/fpc_1545.vtu  \n",
            " extracting: ./FPC_Re3900_CG_new/fpc_1743.vtu  \n",
            " extracting: ./FPC_Re3900_CG_new/fpc_1062.vtu  \n",
            " extracting: ./FPC_Re3900_CG_new/fpc_1251.vtu  \n",
            " extracting: ./FPC_Re3900_CG_new/fpc_1320.vtu  \n",
            " extracting: ./FPC_Re3900_CG_new/fpc_1985.vtu  \n",
            " extracting: ./FPC_Re3900_CG_new/fpc_1819.vtu  \n",
            " extracting: ./FPC_Re3900_CG_new/fpc_1272.vtu  \n",
            " extracting: ./FPC_Re3900_CG_new/fpc_1186.vtu  \n",
            " extracting: ./FPC_Re3900_CG_new/fpc_1679.vtu  \n",
            " extracting: ./FPC_Re3900_CG_new/fpc_1585.vtu  \n",
            " extracting: ./FPC_Re3900_CG_new/fpc_1464.vtu  \n",
            " extracting: ./FPC_Re3900_CG_new/fpc_1628.vtu  \n",
            " extracting: ./FPC_Re3900_CG_new/fpc_1361.vtu  \n",
            " extracting: ./FPC_Re3900_CG_new/fpc_1947.vtu  \n",
            " extracting: ./FPC_Re3900_CG_new/fpc_1855.vtu  \n",
            " extracting: ./FPC_Re3900_CG_new/fpc_1959.vtu  \n",
            " extracting: ./FPC_Re3900_CG_new/fpc_1254.vtu  \n",
            " extracting: ./FPC_Re3900_CG_new/fpc_1779.vtu  \n",
            " extracting: ./FPC_Re3900_CG_new/fpc_1532.vtu  \n",
            " extracting: ./FPC_Re3900_CG_new/fpc_1298.vtu  \n",
            " extracting: ./FPC_Re3900_CG_new/fpc_1289.vtu  \n",
            " extracting: ./FPC_Re3900_CG_new/fpc_1037.vtu  \n",
            " extracting: ./FPC_Re3900_CG_new/fpc_1053.vtu  \n",
            " extracting: ./FPC_Re3900_CG_new/fpc_1919.vtu  \n",
            " extracting: ./FPC_Re3900_CG_new/fpc_1074.vtu  \n",
            " extracting: ./FPC_Re3900_CG_new/fpc_1887.vtu  \n",
            " extracting: ./FPC_Re3900_CG_new/fpc_1169.vtu  \n",
            " extracting: ./FPC_Re3900_CG_new/fpc_1675.vtu  \n",
            " extracting: ./FPC_Re3900_CG_new/fpc_1998.vtu  \n",
            " extracting: ./FPC_Re3900_CG_new/fpc_1149.vtu  \n",
            " extracting: ./FPC_Re3900_CG_new/fpc_1807.vtu  \n",
            " extracting: ./FPC_Re3900_CG_new/fpc_1339.vtu  \n",
            " extracting: ./FPC_Re3900_CG_new/fpc_1197.vtu  \n",
            " extracting: ./FPC_Re3900_CG_new/fpc_1825.vtu  \n",
            " extracting: ./FPC_Re3900_CG_new/fpc_1121.vtu  \n",
            " extracting: ./FPC_Re3900_CG_new/fpc_1931.vtu  \n",
            " extracting: ./FPC_Re3900_CG_new/fpc_1808.vtu  \n",
            " extracting: ./FPC_Re3900_CG_new/fpc_1716.vtu  \n",
            " extracting: ./FPC_Re3900_CG_new/fpc_1057.vtu  \n",
            " extracting: ./FPC_Re3900_CG_new/fpc_1236.vtu  \n",
            " extracting: ./FPC_Re3900_CG_new/fpc_1699.vtu  \n",
            " extracting: ./FPC_Re3900_CG_new/fpc_1210.vtu  \n",
            " extracting: ./FPC_Re3900_CG_new/fpc_1702.vtu  \n",
            " extracting: ./FPC_Re3900_CG_new/fpc_1677.vtu  \n",
            " extracting: ./FPC_Re3900_CG_new/fpc_1891.vtu  \n",
            " extracting: ./FPC_Re3900_CG_new/fpc_1989.vtu  \n",
            " extracting: ./FPC_Re3900_CG_new/fpc_1664.vtu  \n",
            " extracting: ./FPC_Re3900_CG_new/fpc_1418.vtu  \n",
            " extracting: ./FPC_Re3900_CG_new/fpc_1788.vtu  \n",
            " extracting: ./FPC_Re3900_CG_new/fpc_1290.vtu  \n",
            " extracting: ./FPC_Re3900_CG_new/fpc_1663.vtu  \n",
            " extracting: ./FPC_Re3900_CG_new/fpc_1724.vtu  \n",
            " extracting: ./FPC_Re3900_CG_new/fpc_1264.vtu  \n",
            " extracting: ./FPC_Re3900_CG_new/fpc_1740.vtu  \n",
            " extracting: ./FPC_Re3900_CG_new/fpc_1310.vtu  \n",
            " extracting: ./FPC_Re3900_CG_new/fpc_1443.vtu  \n",
            " extracting: ./FPC_Re3900_CG_new/fpc_1414.vtu  \n",
            " extracting: ./FPC_Re3900_CG_new/fpc_1796.vtu  \n",
            " extracting: ./FPC_Re3900_CG_new/fpc_1772.vtu  \n",
            " extracting: ./FPC_Re3900_CG_new/fpc_1769.vtu  \n",
            " extracting: ./FPC_Re3900_CG_new/fpc_1396.vtu  \n",
            " extracting: ./FPC_Re3900_CG_new/fpc_1621.vtu  \n",
            " extracting: ./FPC_Re3900_CG_new/fpc_1790.vtu  \n",
            " extracting: ./FPC_Re3900_CG_new/fpc_1635.vtu  \n",
            " extracting: ./FPC_Re3900_CG_new/fpc_1899.vtu  \n",
            " extracting: ./FPC_Re3900_CG_new/fpc_1984.vtu  \n",
            " extracting: ./FPC_Re3900_CG_new/fpc_1437.vtu  \n",
            " extracting: ./FPC_Re3900_CG_new/fpc_1861.vtu  \n",
            " extracting: ./FPC_Re3900_CG_new/fpc_1503.vtu  \n",
            " extracting: ./FPC_Re3900_CG_new/fpc_1835.vtu  \n",
            " extracting: ./FPC_Re3900_CG_new/fpc_1226.vtu  \n",
            " extracting: ./FPC_Re3900_CG_new/fpc_1167.vtu  \n",
            " extracting: ./FPC_Re3900_CG_new/fpc_1357.vtu  \n",
            " extracting: ./FPC_Re3900_CG_new/fpc_1441.vtu  \n",
            " extracting: ./FPC_Re3900_CG_new/fpc_1068.vtu  \n",
            " extracting: ./FPC_Re3900_CG_new/fpc_1346.vtu  \n",
            " extracting: ./FPC_Re3900_CG_new/fpc_1079.vtu  \n",
            " extracting: ./FPC_Re3900_CG_new/fpc_1710.vtu  \n",
            " extracting: ./FPC_Re3900_CG_new/fpc_1811.vtu  \n",
            " extracting: ./FPC_Re3900_CG_new/fpc_1497.vtu  \n",
            " extracting: ./FPC_Re3900_CG_new/fpc_1981.vtu  \n",
            " extracting: ./FPC_Re3900_CG_new/fpc_1815.vtu  \n",
            " extracting: ./FPC_Re3900_CG_new/fpc_1362.vtu  \n",
            " extracting: ./FPC_Re3900_CG_new/fpc_1474.vtu  \n",
            " extracting: ./FPC_Re3900_CG_new/fpc_1696.vtu  \n",
            " extracting: ./FPC_Re3900_CG_new/fpc_1936.vtu  \n",
            " extracting: ./FPC_Re3900_CG_new/fpc_1444.vtu  \n",
            " extracting: ./FPC_Re3900_CG_new/fpc_1723.vtu  \n",
            " extracting: ./FPC_Re3900_CG_new/fpc_1676.vtu  \n",
            " extracting: ./FPC_Re3900_CG_new/fpc_1773.vtu  \n",
            " extracting: ./FPC_Re3900_CG_new/fpc_1111.vtu  \n",
            " extracting: ./FPC_Re3900_CG_new/fpc_1767.vtu  \n",
            " extracting: ./FPC_Re3900_CG_new/fpc_1163.vtu  \n",
            " extracting: ./FPC_Re3900_CG_new/fpc_1098.vtu  \n",
            " extracting: ./FPC_Re3900_CG_new/fpc_1278.vtu  \n",
            " extracting: ./FPC_Re3900_CG_new/fpc_1673.vtu  \n",
            " extracting: ./FPC_Re3900_CG_new/fpc_1747.vtu  \n",
            " extracting: ./FPC_Re3900_CG_new/fpc_1064.vtu  \n",
            " extracting: ./FPC_Re3900_CG_new/fpc_1798.vtu  \n",
            " extracting: ./FPC_Re3900_CG_new/fpc_1013.vtu  \n",
            " extracting: ./FPC_Re3900_CG_new/fpc_1589.vtu  \n",
            " extracting: ./FPC_Re3900_CG_new/fpc_1368.vtu  \n",
            " extracting: ./FPC_Re3900_CG_new/fpc_1763.vtu  \n",
            " extracting: ./FPC_Re3900_CG_new/fpc_1521.vtu  \n",
            " extracting: ./FPC_Re3900_CG_new/fpc_1651.vtu  \n",
            " extracting: ./FPC_Re3900_CG_new/fpc_1330.vtu  \n",
            " extracting: ./FPC_Re3900_CG_new/fpc_1405.vtu  \n",
            " extracting: ./FPC_Re3900_CG_new/fpc_1360.vtu  \n",
            " extracting: ./FPC_Re3900_CG_new/fpc_1660.vtu  \n",
            " extracting: ./FPC_Re3900_CG_new/fpc_1009.vtu  \n",
            " extracting: ./FPC_Re3900_CG_new/fpc_1046.vtu  \n",
            " extracting: ./FPC_Re3900_CG_new/fpc_1734.vtu  \n",
            " extracting: ./FPC_Re3900_CG_new/fpc_1942.vtu  \n",
            " extracting: ./FPC_Re3900_CG_new/fpc_1409.vtu  \n",
            " extracting: ./FPC_Re3900_CG_new/fpc_1072.vtu  \n",
            " extracting: ./FPC_Re3900_CG_new/fpc_1990.vtu  \n",
            " extracting: ./FPC_Re3900_CG_new/fpc_1439.vtu  \n",
            " extracting: ./FPC_Re3900_CG_new/fpc_1195.vtu  \n",
            " extracting: ./FPC_Re3900_CG_new/fpc_1321.vtu  \n",
            " extracting: ./FPC_Re3900_CG_new/fpc_1090.vtu  \n",
            " extracting: ./FPC_Re3900_CG_new/fpc_1496.vtu  \n",
            " extracting: ./FPC_Re3900_CG_new/fpc_1840.vtu  \n",
            " extracting: ./FPC_Re3900_CG_new/fpc_1148.vtu  \n",
            " extracting: ./FPC_Re3900_CG_new/fpc_1923.vtu  \n",
            " extracting: ./FPC_Re3900_CG_new/fpc_1182.vtu  \n",
            " extracting: ./FPC_Re3900_CG_new/fpc_1295.vtu  \n",
            " extracting: ./FPC_Re3900_CG_new/fpc_1493.vtu  \n",
            " extracting: ./FPC_Re3900_CG_new/fpc_1383.vtu  \n",
            " extracting: ./FPC_Re3900_CG_new/fpc_1588.vtu  \n",
            " extracting: ./FPC_Re3900_CG_new/fpc_1052.vtu  \n",
            " extracting: ./FPC_Re3900_CG_new/fpc_1230.vtu  \n",
            " extracting: ./FPC_Re3900_CG_new/fpc_1821.vtu  \n",
            " extracting: ./FPC_Re3900_CG_new/fpc_1024.vtu  \n",
            " extracting: ./FPC_Re3900_CG_new/fpc_1682.vtu  \n",
            " extracting: ./FPC_Re3900_CG_new/fpc_1002.vtu  \n",
            " extracting: ./FPC_Re3900_CG_new/fpc_1427.vtu  \n",
            " extracting: ./FPC_Re3900_CG_new/fpc_1593.vtu  \n",
            " extracting: ./FPC_Re3900_CG_new/fpc_1804.vtu  \n",
            " extracting: ./FPC_Re3900_CG_new/fpc_1455.vtu  \n",
            " extracting: ./FPC_Re3900_CG_new/fpc_1428.vtu  \n",
            " extracting: ./FPC_Re3900_CG_new/fpc_1376.vtu  \n",
            " extracting: ./FPC_Re3900_CG_new/fpc_1311.vtu  \n",
            " extracting: ./FPC_Re3900_CG_new/fpc_1124.vtu  \n",
            " extracting: ./FPC_Re3900_CG_new/fpc_1967.vtu  \n",
            " extracting: ./FPC_Re3900_CG_new/fpc_1267.vtu  \n",
            " extracting: ./FPC_Re3900_CG_new/fpc_1713.vtu  \n",
            " extracting: ./FPC_Re3900_CG_new/fpc_1150.vtu  \n",
            " extracting: ./FPC_Re3900_CG_new/fpc_1805.vtu  \n",
            " extracting: ./FPC_Re3900_CG_new/fpc_1078.vtu  \n",
            " extracting: ./FPC_Re3900_CG_new/fpc_1748.vtu  \n",
            " extracting: ./FPC_Re3900_CG_new/fpc_1629.vtu  \n",
            " extracting: ./FPC_Re3900_CG_new/fpc_1515.vtu  \n",
            " extracting: ./FPC_Re3900_CG_new/fpc_1971.vtu  \n",
            " extracting: ./FPC_Re3900_CG_new/fpc_1508.vtu  \n",
            " extracting: ./FPC_Re3900_CG_new/fpc_1631.vtu  \n",
            " extracting: ./FPC_Re3900_CG_new/fpc_1372.vtu  \n",
            " extracting: ./FPC_Re3900_CG_new/fpc_1118.vtu  \n",
            " extracting: ./FPC_Re3900_CG_new/fpc_1193.vtu  \n",
            " extracting: ./FPC_Re3900_CG_new/fpc_1625.vtu  \n",
            " extracting: ./FPC_Re3900_CG_new/fpc_1168.vtu  \n",
            " extracting: ./FPC_Re3900_CG_new/fpc_1607.vtu  \n",
            " extracting: ./FPC_Re3900_CG_new/fpc_1928.vtu  \n",
            " extracting: ./FPC_Re3900_CG_new/fpc_1907.vtu  \n",
            " extracting: ./FPC_Re3900_CG_new/fpc_1758.vtu  \n",
            " extracting: ./FPC_Re3900_CG_new/fpc_1080.vtu  \n",
            " extracting: ./FPC_Re3900_CG_new/fpc_1139.vtu  \n",
            " extracting: ./FPC_Re3900_CG_new/fpc_1093.vtu  \n",
            " extracting: ./FPC_Re3900_CG_new/fpc_1384.vtu  \n",
            " extracting: ./FPC_Re3900_CG_new/fpc_1712.vtu  \n",
            " extracting: ./FPC_Re3900_CG_new/fpc_1721.vtu  \n",
            " extracting: ./FPC_Re3900_CG_new/fpc_1784.vtu  \n",
            " extracting: ./FPC_Re3900_CG_new/fpc_1880.vtu  \n",
            " extracting: ./FPC_Re3900_CG_new/fpc_1555.vtu  \n",
            " extracting: ./FPC_Re3900_CG_new/fpc_1764.vtu  \n",
            " extracting: ./FPC_Re3900_CG_new/fpc_1166.vtu  \n",
            " extracting: ./FPC_Re3900_CG_new/fpc_1563.vtu  \n",
            " extracting: ./FPC_Re3900_CG_new/fpc_1198.vtu  \n",
            " extracting: ./FPC_Re3900_CG_new/fpc_1158.vtu  \n",
            " extracting: ./FPC_Re3900_CG_new/fpc_1841.vtu  \n",
            " extracting: ./FPC_Re3900_CG_new/fpc_1980.vtu  \n",
            " extracting: ./FPC_Re3900_CG_new/fpc_1879.vtu  \n",
            " extracting: ./FPC_Re3900_CG_new/fpc_1559.vtu  \n",
            " extracting: ./FPC_Re3900_CG_new/fpc_1012.vtu  \n",
            " extracting: ./FPC_Re3900_CG_new/fpc_1270.vtu  \n",
            " extracting: ./FPC_Re3900_CG_new/fpc_1786.vtu  \n",
            " extracting: ./FPC_Re3900_CG_new/fpc_1499.vtu  \n",
            " extracting: ./FPC_Re3900_CG_new/fpc_1228.vtu  \n",
            " extracting: ./FPC_Re3900_CG_new/fpc_1359.vtu  \n",
            " extracting: ./FPC_Re3900_CG_new/fpc_1115.vtu  \n",
            " extracting: ./FPC_Re3900_CG_new/fpc_1844.vtu  \n",
            " extracting: ./FPC_Re3900_CG_new/fpc_1698.vtu  \n",
            " extracting: ./FPC_Re3900_CG_new/fpc_1902.vtu  \n",
            " extracting: ./FPC_Re3900_CG_new/fpc_1001.vtu  \n",
            " extracting: ./FPC_Re3900_CG_new/fpc_1567.vtu  \n",
            " extracting: ./FPC_Re3900_CG_new/fpc_1922.vtu  \n",
            " extracting: ./FPC_Re3900_CG_new/fpc_1554.vtu  \n",
            " extracting: ./FPC_Re3900_CG_new/fpc_1799.vtu  \n",
            " extracting: ./FPC_Re3900_CG_new/fpc_1783.vtu  \n",
            " extracting: ./FPC_Re3900_CG_new/fpc_1206.vtu  \n",
            " extracting: ./FPC_Re3900_CG_new/fpc_1650.vtu  \n",
            " extracting: ./FPC_Re3900_CG_new/fpc_1431.vtu  \n",
            " extracting: ./FPC_Re3900_CG_new/fpc_1335.vtu  \n",
            " extracting: ./FPC_Re3900_CG_new/fpc_1550.vtu  \n",
            " extracting: ./FPC_Re3900_CG_new/fpc_1709.vtu  \n",
            " extracting: ./FPC_Re3900_CG_new/fpc_1415.vtu  \n",
            " extracting: ./FPC_Re3900_CG_new/fpc_1327.vtu  \n",
            " extracting: ./FPC_Re3900_CG_new/fpc_1400.vtu  \n",
            " extracting: ./FPC_Re3900_CG_new/fpc_1279.vtu  \n",
            " extracting: ./FPC_Re3900_CG_new/fpc_1265.vtu  \n",
            " extracting: ./FPC_Re3900_CG_new/fpc_1134.vtu  \n",
            " extracting: ./FPC_Re3900_CG_new/fpc_1741.vtu  \n",
            " extracting: ./FPC_Re3900_CG_new/fpc_1411.vtu  \n",
            " extracting: ./FPC_Re3900_CG_new/fpc_1438.vtu  \n",
            " extracting: ./FPC_Re3900_CG_new/fpc_1020.vtu  \n",
            " extracting: ./FPC_Re3900_CG_new/fpc_1617.vtu  \n",
            " extracting: ./FPC_Re3900_CG_new/fpc_1056.vtu  \n",
            " extracting: ./FPC_Re3900_CG_new/fpc_1352.vtu  \n",
            " extracting: ./FPC_Re3900_CG_new/fpc_1479.vtu  \n",
            " extracting: ./FPC_Re3900_CG_new/fpc_1070.vtu  \n",
            " extracting: ./FPC_Re3900_CG_new/fpc_1317.vtu  \n",
            " extracting: ./FPC_Re3900_CG_new/fpc_1873.vtu  \n",
            " extracting: ./FPC_Re3900_CG_new/fpc_1862.vtu  \n",
            " extracting: ./FPC_Re3900_CG_new/fpc_1528.vtu  \n",
            " extracting: ./FPC_Re3900_CG_new/fpc_1803.vtu  \n",
            " extracting: ./FPC_Re3900_CG_new/fpc_1191.vtu  \n",
            " extracting: ./FPC_Re3900_CG_new/fpc_1736.vtu  \n",
            " extracting: ./FPC_Re3900_CG_new/fpc_1483.vtu  \n",
            " extracting: ./FPC_Re3900_CG_new/fpc_1686.vtu  \n",
            " extracting: ./FPC_Re3900_CG_new/fpc_1556.vtu  \n",
            " extracting: ./FPC_Re3900_CG_new/fpc_1536.vtu  \n",
            " extracting: ./FPC_Re3900_CG_new/fpc_1642.vtu  \n",
            " extracting: ./FPC_Re3900_CG_new/fpc_1014.vtu  \n",
            " extracting: ./FPC_Re3900_CG_new/fpc_1116.vtu  \n",
            " extracting: ./FPC_Re3900_CG_new/fpc_1934.vtu  \n",
            " extracting: ./FPC_Re3900_CG_new/fpc_1377.vtu  \n",
            " extracting: ./FPC_Re3900_CG_new/fpc_1623.vtu  \n",
            " extracting: ./FPC_Re3900_CG_new/fpc_1530.vtu  \n",
            " extracting: ./FPC_Re3900_CG_new/fpc_1367.vtu  \n",
            " extracting: ./FPC_Re3900_CG_new/fpc_1345.vtu  \n",
            " extracting: ./FPC_Re3900_CG_new/fpc_1690.vtu  \n",
            " extracting: ./FPC_Re3900_CG_new/fpc_1707.vtu  \n",
            " extracting: ./FPC_Re3900_CG_new/fpc_1731.vtu  \n",
            " extracting: ./FPC_Re3900_CG_new/fpc_1720.vtu  \n",
            " extracting: ./FPC_Re3900_CG_new/fpc_1241.vtu  \n",
            " extracting: ./FPC_Re3900_CG_new/fpc_1869.vtu  \n",
            " extracting: ./FPC_Re3900_CG_new/fpc_1688.vtu  \n",
            " extracting: ./FPC_Re3900_CG_new/fpc_1476.vtu  \n",
            " extracting: ./FPC_Re3900_CG_new/fpc_1896.vtu  \n",
            " extracting: ./FPC_Re3900_CG_new/fpc_1281.vtu  \n",
            " extracting: ./FPC_Re3900_CG_new/fpc_1938.vtu  \n",
            " extracting: ./FPC_Re3900_CG_new/fpc_1583.vtu  \n",
            " extracting: ./FPC_Re3900_CG_new/fpc_1445.vtu  \n",
            " extracting: ./FPC_Re3900_CG_new/fpc_1735.vtu  \n",
            " extracting: ./FPC_Re3900_CG_new/fpc_1081.vtu  \n",
            " extracting: ./FPC_Re3900_CG_new/fpc_1771.vtu  \n",
            " extracting: ./FPC_Re3900_CG_new/fpc_1091.vtu  \n",
            " extracting: ./FPC_Re3900_CG_new/fpc_1850.vtu  \n",
            " extracting: ./FPC_Re3900_CG_new/fpc_1865.vtu  \n",
            " extracting: ./FPC_Re3900_CG_new/fpc_1703.vtu  \n",
            " extracting: ./FPC_Re3900_CG_new/fpc_1846.vtu  \n",
            " extracting: ./FPC_Re3900_CG_new/fpc_1162.vtu  \n",
            " extracting: ./FPC_Re3900_CG_new/fpc_1018.vtu  \n",
            " extracting: ./FPC_Re3900_CG_new/fpc_1858.vtu  \n",
            " extracting: ./FPC_Re3900_CG_new/fpc_1394.vtu  \n",
            " extracting: ./FPC_Re3900_CG_new/fpc_1144.vtu  \n",
            " extracting: ./FPC_Re3900_CG_new/fpc_1649.vtu  \n",
            " extracting: ./FPC_Re3900_CG_new/fpc_1538.vtu  \n",
            " extracting: ./FPC_Re3900_CG_new/fpc_1170.vtu  \n",
            " extracting: ./FPC_Re3900_CG_new/fpc_1893.vtu  \n",
            " extracting: ./FPC_Re3900_CG_new/fpc_1988.vtu  \n",
            " extracting: ./FPC_Re3900_CG_new/fpc_1095.vtu  \n",
            " extracting: ./FPC_Re3900_CG_new/fpc_1806.vtu  \n",
            " extracting: ./FPC_Re3900_CG_new/fpc_1480.vtu  \n",
            " extracting: ./FPC_Re3900_CG_new/fpc_1933.vtu  \n",
            " extracting: ./FPC_Re3900_CG_new/fpc_1591.vtu  \n",
            " extracting: ./FPC_Re3900_CG_new/fpc_1852.vtu  \n",
            " extracting: ./FPC_Re3900_CG_new/fpc_1692.vtu  \n",
            " extracting: ./FPC_Re3900_CG_new/fpc_1594.vtu  \n",
            " extracting: ./FPC_Re3900_CG_new/fpc_1739.vtu  \n",
            " extracting: ./FPC_Re3900_CG_new/fpc_1123.vtu  \n",
            " extracting: ./FPC_Re3900_CG_new/fpc_1661.vtu  \n",
            " extracting: ./FPC_Re3900_CG_new/fpc_1535.vtu  \n",
            " extracting: ./FPC_Re3900_CG_new/fpc_1540.vtu  \n",
            " extracting: ./FPC_Re3900_CG_new/fpc_1839.vtu  \n",
            " extracting: ./FPC_Re3900_CG_new/fpc_1797.vtu  \n",
            " extracting: ./FPC_Re3900_CG_new/fpc_1791.vtu  \n",
            " extracting: ./FPC_Re3900_CG_new/fpc_1161.vtu  \n",
            " extracting: ./FPC_Re3900_CG_new/fpc_1845.vtu  \n",
            " extracting: ./FPC_Re3900_CG_new/fpc_1857.vtu  \n",
            " extracting: ./FPC_Re3900_CG_new/fpc_1789.vtu  \n",
            " extracting: ./FPC_Re3900_CG_new/fpc_1047.vtu  \n",
            " extracting: ./FPC_Re3900_CG_new/fpc_1914.vtu  \n",
            " extracting: ./FPC_Re3900_CG_new/fpc_1401.vtu  \n",
            " extracting: ./FPC_Re3900_CG_new/fpc_1960.vtu  \n",
            " extracting: ./FPC_Re3900_CG_new/fpc_1274.vtu  \n",
            " extracting: ./FPC_Re3900_CG_new/fpc_1619.vtu  \n",
            " extracting: ./FPC_Re3900_CG_new/fpc_1099.vtu  \n",
            " extracting: ./FPC_Re3900_CG_new/fpc_1507.vtu  \n",
            " extracting: ./FPC_Re3900_CG_new/fpc_1050.vtu  \n",
            " extracting: ./FPC_Re3900_CG_new/fpc_1462.vtu  \n",
            " extracting: ./FPC_Re3900_CG_new/fpc_1643.vtu  \n",
            " extracting: ./FPC_Re3900_CG_new/fpc_1288.vtu  \n",
            " extracting: ./FPC_Re3900_CG_new/fpc_1135.vtu  \n",
            " extracting: ./FPC_Re3900_CG_new/fpc_1755.vtu  \n",
            " extracting: ./FPC_Re3900_CG_new/fpc_1683.vtu  \n",
            " extracting: ./FPC_Re3900_CG_new/fpc_1388.vtu  \n",
            " extracting: ./FPC_Re3900_CG_new/fpc_1744.vtu  \n",
            " extracting: ./FPC_Re3900_CG_new/fpc_1234.vtu  \n",
            " extracting: ./FPC_Re3900_CG_new/fpc_1730.vtu  \n",
            " extracting: ./FPC_Re3900_CG_new/fpc_1599.vtu  \n",
            " extracting: ./FPC_Re3900_CG_new/fpc_1222.vtu  \n"
          ],
          "name": "stdout"
        }
      ]
    },
    {
      "cell_type": "markdown",
      "metadata": {
        "id": "V-6l2HlzjngO"
      },
      "source": [
        "# Specify the folder of the data and load the full_tensors from `vtu` files, or `txt` files, like following, check the folder you specified only contains `vtu` and `txt` files!!!"
      ]
    },
    {
      "cell_type": "markdown",
      "metadata": {
        "id": "2uUae0wxu6s-"
      },
      "source": [
        "### specify your own {DATA_DIR} of vtu files here."
      ]
    },
    {
      "cell_type": "code",
      "metadata": {
        "id": "q5liu8GegVnP"
      },
      "source": [
        "data_path = 'FPC_Re3900_CG_new/'\n",
        "vtu_fields = ['Velocity']"
      ],
      "execution_count": 8,
      "outputs": []
    },
    {
      "cell_type": "markdown",
      "metadata": {
        "id": "qcQAcXV-Az8s"
      },
      "source": [
        "### Specify the `vtu_fields` (a list) of an unadapted mesh to read in, returns:\n",
        "**full_tensor**: The tensor of all `vtu_fields` you specified for all snapshots in the {data_path}, 3-dimension, the first dimension is number of snapshots in that {data_path}, the second is the number of Nodes in each snapshots, the last is number of components in the `vtu_fields`, for example, in this FPC test case,\n",
        "two components for `Velocity`, one for `Pressure`. <br> <br>\n",
        "**coords**: The coordinates of the unadapted mesh Nodes from the `vtu` file, 3-dimension."
      ]
    },
    {
      "cell_type": "code",
      "metadata": {
        "colab": {
          "base_uri": "https://localhost:8080/"
        },
        "id": "4e86ipaRVioU",
        "outputId": "ea36ba90-9bb4-4015-a2f8-2a6097648d7d"
      },
      "source": [
        "full_tensor, coords, cells = read_in_files(data_path, vtu_fields = vtu_fields)"
      ],
      "execution_count": 9,
      "outputs": [
        {
          "output_type": "stream",
          "text": [
            "  0% (4 of 2000) |                       | Elapsed Time: 0:00:00 ETA:   0:00:51"
          ],
          "name": "stderr"
        },
        {
          "output_type": "stream",
          "text": [
            "file_prefix: FPC_Re3900_CG_new/fpc_, file_format: .vtu\n",
            "Read in vtu Data......\n",
            "\n",
            "mesh adapted at snapshot 0\n"
          ],
          "name": "stdout"
        },
        {
          "output_type": "stream",
          "text": [
            "100% (2000 of 2000) |####################| Elapsed Time: 0:00:09 Time:  0:00:09\n"
          ],
          "name": "stderr"
        }
      ]
    },
    {
      "cell_type": "markdown",
      "metadata": {
        "id": "ejPBE_73Krri"
      },
      "source": [
        "For reading tensor from `txt` files, check the `read_in_files` function from `util.py` at https://github.com/acse-jy220/SFC-CAE-Ready-to-use"
      ]
    },
    {
      "cell_type": "markdown",
      "metadata": {
        "id": "1PxP4LlQO8c5"
      },
      "source": [
        "### Save the full tensor in your `google_drive` for further use."
      ]
    },
    {
      "cell_type": "code",
      "metadata": {
        "id": "Y3EjoOmgO6f9"
      },
      "source": [
        "# torch.save(full_tensor, '/content/gdrive/MyDrive/FPC_CG_new_velocity.pt')\n",
        "# torch.save(coords, '/content/gdrive/MyDrive/FPC_CG_new_mesh.pt')"
      ],
      "execution_count": null,
      "outputs": []
    },
    {
      "cell_type": "markdown",
      "metadata": {
        "id": "EkaBK5xeHKVJ"
      },
      "source": [
        "### Load tensor from google drive"
      ]
    },
    {
      "cell_type": "code",
      "metadata": {
        "id": "vWh7BX5GjJgt"
      },
      "source": [
        "# full_tensor = torch.load('/content/gdrive/MyDrive/FPC_CG_new_velocity.pt').float()\n",
        "# coords = torch.load('/content/gdrive/MyDrive/FPC_CG_new_mesh.pt') "
      ],
      "execution_count": null,
      "outputs": []
    },
    {
      "cell_type": "code",
      "metadata": {
        "colab": {
          "base_uri": "https://localhost:8080/"
        },
        "id": "9Yi9_fgQNivy",
        "outputId": "ad050177-ffdd-422c-df51-2884fc7d3ba2"
      },
      "source": [
        "full_tensor.shape"
      ],
      "execution_count": 10,
      "outputs": [
        {
          "output_type": "execute_result",
          "data": {
            "text/plain": [
              "torch.Size([2000, 3571, 2])"
            ]
          },
          "metadata": {
            "tags": []
          },
          "execution_count": 10
        }
      ]
    },
    {
      "cell_type": "code",
      "metadata": {
        "colab": {
          "base_uri": "https://localhost:8080/"
        },
        "id": "-Arro4UFNfTm",
        "outputId": "8fb2e59a-bc0c-4ab1-b4bb-b28ae3968d0a"
      },
      "source": [
        "coords.shape"
      ],
      "execution_count": 11,
      "outputs": [
        {
          "output_type": "execute_result",
          "data": {
            "text/plain": [
              "(3571, 3)"
            ]
          },
          "metadata": {
            "tags": []
          },
          "execution_count": 11
        }
      ]
    },
    {
      "cell_type": "markdown",
      "metadata": {
        "id": "rl0obICyPGiM"
      },
      "source": [
        "### Generate space-filling-curves from coords (unadapted) of the `vtu` files"
      ]
    },
    {
      "cell_type": "code",
      "metadata": {
        "id": "Q3q2AkVJkTQ-"
      },
      "source": [
        "ncurves = 20 # specify space-filling curve numbers\n",
        "# for DG mesh\n",
        "# space_filling_orderings, invert_space_filling_orderings = get_sfc_curves_from_coords(coords, ncurves)\n",
        "\n",
        "# for CG mesh, according to Claire's code, we need to input an additional template vtu file to it.\n",
        "template_vtu = vtktools.vtu(glob.glob(data_path + '*')[0])\n",
        "space_filling_orderings, invert_space_filling_orderings = get_sfc_curves_from_coords_CG(coords, ncurves, template_vtu)"
      ],
      "execution_count": 21,
      "outputs": []
    },
    {
      "cell_type": "code",
      "metadata": {
        "id": "7ZlPAkxszWJi"
      },
      "source": [
        "# see this in get_sfc_curves_from_coords_CG() func in utils.py, find sparse connectivity for CG meshes.\n",
        "ncolm=0\n",
        "colm=[]\n",
        "findm=[0]\n",
        "for nod in range(coords.shape[0]):\n",
        "    nodes = template_vtu.GetPointPoints(nod)\n",
        "    nodes2 = np.sort(nodes) #sort_assed(nodes) \n",
        "    colm.extend(nodes2[:]) \n",
        "    nlength = nodes2.shape[0]\n",
        "    ncolm=ncolm+nlength\n",
        "    findm.append(ncolm)\n",
        "\n",
        "colm = np.array(colm)\n",
        "colm = colm + 1\n",
        "findm = np.array(findm)\n",
        "findm = findm + 1"
      ],
      "execution_count": 22,
      "outputs": []
    },
    {
      "cell_type": "code",
      "metadata": {
        "id": "6ePDHfHvyr3P"
      },
      "source": [
        "edge_list = csr_to_edges(findm, colm)"
      ],
      "execution_count": 23,
      "outputs": []
    },
    {
      "cell_type": "markdown",
      "metadata": {
        "id": "tNooeHB0zxKK"
      },
      "source": [
        "### Print out the filled connectivity by the space-filling curves."
      ]
    },
    {
      "cell_type": "code",
      "metadata": {
        "colab": {
          "base_uri": "https://localhost:8080/"
        },
        "id": "lTJ4SMV_zlT-",
        "outputId": "4861dbb8-93bf-4e08-e660-9d9ebb3f0e62"
      },
      "source": [
        "filled_edges_for_sfcs(edge_list, space_filling_orderings)"
      ],
      "execution_count": 24,
      "outputs": [
        {
          "output_type": "stream",
          "text": [
            "filled adjacencies by the 1 sfcs : 3410 / 10421\n",
            "filled adjacencies by the 2 sfcs : 5780 / 10421\n",
            "filled adjacencies by the 3 sfcs : 7338 / 10421\n",
            "filled adjacencies by the 4 sfcs : 8308 / 10421\n",
            "filled adjacencies by the 5 sfcs : 8949 / 10421\n",
            "filled adjacencies by the 6 sfcs : 9367 / 10421\n",
            "filled adjacencies by the 7 sfcs : 9657 / 10421\n",
            "filled adjacencies by the 8 sfcs : 9871 / 10421\n",
            "filled adjacencies by the 9 sfcs : 10015 / 10421\n",
            "filled adjacencies by the 10 sfcs : 10108 / 10421\n",
            "filled adjacencies by the 11 sfcs : 10175 / 10421\n",
            "filled adjacencies by the 12 sfcs : 10231 / 10421\n",
            "filled adjacencies by the 13 sfcs : 10270 / 10421\n",
            "filled adjacencies by the 14 sfcs : 10297 / 10421\n",
            "filled adjacencies by the 15 sfcs : 10325 / 10421\n",
            "filled adjacencies by the 16 sfcs : 10341 / 10421\n",
            "filled adjacencies by the 17 sfcs : 10360 / 10421\n",
            "filled adjacencies by the 18 sfcs : 10372 / 10421\n",
            "filled adjacencies by the 19 sfcs : 10384 / 10421\n",
            "filled adjacencies by the 20 sfcs : 10388 / 10421\n"
          ],
          "name": "stdout"
        }
      ]
    },
    {
      "cell_type": "code",
      "metadata": {
        "id": "hvF8pqqedWZp",
        "colab": {
          "base_uri": "https://localhost:8080/",
          "height": 281
        },
        "outputId": "40493b44-79bb-47d4-d9de-57204849d09c"
      },
      "source": [
        "#visualize the space-filling curve, only works for the FPC example\n",
        "# plot_trace_vtu_2D(coords[space_filling_orderings[0]], 25)\n",
        "countour_plot_vtu_2D(coords[space_filling_orderings[0]], 25, cmap = cmocean.cm.dense_r)"
      ],
      "execution_count": 16,
      "outputs": [
        {
          "output_type": "display_data",
          "data": {
            "image/png": "[encoded data removed]",
            "text/plain": [
              "<Figure size 2880x536.727 with 1 Axes>"
            ]
          },
          "metadata": {
            "tags": [],
            "needs_background": "light"
          }
        }
      ]
    },
    {
      "cell_type": "markdown",
      "metadata": {
        "id": "HNpswnjiMjFI"
      },
      "source": [
        "### Random split the tensor into training_set: valid_set: test_set = 0.8:0.1:0.1 = 8:1:1"
      ]
    },
    {
      "cell_type": "code",
      "metadata": {
        "id": "d4odlOJDZGUc"
      },
      "source": [
        "train_ratio = 0.8\n",
        "valid_ratio = 0.1\n",
        "test_ratio = 0.1 \n",
        "train_index, valid_index, test_index = index_split(train_ratio, valid_ratio, test_ratio, total_num = full_tensor.shape[0])"
      ],
      "execution_count": 25,
      "outputs": []
    },
    {
      "cell_type": "code",
      "metadata": {
        "id": "HnD66ouCqbPp"
      },
      "source": [
        "full_set, k, b = standardlize_tensor(full_tensor, lower = -1, upper = 1)"
      ],
      "execution_count": 26,
      "outputs": []
    },
    {
      "cell_type": "code",
      "metadata": {
        "colab": {
          "base_uri": "https://localhost:8080/"
        },
        "id": "T3WLEQT_eLo3",
        "outputId": "06921869-1254-48a3-9006-66b3a29d78cc"
      },
      "source": [
        "k.detach().numpy()"
      ],
      "execution_count": 27,
      "outputs": [
        {
          "output_type": "execute_result",
          "data": {
            "text/plain": [
              "array([12.143537 , 14.3238945], dtype=float32)"
            ]
          },
          "metadata": {
            "tags": []
          },
          "execution_count": 27
        }
      ]
    },
    {
      "cell_type": "code",
      "metadata": {
        "id": "kCCHuttBJAgX"
      },
      "source": [
        "torch.save(k, \"fpc_cg_tk.pt\")"
      ],
      "execution_count": 38,
      "outputs": []
    },
    {
      "cell_type": "code",
      "metadata": {
        "colab": {
          "base_uri": "https://localhost:8080/"
        },
        "id": "b2JRx4gYeNEu",
        "outputId": "410e553d-85ca-48c1-ec53-de6cc5eecf04"
      },
      "source": [
        "b.detach().numpy()"
      ],
      "execution_count": 40,
      "outputs": [
        {
          "output_type": "execute_result",
          "data": {
            "text/plain": [
              "array([-0.15299238,  0.01682755], dtype=float32)"
            ]
          },
          "metadata": {
            "tags": []
          },
          "execution_count": 40
        }
      ]
    },
    {
      "cell_type": "code",
      "metadata": {
        "id": "-y2uT1mJJGzO"
      },
      "source": [
        "torch.save(b, \"fpc_cg_tb.pt\")"
      ],
      "execution_count": 39,
      "outputs": []
    },
    {
      "cell_type": "code",
      "metadata": {
        "id": "Zw11QTSWqhh1"
      },
      "source": [
        "train_set = full_set[train_index - 1]\n",
        "valid_set = full_set[valid_index - 1]\n",
        "test_set = full_set[test_index - 1]"
      ],
      "execution_count": 29,
      "outputs": []
    },
    {
      "cell_type": "markdown",
      "metadata": {
        "id": "vAXt8JUghZsZ"
      },
      "source": [
        "### The following cell is quite vital, as it indicates the parameters for the **autoencoder**\n",
        "\n",
        "`input_size` is the number of Node, for example 20550 <br> `dimension` is the dimension of the data in Vtu file, 2 or 3.<br> `components` is the number of components you are compressing, if the tensor is 2 dimension, then it's default of 1. `self_concat` is chennel copying operation, you could keep it default as 1, or 2 when you have multiple SFCs. <br> `structured`: bool, whether you are training SFC-CAE on a structured mesh or not.<br>`nearest_neighboring`: bool, adding sparse layers or not, suggest to turn on.<br>\n",
        "`dims_letent`: The dimension of the compressed data after applying decoder. <br>\n",
        "`space_filling_orderings`, `invert_space_filling_orderings` : lists of sfc\\inverse_sfc nums, generated by `get_sfc_curves_from_coords` function, or read the orderings from a `csv` file on your own. <br>\n",
        "`activation`: Can be customly defined, but if you not spcify, the activation would be `ReLU()` for structured mesh, and `Tanh()` for unstructured mesh."
      ]
    },
    {
      "cell_type": "code",
      "metadata": {
        "id": "2pJWVZ4fM5tA"
      },
      "source": [
        "input_size = full_tensor.shape[1]\n",
        "dimension = 2\n",
        "if full_tensor.ndim == 2: components = 1\n",
        "else: components = full_tensor.shape[-1]\n",
        "self_concat = 2\n",
        "structured = False\n",
        "nearest_neighbouring = True # shut down this may lead to a slightly poorer performance, but a quicker training spped\n",
        "dims_latent = 16\n",
        "activation = nn.Tanh()\n",
        "variational = False\n",
        "# space_filling_orderings = (mannully spcify it if you didn't generate in the cells before)\n",
        "# invert_space_filling_orderings = "
      ],
      "execution_count": 30,
      "outputs": []
    },
    {
      "cell_type": "markdown",
      "metadata": {
        "id": "f2LcLWgVkL66"
      },
      "source": [
        "### The following are just normal Hyperparameters for training, free to tune it yourself."
      ]
    },
    {
      "cell_type": "code",
      "metadata": {
        "id": "mV_I8qXKi0bd"
      },
      "source": [
        "batch_size = 16\n",
        "seed = 27\n",
        "lr = 1e-4\n",
        "n_epochs = 2000\n",
        "weight_decay = 0\n",
        "criterion_type = 'MSE'\n",
        "valid_batch_size = valid_set.shape[0]"
      ],
      "execution_count": 31,
      "outputs": []
    },
    {
      "cell_type": "code",
      "metadata": {
        "id": "jStujwHSjKH1"
      },
      "source": [
        "train_loader = DataLoader(dataset=train_set, batch_size=batch_size, shuffle=True)\n",
        "valid_loader = DataLoader(dataset=valid_set, batch_size=valid_batch_size, shuffle=True)\n",
        "test_loader = DataLoader(dataset=test_set, batch_size=valid_batch_size, shuffle=True)"
      ],
      "execution_count": 32,
      "outputs": []
    },
    {
      "cell_type": "code",
      "metadata": {
        "id": "TAAalUJLh7o_"
      },
      "source": [
        "autoencoder = SFC_CAE(input_size,\n",
        "                      dimension,\n",
        "                      components,\n",
        "                      structured,\n",
        "                      self_concat,\n",
        "                      nearest_neighbouring,\n",
        "                      dims_latent,\n",
        "                      space_filling_orderings[:4], \n",
        "                      invert_space_filling_orderings[:4],\n",
        "                      activation,\n",
        "                      variational = variational,\n",
        "                      force_initialising_param=None)"
      ],
      "execution_count": 33,
      "outputs": []
    },
    {
      "cell_type": "code",
      "metadata": {
        "colab": {
          "base_uri": "https://localhost:8080/"
        },
        "id": "QfbifPMzvGFJ",
        "outputId": "ef36bd96-1192-4c78-bb1f-af82c28a9936"
      },
      "source": [
        "autoencoder.output_structure()"
      ],
      "execution_count": 34,
      "outputs": [
        {
          "output_type": "stream",
          "text": [
            "The LaTeX script for the table structure of the SFC-CAE has been written to 'LatexTable.txt', please copy it to a LaTeX compiler environment, e.g. overleaf.\n"
          ],
          "name": "stdout"
        }
      ]
    },
    {
      "cell_type": "code",
      "metadata": {
        "colab": {
          "base_uri": "https://localhost:8080/",
          "height": 874
        },
        "id": "oqE4z4TtjK1D",
        "outputId": "d0c65a76-e45c-4532-cd59-33c5565688c1"
      },
      "source": [
        "autoencoder = train_model(autoencoder, \n",
        "                          train_loader = train_loader,\n",
        "                          valid_loader = valid_loader,\n",
        "                          test_loader = test_loader,\n",
        "                          state_load = None,\n",
        "                          n_epochs = n_epochs, \n",
        "                          lr = lr,\n",
        "                          weight_decay = weight_decay,\n",
        "                          criterion_type = criterion_type,\n",
        "                          seed = seed,\n",
        "                          save_path = '/content/gdrive/MyDrive/Models/FPC_CG/')"
      ],
      "execution_count": 35,
      "outputs": [
        {
          "output_type": "display_data",
          "data": {
            "image/png": "[encoded data removed]",
            "text/plain": [
              "<Figure size 864x576 with 2 Axes>"
            ]
          },
          "metadata": {
            "tags": [],
            "needs_background": "light"
          }
        },
        {
          "output_type": "stream",
          "text": [
            "log loss\n",
            "\ttraining         \t (min:    0.000, max:    0.040, cur:    0.000)\n",
            "\tvalidation       \t (min:    0.000, max:    0.028, cur:    0.000)\n",
            "log loss (relative)\n",
            "\ttraining         \t (min:    0.000, max:    1.930, cur:    0.000)\n",
            "\tvalidation       \t (min:    0.001, max:    0.497, cur:    0.001)\n",
            "Epoch:  1999 | train loss: 1.802402e-05 | valid loss: 9.060466e-05 \n",
            "      \t| train loss (relative): 2.042940e-04 | valid loss (relative): 1.025336e-03 \n",
            "Epoch 1999 use: 3.62 second.\n",
            "\n",
            "test MSE Error: 4.448548e-05 | relative MSE Error: 5.050823e-04 \n",
            " Total time used for training: 2.00 hour.\n",
            "MESLoss saved to  /content/gdrive/MyDrive/Models/FPC_CG/Variational_False_Changelr_False_MSELoss_Latent_16_nearest_neighbouring_True_SFC_nums_4_startlr_0.0001_n_epoches_2000.txt\n",
            "relative MSELoss saved to  /content/gdrive/MyDrive/Models/FPC_CG/Variational_False_Changelr_False_reMSELoss_Latent_16_nearest_neighbouring_True_SFC_nums_4_startlr_0.0001_n_epoches_2000.txt\n",
            "model saved to /content/gdrive/MyDrive/Models/FPC_CG/Variational_False_Changelr_False_Latent_16_Nearest_neighbouring_True_SFC_nums_4_startlr_0.0001_n_epoches_2000.pth\n",
            "model_dict saved to /content/gdrive/MyDrive/Models/FPC_CG/Variational_False_Changelr_False_Latent_16_Nearest_neighbouring_True_SFC_nums_4_startlr_0.0001_n_epoches_2000_dict.pth\n"
          ],
          "name": "stdout"
        }
      ]
    },
    {
      "cell_type": "markdown",
      "metadata": {
        "id": "Lxh4vlilkjqu"
      },
      "source": [
        "### Other functions need to be add, like convert the result back to `csv`/`vtu` files....."
      ]
    },
    {
      "cell_type": "code",
      "metadata": {
        "id": "aJ_t-7dOtJwk",
        "colab": {
          "base_uri": "https://localhost:8080/"
        },
        "outputId": "5520f0ad-8ef2-408a-bbd4-e20ad8c98e2f"
      },
      "source": [
        "# added functions to output vtu files from reconstruct\n",
        "model_device = torch.device('cuda')\n",
        "autoencoder = autoencoder.to(model_device)\n",
        "save_path = 'reconstructed_FPC_CG'\n",
        "import os\n",
        "os.system(F'mkdir -p {save_path}')"
      ],
      "execution_count": 36,
      "outputs": [
        {
          "output_type": "execute_result",
          "data": {
            "text/plain": [
              "0"
            ]
          },
          "metadata": {
            "tags": []
          },
          "execution_count": 36
        }
      ]
    },
    {
      "cell_type": "code",
      "metadata": {
        "colab": {
          "base_uri": "https://localhost:8080/"
        },
        "id": "61-HMk03HTIG",
        "outputId": "b7742c65-f2c9-4563-c658-3227f1c9605f"
      },
      "source": [
        "result_vtu_to_vtu(data_path, save_path, vtu_fields, autoencoder, k.detach().numpy(), b.detach().numpy(), model_device = model_device)"
      ],
      "execution_count": 37,
      "outputs": [
        {
          "output_type": "stream",
          "text": [
            "  0% (1 of 2000) |                       | Elapsed Time: 0:00:00 ETA:   0:04:01"
          ],
          "name": "stderr"
        },
        {
          "output_type": "stream",
          "text": [
            "file_prefix: FPC_Re3900_CG_new/fpc_, file_format: .vtu\n",
            "Write vtu Data......\n",
            "\n",
            "Reconstruction MSE error for snapshot 0: 0.000100\n",
            "torch.Size([3571, 2])\n",
            "Reconstruction MSE error for snapshot 1: 0.000095\n",
            "torch.Size([3571, 2])\n",
            "Reconstruction MSE error for snapshot 2: 0.000046\n",
            "torch.Size([3571, 2])\n"
          ],
          "name": "stdout"
        },
        {
          "output_type": "stream",
          "text": [
            "  0% (7 of 2000) |                       | Elapsed Time: 0:00:00 ETA:   0:01:34"
          ],
          "name": "stderr"
        },
        {
          "output_type": "stream",
          "text": [
            "Reconstruction MSE error for snapshot 3: 0.000037\n",
            "torch.Size([3571, 2])\n",
            "Reconstruction MSE error for snapshot 4: 0.000031\n",
            "torch.Size([3571, 2])\n",
            "Reconstruction MSE error for snapshot 5: 0.000027\n",
            "torch.Size([3571, 2])\n",
            "Reconstruction MSE error for snapshot 6: 0.000025\n",
            "torch.Size([3571, 2])\n",
            "Reconstruction MSE error for snapshot 7: 0.000026\n",
            "torch.Size([3571, 2])\n",
            "Reconstruction MSE error for snapshot 8: 0.000034\n",
            "torch.Size([3571, 2])\n"
          ],
          "name": "stdout"
        },
        {
          "output_type": "stream",
          "text": [
            "  0% (13 of 2000) |                      | Elapsed Time: 0:00:00 ETA:   0:01:21"
          ],
          "name": "stderr"
        },
        {
          "output_type": "stream",
          "text": [
            "Reconstruction MSE error for snapshot 9: 0.000036\n",
            "torch.Size([3571, 2])\n",
            "Reconstruction MSE error for snapshot 10: 0.000042\n",
            "torch.Size([3571, 2])\n",
            "Reconstruction MSE error for snapshot 11: 0.000041\n",
            "torch.Size([3571, 2])\n",
            "Reconstruction MSE error for snapshot 12: 0.000040\n",
            "torch.Size([3571, 2])\n",
            "Reconstruction MSE error for snapshot 13: 0.000057\n",
            "torch.Size([3571, 2])\n",
            "Reconstruction MSE error for snapshot 14: 0.000055\n",
            "torch.Size([3571, 2])\n"
          ],
          "name": "stdout"
        },
        {
          "output_type": "stream",
          "text": [
            "  1% (20 of 2000) |                      | Elapsed Time: 0:00:00 ETA:   0:01:16"
          ],
          "name": "stderr"
        },
        {
          "output_type": "stream",
          "text": [
            "Reconstruction MSE error for snapshot 15: 0.000044\n",
            "torch.Size([3571, 2])\n",
            "Reconstruction MSE error for snapshot 16: 0.000041\n",
            "torch.Size([3571, 2])\n",
            "Reconstruction MSE error for snapshot 17: 0.000039\n",
            "torch.Size([3571, 2])\n",
            "Reconstruction MSE error for snapshot 18: 0.000045\n",
            "torch.Size([3571, 2])\n",
            "Reconstruction MSE error for snapshot 19: 0.000049\n",
            "torch.Size([3571, 2])\n",
            "Reconstruction MSE error for snapshot 20: 0.000041\n",
            "torch.Size([3571, 2])\n",
            "Reconstruction MSE error for snapshot 21: 0.000038\n"
          ],
          "name": "stdout"
        },
        {
          "output_type": "stream",
          "text": [
            "  1% (26 of 2000) |                      | Elapsed Time: 0:00:00 ETA:   0:01:14"
          ],
          "name": "stderr"
        },
        {
          "output_type": "stream",
          "text": [
            "torch.Size([3571, 2])\n",
            "Reconstruction MSE error for snapshot 22: 0.000035\n",
            "torch.Size([3571, 2])\n",
            "Reconstruction MSE error for snapshot 23: 0.000032\n",
            "torch.Size([3571, 2])\n",
            "Reconstruction MSE error for snapshot 24: 0.000027\n",
            "torch.Size([3571, 2])\n",
            "Reconstruction MSE error for snapshot 25: 0.000027\n",
            "torch.Size([3571, 2])\n",
            "Reconstruction MSE error for snapshot 26: 0.000024\n",
            "torch.Size([3571, 2])\n"
          ],
          "name": "stdout"
        },
        {
          "output_type": "stream",
          "text": [
            "  1% (32 of 2000) |                      | Elapsed Time: 0:00:01 ETA:   0:01:13"
          ],
          "name": "stderr"
        },
        {
          "output_type": "stream",
          "text": [
            "Reconstruction MSE error for snapshot 27: 0.000027\n",
            "torch.Size([3571, 2])\n",
            "Reconstruction MSE error for snapshot 28: 0.000033\n",
            "torch.Size([3571, 2])\n",
            "Reconstruction MSE error for snapshot 29: 0.000038\n",
            "torch.Size([3571, 2])\n",
            "Reconstruction MSE error for snapshot 30: 0.000039\n",
            "torch.Size([3571, 2])\n",
            "Reconstruction MSE error for snapshot 31: 0.000035\n",
            "torch.Size([3571, 2])\n",
            "Reconstruction MSE error for snapshot 32: 0.000029\n",
            "torch.Size([3571, 2])\n"
          ],
          "name": "stdout"
        },
        {
          "output_type": "stream",
          "text": [
            "  1% (38 of 2000) |                      | Elapsed Time: 0:00:01 ETA:   0:01:12"
          ],
          "name": "stderr"
        },
        {
          "output_type": "stream",
          "text": [
            "Reconstruction MSE error for snapshot 33: 0.000029\n",
            "torch.Size([3571, 2])\n",
            "Reconstruction MSE error for snapshot 34: 0.000035\n",
            "torch.Size([3571, 2])\n",
            "Reconstruction MSE error for snapshot 35: 0.000037\n",
            "torch.Size([3571, 2])\n",
            "Reconstruction MSE error for snapshot 36: 0.000032\n",
            "torch.Size([3571, 2])\n",
            "Reconstruction MSE error for snapshot 37: 0.000028\n",
            "torch.Size([3571, 2])\n",
            "Reconstruction MSE error for snapshot 38: 0.000024\n",
            "torch.Size([3571, 2])\n"
          ],
          "name": "stdout"
        },
        {
          "output_type": "stream",
          "text": [
            "  2% (45 of 2000) |                      | Elapsed Time: 0:00:01 ETA:   0:01:10"
          ],
          "name": "stderr"
        },
        {
          "output_type": "stream",
          "text": [
            "Reconstruction MSE error for snapshot 39: 0.000022\n",
            "torch.Size([3571, 2])\n",
            "Reconstruction MSE error for snapshot 40: 0.000026\n",
            "torch.Size([3571, 2])\n",
            "Reconstruction MSE error for snapshot 41: 0.000033\n",
            "torch.Size([3571, 2])\n",
            "Reconstruction MSE error for snapshot 42: 0.000034\n",
            "torch.Size([3571, 2])\n",
            "Reconstruction MSE error for snapshot 43: 0.000032\n",
            "torch.Size([3571, 2])\n",
            "Reconstruction MSE error for snapshot 44: 0.000033\n",
            "torch.Size([3571, 2])\n",
            "Reconstruction MSE error for snapshot 45: 0.000036\n",
            "torch.Size([3571, 2])\n"
          ],
          "name": "stdout"
        },
        {
          "output_type": "stream",
          "text": [
            "  2% (51 of 2000) |                      | Elapsed Time: 0:00:01 ETA:   0:01:10"
          ],
          "name": "stderr"
        },
        {
          "output_type": "stream",
          "text": [
            "Reconstruction MSE error for snapshot 46: 0.000035\n",
            "torch.Size([3571, 2])\n",
            "Reconstruction MSE error for snapshot 47: 0.000038\n",
            "torch.Size([3571, 2])\n",
            "Reconstruction MSE error for snapshot 48: 0.000039\n",
            "torch.Size([3571, 2])\n",
            "Reconstruction MSE error for snapshot 49: 0.000033\n",
            "torch.Size([3571, 2])\n",
            "Reconstruction MSE error for snapshot 50: 0.000026\n",
            "torch.Size([3571, 2])\n",
            "Reconstruction MSE error for snapshot 51: 0.000023\n",
            "torch.Size([3571, 2])\n"
          ],
          "name": "stdout"
        },
        {
          "output_type": "stream",
          "text": [
            "  2% (58 of 2000) |                      | Elapsed Time: 0:00:02 ETA:   0:01:09"
          ],
          "name": "stderr"
        },
        {
          "output_type": "stream",
          "text": [
            "Reconstruction MSE error for snapshot 52: 0.000022\n",
            "torch.Size([3571, 2])\n",
            "Reconstruction MSE error for snapshot 53: 0.000024\n",
            "torch.Size([3571, 2])\n",
            "Reconstruction MSE error for snapshot 54: 0.000028\n",
            "torch.Size([3571, 2])\n",
            "Reconstruction MSE error for snapshot 55: 0.000030\n",
            "torch.Size([3571, 2])\n",
            "Reconstruction MSE error for snapshot 56: 0.000027\n",
            "torch.Size([3571, 2])\n",
            "Reconstruction MSE error for snapshot 57: 0.000026\n",
            "torch.Size([3571, 2])\n",
            "Reconstruction MSE error for snapshot 58: 0.000024\n",
            "torch.Size([3571, 2])\n"
          ],
          "name": "stdout"
        },
        {
          "output_type": "stream",
          "text": [
            "  3% (64 of 2000) |                      | Elapsed Time: 0:00:02 ETA:   0:01:06"
          ],
          "name": "stderr"
        },
        {
          "output_type": "stream",
          "text": [
            "Reconstruction MSE error for snapshot 59: 0.000023\n",
            "torch.Size([3571, 2])\n",
            "Reconstruction MSE error for snapshot 60: 0.000022\n",
            "torch.Size([3571, 2])\n",
            "Reconstruction MSE error for snapshot 61: 0.000022\n",
            "torch.Size([3571, 2])\n",
            "Reconstruction MSE error for snapshot 62: 0.000022\n",
            "torch.Size([3571, 2])\n",
            "Reconstruction MSE error for snapshot 63: 0.000023\n",
            "torch.Size([3571, 2])\n",
            "Reconstruction MSE error for snapshot 64: 0.000031\n",
            "torch.Size([3571, 2])\n"
          ],
          "name": "stdout"
        },
        {
          "output_type": "stream",
          "text": [
            "  3% (70 of 2000) |                      | Elapsed Time: 0:00:02 ETA:   0:01:05"
          ],
          "name": "stderr"
        },
        {
          "output_type": "stream",
          "text": [
            "Reconstruction MSE error for snapshot 65: 0.000027\n",
            "torch.Size([3571, 2])\n",
            "Reconstruction MSE error for snapshot 66: 0.000036\n",
            "torch.Size([3571, 2])\n",
            "Reconstruction MSE error for snapshot 67: 0.000040\n",
            "torch.Size([3571, 2])\n",
            "Reconstruction MSE error for snapshot 68: 0.000046\n",
            "torch.Size([3571, 2])\n",
            "Reconstruction MSE error for snapshot 69: 0.000033\n",
            "torch.Size([3571, 2])\n",
            "Reconstruction MSE error for snapshot 70: 0.000035\n",
            "torch.Size([3571, 2])\n"
          ],
          "name": "stdout"
        },
        {
          "output_type": "stream",
          "text": [
            "  3% (76 of 2000) |                      | Elapsed Time: 0:00:02 ETA:   0:01:05"
          ],
          "name": "stderr"
        },
        {
          "output_type": "stream",
          "text": [
            "Reconstruction MSE error for snapshot 71: 0.000033\n",
            "torch.Size([3571, 2])\n",
            "Reconstruction MSE error for snapshot 72: 0.000030\n",
            "torch.Size([3571, 2])\n",
            "Reconstruction MSE error for snapshot 73: 0.000027\n",
            "torch.Size([3571, 2])\n",
            "Reconstruction MSE error for snapshot 74: 0.000030\n",
            "torch.Size([3571, 2])\n",
            "Reconstruction MSE error for snapshot 75: 0.000036\n",
            "torch.Size([3571, 2])\n",
            "Reconstruction MSE error for snapshot 76: 0.000041\n",
            "torch.Size([3571, 2])\n"
          ],
          "name": "stdout"
        },
        {
          "output_type": "stream",
          "text": [
            "  4% (82 of 2000) |                      | Elapsed Time: 0:00:02 ETA:   0:01:05"
          ],
          "name": "stderr"
        },
        {
          "output_type": "stream",
          "text": [
            "Reconstruction MSE error for snapshot 77: 0.000045\n",
            "torch.Size([3571, 2])\n",
            "Reconstruction MSE error for snapshot 78: 0.000054\n",
            "torch.Size([3571, 2])\n",
            "Reconstruction MSE error for snapshot 79: 0.000065\n",
            "torch.Size([3571, 2])\n",
            "Reconstruction MSE error for snapshot 80: 0.000048\n",
            "torch.Size([3571, 2])\n",
            "Reconstruction MSE error for snapshot 81: 0.000038\n",
            "torch.Size([3571, 2])\n",
            "Reconstruction MSE error for snapshot 82: 0.000035\n",
            "torch.Size([3571, 2])\n"
          ],
          "name": "stdout"
        },
        {
          "output_type": "stream",
          "text": [
            "  4% (89 of 2000) |                      | Elapsed Time: 0:00:03 ETA:   0:01:05"
          ],
          "name": "stderr"
        },
        {
          "output_type": "stream",
          "text": [
            "Reconstruction MSE error for snapshot 83: 0.000034\n",
            "torch.Size([3571, 2])\n",
            "Reconstruction MSE error for snapshot 84: 0.000033\n",
            "torch.Size([3571, 2])\n",
            "Reconstruction MSE error for snapshot 85: 0.000035\n",
            "torch.Size([3571, 2])\n",
            "Reconstruction MSE error for snapshot 86: 0.000044\n",
            "torch.Size([3571, 2])\n",
            "Reconstruction MSE error for snapshot 87: 0.000066\n",
            "torch.Size([3571, 2])\n",
            "Reconstruction MSE error for snapshot 88: 0.000213\n",
            "torch.Size([3571, 2])\n",
            "Reconstruction MSE error for snapshot 89: 0.000507\n",
            "torch.Size([3571, 2])\n"
          ],
          "name": "stdout"
        },
        {
          "output_type": "stream",
          "text": [
            "  4% (96 of 2000) |#                     | Elapsed Time: 0:00:03 ETA:   0:01:04"
          ],
          "name": "stderr"
        },
        {
          "output_type": "stream",
          "text": [
            "Reconstruction MSE error for snapshot 90: 0.000069\n",
            "torch.Size([3571, 2])\n",
            "Reconstruction MSE error for snapshot 91: 0.000050\n",
            "torch.Size([3571, 2])\n",
            "Reconstruction MSE error for snapshot 92: 0.000050\n",
            "torch.Size([3571, 2])\n",
            "Reconstruction MSE error for snapshot 93: 0.000063\n",
            "torch.Size([3571, 2])\n",
            "Reconstruction MSE error for snapshot 94: 0.000076\n",
            "torch.Size([3571, 2])\n",
            "Reconstruction MSE error for snapshot 95: 0.003465\n",
            "torch.Size([3571, 2])\n"
          ],
          "name": "stdout"
        },
        {
          "output_type": "stream",
          "text": [
            "  5% (102 of 2000) |#                    | Elapsed Time: 0:00:03 ETA:   0:01:04"
          ],
          "name": "stderr"
        },
        {
          "output_type": "stream",
          "text": [
            "Reconstruction MSE error for snapshot 96: 0.000075\n",
            "torch.Size([3571, 2])\n",
            "Reconstruction MSE error for snapshot 97: 0.000045\n",
            "torch.Size([3571, 2])\n",
            "Reconstruction MSE error for snapshot 98: 0.000042\n",
            "torch.Size([3571, 2])\n",
            "Reconstruction MSE error for snapshot 99: 0.000046\n",
            "torch.Size([3571, 2])\n",
            "Reconstruction MSE error for snapshot 100: 0.000043\n",
            "torch.Size([3571, 2])\n",
            "Reconstruction MSE error for snapshot 101: 0.000057\n",
            "torch.Size([3571, 2])\n",
            "Reconstruction MSE error for snapshot 102: 0.000166\n"
          ],
          "name": "stdout"
        },
        {
          "output_type": "stream",
          "text": [
            "\r                                                                               \r\r  5% (106 of 2000) |#                    | Elapsed Time: 0:00:03 ETA:   0:01:04"
          ],
          "name": "stderr"
        },
        {
          "output_type": "stream",
          "text": [
            "torch.Size([3571, 2])\n",
            "Reconstruction MSE error for snapshot 103: 0.000073\n",
            "torch.Size([3571, 2])\n",
            "Reconstruction MSE error for snapshot 104: 0.000084\n",
            "torch.Size([3571, 2])\n",
            "Reconstruction MSE error for snapshot 105: 0.000056\n",
            "torch.Size([3571, 2])\n",
            "Reconstruction MSE error for snapshot 106: 0.000041\n",
            "torch.Size([3571, 2])\n",
            "Reconstruction MSE error for snapshot 107: 0.000052\n",
            "torch.Size([3571, 2])\n",
            "Reconstruction MSE error for snapshot 108: 0.000097\n",
            "torch.Size([3571, 2])\n"
          ],
          "name": "stdout"
        },
        {
          "output_type": "stream",
          "text": [
            "  5% (112 of 2000) |#                    | Elapsed Time: 0:00:03 ETA:   0:01:04"
          ],
          "name": "stderr"
        },
        {
          "output_type": "stream",
          "text": [
            "Reconstruction MSE error for snapshot 109: 0.000049\n",
            "torch.Size([3571, 2])\n",
            "Reconstruction MSE error for snapshot 110: 0.000042\n",
            "torch.Size([3571, 2])\n",
            "Reconstruction MSE error for snapshot 111: 0.000040\n",
            "torch.Size([3571, 2])\n",
            "Reconstruction MSE error for snapshot 112: 0.000037\n",
            "torch.Size([3571, 2])\n",
            "Reconstruction MSE error for snapshot 113: 0.000036\n",
            "torch.Size([3571, 2])\n",
            "Reconstruction MSE error for snapshot 114: 0.000038\n",
            "torch.Size([3571, 2])\n",
            "Reconstruction MSE error for snapshot 115: 0.000038\n",
            "torch.Size([3571, 2])\n"
          ],
          "name": "stdout"
        },
        {
          "output_type": "stream",
          "text": [
            "  6% (120 of 2000) |#                    | Elapsed Time: 0:00:04 ETA:   0:01:03"
          ],
          "name": "stderr"
        },
        {
          "output_type": "stream",
          "text": [
            "Reconstruction MSE error for snapshot 116: 0.000039\n",
            "torch.Size([3571, 2])\n",
            "Reconstruction MSE error for snapshot 117: 0.000038\n",
            "torch.Size([3571, 2])\n",
            "Reconstruction MSE error for snapshot 118: 0.000043\n",
            "torch.Size([3571, 2])\n",
            "Reconstruction MSE error for snapshot 119: 0.000053\n",
            "torch.Size([3571, 2])\n",
            "Reconstruction MSE error for snapshot 120: 0.000080\n",
            "torch.Size([3571, 2])\n",
            "Reconstruction MSE error for snapshot 121: 0.000050\n",
            "torch.Size([3571, 2])\n",
            "Reconstruction MSE error for snapshot 122: 0.000041\n",
            "torch.Size([3571, 2])\n"
          ],
          "name": "stdout"
        },
        {
          "output_type": "stream",
          "text": [
            "  6% (126 of 2000) |#                    | Elapsed Time: 0:00:04 ETA:   0:01:03"
          ],
          "name": "stderr"
        },
        {
          "output_type": "stream",
          "text": [
            "Reconstruction MSE error for snapshot 123: 0.000047\n",
            "torch.Size([3571, 2])\n",
            "Reconstruction MSE error for snapshot 124: 0.000050\n",
            "torch.Size([3571, 2])\n",
            "Reconstruction MSE error for snapshot 125: 0.000045\n",
            "torch.Size([3571, 2])\n",
            "Reconstruction MSE error for snapshot 126: 0.000043\n",
            "torch.Size([3571, 2])\n",
            "Reconstruction MSE error for snapshot 127: 0.000043\n",
            "torch.Size([3571, 2])\n",
            "Reconstruction MSE error for snapshot 128: 0.000046\n",
            "torch.Size([3571, 2])\n",
            "Reconstruction MSE error for snapshot 129: 0.000046\n",
            "torch.Size([3571, 2])\n"
          ],
          "name": "stdout"
        },
        {
          "output_type": "stream",
          "text": [
            "  6% (134 of 2000) |#                    | Elapsed Time: 0:00:04 ETA:   0:01:02"
          ],
          "name": "stderr"
        },
        {
          "output_type": "stream",
          "text": [
            "Reconstruction MSE error for snapshot 130: 0.000045\n",
            "torch.Size([3571, 2])\n",
            "Reconstruction MSE error for snapshot 131: 0.000045\n",
            "torch.Size([3571, 2])\n",
            "Reconstruction MSE error for snapshot 132: 0.000047\n",
            "torch.Size([3571, 2])\n",
            "Reconstruction MSE error for snapshot 133: 0.000052\n",
            "torch.Size([3571, 2])\n",
            "Reconstruction MSE error for snapshot 134: 0.000048\n",
            "torch.Size([3571, 2])\n",
            "Reconstruction MSE error for snapshot 135: 0.000047\n",
            "torch.Size([3571, 2])\n",
            "Reconstruction MSE error for snapshot 136: 0.000052\n",
            "torch.Size([3571, 2])\n"
          ],
          "name": "stdout"
        },
        {
          "output_type": "stream",
          "text": [
            "  7% (141 of 2000) |#                    | Elapsed Time: 0:00:04 ETA:   0:01:02"
          ],
          "name": "stderr"
        },
        {
          "output_type": "stream",
          "text": [
            "Reconstruction MSE error for snapshot 137: 0.000052\n",
            "torch.Size([3571, 2])\n",
            "Reconstruction MSE error for snapshot 138: 0.000065\n",
            "torch.Size([3571, 2])\n",
            "Reconstruction MSE error for snapshot 139: 0.000182\n",
            "torch.Size([3571, 2])\n",
            "Reconstruction MSE error for snapshot 140: 0.000069\n",
            "torch.Size([3571, 2])\n",
            "Reconstruction MSE error for snapshot 141: 0.000073\n",
            "torch.Size([3571, 2])\n",
            "Reconstruction MSE error for snapshot 142: 0.000574\n",
            "torch.Size([3571, 2])\n"
          ],
          "name": "stdout"
        },
        {
          "output_type": "stream",
          "text": [
            "  7% (148 of 2000) |#                    | Elapsed Time: 0:00:05 ETA:   0:01:01"
          ],
          "name": "stderr"
        },
        {
          "output_type": "stream",
          "text": [
            "Reconstruction MSE error for snapshot 143: 0.000178\n",
            "torch.Size([3571, 2])\n",
            "Reconstruction MSE error for snapshot 144: 0.000071\n",
            "torch.Size([3571, 2])\n",
            "Reconstruction MSE error for snapshot 145: 0.000048\n",
            "torch.Size([3571, 2])\n",
            "Reconstruction MSE error for snapshot 146: 0.000042\n",
            "torch.Size([3571, 2])\n",
            "Reconstruction MSE error for snapshot 147: 0.000052\n",
            "torch.Size([3571, 2])\n",
            "Reconstruction MSE error for snapshot 148: 0.000127\n",
            "torch.Size([3571, 2])\n",
            "Reconstruction MSE error for snapshot 149: 0.000047\n"
          ],
          "name": "stdout"
        },
        {
          "output_type": "stream",
          "text": [
            "  7% (154 of 2000) |#                    | Elapsed Time: 0:00:05 ETA:   0:01:01"
          ],
          "name": "stderr"
        },
        {
          "output_type": "stream",
          "text": [
            "torch.Size([3571, 2])\n",
            "Reconstruction MSE error for snapshot 150: 0.000039\n",
            "torch.Size([3571, 2])\n",
            "Reconstruction MSE error for snapshot 151: 0.000055\n",
            "torch.Size([3571, 2])\n",
            "Reconstruction MSE error for snapshot 152: 0.000068\n",
            "torch.Size([3571, 2])\n",
            "Reconstruction MSE error for snapshot 153: 0.000042\n",
            "torch.Size([3571, 2])\n",
            "Reconstruction MSE error for snapshot 154: 0.000043\n",
            "torch.Size([3571, 2])\n",
            "Reconstruction MSE error for snapshot 155: 0.000044\n",
            "torch.Size([3571, 2])\n"
          ],
          "name": "stdout"
        },
        {
          "output_type": "stream",
          "text": [
            "\r                                                                               \r\r  7% (158 of 2000) |#                    | Elapsed Time: 0:00:05 ETA:   0:01:01"
          ],
          "name": "stderr"
        },
        {
          "output_type": "stream",
          "text": [
            "Reconstruction MSE error for snapshot 156: 0.000040\n",
            "torch.Size([3571, 2])\n",
            "Reconstruction MSE error for snapshot 157: 0.000041\n",
            "torch.Size([3571, 2])\n",
            "Reconstruction MSE error for snapshot 158: 0.000043\n",
            "torch.Size([3571, 2])\n",
            "Reconstruction MSE error for snapshot 159: 0.000045\n",
            "torch.Size([3571, 2])\n",
            "Reconstruction MSE error for snapshot 160: 0.000049\n",
            "torch.Size([3571, 2])\n",
            "Reconstruction MSE error for snapshot 161: 0.000050\n",
            "torch.Size([3571, 2])\n"
          ],
          "name": "stdout"
        },
        {
          "output_type": "stream",
          "text": [
            "  8% (166 of 2000) |#                    | Elapsed Time: 0:00:05 ETA:   0:01:01"
          ],
          "name": "stderr"
        },
        {
          "output_type": "stream",
          "text": [
            "Reconstruction MSE error for snapshot 162: 0.000044\n",
            "torch.Size([3571, 2])\n",
            "Reconstruction MSE error for snapshot 163: 0.000045\n",
            "torch.Size([3571, 2])\n",
            "Reconstruction MSE error for snapshot 164: 0.000043\n",
            "torch.Size([3571, 2])\n",
            "Reconstruction MSE error for snapshot 165: 0.000047\n",
            "torch.Size([3571, 2])\n",
            "Reconstruction MSE error for snapshot 166: 0.000057\n",
            "torch.Size([3571, 2])\n",
            "Reconstruction MSE error for snapshot 167: 0.000073\n",
            "torch.Size([3571, 2])\n",
            "Reconstruction MSE error for snapshot 168: 0.000058\n",
            "torch.Size([3571, 2])\n"
          ],
          "name": "stdout"
        },
        {
          "output_type": "stream",
          "text": [
            "  8% (174 of 2000) |#                    | Elapsed Time: 0:00:05 ETA:   0:01:00"
          ],
          "name": "stderr"
        },
        {
          "output_type": "stream",
          "text": [
            "Reconstruction MSE error for snapshot 169: 0.000058\n",
            "torch.Size([3571, 2])\n",
            "Reconstruction MSE error for snapshot 170: 0.000080\n",
            "torch.Size([3571, 2])\n",
            "Reconstruction MSE error for snapshot 171: 0.000064\n",
            "torch.Size([3571, 2])\n",
            "Reconstruction MSE error for snapshot 172: 0.000160\n",
            "torch.Size([3571, 2])\n",
            "Reconstruction MSE error for snapshot 173: 0.000054\n",
            "torch.Size([3571, 2])\n",
            "Reconstruction MSE error for snapshot 174: 0.000043\n",
            "torch.Size([3571, 2])\n",
            "Reconstruction MSE error for snapshot 175: 0.000040\n",
            "torch.Size([3571, 2])\n"
          ],
          "name": "stdout"
        },
        {
          "output_type": "stream",
          "text": [
            "  9% (182 of 2000) |#                    | Elapsed Time: 0:00:06 ETA:   0:01:00"
          ],
          "name": "stderr"
        },
        {
          "output_type": "stream",
          "text": [
            "Reconstruction MSE error for snapshot 176: 0.000046\n",
            "torch.Size([3571, 2])\n",
            "Reconstruction MSE error for snapshot 177: 0.000049\n",
            "torch.Size([3571, 2])\n",
            "Reconstruction MSE error for snapshot 178: 0.000067\n",
            "torch.Size([3571, 2])\n",
            "Reconstruction MSE error for snapshot 179: 0.000060\n",
            "torch.Size([3571, 2])\n",
            "Reconstruction MSE error for snapshot 180: 0.000057\n",
            "torch.Size([3571, 2])\n",
            "Reconstruction MSE error for snapshot 181: 0.000059\n",
            "torch.Size([3571, 2])\n",
            "Reconstruction MSE error for snapshot 182: 0.000272\n",
            "torch.Size([3571, 2])\n"
          ],
          "name": "stdout"
        },
        {
          "output_type": "stream",
          "text": [
            "  9% (188 of 2000) |#                    | Elapsed Time: 0:00:06 ETA:   0:01:00"
          ],
          "name": "stderr"
        },
        {
          "output_type": "stream",
          "text": [
            "Reconstruction MSE error for snapshot 183: 0.000617\n",
            "torch.Size([3571, 2])\n",
            "Reconstruction MSE error for snapshot 184: 0.000545\n",
            "torch.Size([3571, 2])\n",
            "Reconstruction MSE error for snapshot 185: 0.000069\n",
            "torch.Size([3571, 2])\n",
            "Reconstruction MSE error for snapshot 186: 0.000288\n",
            "torch.Size([3571, 2])\n",
            "Reconstruction MSE error for snapshot 187: 0.000047\n",
            "torch.Size([3571, 2])\n",
            "Reconstruction MSE error for snapshot 188: 0.000038\n",
            "torch.Size([3571, 2])\n"
          ],
          "name": "stdout"
        },
        {
          "output_type": "stream",
          "text": [
            "\r                                                                               \r\r  9% (192 of 2000) |##                   | Elapsed Time: 0:00:06 ETA:   0:01:00"
          ],
          "name": "stderr"
        },
        {
          "output_type": "stream",
          "text": [
            "Reconstruction MSE error for snapshot 189: 0.000034\n",
            "torch.Size([3571, 2])\n",
            "Reconstruction MSE error for snapshot 190: 0.000033\n",
            "torch.Size([3571, 2])\n",
            "Reconstruction MSE error for snapshot 191: 0.000030\n",
            "torch.Size([3571, 2])\n",
            "Reconstruction MSE error for snapshot 192: 0.000029\n",
            "torch.Size([3571, 2])\n",
            "Reconstruction MSE error for snapshot 193: 0.000028\n",
            "torch.Size([3571, 2])\n",
            "Reconstruction MSE error for snapshot 194: 0.000029\n",
            "torch.Size([3571, 2])\n",
            "Reconstruction MSE error for snapshot 195: 0.000032\n",
            "torch.Size([3571, 2])\n"
          ],
          "name": "stdout"
        },
        {
          "output_type": "stream",
          "text": [
            " 10% (200 of 2000) |##                   | Elapsed Time: 0:00:06 ETA:   0:00:59"
          ],
          "name": "stderr"
        },
        {
          "output_type": "stream",
          "text": [
            "Reconstruction MSE error for snapshot 196: 0.000041\n",
            "torch.Size([3571, 2])\n",
            "Reconstruction MSE error for snapshot 197: 0.000157\n",
            "torch.Size([3571, 2])\n",
            "Reconstruction MSE error for snapshot 198: 0.000045\n",
            "torch.Size([3571, 2])\n",
            "Reconstruction MSE error for snapshot 199: 0.000047\n",
            "torch.Size([3571, 2])\n",
            "Reconstruction MSE error for snapshot 200: 0.000102\n",
            "torch.Size([3571, 2])\n",
            "Reconstruction MSE error for snapshot 201: 0.000053\n",
            "torch.Size([3571, 2])\n",
            "Reconstruction MSE error for snapshot 202: 0.000141\n",
            "torch.Size([3571, 2])\n"
          ],
          "name": "stdout"
        },
        {
          "output_type": "stream",
          "text": [
            " 10% (209 of 2000) |##                   | Elapsed Time: 0:00:07 ETA:   0:00:59"
          ],
          "name": "stderr"
        },
        {
          "output_type": "stream",
          "text": [
            "Reconstruction MSE error for snapshot 203: 0.000233\n",
            "torch.Size([3571, 2])\n",
            "Reconstruction MSE error for snapshot 204: 0.000050\n",
            "torch.Size([3571, 2])\n",
            "Reconstruction MSE error for snapshot 205: 0.000056\n",
            "torch.Size([3571, 2])\n",
            "Reconstruction MSE error for snapshot 206: 0.004222\n",
            "torch.Size([3571, 2])\n",
            "Reconstruction MSE error for snapshot 207: 0.000050\n",
            "torch.Size([3571, 2])\n",
            "Reconstruction MSE error for snapshot 208: 0.000031\n",
            "torch.Size([3571, 2])\n"
          ],
          "name": "stdout"
        },
        {
          "output_type": "stream",
          "text": [
            "\r                                                                               \r\r 10% (212 of 2000) |##                   | Elapsed Time: 0:00:07 ETA:   0:00:59"
          ],
          "name": "stderr"
        },
        {
          "output_type": "stream",
          "text": [
            "Reconstruction MSE error for snapshot 209: 0.000029\n",
            "torch.Size([3571, 2])\n",
            "Reconstruction MSE error for snapshot 210: 0.000028\n",
            "torch.Size([3571, 2])\n",
            "Reconstruction MSE error for snapshot 211: 0.000027\n",
            "torch.Size([3571, 2])\n",
            "Reconstruction MSE error for snapshot 212: 0.000028\n",
            "torch.Size([3571, 2])\n",
            "Reconstruction MSE error for snapshot 213: 0.000031\n",
            "torch.Size([3571, 2])\n",
            "Reconstruction MSE error for snapshot 214: 0.000033\n",
            "torch.Size([3571, 2])\n",
            "Reconstruction MSE error for snapshot 215: 0.000048\n",
            "torch.Size([3571, 2])\n"
          ],
          "name": "stdout"
        },
        {
          "output_type": "stream",
          "text": [
            " 11% (222 of 2000) |##                   | Elapsed Time: 0:00:07 ETA:   0:00:59"
          ],
          "name": "stderr"
        },
        {
          "output_type": "stream",
          "text": [
            "Reconstruction MSE error for snapshot 216: 0.000037\n",
            "torch.Size([3571, 2])\n",
            "Reconstruction MSE error for snapshot 217: 0.000034\n",
            "torch.Size([3571, 2])\n",
            "Reconstruction MSE error for snapshot 218: 0.000032\n",
            "torch.Size([3571, 2])\n",
            "Reconstruction MSE error for snapshot 219: 0.000035\n",
            "torch.Size([3571, 2])\n",
            "Reconstruction MSE error for snapshot 220: 0.000098\n",
            "torch.Size([3571, 2])\n",
            "Reconstruction MSE error for snapshot 221: 0.000039\n",
            "torch.Size([3571, 2])\n"
          ],
          "name": "stdout"
        },
        {
          "output_type": "stream",
          "text": [
            " 11% (228 of 2000) |##                   | Elapsed Time: 0:00:07 ETA:   0:00:59"
          ],
          "name": "stderr"
        },
        {
          "output_type": "stream",
          "text": [
            "Reconstruction MSE error for snapshot 222: 0.000039\n",
            "torch.Size([3571, 2])\n",
            "Reconstruction MSE error for snapshot 223: 0.000101\n",
            "torch.Size([3571, 2])\n",
            "Reconstruction MSE error for snapshot 224: 0.000038\n",
            "torch.Size([3571, 2])\n",
            "Reconstruction MSE error for snapshot 225: 0.000036\n",
            "torch.Size([3571, 2])\n",
            "Reconstruction MSE error for snapshot 226: 0.000035\n",
            "torch.Size([3571, 2])\n",
            "Reconstruction MSE error for snapshot 227: 0.000078\n",
            "torch.Size([3571, 2])\n",
            "Reconstruction MSE error for snapshot 228: 0.000033\n",
            "torch.Size([3571, 2])\n"
          ],
          "name": "stdout"
        },
        {
          "output_type": "stream",
          "text": [
            " 11% (235 of 2000) |##                   | Elapsed Time: 0:00:08 ETA:   0:00:59"
          ],
          "name": "stderr"
        },
        {
          "output_type": "stream",
          "text": [
            "Reconstruction MSE error for snapshot 229: 0.000028\n",
            "torch.Size([3571, 2])\n",
            "Reconstruction MSE error for snapshot 230: 0.000027\n",
            "torch.Size([3571, 2])\n",
            "Reconstruction MSE error for snapshot 231: 0.000025\n",
            "torch.Size([3571, 2])\n",
            "Reconstruction MSE error for snapshot 232: 0.000025\n",
            "torch.Size([3571, 2])\n",
            "Reconstruction MSE error for snapshot 233: 0.000029\n",
            "torch.Size([3571, 2])\n",
            "Reconstruction MSE error for snapshot 234: 0.000025\n",
            "torch.Size([3571, 2])\n",
            "Reconstruction MSE error for snapshot 235: 0.000025\n",
            "torch.Size([3571, 2])\n"
          ],
          "name": "stdout"
        },
        {
          "output_type": "stream",
          "text": [
            " 12% (241 of 2000) |##                   | Elapsed Time: 0:00:08 ETA:   0:00:59"
          ],
          "name": "stderr"
        },
        {
          "output_type": "stream",
          "text": [
            "Reconstruction MSE error for snapshot 236: 0.000031\n",
            "torch.Size([3571, 2])\n",
            "Reconstruction MSE error for snapshot 237: 0.000080\n",
            "torch.Size([3571, 2])\n",
            "Reconstruction MSE error for snapshot 238: 0.000032\n",
            "torch.Size([3571, 2])\n",
            "Reconstruction MSE error for snapshot 239: 0.000034\n",
            "torch.Size([3571, 2])\n",
            "Reconstruction MSE error for snapshot 240: 0.000159\n",
            "torch.Size([3571, 2])\n",
            "Reconstruction MSE error for snapshot 241: 0.000034\n",
            "torch.Size([3571, 2])\n"
          ],
          "name": "stdout"
        },
        {
          "output_type": "stream",
          "text": [
            " 12% (247 of 2000) |##                   | Elapsed Time: 0:00:08 ETA:   0:00:58"
          ],
          "name": "stderr"
        },
        {
          "output_type": "stream",
          "text": [
            "Reconstruction MSE error for snapshot 242: 0.000030\n",
            "torch.Size([3571, 2])\n",
            "Reconstruction MSE error for snapshot 243: 0.000028\n",
            "torch.Size([3571, 2])\n",
            "Reconstruction MSE error for snapshot 244: 0.000029\n",
            "torch.Size([3571, 2])\n",
            "Reconstruction MSE error for snapshot 245: 0.000030\n",
            "torch.Size([3571, 2])\n",
            "Reconstruction MSE error for snapshot 246: 0.000032\n",
            "torch.Size([3571, 2])\n",
            "Reconstruction MSE error for snapshot 247: 0.000036\n",
            "torch.Size([3571, 2])\n"
          ],
          "name": "stdout"
        },
        {
          "output_type": "stream",
          "text": [
            " 12% (253 of 2000) |##                   | Elapsed Time: 0:00:08 ETA:   0:00:58"
          ],
          "name": "stderr"
        },
        {
          "output_type": "stream",
          "text": [
            "Reconstruction MSE error for snapshot 248: 0.000092\n",
            "torch.Size([3571, 2])\n",
            "Reconstruction MSE error for snapshot 249: 0.000045\n",
            "torch.Size([3571, 2])\n",
            "Reconstruction MSE error for snapshot 250: 0.000121\n",
            "torch.Size([3571, 2])\n",
            "Reconstruction MSE error for snapshot 251: 0.000040\n",
            "torch.Size([3571, 2])\n",
            "Reconstruction MSE error for snapshot 252: 0.000035\n",
            "torch.Size([3571, 2])\n",
            "Reconstruction MSE error for snapshot 253: 0.000036\n",
            "torch.Size([3571, 2])\n"
          ],
          "name": "stdout"
        },
        {
          "output_type": "stream",
          "text": [
            " 13% (260 of 2000) |##                   | Elapsed Time: 0:00:08 ETA:   0:00:58"
          ],
          "name": "stderr"
        },
        {
          "output_type": "stream",
          "text": [
            "Reconstruction MSE error for snapshot 254: 0.000040\n",
            "torch.Size([3571, 2])\n",
            "Reconstruction MSE error for snapshot 255: 0.000126\n",
            "torch.Size([3571, 2])\n",
            "Reconstruction MSE error for snapshot 256: 0.000041\n",
            "torch.Size([3571, 2])\n",
            "Reconstruction MSE error for snapshot 257: 0.000043\n",
            "torch.Size([3571, 2])\n",
            "Reconstruction MSE error for snapshot 258: 0.000263\n",
            "torch.Size([3571, 2])\n",
            "Reconstruction MSE error for snapshot 259: 0.000149\n",
            "torch.Size([3571, 2])\n",
            "Reconstruction MSE error for snapshot 260: 0.000044\n",
            "torch.Size([3571, 2])\n"
          ],
          "name": "stdout"
        },
        {
          "output_type": "stream",
          "text": [
            " 13% (266 of 2000) |##                   | Elapsed Time: 0:00:09 ETA:   0:00:58"
          ],
          "name": "stderr"
        },
        {
          "output_type": "stream",
          "text": [
            "Reconstruction MSE error for snapshot 261: 0.000033\n",
            "torch.Size([3571, 2])\n",
            "Reconstruction MSE error for snapshot 262: 0.000032\n",
            "torch.Size([3571, 2])\n",
            "Reconstruction MSE error for snapshot 263: 0.000034\n",
            "torch.Size([3571, 2])\n",
            "Reconstruction MSE error for snapshot 264: 0.000038\n",
            "torch.Size([3571, 2])\n",
            "Reconstruction MSE error for snapshot 265: 0.000174\n",
            "torch.Size([3571, 2])\n",
            "Reconstruction MSE error for snapshot 266: 0.000042\n",
            "torch.Size([3571, 2])\n",
            "Reconstruction MSE error for snapshot 267: 0.000045\n"
          ],
          "name": "stdout"
        },
        {
          "output_type": "stream",
          "text": [
            " 13% (273 of 2000) |##                   | Elapsed Time: 0:00:09 ETA:   0:00:58"
          ],
          "name": "stderr"
        },
        {
          "output_type": "stream",
          "text": [
            "torch.Size([3571, 2])\n",
            "Reconstruction MSE error for snapshot 268: 0.000205\n",
            "torch.Size([3571, 2])\n",
            "Reconstruction MSE error for snapshot 269: 0.000165\n",
            "torch.Size([3571, 2])\n",
            "Reconstruction MSE error for snapshot 270: 0.000039\n",
            "torch.Size([3571, 2])\n",
            "Reconstruction MSE error for snapshot 271: 0.000030\n",
            "torch.Size([3571, 2])\n",
            "Reconstruction MSE error for snapshot 272: 0.000028\n",
            "torch.Size([3571, 2])\n",
            "Reconstruction MSE error for snapshot 273: 0.000026\n",
            "torch.Size([3571, 2])\n"
          ],
          "name": "stdout"
        },
        {
          "output_type": "stream",
          "text": [
            " 13% (279 of 2000) |##                   | Elapsed Time: 0:00:09 ETA:   0:00:57"
          ],
          "name": "stderr"
        },
        {
          "output_type": "stream",
          "text": [
            "Reconstruction MSE error for snapshot 274: 0.000025\n",
            "torch.Size([3571, 2])\n",
            "Reconstruction MSE error for snapshot 275: 0.000025\n",
            "torch.Size([3571, 2])\n",
            "Reconstruction MSE error for snapshot 276: 0.000026\n",
            "torch.Size([3571, 2])\n",
            "Reconstruction MSE error for snapshot 277: 0.000032\n",
            "torch.Size([3571, 2])\n",
            "Reconstruction MSE error for snapshot 278: 0.000074\n",
            "torch.Size([3571, 2])\n",
            "Reconstruction MSE error for snapshot 279: 0.000034\n",
            "torch.Size([3571, 2])\n",
            "Reconstruction MSE error for snapshot 280: 0.000030\n",
            "torch.Size([3571, 2])\n"
          ],
          "name": "stdout"
        },
        {
          "output_type": "stream",
          "text": [
            " 14% (285 of 2000) |##                   | Elapsed Time: 0:00:09 ETA:   0:00:57"
          ],
          "name": "stderr"
        },
        {
          "output_type": "stream",
          "text": [
            "Reconstruction MSE error for snapshot 281: 0.000028\n",
            "torch.Size([3571, 2])\n",
            "Reconstruction MSE error for snapshot 282: 0.000029\n",
            "torch.Size([3571, 2])\n",
            "Reconstruction MSE error for snapshot 283: 0.000030\n",
            "torch.Size([3571, 2])\n",
            "Reconstruction MSE error for snapshot 284: 0.000032\n",
            "torch.Size([3571, 2])\n",
            "Reconstruction MSE error for snapshot 285: 0.000097\n",
            "torch.Size([3571, 2])\n",
            "Reconstruction MSE error for snapshot 286: 0.000033\n",
            "torch.Size([3571, 2])\n"
          ],
          "name": "stdout"
        },
        {
          "output_type": "stream",
          "text": [
            " 14% (291 of 2000) |###                  | Elapsed Time: 0:00:09 ETA:   0:00:57"
          ],
          "name": "stderr"
        },
        {
          "output_type": "stream",
          "text": [
            "Reconstruction MSE error for snapshot 287: 0.000035\n",
            "torch.Size([3571, 2])\n",
            "Reconstruction MSE error for snapshot 288: 0.000060\n",
            "torch.Size([3571, 2])\n",
            "Reconstruction MSE error for snapshot 289: 0.000032\n",
            "torch.Size([3571, 2])\n",
            "Reconstruction MSE error for snapshot 290: 0.000028\n",
            "torch.Size([3571, 2])\n",
            "Reconstruction MSE error for snapshot 291: 0.000028\n",
            "torch.Size([3571, 2])\n",
            "Reconstruction MSE error for snapshot 292: 0.000032\n",
            "torch.Size([3571, 2])\n"
          ],
          "name": "stdout"
        },
        {
          "output_type": "stream",
          "text": [
            " 14% (297 of 2000) |###                  | Elapsed Time: 0:00:10 ETA:   0:00:57"
          ],
          "name": "stderr"
        },
        {
          "output_type": "stream",
          "text": [
            "Reconstruction MSE error for snapshot 293: 0.000030\n",
            "torch.Size([3571, 2])\n",
            "Reconstruction MSE error for snapshot 294: 0.000027\n",
            "torch.Size([3571, 2])\n",
            "Reconstruction MSE error for snapshot 295: 0.000030\n",
            "torch.Size([3571, 2])\n",
            "Reconstruction MSE error for snapshot 296: 0.000035\n",
            "torch.Size([3571, 2])\n",
            "Reconstruction MSE error for snapshot 297: 0.000085\n",
            "torch.Size([3571, 2])\n",
            "Reconstruction MSE error for snapshot 298: 0.000259\n",
            "torch.Size([3571, 2])\n"
          ],
          "name": "stdout"
        },
        {
          "output_type": "stream",
          "text": [
            " 15% (304 of 2000) |###                  | Elapsed Time: 0:00:10 ETA:   0:00:57"
          ],
          "name": "stderr"
        },
        {
          "output_type": "stream",
          "text": [
            "Reconstruction MSE error for snapshot 299: 0.000035\n",
            "torch.Size([3571, 2])\n",
            "Reconstruction MSE error for snapshot 300: 0.000028\n",
            "torch.Size([3571, 2])\n",
            "Reconstruction MSE error for snapshot 301: 0.000023\n",
            "torch.Size([3571, 2])\n",
            "Reconstruction MSE error for snapshot 302: 0.000023\n",
            "torch.Size([3571, 2])\n",
            "Reconstruction MSE error for snapshot 303: 0.000024\n",
            "torch.Size([3571, 2])\n",
            "Reconstruction MSE error for snapshot 304: 0.000025\n",
            "torch.Size([3571, 2])\n",
            "Reconstruction MSE error for snapshot 305: 0.000024\n",
            "torch.Size([3571, 2])\n"
          ],
          "name": "stdout"
        },
        {
          "output_type": "stream",
          "text": [
            " 15% (311 of 2000) |###                  | Elapsed Time: 0:00:10 ETA:   0:00:56"
          ],
          "name": "stderr"
        },
        {
          "output_type": "stream",
          "text": [
            "Reconstruction MSE error for snapshot 306: 0.000023\n",
            "torch.Size([3571, 2])\n",
            "Reconstruction MSE error for snapshot 307: 0.000022\n",
            "torch.Size([3571, 2])\n",
            "Reconstruction MSE error for snapshot 308: 0.000023\n",
            "torch.Size([3571, 2])\n",
            "Reconstruction MSE error for snapshot 309: 0.000023\n",
            "torch.Size([3571, 2])\n",
            "Reconstruction MSE error for snapshot 310: 0.000023\n",
            "torch.Size([3571, 2])\n",
            "Reconstruction MSE error for snapshot 311: 0.000024\n",
            "torch.Size([3571, 2])\n",
            "Reconstruction MSE error for snapshot 312: 0.000028\n",
            "torch.Size([3571, 2])\n"
          ],
          "name": "stdout"
        },
        {
          "output_type": "stream",
          "text": [
            " 15% (318 of 2000) |###                  | Elapsed Time: 0:00:10 ETA:   0:00:56"
          ],
          "name": "stderr"
        },
        {
          "output_type": "stream",
          "text": [
            "Reconstruction MSE error for snapshot 313: 0.000071\n",
            "torch.Size([3571, 2])\n",
            "Reconstruction MSE error for snapshot 314: 0.000029\n",
            "torch.Size([3571, 2])\n",
            "Reconstruction MSE error for snapshot 315: 0.000028\n",
            "torch.Size([3571, 2])\n",
            "Reconstruction MSE error for snapshot 316: 0.000029\n",
            "torch.Size([3571, 2])\n",
            "Reconstruction MSE error for snapshot 317: 0.000064\n",
            "torch.Size([3571, 2])\n",
            "Reconstruction MSE error for snapshot 318: 0.000031\n",
            "torch.Size([3571, 2])\n",
            "Reconstruction MSE error for snapshot 319: 0.000030\n",
            "torch.Size([3571, 2])\n"
          ],
          "name": "stdout"
        },
        {
          "output_type": "stream",
          "text": [
            " 16% (326 of 2000) |###                  | Elapsed Time: 0:00:11 ETA:   0:00:56"
          ],
          "name": "stderr"
        },
        {
          "output_type": "stream",
          "text": [
            "Reconstruction MSE error for snapshot 320: 0.000065\n",
            "torch.Size([3571, 2])\n",
            "Reconstruction MSE error for snapshot 321: 0.000028\n",
            "torch.Size([3571, 2])\n",
            "Reconstruction MSE error for snapshot 322: 0.000027\n",
            "torch.Size([3571, 2])\n",
            "Reconstruction MSE error for snapshot 323: 0.000036\n",
            "torch.Size([3571, 2])\n",
            "Reconstruction MSE error for snapshot 324: 0.002159\n",
            "torch.Size([3571, 2])\n",
            "Reconstruction MSE error for snapshot 325: 0.000049\n",
            "torch.Size([3571, 2])\n",
            "Reconstruction MSE error for snapshot 326: 0.000166\n",
            "torch.Size([3571, 2])\n"
          ],
          "name": "stdout"
        },
        {
          "output_type": "stream",
          "text": [
            " 16% (332 of 2000) |###                  | Elapsed Time: 0:00:11 ETA:   0:00:55"
          ],
          "name": "stderr"
        },
        {
          "output_type": "stream",
          "text": [
            "Reconstruction MSE error for snapshot 327: 0.000159\n",
            "torch.Size([3571, 2])\n",
            "Reconstruction MSE error for snapshot 328: 0.000035\n",
            "torch.Size([3571, 2])\n",
            "Reconstruction MSE error for snapshot 329: 0.000080\n",
            "torch.Size([3571, 2])\n",
            "Reconstruction MSE error for snapshot 330: 0.000024\n",
            "torch.Size([3571, 2])\n",
            "Reconstruction MSE error for snapshot 331: 0.000021\n",
            "torch.Size([3571, 2])\n",
            "Reconstruction MSE error for snapshot 332: 0.000020\n",
            "torch.Size([3571, 2])\n"
          ],
          "name": "stdout"
        },
        {
          "output_type": "stream",
          "text": [
            "\r                                                                               \r\r 16% (336 of 2000) |###                  | Elapsed Time: 0:00:11 ETA:   0:00:55"
          ],
          "name": "stderr"
        },
        {
          "output_type": "stream",
          "text": [
            "Reconstruction MSE error for snapshot 333: 0.000022\n",
            "torch.Size([3571, 2])\n",
            "Reconstruction MSE error for snapshot 334: 0.000093\n",
            "torch.Size([3571, 2])\n",
            "Reconstruction MSE error for snapshot 335: 0.000024\n",
            "torch.Size([3571, 2])\n",
            "Reconstruction MSE error for snapshot 336: 0.000025\n",
            "torch.Size([3571, 2])\n",
            "Reconstruction MSE error for snapshot 337: 0.000064\n",
            "torch.Size([3571, 2])\n",
            "Reconstruction MSE error for snapshot 338: 0.000025\n",
            "torch.Size([3571, 2])\n",
            "Reconstruction MSE error for snapshot 339: 0.000023\n",
            "torch.Size([3571, 2])\n"
          ],
          "name": "stdout"
        },
        {
          "output_type": "stream",
          "text": [
            " 17% (344 of 2000) |###                  | Elapsed Time: 0:00:11 ETA:   0:00:55"
          ],
          "name": "stderr"
        },
        {
          "output_type": "stream",
          "text": [
            "Reconstruction MSE error for snapshot 340: 0.000022\n",
            "torch.Size([3571, 2])\n",
            "Reconstruction MSE error for snapshot 341: 0.000026\n",
            "torch.Size([3571, 2])\n",
            "Reconstruction MSE error for snapshot 342: 0.000072\n",
            "torch.Size([3571, 2])\n",
            "Reconstruction MSE error for snapshot 343: 0.000023\n",
            "torch.Size([3571, 2])\n",
            "Reconstruction MSE error for snapshot 344: 0.000021\n",
            "torch.Size([3571, 2])\n",
            "Reconstruction MSE error for snapshot 345: 0.000082\n",
            "torch.Size([3571, 2])\n",
            "Reconstruction MSE error for snapshot 346: 0.000022\n",
            "torch.Size([3571, 2])\n"
          ],
          "name": "stdout"
        },
        {
          "output_type": "stream",
          "text": [
            " 17% (352 of 2000) |###                  | Elapsed Time: 0:00:11 ETA:   0:00:54"
          ],
          "name": "stderr"
        },
        {
          "output_type": "stream",
          "text": [
            "Reconstruction MSE error for snapshot 347: 0.000021\n",
            "torch.Size([3571, 2])\n",
            "Reconstruction MSE error for snapshot 348: 0.000019\n",
            "torch.Size([3571, 2])\n",
            "Reconstruction MSE error for snapshot 349: 0.000020\n",
            "torch.Size([3571, 2])\n",
            "Reconstruction MSE error for snapshot 350: 0.000019\n",
            "torch.Size([3571, 2])\n",
            "Reconstruction MSE error for snapshot 351: 0.000018\n",
            "torch.Size([3571, 2])\n",
            "Reconstruction MSE error for snapshot 352: 0.000021\n",
            "torch.Size([3571, 2])\n",
            "Reconstruction MSE error for snapshot 353: 0.000060\n",
            "torch.Size([3571, 2])\n"
          ],
          "name": "stdout"
        },
        {
          "output_type": "stream",
          "text": [
            " 17% (359 of 2000) |###                  | Elapsed Time: 0:00:12 ETA:   0:00:54"
          ],
          "name": "stderr"
        },
        {
          "output_type": "stream",
          "text": [
            "Reconstruction MSE error for snapshot 354: 0.000023\n",
            "torch.Size([3571, 2])\n",
            "Reconstruction MSE error for snapshot 355: 0.000019\n",
            "torch.Size([3571, 2])\n",
            "Reconstruction MSE error for snapshot 356: 0.000019\n",
            "torch.Size([3571, 2])\n",
            "Reconstruction MSE error for snapshot 357: 0.000020\n",
            "torch.Size([3571, 2])\n",
            "Reconstruction MSE error for snapshot 358: 0.000023\n",
            "torch.Size([3571, 2])\n",
            "Reconstruction MSE error for snapshot 359: 0.000107\n",
            "torch.Size([3571, 2])\n",
            "Reconstruction MSE error for snapshot 360: 0.000021\n"
          ],
          "name": "stdout"
        },
        {
          "output_type": "stream",
          "text": [
            " 18% (366 of 2000) |###                  | Elapsed Time: 0:00:12 ETA:   0:00:53"
          ],
          "name": "stderr"
        },
        {
          "output_type": "stream",
          "text": [
            "torch.Size([3571, 2])\n",
            "Reconstruction MSE error for snapshot 361: 0.000018\n",
            "torch.Size([3571, 2])\n",
            "Reconstruction MSE error for snapshot 362: 0.000019\n",
            "torch.Size([3571, 2])\n",
            "Reconstruction MSE error for snapshot 363: 0.000023\n",
            "torch.Size([3571, 2])\n",
            "Reconstruction MSE error for snapshot 364: 0.000021\n",
            "torch.Size([3571, 2])\n",
            "Reconstruction MSE error for snapshot 365: 0.000021\n",
            "torch.Size([3571, 2])\n",
            "Reconstruction MSE error for snapshot 366: 0.000024\n",
            "torch.Size([3571, 2])\n"
          ],
          "name": "stdout"
        },
        {
          "output_type": "stream",
          "text": [
            " 18% (372 of 2000) |###                  | Elapsed Time: 0:00:12 ETA:   0:00:53"
          ],
          "name": "stderr"
        },
        {
          "output_type": "stream",
          "text": [
            "Reconstruction MSE error for snapshot 367: 0.000035\n",
            "torch.Size([3571, 2])\n",
            "Reconstruction MSE error for snapshot 368: 0.000028\n",
            "torch.Size([3571, 2])\n",
            "Reconstruction MSE error for snapshot 369: 0.000021\n",
            "torch.Size([3571, 2])\n",
            "Reconstruction MSE error for snapshot 370: 0.000021\n",
            "torch.Size([3571, 2])\n",
            "Reconstruction MSE error for snapshot 371: 0.000021\n",
            "torch.Size([3571, 2])\n",
            "Reconstruction MSE error for snapshot 372: 0.000025\n",
            "torch.Size([3571, 2])\n"
          ],
          "name": "stdout"
        },
        {
          "output_type": "stream",
          "text": [
            " 18% (379 of 2000) |###                  | Elapsed Time: 0:00:12 ETA:   0:00:53"
          ],
          "name": "stderr"
        },
        {
          "output_type": "stream",
          "text": [
            "Reconstruction MSE error for snapshot 373: 0.000047\n",
            "torch.Size([3571, 2])\n",
            "Reconstruction MSE error for snapshot 374: 0.000024\n",
            "torch.Size([3571, 2])\n",
            "Reconstruction MSE error for snapshot 375: 0.000022\n",
            "torch.Size([3571, 2])\n",
            "Reconstruction MSE error for snapshot 376: 0.000027\n",
            "torch.Size([3571, 2])\n",
            "Reconstruction MSE error for snapshot 377: 0.000152\n",
            "torch.Size([3571, 2])\n",
            "Reconstruction MSE error for snapshot 378: 0.000144\n",
            "torch.Size([3571, 2])\n",
            "Reconstruction MSE error for snapshot 379: 0.000134\n",
            "torch.Size([3571, 2])\n"
          ],
          "name": "stdout"
        },
        {
          "output_type": "stream",
          "text": [
            " 19% (386 of 2000) |####                 | Elapsed Time: 0:00:13 ETA:   0:00:53"
          ],
          "name": "stderr"
        },
        {
          "output_type": "stream",
          "text": [
            "Reconstruction MSE error for snapshot 380: 0.000031\n",
            "torch.Size([3571, 2])\n",
            "Reconstruction MSE error for snapshot 381: 0.000028\n",
            "torch.Size([3571, 2])\n",
            "Reconstruction MSE error for snapshot 382: 0.000104\n",
            "torch.Size([3571, 2])\n",
            "Reconstruction MSE error for snapshot 383: 0.000204\n",
            "torch.Size([3571, 2])\n",
            "Reconstruction MSE error for snapshot 384: 0.000242\n",
            "torch.Size([3571, 2])\n",
            "Reconstruction MSE error for snapshot 385: 0.000109\n",
            "torch.Size([3571, 2])\n",
            "Reconstruction MSE error for snapshot 386: 0.000024\n",
            "torch.Size([3571, 2])\n"
          ],
          "name": "stdout"
        },
        {
          "output_type": "stream",
          "text": [
            " 19% (393 of 2000) |####                 | Elapsed Time: 0:00:13 ETA:   0:00:53"
          ],
          "name": "stderr"
        },
        {
          "output_type": "stream",
          "text": [
            "Reconstruction MSE error for snapshot 387: 0.000019\n",
            "torch.Size([3571, 2])\n",
            "Reconstruction MSE error for snapshot 388: 0.000017\n",
            "torch.Size([3571, 2])\n",
            "Reconstruction MSE error for snapshot 389: 0.000016\n",
            "torch.Size([3571, 2])\n",
            "Reconstruction MSE error for snapshot 390: 0.000018\n",
            "torch.Size([3571, 2])\n",
            "Reconstruction MSE error for snapshot 391: 0.000023\n",
            "torch.Size([3571, 2])\n",
            "Reconstruction MSE error for snapshot 392: 0.000045\n",
            "torch.Size([3571, 2])\n",
            "Reconstruction MSE error for snapshot 393: 0.000026\n",
            "torch.Size([3571, 2])\n"
          ],
          "name": "stdout"
        },
        {
          "output_type": "stream",
          "text": [
            " 19% (399 of 2000) |####                 | Elapsed Time: 0:00:13 ETA:   0:00:53"
          ],
          "name": "stderr"
        },
        {
          "output_type": "stream",
          "text": [
            "Reconstruction MSE error for snapshot 394: 0.000023\n",
            "torch.Size([3571, 2])\n",
            "Reconstruction MSE error for snapshot 395: 0.000021\n",
            "torch.Size([3571, 2])\n",
            "Reconstruction MSE error for snapshot 396: 0.000023\n",
            "torch.Size([3571, 2])\n",
            "Reconstruction MSE error for snapshot 397: 0.000021\n",
            "torch.Size([3571, 2])\n",
            "Reconstruction MSE error for snapshot 398: 0.000020\n",
            "torch.Size([3571, 2])\n",
            "Reconstruction MSE error for snapshot 399: 0.000020\n",
            "torch.Size([3571, 2])\n"
          ],
          "name": "stdout"
        },
        {
          "output_type": "stream",
          "text": [
            " 20% (405 of 2000) |####                 | Elapsed Time: 0:00:13 ETA:   0:00:53"
          ],
          "name": "stderr"
        },
        {
          "output_type": "stream",
          "text": [
            "Reconstruction MSE error for snapshot 400: 0.000022\n",
            "torch.Size([3571, 2])\n",
            "Reconstruction MSE error for snapshot 401: 0.000025\n",
            "torch.Size([3571, 2])\n",
            "Reconstruction MSE error for snapshot 402: 0.000124\n",
            "torch.Size([3571, 2])\n",
            "Reconstruction MSE error for snapshot 403: 0.000030\n",
            "torch.Size([3571, 2])\n",
            "Reconstruction MSE error for snapshot 404: 0.000025\n",
            "torch.Size([3571, 2])\n",
            "Reconstruction MSE error for snapshot 405: 0.000022\n",
            "torch.Size([3571, 2])\n"
          ],
          "name": "stdout"
        },
        {
          "output_type": "stream",
          "text": [
            " 20% (412 of 2000) |####                 | Elapsed Time: 0:00:13 ETA:   0:00:53"
          ],
          "name": "stderr"
        },
        {
          "output_type": "stream",
          "text": [
            "Reconstruction MSE error for snapshot 406: 0.000020\n",
            "torch.Size([3571, 2])\n",
            "Reconstruction MSE error for snapshot 407: 0.000020\n",
            "torch.Size([3571, 2])\n",
            "Reconstruction MSE error for snapshot 408: 0.000018\n",
            "torch.Size([3571, 2])\n",
            "Reconstruction MSE error for snapshot 409: 0.000017\n",
            "torch.Size([3571, 2])\n",
            "Reconstruction MSE error for snapshot 410: 0.000020\n",
            "torch.Size([3571, 2])\n",
            "Reconstruction MSE error for snapshot 411: 0.000019\n",
            "torch.Size([3571, 2])\n"
          ],
          "name": "stdout"
        },
        {
          "output_type": "stream",
          "text": [
            " 20% (418 of 2000) |####                 | Elapsed Time: 0:00:14 ETA:   0:00:53"
          ],
          "name": "stderr"
        },
        {
          "output_type": "stream",
          "text": [
            "Reconstruction MSE error for snapshot 412: 0.000019\n",
            "torch.Size([3571, 2])\n",
            "Reconstruction MSE error for snapshot 413: 0.000022\n",
            "torch.Size([3571, 2])\n",
            "Reconstruction MSE error for snapshot 414: 0.000024\n",
            "torch.Size([3571, 2])\n",
            "Reconstruction MSE error for snapshot 415: 0.000043\n",
            "torch.Size([3571, 2])\n",
            "Reconstruction MSE error for snapshot 416: 0.000025\n",
            "torch.Size([3571, 2])\n",
            "Reconstruction MSE error for snapshot 417: 0.000023\n",
            "torch.Size([3571, 2])\n"
          ],
          "name": "stdout"
        },
        {
          "output_type": "stream",
          "text": [
            " 21% (424 of 2000) |####                 | Elapsed Time: 0:00:14 ETA:   0:00:53"
          ],
          "name": "stderr"
        },
        {
          "output_type": "stream",
          "text": [
            "Reconstruction MSE error for snapshot 418: 0.000020\n",
            "torch.Size([3571, 2])\n",
            "Reconstruction MSE error for snapshot 419: 0.000021\n",
            "torch.Size([3571, 2])\n",
            "Reconstruction MSE error for snapshot 420: 0.000044\n",
            "torch.Size([3571, 2])\n",
            "Reconstruction MSE error for snapshot 421: 0.000021\n",
            "torch.Size([3571, 2])\n",
            "Reconstruction MSE error for snapshot 422: 0.000018\n",
            "torch.Size([3571, 2])\n",
            "Reconstruction MSE error for snapshot 423: 0.000019\n",
            "torch.Size([3571, 2])\n"
          ],
          "name": "stdout"
        },
        {
          "output_type": "stream",
          "text": [
            " 21% (430 of 2000) |####                 | Elapsed Time: 0:00:14 ETA:   0:00:53"
          ],
          "name": "stderr"
        },
        {
          "output_type": "stream",
          "text": [
            "Reconstruction MSE error for snapshot 424: 0.000022\n",
            "torch.Size([3571, 2])\n",
            "Reconstruction MSE error for snapshot 425: 0.000043\n",
            "torch.Size([3571, 2])\n",
            "Reconstruction MSE error for snapshot 426: 0.000055\n",
            "torch.Size([3571, 2])\n",
            "Reconstruction MSE error for snapshot 427: 0.000020\n",
            "torch.Size([3571, 2])\n",
            "Reconstruction MSE error for snapshot 428: 0.000019\n",
            "torch.Size([3571, 2])\n",
            "Reconstruction MSE error for snapshot 429: 0.000017\n",
            "torch.Size([3571, 2])\n"
          ],
          "name": "stdout"
        },
        {
          "output_type": "stream",
          "text": [
            " 21% (436 of 2000) |####                 | Elapsed Time: 0:00:14 ETA:   0:00:53"
          ],
          "name": "stderr"
        },
        {
          "output_type": "stream",
          "text": [
            "Reconstruction MSE error for snapshot 430: 0.000019\n",
            "torch.Size([3571, 2])\n",
            "Reconstruction MSE error for snapshot 431: 0.000041\n",
            "torch.Size([3571, 2])\n",
            "Reconstruction MSE error for snapshot 432: 0.000020\n",
            "torch.Size([3571, 2])\n",
            "Reconstruction MSE error for snapshot 433: 0.000016\n",
            "torch.Size([3571, 2])\n",
            "Reconstruction MSE error for snapshot 434: 0.000015\n",
            "torch.Size([3571, 2])\n",
            "Reconstruction MSE error for snapshot 435: 0.000015\n",
            "torch.Size([3571, 2])\n"
          ],
          "name": "stdout"
        },
        {
          "output_type": "stream",
          "text": [
            " 22% (442 of 2000) |####                 | Elapsed Time: 0:00:14 ETA:   0:00:53"
          ],
          "name": "stderr"
        },
        {
          "output_type": "stream",
          "text": [
            "Reconstruction MSE error for snapshot 436: 0.000014\n",
            "torch.Size([3571, 2])\n",
            "Reconstruction MSE error for snapshot 437: 0.000014\n",
            "torch.Size([3571, 2])\n",
            "Reconstruction MSE error for snapshot 438: 0.000015\n",
            "torch.Size([3571, 2])\n",
            "Reconstruction MSE error for snapshot 439: 0.000017\n",
            "torch.Size([3571, 2])\n",
            "Reconstruction MSE error for snapshot 440: 0.000019\n",
            "torch.Size([3571, 2])\n",
            "Reconstruction MSE error for snapshot 441: 0.000019\n",
            "torch.Size([3571, 2])\n",
            "Reconstruction MSE error for snapshot 442: 0.000018\n"
          ],
          "name": "stdout"
        },
        {
          "output_type": "stream",
          "text": [
            "\r                                                                               \r\r 22% (445 of 2000) |####                 | Elapsed Time: 0:00:15 ETA:   0:00:52"
          ],
          "name": "stderr"
        },
        {
          "output_type": "stream",
          "text": [
            "torch.Size([3571, 2])\n",
            "Reconstruction MSE error for snapshot 443: 0.000019\n",
            "torch.Size([3571, 2])\n",
            "Reconstruction MSE error for snapshot 444: 0.000027\n",
            "torch.Size([3571, 2])\n",
            "Reconstruction MSE error for snapshot 445: 0.000019\n",
            "torch.Size([3571, 2])\n",
            "Reconstruction MSE error for snapshot 446: 0.000018\n",
            "torch.Size([3571, 2])\n",
            "Reconstruction MSE error for snapshot 447: 0.000018\n",
            "torch.Size([3571, 2])\n",
            "Reconstruction MSE error for snapshot 448: 0.000018\n",
            "torch.Size([3571, 2])\n"
          ],
          "name": "stdout"
        },
        {
          "output_type": "stream",
          "text": [
            " 22% (455 of 2000) |####                 | Elapsed Time: 0:00:15 ETA:   0:00:52"
          ],
          "name": "stderr"
        },
        {
          "output_type": "stream",
          "text": [
            "Reconstruction MSE error for snapshot 449: 0.000019\n",
            "torch.Size([3571, 2])\n",
            "Reconstruction MSE error for snapshot 450: 0.000020\n",
            "torch.Size([3571, 2])\n",
            "Reconstruction MSE error for snapshot 451: 0.000021\n",
            "torch.Size([3571, 2])\n",
            "Reconstruction MSE error for snapshot 452: 0.000021\n",
            "torch.Size([3571, 2])\n",
            "Reconstruction MSE error for snapshot 453: 0.000048\n",
            "torch.Size([3571, 2])\n",
            "Reconstruction MSE error for snapshot 454: 0.000026\n",
            "torch.Size([3571, 2])\n"
          ],
          "name": "stdout"
        },
        {
          "output_type": "stream",
          "text": [
            "\r                                                                               \r\r 22% (458 of 2000) |####                 | Elapsed Time: 0:00:15 ETA:   0:00:52"
          ],
          "name": "stderr"
        },
        {
          "output_type": "stream",
          "text": [
            "Reconstruction MSE error for snapshot 455: 0.000066\n",
            "torch.Size([3571, 2])\n",
            "Reconstruction MSE error for snapshot 456: 0.000096\n",
            "torch.Size([3571, 2])\n",
            "Reconstruction MSE error for snapshot 457: 0.000056\n",
            "torch.Size([3571, 2])\n",
            "Reconstruction MSE error for snapshot 458: 0.000019\n",
            "torch.Size([3571, 2])\n",
            "Reconstruction MSE error for snapshot 459: 0.000020\n",
            "torch.Size([3571, 2])\n",
            "Reconstruction MSE error for snapshot 460: 0.000029\n",
            "torch.Size([3571, 2])\n",
            "Reconstruction MSE error for snapshot 461: 0.000018\n",
            "torch.Size([3571, 2])\n"
          ],
          "name": "stdout"
        },
        {
          "output_type": "stream",
          "text": [
            " 23% (466 of 2000) |####                 | Elapsed Time: 0:00:15 ETA:   0:00:51"
          ],
          "name": "stderr"
        },
        {
          "output_type": "stream",
          "text": [
            "Reconstruction MSE error for snapshot 462: 0.000016\n",
            "torch.Size([3571, 2])\n",
            "Reconstruction MSE error for snapshot 463: 0.000017\n",
            "torch.Size([3571, 2])\n",
            "Reconstruction MSE error for snapshot 464: 0.000059\n",
            "torch.Size([3571, 2])\n",
            "Reconstruction MSE error for snapshot 465: 0.000016\n",
            "torch.Size([3571, 2])\n",
            "Reconstruction MSE error for snapshot 466: 0.000015\n",
            "torch.Size([3571, 2])\n",
            "Reconstruction MSE error for snapshot 467: 0.000016\n",
            "torch.Size([3571, 2])\n",
            "Reconstruction MSE error for snapshot 468: 0.000016\n",
            "torch.Size([3571, 2])\n"
          ],
          "name": "stdout"
        },
        {
          "output_type": "stream",
          "text": [
            " 23% (474 of 2000) |####                 | Elapsed Time: 0:00:16 ETA:   0:00:51"
          ],
          "name": "stderr"
        },
        {
          "output_type": "stream",
          "text": [
            "Reconstruction MSE error for snapshot 469: 0.000017\n",
            "torch.Size([3571, 2])\n",
            "Reconstruction MSE error for snapshot 470: 0.000017\n",
            "torch.Size([3571, 2])\n",
            "Reconstruction MSE error for snapshot 471: 0.000021\n",
            "torch.Size([3571, 2])\n",
            "Reconstruction MSE error for snapshot 472: 0.000046\n",
            "torch.Size([3571, 2])\n",
            "Reconstruction MSE error for snapshot 473: 0.000019\n",
            "torch.Size([3571, 2])\n",
            "Reconstruction MSE error for snapshot 474: 0.000019\n",
            "torch.Size([3571, 2])\n",
            "Reconstruction MSE error for snapshot 475: 0.000044\n"
          ],
          "name": "stdout"
        },
        {
          "output_type": "stream",
          "text": [
            " 24% (481 of 2000) |#####                | Elapsed Time: 0:00:16 ETA:   0:00:50"
          ],
          "name": "stderr"
        },
        {
          "output_type": "stream",
          "text": [
            "torch.Size([3571, 2])\n",
            "Reconstruction MSE error for snapshot 476: 0.000016\n",
            "torch.Size([3571, 2])\n",
            "Reconstruction MSE error for snapshot 477: 0.000018\n",
            "torch.Size([3571, 2])\n",
            "Reconstruction MSE error for snapshot 478: 0.000017\n",
            "torch.Size([3571, 2])\n",
            "Reconstruction MSE error for snapshot 479: 0.000019\n",
            "torch.Size([3571, 2])\n",
            "Reconstruction MSE error for snapshot 480: 0.000017\n",
            "torch.Size([3571, 2])\n",
            "Reconstruction MSE error for snapshot 481: 0.000019\n",
            "torch.Size([3571, 2])\n"
          ],
          "name": "stdout"
        },
        {
          "output_type": "stream",
          "text": [
            " 24% (488 of 2000) |#####                | Elapsed Time: 0:00:16 ETA:   0:00:50"
          ],
          "name": "stderr"
        },
        {
          "output_type": "stream",
          "text": [
            "Reconstruction MSE error for snapshot 482: 0.000018\n",
            "torch.Size([3571, 2])\n",
            "Reconstruction MSE error for snapshot 483: 0.000019\n",
            "torch.Size([3571, 2])\n",
            "Reconstruction MSE error for snapshot 484: 0.000062\n",
            "torch.Size([3571, 2])\n",
            "Reconstruction MSE error for snapshot 485: 0.000018\n",
            "torch.Size([3571, 2])\n",
            "Reconstruction MSE error for snapshot 486: 0.000017\n",
            "torch.Size([3571, 2])\n",
            "Reconstruction MSE error for snapshot 487: 0.000017\n",
            "torch.Size([3571, 2])\n",
            "Reconstruction MSE error for snapshot 488: 0.000019\n"
          ],
          "name": "stdout"
        },
        {
          "output_type": "stream",
          "text": [
            " 24% (494 of 2000) |#####                | Elapsed Time: 0:00:16 ETA:   0:00:50"
          ],
          "name": "stderr"
        },
        {
          "output_type": "stream",
          "text": [
            "torch.Size([3571, 2])\n",
            "Reconstruction MSE error for snapshot 489: 0.000020\n",
            "torch.Size([3571, 2])\n",
            "Reconstruction MSE error for snapshot 490: 0.000021\n",
            "torch.Size([3571, 2])\n",
            "Reconstruction MSE error for snapshot 491: 0.000018\n",
            "torch.Size([3571, 2])\n",
            "Reconstruction MSE error for snapshot 492: 0.000017\n",
            "torch.Size([3571, 2])\n",
            "Reconstruction MSE error for snapshot 493: 0.000018\n",
            "torch.Size([3571, 2])\n"
          ],
          "name": "stdout"
        },
        {
          "output_type": "stream",
          "text": [
            "\r                                                                               \r\r 24% (497 of 2000) |#####                | Elapsed Time: 0:00:16 ETA:   0:00:50"
          ],
          "name": "stderr"
        },
        {
          "output_type": "stream",
          "text": [
            "Reconstruction MSE error for snapshot 494: 0.000066\n",
            "torch.Size([3571, 2])\n",
            "Reconstruction MSE error for snapshot 495: 0.000019\n",
            "torch.Size([3571, 2])\n",
            "Reconstruction MSE error for snapshot 496: 0.000017\n",
            "torch.Size([3571, 2])\n",
            "Reconstruction MSE error for snapshot 497: 0.000020\n",
            "torch.Size([3571, 2])\n",
            "Reconstruction MSE error for snapshot 498: 0.000041\n",
            "torch.Size([3571, 2])\n",
            "Reconstruction MSE error for snapshot 499: 0.000037\n",
            "torch.Size([3571, 2])\n",
            "Reconstruction MSE error for snapshot 500: 0.000018\n",
            "torch.Size([3571, 2])\n"
          ],
          "name": "stdout"
        },
        {
          "output_type": "stream",
          "text": [
            " 25% (507 of 2000) |#####                | Elapsed Time: 0:00:17 ETA:   0:00:49"
          ],
          "name": "stderr"
        },
        {
          "output_type": "stream",
          "text": [
            "Reconstruction MSE error for snapshot 501: 0.000015\n",
            "torch.Size([3571, 2])\n",
            "Reconstruction MSE error for snapshot 502: 0.000017\n",
            "torch.Size([3571, 2])\n",
            "Reconstruction MSE error for snapshot 503: 0.000017\n",
            "torch.Size([3571, 2])\n",
            "Reconstruction MSE error for snapshot 504: 0.000018\n",
            "torch.Size([3571, 2])\n",
            "Reconstruction MSE error for snapshot 505: 0.000019\n",
            "torch.Size([3571, 2])\n",
            "Reconstruction MSE error for snapshot 506: 0.000088\n",
            "torch.Size([3571, 2])\n",
            "Reconstruction MSE error for snapshot 507: 0.000022\n",
            "torch.Size([3571, 2])\n"
          ],
          "name": "stdout"
        },
        {
          "output_type": "stream",
          "text": [
            " 25% (514 of 2000) |#####                | Elapsed Time: 0:00:17 ETA:   0:00:49"
          ],
          "name": "stderr"
        },
        {
          "output_type": "stream",
          "text": [
            "Reconstruction MSE error for snapshot 508: 0.000019\n",
            "torch.Size([3571, 2])\n",
            "Reconstruction MSE error for snapshot 509: 0.000019\n",
            "torch.Size([3571, 2])\n",
            "Reconstruction MSE error for snapshot 510: 0.000030\n",
            "torch.Size([3571, 2])\n",
            "Reconstruction MSE error for snapshot 511: 0.000020\n",
            "torch.Size([3571, 2])\n",
            "Reconstruction MSE error for snapshot 512: 0.000019\n",
            "torch.Size([3571, 2])\n",
            "Reconstruction MSE error for snapshot 513: 0.000019\n",
            "torch.Size([3571, 2])\n",
            "Reconstruction MSE error for snapshot 514: 0.000018\n"
          ],
          "name": "stdout"
        },
        {
          "output_type": "stream",
          "text": [
            " 26% (520 of 2000) |#####                | Elapsed Time: 0:00:17 ETA:   0:00:49"
          ],
          "name": "stderr"
        },
        {
          "output_type": "stream",
          "text": [
            "torch.Size([3571, 2])\n",
            "Reconstruction MSE error for snapshot 515: 0.000019\n",
            "torch.Size([3571, 2])\n",
            "Reconstruction MSE error for snapshot 516: 0.000025\n",
            "torch.Size([3571, 2])\n",
            "Reconstruction MSE error for snapshot 517: 0.000087\n",
            "torch.Size([3571, 2])\n",
            "Reconstruction MSE error for snapshot 518: 0.000028\n",
            "torch.Size([3571, 2])\n",
            "Reconstruction MSE error for snapshot 519: 0.000022\n",
            "torch.Size([3571, 2])\n",
            "Reconstruction MSE error for snapshot 520: 0.000022\n"
          ],
          "name": "stdout"
        },
        {
          "output_type": "stream",
          "text": [
            "\r                                                                               \r\r 26% (524 of 2000) |#####                | Elapsed Time: 0:00:17 ETA:   0:00:49"
          ],
          "name": "stderr"
        },
        {
          "output_type": "stream",
          "text": [
            "torch.Size([3571, 2])\n",
            "Reconstruction MSE error for snapshot 521: 0.000023\n",
            "torch.Size([3571, 2])\n",
            "Reconstruction MSE error for snapshot 522: 0.000025\n",
            "torch.Size([3571, 2])\n",
            "Reconstruction MSE error for snapshot 523: 0.000043\n",
            "torch.Size([3571, 2])\n",
            "Reconstruction MSE error for snapshot 524: 0.000025\n",
            "torch.Size([3571, 2])\n",
            "Reconstruction MSE error for snapshot 525: 0.000021\n",
            "torch.Size([3571, 2])\n",
            "Reconstruction MSE error for snapshot 526: 0.000021\n",
            "torch.Size([3571, 2])\n"
          ],
          "name": "stdout"
        },
        {
          "output_type": "stream",
          "text": [
            " 26% (532 of 2000) |#####                | Elapsed Time: 0:00:17 ETA:   0:00:49"
          ],
          "name": "stderr"
        },
        {
          "output_type": "stream",
          "text": [
            "Reconstruction MSE error for snapshot 527: 0.000020\n",
            "torch.Size([3571, 2])\n",
            "Reconstruction MSE error for snapshot 528: 0.000020\n",
            "torch.Size([3571, 2])\n",
            "Reconstruction MSE error for snapshot 529: 0.000023\n",
            "torch.Size([3571, 2])\n",
            "Reconstruction MSE error for snapshot 530: 0.000023\n",
            "torch.Size([3571, 2])\n",
            "Reconstruction MSE error for snapshot 531: 0.000025\n",
            "torch.Size([3571, 2])\n",
            "Reconstruction MSE error for snapshot 532: 0.000047\n",
            "torch.Size([3571, 2])\n"
          ],
          "name": "stdout"
        },
        {
          "output_type": "stream",
          "text": [
            " 26% (539 of 2000) |#####                | Elapsed Time: 0:00:18 ETA:   0:00:49"
          ],
          "name": "stderr"
        },
        {
          "output_type": "stream",
          "text": [
            "Reconstruction MSE error for snapshot 533: 0.000027\n",
            "torch.Size([3571, 2])\n",
            "Reconstruction MSE error for snapshot 534: 0.000021\n",
            "torch.Size([3571, 2])\n",
            "Reconstruction MSE error for snapshot 535: 0.000023\n",
            "torch.Size([3571, 2])\n",
            "Reconstruction MSE error for snapshot 536: 0.000021\n",
            "torch.Size([3571, 2])\n",
            "Reconstruction MSE error for snapshot 537: 0.000022\n",
            "torch.Size([3571, 2])\n",
            "Reconstruction MSE error for snapshot 538: 0.000045\n",
            "torch.Size([3571, 2])\n",
            "Reconstruction MSE error for snapshot 539: 0.000023\n",
            "torch.Size([3571, 2])\n"
          ],
          "name": "stdout"
        },
        {
          "output_type": "stream",
          "text": [
            " 27% (546 of 2000) |#####                | Elapsed Time: 0:00:18 ETA:   0:00:48"
          ],
          "name": "stderr"
        },
        {
          "output_type": "stream",
          "text": [
            "Reconstruction MSE error for snapshot 540: 0.000053\n",
            "torch.Size([3571, 2])\n",
            "Reconstruction MSE error for snapshot 541: 0.000022\n",
            "torch.Size([3571, 2])\n",
            "Reconstruction MSE error for snapshot 542: 0.000020\n",
            "torch.Size([3571, 2])\n",
            "Reconstruction MSE error for snapshot 543: 0.000024\n",
            "torch.Size([3571, 2])\n",
            "Reconstruction MSE error for snapshot 544: 0.000070\n",
            "torch.Size([3571, 2])\n",
            "Reconstruction MSE error for snapshot 545: 0.000069\n",
            "torch.Size([3571, 2])\n",
            "Reconstruction MSE error for snapshot 546: 0.000021\n"
          ],
          "name": "stdout"
        },
        {
          "output_type": "stream",
          "text": [
            " 27% (552 of 2000) |#####                | Elapsed Time: 0:00:18 ETA:   0:00:48"
          ],
          "name": "stderr"
        },
        {
          "output_type": "stream",
          "text": [
            "torch.Size([3571, 2])\n",
            "Reconstruction MSE error for snapshot 547: 0.000019\n",
            "torch.Size([3571, 2])\n",
            "Reconstruction MSE error for snapshot 548: 0.000019\n",
            "torch.Size([3571, 2])\n",
            "Reconstruction MSE error for snapshot 549: 0.000019\n",
            "torch.Size([3571, 2])\n",
            "Reconstruction MSE error for snapshot 550: 0.000019\n",
            "torch.Size([3571, 2])\n",
            "Reconstruction MSE error for snapshot 551: 0.000020\n",
            "torch.Size([3571, 2])\n"
          ],
          "name": "stdout"
        },
        {
          "output_type": "stream",
          "text": [
            " 27% (557 of 2000) |#####                | Elapsed Time: 0:00:18 ETA:   0:00:48"
          ],
          "name": "stderr"
        },
        {
          "output_type": "stream",
          "text": [
            "Reconstruction MSE error for snapshot 552: 0.000019\n",
            "torch.Size([3571, 2])\n",
            "Reconstruction MSE error for snapshot 553: 0.000020\n",
            "torch.Size([3571, 2])\n",
            "Reconstruction MSE error for snapshot 554: 0.000021\n",
            "torch.Size([3571, 2])\n",
            "Reconstruction MSE error for snapshot 555: 0.000024\n",
            "torch.Size([3571, 2])\n",
            "Reconstruction MSE error for snapshot 556: 0.000059\n",
            "torch.Size([3571, 2])\n",
            "Reconstruction MSE error for snapshot 557: 0.000026\n",
            "torch.Size([3571, 2])\n",
            "Reconstruction MSE error for snapshot 558: 0.000028\n",
            "torch.Size([3571, 2])\n"
          ],
          "name": "stdout"
        },
        {
          "output_type": "stream",
          "text": [
            " 28% (564 of 2000) |#####                | Elapsed Time: 0:00:19 ETA:   0:00:48"
          ],
          "name": "stderr"
        },
        {
          "output_type": "stream",
          "text": [
            "Reconstruction MSE error for snapshot 559: 0.000025\n",
            "torch.Size([3571, 2])\n",
            "Reconstruction MSE error for snapshot 560: 0.000071\n",
            "torch.Size([3571, 2])\n",
            "Reconstruction MSE error for snapshot 561: 0.000028\n",
            "torch.Size([3571, 2])\n",
            "Reconstruction MSE error for snapshot 562: 0.000025\n",
            "torch.Size([3571, 2])\n",
            "Reconstruction MSE error for snapshot 563: 0.000027\n",
            "torch.Size([3571, 2])\n",
            "Reconstruction MSE error for snapshot 564: 0.000022\n",
            "torch.Size([3571, 2])\n",
            "Reconstruction MSE error for snapshot 565: 0.000022\n",
            "torch.Size([3571, 2])\n"
          ],
          "name": "stdout"
        },
        {
          "output_type": "stream",
          "text": [
            " 28% (570 of 2000) |#####                | Elapsed Time: 0:00:19 ETA:   0:00:48"
          ],
          "name": "stderr"
        },
        {
          "output_type": "stream",
          "text": [
            "Reconstruction MSE error for snapshot 566: 0.000021\n",
            "torch.Size([3571, 2])\n",
            "Reconstruction MSE error for snapshot 567: 0.000021\n",
            "torch.Size([3571, 2])\n",
            "Reconstruction MSE error for snapshot 568: 0.000021\n",
            "torch.Size([3571, 2])\n",
            "Reconstruction MSE error for snapshot 569: 0.000043\n",
            "torch.Size([3571, 2])\n",
            "Reconstruction MSE error for snapshot 570: 0.000021\n",
            "torch.Size([3571, 2])\n",
            "Reconstruction MSE error for snapshot 571: 0.000021\n",
            "torch.Size([3571, 2])\n"
          ],
          "name": "stdout"
        },
        {
          "output_type": "stream",
          "text": [
            " 28% (577 of 2000) |######               | Elapsed Time: 0:00:19 ETA:   0:00:48"
          ],
          "name": "stderr"
        },
        {
          "output_type": "stream",
          "text": [
            "Reconstruction MSE error for snapshot 572: 0.000089\n",
            "torch.Size([3571, 2])\n",
            "Reconstruction MSE error for snapshot 573: 0.000027\n",
            "torch.Size([3571, 2])\n",
            "Reconstruction MSE error for snapshot 574: 0.000049\n",
            "torch.Size([3571, 2])\n",
            "Reconstruction MSE error for snapshot 575: 0.000025\n",
            "torch.Size([3571, 2])\n",
            "Reconstruction MSE error for snapshot 576: 0.000025\n",
            "torch.Size([3571, 2])\n",
            "Reconstruction MSE error for snapshot 577: 0.000033\n",
            "torch.Size([3571, 2])\n",
            "Reconstruction MSE error for snapshot 578: 0.000024\n",
            "torch.Size([3571, 2])\n"
          ],
          "name": "stdout"
        },
        {
          "output_type": "stream",
          "text": [
            " 29% (583 of 2000) |######               | Elapsed Time: 0:00:19 ETA:   0:00:47"
          ],
          "name": "stderr"
        },
        {
          "output_type": "stream",
          "text": [
            "Reconstruction MSE error for snapshot 579: 0.000022\n",
            "torch.Size([3571, 2])\n",
            "Reconstruction MSE error for snapshot 580: 0.000020\n",
            "torch.Size([3571, 2])\n",
            "Reconstruction MSE error for snapshot 581: 0.000021\n",
            "torch.Size([3571, 2])\n",
            "Reconstruction MSE error for snapshot 582: 0.000023\n",
            "torch.Size([3571, 2])\n",
            "Reconstruction MSE error for snapshot 583: 0.000025\n",
            "torch.Size([3571, 2])\n",
            "Reconstruction MSE error for snapshot 584: 0.000034\n",
            "torch.Size([3571, 2])\n"
          ],
          "name": "stdout"
        },
        {
          "output_type": "stream",
          "text": [
            " 29% (589 of 2000) |######               | Elapsed Time: 0:00:19 ETA:   0:00:47"
          ],
          "name": "stderr"
        },
        {
          "output_type": "stream",
          "text": [
            "Reconstruction MSE error for snapshot 585: 0.000024\n",
            "torch.Size([3571, 2])\n",
            "Reconstruction MSE error for snapshot 586: 0.000020\n",
            "torch.Size([3571, 2])\n",
            "Reconstruction MSE error for snapshot 587: 0.000024\n",
            "torch.Size([3571, 2])\n",
            "Reconstruction MSE error for snapshot 588: 0.000044\n",
            "torch.Size([3571, 2])\n",
            "Reconstruction MSE error for snapshot 589: 0.000022\n",
            "torch.Size([3571, 2])\n",
            "Reconstruction MSE error for snapshot 590: 0.000022\n",
            "torch.Size([3571, 2])\n"
          ],
          "name": "stdout"
        },
        {
          "output_type": "stream",
          "text": [
            " 29% (596 of 2000) |######               | Elapsed Time: 0:00:20 ETA:   0:00:47"
          ],
          "name": "stderr"
        },
        {
          "output_type": "stream",
          "text": [
            "Reconstruction MSE error for snapshot 591: 0.000023\n",
            "torch.Size([3571, 2])\n",
            "Reconstruction MSE error for snapshot 592: 0.000021\n",
            "torch.Size([3571, 2])\n",
            "Reconstruction MSE error for snapshot 593: 0.000022\n",
            "torch.Size([3571, 2])\n",
            "Reconstruction MSE error for snapshot 594: 0.000020\n",
            "torch.Size([3571, 2])\n",
            "Reconstruction MSE error for snapshot 595: 0.000020\n",
            "torch.Size([3571, 2])\n",
            "Reconstruction MSE error for snapshot 596: 0.000019\n",
            "torch.Size([3571, 2])\n",
            "Reconstruction MSE error for snapshot 597: 0.000021\n",
            "torch.Size([3571, 2])\n"
          ],
          "name": "stdout"
        },
        {
          "output_type": "stream",
          "text": [
            " 30% (602 of 2000) |######               | Elapsed Time: 0:00:20 ETA:   0:00:47"
          ],
          "name": "stderr"
        },
        {
          "output_type": "stream",
          "text": [
            "Reconstruction MSE error for snapshot 598: 0.000036\n",
            "torch.Size([3571, 2])\n",
            "Reconstruction MSE error for snapshot 599: 0.000027\n",
            "torch.Size([3571, 2])\n",
            "Reconstruction MSE error for snapshot 600: 0.000072\n",
            "torch.Size([3571, 2])\n",
            "Reconstruction MSE error for snapshot 601: 0.000078\n",
            "torch.Size([3571, 2])\n",
            "Reconstruction MSE error for snapshot 602: 0.000026\n",
            "torch.Size([3571, 2])\n",
            "Reconstruction MSE error for snapshot 603: 0.000022\n",
            "torch.Size([3571, 2])\n",
            "Reconstruction MSE error for snapshot 604: 0.000022\n",
            "torch.Size([3571, 2])\n"
          ],
          "name": "stdout"
        },
        {
          "output_type": "stream",
          "text": [
            " 30% (608 of 2000) |######               | Elapsed Time: 0:00:20 ETA:   0:00:47"
          ],
          "name": "stderr"
        },
        {
          "output_type": "stream",
          "text": [
            "Reconstruction MSE error for snapshot 605: 0.000026\n",
            "torch.Size([3571, 2])\n",
            "Reconstruction MSE error for snapshot 606: 0.000039\n",
            "torch.Size([3571, 2])\n",
            "Reconstruction MSE error for snapshot 607: 0.000022\n",
            "torch.Size([3571, 2])\n",
            "Reconstruction MSE error for snapshot 608: 0.000019\n",
            "torch.Size([3571, 2])\n",
            "Reconstruction MSE error for snapshot 609: 0.000021\n",
            "torch.Size([3571, 2])\n",
            "Reconstruction MSE error for snapshot 610: 0.000021\n",
            "torch.Size([3571, 2])\n"
          ],
          "name": "stdout"
        },
        {
          "output_type": "stream",
          "text": [
            " 30% (616 of 2000) |######               | Elapsed Time: 0:00:20 ETA:   0:00:46"
          ],
          "name": "stderr"
        },
        {
          "output_type": "stream",
          "text": [
            "Reconstruction MSE error for snapshot 611: 0.000037\n",
            "torch.Size([3571, 2])\n",
            "Reconstruction MSE error for snapshot 612: 0.000020\n",
            "torch.Size([3571, 2])\n",
            "Reconstruction MSE error for snapshot 613: 0.000023\n",
            "torch.Size([3571, 2])\n",
            "Reconstruction MSE error for snapshot 614: 0.000018\n",
            "torch.Size([3571, 2])\n",
            "Reconstruction MSE error for snapshot 615: 0.000017\n",
            "torch.Size([3571, 2])\n",
            "Reconstruction MSE error for snapshot 616: 0.000019\n",
            "torch.Size([3571, 2])\n",
            "Reconstruction MSE error for snapshot 617: 0.000018\n",
            "torch.Size([3571, 2])\n"
          ],
          "name": "stdout"
        },
        {
          "output_type": "stream",
          "text": [
            " 31% (624 of 2000) |######               | Elapsed Time: 0:00:21 ETA:   0:00:46"
          ],
          "name": "stderr"
        },
        {
          "output_type": "stream",
          "text": [
            "Reconstruction MSE error for snapshot 618: 0.000019\n",
            "torch.Size([3571, 2])\n",
            "Reconstruction MSE error for snapshot 619: 0.000019\n",
            "torch.Size([3571, 2])\n",
            "Reconstruction MSE error for snapshot 620: 0.000020\n",
            "torch.Size([3571, 2])\n",
            "Reconstruction MSE error for snapshot 621: 0.000017\n",
            "torch.Size([3571, 2])\n",
            "Reconstruction MSE error for snapshot 622: 0.000019\n",
            "torch.Size([3571, 2])\n",
            "Reconstruction MSE error for snapshot 623: 0.000019\n",
            "torch.Size([3571, 2])\n",
            "Reconstruction MSE error for snapshot 624: 0.000022\n",
            "torch.Size([3571, 2])\n"
          ],
          "name": "stdout"
        },
        {
          "output_type": "stream",
          "text": [
            " 31% (630 of 2000) |######               | Elapsed Time: 0:00:21 ETA:   0:00:46"
          ],
          "name": "stderr"
        },
        {
          "output_type": "stream",
          "text": [
            "Reconstruction MSE error for snapshot 625: 0.000048\n",
            "torch.Size([3571, 2])\n",
            "Reconstruction MSE error for snapshot 626: 0.000021\n",
            "torch.Size([3571, 2])\n",
            "Reconstruction MSE error for snapshot 627: 0.000021\n",
            "torch.Size([3571, 2])\n",
            "Reconstruction MSE error for snapshot 628: 0.000025\n",
            "torch.Size([3571, 2])\n",
            "Reconstruction MSE error for snapshot 629: 0.000054\n",
            "torch.Size([3571, 2])\n",
            "Reconstruction MSE error for snapshot 630: 0.000022\n",
            "torch.Size([3571, 2])\n"
          ],
          "name": "stdout"
        },
        {
          "output_type": "stream",
          "text": [
            " 31% (636 of 2000) |######               | Elapsed Time: 0:00:21 ETA:   0:00:45"
          ],
          "name": "stderr"
        },
        {
          "output_type": "stream",
          "text": [
            "Reconstruction MSE error for snapshot 631: 0.000019\n",
            "torch.Size([3571, 2])\n",
            "Reconstruction MSE error for snapshot 632: 0.000021\n",
            "torch.Size([3571, 2])\n",
            "Reconstruction MSE error for snapshot 633: 0.000031\n",
            "torch.Size([3571, 2])\n",
            "Reconstruction MSE error for snapshot 634: 0.000021\n",
            "torch.Size([3571, 2])\n",
            "Reconstruction MSE error for snapshot 635: 0.000020\n",
            "torch.Size([3571, 2])\n",
            "Reconstruction MSE error for snapshot 636: 0.000022\n",
            "torch.Size([3571, 2])\n"
          ],
          "name": "stdout"
        },
        {
          "output_type": "stream",
          "text": [
            " 32% (643 of 2000) |######               | Elapsed Time: 0:00:21 ETA:   0:00:45"
          ],
          "name": "stderr"
        },
        {
          "output_type": "stream",
          "text": [
            "Reconstruction MSE error for snapshot 637: 0.000029\n",
            "torch.Size([3571, 2])\n",
            "Reconstruction MSE error for snapshot 638: 0.000022\n",
            "torch.Size([3571, 2])\n",
            "Reconstruction MSE error for snapshot 639: 0.000022\n",
            "torch.Size([3571, 2])\n",
            "Reconstruction MSE error for snapshot 640: 0.000021\n",
            "torch.Size([3571, 2])\n",
            "Reconstruction MSE error for snapshot 641: 0.000021\n",
            "torch.Size([3571, 2])\n",
            "Reconstruction MSE error for snapshot 642: 0.000020\n",
            "torch.Size([3571, 2])\n",
            "Reconstruction MSE error for snapshot 643: 0.000020\n",
            "torch.Size([3571, 2])\n"
          ],
          "name": "stdout"
        },
        {
          "output_type": "stream",
          "text": [
            " 32% (649 of 2000) |######               | Elapsed Time: 0:00:21 ETA:   0:00:45"
          ],
          "name": "stderr"
        },
        {
          "output_type": "stream",
          "text": [
            "Reconstruction MSE error for snapshot 644: 0.000018\n",
            "torch.Size([3571, 2])\n",
            "Reconstruction MSE error for snapshot 645: 0.000019\n",
            "torch.Size([3571, 2])\n",
            "Reconstruction MSE error for snapshot 646: 0.000022\n",
            "torch.Size([3571, 2])\n",
            "Reconstruction MSE error for snapshot 647: 0.000049\n",
            "torch.Size([3571, 2])\n",
            "Reconstruction MSE error for snapshot 648: 0.000021\n",
            "torch.Size([3571, 2])\n",
            "Reconstruction MSE error for snapshot 649: 0.000020\n",
            "torch.Size([3571, 2])\n"
          ],
          "name": "stdout"
        },
        {
          "output_type": "stream",
          "text": [
            " 32% (655 of 2000) |######               | Elapsed Time: 0:00:22 ETA:   0:00:45"
          ],
          "name": "stderr"
        },
        {
          "output_type": "stream",
          "text": [
            "Reconstruction MSE error for snapshot 650: 0.000019\n",
            "torch.Size([3571, 2])\n",
            "Reconstruction MSE error for snapshot 651: 0.000018\n",
            "torch.Size([3571, 2])\n",
            "Reconstruction MSE error for snapshot 652: 0.000017\n",
            "torch.Size([3571, 2])\n",
            "Reconstruction MSE error for snapshot 653: 0.000018\n",
            "torch.Size([3571, 2])\n",
            "Reconstruction MSE error for snapshot 654: 0.000018\n",
            "torch.Size([3571, 2])\n",
            "Reconstruction MSE error for snapshot 655: 0.000021\n",
            "torch.Size([3571, 2])\n"
          ],
          "name": "stdout"
        },
        {
          "output_type": "stream",
          "text": [
            " 33% (661 of 2000) |######               | Elapsed Time: 0:00:22 ETA:   0:00:45"
          ],
          "name": "stderr"
        },
        {
          "output_type": "stream",
          "text": [
            "Reconstruction MSE error for snapshot 656: 0.000023\n",
            "torch.Size([3571, 2])\n",
            "Reconstruction MSE error for snapshot 657: 0.000082\n",
            "torch.Size([3571, 2])\n",
            "Reconstruction MSE error for snapshot 658: 0.000026\n",
            "torch.Size([3571, 2])\n",
            "Reconstruction MSE error for snapshot 659: 0.000020\n",
            "torch.Size([3571, 2])\n",
            "Reconstruction MSE error for snapshot 660: 0.000021\n",
            "torch.Size([3571, 2])\n",
            "Reconstruction MSE error for snapshot 661: 0.000019\n",
            "torch.Size([3571, 2])\n"
          ],
          "name": "stdout"
        },
        {
          "output_type": "stream",
          "text": [
            " 33% (667 of 2000) |#######              | Elapsed Time: 0:00:22 ETA:   0:00:45"
          ],
          "name": "stderr"
        },
        {
          "output_type": "stream",
          "text": [
            "Reconstruction MSE error for snapshot 662: 0.000019\n",
            "torch.Size([3571, 2])\n",
            "Reconstruction MSE error for snapshot 663: 0.000019\n",
            "torch.Size([3571, 2])\n",
            "Reconstruction MSE error for snapshot 664: 0.000024\n",
            "torch.Size([3571, 2])\n",
            "Reconstruction MSE error for snapshot 665: 0.000097\n",
            "torch.Size([3571, 2])\n",
            "Reconstruction MSE error for snapshot 666: 0.000083\n",
            "torch.Size([3571, 2])\n",
            "Reconstruction MSE error for snapshot 667: 0.000034\n",
            "torch.Size([3571, 2])\n"
          ],
          "name": "stdout"
        },
        {
          "output_type": "stream",
          "text": [
            " 33% (674 of 2000) |#######              | Elapsed Time: 0:00:22 ETA:   0:00:44"
          ],
          "name": "stderr"
        },
        {
          "output_type": "stream",
          "text": [
            "Reconstruction MSE error for snapshot 668: 0.000025\n",
            "torch.Size([3571, 2])\n",
            "Reconstruction MSE error for snapshot 669: 0.000023\n",
            "torch.Size([3571, 2])\n",
            "Reconstruction MSE error for snapshot 670: 0.000022\n",
            "torch.Size([3571, 2])\n",
            "Reconstruction MSE error for snapshot 671: 0.000018\n",
            "torch.Size([3571, 2])\n",
            "Reconstruction MSE error for snapshot 672: 0.000020\n",
            "torch.Size([3571, 2])\n",
            "Reconstruction MSE error for snapshot 673: 0.000018\n",
            "torch.Size([3571, 2])\n",
            "Reconstruction MSE error for snapshot 674: 0.000018\n",
            "torch.Size([3571, 2])\n"
          ],
          "name": "stdout"
        },
        {
          "output_type": "stream",
          "text": [
            " 34% (680 of 2000) |#######              | Elapsed Time: 0:00:22 ETA:   0:00:44"
          ],
          "name": "stderr"
        },
        {
          "output_type": "stream",
          "text": [
            "Reconstruction MSE error for snapshot 675: 0.000019\n",
            "torch.Size([3571, 2])\n",
            "Reconstruction MSE error for snapshot 676: 0.000021\n",
            "torch.Size([3571, 2])\n",
            "Reconstruction MSE error for snapshot 677: 0.000020\n",
            "torch.Size([3571, 2])\n",
            "Reconstruction MSE error for snapshot 678: 0.000022\n",
            "torch.Size([3571, 2])\n",
            "Reconstruction MSE error for snapshot 679: 0.000022\n",
            "torch.Size([3571, 2])\n",
            "Reconstruction MSE error for snapshot 680: 0.000022\n",
            "torch.Size([3571, 2])\n"
          ],
          "name": "stdout"
        },
        {
          "output_type": "stream",
          "text": [
            " 34% (686 of 2000) |#######              | Elapsed Time: 0:00:23 ETA:   0:00:44"
          ],
          "name": "stderr"
        },
        {
          "output_type": "stream",
          "text": [
            "Reconstruction MSE error for snapshot 681: 0.000020\n",
            "torch.Size([3571, 2])\n",
            "Reconstruction MSE error for snapshot 682: 0.000018\n",
            "torch.Size([3571, 2])\n",
            "Reconstruction MSE error for snapshot 683: 0.000017\n",
            "torch.Size([3571, 2])\n",
            "Reconstruction MSE error for snapshot 684: 0.000018\n",
            "torch.Size([3571, 2])\n",
            "Reconstruction MSE error for snapshot 685: 0.000023\n",
            "torch.Size([3571, 2])\n",
            "Reconstruction MSE error for snapshot 686: 0.000045\n",
            "torch.Size([3571, 2])\n"
          ],
          "name": "stdout"
        },
        {
          "output_type": "stream",
          "text": [
            " 34% (692 of 2000) |#######              | Elapsed Time: 0:00:23 ETA:   0:00:44"
          ],
          "name": "stderr"
        },
        {
          "output_type": "stream",
          "text": [
            "Reconstruction MSE error for snapshot 687: 0.000026\n",
            "torch.Size([3571, 2])\n",
            "Reconstruction MSE error for snapshot 688: 0.000032\n",
            "torch.Size([3571, 2])\n",
            "Reconstruction MSE error for snapshot 689: 0.000023\n",
            "torch.Size([3571, 2])\n",
            "Reconstruction MSE error for snapshot 690: 0.000018\n",
            "torch.Size([3571, 2])\n",
            "Reconstruction MSE error for snapshot 691: 0.000018\n",
            "torch.Size([3571, 2])\n",
            "Reconstruction MSE error for snapshot 692: 0.000019\n",
            "torch.Size([3571, 2])\n"
          ],
          "name": "stdout"
        },
        {
          "output_type": "stream",
          "text": [
            " 34% (698 of 2000) |#######              | Elapsed Time: 0:00:23 ETA:   0:00:44"
          ],
          "name": "stderr"
        },
        {
          "output_type": "stream",
          "text": [
            "Reconstruction MSE error for snapshot 693: 0.000019\n",
            "torch.Size([3571, 2])\n",
            "Reconstruction MSE error for snapshot 694: 0.000019\n",
            "torch.Size([3571, 2])\n",
            "Reconstruction MSE error for snapshot 695: 0.000018\n",
            "torch.Size([3571, 2])\n",
            "Reconstruction MSE error for snapshot 696: 0.000017\n",
            "torch.Size([3571, 2])\n",
            "Reconstruction MSE error for snapshot 697: 0.000016\n",
            "torch.Size([3571, 2])\n",
            "Reconstruction MSE error for snapshot 698: 0.000016\n",
            "torch.Size([3571, 2])\n"
          ],
          "name": "stdout"
        },
        {
          "output_type": "stream",
          "text": [
            " 35% (704 of 2000) |#######              | Elapsed Time: 0:00:23 ETA:   0:00:44"
          ],
          "name": "stderr"
        },
        {
          "output_type": "stream",
          "text": [
            "Reconstruction MSE error for snapshot 699: 0.000015\n",
            "torch.Size([3571, 2])\n",
            "Reconstruction MSE error for snapshot 700: 0.000016\n",
            "torch.Size([3571, 2])\n",
            "Reconstruction MSE error for snapshot 701: 0.000016\n",
            "torch.Size([3571, 2])\n",
            "Reconstruction MSE error for snapshot 702: 0.000017\n",
            "torch.Size([3571, 2])\n",
            "Reconstruction MSE error for snapshot 703: 0.000019\n",
            "torch.Size([3571, 2])\n",
            "Reconstruction MSE error for snapshot 704: 0.000026\n",
            "torch.Size([3571, 2])\n"
          ],
          "name": "stdout"
        },
        {
          "output_type": "stream",
          "text": [
            " 35% (709 of 2000) |#######              | Elapsed Time: 0:00:23 ETA:   0:00:44"
          ],
          "name": "stderr"
        },
        {
          "output_type": "stream",
          "text": [
            "Reconstruction MSE error for snapshot 705: 0.000077\n",
            "torch.Size([3571, 2])\n",
            "Reconstruction MSE error for snapshot 706: 0.000045\n",
            "torch.Size([3571, 2])\n",
            "Reconstruction MSE error for snapshot 707: 0.000022\n",
            "torch.Size([3571, 2])\n",
            "Reconstruction MSE error for snapshot 708: 0.000020\n",
            "torch.Size([3571, 2])\n",
            "Reconstruction MSE error for snapshot 709: 0.000021\n",
            "torch.Size([3571, 2])\n",
            "Reconstruction MSE error for snapshot 710: 0.000022\n",
            "torch.Size([3571, 2])\n"
          ],
          "name": "stdout"
        },
        {
          "output_type": "stream",
          "text": [
            " 35% (715 of 2000) |#######              | Elapsed Time: 0:00:24 ETA:   0:00:44"
          ],
          "name": "stderr"
        },
        {
          "output_type": "stream",
          "text": [
            "Reconstruction MSE error for snapshot 711: 0.000022\n",
            "torch.Size([3571, 2])\n",
            "Reconstruction MSE error for snapshot 712: 0.000033\n",
            "torch.Size([3571, 2])\n",
            "Reconstruction MSE error for snapshot 713: 0.000022\n",
            "torch.Size([3571, 2])\n",
            "Reconstruction MSE error for snapshot 714: 0.000022\n",
            "torch.Size([3571, 2])\n",
            "Reconstruction MSE error for snapshot 715: 0.000065\n",
            "torch.Size([3571, 2])\n",
            "Reconstruction MSE error for snapshot 716: 0.000023\n",
            "torch.Size([3571, 2])\n"
          ],
          "name": "stdout"
        },
        {
          "output_type": "stream",
          "text": [
            " 36% (721 of 2000) |#######              | Elapsed Time: 0:00:24 ETA:   0:00:44"
          ],
          "name": "stderr"
        },
        {
          "output_type": "stream",
          "text": [
            "Reconstruction MSE error for snapshot 717: 0.000021\n",
            "torch.Size([3571, 2])\n",
            "Reconstruction MSE error for snapshot 718: 0.000021\n",
            "torch.Size([3571, 2])\n",
            "Reconstruction MSE error for snapshot 719: 0.000021\n",
            "torch.Size([3571, 2])\n",
            "Reconstruction MSE error for snapshot 720: 0.000018\n",
            "torch.Size([3571, 2])\n",
            "Reconstruction MSE error for snapshot 721: 0.000016\n",
            "torch.Size([3571, 2])\n",
            "Reconstruction MSE error for snapshot 722: 0.000020\n",
            "torch.Size([3571, 2])\n"
          ],
          "name": "stdout"
        },
        {
          "output_type": "stream",
          "text": [
            " 36% (727 of 2000) |#######              | Elapsed Time: 0:00:24 ETA:   0:00:43"
          ],
          "name": "stderr"
        },
        {
          "output_type": "stream",
          "text": [
            "Reconstruction MSE error for snapshot 723: 0.000037\n",
            "torch.Size([3571, 2])\n",
            "Reconstruction MSE error for snapshot 724: 0.000021\n",
            "torch.Size([3571, 2])\n",
            "Reconstruction MSE error for snapshot 725: 0.000020\n",
            "torch.Size([3571, 2])\n",
            "Reconstruction MSE error for snapshot 726: 0.000018\n",
            "torch.Size([3571, 2])\n",
            "Reconstruction MSE error for snapshot 727: 0.000016\n",
            "torch.Size([3571, 2])\n",
            "Reconstruction MSE error for snapshot 728: 0.000030\n",
            "torch.Size([3571, 2])\n"
          ],
          "name": "stdout"
        },
        {
          "output_type": "stream",
          "text": [
            " 36% (734 of 2000) |#######              | Elapsed Time: 0:00:24 ETA:   0:00:43"
          ],
          "name": "stderr"
        },
        {
          "output_type": "stream",
          "text": [
            "Reconstruction MSE error for snapshot 729: 0.000018\n",
            "torch.Size([3571, 2])\n",
            "Reconstruction MSE error for snapshot 730: 0.000027\n",
            "torch.Size([3571, 2])\n",
            "Reconstruction MSE error for snapshot 731: 0.000016\n",
            "torch.Size([3571, 2])\n",
            "Reconstruction MSE error for snapshot 732: 0.000015\n",
            "torch.Size([3571, 2])\n",
            "Reconstruction MSE error for snapshot 733: 0.000016\n",
            "torch.Size([3571, 2])\n",
            "Reconstruction MSE error for snapshot 734: 0.000017\n",
            "torch.Size([3571, 2])\n"
          ],
          "name": "stdout"
        },
        {
          "output_type": "stream",
          "text": [
            " 37% (741 of 2000) |#######              | Elapsed Time: 0:00:25 ETA:   0:00:43"
          ],
          "name": "stderr"
        },
        {
          "output_type": "stream",
          "text": [
            "Reconstruction MSE error for snapshot 735: 0.000016\n",
            "torch.Size([3571, 2])\n",
            "Reconstruction MSE error for snapshot 736: 0.000015\n",
            "torch.Size([3571, 2])\n",
            "Reconstruction MSE error for snapshot 737: 0.000016\n",
            "torch.Size([3571, 2])\n",
            "Reconstruction MSE error for snapshot 738: 0.000018\n",
            "torch.Size([3571, 2])\n",
            "Reconstruction MSE error for snapshot 739: 0.000018\n",
            "torch.Size([3571, 2])\n",
            "Reconstruction MSE error for snapshot 740: 0.000017\n",
            "torch.Size([3571, 2])\n",
            "Reconstruction MSE error for snapshot 741: 0.000020\n",
            "torch.Size([3571, 2])\n"
          ],
          "name": "stdout"
        },
        {
          "output_type": "stream",
          "text": [
            " 37% (747 of 2000) |#######              | Elapsed Time: 0:00:25 ETA:   0:00:42"
          ],
          "name": "stderr"
        },
        {
          "output_type": "stream",
          "text": [
            "Reconstruction MSE error for snapshot 742: 0.000031\n",
            "torch.Size([3571, 2])\n",
            "Reconstruction MSE error for snapshot 743: 0.000021\n",
            "torch.Size([3571, 2])\n",
            "Reconstruction MSE error for snapshot 744: 0.000023\n",
            "torch.Size([3571, 2])\n",
            "Reconstruction MSE error for snapshot 745: 0.000040\n",
            "torch.Size([3571, 2])\n",
            "Reconstruction MSE error for snapshot 746: 0.000018\n",
            "torch.Size([3571, 2])\n",
            "Reconstruction MSE error for snapshot 747: 0.000016\n",
            "torch.Size([3571, 2])\n"
          ],
          "name": "stdout"
        },
        {
          "output_type": "stream",
          "text": [
            " 37% (754 of 2000) |#######              | Elapsed Time: 0:00:25 ETA:   0:00:42"
          ],
          "name": "stderr"
        },
        {
          "output_type": "stream",
          "text": [
            "Reconstruction MSE error for snapshot 748: 0.000018\n",
            "torch.Size([3571, 2])\n",
            "Reconstruction MSE error for snapshot 749: 0.000018\n",
            "torch.Size([3571, 2])\n",
            "Reconstruction MSE error for snapshot 750: 0.000019\n",
            "torch.Size([3571, 2])\n",
            "Reconstruction MSE error for snapshot 751: 0.000037\n",
            "torch.Size([3571, 2])\n",
            "Reconstruction MSE error for snapshot 752: 0.000022\n",
            "torch.Size([3571, 2])\n",
            "Reconstruction MSE error for snapshot 753: 0.000037\n",
            "torch.Size([3571, 2])\n",
            "Reconstruction MSE error for snapshot 754: 0.000018\n",
            "torch.Size([3571, 2])\n"
          ],
          "name": "stdout"
        },
        {
          "output_type": "stream",
          "text": [
            " 38% (760 of 2000) |#######              | Elapsed Time: 0:00:25 ETA:   0:00:42"
          ],
          "name": "stderr"
        },
        {
          "output_type": "stream",
          "text": [
            "Reconstruction MSE error for snapshot 755: 0.000017\n",
            "torch.Size([3571, 2])\n",
            "Reconstruction MSE error for snapshot 756: 0.000017\n",
            "torch.Size([3571, 2])\n",
            "Reconstruction MSE error for snapshot 757: 0.000016\n",
            "torch.Size([3571, 2])\n",
            "Reconstruction MSE error for snapshot 758: 0.000016\n",
            "torch.Size([3571, 2])\n",
            "Reconstruction MSE error for snapshot 759: 0.000019\n",
            "torch.Size([3571, 2])\n",
            "Reconstruction MSE error for snapshot 760: 0.000018\n",
            "torch.Size([3571, 2])\n",
            "Reconstruction MSE error for snapshot 761: 0.000017\n"
          ],
          "name": "stdout"
        },
        {
          "output_type": "stream",
          "text": [
            " 38% (766 of 2000) |########             | Elapsed Time: 0:00:25 ETA:   0:00:41"
          ],
          "name": "stderr"
        },
        {
          "output_type": "stream",
          "text": [
            "torch.Size([3571, 2])\n",
            "Reconstruction MSE error for snapshot 762: 0.000017\n",
            "torch.Size([3571, 2])\n",
            "Reconstruction MSE error for snapshot 763: 0.000018\n",
            "torch.Size([3571, 2])\n",
            "Reconstruction MSE error for snapshot 764: 0.000016\n",
            "torch.Size([3571, 2])\n",
            "Reconstruction MSE error for snapshot 765: 0.000014\n",
            "torch.Size([3571, 2])\n",
            "Reconstruction MSE error for snapshot 766: 0.000018\n",
            "torch.Size([3571, 2])\n"
          ],
          "name": "stdout"
        },
        {
          "output_type": "stream",
          "text": [
            " 38% (772 of 2000) |########             | Elapsed Time: 0:00:26 ETA:   0:00:41"
          ],
          "name": "stderr"
        },
        {
          "output_type": "stream",
          "text": [
            "Reconstruction MSE error for snapshot 767: 0.000049\n",
            "torch.Size([3571, 2])\n",
            "Reconstruction MSE error for snapshot 768: 0.000019\n",
            "torch.Size([3571, 2])\n",
            "Reconstruction MSE error for snapshot 769: 0.000017\n",
            "torch.Size([3571, 2])\n",
            "Reconstruction MSE error for snapshot 770: 0.000018\n",
            "torch.Size([3571, 2])\n",
            "Reconstruction MSE error for snapshot 771: 0.000019\n",
            "torch.Size([3571, 2])\n",
            "Reconstruction MSE error for snapshot 772: 0.000019\n",
            "torch.Size([3571, 2])\n"
          ],
          "name": "stdout"
        },
        {
          "output_type": "stream",
          "text": [
            " 38% (779 of 2000) |########             | Elapsed Time: 0:00:26 ETA:   0:00:41"
          ],
          "name": "stderr"
        },
        {
          "output_type": "stream",
          "text": [
            "Reconstruction MSE error for snapshot 773: 0.000017\n",
            "torch.Size([3571, 2])\n",
            "Reconstruction MSE error for snapshot 774: 0.000017\n",
            "torch.Size([3571, 2])\n",
            "Reconstruction MSE error for snapshot 775: 0.000019\n",
            "torch.Size([3571, 2])\n",
            "Reconstruction MSE error for snapshot 776: 0.000058\n",
            "torch.Size([3571, 2])\n",
            "Reconstruction MSE error for snapshot 777: 0.000019\n",
            "torch.Size([3571, 2])\n",
            "Reconstruction MSE error for snapshot 778: 0.000034\n",
            "torch.Size([3571, 2])\n",
            "Reconstruction MSE error for snapshot 779: 0.000017\n",
            "torch.Size([3571, 2])\n"
          ],
          "name": "stdout"
        },
        {
          "output_type": "stream",
          "text": [
            " 39% (785 of 2000) |########             | Elapsed Time: 0:00:26 ETA:   0:00:41"
          ],
          "name": "stderr"
        },
        {
          "output_type": "stream",
          "text": [
            "Reconstruction MSE error for snapshot 780: 0.000016\n",
            "torch.Size([3571, 2])\n",
            "Reconstruction MSE error for snapshot 781: 0.000015\n",
            "torch.Size([3571, 2])\n",
            "Reconstruction MSE error for snapshot 782: 0.000016\n",
            "torch.Size([3571, 2])\n",
            "Reconstruction MSE error for snapshot 783: 0.000018\n",
            "torch.Size([3571, 2])\n",
            "Reconstruction MSE error for snapshot 784: 0.000024\n",
            "torch.Size([3571, 2])\n",
            "Reconstruction MSE error for snapshot 785: 0.000044\n",
            "torch.Size([3571, 2])\n"
          ],
          "name": "stdout"
        },
        {
          "output_type": "stream",
          "text": [
            " 39% (791 of 2000) |########             | Elapsed Time: 0:00:26 ETA:   0:00:40"
          ],
          "name": "stderr"
        },
        {
          "output_type": "stream",
          "text": [
            "Reconstruction MSE error for snapshot 786: 0.000043\n",
            "torch.Size([3571, 2])\n",
            "Reconstruction MSE error for snapshot 787: 0.000024\n",
            "torch.Size([3571, 2])\n",
            "Reconstruction MSE error for snapshot 788: 0.000019\n",
            "torch.Size([3571, 2])\n",
            "Reconstruction MSE error for snapshot 789: 0.000022\n",
            "torch.Size([3571, 2])\n",
            "Reconstruction MSE error for snapshot 790: 0.000022\n",
            "torch.Size([3571, 2])\n",
            "Reconstruction MSE error for snapshot 791: 0.000038\n",
            "torch.Size([3571, 2])\n"
          ],
          "name": "stdout"
        },
        {
          "output_type": "stream",
          "text": [
            " 39% (797 of 2000) |########             | Elapsed Time: 0:00:26 ETA:   0:00:40"
          ],
          "name": "stderr"
        },
        {
          "output_type": "stream",
          "text": [
            "Reconstruction MSE error for snapshot 792: 0.000022\n",
            "torch.Size([3571, 2])\n",
            "Reconstruction MSE error for snapshot 793: 0.000027\n",
            "torch.Size([3571, 2])\n",
            "Reconstruction MSE error for snapshot 794: 0.000019\n",
            "torch.Size([3571, 2])\n",
            "Reconstruction MSE error for snapshot 795: 0.000041\n",
            "torch.Size([3571, 2])\n",
            "Reconstruction MSE error for snapshot 796: 0.000016\n",
            "torch.Size([3571, 2])\n",
            "Reconstruction MSE error for snapshot 797: 0.000015\n",
            "torch.Size([3571, 2])\n"
          ],
          "name": "stdout"
        },
        {
          "output_type": "stream",
          "text": [
            " 40% (803 of 2000) |########             | Elapsed Time: 0:00:27 ETA:   0:00:40"
          ],
          "name": "stderr"
        },
        {
          "output_type": "stream",
          "text": [
            "Reconstruction MSE error for snapshot 798: 0.000016\n",
            "torch.Size([3571, 2])\n",
            "Reconstruction MSE error for snapshot 799: 0.000048\n",
            "torch.Size([3571, 2])\n",
            "Reconstruction MSE error for snapshot 800: 0.000015\n",
            "torch.Size([3571, 2])\n",
            "Reconstruction MSE error for snapshot 801: 0.000014\n",
            "torch.Size([3571, 2])\n",
            "Reconstruction MSE error for snapshot 802: 0.000013\n",
            "torch.Size([3571, 2])\n",
            "Reconstruction MSE error for snapshot 803: 0.000012\n",
            "torch.Size([3571, 2])\n"
          ],
          "name": "stdout"
        },
        {
          "output_type": "stream",
          "text": [
            " 40% (810 of 2000) |########             | Elapsed Time: 0:00:27 ETA:   0:00:40"
          ],
          "name": "stderr"
        },
        {
          "output_type": "stream",
          "text": [
            "Reconstruction MSE error for snapshot 804: 0.000013\n",
            "torch.Size([3571, 2])\n",
            "Reconstruction MSE error for snapshot 805: 0.000014\n",
            "torch.Size([3571, 2])\n",
            "Reconstruction MSE error for snapshot 806: 0.000014\n",
            "torch.Size([3571, 2])\n",
            "Reconstruction MSE error for snapshot 807: 0.000030\n",
            "torch.Size([3571, 2])\n",
            "Reconstruction MSE error for snapshot 808: 0.000018\n",
            "torch.Size([3571, 2])\n",
            "Reconstruction MSE error for snapshot 809: 0.000017\n",
            "torch.Size([3571, 2])\n"
          ],
          "name": "stdout"
        },
        {
          "output_type": "stream",
          "text": [
            " 40% (816 of 2000) |########             | Elapsed Time: 0:00:27 ETA:   0:00:40"
          ],
          "name": "stderr"
        },
        {
          "output_type": "stream",
          "text": [
            "Reconstruction MSE error for snapshot 810: 0.000015\n",
            "torch.Size([3571, 2])\n",
            "Reconstruction MSE error for snapshot 811: 0.000014\n",
            "torch.Size([3571, 2])\n",
            "Reconstruction MSE error for snapshot 812: 0.000013\n",
            "torch.Size([3571, 2])\n",
            "Reconstruction MSE error for snapshot 813: 0.000014\n",
            "torch.Size([3571, 2])\n",
            "Reconstruction MSE error for snapshot 814: 0.000015\n",
            "torch.Size([3571, 2])\n",
            "Reconstruction MSE error for snapshot 815: 0.000030\n",
            "torch.Size([3571, 2])\n"
          ],
          "name": "stdout"
        },
        {
          "output_type": "stream",
          "text": [
            " 41% (822 of 2000) |########             | Elapsed Time: 0:00:27 ETA:   0:00:40"
          ],
          "name": "stderr"
        },
        {
          "output_type": "stream",
          "text": [
            "Reconstruction MSE error for snapshot 816: 0.000019\n",
            "torch.Size([3571, 2])\n",
            "Reconstruction MSE error for snapshot 817: 0.000019\n",
            "torch.Size([3571, 2])\n",
            "Reconstruction MSE error for snapshot 818: 0.000046\n",
            "torch.Size([3571, 2])\n",
            "Reconstruction MSE error for snapshot 819: 0.000019\n",
            "torch.Size([3571, 2])\n",
            "Reconstruction MSE error for snapshot 820: 0.000018\n",
            "torch.Size([3571, 2])\n",
            "Reconstruction MSE error for snapshot 821: 0.000027\n",
            "torch.Size([3571, 2])\n"
          ],
          "name": "stdout"
        },
        {
          "output_type": "stream",
          "text": [
            " 41% (828 of 2000) |########             | Elapsed Time: 0:00:28 ETA:   0:00:40"
          ],
          "name": "stderr"
        },
        {
          "output_type": "stream",
          "text": [
            "Reconstruction MSE error for snapshot 822: 0.000016\n",
            "torch.Size([3571, 2])\n",
            "Reconstruction MSE error for snapshot 823: 0.000016\n",
            "torch.Size([3571, 2])\n",
            "Reconstruction MSE error for snapshot 824: 0.000015\n",
            "torch.Size([3571, 2])\n",
            "Reconstruction MSE error for snapshot 825: 0.000015\n",
            "torch.Size([3571, 2])\n",
            "Reconstruction MSE error for snapshot 826: 0.000014\n",
            "torch.Size([3571, 2])\n",
            "Reconstruction MSE error for snapshot 827: 0.000016\n",
            "torch.Size([3571, 2])\n"
          ],
          "name": "stdout"
        },
        {
          "output_type": "stream",
          "text": [
            " 41% (834 of 2000) |########             | Elapsed Time: 0:00:28 ETA:   0:00:39"
          ],
          "name": "stderr"
        },
        {
          "output_type": "stream",
          "text": [
            "Reconstruction MSE error for snapshot 828: 0.000015\n",
            "torch.Size([3571, 2])\n",
            "Reconstruction MSE error for snapshot 829: 0.000017\n",
            "torch.Size([3571, 2])\n",
            "Reconstruction MSE error for snapshot 830: 0.000089\n",
            "torch.Size([3571, 2])\n",
            "Reconstruction MSE error for snapshot 831: 0.000063\n",
            "torch.Size([3571, 2])\n",
            "Reconstruction MSE error for snapshot 832: 0.000018\n",
            "torch.Size([3571, 2])\n",
            "Reconstruction MSE error for snapshot 833: 0.000016\n",
            "torch.Size([3571, 2])\n",
            "Reconstruction MSE error for snapshot 834: 0.000033\n"
          ],
          "name": "stdout"
        },
        {
          "output_type": "stream",
          "text": [
            " 41% (839 of 2000) |########             | Elapsed Time: 0:00:28 ETA:   0:00:39"
          ],
          "name": "stderr"
        },
        {
          "output_type": "stream",
          "text": [
            "torch.Size([3571, 2])\n",
            "Reconstruction MSE error for snapshot 835: 0.000018\n",
            "torch.Size([3571, 2])\n",
            "Reconstruction MSE error for snapshot 836: 0.000016\n",
            "torch.Size([3571, 2])\n",
            "Reconstruction MSE error for snapshot 837: 0.000015\n",
            "torch.Size([3571, 2])\n",
            "Reconstruction MSE error for snapshot 838: 0.000015\n",
            "torch.Size([3571, 2])\n",
            "Reconstruction MSE error for snapshot 839: 0.000029\n",
            "torch.Size([3571, 2])\n"
          ],
          "name": "stdout"
        },
        {
          "output_type": "stream",
          "text": [
            " 42% (846 of 2000) |########             | Elapsed Time: 0:00:28 ETA:   0:00:39"
          ],
          "name": "stderr"
        },
        {
          "output_type": "stream",
          "text": [
            "Reconstruction MSE error for snapshot 840: 0.000013\n",
            "torch.Size([3571, 2])\n",
            "Reconstruction MSE error for snapshot 841: 0.000011\n",
            "torch.Size([3571, 2])\n",
            "Reconstruction MSE error for snapshot 842: 0.000013\n",
            "torch.Size([3571, 2])\n",
            "Reconstruction MSE error for snapshot 843: 0.000014\n",
            "torch.Size([3571, 2])\n",
            "Reconstruction MSE error for snapshot 844: 0.000014\n",
            "torch.Size([3571, 2])\n",
            "Reconstruction MSE error for snapshot 845: 0.000014\n",
            "torch.Size([3571, 2])\n",
            "Reconstruction MSE error for snapshot 846: 0.000014\n"
          ],
          "name": "stdout"
        },
        {
          "output_type": "stream",
          "text": [
            " 42% (852 of 2000) |########             | Elapsed Time: 0:00:28 ETA:   0:00:39"
          ],
          "name": "stderr"
        },
        {
          "output_type": "stream",
          "text": [
            "torch.Size([3571, 2])\n",
            "Reconstruction MSE error for snapshot 847: 0.000014\n",
            "torch.Size([3571, 2])\n",
            "Reconstruction MSE error for snapshot 848: 0.000019\n",
            "torch.Size([3571, 2])\n",
            "Reconstruction MSE error for snapshot 849: 0.000013\n",
            "torch.Size([3571, 2])\n",
            "Reconstruction MSE error for snapshot 850: 0.000013\n",
            "torch.Size([3571, 2])\n",
            "Reconstruction MSE error for snapshot 851: 0.000012\n",
            "torch.Size([3571, 2])\n"
          ],
          "name": "stdout"
        },
        {
          "output_type": "stream",
          "text": [
            " 42% (858 of 2000) |#########            | Elapsed Time: 0:00:29 ETA:   0:00:39"
          ],
          "name": "stderr"
        },
        {
          "output_type": "stream",
          "text": [
            "Reconstruction MSE error for snapshot 852: 0.000015\n",
            "torch.Size([3571, 2])\n",
            "Reconstruction MSE error for snapshot 853: 0.000040\n",
            "torch.Size([3571, 2])\n",
            "Reconstruction MSE error for snapshot 854: 0.000019\n",
            "torch.Size([3571, 2])\n",
            "Reconstruction MSE error for snapshot 855: 0.000030\n",
            "torch.Size([3571, 2])\n",
            "Reconstruction MSE error for snapshot 856: 0.000030\n",
            "torch.Size([3571, 2])\n",
            "Reconstruction MSE error for snapshot 857: 0.000015\n",
            "torch.Size([3571, 2])\n"
          ],
          "name": "stdout"
        },
        {
          "output_type": "stream",
          "text": [
            " 43% (864 of 2000) |#########            | Elapsed Time: 0:00:29 ETA:   0:00:39"
          ],
          "name": "stderr"
        },
        {
          "output_type": "stream",
          "text": [
            "Reconstruction MSE error for snapshot 858: 0.000016\n",
            "torch.Size([3571, 2])\n",
            "Reconstruction MSE error for snapshot 859: 0.000020\n",
            "torch.Size([3571, 2])\n",
            "Reconstruction MSE error for snapshot 860: 0.000015\n",
            "torch.Size([3571, 2])\n",
            "Reconstruction MSE error for snapshot 861: 0.000015\n",
            "torch.Size([3571, 2])\n",
            "Reconstruction MSE error for snapshot 862: 0.000016\n",
            "torch.Size([3571, 2])\n",
            "Reconstruction MSE error for snapshot 863: 0.000016\n",
            "torch.Size([3571, 2])\n"
          ],
          "name": "stdout"
        },
        {
          "output_type": "stream",
          "text": [
            " 43% (870 of 2000) |#########            | Elapsed Time: 0:00:29 ETA:   0:00:39"
          ],
          "name": "stderr"
        },
        {
          "output_type": "stream",
          "text": [
            "Reconstruction MSE error for snapshot 864: 0.000019\n",
            "torch.Size([3571, 2])\n",
            "Reconstruction MSE error for snapshot 865: 0.000017\n",
            "torch.Size([3571, 2])\n",
            "Reconstruction MSE error for snapshot 866: 0.000014\n",
            "torch.Size([3571, 2])\n",
            "Reconstruction MSE error for snapshot 867: 0.000015\n",
            "torch.Size([3571, 2])\n",
            "Reconstruction MSE error for snapshot 868: 0.000016\n",
            "torch.Size([3571, 2])\n",
            "Reconstruction MSE error for snapshot 869: 0.000032\n",
            "torch.Size([3571, 2])\n"
          ],
          "name": "stdout"
        },
        {
          "output_type": "stream",
          "text": [
            " 43% (876 of 2000) |#########            | Elapsed Time: 0:00:29 ETA:   0:00:38"
          ],
          "name": "stderr"
        },
        {
          "output_type": "stream",
          "text": [
            "Reconstruction MSE error for snapshot 870: 0.000031\n",
            "torch.Size([3571, 2])\n",
            "Reconstruction MSE error for snapshot 871: 0.000014\n",
            "torch.Size([3571, 2])\n",
            "Reconstruction MSE error for snapshot 872: 0.000012\n",
            "torch.Size([3571, 2])\n",
            "Reconstruction MSE error for snapshot 873: 0.000027\n",
            "torch.Size([3571, 2])\n",
            "Reconstruction MSE error for snapshot 874: 0.000029\n",
            "torch.Size([3571, 2])\n",
            "Reconstruction MSE error for snapshot 875: 0.000014\n",
            "torch.Size([3571, 2])\n"
          ],
          "name": "stdout"
        },
        {
          "output_type": "stream",
          "text": [
            " 44% (882 of 2000) |#########            | Elapsed Time: 0:00:29 ETA:   0:00:38"
          ],
          "name": "stderr"
        },
        {
          "output_type": "stream",
          "text": [
            "Reconstruction MSE error for snapshot 876: 0.000017\n",
            "torch.Size([3571, 2])\n",
            "Reconstruction MSE error for snapshot 877: 0.000011\n",
            "torch.Size([3571, 2])\n",
            "Reconstruction MSE error for snapshot 878: 0.000010\n",
            "torch.Size([3571, 2])\n",
            "Reconstruction MSE error for snapshot 879: 0.000011\n",
            "torch.Size([3571, 2])\n",
            "Reconstruction MSE error for snapshot 880: 0.000012\n",
            "torch.Size([3571, 2])\n",
            "Reconstruction MSE error for snapshot 881: 0.000011\n",
            "torch.Size([3571, 2])\n"
          ],
          "name": "stdout"
        },
        {
          "output_type": "stream",
          "text": [
            " 44% (887 of 2000) |#########            | Elapsed Time: 0:00:30 ETA:   0:00:38"
          ],
          "name": "stderr"
        },
        {
          "output_type": "stream",
          "text": [
            "Reconstruction MSE error for snapshot 882: 0.000013\n",
            "torch.Size([3571, 2])\n",
            "Reconstruction MSE error for snapshot 883: 0.000032\n",
            "torch.Size([3571, 2])\n",
            "Reconstruction MSE error for snapshot 884: 0.000015\n",
            "torch.Size([3571, 2])\n",
            "Reconstruction MSE error for snapshot 885: 0.000018\n",
            "torch.Size([3571, 2])\n",
            "Reconstruction MSE error for snapshot 886: 0.000084\n",
            "torch.Size([3571, 2])\n",
            "Reconstruction MSE error for snapshot 887: 0.000016\n",
            "torch.Size([3571, 2])\n"
          ],
          "name": "stdout"
        },
        {
          "output_type": "stream",
          "text": [
            " 44% (893 of 2000) |#########            | Elapsed Time: 0:00:30 ETA:   0:00:38"
          ],
          "name": "stderr"
        },
        {
          "output_type": "stream",
          "text": [
            "Reconstruction MSE error for snapshot 888: 0.000011\n",
            "torch.Size([3571, 2])\n",
            "Reconstruction MSE error for snapshot 889: 0.000012\n",
            "torch.Size([3571, 2])\n",
            "Reconstruction MSE error for snapshot 890: 0.000013\n",
            "torch.Size([3571, 2])\n",
            "Reconstruction MSE error for snapshot 891: 0.000013\n",
            "torch.Size([3571, 2])\n",
            "Reconstruction MSE error for snapshot 892: 0.000011\n",
            "torch.Size([3571, 2])\n",
            "Reconstruction MSE error for snapshot 893: 0.000011\n",
            "torch.Size([3571, 2])\n"
          ],
          "name": "stdout"
        },
        {
          "output_type": "stream",
          "text": [
            " 45% (900 of 2000) |#########            | Elapsed Time: 0:00:30 ETA:   0:00:38"
          ],
          "name": "stderr"
        },
        {
          "output_type": "stream",
          "text": [
            "Reconstruction MSE error for snapshot 894: 0.000016\n",
            "torch.Size([3571, 2])\n",
            "Reconstruction MSE error for snapshot 895: 0.000014\n",
            "torch.Size([3571, 2])\n",
            "Reconstruction MSE error for snapshot 896: 0.000013\n",
            "torch.Size([3571, 2])\n",
            "Reconstruction MSE error for snapshot 897: 0.000012\n",
            "torch.Size([3571, 2])\n",
            "Reconstruction MSE error for snapshot 898: 0.000017\n",
            "torch.Size([3571, 2])\n",
            "Reconstruction MSE error for snapshot 899: 0.000015\n",
            "torch.Size([3571, 2])\n",
            "Reconstruction MSE error for snapshot 900: 0.000020\n"
          ],
          "name": "stdout"
        },
        {
          "output_type": "stream",
          "text": [
            " 45% (906 of 2000) |#########            | Elapsed Time: 0:00:30 ETA:   0:00:38"
          ],
          "name": "stderr"
        },
        {
          "output_type": "stream",
          "text": [
            "torch.Size([3571, 2])\n",
            "Reconstruction MSE error for snapshot 901: 0.000014\n",
            "torch.Size([3571, 2])\n",
            "Reconstruction MSE error for snapshot 902: 0.000016\n",
            "torch.Size([3571, 2])\n",
            "Reconstruction MSE error for snapshot 903: 0.000017\n",
            "torch.Size([3571, 2])\n",
            "Reconstruction MSE error for snapshot 904: 0.000013\n",
            "torch.Size([3571, 2])\n",
            "Reconstruction MSE error for snapshot 905: 0.000030\n",
            "torch.Size([3571, 2])\n"
          ],
          "name": "stdout"
        },
        {
          "output_type": "stream",
          "text": [
            " 45% (912 of 2000) |#########            | Elapsed Time: 0:00:30 ETA:   0:00:37"
          ],
          "name": "stderr"
        },
        {
          "output_type": "stream",
          "text": [
            "Reconstruction MSE error for snapshot 906: 0.000020\n",
            "torch.Size([3571, 2])\n",
            "Reconstruction MSE error for snapshot 907: 0.000019\n",
            "torch.Size([3571, 2])\n",
            "Reconstruction MSE error for snapshot 908: 0.000015\n",
            "torch.Size([3571, 2])\n",
            "Reconstruction MSE error for snapshot 909: 0.000016\n",
            "torch.Size([3571, 2])\n",
            "Reconstruction MSE error for snapshot 910: 0.000017\n",
            "torch.Size([3571, 2])\n",
            "Reconstruction MSE error for snapshot 911: 0.000016\n",
            "torch.Size([3571, 2])\n"
          ],
          "name": "stdout"
        },
        {
          "output_type": "stream",
          "text": [
            " 45% (918 of 2000) |#########            | Elapsed Time: 0:00:31 ETA:   0:00:37"
          ],
          "name": "stderr"
        },
        {
          "output_type": "stream",
          "text": [
            "Reconstruction MSE error for snapshot 912: 0.000025\n",
            "torch.Size([3571, 2])\n",
            "Reconstruction MSE error for snapshot 913: 0.000022\n",
            "torch.Size([3571, 2])\n",
            "Reconstruction MSE error for snapshot 914: 0.000025\n",
            "torch.Size([3571, 2])\n",
            "Reconstruction MSE error for snapshot 915: 0.000024\n",
            "torch.Size([3571, 2])\n",
            "Reconstruction MSE error for snapshot 916: 0.000036\n",
            "torch.Size([3571, 2])\n",
            "Reconstruction MSE error for snapshot 917: 0.000038\n",
            "torch.Size([3571, 2])\n"
          ],
          "name": "stdout"
        },
        {
          "output_type": "stream",
          "text": [
            " 46% (924 of 2000) |#########            | Elapsed Time: 0:00:31 ETA:   0:00:37"
          ],
          "name": "stderr"
        },
        {
          "output_type": "stream",
          "text": [
            "Reconstruction MSE error for snapshot 918: 0.000038\n",
            "torch.Size([3571, 2])\n",
            "Reconstruction MSE error for snapshot 919: 0.000025\n",
            "torch.Size([3571, 2])\n",
            "Reconstruction MSE error for snapshot 920: 0.000035\n",
            "torch.Size([3571, 2])\n",
            "Reconstruction MSE error for snapshot 921: 0.000032\n",
            "torch.Size([3571, 2])\n",
            "Reconstruction MSE error for snapshot 922: 0.000019\n",
            "torch.Size([3571, 2])\n",
            "Reconstruction MSE error for snapshot 923: 0.000017\n",
            "torch.Size([3571, 2])\n"
          ],
          "name": "stdout"
        },
        {
          "output_type": "stream",
          "text": [
            " 46% (930 of 2000) |#########            | Elapsed Time: 0:00:31 ETA:   0:00:37"
          ],
          "name": "stderr"
        },
        {
          "output_type": "stream",
          "text": [
            "Reconstruction MSE error for snapshot 924: 0.000017\n",
            "torch.Size([3571, 2])\n",
            "Reconstruction MSE error for snapshot 925: 0.000017\n",
            "torch.Size([3571, 2])\n",
            "Reconstruction MSE error for snapshot 926: 0.000019\n",
            "torch.Size([3571, 2])\n",
            "Reconstruction MSE error for snapshot 927: 0.000018\n",
            "torch.Size([3571, 2])\n",
            "Reconstruction MSE error for snapshot 928: 0.000017\n",
            "torch.Size([3571, 2])\n",
            "Reconstruction MSE error for snapshot 929: 0.000017\n",
            "torch.Size([3571, 2])\n"
          ],
          "name": "stdout"
        },
        {
          "output_type": "stream",
          "text": [
            " 46% (936 of 2000) |#########            | Elapsed Time: 0:00:31 ETA:   0:00:36"
          ],
          "name": "stderr"
        },
        {
          "output_type": "stream",
          "text": [
            "Reconstruction MSE error for snapshot 930: 0.000013\n",
            "torch.Size([3571, 2])\n",
            "Reconstruction MSE error for snapshot 931: 0.000015\n",
            "torch.Size([3571, 2])\n",
            "Reconstruction MSE error for snapshot 932: 0.000014\n",
            "torch.Size([3571, 2])\n",
            "Reconstruction MSE error for snapshot 933: 0.000014\n",
            "torch.Size([3571, 2])\n",
            "Reconstruction MSE error for snapshot 934: 0.000015\n",
            "torch.Size([3571, 2])\n",
            "Reconstruction MSE error for snapshot 935: 0.000015\n",
            "torch.Size([3571, 2])\n"
          ],
          "name": "stdout"
        },
        {
          "output_type": "stream",
          "text": [
            " 47% (942 of 2000) |#########            | Elapsed Time: 0:00:32 ETA:   0:00:36"
          ],
          "name": "stderr"
        },
        {
          "output_type": "stream",
          "text": [
            "Reconstruction MSE error for snapshot 936: 0.000014\n",
            "torch.Size([3571, 2])\n",
            "Reconstruction MSE error for snapshot 937: 0.000014\n",
            "torch.Size([3571, 2])\n",
            "Reconstruction MSE error for snapshot 938: 0.000014\n",
            "torch.Size([3571, 2])\n",
            "Reconstruction MSE error for snapshot 939: 0.000017\n",
            "torch.Size([3571, 2])\n",
            "Reconstruction MSE error for snapshot 940: 0.000017\n",
            "torch.Size([3571, 2])\n",
            "Reconstruction MSE error for snapshot 941: 0.000027\n",
            "torch.Size([3571, 2])\n"
          ],
          "name": "stdout"
        },
        {
          "output_type": "stream",
          "text": [
            " 47% (948 of 2000) |#########            | Elapsed Time: 0:00:32 ETA:   0:00:36"
          ],
          "name": "stderr"
        },
        {
          "output_type": "stream",
          "text": [
            "Reconstruction MSE error for snapshot 942: 0.000030\n",
            "torch.Size([3571, 2])\n",
            "Reconstruction MSE error for snapshot 943: 0.000027\n",
            "torch.Size([3571, 2])\n",
            "Reconstruction MSE error for snapshot 944: 0.000022\n",
            "torch.Size([3571, 2])\n",
            "Reconstruction MSE error for snapshot 945: 0.000016\n",
            "torch.Size([3571, 2])\n",
            "Reconstruction MSE error for snapshot 946: 0.000014\n",
            "torch.Size([3571, 2])\n",
            "Reconstruction MSE error for snapshot 947: 0.000016\n",
            "torch.Size([3571, 2])\n"
          ],
          "name": "stdout"
        },
        {
          "output_type": "stream",
          "text": [
            " 47% (954 of 2000) |##########           | Elapsed Time: 0:00:32 ETA:   0:00:36"
          ],
          "name": "stderr"
        },
        {
          "output_type": "stream",
          "text": [
            "Reconstruction MSE error for snapshot 948: 0.000013\n",
            "torch.Size([3571, 2])\n",
            "Reconstruction MSE error for snapshot 949: 0.000011\n",
            "torch.Size([3571, 2])\n",
            "Reconstruction MSE error for snapshot 950: 0.000012\n",
            "torch.Size([3571, 2])\n",
            "Reconstruction MSE error for snapshot 951: 0.000016\n",
            "torch.Size([3571, 2])\n",
            "Reconstruction MSE error for snapshot 952: 0.000011\n",
            "torch.Size([3571, 2])\n",
            "Reconstruction MSE error for snapshot 953: 0.000009\n",
            "torch.Size([3571, 2])\n"
          ],
          "name": "stdout"
        },
        {
          "output_type": "stream",
          "text": [
            " 48% (960 of 2000) |##########           | Elapsed Time: 0:00:32 ETA:   0:00:36"
          ],
          "name": "stderr"
        },
        {
          "output_type": "stream",
          "text": [
            "Reconstruction MSE error for snapshot 954: 0.000011\n",
            "torch.Size([3571, 2])\n",
            "Reconstruction MSE error for snapshot 955: 0.000016\n",
            "torch.Size([3571, 2])\n",
            "Reconstruction MSE error for snapshot 956: 0.000012\n",
            "torch.Size([3571, 2])\n",
            "Reconstruction MSE error for snapshot 957: 0.000010\n",
            "torch.Size([3571, 2])\n",
            "Reconstruction MSE error for snapshot 958: 0.000013\n",
            "torch.Size([3571, 2])\n",
            "Reconstruction MSE error for snapshot 959: 0.000018\n",
            "torch.Size([3571, 2])\n"
          ],
          "name": "stdout"
        },
        {
          "output_type": "stream",
          "text": [
            " 48% (966 of 2000) |##########           | Elapsed Time: 0:00:32 ETA:   0:00:36"
          ],
          "name": "stderr"
        },
        {
          "output_type": "stream",
          "text": [
            "Reconstruction MSE error for snapshot 960: 0.000021\n",
            "torch.Size([3571, 2])\n",
            "Reconstruction MSE error for snapshot 961: 0.000020\n",
            "torch.Size([3571, 2])\n",
            "Reconstruction MSE error for snapshot 962: 0.000018\n",
            "torch.Size([3571, 2])\n",
            "Reconstruction MSE error for snapshot 963: 0.000016\n",
            "torch.Size([3571, 2])\n",
            "Reconstruction MSE error for snapshot 964: 0.000015\n",
            "torch.Size([3571, 2])\n",
            "Reconstruction MSE error for snapshot 965: 0.000019\n",
            "torch.Size([3571, 2])\n"
          ],
          "name": "stdout"
        },
        {
          "output_type": "stream",
          "text": [
            " 48% (972 of 2000) |##########           | Elapsed Time: 0:00:33 ETA:   0:00:35"
          ],
          "name": "stderr"
        },
        {
          "output_type": "stream",
          "text": [
            "Reconstruction MSE error for snapshot 966: 0.000022\n",
            "torch.Size([3571, 2])\n",
            "Reconstruction MSE error for snapshot 967: 0.000017\n",
            "torch.Size([3571, 2])\n",
            "Reconstruction MSE error for snapshot 968: 0.000018\n",
            "torch.Size([3571, 2])\n",
            "Reconstruction MSE error for snapshot 969: 0.000015\n",
            "torch.Size([3571, 2])\n",
            "Reconstruction MSE error for snapshot 970: 0.000014\n",
            "torch.Size([3571, 2])\n",
            "Reconstruction MSE error for snapshot 971: 0.000029\n",
            "torch.Size([3571, 2])\n"
          ],
          "name": "stdout"
        },
        {
          "output_type": "stream",
          "text": [
            " 48% (978 of 2000) |##########           | Elapsed Time: 0:00:33 ETA:   0:00:35"
          ],
          "name": "stderr"
        },
        {
          "output_type": "stream",
          "text": [
            "Reconstruction MSE error for snapshot 972: 0.000012\n",
            "torch.Size([3571, 2])\n",
            "Reconstruction MSE error for snapshot 973: 0.000013\n",
            "torch.Size([3571, 2])\n",
            "Reconstruction MSE error for snapshot 974: 0.000014\n",
            "torch.Size([3571, 2])\n",
            "Reconstruction MSE error for snapshot 975: 0.000019\n",
            "torch.Size([3571, 2])\n",
            "Reconstruction MSE error for snapshot 976: 0.000016\n",
            "torch.Size([3571, 2])\n",
            "Reconstruction MSE error for snapshot 977: 0.000018\n",
            "torch.Size([3571, 2])\n"
          ],
          "name": "stdout"
        },
        {
          "output_type": "stream",
          "text": [
            " 49% (984 of 2000) |##########           | Elapsed Time: 0:00:33 ETA:   0:00:35"
          ],
          "name": "stderr"
        },
        {
          "output_type": "stream",
          "text": [
            "Reconstruction MSE error for snapshot 978: 0.000022\n",
            "torch.Size([3571, 2])\n",
            "Reconstruction MSE error for snapshot 979: 0.000018\n",
            "torch.Size([3571, 2])\n",
            "Reconstruction MSE error for snapshot 980: 0.000017\n",
            "torch.Size([3571, 2])\n",
            "Reconstruction MSE error for snapshot 981: 0.000015\n",
            "torch.Size([3571, 2])\n",
            "Reconstruction MSE error for snapshot 982: 0.000014\n",
            "torch.Size([3571, 2])\n",
            "Reconstruction MSE error for snapshot 983: 0.000014\n",
            "torch.Size([3571, 2])\n"
          ],
          "name": "stdout"
        },
        {
          "output_type": "stream",
          "text": [
            " 49% (990 of 2000) |##########           | Elapsed Time: 0:00:33 ETA:   0:00:35"
          ],
          "name": "stderr"
        },
        {
          "output_type": "stream",
          "text": [
            "Reconstruction MSE error for snapshot 984: 0.000017\n",
            "torch.Size([3571, 2])\n",
            "Reconstruction MSE error for snapshot 985: 0.000014\n",
            "torch.Size([3571, 2])\n",
            "Reconstruction MSE error for snapshot 986: 0.000014\n",
            "torch.Size([3571, 2])\n",
            "Reconstruction MSE error for snapshot 987: 0.000017\n",
            "torch.Size([3571, 2])\n",
            "Reconstruction MSE error for snapshot 988: 0.000015\n",
            "torch.Size([3571, 2])\n",
            "Reconstruction MSE error for snapshot 989: 0.000018\n",
            "torch.Size([3571, 2])\n"
          ],
          "name": "stdout"
        },
        {
          "output_type": "stream",
          "text": [
            " 49% (996 of 2000) |##########           | Elapsed Time: 0:00:33 ETA:   0:00:35"
          ],
          "name": "stderr"
        },
        {
          "output_type": "stream",
          "text": [
            "Reconstruction MSE error for snapshot 990: 0.000014\n",
            "torch.Size([3571, 2])\n",
            "Reconstruction MSE error for snapshot 991: 0.000014\n",
            "torch.Size([3571, 2])\n",
            "Reconstruction MSE error for snapshot 992: 0.000012\n",
            "torch.Size([3571, 2])\n",
            "Reconstruction MSE error for snapshot 993: 0.000012\n",
            "torch.Size([3571, 2])\n",
            "Reconstruction MSE error for snapshot 994: 0.000015\n",
            "torch.Size([3571, 2])\n",
            "Reconstruction MSE error for snapshot 995: 0.000016\n",
            "torch.Size([3571, 2])\n"
          ],
          "name": "stdout"
        },
        {
          "output_type": "stream",
          "text": [
            " 50% (1002 of 2000) |##########          | Elapsed Time: 0:00:34 ETA:   0:00:34"
          ],
          "name": "stderr"
        },
        {
          "output_type": "stream",
          "text": [
            "Reconstruction MSE error for snapshot 996: 0.000013\n",
            "torch.Size([3571, 2])\n",
            "Reconstruction MSE error for snapshot 997: 0.000015\n",
            "torch.Size([3571, 2])\n",
            "Reconstruction MSE error for snapshot 998: 0.000011\n",
            "torch.Size([3571, 2])\n",
            "Reconstruction MSE error for snapshot 999: 0.000011\n",
            "torch.Size([3571, 2])\n",
            "Reconstruction MSE error for snapshot 1000: 0.000015\n",
            "torch.Size([3571, 2])\n",
            "Reconstruction MSE error for snapshot 1001: 0.000009\n",
            "torch.Size([3571, 2])\n"
          ],
          "name": "stdout"
        },
        {
          "output_type": "stream",
          "text": [
            " 50% (1008 of 2000) |##########          | Elapsed Time: 0:00:34 ETA:   0:00:34"
          ],
          "name": "stderr"
        },
        {
          "output_type": "stream",
          "text": [
            "Reconstruction MSE error for snapshot 1002: 0.000007\n",
            "torch.Size([3571, 2])\n",
            "Reconstruction MSE error for snapshot 1003: 0.000008\n",
            "torch.Size([3571, 2])\n",
            "Reconstruction MSE error for snapshot 1004: 0.000010\n",
            "torch.Size([3571, 2])\n",
            "Reconstruction MSE error for snapshot 1005: 0.000009\n",
            "torch.Size([3571, 2])\n",
            "Reconstruction MSE error for snapshot 1006: 0.000007\n",
            "torch.Size([3571, 2])\n",
            "Reconstruction MSE error for snapshot 1007: 0.000009\n",
            "torch.Size([3571, 2])\n"
          ],
          "name": "stdout"
        },
        {
          "output_type": "stream",
          "text": [
            " 50% (1013 of 2000) |##########          | Elapsed Time: 0:00:34 ETA:   0:00:34"
          ],
          "name": "stderr"
        },
        {
          "output_type": "stream",
          "text": [
            "Reconstruction MSE error for snapshot 1008: 0.000009\n",
            "torch.Size([3571, 2])\n",
            "Reconstruction MSE error for snapshot 1009: 0.000008\n",
            "torch.Size([3571, 2])\n",
            "Reconstruction MSE error for snapshot 1010: 0.000011\n",
            "torch.Size([3571, 2])\n",
            "Reconstruction MSE error for snapshot 1011: 0.000010\n",
            "torch.Size([3571, 2])\n",
            "Reconstruction MSE error for snapshot 1012: 0.000010\n",
            "torch.Size([3571, 2])\n",
            "Reconstruction MSE error for snapshot 1013: 0.000010\n",
            "torch.Size([3571, 2])\n"
          ],
          "name": "stdout"
        },
        {
          "output_type": "stream",
          "text": [
            " 50% (1019 of 2000) |##########          | Elapsed Time: 0:00:34 ETA:   0:00:34"
          ],
          "name": "stderr"
        },
        {
          "output_type": "stream",
          "text": [
            "Reconstruction MSE error for snapshot 1014: 0.000010\n",
            "torch.Size([3571, 2])\n",
            "Reconstruction MSE error for snapshot 1015: 0.000011\n",
            "torch.Size([3571, 2])\n",
            "Reconstruction MSE error for snapshot 1016: 0.000010\n",
            "torch.Size([3571, 2])\n",
            "Reconstruction MSE error for snapshot 1017: 0.000010\n",
            "torch.Size([3571, 2])\n",
            "Reconstruction MSE error for snapshot 1018: 0.000010\n",
            "torch.Size([3571, 2])\n",
            "Reconstruction MSE error for snapshot 1019: 0.000011\n",
            "torch.Size([3571, 2])\n"
          ],
          "name": "stdout"
        },
        {
          "output_type": "stream",
          "text": [
            " 51% (1025 of 2000) |##########          | Elapsed Time: 0:00:34 ETA:   0:00:34"
          ],
          "name": "stderr"
        },
        {
          "output_type": "stream",
          "text": [
            "Reconstruction MSE error for snapshot 1020: 0.000007\n",
            "torch.Size([3571, 2])\n",
            "Reconstruction MSE error for snapshot 1021: 0.000006\n",
            "torch.Size([3571, 2])\n",
            "Reconstruction MSE error for snapshot 1022: 0.000006\n",
            "torch.Size([3571, 2])\n",
            "Reconstruction MSE error for snapshot 1023: 0.000006\n",
            "torch.Size([3571, 2])\n",
            "Reconstruction MSE error for snapshot 1024: 0.000007\n",
            "torch.Size([3571, 2])\n",
            "Reconstruction MSE error for snapshot 1025: 0.000007\n",
            "torch.Size([3571, 2])\n"
          ],
          "name": "stdout"
        },
        {
          "output_type": "stream",
          "text": [
            " 51% (1031 of 2000) |##########          | Elapsed Time: 0:00:35 ETA:   0:00:33"
          ],
          "name": "stderr"
        },
        {
          "output_type": "stream",
          "text": [
            "Reconstruction MSE error for snapshot 1026: 0.000006\n",
            "torch.Size([3571, 2])\n",
            "Reconstruction MSE error for snapshot 1027: 0.000007\n",
            "torch.Size([3571, 2])\n",
            "Reconstruction MSE error for snapshot 1028: 0.000006\n",
            "torch.Size([3571, 2])\n",
            "Reconstruction MSE error for snapshot 1029: 0.000007\n",
            "torch.Size([3571, 2])\n",
            "Reconstruction MSE error for snapshot 1030: 0.000007\n",
            "torch.Size([3571, 2])\n",
            "Reconstruction MSE error for snapshot 1031: 0.000008\n",
            "torch.Size([3571, 2])\n"
          ],
          "name": "stdout"
        },
        {
          "output_type": "stream",
          "text": [
            " 51% (1037 of 2000) |##########          | Elapsed Time: 0:00:35 ETA:   0:00:33"
          ],
          "name": "stderr"
        },
        {
          "output_type": "stream",
          "text": [
            "Reconstruction MSE error for snapshot 1032: 0.000006\n",
            "torch.Size([3571, 2])\n",
            "Reconstruction MSE error for snapshot 1033: 0.000007\n",
            "torch.Size([3571, 2])\n",
            "Reconstruction MSE error for snapshot 1034: 0.000008\n",
            "torch.Size([3571, 2])\n",
            "Reconstruction MSE error for snapshot 1035: 0.000012\n",
            "torch.Size([3571, 2])\n",
            "Reconstruction MSE error for snapshot 1036: 0.000008\n",
            "torch.Size([3571, 2])\n",
            "Reconstruction MSE error for snapshot 1037: 0.000007\n",
            "torch.Size([3571, 2])\n"
          ],
          "name": "stdout"
        },
        {
          "output_type": "stream",
          "text": [
            " 52% (1043 of 2000) |##########          | Elapsed Time: 0:00:35 ETA:   0:00:33"
          ],
          "name": "stderr"
        },
        {
          "output_type": "stream",
          "text": [
            "Reconstruction MSE error for snapshot 1038: 0.000006\n",
            "torch.Size([3571, 2])\n",
            "Reconstruction MSE error for snapshot 1039: 0.000006\n",
            "torch.Size([3571, 2])\n",
            "Reconstruction MSE error for snapshot 1040: 0.000007\n",
            "torch.Size([3571, 2])\n",
            "Reconstruction MSE error for snapshot 1041: 0.000008\n",
            "torch.Size([3571, 2])\n",
            "Reconstruction MSE error for snapshot 1042: 0.000012\n",
            "torch.Size([3571, 2])\n",
            "Reconstruction MSE error for snapshot 1043: 0.000012\n",
            "torch.Size([3571, 2])\n"
          ],
          "name": "stdout"
        },
        {
          "output_type": "stream",
          "text": [
            " 52% (1049 of 2000) |##########          | Elapsed Time: 0:00:35 ETA:   0:00:33"
          ],
          "name": "stderr"
        },
        {
          "output_type": "stream",
          "text": [
            "Reconstruction MSE error for snapshot 1044: 0.000008\n",
            "torch.Size([3571, 2])\n",
            "Reconstruction MSE error for snapshot 1045: 0.000008\n",
            "torch.Size([3571, 2])\n",
            "Reconstruction MSE error for snapshot 1046: 0.000007\n",
            "torch.Size([3571, 2])\n",
            "Reconstruction MSE error for snapshot 1047: 0.000007\n",
            "torch.Size([3571, 2])\n",
            "Reconstruction MSE error for snapshot 1048: 0.000007\n",
            "torch.Size([3571, 2])\n",
            "Reconstruction MSE error for snapshot 1049: 0.000007\n",
            "torch.Size([3571, 2])\n"
          ],
          "name": "stdout"
        },
        {
          "output_type": "stream",
          "text": [
            " 52% (1056 of 2000) |##########          | Elapsed Time: 0:00:35 ETA:   0:00:32"
          ],
          "name": "stderr"
        },
        {
          "output_type": "stream",
          "text": [
            "Reconstruction MSE error for snapshot 1050: 0.000007\n",
            "torch.Size([3571, 2])\n",
            "Reconstruction MSE error for snapshot 1051: 0.000010\n",
            "torch.Size([3571, 2])\n",
            "Reconstruction MSE error for snapshot 1052: 0.000009\n",
            "torch.Size([3571, 2])\n",
            "Reconstruction MSE error for snapshot 1053: 0.000014\n",
            "torch.Size([3571, 2])\n",
            "Reconstruction MSE error for snapshot 1054: 0.000010\n",
            "torch.Size([3571, 2])\n",
            "Reconstruction MSE error for snapshot 1055: 0.000010\n",
            "torch.Size([3571, 2])\n",
            "Reconstruction MSE error for snapshot 1056: 0.000014\n"
          ],
          "name": "stdout"
        },
        {
          "output_type": "stream",
          "text": [
            " 53% (1062 of 2000) |##########          | Elapsed Time: 0:00:36 ETA:   0:00:32"
          ],
          "name": "stderr"
        },
        {
          "output_type": "stream",
          "text": [
            "torch.Size([3571, 2])\n",
            "Reconstruction MSE error for snapshot 1057: 0.000009\n",
            "torch.Size([3571, 2])\n",
            "Reconstruction MSE error for snapshot 1058: 0.000009\n",
            "torch.Size([3571, 2])\n",
            "Reconstruction MSE error for snapshot 1059: 0.000009\n",
            "torch.Size([3571, 2])\n",
            "Reconstruction MSE error for snapshot 1060: 0.000011\n",
            "torch.Size([3571, 2])\n",
            "Reconstruction MSE error for snapshot 1061: 0.000011\n",
            "torch.Size([3571, 2])\n"
          ],
          "name": "stdout"
        },
        {
          "output_type": "stream",
          "text": [
            " 53% (1067 of 2000) |##########          | Elapsed Time: 0:00:36 ETA:   0:00:32"
          ],
          "name": "stderr"
        },
        {
          "output_type": "stream",
          "text": [
            "Reconstruction MSE error for snapshot 1062: 0.000008\n",
            "torch.Size([3571, 2])\n",
            "Reconstruction MSE error for snapshot 1063: 0.000007\n",
            "torch.Size([3571, 2])\n",
            "Reconstruction MSE error for snapshot 1064: 0.000007\n",
            "torch.Size([3571, 2])\n",
            "Reconstruction MSE error for snapshot 1065: 0.000012\n",
            "torch.Size([3571, 2])\n",
            "Reconstruction MSE error for snapshot 1066: 0.000006\n",
            "torch.Size([3571, 2])\n",
            "Reconstruction MSE error for snapshot 1067: 0.000007\n",
            "torch.Size([3571, 2])\n"
          ],
          "name": "stdout"
        },
        {
          "output_type": "stream",
          "text": [
            " 53% (1074 of 2000) |##########          | Elapsed Time: 0:00:36 ETA:   0:00:31"
          ],
          "name": "stderr"
        },
        {
          "output_type": "stream",
          "text": [
            "Reconstruction MSE error for snapshot 1068: 0.000007\n",
            "torch.Size([3571, 2])\n",
            "Reconstruction MSE error for snapshot 1069: 0.000008\n",
            "torch.Size([3571, 2])\n",
            "Reconstruction MSE error for snapshot 1070: 0.000009\n",
            "torch.Size([3571, 2])\n",
            "Reconstruction MSE error for snapshot 1071: 0.000007\n",
            "torch.Size([3571, 2])\n",
            "Reconstruction MSE error for snapshot 1072: 0.000007\n",
            "torch.Size([3571, 2])\n",
            "Reconstruction MSE error for snapshot 1073: 0.000006\n",
            "torch.Size([3571, 2])\n",
            "Reconstruction MSE error for snapshot 1074: 0.000007\n",
            "torch.Size([3571, 2])\n"
          ],
          "name": "stdout"
        },
        {
          "output_type": "stream",
          "text": [
            " 54% (1080 of 2000) |##########          | Elapsed Time: 0:00:36 ETA:   0:00:31"
          ],
          "name": "stderr"
        },
        {
          "output_type": "stream",
          "text": [
            "Reconstruction MSE error for snapshot 1075: 0.000006\n",
            "torch.Size([3571, 2])\n",
            "Reconstruction MSE error for snapshot 1076: 0.000009\n",
            "torch.Size([3571, 2])\n",
            "Reconstruction MSE error for snapshot 1077: 0.000008\n",
            "torch.Size([3571, 2])\n",
            "Reconstruction MSE error for snapshot 1078: 0.000006\n",
            "torch.Size([3571, 2])\n",
            "Reconstruction MSE error for snapshot 1079: 0.000008\n",
            "torch.Size([3571, 2])\n",
            "Reconstruction MSE error for snapshot 1080: 0.000012\n",
            "torch.Size([3571, 2])\n"
          ],
          "name": "stdout"
        },
        {
          "output_type": "stream",
          "text": [
            " 54% (1086 of 2000) |##########          | Elapsed Time: 0:00:37 ETA:   0:00:31"
          ],
          "name": "stderr"
        },
        {
          "output_type": "stream",
          "text": [
            "Reconstruction MSE error for snapshot 1081: 0.000006\n",
            "torch.Size([3571, 2])\n",
            "Reconstruction MSE error for snapshot 1082: 0.000007\n",
            "torch.Size([3571, 2])\n",
            "Reconstruction MSE error for snapshot 1083: 0.000016\n",
            "torch.Size([3571, 2])\n",
            "Reconstruction MSE error for snapshot 1084: 0.000008\n",
            "torch.Size([3571, 2])\n",
            "Reconstruction MSE error for snapshot 1085: 0.000007\n",
            "torch.Size([3571, 2])\n",
            "Reconstruction MSE error for snapshot 1086: 0.000007\n",
            "torch.Size([3571, 2])\n"
          ],
          "name": "stdout"
        },
        {
          "output_type": "stream",
          "text": [
            " 54% (1092 of 2000) |##########          | Elapsed Time: 0:00:37 ETA:   0:00:31"
          ],
          "name": "stderr"
        },
        {
          "output_type": "stream",
          "text": [
            "Reconstruction MSE error for snapshot 1087: 0.000009\n",
            "torch.Size([3571, 2])\n",
            "Reconstruction MSE error for snapshot 1088: 0.000009\n",
            "torch.Size([3571, 2])\n",
            "Reconstruction MSE error for snapshot 1089: 0.000011\n",
            "torch.Size([3571, 2])\n",
            "Reconstruction MSE error for snapshot 1090: 0.000015\n",
            "torch.Size([3571, 2])\n",
            "Reconstruction MSE error for snapshot 1091: 0.000009\n",
            "torch.Size([3571, 2])\n",
            "Reconstruction MSE error for snapshot 1092: 0.000008\n",
            "torch.Size([3571, 2])\n"
          ],
          "name": "stdout"
        },
        {
          "output_type": "stream",
          "text": [
            " 54% (1099 of 2000) |##########          | Elapsed Time: 0:00:37 ETA:   0:00:30"
          ],
          "name": "stderr"
        },
        {
          "output_type": "stream",
          "text": [
            "Reconstruction MSE error for snapshot 1093: 0.000010\n",
            "torch.Size([3571, 2])\n",
            "Reconstruction MSE error for snapshot 1094: 0.000009\n",
            "torch.Size([3571, 2])\n",
            "Reconstruction MSE error for snapshot 1095: 0.000007\n",
            "torch.Size([3571, 2])\n",
            "Reconstruction MSE error for snapshot 1096: 0.000007\n",
            "torch.Size([3571, 2])\n",
            "Reconstruction MSE error for snapshot 1097: 0.000007\n",
            "torch.Size([3571, 2])\n",
            "Reconstruction MSE error for snapshot 1098: 0.000007\n",
            "torch.Size([3571, 2])\n",
            "Reconstruction MSE error for snapshot 1099: 0.000006\n",
            "torch.Size([3571, 2])\n"
          ],
          "name": "stdout"
        },
        {
          "output_type": "stream",
          "text": [
            " 55% (1105 of 2000) |###########         | Elapsed Time: 0:00:37 ETA:   0:00:30"
          ],
          "name": "stderr"
        },
        {
          "output_type": "stream",
          "text": [
            "Reconstruction MSE error for snapshot 1100: 0.000007\n",
            "torch.Size([3571, 2])\n",
            "Reconstruction MSE error for snapshot 1101: 0.000007\n",
            "torch.Size([3571, 2])\n",
            "Reconstruction MSE error for snapshot 1102: 0.000007\n",
            "torch.Size([3571, 2])\n",
            "Reconstruction MSE error for snapshot 1103: 0.000006\n",
            "torch.Size([3571, 2])\n",
            "Reconstruction MSE error for snapshot 1104: 0.000006\n",
            "torch.Size([3571, 2])\n",
            "Reconstruction MSE error for snapshot 1105: 0.000007\n",
            "torch.Size([3571, 2])\n"
          ],
          "name": "stdout"
        },
        {
          "output_type": "stream",
          "text": [
            " 55% (1111 of 2000) |###########         | Elapsed Time: 0:00:37 ETA:   0:00:30"
          ],
          "name": "stderr"
        },
        {
          "output_type": "stream",
          "text": [
            "Reconstruction MSE error for snapshot 1106: 0.000008\n",
            "torch.Size([3571, 2])\n",
            "Reconstruction MSE error for snapshot 1107: 0.000006\n",
            "torch.Size([3571, 2])\n",
            "Reconstruction MSE error for snapshot 1108: 0.000006\n",
            "torch.Size([3571, 2])\n",
            "Reconstruction MSE error for snapshot 1109: 0.000007\n",
            "torch.Size([3571, 2])\n",
            "Reconstruction MSE error for snapshot 1110: 0.000007\n",
            "torch.Size([3571, 2])\n",
            "Reconstruction MSE error for snapshot 1111: 0.000007\n",
            "torch.Size([3571, 2])\n"
          ],
          "name": "stdout"
        },
        {
          "output_type": "stream",
          "text": [
            " 55% (1117 of 2000) |###########         | Elapsed Time: 0:00:38 ETA:   0:00:30"
          ],
          "name": "stderr"
        },
        {
          "output_type": "stream",
          "text": [
            "Reconstruction MSE error for snapshot 1112: 0.000007\n",
            "torch.Size([3571, 2])\n",
            "Reconstruction MSE error for snapshot 1113: 0.000006\n",
            "torch.Size([3571, 2])\n",
            "Reconstruction MSE error for snapshot 1114: 0.000007\n",
            "torch.Size([3571, 2])\n",
            "Reconstruction MSE error for snapshot 1115: 0.000006\n",
            "torch.Size([3571, 2])\n",
            "Reconstruction MSE error for snapshot 1116: 0.000010\n",
            "torch.Size([3571, 2])\n",
            "Reconstruction MSE error for snapshot 1117: 0.000009\n",
            "torch.Size([3571, 2])\n"
          ],
          "name": "stdout"
        },
        {
          "output_type": "stream",
          "text": [
            " 56% (1123 of 2000) |###########         | Elapsed Time: 0:00:38 ETA:   0:00:30"
          ],
          "name": "stderr"
        },
        {
          "output_type": "stream",
          "text": [
            "Reconstruction MSE error for snapshot 1118: 0.000009\n",
            "torch.Size([3571, 2])\n",
            "Reconstruction MSE error for snapshot 1119: 0.000010\n",
            "torch.Size([3571, 2])\n",
            "Reconstruction MSE error for snapshot 1120: 0.000010\n",
            "torch.Size([3571, 2])\n",
            "Reconstruction MSE error for snapshot 1121: 0.000007\n",
            "torch.Size([3571, 2])\n",
            "Reconstruction MSE error for snapshot 1122: 0.000013\n",
            "torch.Size([3571, 2])\n",
            "Reconstruction MSE error for snapshot 1123: 0.000006\n",
            "torch.Size([3571, 2])\n"
          ],
          "name": "stdout"
        },
        {
          "output_type": "stream",
          "text": [
            " 56% (1129 of 2000) |###########         | Elapsed Time: 0:00:38 ETA:   0:00:30"
          ],
          "name": "stderr"
        },
        {
          "output_type": "stream",
          "text": [
            "Reconstruction MSE error for snapshot 1124: 0.000006\n",
            "torch.Size([3571, 2])\n",
            "Reconstruction MSE error for snapshot 1125: 0.000009\n",
            "torch.Size([3571, 2])\n",
            "Reconstruction MSE error for snapshot 1126: 0.000010\n",
            "torch.Size([3571, 2])\n",
            "Reconstruction MSE error for snapshot 1127: 0.000008\n",
            "torch.Size([3571, 2])\n",
            "Reconstruction MSE error for snapshot 1128: 0.000011\n",
            "torch.Size([3571, 2])\n",
            "Reconstruction MSE error for snapshot 1129: 0.000013\n",
            "torch.Size([3571, 2])\n"
          ],
          "name": "stdout"
        },
        {
          "output_type": "stream",
          "text": [
            " 56% (1135 of 2000) |###########         | Elapsed Time: 0:00:38 ETA:   0:00:30"
          ],
          "name": "stderr"
        },
        {
          "output_type": "stream",
          "text": [
            "Reconstruction MSE error for snapshot 1130: 0.000009\n",
            "torch.Size([3571, 2])\n",
            "Reconstruction MSE error for snapshot 1131: 0.000016\n",
            "torch.Size([3571, 2])\n",
            "Reconstruction MSE error for snapshot 1132: 0.000015\n",
            "torch.Size([3571, 2])\n",
            "Reconstruction MSE error for snapshot 1133: 0.000009\n",
            "torch.Size([3571, 2])\n",
            "Reconstruction MSE error for snapshot 1134: 0.000008\n",
            "torch.Size([3571, 2])\n",
            "Reconstruction MSE error for snapshot 1135: 0.000009\n",
            "torch.Size([3571, 2])\n"
          ],
          "name": "stdout"
        },
        {
          "output_type": "stream",
          "text": [
            " 56% (1140 of 2000) |###########         | Elapsed Time: 0:00:38 ETA:   0:00:30"
          ],
          "name": "stderr"
        },
        {
          "output_type": "stream",
          "text": [
            "Reconstruction MSE error for snapshot 1136: 0.000008\n",
            "torch.Size([3571, 2])\n",
            "Reconstruction MSE error for snapshot 1137: 0.000008\n",
            "torch.Size([3571, 2])\n",
            "Reconstruction MSE error for snapshot 1138: 0.000011\n",
            "torch.Size([3571, 2])\n",
            "Reconstruction MSE error for snapshot 1139: 0.000009\n",
            "torch.Size([3571, 2])\n",
            "Reconstruction MSE error for snapshot 1140: 0.000011\n",
            "torch.Size([3571, 2])\n",
            "Reconstruction MSE error for snapshot 1141: 0.000006\n",
            "torch.Size([3571, 2])\n"
          ],
          "name": "stdout"
        },
        {
          "output_type": "stream",
          "text": [
            " 57% (1146 of 2000) |###########         | Elapsed Time: 0:00:39 ETA:   0:00:30"
          ],
          "name": "stderr"
        },
        {
          "output_type": "stream",
          "text": [
            "Reconstruction MSE error for snapshot 1142: 0.000007\n",
            "torch.Size([3571, 2])\n",
            "Reconstruction MSE error for snapshot 1143: 0.000008\n",
            "torch.Size([3571, 2])\n",
            "Reconstruction MSE error for snapshot 1144: 0.000008\n",
            "torch.Size([3571, 2])\n",
            "Reconstruction MSE error for snapshot 1145: 0.000008\n",
            "torch.Size([3571, 2])\n",
            "Reconstruction MSE error for snapshot 1146: 0.000008\n",
            "torch.Size([3571, 2])\n",
            "Reconstruction MSE error for snapshot 1147: 0.000009\n",
            "torch.Size([3571, 2])\n"
          ],
          "name": "stdout"
        },
        {
          "output_type": "stream",
          "text": [
            " 57% (1152 of 2000) |###########         | Elapsed Time: 0:00:39 ETA:   0:00:29"
          ],
          "name": "stderr"
        },
        {
          "output_type": "stream",
          "text": [
            "Reconstruction MSE error for snapshot 1148: 0.000008\n",
            "torch.Size([3571, 2])\n",
            "Reconstruction MSE error for snapshot 1149: 0.000006\n",
            "torch.Size([3571, 2])\n",
            "Reconstruction MSE error for snapshot 1150: 0.000006\n",
            "torch.Size([3571, 2])\n",
            "Reconstruction MSE error for snapshot 1151: 0.000009\n",
            "torch.Size([3571, 2])\n",
            "Reconstruction MSE error for snapshot 1152: 0.000007\n",
            "torch.Size([3571, 2])\n",
            "Reconstruction MSE error for snapshot 1153: 0.000006\n",
            "torch.Size([3571, 2])\n"
          ],
          "name": "stdout"
        },
        {
          "output_type": "stream",
          "text": [
            " 57% (1159 of 2000) |###########         | Elapsed Time: 0:00:39 ETA:   0:00:29"
          ],
          "name": "stderr"
        },
        {
          "output_type": "stream",
          "text": [
            "Reconstruction MSE error for snapshot 1154: 0.000006\n",
            "torch.Size([3571, 2])\n",
            "Reconstruction MSE error for snapshot 1155: 0.000014\n",
            "torch.Size([3571, 2])\n",
            "Reconstruction MSE error for snapshot 1156: 0.000007\n",
            "torch.Size([3571, 2])\n",
            "Reconstruction MSE error for snapshot 1157: 0.000009\n",
            "torch.Size([3571, 2])\n",
            "Reconstruction MSE error for snapshot 1158: 0.000024\n",
            "torch.Size([3571, 2])\n",
            "Reconstruction MSE error for snapshot 1159: 0.000008\n",
            "torch.Size([3571, 2])\n",
            "Reconstruction MSE error for snapshot 1160: 0.000008\n",
            "torch.Size([3571, 2])\n"
          ],
          "name": "stdout"
        },
        {
          "output_type": "stream",
          "text": [
            " 58% (1165 of 2000) |###########         | Elapsed Time: 0:00:39 ETA:   0:00:29"
          ],
          "name": "stderr"
        },
        {
          "output_type": "stream",
          "text": [
            "Reconstruction MSE error for snapshot 1161: 0.000009\n",
            "torch.Size([3571, 2])\n",
            "Reconstruction MSE error for snapshot 1162: 0.000009\n",
            "torch.Size([3571, 2])\n",
            "Reconstruction MSE error for snapshot 1163: 0.000010\n",
            "torch.Size([3571, 2])\n",
            "Reconstruction MSE error for snapshot 1164: 0.000009\n",
            "torch.Size([3571, 2])\n",
            "Reconstruction MSE error for snapshot 1165: 0.000015\n",
            "torch.Size([3571, 2])\n",
            "Reconstruction MSE error for snapshot 1166: 0.000012\n",
            "torch.Size([3571, 2])\n"
          ],
          "name": "stdout"
        },
        {
          "output_type": "stream",
          "text": [
            " 58% (1171 of 2000) |###########         | Elapsed Time: 0:00:39 ETA:   0:00:29"
          ],
          "name": "stderr"
        },
        {
          "output_type": "stream",
          "text": [
            "Reconstruction MSE error for snapshot 1167: 0.000009\n",
            "torch.Size([3571, 2])\n",
            "Reconstruction MSE error for snapshot 1168: 0.000011\n",
            "torch.Size([3571, 2])\n",
            "Reconstruction MSE error for snapshot 1169: 0.000011\n",
            "torch.Size([3571, 2])\n",
            "Reconstruction MSE error for snapshot 1170: 0.000009\n",
            "torch.Size([3571, 2])\n",
            "Reconstruction MSE error for snapshot 1171: 0.000006\n",
            "torch.Size([3571, 2])\n",
            "Reconstruction MSE error for snapshot 1172: 0.000006\n",
            "torch.Size([3571, 2])\n"
          ],
          "name": "stdout"
        },
        {
          "output_type": "stream",
          "text": [
            " 58% (1177 of 2000) |###########         | Elapsed Time: 0:00:40 ETA:   0:00:28"
          ],
          "name": "stderr"
        },
        {
          "output_type": "stream",
          "text": [
            "Reconstruction MSE error for snapshot 1173: 0.000006\n",
            "torch.Size([3571, 2])\n",
            "Reconstruction MSE error for snapshot 1174: 0.000006\n",
            "torch.Size([3571, 2])\n",
            "Reconstruction MSE error for snapshot 1175: 0.000008\n",
            "torch.Size([3571, 2])\n",
            "Reconstruction MSE error for snapshot 1176: 0.000006\n",
            "torch.Size([3571, 2])\n",
            "Reconstruction MSE error for snapshot 1177: 0.000006\n",
            "torch.Size([3571, 2])\n",
            "Reconstruction MSE error for snapshot 1178: 0.000007\n",
            "torch.Size([3571, 2])\n"
          ],
          "name": "stdout"
        },
        {
          "output_type": "stream",
          "text": [
            " 59% (1184 of 2000) |###########         | Elapsed Time: 0:00:40 ETA:   0:00:28"
          ],
          "name": "stderr"
        },
        {
          "output_type": "stream",
          "text": [
            "Reconstruction MSE error for snapshot 1179: 0.000006\n",
            "torch.Size([3571, 2])\n",
            "Reconstruction MSE error for snapshot 1180: 0.000006\n",
            "torch.Size([3571, 2])\n",
            "Reconstruction MSE error for snapshot 1181: 0.000007\n",
            "torch.Size([3571, 2])\n",
            "Reconstruction MSE error for snapshot 1182: 0.000007\n",
            "torch.Size([3571, 2])\n",
            "Reconstruction MSE error for snapshot 1183: 0.000006\n",
            "torch.Size([3571, 2])\n",
            "Reconstruction MSE error for snapshot 1184: 0.000008\n",
            "torch.Size([3571, 2])\n",
            "Reconstruction MSE error for snapshot 1185: 0.000008\n",
            "torch.Size([3571, 2])\n"
          ],
          "name": "stdout"
        },
        {
          "output_type": "stream",
          "text": [
            " 59% (1190 of 2000) |###########         | Elapsed Time: 0:00:40 ETA:   0:00:28"
          ],
          "name": "stderr"
        },
        {
          "output_type": "stream",
          "text": [
            "Reconstruction MSE error for snapshot 1186: 0.000011\n",
            "torch.Size([3571, 2])\n",
            "Reconstruction MSE error for snapshot 1187: 0.000008\n",
            "torch.Size([3571, 2])\n",
            "Reconstruction MSE error for snapshot 1188: 0.000006\n",
            "torch.Size([3571, 2])\n",
            "Reconstruction MSE error for snapshot 1189: 0.000006\n",
            "torch.Size([3571, 2])\n",
            "Reconstruction MSE error for snapshot 1190: 0.000006\n",
            "torch.Size([3571, 2])\n",
            "Reconstruction MSE error for snapshot 1191: 0.000010\n",
            "torch.Size([3571, 2])\n"
          ],
          "name": "stdout"
        },
        {
          "output_type": "stream",
          "text": [
            " 59% (1196 of 2000) |###########         | Elapsed Time: 0:00:40 ETA:   0:00:27"
          ],
          "name": "stderr"
        },
        {
          "output_type": "stream",
          "text": [
            "Reconstruction MSE error for snapshot 1192: 0.000008\n",
            "torch.Size([3571, 2])\n",
            "Reconstruction MSE error for snapshot 1193: 0.000012\n",
            "torch.Size([3571, 2])\n",
            "Reconstruction MSE error for snapshot 1194: 0.000015\n",
            "torch.Size([3571, 2])\n",
            "Reconstruction MSE error for snapshot 1195: 0.000008\n",
            "torch.Size([3571, 2])\n",
            "Reconstruction MSE error for snapshot 1196: 0.000007\n",
            "torch.Size([3571, 2])\n",
            "Reconstruction MSE error for snapshot 1197: 0.000020\n",
            "torch.Size([3571, 2])\n"
          ],
          "name": "stdout"
        },
        {
          "output_type": "stream",
          "text": [
            " 60% (1202 of 2000) |############        | Elapsed Time: 0:00:41 ETA:   0:00:27"
          ],
          "name": "stderr"
        },
        {
          "output_type": "stream",
          "text": [
            "Reconstruction MSE error for snapshot 1198: 0.000006\n",
            "torch.Size([3571, 2])\n",
            "Reconstruction MSE error for snapshot 1199: 0.000006\n",
            "torch.Size([3571, 2])\n",
            "Reconstruction MSE error for snapshot 1200: 0.000007\n",
            "torch.Size([3571, 2])\n",
            "Reconstruction MSE error for snapshot 1201: 0.000008\n",
            "torch.Size([3571, 2])\n",
            "Reconstruction MSE error for snapshot 1202: 0.000008\n",
            "torch.Size([3571, 2])\n",
            "Reconstruction MSE error for snapshot 1203: 0.000008\n",
            "torch.Size([3571, 2])\n"
          ],
          "name": "stdout"
        },
        {
          "output_type": "stream",
          "text": [
            " 60% (1208 of 2000) |############        | Elapsed Time: 0:00:41 ETA:   0:00:27"
          ],
          "name": "stderr"
        },
        {
          "output_type": "stream",
          "text": [
            "Reconstruction MSE error for snapshot 1204: 0.000012\n",
            "torch.Size([3571, 2])\n",
            "Reconstruction MSE error for snapshot 1205: 0.000011\n",
            "torch.Size([3571, 2])\n",
            "Reconstruction MSE error for snapshot 1206: 0.000009\n",
            "torch.Size([3571, 2])\n",
            "Reconstruction MSE error for snapshot 1207: 0.000010\n",
            "torch.Size([3571, 2])\n",
            "Reconstruction MSE error for snapshot 1208: 0.000010\n",
            "torch.Size([3571, 2])\n",
            "Reconstruction MSE error for snapshot 1209: 0.000009\n",
            "torch.Size([3571, 2])\n",
            "Reconstruction MSE error for snapshot 1210: 0.000008\n",
            "torch.Size([3571, 2])\n"
          ],
          "name": "stdout"
        },
        {
          "output_type": "stream",
          "text": [
            " 60% (1215 of 2000) |############        | Elapsed Time: 0:00:41 ETA:   0:00:26"
          ],
          "name": "stderr"
        },
        {
          "output_type": "stream",
          "text": [
            "Reconstruction MSE error for snapshot 1211: 0.000009\n",
            "torch.Size([3571, 2])\n",
            "Reconstruction MSE error for snapshot 1212: 0.000009\n",
            "torch.Size([3571, 2])\n",
            "Reconstruction MSE error for snapshot 1213: 0.000010\n",
            "torch.Size([3571, 2])\n",
            "Reconstruction MSE error for snapshot 1214: 0.000007\n",
            "torch.Size([3571, 2])\n",
            "Reconstruction MSE error for snapshot 1215: 0.000008\n",
            "torch.Size([3571, 2])\n",
            "Reconstruction MSE error for snapshot 1216: 0.000007\n",
            "torch.Size([3571, 2])\n"
          ],
          "name": "stdout"
        },
        {
          "output_type": "stream",
          "text": [
            " 61% (1221 of 2000) |############        | Elapsed Time: 0:00:41 ETA:   0:00:26"
          ],
          "name": "stderr"
        },
        {
          "output_type": "stream",
          "text": [
            "Reconstruction MSE error for snapshot 1217: 0.000007\n",
            "torch.Size([3571, 2])\n",
            "Reconstruction MSE error for snapshot 1218: 0.000007\n",
            "torch.Size([3571, 2])\n",
            "Reconstruction MSE error for snapshot 1219: 0.000007\n",
            "torch.Size([3571, 2])\n",
            "Reconstruction MSE error for snapshot 1220: 0.000007\n",
            "torch.Size([3571, 2])\n",
            "Reconstruction MSE error for snapshot 1221: 0.000007\n",
            "torch.Size([3571, 2])\n",
            "Reconstruction MSE error for snapshot 1222: 0.000007\n",
            "torch.Size([3571, 2])\n"
          ],
          "name": "stdout"
        },
        {
          "output_type": "stream",
          "text": [
            " 61% (1227 of 2000) |############        | Elapsed Time: 0:00:41 ETA:   0:00:26"
          ],
          "name": "stderr"
        },
        {
          "output_type": "stream",
          "text": [
            "Reconstruction MSE error for snapshot 1223: 0.000006\n",
            "torch.Size([3571, 2])\n",
            "Reconstruction MSE error for snapshot 1224: 0.000006\n",
            "torch.Size([3571, 2])\n",
            "Reconstruction MSE error for snapshot 1225: 0.000007\n",
            "torch.Size([3571, 2])\n",
            "Reconstruction MSE error for snapshot 1226: 0.000007\n",
            "torch.Size([3571, 2])\n",
            "Reconstruction MSE error for snapshot 1227: 0.000006\n",
            "torch.Size([3571, 2])\n",
            "Reconstruction MSE error for snapshot 1228: 0.000007\n",
            "torch.Size([3571, 2])\n"
          ],
          "name": "stdout"
        },
        {
          "output_type": "stream",
          "text": [
            " 61% (1233 of 2000) |############        | Elapsed Time: 0:00:42 ETA:   0:00:26"
          ],
          "name": "stderr"
        },
        {
          "output_type": "stream",
          "text": [
            "Reconstruction MSE error for snapshot 1229: 0.000006\n",
            "torch.Size([3571, 2])\n",
            "Reconstruction MSE error for snapshot 1230: 0.000010\n",
            "torch.Size([3571, 2])\n",
            "Reconstruction MSE error for snapshot 1231: 0.000008\n",
            "torch.Size([3571, 2])\n",
            "Reconstruction MSE error for snapshot 1232: 0.000007\n",
            "torch.Size([3571, 2])\n",
            "Reconstruction MSE error for snapshot 1233: 0.000007\n",
            "torch.Size([3571, 2])\n",
            "Reconstruction MSE error for snapshot 1234: 0.000012\n",
            "torch.Size([3571, 2])\n"
          ],
          "name": "stdout"
        },
        {
          "output_type": "stream",
          "text": [
            " 62% (1240 of 2000) |############        | Elapsed Time: 0:00:42 ETA:   0:00:25"
          ],
          "name": "stderr"
        },
        {
          "output_type": "stream",
          "text": [
            "Reconstruction MSE error for snapshot 1235: 0.000009\n",
            "torch.Size([3571, 2])\n",
            "Reconstruction MSE error for snapshot 1236: 0.000008\n",
            "torch.Size([3571, 2])\n",
            "Reconstruction MSE error for snapshot 1237: 0.000009\n",
            "torch.Size([3571, 2])\n",
            "Reconstruction MSE error for snapshot 1238: 0.000008\n",
            "torch.Size([3571, 2])\n",
            "Reconstruction MSE error for snapshot 1239: 0.000011\n",
            "torch.Size([3571, 2])\n",
            "Reconstruction MSE error for snapshot 1240: 0.000010\n",
            "torch.Size([3571, 2])\n",
            "Reconstruction MSE error for snapshot 1241: 0.000017\n",
            "torch.Size([3571, 2])\n"
          ],
          "name": "stdout"
        },
        {
          "output_type": "stream",
          "text": [
            " 62% (1246 of 2000) |############        | Elapsed Time: 0:00:42 ETA:   0:00:25"
          ],
          "name": "stderr"
        },
        {
          "output_type": "stream",
          "text": [
            "Reconstruction MSE error for snapshot 1242: 0.000010\n",
            "torch.Size([3571, 2])\n",
            "Reconstruction MSE error for snapshot 1243: 0.000007\n",
            "torch.Size([3571, 2])\n",
            "Reconstruction MSE error for snapshot 1244: 0.000008\n",
            "torch.Size([3571, 2])\n",
            "Reconstruction MSE error for snapshot 1245: 0.000010\n",
            "torch.Size([3571, 2])\n",
            "Reconstruction MSE error for snapshot 1246: 0.000007\n",
            "torch.Size([3571, 2])\n",
            "Reconstruction MSE error for snapshot 1247: 0.000006\n",
            "torch.Size([3571, 2])\n"
          ],
          "name": "stdout"
        },
        {
          "output_type": "stream",
          "text": [
            " 62% (1252 of 2000) |############        | Elapsed Time: 0:00:42 ETA:   0:00:25"
          ],
          "name": "stderr"
        },
        {
          "output_type": "stream",
          "text": [
            "Reconstruction MSE error for snapshot 1248: 0.000007\n",
            "torch.Size([3571, 2])\n",
            "Reconstruction MSE error for snapshot 1249: 0.000008\n",
            "torch.Size([3571, 2])\n",
            "Reconstruction MSE error for snapshot 1250: 0.000007\n",
            "torch.Size([3571, 2])\n",
            "Reconstruction MSE error for snapshot 1251: 0.000007\n",
            "torch.Size([3571, 2])\n",
            "Reconstruction MSE error for snapshot 1252: 0.000006\n",
            "torch.Size([3571, 2])\n",
            "Reconstruction MSE error for snapshot 1253: 0.000006\n",
            "torch.Size([3571, 2])\n"
          ],
          "name": "stdout"
        },
        {
          "output_type": "stream",
          "text": [
            " 62% (1258 of 2000) |############        | Elapsed Time: 0:00:42 ETA:   0:00:25"
          ],
          "name": "stderr"
        },
        {
          "output_type": "stream",
          "text": [
            "Reconstruction MSE error for snapshot 1254: 0.000006\n",
            "torch.Size([3571, 2])\n",
            "Reconstruction MSE error for snapshot 1255: 0.000007\n",
            "torch.Size([3571, 2])\n",
            "Reconstruction MSE error for snapshot 1256: 0.000008\n",
            "torch.Size([3571, 2])\n",
            "Reconstruction MSE error for snapshot 1257: 0.000007\n",
            "torch.Size([3571, 2])\n",
            "Reconstruction MSE error for snapshot 1258: 0.000006\n",
            "torch.Size([3571, 2])\n",
            "Reconstruction MSE error for snapshot 1259: 0.000007\n",
            "torch.Size([3571, 2])\n"
          ],
          "name": "stdout"
        },
        {
          "output_type": "stream",
          "text": [
            " 63% (1266 of 2000) |############        | Elapsed Time: 0:00:43 ETA:   0:00:25"
          ],
          "name": "stderr"
        },
        {
          "output_type": "stream",
          "text": [
            "Reconstruction MSE error for snapshot 1260: 0.000007\n",
            "torch.Size([3571, 2])\n",
            "Reconstruction MSE error for snapshot 1261: 0.000008\n",
            "torch.Size([3571, 2])\n",
            "Reconstruction MSE error for snapshot 1262: 0.000007\n",
            "torch.Size([3571, 2])\n",
            "Reconstruction MSE error for snapshot 1263: 0.000006\n",
            "torch.Size([3571, 2])\n",
            "Reconstruction MSE error for snapshot 1264: 0.000006\n",
            "torch.Size([3571, 2])\n",
            "Reconstruction MSE error for snapshot 1265: 0.000006\n",
            "torch.Size([3571, 2])\n"
          ],
          "name": "stdout"
        },
        {
          "output_type": "stream",
          "text": [
            " 63% (1272 of 2000) |############        | Elapsed Time: 0:00:43 ETA:   0:00:25"
          ],
          "name": "stderr"
        },
        {
          "output_type": "stream",
          "text": [
            "Reconstruction MSE error for snapshot 1266: 0.000007\n",
            "torch.Size([3571, 2])\n",
            "Reconstruction MSE error for snapshot 1267: 0.000010\n",
            "torch.Size([3571, 2])\n",
            "Reconstruction MSE error for snapshot 1268: 0.000011\n",
            "torch.Size([3571, 2])\n",
            "Reconstruction MSE error for snapshot 1269: 0.000009\n",
            "torch.Size([3571, 2])\n",
            "Reconstruction MSE error for snapshot 1270: 0.000009\n",
            "torch.Size([3571, 2])\n",
            "Reconstruction MSE error for snapshot 1271: 0.000011\n",
            "torch.Size([3571, 2])\n"
          ],
          "name": "stdout"
        },
        {
          "output_type": "stream",
          "text": [
            " 63% (1278 of 2000) |############        | Elapsed Time: 0:00:43 ETA:   0:00:25"
          ],
          "name": "stderr"
        },
        {
          "output_type": "stream",
          "text": [
            "Reconstruction MSE error for snapshot 1272: 0.000008\n",
            "torch.Size([3571, 2])\n",
            "Reconstruction MSE error for snapshot 1273: 0.000007\n",
            "torch.Size([3571, 2])\n",
            "Reconstruction MSE error for snapshot 1274: 0.000006\n",
            "torch.Size([3571, 2])\n",
            "Reconstruction MSE error for snapshot 1275: 0.000007\n",
            "torch.Size([3571, 2])\n",
            "Reconstruction MSE error for snapshot 1276: 0.000008\n",
            "torch.Size([3571, 2])\n",
            "Reconstruction MSE error for snapshot 1277: 0.000014\n",
            "torch.Size([3571, 2])\n"
          ],
          "name": "stdout"
        },
        {
          "output_type": "stream",
          "text": [
            "\r                                                                               \r\r 64% (1281 of 2000) |############        | Elapsed Time: 0:00:43 ETA:   0:00:25"
          ],
          "name": "stderr"
        },
        {
          "output_type": "stream",
          "text": [
            "Reconstruction MSE error for snapshot 1278: 0.000008\n",
            "torch.Size([3571, 2])\n",
            "Reconstruction MSE error for snapshot 1279: 0.000012\n",
            "torch.Size([3571, 2])\n",
            "Reconstruction MSE error for snapshot 1280: 0.000010\n",
            "torch.Size([3571, 2])\n",
            "Reconstruction MSE error for snapshot 1281: 0.000010\n",
            "torch.Size([3571, 2])\n",
            "Reconstruction MSE error for snapshot 1282: 0.000014\n",
            "torch.Size([3571, 2])\n",
            "Reconstruction MSE error for snapshot 1283: 0.000010\n",
            "torch.Size([3571, 2])\n"
          ],
          "name": "stdout"
        },
        {
          "output_type": "stream",
          "text": [
            " 64% (1289 of 2000) |############        | Elapsed Time: 0:00:44 ETA:   0:00:24"
          ],
          "name": "stderr"
        },
        {
          "output_type": "stream",
          "text": [
            "Reconstruction MSE error for snapshot 1284: 0.000009\n",
            "torch.Size([3571, 2])\n",
            "Reconstruction MSE error for snapshot 1285: 0.000008\n",
            "torch.Size([3571, 2])\n",
            "Reconstruction MSE error for snapshot 1286: 0.000009\n",
            "torch.Size([3571, 2])\n",
            "Reconstruction MSE error for snapshot 1287: 0.000009\n",
            "torch.Size([3571, 2])\n",
            "Reconstruction MSE error for snapshot 1288: 0.000010\n",
            "torch.Size([3571, 2])\n",
            "Reconstruction MSE error for snapshot 1289: 0.000010\n",
            "torch.Size([3571, 2])\n"
          ],
          "name": "stdout"
        },
        {
          "output_type": "stream",
          "text": [
            " 64% (1296 of 2000) |############        | Elapsed Time: 0:00:44 ETA:   0:00:24"
          ],
          "name": "stderr"
        },
        {
          "output_type": "stream",
          "text": [
            "Reconstruction MSE error for snapshot 1290: 0.000009\n",
            "torch.Size([3571, 2])\n",
            "Reconstruction MSE error for snapshot 1291: 0.000011\n",
            "torch.Size([3571, 2])\n",
            "Reconstruction MSE error for snapshot 1292: 0.000006\n",
            "torch.Size([3571, 2])\n",
            "Reconstruction MSE error for snapshot 1293: 0.000006\n",
            "torch.Size([3571, 2])\n",
            "Reconstruction MSE error for snapshot 1294: 0.000008\n",
            "torch.Size([3571, 2])\n",
            "Reconstruction MSE error for snapshot 1295: 0.000007\n",
            "torch.Size([3571, 2])\n"
          ],
          "name": "stdout"
        },
        {
          "output_type": "stream",
          "text": [
            "\r                                                                               \r\r 64% (1299 of 2000) |############        | Elapsed Time: 0:00:44 ETA:   0:00:24"
          ],
          "name": "stderr"
        },
        {
          "output_type": "stream",
          "text": [
            "Reconstruction MSE error for snapshot 1296: 0.000008\n",
            "torch.Size([3571, 2])\n",
            "Reconstruction MSE error for snapshot 1297: 0.000008\n",
            "torch.Size([3571, 2])\n",
            "Reconstruction MSE error for snapshot 1298: 0.000013\n",
            "torch.Size([3571, 2])\n",
            "Reconstruction MSE error for snapshot 1299: 0.000007\n",
            "torch.Size([3571, 2])\n",
            "Reconstruction MSE error for snapshot 1300: 0.000006\n",
            "torch.Size([3571, 2])\n",
            "Reconstruction MSE error for snapshot 1301: 0.000006\n",
            "torch.Size([3571, 2])\n",
            "Reconstruction MSE error for snapshot 1302: 0.000007\n",
            "torch.Size([3571, 2])\n"
          ],
          "name": "stdout"
        },
        {
          "output_type": "stream",
          "text": [
            " 65% (1307 of 2000) |#############       | Elapsed Time: 0:00:44 ETA:   0:00:23"
          ],
          "name": "stderr"
        },
        {
          "output_type": "stream",
          "text": [
            "Reconstruction MSE error for snapshot 1303: 0.000006\n",
            "torch.Size([3571, 2])\n",
            "Reconstruction MSE error for snapshot 1304: 0.000006\n",
            "torch.Size([3571, 2])\n",
            "Reconstruction MSE error for snapshot 1305: 0.000007\n",
            "torch.Size([3571, 2])\n",
            "Reconstruction MSE error for snapshot 1306: 0.000008\n",
            "torch.Size([3571, 2])\n",
            "Reconstruction MSE error for snapshot 1307: 0.000007\n",
            "torch.Size([3571, 2])\n",
            "Reconstruction MSE error for snapshot 1308: 0.000007\n",
            "torch.Size([3571, 2])\n"
          ],
          "name": "stdout"
        },
        {
          "output_type": "stream",
          "text": [
            " 65% (1313 of 2000) |#############       | Elapsed Time: 0:00:44 ETA:   0:00:23"
          ],
          "name": "stderr"
        },
        {
          "output_type": "stream",
          "text": [
            "Reconstruction MSE error for snapshot 1309: 0.000013\n",
            "torch.Size([3571, 2])\n",
            "Reconstruction MSE error for snapshot 1310: 0.000008\n",
            "torch.Size([3571, 2])\n",
            "Reconstruction MSE error for snapshot 1311: 0.000008\n",
            "torch.Size([3571, 2])\n",
            "Reconstruction MSE error for snapshot 1312: 0.000009\n",
            "torch.Size([3571, 2])\n",
            "Reconstruction MSE error for snapshot 1313: 0.000009\n",
            "torch.Size([3571, 2])\n",
            "Reconstruction MSE error for snapshot 1314: 0.000010\n",
            "torch.Size([3571, 2])\n"
          ],
          "name": "stdout"
        },
        {
          "output_type": "stream",
          "text": [
            " 65% (1319 of 2000) |#############       | Elapsed Time: 0:00:45 ETA:   0:00:23"
          ],
          "name": "stderr"
        },
        {
          "output_type": "stream",
          "text": [
            "Reconstruction MSE error for snapshot 1315: 0.000010\n",
            "torch.Size([3571, 2])\n",
            "Reconstruction MSE error for snapshot 1316: 0.000019\n",
            "torch.Size([3571, 2])\n",
            "Reconstruction MSE error for snapshot 1317: 0.000010\n",
            "torch.Size([3571, 2])\n",
            "Reconstruction MSE error for snapshot 1318: 0.000008\n",
            "torch.Size([3571, 2])\n",
            "Reconstruction MSE error for snapshot 1319: 0.000013\n",
            "torch.Size([3571, 2])\n",
            "Reconstruction MSE error for snapshot 1320: 0.000009\n",
            "torch.Size([3571, 2])\n"
          ],
          "name": "stdout"
        },
        {
          "output_type": "stream",
          "text": [
            " 66% (1325 of 2000) |#############       | Elapsed Time: 0:00:45 ETA:   0:00:23"
          ],
          "name": "stderr"
        },
        {
          "output_type": "stream",
          "text": [
            "Reconstruction MSE error for snapshot 1321: 0.000007\n",
            "torch.Size([3571, 2])\n",
            "Reconstruction MSE error for snapshot 1322: 0.000006\n",
            "torch.Size([3571, 2])\n",
            "Reconstruction MSE error for snapshot 1323: 0.000006\n",
            "torch.Size([3571, 2])\n",
            "Reconstruction MSE error for snapshot 1324: 0.000006\n",
            "torch.Size([3571, 2])\n",
            "Reconstruction MSE error for snapshot 1325: 0.000007\n",
            "torch.Size([3571, 2])\n",
            "Reconstruction MSE error for snapshot 1326: 0.000008\n",
            "torch.Size([3571, 2])\n"
          ],
          "name": "stdout"
        },
        {
          "output_type": "stream",
          "text": [
            " 66% (1331 of 2000) |#############       | Elapsed Time: 0:00:45 ETA:   0:00:23"
          ],
          "name": "stderr"
        },
        {
          "output_type": "stream",
          "text": [
            "Reconstruction MSE error for snapshot 1327: 0.000006\n",
            "torch.Size([3571, 2])\n",
            "Reconstruction MSE error for snapshot 1328: 0.000006\n",
            "torch.Size([3571, 2])\n",
            "Reconstruction MSE error for snapshot 1329: 0.000006\n",
            "torch.Size([3571, 2])\n",
            "Reconstruction MSE error for snapshot 1330: 0.000006\n",
            "torch.Size([3571, 2])\n",
            "Reconstruction MSE error for snapshot 1331: 0.000007\n",
            "torch.Size([3571, 2])\n",
            "Reconstruction MSE error for snapshot 1332: 0.000008\n",
            "torch.Size([3571, 2])\n",
            "Reconstruction MSE error for snapshot 1333: 0.000006\n"
          ],
          "name": "stdout"
        },
        {
          "output_type": "stream",
          "text": [
            " 66% (1337 of 2000) |#############       | Elapsed Time: 0:00:45 ETA:   0:00:22"
          ],
          "name": "stderr"
        },
        {
          "output_type": "stream",
          "text": [
            "torch.Size([3571, 2])\n",
            "Reconstruction MSE error for snapshot 1334: 0.000007\n",
            "torch.Size([3571, 2])\n",
            "Reconstruction MSE error for snapshot 1335: 0.000008\n",
            "torch.Size([3571, 2])\n",
            "Reconstruction MSE error for snapshot 1336: 0.000009\n",
            "torch.Size([3571, 2])\n",
            "Reconstruction MSE error for snapshot 1337: 0.000009\n",
            "torch.Size([3571, 2])\n",
            "Reconstruction MSE error for snapshot 1338: 0.000009\n",
            "torch.Size([3571, 2])\n"
          ],
          "name": "stdout"
        },
        {
          "output_type": "stream",
          "text": [
            " 67% (1345 of 2000) |#############       | Elapsed Time: 0:00:45 ETA:   0:00:22"
          ],
          "name": "stderr"
        },
        {
          "output_type": "stream",
          "text": [
            "Reconstruction MSE error for snapshot 1339: 0.000007\n",
            "torch.Size([3571, 2])\n",
            "Reconstruction MSE error for snapshot 1340: 0.000006\n",
            "torch.Size([3571, 2])\n",
            "Reconstruction MSE error for snapshot 1341: 0.000007\n",
            "torch.Size([3571, 2])\n",
            "Reconstruction MSE error for snapshot 1342: 0.000009\n",
            "torch.Size([3571, 2])\n",
            "Reconstruction MSE error for snapshot 1343: 0.000008\n",
            "torch.Size([3571, 2])\n",
            "Reconstruction MSE error for snapshot 1344: 0.000009\n",
            "torch.Size([3571, 2])\n"
          ],
          "name": "stdout"
        },
        {
          "output_type": "stream",
          "text": [
            " 67% (1351 of 2000) |#############       | Elapsed Time: 0:00:46 ETA:   0:00:22"
          ],
          "name": "stderr"
        },
        {
          "output_type": "stream",
          "text": [
            "Reconstruction MSE error for snapshot 1345: 0.000008\n",
            "torch.Size([3571, 2])\n",
            "Reconstruction MSE error for snapshot 1346: 0.000010\n",
            "torch.Size([3571, 2])\n",
            "Reconstruction MSE error for snapshot 1347: 0.000008\n",
            "torch.Size([3571, 2])\n",
            "Reconstruction MSE error for snapshot 1348: 0.000009\n",
            "torch.Size([3571, 2])\n",
            "Reconstruction MSE error for snapshot 1349: 0.000006\n",
            "torch.Size([3571, 2])\n",
            "Reconstruction MSE error for snapshot 1350: 0.000006\n",
            "torch.Size([3571, 2])\n"
          ],
          "name": "stdout"
        },
        {
          "output_type": "stream",
          "text": [
            "\r                                                                               \r\r 67% (1354 of 2000) |#############       | Elapsed Time: 0:00:46 ETA:   0:00:22"
          ],
          "name": "stderr"
        },
        {
          "output_type": "stream",
          "text": [
            "Reconstruction MSE error for snapshot 1351: 0.000007\n",
            "torch.Size([3571, 2])\n",
            "Reconstruction MSE error for snapshot 1352: 0.000013\n",
            "torch.Size([3571, 2])\n",
            "Reconstruction MSE error for snapshot 1353: 0.000010\n",
            "torch.Size([3571, 2])\n",
            "Reconstruction MSE error for snapshot 1354: 0.000009\n",
            "torch.Size([3571, 2])\n",
            "Reconstruction MSE error for snapshot 1355: 0.000015\n",
            "torch.Size([3571, 2])\n",
            "Reconstruction MSE error for snapshot 1356: 0.000010\n",
            "torch.Size([3571, 2])\n"
          ],
          "name": "stdout"
        },
        {
          "output_type": "stream",
          "text": [
            " 68% (1361 of 2000) |#############       | Elapsed Time: 0:00:46 ETA:   0:00:22"
          ],
          "name": "stderr"
        },
        {
          "output_type": "stream",
          "text": [
            "Reconstruction MSE error for snapshot 1357: 0.000014\n",
            "torch.Size([3571, 2])\n",
            "Reconstruction MSE error for snapshot 1358: 0.000012\n",
            "torch.Size([3571, 2])\n",
            "Reconstruction MSE error for snapshot 1359: 0.000009\n",
            "torch.Size([3571, 2])\n",
            "Reconstruction MSE error for snapshot 1360: 0.000009\n",
            "torch.Size([3571, 2])\n",
            "Reconstruction MSE error for snapshot 1361: 0.000009\n",
            "torch.Size([3571, 2])\n",
            "Reconstruction MSE error for snapshot 1362: 0.000009\n",
            "torch.Size([3571, 2])\n"
          ],
          "name": "stdout"
        },
        {
          "output_type": "stream",
          "text": [
            " 68% (1368 of 2000) |#############       | Elapsed Time: 0:00:46 ETA:   0:00:21"
          ],
          "name": "stderr"
        },
        {
          "output_type": "stream",
          "text": [
            "Reconstruction MSE error for snapshot 1363: 0.000008\n",
            "torch.Size([3571, 2])\n",
            "Reconstruction MSE error for snapshot 1364: 0.000010\n",
            "torch.Size([3571, 2])\n",
            "Reconstruction MSE error for snapshot 1365: 0.000007\n",
            "torch.Size([3571, 2])\n",
            "Reconstruction MSE error for snapshot 1366: 0.000011\n",
            "torch.Size([3571, 2])\n",
            "Reconstruction MSE error for snapshot 1367: 0.000006\n",
            "torch.Size([3571, 2])\n",
            "Reconstruction MSE error for snapshot 1368: 0.000007\n",
            "torch.Size([3571, 2])\n"
          ],
          "name": "stdout"
        },
        {
          "output_type": "stream",
          "text": [
            " 68% (1374 of 2000) |#############       | Elapsed Time: 0:00:46 ETA:   0:00:21"
          ],
          "name": "stderr"
        },
        {
          "output_type": "stream",
          "text": [
            "Reconstruction MSE error for snapshot 1369: 0.000007\n",
            "torch.Size([3571, 2])\n",
            "Reconstruction MSE error for snapshot 1370: 0.000007\n",
            "torch.Size([3571, 2])\n",
            "Reconstruction MSE error for snapshot 1371: 0.000008\n",
            "torch.Size([3571, 2])\n",
            "Reconstruction MSE error for snapshot 1372: 0.000007\n",
            "torch.Size([3571, 2])\n",
            "Reconstruction MSE error for snapshot 1373: 0.000008\n",
            "torch.Size([3571, 2])\n",
            "Reconstruction MSE error for snapshot 1374: 0.000007\n",
            "torch.Size([3571, 2])\n"
          ],
          "name": "stdout"
        },
        {
          "output_type": "stream",
          "text": [
            " 69% (1380 of 2000) |#############       | Elapsed Time: 0:00:47 ETA:   0:00:21"
          ],
          "name": "stderr"
        },
        {
          "output_type": "stream",
          "text": [
            "Reconstruction MSE error for snapshot 1375: 0.000009\n",
            "torch.Size([3571, 2])\n",
            "Reconstruction MSE error for snapshot 1376: 0.000007\n",
            "torch.Size([3571, 2])\n",
            "Reconstruction MSE error for snapshot 1377: 0.000009\n",
            "torch.Size([3571, 2])\n",
            "Reconstruction MSE error for snapshot 1378: 0.000006\n",
            "torch.Size([3571, 2])\n",
            "Reconstruction MSE error for snapshot 1379: 0.000006\n",
            "torch.Size([3571, 2])\n",
            "Reconstruction MSE error for snapshot 1380: 0.000008\n",
            "torch.Size([3571, 2])\n"
          ],
          "name": "stdout"
        },
        {
          "output_type": "stream",
          "text": [
            " 69% (1386 of 2000) |#############       | Elapsed Time: 0:00:47 ETA:   0:00:21"
          ],
          "name": "stderr"
        },
        {
          "output_type": "stream",
          "text": [
            "Reconstruction MSE error for snapshot 1381: 0.000007\n",
            "torch.Size([3571, 2])\n",
            "Reconstruction MSE error for snapshot 1382: 0.000007\n",
            "torch.Size([3571, 2])\n",
            "Reconstruction MSE error for snapshot 1383: 0.000008\n",
            "torch.Size([3571, 2])\n",
            "Reconstruction MSE error for snapshot 1384: 0.000011\n",
            "torch.Size([3571, 2])\n",
            "Reconstruction MSE error for snapshot 1385: 0.000008\n",
            "torch.Size([3571, 2])\n",
            "Reconstruction MSE error for snapshot 1386: 0.000007\n",
            "torch.Size([3571, 2])\n"
          ],
          "name": "stdout"
        },
        {
          "output_type": "stream",
          "text": [
            " 69% (1392 of 2000) |#############       | Elapsed Time: 0:00:47 ETA:   0:00:21"
          ],
          "name": "stderr"
        },
        {
          "output_type": "stream",
          "text": [
            "Reconstruction MSE error for snapshot 1387: 0.000009\n",
            "torch.Size([3571, 2])\n",
            "Reconstruction MSE error for snapshot 1388: 0.000008\n",
            "torch.Size([3571, 2])\n",
            "Reconstruction MSE error for snapshot 1389: 0.000009\n",
            "torch.Size([3571, 2])\n",
            "Reconstruction MSE error for snapshot 1390: 0.000012\n",
            "torch.Size([3571, 2])\n",
            "Reconstruction MSE error for snapshot 1391: 0.000010\n",
            "torch.Size([3571, 2])\n",
            "Reconstruction MSE error for snapshot 1392: 0.000010\n",
            "torch.Size([3571, 2])\n"
          ],
          "name": "stdout"
        },
        {
          "output_type": "stream",
          "text": [
            " 69% (1398 of 2000) |#############       | Elapsed Time: 0:00:47 ETA:   0:00:20"
          ],
          "name": "stderr"
        },
        {
          "output_type": "stream",
          "text": [
            "Reconstruction MSE error for snapshot 1393: 0.000010\n",
            "torch.Size([3571, 2])\n",
            "Reconstruction MSE error for snapshot 1394: 0.000008\n",
            "torch.Size([3571, 2])\n",
            "Reconstruction MSE error for snapshot 1395: 0.000008\n",
            "torch.Size([3571, 2])\n",
            "Reconstruction MSE error for snapshot 1396: 0.000012\n",
            "torch.Size([3571, 2])\n",
            "Reconstruction MSE error for snapshot 1397: 0.000007\n",
            "torch.Size([3571, 2])\n",
            "Reconstruction MSE error for snapshot 1398: 0.000007\n",
            "torch.Size([3571, 2])\n"
          ],
          "name": "stdout"
        },
        {
          "output_type": "stream",
          "text": [
            " 70% (1404 of 2000) |##############      | Elapsed Time: 0:00:48 ETA:   0:00:20"
          ],
          "name": "stderr"
        },
        {
          "output_type": "stream",
          "text": [
            "Reconstruction MSE error for snapshot 1399: 0.000007\n",
            "torch.Size([3571, 2])\n",
            "Reconstruction MSE error for snapshot 1400: 0.000006\n",
            "torch.Size([3571, 2])\n",
            "Reconstruction MSE error for snapshot 1401: 0.000006\n",
            "torch.Size([3571, 2])\n",
            "Reconstruction MSE error for snapshot 1402: 0.000007\n",
            "torch.Size([3571, 2])\n",
            "Reconstruction MSE error for snapshot 1403: 0.000007\n",
            "torch.Size([3571, 2])\n",
            "Reconstruction MSE error for snapshot 1404: 0.000008\n",
            "torch.Size([3571, 2])\n"
          ],
          "name": "stdout"
        },
        {
          "output_type": "stream",
          "text": [
            " 70% (1410 of 2000) |##############      | Elapsed Time: 0:00:48 ETA:   0:00:20"
          ],
          "name": "stderr"
        },
        {
          "output_type": "stream",
          "text": [
            "Reconstruction MSE error for snapshot 1405: 0.000006\n",
            "torch.Size([3571, 2])\n",
            "Reconstruction MSE error for snapshot 1406: 0.000007\n",
            "torch.Size([3571, 2])\n",
            "Reconstruction MSE error for snapshot 1407: 0.000008\n",
            "torch.Size([3571, 2])\n",
            "Reconstruction MSE error for snapshot 1408: 0.000007\n",
            "torch.Size([3571, 2])\n",
            "Reconstruction MSE error for snapshot 1409: 0.000007\n",
            "torch.Size([3571, 2])\n",
            "Reconstruction MSE error for snapshot 1410: 0.000007\n",
            "torch.Size([3571, 2])\n"
          ],
          "name": "stdout"
        },
        {
          "output_type": "stream",
          "text": [
            " 70% (1417 of 2000) |##############      | Elapsed Time: 0:00:48 ETA:   0:00:20"
          ],
          "name": "stderr"
        },
        {
          "output_type": "stream",
          "text": [
            "Reconstruction MSE error for snapshot 1411: 0.000007\n",
            "torch.Size([3571, 2])\n",
            "Reconstruction MSE error for snapshot 1412: 0.000010\n",
            "torch.Size([3571, 2])\n",
            "Reconstruction MSE error for snapshot 1413: 0.000008\n",
            "torch.Size([3571, 2])\n",
            "Reconstruction MSE error for snapshot 1414: 0.000007\n",
            "torch.Size([3571, 2])\n",
            "Reconstruction MSE error for snapshot 1415: 0.000006\n",
            "torch.Size([3571, 2])\n",
            "Reconstruction MSE error for snapshot 1416: 0.000007\n",
            "torch.Size([3571, 2])\n",
            "Reconstruction MSE error for snapshot 1417: 0.000010\n",
            "torch.Size([3571, 2])\n"
          ],
          "name": "stdout"
        },
        {
          "output_type": "stream",
          "text": [
            " 71% (1423 of 2000) |##############      | Elapsed Time: 0:00:48 ETA:   0:00:19"
          ],
          "name": "stderr"
        },
        {
          "output_type": "stream",
          "text": [
            "Reconstruction MSE error for snapshot 1418: 0.000009\n",
            "torch.Size([3571, 2])\n",
            "Reconstruction MSE error for snapshot 1419: 0.000011\n",
            "torch.Size([3571, 2])\n",
            "Reconstruction MSE error for snapshot 1420: 0.000011\n",
            "torch.Size([3571, 2])\n",
            "Reconstruction MSE error for snapshot 1421: 0.000010\n",
            "torch.Size([3571, 2])\n",
            "Reconstruction MSE error for snapshot 1422: 0.000008\n",
            "torch.Size([3571, 2])\n",
            "Reconstruction MSE error for snapshot 1423: 0.000013\n",
            "torch.Size([3571, 2])\n"
          ],
          "name": "stdout"
        },
        {
          "output_type": "stream",
          "text": [
            " 71% (1429 of 2000) |##############      | Elapsed Time: 0:00:48 ETA:   0:00:19"
          ],
          "name": "stderr"
        },
        {
          "output_type": "stream",
          "text": [
            "Reconstruction MSE error for snapshot 1424: 0.000006\n",
            "torch.Size([3571, 2])\n",
            "Reconstruction MSE error for snapshot 1425: 0.000007\n",
            "torch.Size([3571, 2])\n",
            "Reconstruction MSE error for snapshot 1426: 0.000007\n",
            "torch.Size([3571, 2])\n",
            "Reconstruction MSE error for snapshot 1427: 0.000008\n",
            "torch.Size([3571, 2])\n",
            "Reconstruction MSE error for snapshot 1428: 0.000009\n",
            "torch.Size([3571, 2])\n",
            "Reconstruction MSE error for snapshot 1429: 0.000009\n",
            "torch.Size([3571, 2])\n"
          ],
          "name": "stdout"
        },
        {
          "output_type": "stream",
          "text": [
            " 71% (1435 of 2000) |##############      | Elapsed Time: 0:00:49 ETA:   0:00:19"
          ],
          "name": "stderr"
        },
        {
          "output_type": "stream",
          "text": [
            "Reconstruction MSE error for snapshot 1430: 0.000011\n",
            "torch.Size([3571, 2])\n",
            "Reconstruction MSE error for snapshot 1431: 0.000011\n",
            "torch.Size([3571, 2])\n",
            "Reconstruction MSE error for snapshot 1432: 0.000009\n",
            "torch.Size([3571, 2])\n",
            "Reconstruction MSE error for snapshot 1433: 0.000011\n",
            "torch.Size([3571, 2])\n",
            "Reconstruction MSE error for snapshot 1434: 0.000009\n",
            "torch.Size([3571, 2])\n",
            "Reconstruction MSE error for snapshot 1435: 0.000008\n",
            "torch.Size([3571, 2])\n"
          ],
          "name": "stdout"
        },
        {
          "output_type": "stream",
          "text": [
            " 72% (1442 of 2000) |##############      | Elapsed Time: 0:00:49 ETA:   0:00:19"
          ],
          "name": "stderr"
        },
        {
          "output_type": "stream",
          "text": [
            "Reconstruction MSE error for snapshot 1436: 0.000010\n",
            "torch.Size([3571, 2])\n",
            "Reconstruction MSE error for snapshot 1437: 0.000008\n",
            "torch.Size([3571, 2])\n",
            "Reconstruction MSE error for snapshot 1438: 0.000008\n",
            "torch.Size([3571, 2])\n",
            "Reconstruction MSE error for snapshot 1439: 0.000016\n",
            "torch.Size([3571, 2])\n",
            "Reconstruction MSE error for snapshot 1440: 0.000009\n",
            "torch.Size([3571, 2])\n",
            "Reconstruction MSE error for snapshot 1441: 0.000010\n",
            "torch.Size([3571, 2])\n",
            "Reconstruction MSE error for snapshot 1442: 0.000007\n",
            "torch.Size([3571, 2])\n"
          ],
          "name": "stdout"
        },
        {
          "output_type": "stream",
          "text": [
            " 72% (1447 of 2000) |##############      | Elapsed Time: 0:00:49 ETA:   0:00:19"
          ],
          "name": "stderr"
        },
        {
          "output_type": "stream",
          "text": [
            "Reconstruction MSE error for snapshot 1443: 0.000009\n",
            "torch.Size([3571, 2])\n",
            "Reconstruction MSE error for snapshot 1444: 0.000007\n",
            "torch.Size([3571, 2])\n",
            "Reconstruction MSE error for snapshot 1445: 0.000008\n",
            "torch.Size([3571, 2])\n",
            "Reconstruction MSE error for snapshot 1446: 0.000009\n",
            "torch.Size([3571, 2])\n",
            "Reconstruction MSE error for snapshot 1447: 0.000007\n",
            "torch.Size([3571, 2])\n",
            "Reconstruction MSE error for snapshot 1448: 0.000008\n",
            "torch.Size([3571, 2])\n"
          ],
          "name": "stdout"
        },
        {
          "output_type": "stream",
          "text": [
            " 72% (1454 of 2000) |##############      | Elapsed Time: 0:00:49 ETA:   0:00:18"
          ],
          "name": "stderr"
        },
        {
          "output_type": "stream",
          "text": [
            "Reconstruction MSE error for snapshot 1449: 0.000009\n",
            "torch.Size([3571, 2])\n",
            "Reconstruction MSE error for snapshot 1450: 0.000007\n",
            "torch.Size([3571, 2])\n",
            "Reconstruction MSE error for snapshot 1451: 0.000007\n",
            "torch.Size([3571, 2])\n",
            "Reconstruction MSE error for snapshot 1452: 0.000010\n",
            "torch.Size([3571, 2])\n",
            "Reconstruction MSE error for snapshot 1453: 0.000006\n",
            "torch.Size([3571, 2])\n",
            "Reconstruction MSE error for snapshot 1454: 0.000006\n",
            "torch.Size([3571, 2])\n"
          ],
          "name": "stdout"
        },
        {
          "output_type": "stream",
          "text": [
            " 73% (1460 of 2000) |##############      | Elapsed Time: 0:00:49 ETA:   0:00:18"
          ],
          "name": "stderr"
        },
        {
          "output_type": "stream",
          "text": [
            "Reconstruction MSE error for snapshot 1455: 0.000007\n",
            "torch.Size([3571, 2])\n",
            "Reconstruction MSE error for snapshot 1456: 0.000007\n",
            "torch.Size([3571, 2])\n",
            "Reconstruction MSE error for snapshot 1457: 0.000008\n",
            "torch.Size([3571, 2])\n",
            "Reconstruction MSE error for snapshot 1458: 0.000007\n",
            "torch.Size([3571, 2])\n",
            "Reconstruction MSE error for snapshot 1459: 0.000008\n",
            "torch.Size([3571, 2])\n",
            "Reconstruction MSE error for snapshot 1460: 0.000009\n",
            "torch.Size([3571, 2])\n"
          ],
          "name": "stdout"
        },
        {
          "output_type": "stream",
          "text": [
            " 73% (1467 of 2000) |##############      | Elapsed Time: 0:00:50 ETA:   0:00:18"
          ],
          "name": "stderr"
        },
        {
          "output_type": "stream",
          "text": [
            "Reconstruction MSE error for snapshot 1461: 0.000007\n",
            "torch.Size([3571, 2])\n",
            "Reconstruction MSE error for snapshot 1462: 0.000009\n",
            "torch.Size([3571, 2])\n",
            "Reconstruction MSE error for snapshot 1463: 0.000009\n",
            "torch.Size([3571, 2])\n",
            "Reconstruction MSE error for snapshot 1464: 0.000009\n",
            "torch.Size([3571, 2])\n",
            "Reconstruction MSE error for snapshot 1465: 0.000009\n",
            "torch.Size([3571, 2])\n",
            "Reconstruction MSE error for snapshot 1466: 0.000010\n",
            "torch.Size([3571, 2])\n"
          ],
          "name": "stdout"
        },
        {
          "output_type": "stream",
          "text": [
            " 73% (1472 of 2000) |##############      | Elapsed Time: 0:00:50 ETA:   0:00:18"
          ],
          "name": "stderr"
        },
        {
          "output_type": "stream",
          "text": [
            "Reconstruction MSE error for snapshot 1467: 0.000012\n",
            "torch.Size([3571, 2])\n",
            "Reconstruction MSE error for snapshot 1468: 0.000009\n",
            "torch.Size([3571, 2])\n",
            "Reconstruction MSE error for snapshot 1469: 0.000009\n",
            "torch.Size([3571, 2])\n",
            "Reconstruction MSE error for snapshot 1470: 0.000010\n",
            "torch.Size([3571, 2])\n",
            "Reconstruction MSE error for snapshot 1471: 0.000010\n",
            "torch.Size([3571, 2])\n",
            "Reconstruction MSE error for snapshot 1472: 0.000007\n",
            "torch.Size([3571, 2])\n"
          ],
          "name": "stdout"
        },
        {
          "output_type": "stream",
          "text": [
            " 73% (1478 of 2000) |##############      | Elapsed Time: 0:00:50 ETA:   0:00:18"
          ],
          "name": "stderr"
        },
        {
          "output_type": "stream",
          "text": [
            "Reconstruction MSE error for snapshot 1473: 0.000006\n",
            "torch.Size([3571, 2])\n",
            "Reconstruction MSE error for snapshot 1474: 0.000006\n",
            "torch.Size([3571, 2])\n",
            "Reconstruction MSE error for snapshot 1475: 0.000006\n",
            "torch.Size([3571, 2])\n",
            "Reconstruction MSE error for snapshot 1476: 0.000007\n",
            "torch.Size([3571, 2])\n",
            "Reconstruction MSE error for snapshot 1477: 0.000007\n",
            "torch.Size([3571, 2])\n",
            "Reconstruction MSE error for snapshot 1478: 0.000006\n",
            "torch.Size([3571, 2])\n"
          ],
          "name": "stdout"
        },
        {
          "output_type": "stream",
          "text": [
            " 74% (1484 of 2000) |##############      | Elapsed Time: 0:00:50 ETA:   0:00:17"
          ],
          "name": "stderr"
        },
        {
          "output_type": "stream",
          "text": [
            "Reconstruction MSE error for snapshot 1479: 0.000006\n",
            "torch.Size([3571, 2])\n",
            "Reconstruction MSE error for snapshot 1480: 0.000007\n",
            "torch.Size([3571, 2])\n",
            "Reconstruction MSE error for snapshot 1481: 0.000007\n",
            "torch.Size([3571, 2])\n",
            "Reconstruction MSE error for snapshot 1482: 0.000007\n",
            "torch.Size([3571, 2])\n",
            "Reconstruction MSE error for snapshot 1483: 0.000008\n",
            "torch.Size([3571, 2])\n",
            "Reconstruction MSE error for snapshot 1484: 0.000006\n",
            "torch.Size([3571, 2])\n"
          ],
          "name": "stdout"
        },
        {
          "output_type": "stream",
          "text": [
            " 74% (1490 of 2000) |##############      | Elapsed Time: 0:00:51 ETA:   0:00:17"
          ],
          "name": "stderr"
        },
        {
          "output_type": "stream",
          "text": [
            "Reconstruction MSE error for snapshot 1485: 0.000007\n",
            "torch.Size([3571, 2])\n",
            "Reconstruction MSE error for snapshot 1486: 0.000008\n",
            "torch.Size([3571, 2])\n",
            "Reconstruction MSE error for snapshot 1487: 0.000012\n",
            "torch.Size([3571, 2])\n",
            "Reconstruction MSE error for snapshot 1488: 0.000008\n",
            "torch.Size([3571, 2])\n",
            "Reconstruction MSE error for snapshot 1489: 0.000007\n",
            "torch.Size([3571, 2])\n",
            "Reconstruction MSE error for snapshot 1490: 0.000006\n",
            "torch.Size([3571, 2])\n"
          ],
          "name": "stdout"
        },
        {
          "output_type": "stream",
          "text": [
            " 74% (1496 of 2000) |##############      | Elapsed Time: 0:00:51 ETA:   0:00:17"
          ],
          "name": "stderr"
        },
        {
          "output_type": "stream",
          "text": [
            "Reconstruction MSE error for snapshot 1491: 0.000007\n",
            "torch.Size([3571, 2])\n",
            "Reconstruction MSE error for snapshot 1492: 0.000007\n",
            "torch.Size([3571, 2])\n",
            "Reconstruction MSE error for snapshot 1493: 0.000008\n",
            "torch.Size([3571, 2])\n",
            "Reconstruction MSE error for snapshot 1494: 0.000010\n",
            "torch.Size([3571, 2])\n",
            "Reconstruction MSE error for snapshot 1495: 0.000010\n",
            "torch.Size([3571, 2])\n",
            "Reconstruction MSE error for snapshot 1496: 0.000008\n",
            "torch.Size([3571, 2])\n"
          ],
          "name": "stdout"
        },
        {
          "output_type": "stream",
          "text": [
            " 75% (1502 of 2000) |###############     | Elapsed Time: 0:00:51 ETA:   0:00:17"
          ],
          "name": "stderr"
        },
        {
          "output_type": "stream",
          "text": [
            "Reconstruction MSE error for snapshot 1497: 0.000008\n",
            "torch.Size([3571, 2])\n",
            "Reconstruction MSE error for snapshot 1498: 0.000008\n",
            "torch.Size([3571, 2])\n",
            "Reconstruction MSE error for snapshot 1499: 0.000008\n",
            "torch.Size([3571, 2])\n",
            "Reconstruction MSE error for snapshot 1500: 0.000007\n",
            "torch.Size([3571, 2])\n",
            "Reconstruction MSE error for snapshot 1501: 0.000007\n",
            "torch.Size([3571, 2])\n",
            "Reconstruction MSE error for snapshot 1502: 0.000008\n",
            "torch.Size([3571, 2])\n"
          ],
          "name": "stdout"
        },
        {
          "output_type": "stream",
          "text": [
            " 75% (1508 of 2000) |###############     | Elapsed Time: 0:00:51 ETA:   0:00:17"
          ],
          "name": "stderr"
        },
        {
          "output_type": "stream",
          "text": [
            "Reconstruction MSE error for snapshot 1503: 0.000010\n",
            "torch.Size([3571, 2])\n",
            "Reconstruction MSE error for snapshot 1504: 0.000010\n",
            "torch.Size([3571, 2])\n",
            "Reconstruction MSE error for snapshot 1505: 0.000013\n",
            "torch.Size([3571, 2])\n",
            "Reconstruction MSE error for snapshot 1506: 0.000011\n",
            "torch.Size([3571, 2])\n",
            "Reconstruction MSE error for snapshot 1507: 0.000010\n",
            "torch.Size([3571, 2])\n",
            "Reconstruction MSE error for snapshot 1508: 0.000016\n",
            "torch.Size([3571, 2])\n"
          ],
          "name": "stdout"
        },
        {
          "output_type": "stream",
          "text": [
            " 75% (1515 of 2000) |###############     | Elapsed Time: 0:00:51 ETA:   0:00:16"
          ],
          "name": "stderr"
        },
        {
          "output_type": "stream",
          "text": [
            "Reconstruction MSE error for snapshot 1509: 0.000010\n",
            "torch.Size([3571, 2])\n",
            "Reconstruction MSE error for snapshot 1510: 0.000008\n",
            "torch.Size([3571, 2])\n",
            "Reconstruction MSE error for snapshot 1511: 0.000008\n",
            "torch.Size([3571, 2])\n",
            "Reconstruction MSE error for snapshot 1512: 0.000011\n",
            "torch.Size([3571, 2])\n",
            "Reconstruction MSE error for snapshot 1513: 0.000013\n",
            "torch.Size([3571, 2])\n",
            "Reconstruction MSE error for snapshot 1514: 0.000008\n",
            "torch.Size([3571, 2])\n"
          ],
          "name": "stdout"
        },
        {
          "output_type": "stream",
          "text": [
            " 76% (1521 of 2000) |###############     | Elapsed Time: 0:00:52 ETA:   0:00:16"
          ],
          "name": "stderr"
        },
        {
          "output_type": "stream",
          "text": [
            "Reconstruction MSE error for snapshot 1515: 0.000008\n",
            "torch.Size([3571, 2])\n",
            "Reconstruction MSE error for snapshot 1516: 0.000007\n",
            "torch.Size([3571, 2])\n",
            "Reconstruction MSE error for snapshot 1517: 0.000014\n",
            "torch.Size([3571, 2])\n",
            "Reconstruction MSE error for snapshot 1518: 0.000007\n",
            "torch.Size([3571, 2])\n",
            "Reconstruction MSE error for snapshot 1519: 0.000007\n",
            "torch.Size([3571, 2])\n",
            "Reconstruction MSE error for snapshot 1520: 0.000007\n",
            "torch.Size([3571, 2])\n"
          ],
          "name": "stdout"
        },
        {
          "output_type": "stream",
          "text": [
            " 76% (1527 of 2000) |###############     | Elapsed Time: 0:00:52 ETA:   0:00:16"
          ],
          "name": "stderr"
        },
        {
          "output_type": "stream",
          "text": [
            "Reconstruction MSE error for snapshot 1521: 0.000008\n",
            "torch.Size([3571, 2])\n",
            "Reconstruction MSE error for snapshot 1522: 0.000009\n",
            "torch.Size([3571, 2])\n",
            "Reconstruction MSE error for snapshot 1523: 0.000007\n",
            "torch.Size([3571, 2])\n",
            "Reconstruction MSE error for snapshot 1524: 0.000007\n",
            "torch.Size([3571, 2])\n",
            "Reconstruction MSE error for snapshot 1525: 0.000006\n",
            "torch.Size([3571, 2])\n",
            "Reconstruction MSE error for snapshot 1526: 0.000008\n",
            "torch.Size([3571, 2])\n"
          ],
          "name": "stdout"
        },
        {
          "output_type": "stream",
          "text": [
            "\r                                                                               \r\r 76% (1530 of 2000) |###############     | Elapsed Time: 0:00:52 ETA:   0:00:16"
          ],
          "name": "stderr"
        },
        {
          "output_type": "stream",
          "text": [
            "Reconstruction MSE error for snapshot 1527: 0.000007\n",
            "torch.Size([3571, 2])\n",
            "Reconstruction MSE error for snapshot 1528: 0.000008\n",
            "torch.Size([3571, 2])\n",
            "Reconstruction MSE error for snapshot 1529: 0.000008\n",
            "torch.Size([3571, 2])\n",
            "Reconstruction MSE error for snapshot 1530: 0.000006\n",
            "torch.Size([3571, 2])\n",
            "Reconstruction MSE error for snapshot 1531: 0.000009\n",
            "torch.Size([3571, 2])\n",
            "Reconstruction MSE error for snapshot 1532: 0.000012\n",
            "torch.Size([3571, 2])\n",
            "Reconstruction MSE error for snapshot 1533: 0.000006\n",
            "torch.Size([3571, 2])\n"
          ],
          "name": "stdout"
        },
        {
          "output_type": "stream",
          "text": [
            " 77% (1540 of 2000) |###############     | Elapsed Time: 0:00:52 ETA:   0:00:15"
          ],
          "name": "stderr"
        },
        {
          "output_type": "stream",
          "text": [
            "Reconstruction MSE error for snapshot 1534: 0.000007\n",
            "torch.Size([3571, 2])\n",
            "Reconstruction MSE error for snapshot 1535: 0.000009\n",
            "torch.Size([3571, 2])\n",
            "Reconstruction MSE error for snapshot 1536: 0.000008\n",
            "torch.Size([3571, 2])\n",
            "Reconstruction MSE error for snapshot 1537: 0.000007\n",
            "torch.Size([3571, 2])\n",
            "Reconstruction MSE error for snapshot 1538: 0.000008\n",
            "torch.Size([3571, 2])\n",
            "Reconstruction MSE error for snapshot 1539: 0.000010\n",
            "torch.Size([3571, 2])\n"
          ],
          "name": "stdout"
        },
        {
          "output_type": "stream",
          "text": [
            " 77% (1545 of 2000) |###############     | Elapsed Time: 0:00:52 ETA:   0:00:15"
          ],
          "name": "stderr"
        },
        {
          "output_type": "stream",
          "text": [
            "Reconstruction MSE error for snapshot 1540: 0.000009\n",
            "torch.Size([3571, 2])\n",
            "Reconstruction MSE error for snapshot 1541: 0.000010\n",
            "torch.Size([3571, 2])\n",
            "Reconstruction MSE error for snapshot 1542: 0.000013\n",
            "torch.Size([3571, 2])\n",
            "Reconstruction MSE error for snapshot 1543: 0.000009\n",
            "torch.Size([3571, 2])\n",
            "Reconstruction MSE error for snapshot 1544: 0.000009\n",
            "torch.Size([3571, 2])\n",
            "Reconstruction MSE error for snapshot 1545: 0.000010\n",
            "torch.Size([3571, 2])\n"
          ],
          "name": "stdout"
        },
        {
          "output_type": "stream",
          "text": [
            " 77% (1551 of 2000) |###############     | Elapsed Time: 0:00:53 ETA:   0:00:15"
          ],
          "name": "stderr"
        },
        {
          "output_type": "stream",
          "text": [
            "Reconstruction MSE error for snapshot 1546: 0.000008\n",
            "torch.Size([3571, 2])\n",
            "Reconstruction MSE error for snapshot 1547: 0.000009\n",
            "torch.Size([3571, 2])\n",
            "Reconstruction MSE error for snapshot 1548: 0.000007\n",
            "torch.Size([3571, 2])\n",
            "Reconstruction MSE error for snapshot 1549: 0.000008\n",
            "torch.Size([3571, 2])\n",
            "Reconstruction MSE error for snapshot 1550: 0.000007\n",
            "torch.Size([3571, 2])\n",
            "Reconstruction MSE error for snapshot 1551: 0.000006\n",
            "torch.Size([3571, 2])\n"
          ],
          "name": "stdout"
        },
        {
          "output_type": "stream",
          "text": [
            " 77% (1557 of 2000) |###############     | Elapsed Time: 0:00:53 ETA:   0:00:15"
          ],
          "name": "stderr"
        },
        {
          "output_type": "stream",
          "text": [
            "Reconstruction MSE error for snapshot 1552: 0.000007\n",
            "torch.Size([3571, 2])\n",
            "Reconstruction MSE error for snapshot 1553: 0.000007\n",
            "torch.Size([3571, 2])\n",
            "Reconstruction MSE error for snapshot 1554: 0.000008\n",
            "torch.Size([3571, 2])\n",
            "Reconstruction MSE error for snapshot 1555: 0.000007\n",
            "torch.Size([3571, 2])\n",
            "Reconstruction MSE error for snapshot 1556: 0.000006\n",
            "torch.Size([3571, 2])\n",
            "Reconstruction MSE error for snapshot 1557: 0.000007\n",
            "torch.Size([3571, 2])\n"
          ],
          "name": "stdout"
        },
        {
          "output_type": "stream",
          "text": [
            " 78% (1564 of 2000) |###############     | Elapsed Time: 0:00:53 ETA:   0:00:14"
          ],
          "name": "stderr"
        },
        {
          "output_type": "stream",
          "text": [
            "Reconstruction MSE error for snapshot 1558: 0.000008\n",
            "torch.Size([3571, 2])\n",
            "Reconstruction MSE error for snapshot 1559: 0.000006\n",
            "torch.Size([3571, 2])\n",
            "Reconstruction MSE error for snapshot 1560: 0.000007\n",
            "torch.Size([3571, 2])\n",
            "Reconstruction MSE error for snapshot 1561: 0.000007\n",
            "torch.Size([3571, 2])\n",
            "Reconstruction MSE error for snapshot 1562: 0.000008\n",
            "torch.Size([3571, 2])\n",
            "Reconstruction MSE error for snapshot 1563: 0.000009\n",
            "torch.Size([3571, 2])\n",
            "Reconstruction MSE error for snapshot 1564: 0.000009\n",
            "torch.Size([3571, 2])\n"
          ],
          "name": "stdout"
        },
        {
          "output_type": "stream",
          "text": [
            " 78% (1570 of 2000) |###############     | Elapsed Time: 0:00:53 ETA:   0:00:14"
          ],
          "name": "stderr"
        },
        {
          "output_type": "stream",
          "text": [
            "Reconstruction MSE error for snapshot 1565: 0.000007\n",
            "torch.Size([3571, 2])\n",
            "Reconstruction MSE error for snapshot 1566: 0.000007\n",
            "torch.Size([3571, 2])\n",
            "Reconstruction MSE error for snapshot 1567: 0.000007\n",
            "torch.Size([3571, 2])\n",
            "Reconstruction MSE error for snapshot 1568: 0.000011\n",
            "torch.Size([3571, 2])\n",
            "Reconstruction MSE error for snapshot 1569: 0.000010\n",
            "torch.Size([3571, 2])\n",
            "Reconstruction MSE error for snapshot 1570: 0.000009\n",
            "torch.Size([3571, 2])\n"
          ],
          "name": "stdout"
        },
        {
          "output_type": "stream",
          "text": [
            " 78% (1577 of 2000) |###############     | Elapsed Time: 0:00:54 ETA:   0:00:14"
          ],
          "name": "stderr"
        },
        {
          "output_type": "stream",
          "text": [
            "Reconstruction MSE error for snapshot 1571: 0.000010\n",
            "torch.Size([3571, 2])\n",
            "Reconstruction MSE error for snapshot 1572: 0.000009\n",
            "torch.Size([3571, 2])\n",
            "Reconstruction MSE error for snapshot 1573: 0.000007\n",
            "torch.Size([3571, 2])\n",
            "Reconstruction MSE error for snapshot 1574: 0.000017\n",
            "torch.Size([3571, 2])\n",
            "Reconstruction MSE error for snapshot 1575: 0.000007\n",
            "torch.Size([3571, 2])\n",
            "Reconstruction MSE error for snapshot 1576: 0.000007\n",
            "torch.Size([3571, 2])\n"
          ],
          "name": "stdout"
        },
        {
          "output_type": "stream",
          "text": [
            " 79% (1583 of 2000) |###############     | Elapsed Time: 0:00:54 ETA:   0:00:14"
          ],
          "name": "stderr"
        },
        {
          "output_type": "stream",
          "text": [
            "Reconstruction MSE error for snapshot 1577: 0.000009\n",
            "torch.Size([3571, 2])\n",
            "Reconstruction MSE error for snapshot 1578: 0.000009\n",
            "torch.Size([3571, 2])\n",
            "Reconstruction MSE error for snapshot 1579: 0.000009\n",
            "torch.Size([3571, 2])\n",
            "Reconstruction MSE error for snapshot 1580: 0.000012\n",
            "torch.Size([3571, 2])\n",
            "Reconstruction MSE error for snapshot 1581: 0.000012\n",
            "torch.Size([3571, 2])\n",
            "Reconstruction MSE error for snapshot 1582: 0.000010\n",
            "torch.Size([3571, 2])\n"
          ],
          "name": "stdout"
        },
        {
          "output_type": "stream",
          "text": [
            " 79% (1589 of 2000) |###############     | Elapsed Time: 0:00:54 ETA:   0:00:14"
          ],
          "name": "stderr"
        },
        {
          "output_type": "stream",
          "text": [
            "Reconstruction MSE error for snapshot 1583: 0.000014\n",
            "torch.Size([3571, 2])\n",
            "Reconstruction MSE error for snapshot 1584: 0.000014\n",
            "torch.Size([3571, 2])\n",
            "Reconstruction MSE error for snapshot 1585: 0.000010\n",
            "torch.Size([3571, 2])\n",
            "Reconstruction MSE error for snapshot 1586: 0.000009\n",
            "torch.Size([3571, 2])\n",
            "Reconstruction MSE error for snapshot 1587: 0.000010\n",
            "torch.Size([3571, 2])\n",
            "Reconstruction MSE error for snapshot 1588: 0.000009\n",
            "torch.Size([3571, 2])\n"
          ],
          "name": "stdout"
        },
        {
          "output_type": "stream",
          "text": [
            " 79% (1595 of 2000) |###############     | Elapsed Time: 0:00:54 ETA:   0:00:13"
          ],
          "name": "stderr"
        },
        {
          "output_type": "stream",
          "text": [
            "Reconstruction MSE error for snapshot 1589: 0.000009\n",
            "torch.Size([3571, 2])\n",
            "Reconstruction MSE error for snapshot 1590: 0.000013\n",
            "torch.Size([3571, 2])\n",
            "Reconstruction MSE error for snapshot 1591: 0.000009\n",
            "torch.Size([3571, 2])\n",
            "Reconstruction MSE error for snapshot 1592: 0.000010\n",
            "torch.Size([3571, 2])\n",
            "Reconstruction MSE error for snapshot 1593: 0.000006\n",
            "torch.Size([3571, 2])\n",
            "Reconstruction MSE error for snapshot 1594: 0.000007\n",
            "torch.Size([3571, 2])\n",
            "Reconstruction MSE error for snapshot 1595: 0.000007\n"
          ],
          "name": "stdout"
        },
        {
          "output_type": "stream",
          "text": [
            " 80% (1601 of 2000) |################    | Elapsed Time: 0:00:54 ETA:   0:00:13"
          ],
          "name": "stderr"
        },
        {
          "output_type": "stream",
          "text": [
            "torch.Size([3571, 2])\n",
            "Reconstruction MSE error for snapshot 1596: 0.000008\n",
            "torch.Size([3571, 2])\n",
            "Reconstruction MSE error for snapshot 1597: 0.000008\n",
            "torch.Size([3571, 2])\n",
            "Reconstruction MSE error for snapshot 1598: 0.000008\n",
            "torch.Size([3571, 2])\n",
            "Reconstruction MSE error for snapshot 1599: 0.000009\n",
            "torch.Size([3571, 2])\n",
            "Reconstruction MSE error for snapshot 1600: 0.000008\n",
            "torch.Size([3571, 2])\n"
          ],
          "name": "stdout"
        },
        {
          "output_type": "stream",
          "text": [
            " 80% (1607 of 2000) |################    | Elapsed Time: 0:00:55 ETA:   0:00:13"
          ],
          "name": "stderr"
        },
        {
          "output_type": "stream",
          "text": [
            "Reconstruction MSE error for snapshot 1601: 0.000007\n",
            "torch.Size([3571, 2])\n",
            "Reconstruction MSE error for snapshot 1602: 0.000007\n",
            "torch.Size([3571, 2])\n",
            "Reconstruction MSE error for snapshot 1603: 0.000009\n",
            "torch.Size([3571, 2])\n",
            "Reconstruction MSE error for snapshot 1604: 0.000007\n",
            "torch.Size([3571, 2])\n",
            "Reconstruction MSE error for snapshot 1605: 0.000007\n",
            "torch.Size([3571, 2])\n",
            "Reconstruction MSE error for snapshot 1606: 0.000008\n",
            "torch.Size([3571, 2])\n"
          ],
          "name": "stdout"
        },
        {
          "output_type": "stream",
          "text": [
            " 80% (1613 of 2000) |################    | Elapsed Time: 0:00:55 ETA:   0:00:13"
          ],
          "name": "stderr"
        },
        {
          "output_type": "stream",
          "text": [
            "Reconstruction MSE error for snapshot 1607: 0.000014\n",
            "torch.Size([3571, 2])\n",
            "Reconstruction MSE error for snapshot 1608: 0.000008\n",
            "torch.Size([3571, 2])\n",
            "Reconstruction MSE error for snapshot 1609: 0.000008\n",
            "torch.Size([3571, 2])\n",
            "Reconstruction MSE error for snapshot 1610: 0.000022\n",
            "torch.Size([3571, 2])\n",
            "Reconstruction MSE error for snapshot 1611: 0.000008\n",
            "torch.Size([3571, 2])\n",
            "Reconstruction MSE error for snapshot 1612: 0.000008\n",
            "torch.Size([3571, 2])\n"
          ],
          "name": "stdout"
        },
        {
          "output_type": "stream",
          "text": [
            " 80% (1619 of 2000) |################    | Elapsed Time: 0:00:55 ETA:   0:00:13"
          ],
          "name": "stderr"
        },
        {
          "output_type": "stream",
          "text": [
            "Reconstruction MSE error for snapshot 1613: 0.000009\n",
            "torch.Size([3571, 2])\n",
            "Reconstruction MSE error for snapshot 1614: 0.000009\n",
            "torch.Size([3571, 2])\n",
            "Reconstruction MSE error for snapshot 1615: 0.000009\n",
            "torch.Size([3571, 2])\n",
            "Reconstruction MSE error for snapshot 1616: 0.000009\n",
            "torch.Size([3571, 2])\n",
            "Reconstruction MSE error for snapshot 1617: 0.000015\n",
            "torch.Size([3571, 2])\n",
            "Reconstruction MSE error for snapshot 1618: 0.000012\n",
            "torch.Size([3571, 2])\n"
          ],
          "name": "stdout"
        },
        {
          "output_type": "stream",
          "text": [
            " 81% (1624 of 2000) |################    | Elapsed Time: 0:00:55 ETA:   0:00:13"
          ],
          "name": "stderr"
        },
        {
          "output_type": "stream",
          "text": [
            "Reconstruction MSE error for snapshot 1619: 0.000009\n",
            "torch.Size([3571, 2])\n",
            "Reconstruction MSE error for snapshot 1620: 0.000010\n",
            "torch.Size([3571, 2])\n",
            "Reconstruction MSE error for snapshot 1621: 0.000011\n",
            "torch.Size([3571, 2])\n",
            "Reconstruction MSE error for snapshot 1622: 0.000011\n",
            "torch.Size([3571, 2])\n",
            "Reconstruction MSE error for snapshot 1623: 0.000007\n",
            "torch.Size([3571, 2])\n",
            "Reconstruction MSE error for snapshot 1624: 0.000007\n",
            "torch.Size([3571, 2])\n",
            "Reconstruction MSE error for snapshot 1625: 0.000007\n"
          ],
          "name": "stdout"
        },
        {
          "output_type": "stream",
          "text": [
            " 81% (1630 of 2000) |################    | Elapsed Time: 0:00:55 ETA:   0:00:12"
          ],
          "name": "stderr"
        },
        {
          "output_type": "stream",
          "text": [
            "torch.Size([3571, 2])\n",
            "Reconstruction MSE error for snapshot 1626: 0.000006\n",
            "torch.Size([3571, 2])\n",
            "Reconstruction MSE error for snapshot 1627: 0.000008\n",
            "torch.Size([3571, 2])\n",
            "Reconstruction MSE error for snapshot 1628: 0.000007\n",
            "torch.Size([3571, 2])\n",
            "Reconstruction MSE error for snapshot 1629: 0.000006\n",
            "torch.Size([3571, 2])\n",
            "Reconstruction MSE error for snapshot 1630: 0.000008\n",
            "torch.Size([3571, 2])\n"
          ],
          "name": "stdout"
        },
        {
          "output_type": "stream",
          "text": [
            " 81% (1636 of 2000) |################    | Elapsed Time: 0:00:56 ETA:   0:00:12"
          ],
          "name": "stderr"
        },
        {
          "output_type": "stream",
          "text": [
            "Reconstruction MSE error for snapshot 1631: 0.000006\n",
            "torch.Size([3571, 2])\n",
            "Reconstruction MSE error for snapshot 1632: 0.000007\n",
            "torch.Size([3571, 2])\n",
            "Reconstruction MSE error for snapshot 1633: 0.000008\n",
            "torch.Size([3571, 2])\n",
            "Reconstruction MSE error for snapshot 1634: 0.000008\n",
            "torch.Size([3571, 2])\n",
            "Reconstruction MSE error for snapshot 1635: 0.000006\n",
            "torch.Size([3571, 2])\n",
            "Reconstruction MSE error for snapshot 1636: 0.000008\n",
            "torch.Size([3571, 2])\n"
          ],
          "name": "stdout"
        },
        {
          "output_type": "stream",
          "text": [
            " 82% (1642 of 2000) |################    | Elapsed Time: 0:00:56 ETA:   0:00:12"
          ],
          "name": "stderr"
        },
        {
          "output_type": "stream",
          "text": [
            "Reconstruction MSE error for snapshot 1637: 0.000008\n",
            "torch.Size([3571, 2])\n",
            "Reconstruction MSE error for snapshot 1638: 0.000011\n",
            "torch.Size([3571, 2])\n",
            "Reconstruction MSE error for snapshot 1639: 0.000008\n",
            "torch.Size([3571, 2])\n",
            "Reconstruction MSE error for snapshot 1640: 0.000007\n",
            "torch.Size([3571, 2])\n",
            "Reconstruction MSE error for snapshot 1641: 0.000007\n",
            "torch.Size([3571, 2])\n",
            "Reconstruction MSE error for snapshot 1642: 0.000007\n",
            "torch.Size([3571, 2])\n"
          ],
          "name": "stdout"
        },
        {
          "output_type": "stream",
          "text": [
            " 82% (1648 of 2000) |################    | Elapsed Time: 0:00:56 ETA:   0:00:12"
          ],
          "name": "stderr"
        },
        {
          "output_type": "stream",
          "text": [
            "Reconstruction MSE error for snapshot 1643: 0.000009\n",
            "torch.Size([3571, 2])\n",
            "Reconstruction MSE error for snapshot 1644: 0.000008\n",
            "torch.Size([3571, 2])\n",
            "Reconstruction MSE error for snapshot 1645: 0.000014\n",
            "torch.Size([3571, 2])\n",
            "Reconstruction MSE error for snapshot 1646: 0.000020\n",
            "torch.Size([3571, 2])\n",
            "Reconstruction MSE error for snapshot 1647: 0.000008\n",
            "torch.Size([3571, 2])\n",
            "Reconstruction MSE error for snapshot 1648: 0.000007\n",
            "torch.Size([3571, 2])\n"
          ],
          "name": "stdout"
        },
        {
          "output_type": "stream",
          "text": [
            " 82% (1654 of 2000) |################    | Elapsed Time: 0:00:56 ETA:   0:00:12"
          ],
          "name": "stderr"
        },
        {
          "output_type": "stream",
          "text": [
            "Reconstruction MSE error for snapshot 1649: 0.000017\n",
            "torch.Size([3571, 2])\n",
            "Reconstruction MSE error for snapshot 1650: 0.000006\n",
            "torch.Size([3571, 2])\n",
            "Reconstruction MSE error for snapshot 1651: 0.000007\n",
            "torch.Size([3571, 2])\n",
            "Reconstruction MSE error for snapshot 1652: 0.000008\n",
            "torch.Size([3571, 2])\n",
            "Reconstruction MSE error for snapshot 1653: 0.000010\n",
            "torch.Size([3571, 2])\n",
            "Reconstruction MSE error for snapshot 1654: 0.000009\n",
            "torch.Size([3571, 2])\n"
          ],
          "name": "stdout"
        },
        {
          "output_type": "stream",
          "text": [
            " 83% (1660 of 2000) |################    | Elapsed Time: 0:00:56 ETA:   0:00:11"
          ],
          "name": "stderr"
        },
        {
          "output_type": "stream",
          "text": [
            "Reconstruction MSE error for snapshot 1655: 0.000008\n",
            "torch.Size([3571, 2])\n",
            "Reconstruction MSE error for snapshot 1656: 0.000013\n",
            "torch.Size([3571, 2])\n",
            "Reconstruction MSE error for snapshot 1657: 0.000011\n",
            "torch.Size([3571, 2])\n",
            "Reconstruction MSE error for snapshot 1658: 0.000010\n",
            "torch.Size([3571, 2])\n",
            "Reconstruction MSE error for snapshot 1659: 0.000011\n",
            "torch.Size([3571, 2])\n",
            "Reconstruction MSE error for snapshot 1660: 0.000009\n",
            "torch.Size([3571, 2])\n"
          ],
          "name": "stdout"
        },
        {
          "output_type": "stream",
          "text": [
            " 83% (1667 of 2000) |################    | Elapsed Time: 0:00:57 ETA:   0:00:11"
          ],
          "name": "stderr"
        },
        {
          "output_type": "stream",
          "text": [
            "Reconstruction MSE error for snapshot 1661: 0.000009\n",
            "torch.Size([3571, 2])\n",
            "Reconstruction MSE error for snapshot 1662: 0.000008\n",
            "torch.Size([3571, 2])\n",
            "Reconstruction MSE error for snapshot 1663: 0.000010\n",
            "torch.Size([3571, 2])\n",
            "Reconstruction MSE error for snapshot 1664: 0.000009\n",
            "torch.Size([3571, 2])\n",
            "Reconstruction MSE error for snapshot 1665: 0.000009\n",
            "torch.Size([3571, 2])\n",
            "Reconstruction MSE error for snapshot 1666: 0.000007\n",
            "torch.Size([3571, 2])\n"
          ],
          "name": "stdout"
        },
        {
          "output_type": "stream",
          "text": [
            " 83% (1673 of 2000) |################    | Elapsed Time: 0:00:57 ETA:   0:00:11"
          ],
          "name": "stderr"
        },
        {
          "output_type": "stream",
          "text": [
            "Reconstruction MSE error for snapshot 1667: 0.000008\n",
            "torch.Size([3571, 2])\n",
            "Reconstruction MSE error for snapshot 1668: 0.000007\n",
            "torch.Size([3571, 2])\n",
            "Reconstruction MSE error for snapshot 1669: 0.000007\n",
            "torch.Size([3571, 2])\n",
            "Reconstruction MSE error for snapshot 1670: 0.000007\n",
            "torch.Size([3571, 2])\n",
            "Reconstruction MSE error for snapshot 1671: 0.000007\n",
            "torch.Size([3571, 2])\n",
            "Reconstruction MSE error for snapshot 1672: 0.000008\n",
            "torch.Size([3571, 2])\n"
          ],
          "name": "stdout"
        },
        {
          "output_type": "stream",
          "text": [
            "\r                                                                               \r\r 83% (1676 of 2000) |################    | Elapsed Time: 0:00:57 ETA:   0:00:11"
          ],
          "name": "stderr"
        },
        {
          "output_type": "stream",
          "text": [
            "Reconstruction MSE error for snapshot 1673: 0.000008\n",
            "torch.Size([3571, 2])\n",
            "Reconstruction MSE error for snapshot 1674: 0.000007\n",
            "torch.Size([3571, 2])\n",
            "Reconstruction MSE error for snapshot 1675: 0.000006\n",
            "torch.Size([3571, 2])\n",
            "Reconstruction MSE error for snapshot 1676: 0.000007\n",
            "torch.Size([3571, 2])\n",
            "Reconstruction MSE error for snapshot 1677: 0.000008\n",
            "torch.Size([3571, 2])\n",
            "Reconstruction MSE error for snapshot 1678: 0.000007\n",
            "torch.Size([3571, 2])\n",
            "Reconstruction MSE error for snapshot 1679: 0.000007\n",
            "torch.Size([3571, 2])\n"
          ],
          "name": "stdout"
        },
        {
          "output_type": "stream",
          "text": [
            " 84% (1686 of 2000) |################    | Elapsed Time: 0:00:57 ETA:   0:00:10"
          ],
          "name": "stderr"
        },
        {
          "output_type": "stream",
          "text": [
            "Reconstruction MSE error for snapshot 1680: 0.000007\n",
            "torch.Size([3571, 2])\n",
            "Reconstruction MSE error for snapshot 1681: 0.000006\n",
            "torch.Size([3571, 2])\n",
            "Reconstruction MSE error for snapshot 1682: 0.000009\n",
            "torch.Size([3571, 2])\n",
            "Reconstruction MSE error for snapshot 1683: 0.000008\n",
            "torch.Size([3571, 2])\n",
            "Reconstruction MSE error for snapshot 1684: 0.000006\n",
            "torch.Size([3571, 2])\n",
            "Reconstruction MSE error for snapshot 1685: 0.000008\n",
            "torch.Size([3571, 2])\n"
          ],
          "name": "stdout"
        },
        {
          "output_type": "stream",
          "text": [
            " 84% (1692 of 2000) |################    | Elapsed Time: 0:00:58 ETA:   0:00:10"
          ],
          "name": "stderr"
        },
        {
          "output_type": "stream",
          "text": [
            "Reconstruction MSE error for snapshot 1686: 0.000016\n",
            "torch.Size([3571, 2])\n",
            "Reconstruction MSE error for snapshot 1687: 0.000009\n",
            "torch.Size([3571, 2])\n",
            "Reconstruction MSE error for snapshot 1688: 0.000008\n",
            "torch.Size([3571, 2])\n",
            "Reconstruction MSE error for snapshot 1689: 0.000009\n",
            "torch.Size([3571, 2])\n",
            "Reconstruction MSE error for snapshot 1690: 0.000009\n",
            "torch.Size([3571, 2])\n",
            "Reconstruction MSE error for snapshot 1691: 0.000011\n",
            "torch.Size([3571, 2])\n"
          ],
          "name": "stdout"
        },
        {
          "output_type": "stream",
          "text": [
            " 84% (1697 of 2000) |################    | Elapsed Time: 0:00:58 ETA:   0:00:10"
          ],
          "name": "stderr"
        },
        {
          "output_type": "stream",
          "text": [
            "Reconstruction MSE error for snapshot 1692: 0.000011\n",
            "torch.Size([3571, 2])\n",
            "Reconstruction MSE error for snapshot 1693: 0.000017\n",
            "torch.Size([3571, 2])\n",
            "Reconstruction MSE error for snapshot 1694: 0.000011\n",
            "torch.Size([3571, 2])\n",
            "Reconstruction MSE error for snapshot 1695: 0.000008\n",
            "torch.Size([3571, 2])\n",
            "Reconstruction MSE error for snapshot 1696: 0.000009\n",
            "torch.Size([3571, 2])\n",
            "Reconstruction MSE error for snapshot 1697: 0.000009\n",
            "torch.Size([3571, 2])\n"
          ],
          "name": "stdout"
        },
        {
          "output_type": "stream",
          "text": [
            " 85% (1704 of 2000) |#################   | Elapsed Time: 0:00:58 ETA:   0:00:10"
          ],
          "name": "stderr"
        },
        {
          "output_type": "stream",
          "text": [
            "Reconstruction MSE error for snapshot 1698: 0.000007\n",
            "torch.Size([3571, 2])\n",
            "Reconstruction MSE error for snapshot 1699: 0.000007\n",
            "torch.Size([3571, 2])\n",
            "Reconstruction MSE error for snapshot 1700: 0.000008\n",
            "torch.Size([3571, 2])\n",
            "Reconstruction MSE error for snapshot 1701: 0.000008\n",
            "torch.Size([3571, 2])\n",
            "Reconstruction MSE error for snapshot 1702: 0.000007\n",
            "torch.Size([3571, 2])\n",
            "Reconstruction MSE error for snapshot 1703: 0.000007\n",
            "torch.Size([3571, 2])\n",
            "Reconstruction MSE error for snapshot 1704: 0.000007\n",
            "torch.Size([3571, 2])\n"
          ],
          "name": "stdout"
        },
        {
          "output_type": "stream",
          "text": [
            " 85% (1710 of 2000) |#################   | Elapsed Time: 0:00:58 ETA:   0:00:09"
          ],
          "name": "stderr"
        },
        {
          "output_type": "stream",
          "text": [
            "Reconstruction MSE error for snapshot 1705: 0.000007\n",
            "torch.Size([3571, 2])\n",
            "Reconstruction MSE error for snapshot 1706: 0.000006\n",
            "torch.Size([3571, 2])\n",
            "Reconstruction MSE error for snapshot 1707: 0.000007\n",
            "torch.Size([3571, 2])\n",
            "Reconstruction MSE error for snapshot 1708: 0.000008\n",
            "torch.Size([3571, 2])\n",
            "Reconstruction MSE error for snapshot 1709: 0.000007\n",
            "torch.Size([3571, 2])\n",
            "Reconstruction MSE error for snapshot 1710: 0.000007\n",
            "torch.Size([3571, 2])\n"
          ],
          "name": "stdout"
        },
        {
          "output_type": "stream",
          "text": [
            " 85% (1716 of 2000) |#################   | Elapsed Time: 0:00:58 ETA:   0:00:09"
          ],
          "name": "stderr"
        },
        {
          "output_type": "stream",
          "text": [
            "Reconstruction MSE error for snapshot 1711: 0.000007\n",
            "torch.Size([3571, 2])\n",
            "Reconstruction MSE error for snapshot 1712: 0.000007\n",
            "torch.Size([3571, 2])\n",
            "Reconstruction MSE error for snapshot 1713: 0.000008\n",
            "torch.Size([3571, 2])\n",
            "Reconstruction MSE error for snapshot 1714: 0.000007\n",
            "torch.Size([3571, 2])\n",
            "Reconstruction MSE error for snapshot 1715: 0.000007\n",
            "torch.Size([3571, 2])\n",
            "Reconstruction MSE error for snapshot 1716: 0.000007\n",
            "torch.Size([3571, 2])\n"
          ],
          "name": "stdout"
        },
        {
          "output_type": "stream",
          "text": [
            " 86% (1722 of 2000) |#################   | Elapsed Time: 0:00:59 ETA:   0:00:09"
          ],
          "name": "stderr"
        },
        {
          "output_type": "stream",
          "text": [
            "Reconstruction MSE error for snapshot 1717: 0.000007\n",
            "torch.Size([3571, 2])\n",
            "Reconstruction MSE error for snapshot 1718: 0.000007\n",
            "torch.Size([3571, 2])\n",
            "Reconstruction MSE error for snapshot 1719: 0.000010\n",
            "torch.Size([3571, 2])\n",
            "Reconstruction MSE error for snapshot 1720: 0.000010\n",
            "torch.Size([3571, 2])\n",
            "Reconstruction MSE error for snapshot 1721: 0.000009\n",
            "torch.Size([3571, 2])\n",
            "Reconstruction MSE error for snapshot 1722: 0.000010\n",
            "torch.Size([3571, 2])\n"
          ],
          "name": "stdout"
        },
        {
          "output_type": "stream",
          "text": [
            " 86% (1728 of 2000) |#################   | Elapsed Time: 0:00:59 ETA:   0:00:09"
          ],
          "name": "stderr"
        },
        {
          "output_type": "stream",
          "text": [
            "Reconstruction MSE error for snapshot 1723: 0.000011\n",
            "torch.Size([3571, 2])\n",
            "Reconstruction MSE error for snapshot 1724: 0.000008\n",
            "torch.Size([3571, 2])\n",
            "Reconstruction MSE error for snapshot 1725: 0.000008\n",
            "torch.Size([3571, 2])\n",
            "Reconstruction MSE error for snapshot 1726: 0.000006\n",
            "torch.Size([3571, 2])\n",
            "Reconstruction MSE error for snapshot 1727: 0.000007\n",
            "torch.Size([3571, 2])\n",
            "Reconstruction MSE error for snapshot 1728: 0.000008\n",
            "torch.Size([3571, 2])\n"
          ],
          "name": "stdout"
        },
        {
          "output_type": "stream",
          "text": [
            " 86% (1734 of 2000) |#################   | Elapsed Time: 0:00:59 ETA:   0:00:09"
          ],
          "name": "stderr"
        },
        {
          "output_type": "stream",
          "text": [
            "Reconstruction MSE error for snapshot 1729: 0.000014\n",
            "torch.Size([3571, 2])\n",
            "Reconstruction MSE error for snapshot 1730: 0.000009\n",
            "torch.Size([3571, 2])\n",
            "Reconstruction MSE error for snapshot 1731: 0.000012\n",
            "torch.Size([3571, 2])\n",
            "Reconstruction MSE error for snapshot 1732: 0.000010\n",
            "torch.Size([3571, 2])\n",
            "Reconstruction MSE error for snapshot 1733: 0.000009\n",
            "torch.Size([3571, 2])\n",
            "Reconstruction MSE error for snapshot 1734: 0.000015\n",
            "torch.Size([3571, 2])\n"
          ],
          "name": "stdout"
        },
        {
          "output_type": "stream",
          "text": [
            " 87% (1741 of 2000) |#################   | Elapsed Time: 0:00:59 ETA:   0:00:08"
          ],
          "name": "stderr"
        },
        {
          "output_type": "stream",
          "text": [
            "Reconstruction MSE error for snapshot 1735: 0.000012\n",
            "torch.Size([3571, 2])\n",
            "Reconstruction MSE error for snapshot 1736: 0.000009\n",
            "torch.Size([3571, 2])\n",
            "Reconstruction MSE error for snapshot 1737: 0.000008\n",
            "torch.Size([3571, 2])\n",
            "Reconstruction MSE error for snapshot 1738: 0.000009\n",
            "torch.Size([3571, 2])\n",
            "Reconstruction MSE error for snapshot 1739: 0.000010\n",
            "torch.Size([3571, 2])\n",
            "Reconstruction MSE error for snapshot 1740: 0.000009\n",
            "torch.Size([3571, 2])\n",
            "Reconstruction MSE error for snapshot 1741: 0.000010\n",
            "torch.Size([3571, 2])\n"
          ],
          "name": "stdout"
        },
        {
          "output_type": "stream",
          "text": [
            " 87% (1747 of 2000) |#################   | Elapsed Time: 0:00:59 ETA:   0:00:08"
          ],
          "name": "stderr"
        },
        {
          "output_type": "stream",
          "text": [
            "Reconstruction MSE error for snapshot 1742: 0.000008\n",
            "torch.Size([3571, 2])\n",
            "Reconstruction MSE error for snapshot 1743: 0.000015\n",
            "torch.Size([3571, 2])\n",
            "Reconstruction MSE error for snapshot 1744: 0.000006\n",
            "torch.Size([3571, 2])\n",
            "Reconstruction MSE error for snapshot 1745: 0.000006\n",
            "torch.Size([3571, 2])\n",
            "Reconstruction MSE error for snapshot 1746: 0.000008\n",
            "torch.Size([3571, 2])\n",
            "Reconstruction MSE error for snapshot 1747: 0.000008\n",
            "torch.Size([3571, 2])\n"
          ],
          "name": "stdout"
        },
        {
          "output_type": "stream",
          "text": [
            " 87% (1753 of 2000) |#################   | Elapsed Time: 0:01:00 ETA:   0:00:08"
          ],
          "name": "stderr"
        },
        {
          "output_type": "stream",
          "text": [
            "Reconstruction MSE error for snapshot 1748: 0.000008\n",
            "torch.Size([3571, 2])\n",
            "Reconstruction MSE error for snapshot 1749: 0.000008\n",
            "torch.Size([3571, 2])\n",
            "Reconstruction MSE error for snapshot 1750: 0.000014\n",
            "torch.Size([3571, 2])\n",
            "Reconstruction MSE error for snapshot 1751: 0.000007\n",
            "torch.Size([3571, 2])\n",
            "Reconstruction MSE error for snapshot 1752: 0.000007\n",
            "torch.Size([3571, 2])\n",
            "Reconstruction MSE error for snapshot 1753: 0.000007\n",
            "torch.Size([3571, 2])\n"
          ],
          "name": "stdout"
        },
        {
          "output_type": "stream",
          "text": [
            " 87% (1759 of 2000) |#################   | Elapsed Time: 0:01:00 ETA:   0:00:08"
          ],
          "name": "stderr"
        },
        {
          "output_type": "stream",
          "text": [
            "Reconstruction MSE error for snapshot 1754: 0.000008\n",
            "torch.Size([3571, 2])\n",
            "Reconstruction MSE error for snapshot 1755: 0.000007\n",
            "torch.Size([3571, 2])\n",
            "Reconstruction MSE error for snapshot 1756: 0.000006\n",
            "torch.Size([3571, 2])\n",
            "Reconstruction MSE error for snapshot 1757: 0.000008\n",
            "torch.Size([3571, 2])\n",
            "Reconstruction MSE error for snapshot 1758: 0.000009\n",
            "torch.Size([3571, 2])\n",
            "Reconstruction MSE error for snapshot 1759: 0.000007\n",
            "torch.Size([3571, 2])\n"
          ],
          "name": "stdout"
        },
        {
          "output_type": "stream",
          "text": [
            " 88% (1766 of 2000) |#################   | Elapsed Time: 0:01:00 ETA:   0:00:08"
          ],
          "name": "stderr"
        },
        {
          "output_type": "stream",
          "text": [
            "Reconstruction MSE error for snapshot 1760: 0.000008\n",
            "torch.Size([3571, 2])\n",
            "Reconstruction MSE error for snapshot 1761: 0.000015\n",
            "torch.Size([3571, 2])\n",
            "Reconstruction MSE error for snapshot 1762: 0.000008\n",
            "torch.Size([3571, 2])\n",
            "Reconstruction MSE error for snapshot 1763: 0.000007\n",
            "torch.Size([3571, 2])\n",
            "Reconstruction MSE error for snapshot 1764: 0.000009\n",
            "torch.Size([3571, 2])\n",
            "Reconstruction MSE error for snapshot 1765: 0.000009\n",
            "torch.Size([3571, 2])\n",
            "Reconstruction MSE error for snapshot 1766: 0.000010\n"
          ],
          "name": "stdout"
        },
        {
          "output_type": "stream",
          "text": [
            " 88% (1772 of 2000) |#################   | Elapsed Time: 0:01:00 ETA:   0:00:07"
          ],
          "name": "stderr"
        },
        {
          "output_type": "stream",
          "text": [
            "torch.Size([3571, 2])\n",
            "Reconstruction MSE error for snapshot 1767: 0.000010\n",
            "torch.Size([3571, 2])\n",
            "Reconstruction MSE error for snapshot 1768: 0.000018\n",
            "torch.Size([3571, 2])\n",
            "Reconstruction MSE error for snapshot 1769: 0.000010\n",
            "torch.Size([3571, 2])\n",
            "Reconstruction MSE error for snapshot 1770: 0.000009\n",
            "torch.Size([3571, 2])\n",
            "Reconstruction MSE error for snapshot 1771: 0.000013\n",
            "torch.Size([3571, 2])\n"
          ],
          "name": "stdout"
        },
        {
          "output_type": "stream",
          "text": [
            " 88% (1778 of 2000) |#################   | Elapsed Time: 0:01:00 ETA:   0:00:07"
          ],
          "name": "stderr"
        },
        {
          "output_type": "stream",
          "text": [
            "Reconstruction MSE error for snapshot 1772: 0.000010\n",
            "torch.Size([3571, 2])\n",
            "Reconstruction MSE error for snapshot 1773: 0.000007\n",
            "torch.Size([3571, 2])\n",
            "Reconstruction MSE error for snapshot 1774: 0.000007\n",
            "torch.Size([3571, 2])\n",
            "Reconstruction MSE error for snapshot 1775: 0.000007\n",
            "torch.Size([3571, 2])\n",
            "Reconstruction MSE error for snapshot 1776: 0.000006\n",
            "torch.Size([3571, 2])\n",
            "Reconstruction MSE error for snapshot 1777: 0.000007\n",
            "torch.Size([3571, 2])\n"
          ],
          "name": "stdout"
        },
        {
          "output_type": "stream",
          "text": [
            " 89% (1784 of 2000) |#################   | Elapsed Time: 0:01:01 ETA:   0:00:07"
          ],
          "name": "stderr"
        },
        {
          "output_type": "stream",
          "text": [
            "Reconstruction MSE error for snapshot 1778: 0.000008\n",
            "torch.Size([3571, 2])\n",
            "Reconstruction MSE error for snapshot 1779: 0.000006\n",
            "torch.Size([3571, 2])\n",
            "Reconstruction MSE error for snapshot 1780: 0.000006\n",
            "torch.Size([3571, 2])\n",
            "Reconstruction MSE error for snapshot 1781: 0.000007\n",
            "torch.Size([3571, 2])\n",
            "Reconstruction MSE error for snapshot 1782: 0.000006\n",
            "torch.Size([3571, 2])\n",
            "Reconstruction MSE error for snapshot 1783: 0.000007\n",
            "torch.Size([3571, 2])\n"
          ],
          "name": "stdout"
        },
        {
          "output_type": "stream",
          "text": [
            " 89% (1790 of 2000) |#################   | Elapsed Time: 0:01:01 ETA:   0:00:07"
          ],
          "name": "stderr"
        },
        {
          "output_type": "stream",
          "text": [
            "Reconstruction MSE error for snapshot 1784: 0.000009\n",
            "torch.Size([3571, 2])\n",
            "Reconstruction MSE error for snapshot 1785: 0.000006\n",
            "torch.Size([3571, 2])\n",
            "Reconstruction MSE error for snapshot 1786: 0.000007\n",
            "torch.Size([3571, 2])\n",
            "Reconstruction MSE error for snapshot 1787: 0.000008\n",
            "torch.Size([3571, 2])\n",
            "Reconstruction MSE error for snapshot 1788: 0.000008\n",
            "torch.Size([3571, 2])\n",
            "Reconstruction MSE error for snapshot 1789: 0.000009\n",
            "torch.Size([3571, 2])\n"
          ],
          "name": "stdout"
        },
        {
          "output_type": "stream",
          "text": [
            " 89% (1796 of 2000) |#################   | Elapsed Time: 0:01:01 ETA:   0:00:06"
          ],
          "name": "stderr"
        },
        {
          "output_type": "stream",
          "text": [
            "Reconstruction MSE error for snapshot 1790: 0.000008\n",
            "torch.Size([3571, 2])\n",
            "Reconstruction MSE error for snapshot 1791: 0.000007\n",
            "torch.Size([3571, 2])\n",
            "Reconstruction MSE error for snapshot 1792: 0.000006\n",
            "torch.Size([3571, 2])\n",
            "Reconstruction MSE error for snapshot 1793: 0.000007\n",
            "torch.Size([3571, 2])\n",
            "Reconstruction MSE error for snapshot 1794: 0.000010\n",
            "torch.Size([3571, 2])\n",
            "Reconstruction MSE error for snapshot 1795: 0.000009\n",
            "torch.Size([3571, 2])\n"
          ],
          "name": "stdout"
        },
        {
          "output_type": "stream",
          "text": [
            " 90% (1801 of 2000) |##################  | Elapsed Time: 0:01:01 ETA:   0:00:06"
          ],
          "name": "stderr"
        },
        {
          "output_type": "stream",
          "text": [
            "Reconstruction MSE error for snapshot 1796: 0.000010\n",
            "torch.Size([3571, 2])\n",
            "Reconstruction MSE error for snapshot 1797: 0.000008\n",
            "torch.Size([3571, 2])\n",
            "Reconstruction MSE error for snapshot 1798: 0.000010\n",
            "torch.Size([3571, 2])\n",
            "Reconstruction MSE error for snapshot 1799: 0.000008\n",
            "torch.Size([3571, 2])\n",
            "Reconstruction MSE error for snapshot 1800: 0.000011\n",
            "torch.Size([3571, 2])\n",
            "Reconstruction MSE error for snapshot 1801: 0.000006\n",
            "torch.Size([3571, 2])\n"
          ],
          "name": "stdout"
        },
        {
          "output_type": "stream",
          "text": [
            " 90% (1807 of 2000) |##################  | Elapsed Time: 0:01:01 ETA:   0:00:06"
          ],
          "name": "stderr"
        },
        {
          "output_type": "stream",
          "text": [
            "Reconstruction MSE error for snapshot 1802: 0.000007\n",
            "torch.Size([3571, 2])\n",
            "Reconstruction MSE error for snapshot 1803: 0.000007\n",
            "torch.Size([3571, 2])\n",
            "Reconstruction MSE error for snapshot 1804: 0.000014\n",
            "torch.Size([3571, 2])\n",
            "Reconstruction MSE error for snapshot 1805: 0.000010\n",
            "torch.Size([3571, 2])\n",
            "Reconstruction MSE error for snapshot 1806: 0.000009\n",
            "torch.Size([3571, 2])\n",
            "Reconstruction MSE error for snapshot 1807: 0.000015\n",
            "torch.Size([3571, 2])\n"
          ],
          "name": "stdout"
        },
        {
          "output_type": "stream",
          "text": [
            " 90% (1813 of 2000) |##################  | Elapsed Time: 0:01:02 ETA:   0:00:06"
          ],
          "name": "stderr"
        },
        {
          "output_type": "stream",
          "text": [
            "Reconstruction MSE error for snapshot 1808: 0.000011\n",
            "torch.Size([3571, 2])\n",
            "Reconstruction MSE error for snapshot 1809: 0.000012\n",
            "torch.Size([3571, 2])\n",
            "Reconstruction MSE error for snapshot 1810: 0.000012\n",
            "torch.Size([3571, 2])\n",
            "Reconstruction MSE error for snapshot 1811: 0.000009\n",
            "torch.Size([3571, 2])\n",
            "Reconstruction MSE error for snapshot 1812: 0.000009\n",
            "torch.Size([3571, 2])\n",
            "Reconstruction MSE error for snapshot 1813: 0.000009\n",
            "torch.Size([3571, 2])\n"
          ],
          "name": "stdout"
        },
        {
          "output_type": "stream",
          "text": [
            " 90% (1819 of 2000) |##################  | Elapsed Time: 0:01:02 ETA:   0:00:06"
          ],
          "name": "stderr"
        },
        {
          "output_type": "stream",
          "text": [
            "Reconstruction MSE error for snapshot 1814: 0.000009\n",
            "torch.Size([3571, 2])\n",
            "Reconstruction MSE error for snapshot 1815: 0.000009\n",
            "torch.Size([3571, 2])\n",
            "Reconstruction MSE error for snapshot 1816: 0.000011\n",
            "torch.Size([3571, 2])\n",
            "Reconstruction MSE error for snapshot 1817: 0.000007\n",
            "torch.Size([3571, 2])\n",
            "Reconstruction MSE error for snapshot 1818: 0.000011\n",
            "torch.Size([3571, 2])\n",
            "Reconstruction MSE error for snapshot 1819: 0.000007\n",
            "torch.Size([3571, 2])\n"
          ],
          "name": "stdout"
        },
        {
          "output_type": "stream",
          "text": [
            " 91% (1825 of 2000) |##################  | Elapsed Time: 0:01:02 ETA:   0:00:06"
          ],
          "name": "stderr"
        },
        {
          "output_type": "stream",
          "text": [
            "Reconstruction MSE error for snapshot 1820: 0.000007\n",
            "torch.Size([3571, 2])\n",
            "Reconstruction MSE error for snapshot 1821: 0.000007\n",
            "torch.Size([3571, 2])\n",
            "Reconstruction MSE error for snapshot 1822: 0.000007\n",
            "torch.Size([3571, 2])\n",
            "Reconstruction MSE error for snapshot 1823: 0.000008\n",
            "torch.Size([3571, 2])\n",
            "Reconstruction MSE error for snapshot 1824: 0.000007\n",
            "torch.Size([3571, 2])\n",
            "Reconstruction MSE error for snapshot 1825: 0.000008\n",
            "torch.Size([3571, 2])\n"
          ],
          "name": "stdout"
        },
        {
          "output_type": "stream",
          "text": [
            " 91% (1831 of 2000) |##################  | Elapsed Time: 0:01:02 ETA:   0:00:05"
          ],
          "name": "stderr"
        },
        {
          "output_type": "stream",
          "text": [
            "Reconstruction MSE error for snapshot 1826: 0.000007\n",
            "torch.Size([3571, 2])\n",
            "Reconstruction MSE error for snapshot 1827: 0.000008\n",
            "torch.Size([3571, 2])\n",
            "Reconstruction MSE error for snapshot 1828: 0.000007\n",
            "torch.Size([3571, 2])\n",
            "Reconstruction MSE error for snapshot 1829: 0.000010\n",
            "torch.Size([3571, 2])\n",
            "Reconstruction MSE error for snapshot 1830: 0.000007\n",
            "torch.Size([3571, 2])\n",
            "Reconstruction MSE error for snapshot 1831: 0.000007\n",
            "torch.Size([3571, 2])\n"
          ],
          "name": "stdout"
        },
        {
          "output_type": "stream",
          "text": [
            " 91% (1837 of 2000) |##################  | Elapsed Time: 0:01:03 ETA:   0:00:05"
          ],
          "name": "stderr"
        },
        {
          "output_type": "stream",
          "text": [
            "Reconstruction MSE error for snapshot 1832: 0.000008\n",
            "torch.Size([3571, 2])\n",
            "Reconstruction MSE error for snapshot 1833: 0.000008\n",
            "torch.Size([3571, 2])\n",
            "Reconstruction MSE error for snapshot 1834: 0.000008\n",
            "torch.Size([3571, 2])\n",
            "Reconstruction MSE error for snapshot 1835: 0.000008\n",
            "torch.Size([3571, 2])\n",
            "Reconstruction MSE error for snapshot 1836: 0.000010\n",
            "torch.Size([3571, 2])\n",
            "Reconstruction MSE error for snapshot 1837: 0.000009\n",
            "torch.Size([3571, 2])\n"
          ],
          "name": "stdout"
        },
        {
          "output_type": "stream",
          "text": [
            " 92% (1843 of 2000) |##################  | Elapsed Time: 0:01:03 ETA:   0:00:05"
          ],
          "name": "stderr"
        },
        {
          "output_type": "stream",
          "text": [
            "Reconstruction MSE error for snapshot 1838: 0.000008\n",
            "torch.Size([3571, 2])\n",
            "Reconstruction MSE error for snapshot 1839: 0.000010\n",
            "torch.Size([3571, 2])\n",
            "Reconstruction MSE error for snapshot 1840: 0.000009\n",
            "torch.Size([3571, 2])\n",
            "Reconstruction MSE error for snapshot 1841: 0.000009\n",
            "torch.Size([3571, 2])\n",
            "Reconstruction MSE error for snapshot 1842: 0.000012\n",
            "torch.Size([3571, 2])\n",
            "Reconstruction MSE error for snapshot 1843: 0.000009\n",
            "torch.Size([3571, 2])\n"
          ],
          "name": "stdout"
        },
        {
          "output_type": "stream",
          "text": [
            " 92% (1849 of 2000) |##################  | Elapsed Time: 0:01:03 ETA:   0:00:05"
          ],
          "name": "stderr"
        },
        {
          "output_type": "stream",
          "text": [
            "Reconstruction MSE error for snapshot 1844: 0.000012\n",
            "torch.Size([3571, 2])\n",
            "Reconstruction MSE error for snapshot 1845: 0.000010\n",
            "torch.Size([3571, 2])\n",
            "Reconstruction MSE error for snapshot 1846: 0.000008\n",
            "torch.Size([3571, 2])\n",
            "Reconstruction MSE error for snapshot 1847: 0.000008\n",
            "torch.Size([3571, 2])\n",
            "Reconstruction MSE error for snapshot 1848: 0.000011\n",
            "torch.Size([3571, 2])\n",
            "Reconstruction MSE error for snapshot 1849: 0.000007\n",
            "torch.Size([3571, 2])\n"
          ],
          "name": "stdout"
        },
        {
          "output_type": "stream",
          "text": [
            " 92% (1855 of 2000) |##################  | Elapsed Time: 0:01:03 ETA:   0:00:05"
          ],
          "name": "stderr"
        },
        {
          "output_type": "stream",
          "text": [
            "Reconstruction MSE error for snapshot 1850: 0.000007\n",
            "torch.Size([3571, 2])\n",
            "Reconstruction MSE error for snapshot 1851: 0.000007\n",
            "torch.Size([3571, 2])\n",
            "Reconstruction MSE error for snapshot 1852: 0.000007\n",
            "torch.Size([3571, 2])\n",
            "Reconstruction MSE error for snapshot 1853: 0.000006\n",
            "torch.Size([3571, 2])\n",
            "Reconstruction MSE error for snapshot 1854: 0.000007\n",
            "torch.Size([3571, 2])\n",
            "Reconstruction MSE error for snapshot 1855: 0.000007\n",
            "torch.Size([3571, 2])\n"
          ],
          "name": "stdout"
        },
        {
          "output_type": "stream",
          "text": [
            " 93% (1861 of 2000) |##################  | Elapsed Time: 0:01:03 ETA:   0:00:04"
          ],
          "name": "stderr"
        },
        {
          "output_type": "stream",
          "text": [
            "Reconstruction MSE error for snapshot 1856: 0.000008\n",
            "torch.Size([3571, 2])\n",
            "Reconstruction MSE error for snapshot 1857: 0.000006\n",
            "torch.Size([3571, 2])\n",
            "Reconstruction MSE error for snapshot 1858: 0.000007\n",
            "torch.Size([3571, 2])\n",
            "Reconstruction MSE error for snapshot 1859: 0.000008\n",
            "torch.Size([3571, 2])\n",
            "Reconstruction MSE error for snapshot 1860: 0.000008\n",
            "torch.Size([3571, 2])\n",
            "Reconstruction MSE error for snapshot 1861: 0.000007\n",
            "torch.Size([3571, 2])\n"
          ],
          "name": "stdout"
        },
        {
          "output_type": "stream",
          "text": [
            " 93% (1867 of 2000) |##################  | Elapsed Time: 0:01:04 ETA:   0:00:04"
          ],
          "name": "stderr"
        },
        {
          "output_type": "stream",
          "text": [
            "Reconstruction MSE error for snapshot 1862: 0.000007\n",
            "torch.Size([3571, 2])\n",
            "Reconstruction MSE error for snapshot 1863: 0.000007\n",
            "torch.Size([3571, 2])\n",
            "Reconstruction MSE error for snapshot 1864: 0.000010\n",
            "torch.Size([3571, 2])\n",
            "Reconstruction MSE error for snapshot 1865: 0.000008\n",
            "torch.Size([3571, 2])\n",
            "Reconstruction MSE error for snapshot 1866: 0.000007\n",
            "torch.Size([3571, 2])\n",
            "Reconstruction MSE error for snapshot 1867: 0.000007\n",
            "torch.Size([3571, 2])\n"
          ],
          "name": "stdout"
        },
        {
          "output_type": "stream",
          "text": [
            " 93% (1873 of 2000) |##################  | Elapsed Time: 0:01:04 ETA:   0:00:04"
          ],
          "name": "stderr"
        },
        {
          "output_type": "stream",
          "text": [
            "Reconstruction MSE error for snapshot 1868: 0.000007\n",
            "torch.Size([3571, 2])\n",
            "Reconstruction MSE error for snapshot 1869: 0.000010\n",
            "torch.Size([3571, 2])\n",
            "Reconstruction MSE error for snapshot 1870: 0.000010\n",
            "torch.Size([3571, 2])\n",
            "Reconstruction MSE error for snapshot 1871: 0.000013\n",
            "torch.Size([3571, 2])\n",
            "Reconstruction MSE error for snapshot 1872: 0.000010\n",
            "torch.Size([3571, 2])\n",
            "Reconstruction MSE error for snapshot 1873: 0.000009\n",
            "torch.Size([3571, 2])\n"
          ],
          "name": "stdout"
        },
        {
          "output_type": "stream",
          "text": [
            " 93% (1879 of 2000) |##################  | Elapsed Time: 0:01:04 ETA:   0:00:04"
          ],
          "name": "stderr"
        },
        {
          "output_type": "stream",
          "text": [
            "Reconstruction MSE error for snapshot 1874: 0.000008\n",
            "torch.Size([3571, 2])\n",
            "Reconstruction MSE error for snapshot 1875: 0.000011\n",
            "torch.Size([3571, 2])\n",
            "Reconstruction MSE error for snapshot 1876: 0.000007\n",
            "torch.Size([3571, 2])\n",
            "Reconstruction MSE error for snapshot 1877: 0.000008\n",
            "torch.Size([3571, 2])\n",
            "Reconstruction MSE error for snapshot 1878: 0.000007\n",
            "torch.Size([3571, 2])\n",
            "Reconstruction MSE error for snapshot 1879: 0.000008\n",
            "torch.Size([3571, 2])\n"
          ],
          "name": "stdout"
        },
        {
          "output_type": "stream",
          "text": [
            " 94% (1885 of 2000) |##################  | Elapsed Time: 0:01:04 ETA:   0:00:04"
          ],
          "name": "stderr"
        },
        {
          "output_type": "stream",
          "text": [
            "Reconstruction MSE error for snapshot 1880: 0.000010\n",
            "torch.Size([3571, 2])\n",
            "Reconstruction MSE error for snapshot 1881: 0.000009\n",
            "torch.Size([3571, 2])\n",
            "Reconstruction MSE error for snapshot 1882: 0.000011\n",
            "torch.Size([3571, 2])\n",
            "Reconstruction MSE error for snapshot 1883: 0.000011\n",
            "torch.Size([3571, 2])\n",
            "Reconstruction MSE error for snapshot 1884: 0.000010\n",
            "torch.Size([3571, 2])\n",
            "Reconstruction MSE error for snapshot 1885: 0.000011\n",
            "torch.Size([3571, 2])\n"
          ],
          "name": "stdout"
        },
        {
          "output_type": "stream",
          "text": [
            " 94% (1891 of 2000) |##################  | Elapsed Time: 0:01:04 ETA:   0:00:03"
          ],
          "name": "stderr"
        },
        {
          "output_type": "stream",
          "text": [
            "Reconstruction MSE error for snapshot 1886: 0.000010\n",
            "torch.Size([3571, 2])\n",
            "Reconstruction MSE error for snapshot 1887: 0.000009\n",
            "torch.Size([3571, 2])\n",
            "Reconstruction MSE error for snapshot 1888: 0.000010\n",
            "torch.Size([3571, 2])\n",
            "Reconstruction MSE error for snapshot 1889: 0.000009\n",
            "torch.Size([3571, 2])\n",
            "Reconstruction MSE error for snapshot 1890: 0.000008\n",
            "torch.Size([3571, 2])\n",
            "Reconstruction MSE error for snapshot 1891: 0.000016\n",
            "torch.Size([3571, 2])\n"
          ],
          "name": "stdout"
        },
        {
          "output_type": "stream",
          "text": [
            " 94% (1897 of 2000) |##################  | Elapsed Time: 0:01:05 ETA:   0:00:03"
          ],
          "name": "stderr"
        },
        {
          "output_type": "stream",
          "text": [
            "Reconstruction MSE error for snapshot 1892: 0.000009\n",
            "torch.Size([3571, 2])\n",
            "Reconstruction MSE error for snapshot 1893: 0.000011\n",
            "torch.Size([3571, 2])\n",
            "Reconstruction MSE error for snapshot 1894: 0.000007\n",
            "torch.Size([3571, 2])\n",
            "Reconstruction MSE error for snapshot 1895: 0.000009\n",
            "torch.Size([3571, 2])\n",
            "Reconstruction MSE error for snapshot 1896: 0.000007\n",
            "torch.Size([3571, 2])\n",
            "Reconstruction MSE error for snapshot 1897: 0.000008\n",
            "torch.Size([3571, 2])\n"
          ],
          "name": "stdout"
        },
        {
          "output_type": "stream",
          "text": [
            " 95% (1902 of 2000) |################### | Elapsed Time: 0:01:05 ETA:   0:00:03"
          ],
          "name": "stderr"
        },
        {
          "output_type": "stream",
          "text": [
            "Reconstruction MSE error for snapshot 1898: 0.000008\n",
            "torch.Size([3571, 2])\n",
            "Reconstruction MSE error for snapshot 1899: 0.000008\n",
            "torch.Size([3571, 2])\n",
            "Reconstruction MSE error for snapshot 1900: 0.000008\n",
            "torch.Size([3571, 2])\n",
            "Reconstruction MSE error for snapshot 1901: 0.000009\n",
            "torch.Size([3571, 2])\n",
            "Reconstruction MSE error for snapshot 1902: 0.000007\n",
            "torch.Size([3571, 2])\n",
            "Reconstruction MSE error for snapshot 1903: 0.000007\n",
            "torch.Size([3571, 2])\n"
          ],
          "name": "stdout"
        },
        {
          "output_type": "stream",
          "text": [
            " 95% (1908 of 2000) |################### | Elapsed Time: 0:01:05 ETA:   0:00:03"
          ],
          "name": "stderr"
        },
        {
          "output_type": "stream",
          "text": [
            "Reconstruction MSE error for snapshot 1904: 0.000009\n",
            "torch.Size([3571, 2])\n",
            "Reconstruction MSE error for snapshot 1905: 0.000007\n",
            "torch.Size([3571, 2])\n",
            "Reconstruction MSE error for snapshot 1906: 0.000006\n",
            "torch.Size([3571, 2])\n",
            "Reconstruction MSE error for snapshot 1907: 0.000007\n",
            "torch.Size([3571, 2])\n",
            "Reconstruction MSE error for snapshot 1908: 0.000007\n",
            "torch.Size([3571, 2])\n",
            "Reconstruction MSE error for snapshot 1909: 0.000008\n",
            "torch.Size([3571, 2])\n"
          ],
          "name": "stdout"
        },
        {
          "output_type": "stream",
          "text": [
            " 95% (1914 of 2000) |################### | Elapsed Time: 0:01:05 ETA:   0:00:03"
          ],
          "name": "stderr"
        },
        {
          "output_type": "stream",
          "text": [
            "Reconstruction MSE error for snapshot 1910: 0.000007\n",
            "torch.Size([3571, 2])\n",
            "Reconstruction MSE error for snapshot 1911: 0.000009\n",
            "torch.Size([3571, 2])\n",
            "Reconstruction MSE error for snapshot 1912: 0.000010\n",
            "torch.Size([3571, 2])\n",
            "Reconstruction MSE error for snapshot 1913: 0.000007\n",
            "torch.Size([3571, 2])\n",
            "Reconstruction MSE error for snapshot 1914: 0.000009\n",
            "torch.Size([3571, 2])\n",
            "Reconstruction MSE error for snapshot 1915: 0.000009\n",
            "torch.Size([3571, 2])\n"
          ],
          "name": "stdout"
        },
        {
          "output_type": "stream",
          "text": [
            " 96% (1920 of 2000) |################### | Elapsed Time: 0:01:05 ETA:   0:00:02"
          ],
          "name": "stderr"
        },
        {
          "output_type": "stream",
          "text": [
            "Reconstruction MSE error for snapshot 1916: 0.000009\n",
            "torch.Size([3571, 2])\n",
            "Reconstruction MSE error for snapshot 1917: 0.000009\n",
            "torch.Size([3571, 2])\n",
            "Reconstruction MSE error for snapshot 1918: 0.000010\n",
            "torch.Size([3571, 2])\n",
            "Reconstruction MSE error for snapshot 1919: 0.000014\n",
            "torch.Size([3571, 2])\n",
            "Reconstruction MSE error for snapshot 1920: 0.000010\n",
            "torch.Size([3571, 2])\n",
            "Reconstruction MSE error for snapshot 1921: 0.000009\n",
            "torch.Size([3571, 2])\n"
          ],
          "name": "stdout"
        },
        {
          "output_type": "stream",
          "text": [
            " 96% (1925 of 2000) |################### | Elapsed Time: 0:01:06 ETA:   0:00:02"
          ],
          "name": "stderr"
        },
        {
          "output_type": "stream",
          "text": [
            "Reconstruction MSE error for snapshot 1922: 0.000011\n",
            "torch.Size([3571, 2])\n",
            "Reconstruction MSE error for snapshot 1923: 0.000010\n",
            "torch.Size([3571, 2])\n",
            "Reconstruction MSE error for snapshot 1924: 0.000007\n",
            "torch.Size([3571, 2])\n",
            "Reconstruction MSE error for snapshot 1925: 0.000007\n",
            "torch.Size([3571, 2])\n",
            "Reconstruction MSE error for snapshot 1926: 0.000007\n",
            "torch.Size([3571, 2])\n",
            "Reconstruction MSE error for snapshot 1927: 0.000006\n",
            "torch.Size([3571, 2])\n"
          ],
          "name": "stdout"
        },
        {
          "output_type": "stream",
          "text": [
            " 96% (1932 of 2000) |################### | Elapsed Time: 0:01:06 ETA:   0:00:02"
          ],
          "name": "stderr"
        },
        {
          "output_type": "stream",
          "text": [
            "Reconstruction MSE error for snapshot 1928: 0.000007\n",
            "torch.Size([3571, 2])\n",
            "Reconstruction MSE error for snapshot 1929: 0.000007\n",
            "torch.Size([3571, 2])\n",
            "Reconstruction MSE error for snapshot 1930: 0.000006\n",
            "torch.Size([3571, 2])\n",
            "Reconstruction MSE error for snapshot 1931: 0.000007\n",
            "torch.Size([3571, 2])\n",
            "Reconstruction MSE error for snapshot 1932: 0.000007\n",
            "torch.Size([3571, 2])\n",
            "Reconstruction MSE error for snapshot 1933: 0.000007\n",
            "torch.Size([3571, 2])\n"
          ],
          "name": "stdout"
        },
        {
          "output_type": "stream",
          "text": [
            " 96% (1938 of 2000) |################### | Elapsed Time: 0:01:06 ETA:   0:00:02"
          ],
          "name": "stderr"
        },
        {
          "output_type": "stream",
          "text": [
            "Reconstruction MSE error for snapshot 1934: 0.000007\n",
            "torch.Size([3571, 2])\n",
            "Reconstruction MSE error for snapshot 1935: 0.000008\n",
            "torch.Size([3571, 2])\n",
            "Reconstruction MSE error for snapshot 1936: 0.000006\n",
            "torch.Size([3571, 2])\n",
            "Reconstruction MSE error for snapshot 1937: 0.000007\n",
            "torch.Size([3571, 2])\n",
            "Reconstruction MSE error for snapshot 1938: 0.000008\n",
            "torch.Size([3571, 2])\n",
            "Reconstruction MSE error for snapshot 1939: 0.000011\n",
            "torch.Size([3571, 2])\n"
          ],
          "name": "stdout"
        },
        {
          "output_type": "stream",
          "text": [
            " 97% (1944 of 2000) |################### | Elapsed Time: 0:01:06 ETA:   0:00:01"
          ],
          "name": "stderr"
        },
        {
          "output_type": "stream",
          "text": [
            "Reconstruction MSE error for snapshot 1940: 0.000008\n",
            "torch.Size([3571, 2])\n",
            "Reconstruction MSE error for snapshot 1941: 0.000008\n",
            "torch.Size([3571, 2])\n",
            "Reconstruction MSE error for snapshot 1942: 0.000007\n",
            "torch.Size([3571, 2])\n",
            "Reconstruction MSE error for snapshot 1943: 0.000007\n",
            "torch.Size([3571, 2])\n",
            "Reconstruction MSE error for snapshot 1944: 0.000007\n",
            "torch.Size([3571, 2])\n",
            "Reconstruction MSE error for snapshot 1945: 0.000009\n",
            "torch.Size([3571, 2])\n"
          ],
          "name": "stdout"
        },
        {
          "output_type": "stream",
          "text": [
            " 97% (1950 of 2000) |################### | Elapsed Time: 0:01:06 ETA:   0:00:01"
          ],
          "name": "stderr"
        },
        {
          "output_type": "stream",
          "text": [
            "Reconstruction MSE error for snapshot 1946: 0.000009\n",
            "torch.Size([3571, 2])\n",
            "Reconstruction MSE error for snapshot 1947: 0.000009\n",
            "torch.Size([3571, 2])\n",
            "Reconstruction MSE error for snapshot 1948: 0.000008\n",
            "torch.Size([3571, 2])\n",
            "Reconstruction MSE error for snapshot 1949: 0.000009\n",
            "torch.Size([3571, 2])\n",
            "Reconstruction MSE error for snapshot 1950: 0.000009\n",
            "torch.Size([3571, 2])\n",
            "Reconstruction MSE error for snapshot 1951: 0.000008\n",
            "torch.Size([3571, 2])\n"
          ],
          "name": "stdout"
        },
        {
          "output_type": "stream",
          "text": [
            " 97% (1956 of 2000) |################### | Elapsed Time: 0:01:07 ETA:   0:00:01"
          ],
          "name": "stderr"
        },
        {
          "output_type": "stream",
          "text": [
            "Reconstruction MSE error for snapshot 1952: 0.000006\n",
            "torch.Size([3571, 2])\n",
            "Reconstruction MSE error for snapshot 1953: 0.000007\n",
            "torch.Size([3571, 2])\n",
            "Reconstruction MSE error for snapshot 1954: 0.000008\n",
            "torch.Size([3571, 2])\n",
            "Reconstruction MSE error for snapshot 1955: 0.000010\n",
            "torch.Size([3571, 2])\n",
            "Reconstruction MSE error for snapshot 1956: 0.000011\n",
            "torch.Size([3571, 2])\n",
            "Reconstruction MSE error for snapshot 1957: 0.000012\n",
            "torch.Size([3571, 2])\n"
          ],
          "name": "stdout"
        },
        {
          "output_type": "stream",
          "text": [
            " 98% (1962 of 2000) |################### | Elapsed Time: 0:01:07 ETA:   0:00:01"
          ],
          "name": "stderr"
        },
        {
          "output_type": "stream",
          "text": [
            "Reconstruction MSE error for snapshot 1958: 0.000012\n",
            "torch.Size([3571, 2])\n",
            "Reconstruction MSE error for snapshot 1959: 0.000010\n",
            "torch.Size([3571, 2])\n",
            "Reconstruction MSE error for snapshot 1960: 0.000018\n",
            "torch.Size([3571, 2])\n",
            "Reconstruction MSE error for snapshot 1961: 0.000011\n",
            "torch.Size([3571, 2])\n",
            "Reconstruction MSE error for snapshot 1962: 0.000008\n",
            "torch.Size([3571, 2])\n",
            "Reconstruction MSE error for snapshot 1963: 0.000008\n",
            "torch.Size([3571, 2])\n"
          ],
          "name": "stdout"
        },
        {
          "output_type": "stream",
          "text": [
            " 98% (1968 of 2000) |################### | Elapsed Time: 0:01:07 ETA:   0:00:01"
          ],
          "name": "stderr"
        },
        {
          "output_type": "stream",
          "text": [
            "Reconstruction MSE error for snapshot 1964: 0.000012\n",
            "torch.Size([3571, 2])\n",
            "Reconstruction MSE error for snapshot 1965: 0.000013\n",
            "torch.Size([3571, 2])\n",
            "Reconstruction MSE error for snapshot 1966: 0.000008\n",
            "torch.Size([3571, 2])\n",
            "Reconstruction MSE error for snapshot 1967: 0.000009\n",
            "torch.Size([3571, 2])\n",
            "Reconstruction MSE error for snapshot 1968: 0.000008\n",
            "torch.Size([3571, 2])\n",
            "Reconstruction MSE error for snapshot 1969: 0.000014\n",
            "torch.Size([3571, 2])\n"
          ],
          "name": "stdout"
        },
        {
          "output_type": "stream",
          "text": [
            " 98% (1975 of 2000) |################### | Elapsed Time: 0:01:07 ETA:   0:00:00"
          ],
          "name": "stderr"
        },
        {
          "output_type": "stream",
          "text": [
            "Reconstruction MSE error for snapshot 1970: 0.000007\n",
            "torch.Size([3571, 2])\n",
            "Reconstruction MSE error for snapshot 1971: 0.000007\n",
            "torch.Size([3571, 2])\n",
            "Reconstruction MSE error for snapshot 1972: 0.000007\n",
            "torch.Size([3571, 2])\n",
            "Reconstruction MSE error for snapshot 1973: 0.000008\n",
            "torch.Size([3571, 2])\n",
            "Reconstruction MSE error for snapshot 1974: 0.000010\n",
            "torch.Size([3571, 2])\n",
            "Reconstruction MSE error for snapshot 1975: 0.000007\n",
            "torch.Size([3571, 2])\n"
          ],
          "name": "stdout"
        },
        {
          "output_type": "stream",
          "text": [
            " 99% (1981 of 2000) |################### | Elapsed Time: 0:01:08 ETA:   0:00:00"
          ],
          "name": "stderr"
        },
        {
          "output_type": "stream",
          "text": [
            "Reconstruction MSE error for snapshot 1976: 0.000007\n",
            "torch.Size([3571, 2])\n",
            "Reconstruction MSE error for snapshot 1977: 0.000007\n",
            "torch.Size([3571, 2])\n",
            "Reconstruction MSE error for snapshot 1978: 0.000008\n",
            "torch.Size([3571, 2])\n",
            "Reconstruction MSE error for snapshot 1979: 0.000007\n",
            "torch.Size([3571, 2])\n",
            "Reconstruction MSE error for snapshot 1980: 0.000008\n",
            "torch.Size([3571, 2])\n",
            "Reconstruction MSE error for snapshot 1981: 0.000008\n",
            "torch.Size([3571, 2])\n"
          ],
          "name": "stdout"
        },
        {
          "output_type": "stream",
          "text": [
            " 99% (1987 of 2000) |################### | Elapsed Time: 0:01:08 ETA:   0:00:00"
          ],
          "name": "stderr"
        },
        {
          "output_type": "stream",
          "text": [
            "Reconstruction MSE error for snapshot 1982: 0.000006\n",
            "torch.Size([3571, 2])\n",
            "Reconstruction MSE error for snapshot 1983: 0.000009\n",
            "torch.Size([3571, 2])\n",
            "Reconstruction MSE error for snapshot 1984: 0.000011\n",
            "torch.Size([3571, 2])\n",
            "Reconstruction MSE error for snapshot 1985: 0.000006\n",
            "torch.Size([3571, 2])\n",
            "Reconstruction MSE error for snapshot 1986: 0.000008\n",
            "torch.Size([3571, 2])\n",
            "Reconstruction MSE error for snapshot 1987: 0.000008\n",
            "torch.Size([3571, 2])\n"
          ],
          "name": "stdout"
        },
        {
          "output_type": "stream",
          "text": [
            " 99% (1993 of 2000) |################### | Elapsed Time: 0:01:08 ETA:   0:00:00"
          ],
          "name": "stderr"
        },
        {
          "output_type": "stream",
          "text": [
            "Reconstruction MSE error for snapshot 1988: 0.000008\n",
            "torch.Size([3571, 2])\n",
            "Reconstruction MSE error for snapshot 1989: 0.000008\n",
            "torch.Size([3571, 2])\n",
            "Reconstruction MSE error for snapshot 1990: 0.000009\n",
            "torch.Size([3571, 2])\n",
            "Reconstruction MSE error for snapshot 1991: 0.000009\n",
            "torch.Size([3571, 2])\n",
            "Reconstruction MSE error for snapshot 1992: 0.000010\n",
            "torch.Size([3571, 2])\n",
            "Reconstruction MSE error for snapshot 1993: 0.000011\n",
            "torch.Size([3571, 2])\n"
          ],
          "name": "stdout"
        },
        {
          "output_type": "stream",
          "text": [
            "100% (2000 of 2000) |####################| Elapsed Time: 0:01:08 Time:  0:01:08\n"
          ],
          "name": "stderr"
        },
        {
          "output_type": "stream",
          "text": [
            "Reconstruction MSE error for snapshot 1994: 0.000013\n",
            "torch.Size([3571, 2])\n",
            "Reconstruction MSE error for snapshot 1995: 0.000009\n",
            "torch.Size([3571, 2])\n",
            "Reconstruction MSE error for snapshot 1996: 0.000009\n",
            "torch.Size([3571, 2])\n",
            "Reconstruction MSE error for snapshot 1997: 0.000009\n",
            "torch.Size([3571, 2])\n",
            "Reconstruction MSE error for snapshot 1998: 0.000008\n",
            "torch.Size([3571, 2])\n",
            "Reconstruction MSE error for snapshot 1999: 0.000011\n",
            "torch.Size([3571, 2])\n",
            "\n",
            " Finished writing vtu files.\n"
          ],
          "name": "stdout"
        }
      ]
    },
    {
      "cell_type": "markdown",
      "metadata": {
        "id": "BUEsKMa-QDle"
      },
      "source": [
        "Please find the reconstructed files in `reconstructed` folder"
      ]
    }
  ]
}