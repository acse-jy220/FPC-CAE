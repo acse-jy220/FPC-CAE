{
  "nbformat": 4,
  "nbformat_minor": 0,
  "metadata": {
    "accelerator": "GPU",
    "colab": {
      "name": "Instruction_SFC_CAE_Slugflow.ipynb",
      "provenance": [],
      "collapsed_sections": []
    },
    "kernelspec": {
      "display_name": "Python 3",
      "name": "python3"
    },
    "language_info": {
      "name": "python"
    }
  },
  "cells": [
    {
      "cell_type": "code",
      "metadata": {
        "colab": {
          "base_uri": "https://localhost:8080/"
        },
        "id": "7XIU8ri-S39w",
        "outputId": "58bb9eb9-0dd2-496e-db7f-b38625f12777"
      },
      "source": [
        "from google.colab import drive\n",
        "drive.mount('/content/gdrive/')"
      ],
      "execution_count": null,
      "outputs": [
        {
          "output_type": "stream",
          "text": [
            "Mounted at /content/gdrive/\n"
          ],
          "name": "stdout"
        }
      ]
    },
    {
      "cell_type": "code",
      "metadata": {
        "colab": {
          "base_uri": "https://localhost:8080/"
        },
        "id": "p2TI1tNdWTiW",
        "outputId": "389412e0-042b-42b3-c788-fba9238f511f"
      },
      "source": [
        "!git clone https://github.com/acse-jy220/SFC-CAE-Ready-to-use"
      ],
      "execution_count": null,
      "outputs": [
        {
          "output_type": "stream",
          "text": [
            "Cloning into 'SFC-CAE-Ready-to-use'...\n",
            "remote: Enumerating objects: 1482, done.\u001b[K\n",
            "remote: Counting objects: 100% (579/579), done.\u001b[K\n",
            "remote: Compressing objects: 100% (333/333), done.\u001b[K\n",
            "remote: Total 1482 (delta 354), reused 415 (delta 193), pack-reused 903\u001b[K\n",
            "Receiving objects: 100% (1482/1482), 54.80 MiB | 49.57 MiB/s, done.\n",
            "Resolving deltas: 100% (927/927), done.\n"
          ],
          "name": "stdout"
        }
      ]
    },
    {
      "cell_type": "code",
      "metadata": {
        "colab": {
          "base_uri": "https://localhost:8080/"
        },
        "id": "EVN99BF9Wbq6",
        "outputId": "1b8e0839-9f6a-4328-d157-788f3ce9b99e"
      },
      "source": [
        "%cd SFC-CAE-Ready-to-use"
      ],
      "execution_count": null,
      "outputs": [
        {
          "output_type": "stream",
          "text": [
            "/content/SFC-CAE-Ready-to-use\n"
          ],
          "name": "stdout"
        }
      ]
    },
    {
      "cell_type": "code",
      "metadata": {
        "colab": {
          "base_uri": "https://localhost:8080/"
        },
        "id": "eqefsvsmWcuX",
        "outputId": "e319dedb-0dd7-4983-fcf2-22a4838dfe92"
      },
      "source": [
        "!git pull"
      ],
      "execution_count": null,
      "outputs": [
        {
          "output_type": "stream",
          "text": [
            "remote: Enumerating objects: 5, done.\u001b[K\n",
            "remote: Counting objects:  20% (1/5)\u001b[K\rremote: Counting objects:  40% (2/5)\u001b[K\rremote: Counting objects:  60% (3/5)\u001b[K\rremote: Counting objects:  80% (4/5)\u001b[K\rremote: Counting objects: 100% (5/5)\u001b[K\rremote: Counting objects: 100% (5/5), done.\u001b[K\n",
            "remote: Compressing objects:  50% (1/2)\u001b[K\rremote: Compressing objects: 100% (2/2)\u001b[K\rremote: Compressing objects: 100% (2/2), done.\u001b[K\n",
            "remote: Total 3 (delta 1), reused 3 (delta 1), pack-reused 0\u001b[K\n",
            "Unpacking objects:  33% (1/3)   \rUnpacking objects:  66% (2/3)   \rUnpacking objects: 100% (3/3)   \rUnpacking objects: 100% (3/3), done.\n",
            "From https://github.com/acse-jy220/SFC-CAE-Ready-to-use\n",
            "   58a8a3e..024548e  main       -> origin/main\n",
            "Updating 58a8a3e..024548e\n",
            "Fast-forward\n",
            " get_data_slugflow.sh | 8 \u001b[32m+++++++\u001b[m\u001b[31m-\u001b[m\n",
            " 1 file changed, 7 insertions(+), 1 deletion(-)\n"
          ],
          "name": "stdout"
        }
      ]
    },
    {
      "cell_type": "code",
      "metadata": {
        "colab": {
          "base_uri": "https://localhost:8080/"
        },
        "id": "NTDcInmTWd4S",
        "outputId": "f0e74324-1f5c-4533-bf9d-6e44bbc8241e"
      },
      "source": [
        "!pip install -e ."
      ],
      "execution_count": null,
      "outputs": [
        {
          "output_type": "stream",
          "text": [
            "Obtaining file:///content/SFC-CAE-Ready-to-use\n",
            "Requirement already satisfied: numpy>=1.19.5 in /usr/local/lib/python3.7/dist-packages (from SFC-CAE==0.0.0) (1.19.5)\n",
            "Requirement already satisfied: scipy>=1.4.1 in /usr/local/lib/python3.7/dist-packages (from SFC-CAE==0.0.0) (1.4.1)\n",
            "Requirement already satisfied: matplotlib~=3.2.2 in /usr/local/lib/python3.7/dist-packages (from SFC-CAE==0.0.0) (3.2.2)\n",
            "Requirement already satisfied: vtk>=9.0 in /usr/local/lib/python3.7/dist-packages (from SFC-CAE==0.0.0) (9.0.3)\n",
            "Requirement already satisfied: livelossplot~=0.5.4 in /usr/local/lib/python3.7/dist-packages (from SFC-CAE==0.0.0) (0.5.4)\n",
            "Requirement already satisfied: meshio[all] in /usr/local/lib/python3.7/dist-packages (from SFC-CAE==0.0.0) (5.0.0)\n",
            "Requirement already satisfied: cmocean~=2.0 in /usr/local/lib/python3.7/dist-packages (from SFC-CAE==0.0.0) (2.0)\n",
            "Requirement already satisfied: torch>=1.8.0 in /usr/local/lib/python3.7/dist-packages (from SFC-CAE==0.0.0) (1.9.0+cu102)\n",
            "Requirement already satisfied: dash~=1.21.0 in /usr/local/lib/python3.7/dist-packages (from SFC-CAE==0.0.0) (1.21.0)\n",
            "Requirement already satisfied: pytest>=3.6.4 in /usr/local/lib/python3.7/dist-packages (from SFC-CAE==0.0.0) (3.6.4)\n",
            "Requirement already satisfied: progressbar2~=3.38.0 in /usr/local/lib/python3.7/dist-packages (from SFC-CAE==0.0.0) (3.38.0)\n",
            "Requirement already satisfied: dash-html-components==1.1.4 in /usr/local/lib/python3.7/dist-packages (from dash~=1.21.0->SFC-CAE==0.0.0) (1.1.4)\n",
            "Requirement already satisfied: dash-core-components==1.17.1 in /usr/local/lib/python3.7/dist-packages (from dash~=1.21.0->SFC-CAE==0.0.0) (1.17.1)\n",
            "Requirement already satisfied: future in /usr/local/lib/python3.7/dist-packages (from dash~=1.21.0->SFC-CAE==0.0.0) (0.16.0)\n",
            "Requirement already satisfied: dash-table==4.12.0 in /usr/local/lib/python3.7/dist-packages (from dash~=1.21.0->SFC-CAE==0.0.0) (4.12.0)\n",
            "Requirement already satisfied: Flask>=1.0.4 in /usr/local/lib/python3.7/dist-packages (from dash~=1.21.0->SFC-CAE==0.0.0) (1.1.4)\n",
            "Requirement already satisfied: flask-compress in /usr/local/lib/python3.7/dist-packages (from dash~=1.21.0->SFC-CAE==0.0.0) (1.10.1)\n",
            "Requirement already satisfied: plotly in /usr/local/lib/python3.7/dist-packages (from dash~=1.21.0->SFC-CAE==0.0.0) (4.4.1)\n",
            "Requirement already satisfied: click<8.0,>=5.1 in /usr/local/lib/python3.7/dist-packages (from Flask>=1.0.4->dash~=1.21.0->SFC-CAE==0.0.0) (7.1.2)\n",
            "Requirement already satisfied: Jinja2<3.0,>=2.10.1 in /usr/local/lib/python3.7/dist-packages (from Flask>=1.0.4->dash~=1.21.0->SFC-CAE==0.0.0) (2.11.3)\n",
            "Requirement already satisfied: Werkzeug<2.0,>=0.15 in /usr/local/lib/python3.7/dist-packages (from Flask>=1.0.4->dash~=1.21.0->SFC-CAE==0.0.0) (1.0.1)\n",
            "Requirement already satisfied: itsdangerous<2.0,>=0.24 in /usr/local/lib/python3.7/dist-packages (from Flask>=1.0.4->dash~=1.21.0->SFC-CAE==0.0.0) (1.1.0)\n",
            "Requirement already satisfied: MarkupSafe>=0.23 in /usr/local/lib/python3.7/dist-packages (from Jinja2<3.0,>=2.10.1->Flask>=1.0.4->dash~=1.21.0->SFC-CAE==0.0.0) (2.0.1)\n",
            "Requirement already satisfied: bokeh in /usr/local/lib/python3.7/dist-packages (from livelossplot~=0.5.4->SFC-CAE==0.0.0) (2.3.3)\n",
            "Requirement already satisfied: ipython in /usr/local/lib/python3.7/dist-packages (from livelossplot~=0.5.4->SFC-CAE==0.0.0) (5.5.0)\n",
            "Requirement already satisfied: kiwisolver>=1.0.1 in /usr/local/lib/python3.7/dist-packages (from matplotlib~=3.2.2->SFC-CAE==0.0.0) (1.3.1)\n",
            "Requirement already satisfied: pyparsing!=2.0.4,!=2.1.2,!=2.1.6,>=2.0.1 in /usr/local/lib/python3.7/dist-packages (from matplotlib~=3.2.2->SFC-CAE==0.0.0) (2.4.7)\n",
            "Requirement already satisfied: cycler>=0.10 in /usr/local/lib/python3.7/dist-packages (from matplotlib~=3.2.2->SFC-CAE==0.0.0) (0.10.0)\n",
            "Requirement already satisfied: python-dateutil>=2.1 in /usr/local/lib/python3.7/dist-packages (from matplotlib~=3.2.2->SFC-CAE==0.0.0) (2.8.2)\n",
            "Requirement already satisfied: six in /usr/local/lib/python3.7/dist-packages (from cycler>=0.10->matplotlib~=3.2.2->SFC-CAE==0.0.0) (1.15.0)\n",
            "Requirement already satisfied: python-utils>=2.3.0 in /usr/local/lib/python3.7/dist-packages (from progressbar2~=3.38.0->SFC-CAE==0.0.0) (2.5.6)\n",
            "Requirement already satisfied: atomicwrites>=1.0 in /usr/local/lib/python3.7/dist-packages (from pytest>=3.6.4->SFC-CAE==0.0.0) (1.4.0)\n",
            "Requirement already satisfied: attrs>=17.4.0 in /usr/local/lib/python3.7/dist-packages (from pytest>=3.6.4->SFC-CAE==0.0.0) (21.2.0)\n",
            "Requirement already satisfied: more-itertools>=4.0.0 in /usr/local/lib/python3.7/dist-packages (from pytest>=3.6.4->SFC-CAE==0.0.0) (8.8.0)\n",
            "Requirement already satisfied: pluggy<0.8,>=0.5 in /usr/local/lib/python3.7/dist-packages (from pytest>=3.6.4->SFC-CAE==0.0.0) (0.7.1)\n",
            "Requirement already satisfied: py>=1.5.0 in /usr/local/lib/python3.7/dist-packages (from pytest>=3.6.4->SFC-CAE==0.0.0) (1.10.0)\n",
            "Requirement already satisfied: setuptools in /usr/local/lib/python3.7/dist-packages (from pytest>=3.6.4->SFC-CAE==0.0.0) (57.4.0)\n",
            "Requirement already satisfied: typing-extensions in /usr/local/lib/python3.7/dist-packages (from torch>=1.8.0->SFC-CAE==0.0.0) (3.7.4.3)\n",
            "Requirement already satisfied: autobahn>=17.7.1 in /usr/local/lib/python3.7/dist-packages (from vtk>=9.0->SFC-CAE==0.0.0) (21.3.1)\n",
            "Requirement already satisfied: Twisted>=17.5.0 in /usr/local/lib/python3.7/dist-packages (from vtk>=9.0->SFC-CAE==0.0.0) (21.7.0)\n",
            "Requirement already satisfied: wslink>=0.1.3 in /usr/local/lib/python3.7/dist-packages (from vtk>=9.0->SFC-CAE==0.0.0) (1.0.6)\n",
            "Requirement already satisfied: txaio>=21.2.1 in /usr/local/lib/python3.7/dist-packages (from autobahn>=17.7.1->vtk>=9.0->SFC-CAE==0.0.0) (21.2.1)\n",
            "Requirement already satisfied: hyperlink>=21.0.0 in /usr/local/lib/python3.7/dist-packages (from autobahn>=17.7.1->vtk>=9.0->SFC-CAE==0.0.0) (21.0.0)\n",
            "Requirement already satisfied: cryptography>=3.4.6 in /usr/local/lib/python3.7/dist-packages (from autobahn>=17.7.1->vtk>=9.0->SFC-CAE==0.0.0) (3.4.7)\n",
            "Requirement already satisfied: cffi>=1.12 in /usr/local/lib/python3.7/dist-packages (from cryptography>=3.4.6->autobahn>=17.7.1->vtk>=9.0->SFC-CAE==0.0.0) (1.14.6)\n",
            "Requirement already satisfied: pycparser in /usr/local/lib/python3.7/dist-packages (from cffi>=1.12->cryptography>=3.4.6->autobahn>=17.7.1->vtk>=9.0->SFC-CAE==0.0.0) (2.20)\n",
            "Requirement already satisfied: idna>=2.5 in /usr/local/lib/python3.7/dist-packages (from hyperlink>=21.0.0->autobahn>=17.7.1->vtk>=9.0->SFC-CAE==0.0.0) (2.10)\n",
            "Requirement already satisfied: constantly>=15.1 in /usr/local/lib/python3.7/dist-packages (from Twisted>=17.5.0->vtk>=9.0->SFC-CAE==0.0.0) (15.1.0)\n",
            "Requirement already satisfied: zope.interface>=4.4.2 in /usr/local/lib/python3.7/dist-packages (from Twisted>=17.5.0->vtk>=9.0->SFC-CAE==0.0.0) (5.4.0)\n",
            "Requirement already satisfied: incremental>=21.3.0 in /usr/local/lib/python3.7/dist-packages (from Twisted>=17.5.0->vtk>=9.0->SFC-CAE==0.0.0) (21.3.0)\n",
            "Requirement already satisfied: Automat>=0.8.0 in /usr/local/lib/python3.7/dist-packages (from Twisted>=17.5.0->vtk>=9.0->SFC-CAE==0.0.0) (20.2.0)\n",
            "Requirement already satisfied: aiohttp in /usr/local/lib/python3.7/dist-packages (from wslink>=0.1.3->vtk>=9.0->SFC-CAE==0.0.0) (3.7.4.post0)\n",
            "Requirement already satisfied: chardet<5.0,>=2.0 in /usr/local/lib/python3.7/dist-packages (from aiohttp->wslink>=0.1.3->vtk>=9.0->SFC-CAE==0.0.0) (3.0.4)\n",
            "Requirement already satisfied: multidict<7.0,>=4.5 in /usr/local/lib/python3.7/dist-packages (from aiohttp->wslink>=0.1.3->vtk>=9.0->SFC-CAE==0.0.0) (5.1.0)\n",
            "Requirement already satisfied: yarl<2.0,>=1.0 in /usr/local/lib/python3.7/dist-packages (from aiohttp->wslink>=0.1.3->vtk>=9.0->SFC-CAE==0.0.0) (1.6.3)\n",
            "Requirement already satisfied: async-timeout<4.0,>=3.0 in /usr/local/lib/python3.7/dist-packages (from aiohttp->wslink>=0.1.3->vtk>=9.0->SFC-CAE==0.0.0) (3.0.1)\n",
            "Requirement already satisfied: PyYAML>=3.10 in /usr/local/lib/python3.7/dist-packages (from bokeh->livelossplot~=0.5.4->SFC-CAE==0.0.0) (3.13)\n",
            "Requirement already satisfied: pillow>=7.1.0 in /usr/local/lib/python3.7/dist-packages (from bokeh->livelossplot~=0.5.4->SFC-CAE==0.0.0) (7.1.2)\n",
            "Requirement already satisfied: tornado>=5.1 in /usr/local/lib/python3.7/dist-packages (from bokeh->livelossplot~=0.5.4->SFC-CAE==0.0.0) (5.1.1)\n",
            "Requirement already satisfied: packaging>=16.8 in /usr/local/lib/python3.7/dist-packages (from bokeh->livelossplot~=0.5.4->SFC-CAE==0.0.0) (21.0)\n",
            "Requirement already satisfied: brotli in /usr/local/lib/python3.7/dist-packages (from flask-compress->dash~=1.21.0->SFC-CAE==0.0.0) (1.0.9)\n",
            "Requirement already satisfied: prompt-toolkit<2.0.0,>=1.0.4 in /usr/local/lib/python3.7/dist-packages (from ipython->livelossplot~=0.5.4->SFC-CAE==0.0.0) (1.0.18)\n",
            "Requirement already satisfied: pexpect in /usr/local/lib/python3.7/dist-packages (from ipython->livelossplot~=0.5.4->SFC-CAE==0.0.0) (4.8.0)\n",
            "Requirement already satisfied: traitlets>=4.2 in /usr/local/lib/python3.7/dist-packages (from ipython->livelossplot~=0.5.4->SFC-CAE==0.0.0) (5.0.5)\n",
            "Requirement already satisfied: decorator in /usr/local/lib/python3.7/dist-packages (from ipython->livelossplot~=0.5.4->SFC-CAE==0.0.0) (4.4.2)\n",
            "Requirement already satisfied: pickleshare in /usr/local/lib/python3.7/dist-packages (from ipython->livelossplot~=0.5.4->SFC-CAE==0.0.0) (0.7.5)\n",
            "Requirement already satisfied: simplegeneric>0.8 in /usr/local/lib/python3.7/dist-packages (from ipython->livelossplot~=0.5.4->SFC-CAE==0.0.0) (0.8.1)\n",
            "Requirement already satisfied: pygments in /usr/local/lib/python3.7/dist-packages (from ipython->livelossplot~=0.5.4->SFC-CAE==0.0.0) (2.6.1)\n",
            "Requirement already satisfied: wcwidth in /usr/local/lib/python3.7/dist-packages (from prompt-toolkit<2.0.0,>=1.0.4->ipython->livelossplot~=0.5.4->SFC-CAE==0.0.0) (0.2.5)\n",
            "Requirement already satisfied: ipython-genutils in /usr/local/lib/python3.7/dist-packages (from traitlets>=4.2->ipython->livelossplot~=0.5.4->SFC-CAE==0.0.0) (0.2.0)\n",
            "Requirement already satisfied: importlib-metadata in /usr/local/lib/python3.7/dist-packages (from meshio[all]->SFC-CAE==0.0.0) (4.6.4)\n",
            "Requirement already satisfied: netCDF4 in /usr/local/lib/python3.7/dist-packages (from meshio[all]->SFC-CAE==0.0.0) (1.5.7)\n",
            "Requirement already satisfied: h5py in /usr/local/lib/python3.7/dist-packages (from meshio[all]->SFC-CAE==0.0.0) (3.1.0)\n",
            "Requirement already satisfied: cached-property in /usr/local/lib/python3.7/dist-packages (from h5py->meshio[all]->SFC-CAE==0.0.0) (1.5.2)\n",
            "Requirement already satisfied: zipp>=0.5 in /usr/local/lib/python3.7/dist-packages (from importlib-metadata->meshio[all]->SFC-CAE==0.0.0) (3.5.0)\n",
            "Requirement already satisfied: cftime in /usr/local/lib/python3.7/dist-packages (from netCDF4->meshio[all]->SFC-CAE==0.0.0) (1.5.0)\n",
            "Requirement already satisfied: ptyprocess>=0.5 in /usr/local/lib/python3.7/dist-packages (from pexpect->ipython->livelossplot~=0.5.4->SFC-CAE==0.0.0) (0.7.0)\n",
            "Requirement already satisfied: retrying>=1.3.3 in /usr/local/lib/python3.7/dist-packages (from plotly->dash~=1.21.0->SFC-CAE==0.0.0) (1.3.3)\n",
            "Installing collected packages: SFC-CAE\n",
            "  Attempting uninstall: SFC-CAE\n",
            "    Found existing installation: SFC-CAE 0.0.0\n",
            "    Can't uninstall 'SFC-CAE'. No files were found to uninstall.\n",
            "  Running setup.py develop for SFC-CAE\n",
            "Successfully installed SFC-CAE-0.0.0\n"
          ],
          "name": "stdout"
        }
      ]
    },
    {
      "cell_type": "markdown",
      "metadata": {
        "id": "tLKA84lXkUNA"
      },
      "source": [
        "### The full slugflow dataset reachs **132** GB, I suggest train the full dataset over HPC, I attached a processed dataset (have been converted to binary `.pt` files) of 80 snapshots here, three space-filling curves are also provided here."
      ]
    },
    {
      "cell_type": "code",
      "metadata": {
        "id": "YHEsNzN8Wjmn",
        "colab": {
          "base_uri": "https://localhost:8080/"
        },
        "outputId": "e571c026-32ce-4483-a424-3315aba9b7f4"
      },
      "source": [
        "! bash get_data_slugflow.sh"
      ],
      "execution_count": null,
      "outputs": [
        {
          "metadata": {
            "tags": null
          },
          "name": "stdout",
          "output_type": "stream",
          "text": [
            "--2021-08-21 16:34:04--  https://www.dropbox.com/s/5j3i2jn2ggooagb/Slugflow_80.zip\n",
            "Resolving www.dropbox.com (www.dropbox.com)... 162.125.5.18, 2620:100:601d:18::a27d:512\n",
            "Connecting to www.dropbox.com (www.dropbox.com)|162.125.5.18|:443... connected.\n",
            "HTTP request sent, awaiting response... 301 Moved Permanently\n",
            "Location: /s/raw/5j3i2jn2ggooagb/Slugflow_80.zip [following]\n",
            "--2021-08-21 16:34:04--  https://www.dropbox.com/s/raw/5j3i2jn2ggooagb/Slugflow_80.zip\n",
            "Reusing existing connection to www.dropbox.com:443.\n",
            "HTTP request sent, awaiting response... 302 Found\n",
            "Location: https://uc20dbfddfdeac5eea5f574ef87b.dl.dropboxusercontent.com/cd/0/inline/BUqH23TQ8dydi_WuoaYsUqyZhz27ZWkieQo6XHNjaDSsQvXWb84pFfFg2FbOROrOi7s9McueoNuuT1JZEYCFEQizGmm2JGHH2YWHFzAdT6HlkqQ1XgIwuYa1EHO1f3E8_TyeoEgqSmlc2UJnp7imxG1x/file# [following]\n",
            "--2021-08-21 16:34:05--  https://uc20dbfddfdeac5eea5f574ef87b.dl.dropboxusercontent.com/cd/0/inline/BUqH23TQ8dydi_WuoaYsUqyZhz27ZWkieQo6XHNjaDSsQvXWb84pFfFg2FbOROrOi7s9McueoNuuT1JZEYCFEQizGmm2JGHH2YWHFzAdT6HlkqQ1XgIwuYa1EHO1f3E8_TyeoEgqSmlc2UJnp7imxG1x/file\n",
            "Resolving uc20dbfddfdeac5eea5f574ef87b.dl.dropboxusercontent.com (uc20dbfddfdeac5eea5f574ef87b.dl.dropboxusercontent.com)... 162.125.2.15, 2620:100:601d:15::a27d:50f\n",
            "Connecting to uc20dbfddfdeac5eea5f574ef87b.dl.dropboxusercontent.com (uc20dbfddfdeac5eea5f574ef87b.dl.dropboxusercontent.com)|162.125.2.15|:443... connected.\n",
            "HTTP request sent, awaiting response... 302 Found\n",
            "Location: /cd/0/inline2/BUqJLpsYN3R_L_sbzWW12bK0GfmK4GXS0toYBwis32XxPtnWsR6XbjpfDnah-m_kXcqKcsbapvwDZTIXk6Ci5f474SK5Q5yPb6NTIcYF7rK00qmfAI6B6GprqzqJf1xj1BJpPVaT3tS1meq7MvZ07CadB63J1iW9VUSkNGkf5fDtMB5yyIjUhGzqmiHiKbIDXxh2tmHLRyk3C0SY4zkG-ftXnmVx_cFr8jjUbHlaJ0-uKoCABL-ulZo5JAG35aUz2TB49iwpfMT9NxEekD58u_ZxUQzppgVuuyFehjro7Y7D2wpxFQgedwGr0kpgUzuFjt1R49fQZIrLrlMe4GjX1Fw1BgGRuD3hxUHNu4Z9Wkdm_puhdRY1sGshjN0ji6DL0uc/file [following]\n",
            "--2021-08-21 16:34:05--  https://uc20dbfddfdeac5eea5f574ef87b.dl.dropboxusercontent.com/cd/0/inline2/BUqJLpsYN3R_L_sbzWW12bK0GfmK4GXS0toYBwis32XxPtnWsR6XbjpfDnah-m_kXcqKcsbapvwDZTIXk6Ci5f474SK5Q5yPb6NTIcYF7rK00qmfAI6B6GprqzqJf1xj1BJpPVaT3tS1meq7MvZ07CadB63J1iW9VUSkNGkf5fDtMB5yyIjUhGzqmiHiKbIDXxh2tmHLRyk3C0SY4zkG-ftXnmVx_cFr8jjUbHlaJ0-uKoCABL-ulZo5JAG35aUz2TB49iwpfMT9NxEekD58u_ZxUQzppgVuuyFehjro7Y7D2wpxFQgedwGr0kpgUzuFjt1R49fQZIrLrlMe4GjX1Fw1BgGRuD3hxUHNu4Z9Wkdm_puhdRY1sGshjN0ji6DL0uc/file\n",
            "Reusing existing connection to uc20dbfddfdeac5eea5f574ef87b.dl.dropboxusercontent.com:443.\n",
            "HTTP request sent, awaiting response... 200 OK\n",
            "Length: 2976334280 (2.8G) [application/zip]\n",
            "Saving to: ‘Slugflow_80.zip’\n",
            "\n",
            "Slugflow_80.zip     100%[===================>]   2.77G  39.4MB/s    in 80s     \n",
            "\n",
            "2021-08-21 16:35:26 (35.4 MB/s) - ‘Slugflow_80.zip’ saved [2976334280/2976334280]\n",
            "\n",
            "Archive:  Slugflow_80.zip\n",
            "  inflating: ./slugflow_80/slugflow_0.pt  \n",
            "  inflating: ./slugflow_80/slugflow_1.pt  \n",
            "  inflating: ./slugflow_80/slugflow_10.pt  \n",
            "  inflating: ./slugflow_80/slugflow_100.pt  \n",
            "  inflating: ./slugflow_80/slugflow_101.pt  \n",
            "  inflating: ./slugflow_80/slugflow_102.pt  \n",
            "  inflating: ./slugflow_80/slugflow_103.pt  \n",
            "  inflating: ./slugflow_80/slugflow_104.pt  \n",
            "  inflating: ./slugflow_80/slugflow_105.pt  \n",
            "  inflating: ./slugflow_80/slugflow_106.pt  \n",
            "  inflating: ./slugflow_80/slugflow_107.pt  \n",
            "  inflating: ./slugflow_80/slugflow_108.pt  \n",
            "  inflating: ./slugflow_80/slugflow_109.pt  \n",
            "  inflating: ./slugflow_80/slugflow_11.pt  \n",
            "  inflating: ./slugflow_80/slugflow_110.pt  \n",
            "  inflating: ./slugflow_80/slugflow_111.pt  \n",
            "  inflating: ./slugflow_80/slugflow_112.pt  \n",
            "  inflating: ./slugflow_80/slugflow_113.pt  \n",
            "  inflating: ./slugflow_80/slugflow_114.pt  \n",
            "  inflating: ./slugflow_80/slugflow_115.pt  \n",
            "  inflating: ./slugflow_80/slugflow_116.pt  \n",
            "  inflating: ./slugflow_80/slugflow_117.pt  \n",
            "  inflating: ./slugflow_80/slugflow_118.pt  \n",
            "  inflating: ./slugflow_80/slugflow_119.pt  \n",
            "  inflating: ./slugflow_80/slugflow_12.pt  \n",
            "  inflating: ./slugflow_80/slugflow_120.pt  \n",
            "  inflating: ./slugflow_80/slugflow_121.pt  \n",
            "  inflating: ./slugflow_80/slugflow_122.pt  \n",
            "  inflating: ./slugflow_80/slugflow_123.pt  \n",
            "  inflating: ./slugflow_80/slugflow_124.pt  \n",
            "  inflating: ./slugflow_80/slugflow_125.pt  \n",
            "  inflating: ./slugflow_80/slugflow_126.pt  \n",
            "  inflating: ./slugflow_80/slugflow_127.pt  \n",
            "  inflating: ./slugflow_80/slugflow_128.pt  \n",
            "  inflating: ./slugflow_80/slugflow_129.pt  \n",
            "  inflating: ./slugflow_80/slugflow_13.pt  \n",
            "  inflating: ./slugflow_80/slugflow_130.pt  \n",
            "  inflating: ./slugflow_80/slugflow_131.pt  \n",
            "  inflating: ./slugflow_80/slugflow_132.pt  \n",
            "  inflating: ./slugflow_80/slugflow_133.pt  \n",
            "  inflating: ./slugflow_80/slugflow_134.pt  \n",
            "  inflating: ./slugflow_80/slugflow_135.pt  \n",
            "  inflating: ./slugflow_80/slugflow_136.pt  \n",
            "  inflating: ./slugflow_80/slugflow_137.pt  \n",
            "  inflating: ./slugflow_80/slugflow_138.pt  \n",
            "  inflating: ./slugflow_80/slugflow_14.pt  \n",
            "  inflating: ./slugflow_80/slugflow_15.pt  \n",
            "  inflating: ./slugflow_80/slugflow_16.pt  \n",
            "  inflating: ./slugflow_80/slugflow_17.pt  \n",
            "  inflating: ./slugflow_80/slugflow_18.pt  \n",
            "  inflating: ./slugflow_80/slugflow_19.pt  \n",
            "  inflating: ./slugflow_80/slugflow_2.pt  \n",
            "  inflating: ./slugflow_80/slugflow_20.pt  \n",
            "  inflating: ./slugflow_80/slugflow_21.pt  \n",
            "  inflating: ./slugflow_80/slugflow_22.pt  \n",
            "  inflating: ./slugflow_80/slugflow_23.pt  \n",
            "  inflating: ./slugflow_80/slugflow_24.pt  \n",
            "  inflating: ./slugflow_80/slugflow_25.pt  \n",
            "  inflating: ./slugflow_80/slugflow_26.pt  \n",
            "  inflating: ./slugflow_80/slugflow_27.pt  \n",
            "  inflating: ./slugflow_80/slugflow_28.pt  \n",
            "  inflating: ./slugflow_80/slugflow_29.pt  \n",
            "  inflating: ./slugflow_80/slugflow_3.pt  \n",
            "  inflating: ./slugflow_80/slugflow_30.pt  \n",
            "  inflating: ./slugflow_80/slugflow_31.pt  \n",
            "  inflating: ./slugflow_80/slugflow_32.pt  \n",
            "  inflating: ./slugflow_80/slugflow_33.pt  \n",
            "  inflating: ./slugflow_80/slugflow_34.pt  \n",
            "  inflating: ./slugflow_80/slugflow_35.pt  \n",
            "  inflating: ./slugflow_80/slugflow_36.pt  \n",
            "  inflating: ./slugflow_80/slugflow_37.pt  \n",
            "  inflating: ./slugflow_80/slugflow_38.pt  \n",
            "  inflating: ./slugflow_80/slugflow_39.pt  \n",
            "  inflating: ./slugflow_80/slugflow_4.pt  \n",
            "  inflating: ./slugflow_80/slugflow_40.pt  \n",
            "  inflating: ./slugflow_80/slugflow_41.pt  \n",
            "  inflating: ./slugflow_80/slugflow_42.pt  \n",
            "  inflating: ./slugflow_80/slugflow_43.pt  \n",
            "  inflating: ./slugflow_80/slugflow_44.pt  \n",
            "  inflating: ./slugflow_80/slugflow_45.pt  \n",
            "--2021-08-21 16:35:58--  https://www.dropbox.com/s/52s2efjw9dnxaja/sfcs.pt\n",
            "Resolving www.dropbox.com (www.dropbox.com)... 162.125.5.18, 2620:100:601d:18::a27d:512\n",
            "Connecting to www.dropbox.com (www.dropbox.com)|162.125.5.18|:443... connected.\n",
            "HTTP request sent, awaiting response... 301 Moved Permanently\n",
            "Location: /s/raw/52s2efjw9dnxaja/sfcs.pt [following]\n",
            "--2021-08-21 16:35:58--  https://www.dropbox.com/s/raw/52s2efjw9dnxaja/sfcs.pt\n",
            "Reusing existing connection to www.dropbox.com:443.\n",
            "HTTP request sent, awaiting response... 302 Found\n",
            "Location: https://uc07e48b4431d649b6967a371a33.dl.dropboxusercontent.com/cd/0/inline/BUpbXNZlpkUdcjv3a4wCZqL7hvpXN-rI-u6Cm48GQDEj1og0HgiSNxKccQu6Xx8jKjgfLgoNY4KMuhRomKFrnWvvVFQi5iDDyjvwZQBnmjiTPUsbkiyUkKh0isLRKviS65Dx_nmDsSlNoL6f7ptaRIM4/file# [following]\n",
            "--2021-08-21 16:35:58--  https://uc07e48b4431d649b6967a371a33.dl.dropboxusercontent.com/cd/0/inline/BUpbXNZlpkUdcjv3a4wCZqL7hvpXN-rI-u6Cm48GQDEj1og0HgiSNxKccQu6Xx8jKjgfLgoNY4KMuhRomKFrnWvvVFQi5iDDyjvwZQBnmjiTPUsbkiyUkKh0isLRKviS65Dx_nmDsSlNoL6f7ptaRIM4/file\n",
            "Resolving uc07e48b4431d649b6967a371a33.dl.dropboxusercontent.com (uc07e48b4431d649b6967a371a33.dl.dropboxusercontent.com)... 162.125.5.15, 2620:100:601d:15::a27d:50f\n",
            "Connecting to uc07e48b4431d649b6967a371a33.dl.dropboxusercontent.com (uc07e48b4431d649b6967a371a33.dl.dropboxusercontent.com)|162.125.5.15|:443... connected.\n",
            "HTTP request sent, awaiting response... 302 Found\n",
            "Location: /cd/0/inline2/BUqMVLmxTpPTLEwsL1cr3wts6QvGAfCEL5M1RCm--zuEhPchV3dWT5Yh4YHq8L9lm7TvBAZqfqYn7_68AcRhY1Exo_fKjtdxy2rO0v7EV8aEx3gtNQvHx_K7cjTFcwfhbVU4GkuvjNB9l0SwCDu4TV5HKLkB0ov4jTniFMEzDfRAlvJea1VBrRvsgz4lu807A-ZtghzY3FT6Xh_V2R6ezXCsuu28PrXx53Id7ejuRDtnvh-KY3_okl0wYYKAHT6wyqPxNSzYNNASsXJgNx3o1vccmu4on_biOS6jurLuTyC36DuOxG-gXKlWiY7mKoqDl6pt6UhXYc5ODkExr8jf262HSRBKj0ZzW-dU9wFpJXNEPTLrarcKKdMdMU0zdLmzldA/file [following]\n",
            "--2021-08-21 16:35:59--  https://uc07e48b4431d649b6967a371a33.dl.dropboxusercontent.com/cd/0/inline2/BUqMVLmxTpPTLEwsL1cr3wts6QvGAfCEL5M1RCm--zuEhPchV3dWT5Yh4YHq8L9lm7TvBAZqfqYn7_68AcRhY1Exo_fKjtdxy2rO0v7EV8aEx3gtNQvHx_K7cjTFcwfhbVU4GkuvjNB9l0SwCDu4TV5HKLkB0ov4jTniFMEzDfRAlvJea1VBrRvsgz4lu807A-ZtghzY3FT6Xh_V2R6ezXCsuu28PrXx53Id7ejuRDtnvh-KY3_okl0wYYKAHT6wyqPxNSzYNNASsXJgNx3o1vccmu4on_biOS6jurLuTyC36DuOxG-gXKlWiY7mKoqDl6pt6UhXYc5ODkExr8jf262HSRBKj0ZzW-dU9wFpJXNEPTLrarcKKdMdMU0zdLmzldA/file\n",
            "Reusing existing connection to uc07e48b4431d649b6967a371a33.dl.dropboxusercontent.com:443.\n",
            "HTTP request sent, awaiting response... 200 OK\n",
            "Length: 32226871 (31M) [application/octet-stream]\n",
            "Saving to: ‘sfcs.pt’\n",
            "\n",
            "sfcs.pt             100%[===================>]  30.73M  53.5MB/s    in 0.6s    \n",
            "\n",
            "2021-08-21 16:35:59 (53.5 MB/s) - ‘sfcs.pt’ saved [32226871/32226871]\n",
            "\n",
            "--2021-08-21 16:35:59--  https://www.dropbox.com/s/828zfj7nwg6os7c/inv_sfcs.pt\n",
            "Resolving www.dropbox.com (www.dropbox.com)... 162.125.5.18, 2620:100:601d:18::a27d:512\n",
            "Connecting to www.dropbox.com (www.dropbox.com)|162.125.5.18|:443... connected.\n",
            "HTTP request sent, awaiting response... 301 Moved Permanently\n",
            "Location: /s/raw/828zfj7nwg6os7c/inv_sfcs.pt [following]\n",
            "--2021-08-21 16:36:00--  https://www.dropbox.com/s/raw/828zfj7nwg6os7c/inv_sfcs.pt\n",
            "Reusing existing connection to www.dropbox.com:443.\n",
            "HTTP request sent, awaiting response... 302 Found\n",
            "Location: https://ucb2d3fd0a75240bb8ee8e34bb36.dl.dropboxusercontent.com/cd/0/inline/BUoXdqDb88xItiwBTGwaRdSaabA37y6HjrmLIMBWjFdq8dyMVsgSpcHmXLIYz2ygB_2JeKySMOQpvAmdHJuDj_pidNrBWozjPPeyBs2ZAKkS_wPn0JPMqFleArCTvyjz0Q3ZXRkGHKgD7JPuOSTkX40q/file# [following]\n",
            "--2021-08-21 16:36:00--  https://ucb2d3fd0a75240bb8ee8e34bb36.dl.dropboxusercontent.com/cd/0/inline/BUoXdqDb88xItiwBTGwaRdSaabA37y6HjrmLIMBWjFdq8dyMVsgSpcHmXLIYz2ygB_2JeKySMOQpvAmdHJuDj_pidNrBWozjPPeyBs2ZAKkS_wPn0JPMqFleArCTvyjz0Q3ZXRkGHKgD7JPuOSTkX40q/file\n",
            "Resolving ucb2d3fd0a75240bb8ee8e34bb36.dl.dropboxusercontent.com (ucb2d3fd0a75240bb8ee8e34bb36.dl.dropboxusercontent.com)... 162.125.5.15, 2620:100:601d:15::a27d:50f\n",
            "Connecting to ucb2d3fd0a75240bb8ee8e34bb36.dl.dropboxusercontent.com (ucb2d3fd0a75240bb8ee8e34bb36.dl.dropboxusercontent.com)|162.125.5.15|:443... connected.\n",
            "HTTP request sent, awaiting response... 302 Found\n",
            "Location: /cd/0/inline2/BUpvpu54UtadMdtzm5EmdIiewXR-XdNlfPtD29fDKdGBvJSRnbJHYNGDpXRwySI7-tX7XLb_uoS-iBatFZJpYZ54zuKerL7e7vZICO4VuPMgAn4IdD9xqAGbw7lvXkChPnUxdpY9-Q4xPSqU1NSF2zmvyMKoHNThHUjDGr3Cumk_JyLF677UlhmTpkY3ua0n083tuIxpwAdtBqQ9KbHv_4rthWcTqVvxwJR9b7yKkliyZOxj5_2ipzv8MZwWTXH3O5Kf5hlDqEj-TpUuvjHmJLdPBadjIgnC9wA6rncGIADTh4pUPfCjilEN_PxN205PsREPIqMA9fSJJ192vEnQib9paDCHiwR7uq6DBYXeW2538_xXUh2tXVYZoTFDktGWhek/file [following]\n",
            "--2021-08-21 16:36:00--  https://ucb2d3fd0a75240bb8ee8e34bb36.dl.dropboxusercontent.com/cd/0/inline2/BUpvpu54UtadMdtzm5EmdIiewXR-XdNlfPtD29fDKdGBvJSRnbJHYNGDpXRwySI7-tX7XLb_uoS-iBatFZJpYZ54zuKerL7e7vZICO4VuPMgAn4IdD9xqAGbw7lvXkChPnUxdpY9-Q4xPSqU1NSF2zmvyMKoHNThHUjDGr3Cumk_JyLF677UlhmTpkY3ua0n083tuIxpwAdtBqQ9KbHv_4rthWcTqVvxwJR9b7yKkliyZOxj5_2ipzv8MZwWTXH3O5Kf5hlDqEj-TpUuvjHmJLdPBadjIgnC9wA6rncGIADTh4pUPfCjilEN_PxN205PsREPIqMA9fSJJ192vEnQib9paDCHiwR7uq6DBYXeW2538_xXUh2tXVYZoTFDktGWhek/file\n",
            "Reusing existing connection to ucb2d3fd0a75240bb8ee8e34bb36.dl.dropboxusercontent.com:443.\n",
            "HTTP request sent, awaiting response... 200 OK\n",
            "Length: 32226871 (31M) [application/octet-stream]\n",
            "Saving to: ‘inv_sfcs.pt’\n",
            "\n",
            "inv_sfcs.pt         100%[===================>]  30.73M  53.1MB/s    in 0.6s    \n",
            "\n",
            "2021-08-21 16:36:01 (53.1 MB/s) - ‘inv_sfcs.pt’ saved [32226871/32226871]\n",
            "\n",
            "--2021-08-21 16:36:01--  https://www.dropbox.com/s/ajyp3gne1zltl7v/coords.pt\n",
            "Resolving www.dropbox.com (www.dropbox.com)... 162.125.5.18, 2620:100:601d:18::a27d:512\n",
            "Connecting to www.dropbox.com (www.dropbox.com)|162.125.5.18|:443... connected.\n",
            "HTTP request sent, awaiting response... 301 Moved Permanently\n",
            "Location: /s/raw/ajyp3gne1zltl7v/coords.pt [following]\n",
            "--2021-08-21 16:36:01--  https://www.dropbox.com/s/raw/ajyp3gne1zltl7v/coords.pt\n",
            "Reusing existing connection to www.dropbox.com:443.\n",
            "HTTP request sent, awaiting response... 302 Found\n",
            "Location: https://uc7ed1b3ba5a2ec273a44446b493.dl.dropboxusercontent.com/cd/0/inline/BUoqQ55RHBf-6J3O2Mi0WSyzTCp_9EHMRkiv52C7lOAfybvKzqhF6ExTMe_t9a7Ol38upWToFj4Y6V4jTz_RWneJaCN_4NArv82DWgOQZ2A_t9Q113ljRQdmRRKowWe4zh-LCt4fQp7Fn-9IlnKX4fkt/file# [following]\n",
            "--2021-08-21 16:36:02--  https://uc7ed1b3ba5a2ec273a44446b493.dl.dropboxusercontent.com/cd/0/inline/BUoqQ55RHBf-6J3O2Mi0WSyzTCp_9EHMRkiv52C7lOAfybvKzqhF6ExTMe_t9a7Ol38upWToFj4Y6V4jTz_RWneJaCN_4NArv82DWgOQZ2A_t9Q113ljRQdmRRKowWe4zh-LCt4fQp7Fn-9IlnKX4fkt/file\n",
            "Resolving uc7ed1b3ba5a2ec273a44446b493.dl.dropboxusercontent.com (uc7ed1b3ba5a2ec273a44446b493.dl.dropboxusercontent.com)... 162.125.5.15, 2620:100:601d:15::a27d:50f\n",
            "Connecting to uc7ed1b3ba5a2ec273a44446b493.dl.dropboxusercontent.com (uc7ed1b3ba5a2ec273a44446b493.dl.dropboxusercontent.com)|162.125.5.15|:443... connected.\n",
            "HTTP request sent, awaiting response... 302 Found\n",
            "Location: /cd/0/inline2/BUrDLMUHrtxP5KVHRn-K2z-hzRBBN0SPrdBVAktT3-P-T9cMyRmo_OFR8ufB0FIrmDQDj7FDrEirkO5Lgvsn1rMokZDif2h68bwlcgboAd-zlX-kKMq2f0-VaxhbG_GDSeguoBUPHa4DmQ93dR2D3AnmPWAHeHjH0ZrDKlgx02nvAnCEwNrvtWU_unlrA_WkuFTl39Y4RTp3JoK_STwrYXVO9G7ly-MC3mTqwGqmwq8vladIINtcuZXGMr288M0kX9eYKqU6sYFx3juTy5om6XVT2OSjNwIV-UcoeM2T6MXn_Acm0wm8-wyww6EO9WGdKEuf-JnQFRT84KxbPU-YnTKqwXSLMr8wD8ALr_eL68bT5uzfRQrJoLkMjDSJRUM2h64/file [following]\n",
            "--2021-08-21 16:36:02--  https://uc7ed1b3ba5a2ec273a44446b493.dl.dropboxusercontent.com/cd/0/inline2/BUrDLMUHrtxP5KVHRn-K2z-hzRBBN0SPrdBVAktT3-P-T9cMyRmo_OFR8ufB0FIrmDQDj7FDrEirkO5Lgvsn1rMokZDif2h68bwlcgboAd-zlX-kKMq2f0-VaxhbG_GDSeguoBUPHa4DmQ93dR2D3AnmPWAHeHjH0ZrDKlgx02nvAnCEwNrvtWU_unlrA_WkuFTl39Y4RTp3JoK_STwrYXVO9G7ly-MC3mTqwGqmwq8vladIINtcuZXGMr288M0kX9eYKqU6sYFx3juTy5om6XVT2OSjNwIV-UcoeM2T6MXn_Acm0wm8-wyww6EO9WGdKEuf-JnQFRT84KxbPU-YnTKqwXSLMr8wD8ALr_eL68bT5uzfRQrJoLkMjDSJRUM2h64/file\n",
            "Reusing existing connection to uc7ed1b3ba5a2ec273a44446b493.dl.dropboxusercontent.com:443.\n",
            "HTTP request sent, awaiting response... 200 OK\n",
            "Length: 16113783 (15M) [application/octet-stream]\n",
            "Saving to: ‘coords.pt’\n",
            "\n",
            "coords.pt           100%[===================>]  15.37M  32.0MB/s    in 0.5s    \n",
            "\n",
            "2021-08-21 16:36:03 (32.0 MB/s) - ‘coords.pt’ saved [16113783/16113783]\n",
            "\n",
            "--2021-08-21 16:36:03--  https://www.dropbox.com/s/fggujsqgw8ip21n/cells.npy\n",
            "Resolving www.dropbox.com (www.dropbox.com)... 162.125.5.18, 2620:100:601d:18::a27d:512\n",
            "Connecting to www.dropbox.com (www.dropbox.com)|162.125.5.18|:443... connected.\n",
            "HTTP request sent, awaiting response... 301 Moved Permanently\n",
            "Location: /s/raw/fggujsqgw8ip21n/cells.npy [following]\n",
            "--2021-08-21 16:36:03--  https://www.dropbox.com/s/raw/fggujsqgw8ip21n/cells.npy\n",
            "Reusing existing connection to www.dropbox.com:443.\n",
            "HTTP request sent, awaiting response... 302 Found\n",
            "Location: https://uc53a6f6507c3ebcaf977e855d75.dl.dropboxusercontent.com/cd/0/inline/BUorV4lAh05-V2DzbdiTawdpmdTSeGTAVz6dLfo7HDfeWR0E-79FqCZsFk3RQ7XnMbrh1jVD97md1xSmkHruiesN0dVYDQv6GEQSP4j0reOWw7p5lpL4HAC3agWcrtR0EIRiHSjYaSfz5BCvHpEEvjs4/file# [following]\n",
            "--2021-08-21 16:36:03--  https://uc53a6f6507c3ebcaf977e855d75.dl.dropboxusercontent.com/cd/0/inline/BUorV4lAh05-V2DzbdiTawdpmdTSeGTAVz6dLfo7HDfeWR0E-79FqCZsFk3RQ7XnMbrh1jVD97md1xSmkHruiesN0dVYDQv6GEQSP4j0reOWw7p5lpL4HAC3agWcrtR0EIRiHSjYaSfz5BCvHpEEvjs4/file\n",
            "Resolving uc53a6f6507c3ebcaf977e855d75.dl.dropboxusercontent.com (uc53a6f6507c3ebcaf977e855d75.dl.dropboxusercontent.com)... 162.125.5.15, 2620:100:601d:15::a27d:50f\n",
            "Connecting to uc53a6f6507c3ebcaf977e855d75.dl.dropboxusercontent.com (uc53a6f6507c3ebcaf977e855d75.dl.dropboxusercontent.com)|162.125.5.15|:443... connected.\n",
            "HTTP request sent, awaiting response... 302 Found\n",
            "Location: /cd/0/inline2/BUpaXJVkfTa5fTsShzNHB0YlDuD8dJZ-uSUBrHnL59wMhbyVF7PtByKT3z_08dSu5J9_bqBo0ImcBEbpLhkRtobvTdYBtPZM5EqW8EBhlXR0EhavAM973g5kuFBFv4EcNxRG6ExqkO1iOQ5xzWdkoIgmXMydgvx6JNiRcvg-8XJoa-wNmiKakhX4fjogFAzWsEj6fpV38QY5hY9IdAqf3nIi1UD2ROgXOZcMTn0HBOX5pilWfYVQ-GbE87mXl4EM4PCaqZPTblyHw5yLXLuTiC1dqs3gie4GsSF8C5C6j0_AmoKn9BVIWWIB7sUgjVrVdVh0dwtVf99n_gdLfCYHx3Qk4Yt3J4-W6CPdgr3oy6fzSynEJBjUp_dPRLO9LO9VTdA/file [following]\n",
            "--2021-08-21 16:36:04--  https://uc53a6f6507c3ebcaf977e855d75.dl.dropboxusercontent.com/cd/0/inline2/BUpaXJVkfTa5fTsShzNHB0YlDuD8dJZ-uSUBrHnL59wMhbyVF7PtByKT3z_08dSu5J9_bqBo0ImcBEbpLhkRtobvTdYBtPZM5EqW8EBhlXR0EhavAM973g5kuFBFv4EcNxRG6ExqkO1iOQ5xzWdkoIgmXMydgvx6JNiRcvg-8XJoa-wNmiKakhX4fjogFAzWsEj6fpV38QY5hY9IdAqf3nIi1UD2ROgXOZcMTn0HBOX5pilWfYVQ-GbE87mXl4EM4PCaqZPTblyHw5yLXLuTiC1dqs3gie4GsSF8C5C6j0_AmoKn9BVIWWIB7sUgjVrVdVh0dwtVf99n_gdLfCYHx3Qk4Yt3J4-W6CPdgr3oy6fzSynEJBjUp_dPRLO9LO9VTdA/file\n",
            "Reusing existing connection to uc53a6f6507c3ebcaf977e855d75.dl.dropboxusercontent.com:443.\n",
            "HTTP request sent, awaiting response... 200 OK\n",
            "Length: 10742432 (10M) [application/octet-stream]\n",
            "Saving to: ‘cells.npy’\n",
            "\n",
            "cells.npy           100%[===================>]  10.24M  38.8MB/s    in 0.3s    \n",
            "\n",
            "2021-08-21 16:36:04 (38.8 MB/s) - ‘cells.npy’ saved [10742432/10742432]\n",
            "\n"
          ]
        }
      ]
    },
    {
      "cell_type": "code",
      "metadata": {
        "id": "f0TSlz60WfMO"
      },
      "source": [
        "from sfc_cae import *"
      ],
      "execution_count": null,
      "outputs": []
    },
    {
      "cell_type": "code",
      "metadata": {
        "id": "TxRQoVKfZX_v"
      },
      "source": [
        "path_data = glob.glob('slugflow_80/*')"
      ],
      "execution_count": null,
      "outputs": []
    },
    {
      "cell_type": "code",
      "metadata": {
        "id": "x0fs4OLmYwGW"
      },
      "source": [
        "train_ratio = 15/17\n",
        "valid_ratio = 1/17\n",
        "test_ratio = 1/17\n",
        "train_index, valid_index, test_index = index_split(train_ratio, valid_ratio, test_ratio, total_num = len(path_data))\n",
        "\n",
        "train_index = train_index - 1\n",
        "valid_index = valid_index - 1\n",
        "test_index = test_index - 1"
      ],
      "execution_count": null,
      "outputs": []
    },
    {
      "cell_type": "code",
      "metadata": {
        "colab": {
          "base_uri": "https://localhost:8080/"
        },
        "id": "Zb2pYYNOxY1O",
        "outputId": "6ff206fc-1e5f-47ab-8dde-00d3ae9d9d84"
      },
      "source": [
        "len(train_index)"
      ],
      "execution_count": null,
      "outputs": [
        {
          "output_type": "execute_result",
          "data": {
            "text/plain": [
              "70"
            ]
          },
          "metadata": {},
          "execution_count": 14
        }
      ]
    },
    {
      "cell_type": "code",
      "metadata": {
        "colab": {
          "base_uri": "https://localhost:8080/"
        },
        "id": "VkO-nvWZw11r",
        "outputId": "ae12e423-71c4-4ffb-d64b-47b189a45bbb"
      },
      "source": [
        "full_set = MyTensorDataset(path_data, -1, 1)"
      ],
      "execution_count": null,
      "outputs": [
        {
          "output_type": "stream",
          "text": [
            "  2% (2 of 80) |                         | Elapsed Time: 0:00:00 ETA:   0:00:04"
          ],
          "name": "stderr"
        },
        {
          "output_type": "stream",
          "text": [
            "Computing min and max......\n",
            "\n"
          ],
          "name": "stdout"
        },
        {
          "output_type": "stream",
          "text": [
            "100% (80 of 80) |########################| Elapsed Time: 0:00:03 Time:  0:00:03\n"
          ],
          "name": "stderr"
        },
        {
          "output_type": "stream",
          "text": [
            "tk:  tensor([0.7881, 0.0679, 0.2529, 0.2036], dtype=torch.float64) \n",
            "\n",
            "tb:  tensor([-0.4057, -0.4814, -0.0091, -0.1309], dtype=torch.float64) \n",
            "\n"
          ],
          "name": "stdout"
        }
      ]
    },
    {
      "cell_type": "code",
      "metadata": {
        "colab": {
          "base_uri": "https://localhost:8080/"
        },
        "id": "gXIY5k5mr0qD",
        "outputId": "6e41158c-ac96-45e5-a6df-76aff6dc060a"
      },
      "source": [
        "full_set.tk"
      ],
      "execution_count": null,
      "outputs": [
        {
          "output_type": "execute_result",
          "data": {
            "text/plain": [
              "tensor([0.7881, 0.0679, 0.2529, 0.2036], dtype=torch.float64)"
            ]
          },
          "metadata": {},
          "execution_count": 16
        }
      ]
    },
    {
      "cell_type": "code",
      "metadata": {
        "id": "ghzgChBlr5pZ",
        "colab": {
          "base_uri": "https://localhost:8080/"
        },
        "outputId": "9b279647-b524-48f2-96bc-adc2eb2348c5"
      },
      "source": [
        "full_set.tb"
      ],
      "execution_count": null,
      "outputs": [
        {
          "output_type": "execute_result",
          "data": {
            "text/plain": [
              "tensor([-0.4057, -0.4814, -0.0091, -0.1309], dtype=torch.float64)"
            ]
          },
          "metadata": {},
          "execution_count": 17
        }
      ]
    },
    {
      "cell_type": "code",
      "metadata": {
        "colab": {
          "base_uri": "https://localhost:8080/"
        },
        "id": "NgIhQ34JlQ7_",
        "outputId": "3fdbcd63-3200-4807-b3cc-cd0b4dc5bd65"
      },
      "source": [
        "full_set[0].shape"
      ],
      "execution_count": null,
      "outputs": [
        {
          "output_type": "execute_result",
          "data": {
            "text/plain": [
              "torch.Size([1342756, 4])"
            ]
          },
          "metadata": {},
          "execution_count": 20
        }
      ]
    },
    {
      "cell_type": "markdown",
      "metadata": {
        "id": "TvGMlHsdlh0s"
      },
      "source": [
        "### Split train, valid, test dataset"
      ]
    },
    {
      "cell_type": "code",
      "metadata": {
        "id": "IvihIkr2lgV0"
      },
      "source": [
        "train_set, valid_set, test_set = torch.utils.data.dataset.random_split(full_set, [len(train_index), len(valid_index), len(test_index)])"
      ],
      "execution_count": null,
      "outputs": []
    },
    {
      "cell_type": "code",
      "metadata": {
        "id": "s72SMEYPN_Y6"
      },
      "source": [
        "sfcs = torch.load('sfcs.pt').detach().numpy()\n",
        "inv_sfcs = torch.load('inv_sfcs.pt').detach().numpy()\n",
        "coords = torch.load('coords.pt').detach().numpy()"
      ],
      "execution_count": null,
      "outputs": []
    },
    {
      "cell_type": "code",
      "metadata": {
        "id": "aRMec0VGOMYt"
      },
      "source": [
        "space_filling_orderings, invert_space_filling_orderings = list(sfcs), list(inv_sfcs)"
      ],
      "execution_count": null,
      "outputs": []
    },
    {
      "cell_type": "code",
      "metadata": {
        "id": "G71Ip_jsMWDx"
      },
      "source": [
        "input_size = coords.shape[0]\n",
        "dimension = 3\n",
        "components = 4\n",
        "structured = False\n",
        "self_concat = 1\n",
        "nearest_neighbouring = False\n",
        "dims_latent = 4\n",
        "activation = nn.Tanh()"
      ],
      "execution_count": null,
      "outputs": []
    },
    {
      "cell_type": "code",
      "metadata": {
        "id": "Sb1dNPgXmTSp"
      },
      "source": [
        "batch_size = 16\n",
        "lr = 1e-4\n",
        "n_epoches = 2000\n",
        "seed = 17\n",
        "visualize = True"
      ],
      "execution_count": null,
      "outputs": []
    },
    {
      "cell_type": "code",
      "metadata": {
        "id": "_Q0JgiI0l8vr"
      },
      "source": [
        "train_loader = DataLoader(dataset=train_set, batch_size=batch_size, shuffle=True)\n",
        "valid_loader = DataLoader(dataset=valid_set, batch_size=batch_size, shuffle=True)\n",
        "test_loader = DataLoader(dataset=test_set, batch_size=batch_size, shuffle=True)"
      ],
      "execution_count": null,
      "outputs": []
    },
    {
      "cell_type": "code",
      "metadata": {
        "id": "Zz7VnZleQECn"
      },
      "source": [
        "autoencoder = SFC_CAE(input_size,\n",
        "                      dimension,\n",
        "                      components,\n",
        "                      structured,\n",
        "                      self_concat,\n",
        "                      nearest_neighbouring,\n",
        "                      dims_latent,\n",
        "                      space_filling_orderings[:3], \n",
        "                      invert_space_filling_orderings[:3],\n",
        "                      activation = activation,\n",
        "                      variational = False)"
      ],
      "execution_count": null,
      "outputs": []
    },
    {
      "cell_type": "code",
      "metadata": {
        "colab": {
          "base_uri": "https://localhost:8080/"
        },
        "id": "whhIgB3SBN1y",
        "outputId": "2d2d53cf-6eed-4525-ba5e-2cf9bb7f5a77"
      },
      "source": [
        "autoencoder.output_structure()"
      ],
      "execution_count": null,
      "outputs": [
        {
          "output_type": "stream",
          "text": [
            "The LaTeX script for the table structure of the SFC-CAE has been written to 'LatexTable.txt', please copy it to a LaTeX compiler environment, e.g. overleaf.\n"
          ],
          "name": "stdout"
        }
      ]
    },
    {
      "cell_type": "code",
      "metadata": {
        "colab": {
          "base_uri": "https://localhost:8080/",
          "height": 1000
        },
        "id": "S6nMDeIcmSPV",
        "outputId": "7a845502-64b4-4d20-d6e9-c9a934526474"
      },
      "source": [
        "autoencoder = train_model(autoencoder, \n",
        "                          train_loader = train_loader,\n",
        "                          valid_loader = valid_loader,\n",
        "                          test_loader = test_loader,\n",
        "                          optimizer = 'Adamax',\n",
        "                          state_load = None,\n",
        "                          n_epochs = n_epoches,\n",
        "                          varying_lr = False,\n",
        "                          check_gap = 2, \n",
        "                          lr = lr, \n",
        "                          seed = seed,\n",
        "                          visualize = visualize,\n",
        "                          save_path = '/content/gdrive/MyDrive/Models/Slugflow/')"
      ],
      "execution_count": null,
      "outputs": [
        {
          "output_type": "display_data",
          "data": {
            "image/png": "[encoded data removed]",
            "text/plain": [
              "<Figure size 864x576 with 2 Axes>"
            ]
          },
          "metadata": {
            "needs_background": "light"
          }
        },
        {
          "output_type": "stream",
          "text": [
            "log loss\n",
            "\ttraining         \t (min:    0.020, max:    0.068, cur:    0.020)\n",
            "\tvalidation       \t (min:    0.015, max:    0.065, cur:    0.015)\n",
            "log loss (relative)\n",
            "\ttraining         \t (min:    0.401, max:   64.985, cur:    0.461)\n",
            "\tvalidation       \t (min:    0.292, max:   64.195, cur:    0.325)\n",
            "Epoch:  15 | train loss: 1.987063e-02 | valid loss: 1.465461e-02 \n",
            "      \t| train loss (relative): 4.610818e-01 | valid loss (relative): 3.254198e-01 \n",
            "Epoch 15 use: 8.99 second.\n",
            "\n",
            "epoch 16 starting......\n"
          ],
          "name": "stdout"
        },
        {
          "output_type": "error",
          "ename": "KeyboardInterrupt",
          "evalue": "ignored",
          "traceback": [
            "\u001b[0;31m---------------------------------------------------------------------------\u001b[0m",
            "\u001b[0;31mKeyboardInterrupt\u001b[0m                         Traceback (most recent call last)",
            "\u001b[0;32m<ipython-input-89-21c1fb1a2b8e>\u001b[0m in \u001b[0;36m<module>\u001b[0;34m()\u001b[0m\n\u001b[1;32m     11\u001b[0m                           \u001b[0mseed\u001b[0m \u001b[0;34m=\u001b[0m \u001b[0mseed\u001b[0m\u001b[0;34m,\u001b[0m\u001b[0;34m\u001b[0m\u001b[0;34m\u001b[0m\u001b[0m\n\u001b[1;32m     12\u001b[0m                           \u001b[0mvisualize\u001b[0m \u001b[0;34m=\u001b[0m \u001b[0mvisualize\u001b[0m\u001b[0;34m,\u001b[0m\u001b[0;34m\u001b[0m\u001b[0;34m\u001b[0m\u001b[0m\n\u001b[0;32m---> 13\u001b[0;31m                           save_path = '/content/gdrive/MyDrive/Models/Slugflow/')\n\u001b[0m",
            "\u001b[0;32m/content/SFC-CAE-Ready-to-use/sfc_cae/training.py\u001b[0m in \u001b[0;36mtrain_model\u001b[0;34m(autoencoder, train_loader, valid_loader, test_loader, optimizer, state_load, n_epochs, varying_lr, check_gap, lr, weight_decay, criterion_type, visualize, seed, save_path)\u001b[0m\n\u001b[1;32m    268\u001b[0m       \u001b[0mvalid_loss\u001b[0m\u001b[0;34m,\u001b[0m \u001b[0mvalid_loss_other\u001b[0m\u001b[0;34m,\u001b[0m \u001b[0mreal_valid_MSE\u001b[0m\u001b[0;34m,\u001b[0m \u001b[0mvalid_KL\u001b[0m \u001b[0;34m=\u001b[0m \u001b[0mvalidate\u001b[0m\u001b[0;34m(\u001b[0m\u001b[0mautoencoder\u001b[0m\u001b[0;34m,\u001b[0m \u001b[0mvariational\u001b[0m\u001b[0;34m,\u001b[0m \u001b[0moptimizer\u001b[0m\u001b[0;34m,\u001b[0m \u001b[0mcriterion\u001b[0m\u001b[0;34m,\u001b[0m \u001b[0mother_metric\u001b[0m\u001b[0;34m,\u001b[0m \u001b[0mvalid_loader\u001b[0m\u001b[0;34m)\u001b[0m\u001b[0;34m\u001b[0m\u001b[0;34m\u001b[0m\u001b[0m\n\u001b[1;32m    269\u001b[0m     \u001b[0;32melse\u001b[0m\u001b[0;34m:\u001b[0m\u001b[0;34m\u001b[0m\u001b[0;34m\u001b[0m\u001b[0m\n\u001b[0;32m--> 270\u001b[0;31m       \u001b[0mtrain_loss\u001b[0m\u001b[0;34m,\u001b[0m \u001b[0mtrain_loss_other\u001b[0m \u001b[0;34m=\u001b[0m \u001b[0mtrain\u001b[0m\u001b[0;34m(\u001b[0m\u001b[0mautoencoder\u001b[0m\u001b[0;34m,\u001b[0m \u001b[0mvariational\u001b[0m\u001b[0;34m,\u001b[0m \u001b[0moptimizer\u001b[0m\u001b[0;34m,\u001b[0m \u001b[0mcriterion\u001b[0m\u001b[0;34m,\u001b[0m \u001b[0mother_metric\u001b[0m\u001b[0;34m,\u001b[0m \u001b[0mtrain_loader\u001b[0m\u001b[0;34m)\u001b[0m\u001b[0;34m\u001b[0m\u001b[0;34m\u001b[0m\u001b[0m\n\u001b[0m\u001b[1;32m    271\u001b[0m       \u001b[0mvalid_loss\u001b[0m\u001b[0;34m,\u001b[0m \u001b[0mvalid_loss_other\u001b[0m \u001b[0;34m=\u001b[0m \u001b[0mvalidate\u001b[0m\u001b[0;34m(\u001b[0m\u001b[0mautoencoder\u001b[0m\u001b[0;34m,\u001b[0m \u001b[0mvariational\u001b[0m\u001b[0;34m,\u001b[0m \u001b[0moptimizer\u001b[0m\u001b[0;34m,\u001b[0m \u001b[0mcriterion\u001b[0m\u001b[0;34m,\u001b[0m \u001b[0mother_metric\u001b[0m\u001b[0;34m,\u001b[0m \u001b[0mvalid_loader\u001b[0m\u001b[0;34m)\u001b[0m\u001b[0;34m\u001b[0m\u001b[0;34m\u001b[0m\u001b[0m\n\u001b[1;32m    272\u001b[0m \u001b[0;34m\u001b[0m\u001b[0m\n",
            "\u001b[0;32m/content/SFC-CAE-Ready-to-use/sfc_cae/training.py\u001b[0m in \u001b[0;36mtrain\u001b[0;34m(autoencoder, variational, optimizer, criterion, other_metric, dataloader)\u001b[0m\n\u001b[1;32m    106\u001b[0m         \u001b[0mLoss\u001b[0m \u001b[0;34m=\u001b[0m \u001b[0mMSE\u001b[0m \u001b[0;34m+\u001b[0m \u001b[0mKL\u001b[0m \u001b[0;31m# MSE loss plus KL divergence\u001b[0m\u001b[0;34m\u001b[0m\u001b[0;34m\u001b[0m\u001b[0m\n\u001b[1;32m    107\u001b[0m       \u001b[0;32melse\u001b[0m\u001b[0;34m:\u001b[0m\u001b[0;34m\u001b[0m\u001b[0;34m\u001b[0m\u001b[0m\n\u001b[0;32m--> 108\u001b[0;31m         \u001b[0mx_hat\u001b[0m \u001b[0;34m=\u001b[0m \u001b[0mautoencoder\u001b[0m\u001b[0;34m(\u001b[0m\u001b[0mbatch\u001b[0m\u001b[0;34m)\u001b[0m\u001b[0;34m\u001b[0m\u001b[0;34m\u001b[0m\u001b[0m\n\u001b[0m\u001b[1;32m    109\u001b[0m         \u001b[0mLoss\u001b[0m \u001b[0;34m=\u001b[0m \u001b[0mcriterion\u001b[0m\u001b[0;34m(\u001b[0m\u001b[0mbatch\u001b[0m\u001b[0;34m,\u001b[0m \u001b[0mx_hat\u001b[0m\u001b[0;34m)\u001b[0m  \u001b[0;31m# Calculate MSE loss\u001b[0m\u001b[0;34m\u001b[0m\u001b[0;34m\u001b[0m\u001b[0m\n\u001b[1;32m    110\u001b[0m       \u001b[0;32mwith\u001b[0m \u001b[0mtorch\u001b[0m\u001b[0;34m.\u001b[0m\u001b[0mno_grad\u001b[0m\u001b[0;34m(\u001b[0m\u001b[0;34m)\u001b[0m\u001b[0;34m:\u001b[0m \u001b[0mother_MSE\u001b[0m \u001b[0;34m=\u001b[0m \u001b[0mother_metric\u001b[0m\u001b[0;34m(\u001b[0m\u001b[0mbatch\u001b[0m\u001b[0;34m,\u001b[0m \u001b[0mx_hat\u001b[0m\u001b[0;34m)\u001b[0m  \u001b[0;31m# Calculate (may be) relative loss\u001b[0m\u001b[0;34m\u001b[0m\u001b[0;34m\u001b[0m\u001b[0m\n",
            "\u001b[0;32m/usr/local/lib/python3.7/dist-packages/torch/nn/modules/module.py\u001b[0m in \u001b[0;36m_call_impl\u001b[0;34m(self, *input, **kwargs)\u001b[0m\n\u001b[1;32m   1049\u001b[0m         if not (self._backward_hooks or self._forward_hooks or self._forward_pre_hooks or _global_backward_hooks\n\u001b[1;32m   1050\u001b[0m                 or _global_forward_hooks or _global_forward_pre_hooks):\n\u001b[0;32m-> 1051\u001b[0;31m             \u001b[0;32mreturn\u001b[0m \u001b[0mforward_call\u001b[0m\u001b[0;34m(\u001b[0m\u001b[0;34m*\u001b[0m\u001b[0minput\u001b[0m\u001b[0;34m,\u001b[0m \u001b[0;34m**\u001b[0m\u001b[0mkwargs\u001b[0m\u001b[0;34m)\u001b[0m\u001b[0;34m\u001b[0m\u001b[0;34m\u001b[0m\u001b[0m\n\u001b[0m\u001b[1;32m   1052\u001b[0m         \u001b[0;31m# Do not call functions when jit is used\u001b[0m\u001b[0;34m\u001b[0m\u001b[0;34m\u001b[0m\u001b[0;34m\u001b[0m\u001b[0m\n\u001b[1;32m   1053\u001b[0m         \u001b[0mfull_backward_hooks\u001b[0m\u001b[0;34m,\u001b[0m \u001b[0mnon_full_backward_hooks\u001b[0m \u001b[0;34m=\u001b[0m \u001b[0;34m[\u001b[0m\u001b[0;34m]\u001b[0m\u001b[0;34m,\u001b[0m \u001b[0;34m[\u001b[0m\u001b[0;34m]\u001b[0m\u001b[0;34m\u001b[0m\u001b[0;34m\u001b[0m\u001b[0m\n",
            "\u001b[0;32m/content/SFC-CAE-Ready-to-use/sfc_cae/sfc_cae.py\u001b[0m in \u001b[0;36mforward\u001b[0;34m(self, x)\u001b[0m\n\u001b[1;32m    644\u001b[0m    \u001b[0;31m# return value for normal AE\u001b[0m\u001b[0;34m\u001b[0m\u001b[0;34m\u001b[0m\u001b[0;34m\u001b[0m\u001b[0m\n\u001b[1;32m    645\u001b[0m    \u001b[0;32melse\u001b[0m\u001b[0;34m:\u001b[0m\u001b[0;34m\u001b[0m\u001b[0;34m\u001b[0m\u001b[0m\n\u001b[0;32m--> 646\u001b[0;31m       \u001b[0mz\u001b[0m \u001b[0;34m=\u001b[0m \u001b[0mself\u001b[0m\u001b[0;34m.\u001b[0m\u001b[0mencoder\u001b[0m\u001b[0;34m(\u001b[0m\u001b[0mx\u001b[0m\u001b[0;34m)\u001b[0m \u001b[0;31m# encoder, compress each image to 1-D data of size {dims_latent}.\u001b[0m\u001b[0;34m\u001b[0m\u001b[0;34m\u001b[0m\u001b[0m\n\u001b[0m\u001b[1;32m    647\u001b[0m       \u001b[0;32mreturn\u001b[0m \u001b[0mself\u001b[0m\u001b[0;34m.\u001b[0m\u001b[0mdecoder\u001b[0m\u001b[0;34m(\u001b[0m\u001b[0mz\u001b[0m\u001b[0;34m)\u001b[0m  \u001b[0;31m# Return the output of the decoder (1-D, the predicted image)\u001b[0m\u001b[0;34m\u001b[0m\u001b[0;34m\u001b[0m\u001b[0m\n\u001b[1;32m    648\u001b[0m \u001b[0;34m\u001b[0m\u001b[0m\n",
            "\u001b[0;32m/usr/local/lib/python3.7/dist-packages/torch/nn/modules/module.py\u001b[0m in \u001b[0;36m_call_impl\u001b[0;34m(self, *input, **kwargs)\u001b[0m\n\u001b[1;32m   1049\u001b[0m         if not (self._backward_hooks or self._forward_hooks or self._forward_pre_hooks or _global_backward_hooks\n\u001b[1;32m   1050\u001b[0m                 or _global_forward_hooks or _global_forward_pre_hooks):\n\u001b[0;32m-> 1051\u001b[0;31m             \u001b[0;32mreturn\u001b[0m \u001b[0mforward_call\u001b[0m\u001b[0;34m(\u001b[0m\u001b[0;34m*\u001b[0m\u001b[0minput\u001b[0m\u001b[0;34m,\u001b[0m \u001b[0;34m**\u001b[0m\u001b[0mkwargs\u001b[0m\u001b[0;34m)\u001b[0m\u001b[0;34m\u001b[0m\u001b[0;34m\u001b[0m\u001b[0m\n\u001b[0m\u001b[1;32m   1052\u001b[0m         \u001b[0;31m# Do not call functions when jit is used\u001b[0m\u001b[0;34m\u001b[0m\u001b[0;34m\u001b[0m\u001b[0;34m\u001b[0m\u001b[0m\n\u001b[1;32m   1053\u001b[0m         \u001b[0mfull_backward_hooks\u001b[0m\u001b[0;34m,\u001b[0m \u001b[0mnon_full_backward_hooks\u001b[0m \u001b[0;34m=\u001b[0m \u001b[0;34m[\u001b[0m\u001b[0;34m]\u001b[0m\u001b[0;34m,\u001b[0m \u001b[0;34m[\u001b[0m\u001b[0;34m]\u001b[0m\u001b[0;34m\u001b[0m\u001b[0;34m\u001b[0m\u001b[0m\n",
            "\u001b[0;32m/content/SFC-CAE-Ready-to-use/sfc_cae/sfc_cae.py\u001b[0m in \u001b[0;36mforward\u001b[0;34m(self, x)\u001b[0m\n\u001b[1;32m    183\u001b[0m            \u001b[0;32mdel\u001b[0m \u001b[0mtt_nn\u001b[0m\u001b[0;34m\u001b[0m\u001b[0;34m\u001b[0m\u001b[0m\n\u001b[1;32m    184\u001b[0m         \u001b[0;32melse\u001b[0m\u001b[0;34m:\u001b[0m\u001b[0;34m\u001b[0m\u001b[0;34m\u001b[0m\u001b[0m\n\u001b[0;32m--> 185\u001b[0;31m            \u001b[0ma\u001b[0m \u001b[0;34m=\u001b[0m \u001b[0mordering_tensor\u001b[0m\u001b[0;34m(\u001b[0m\u001b[0mx\u001b[0m\u001b[0;34m,\u001b[0m \u001b[0mself\u001b[0m\u001b[0;34m.\u001b[0m\u001b[0morderings\u001b[0m\u001b[0;34m[\u001b[0m\u001b[0mi\u001b[0m\u001b[0;34m]\u001b[0m\u001b[0;34m)\u001b[0m\u001b[0;34m\u001b[0m\u001b[0;34m\u001b[0m\u001b[0m\n\u001b[0m\u001b[1;32m    186\u001b[0m         \u001b[0;32mif\u001b[0m \u001b[0mself\u001b[0m\u001b[0;34m.\u001b[0m\u001b[0minput_channel\u001b[0m \u001b[0;34m>\u001b[0m \u001b[0;36m1\u001b[0m\u001b[0;34m:\u001b[0m \u001b[0ma\u001b[0m \u001b[0;34m=\u001b[0m \u001b[0ma\u001b[0m\u001b[0;34m.\u001b[0m\u001b[0mview\u001b[0m\u001b[0;34m(\u001b[0m\u001b[0;34m-\u001b[0m\u001b[0;36m1\u001b[0m\u001b[0;34m,\u001b[0m \u001b[0mself\u001b[0m\u001b[0;34m.\u001b[0m\u001b[0minput_channel\u001b[0m\u001b[0;34m,\u001b[0m \u001b[0mself\u001b[0m\u001b[0;34m.\u001b[0m\u001b[0minput_size\u001b[0m\u001b[0;34m)\u001b[0m\u001b[0;34m\u001b[0m\u001b[0;34m\u001b[0m\u001b[0m\n\u001b[1;32m    187\u001b[0m         \u001b[0;32melse\u001b[0m\u001b[0;34m:\u001b[0m \u001b[0ma\u001b[0m \u001b[0;34m=\u001b[0m \u001b[0ma\u001b[0m\u001b[0;34m.\u001b[0m\u001b[0munsqueeze\u001b[0m\u001b[0;34m(\u001b[0m\u001b[0;36m1\u001b[0m\u001b[0;34m)\u001b[0m\u001b[0;34m\u001b[0m\u001b[0;34m\u001b[0m\u001b[0m\n",
            "\u001b[0;32m/content/SFC-CAE-Ready-to-use/sfc_cae/utils.py\u001b[0m in \u001b[0;36mordering_tensor\u001b[0;34m(tensor, ordering)\u001b[0m\n\u001b[1;32m    595\u001b[0m     \u001b[0mtensor\u001b[0m\u001b[0;34m:\u001b[0m \u001b[0;34m[\u001b[0m\u001b[0mtorch\u001b[0m\u001b[0;34m.\u001b[0m\u001b[0mFloatTensor\u001b[0m\u001b[0;34m]\u001b[0m \u001b[0mthe\u001b[0m \u001b[0mordered\u001b[0m \u001b[0msimulation\u001b[0m \u001b[0mtensor\u001b[0m\u001b[0;34m.\u001b[0m\u001b[0;34m\u001b[0m\u001b[0;34m\u001b[0m\u001b[0m\n\u001b[1;32m    596\u001b[0m     '''\n\u001b[0;32m--> 597\u001b[0;31m     \u001b[0;32mreturn\u001b[0m \u001b[0mtensor\u001b[0m\u001b[0;34m[\u001b[0m\u001b[0;34m:\u001b[0m\u001b[0;34m,\u001b[0m \u001b[0mordering\u001b[0m\u001b[0;34m]\u001b[0m\u001b[0;34m\u001b[0m\u001b[0;34m\u001b[0m\u001b[0m\n\u001b[0m\u001b[1;32m    598\u001b[0m \u001b[0;34m\u001b[0m\u001b[0m\n\u001b[1;32m    599\u001b[0m \u001b[0;32mclass\u001b[0m \u001b[0mNearestNeighbouring\u001b[0m\u001b[0;34m(\u001b[0m\u001b[0mnn\u001b[0m\u001b[0;34m.\u001b[0m\u001b[0mModule\u001b[0m\u001b[0;34m)\u001b[0m\u001b[0;34m:\u001b[0m\u001b[0;34m\u001b[0m\u001b[0;34m\u001b[0m\u001b[0m\n",
            "\u001b[0;31mKeyboardInterrupt\u001b[0m: "
          ]
        }
      ]
    }
  ]
}