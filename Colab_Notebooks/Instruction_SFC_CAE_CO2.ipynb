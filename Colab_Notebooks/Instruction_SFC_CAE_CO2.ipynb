{
 "cells": [
  {
   "cell_type": "code",
   "execution_count": null,
   "metadata": {
    "colab": {
     "base_uri": "https://localhost:8080/"
    },
    "id": "3mBN38-pzJRP",
    "outputId": "210347ae-3563-47b2-c657-ba4ddea895c9"
   },
   "outputs": [
    {
     "name": "stdout",
     "output_type": "stream",
     "text": [
      "Mounted at /content/gdrive/\n"
     ]
    }
   ],
   "source": [
    "from google.colab import drive\n",
    "drive.mount('/content/gdrive/')"
   ]
  },
  {
   "cell_type": "markdown",
   "metadata": {
    "id": "cOpqzYbPM0EH"
   },
   "source": [
    "## Clone the repository"
   ]
  },
  {
   "cell_type": "code",
   "execution_count": null,
   "metadata": {
    "colab": {
     "base_uri": "https://localhost:8080/"
    },
    "id": "1hSb7WeDzKL7",
    "outputId": "7fd0c5ed-4ae8-4fd8-d1e0-8c1dcb53ba11"
   },
   "outputs": [
    {
     "name": "stdout",
     "output_type": "stream",
     "text": [
      "Cloning into 'SFC-CAE-Ready-to-use'...\n",
      "remote: Enumerating objects: 1370, done.\u001b[K\n",
      "remote: Counting objects: 100% (467/467), done.\u001b[K\n",
      "remote: Compressing objects: 100% (265/265), done.\u001b[K\n",
      "remote: Total 1370 (delta 279), reused 337 (delta 154), pack-reused 903\u001b[K\n",
      "Receiving objects: 100% (1370/1370), 52.41 MiB | 45.40 MiB/s, done.\n",
      "Resolving deltas: 100% (852/852), done.\n"
     ]
    }
   ],
   "source": [
    "!git clone https://github.com/acse-jy220/SFC-CAE-Ready-to-use"
   ]
  },
  {
   "cell_type": "code",
   "execution_count": null,
   "metadata": {
    "colab": {
     "base_uri": "https://localhost:8080/"
    },
    "id": "vB2IDPJBzat-",
    "outputId": "3517bee6-00b4-4a0a-ef0a-421b48bebff9"
   },
   "outputs": [
    {
     "name": "stdout",
     "output_type": "stream",
     "text": [
      "/content/SFC-CAE-Ready-to-use\n"
     ]
    }
   ],
   "source": [
    "%cd SFC-CAE-Ready-to-use"
   ]
  },
  {
   "cell_type": "code",
   "execution_count": null,
   "metadata": {
    "colab": {
     "base_uri": "https://localhost:8080/"
    },
    "id": "sB2BO1dtX_js",
    "outputId": "9793f31f-91d1-4554-91e5-40fdb5d9f449"
   },
   "outputs": [
    {
     "name": "stdout",
     "output_type": "stream",
     "text": [
      "Already up to date.\n"
     ]
    }
   ],
   "source": [
    "!git pull"
   ]
  },
  {
   "cell_type": "markdown",
   "metadata": {
    "id": "psNEoVIXtirz"
   },
   "source": [
    "### Install dependencies"
   ]
  },
  {
   "cell_type": "code",
   "execution_count": null,
   "metadata": {
    "colab": {
     "base_uri": "https://localhost:8080/"
    },
    "id": "mCAqgswwUqiR",
    "outputId": "12647a05-3418-4067-8f13-9c3b730a69ff"
   },
   "outputs": [
    {
     "name": "stdout",
     "output_type": "stream",
     "text": [
      "Obtaining file:///content/SFC-CAE-Ready-to-use\n",
      "Requirement already satisfied: numpy>=1.19.5 in /usr/local/lib/python3.7/dist-packages (from SFC-CAE==0.0.0) (1.19.5)\n",
      "Requirement already satisfied: scipy>=1.4.1 in /usr/local/lib/python3.7/dist-packages (from SFC-CAE==0.0.0) (1.4.1)\n",
      "Requirement already satisfied: matplotlib~=3.2.2 in /usr/local/lib/python3.7/dist-packages (from SFC-CAE==0.0.0) (3.2.2)\n",
      "Collecting vtk>=9.0\n",
      "  Downloading vtk-9.0.3-cp37-cp37m-manylinux_2_17_x86_64.manylinux2014_x86_64.whl (59.5 MB)\n",
      "\u001b[K     |████████████████████████████████| 59.5 MB 38 kB/s \n",
      "\u001b[?25hCollecting livelossplot~=0.5.4\n",
      "  Downloading livelossplot-0.5.4-py3-none-any.whl (22 kB)\n",
      "Collecting meshio[all]\n",
      "  Downloading meshio-5.0.0-py3-none-any.whl (163 kB)\n",
      "\u001b[K     |████████████████████████████████| 163 kB 68.6 MB/s \n",
      "\u001b[?25hCollecting cmocean~=2.0\n",
      "  Downloading cmocean-2.0-py3-none-any.whl (223 kB)\n",
      "\u001b[K     |████████████████████████████████| 223 kB 78.0 MB/s \n",
      "\u001b[?25hRequirement already satisfied: torch>=1.8.0 in /usr/local/lib/python3.7/dist-packages (from SFC-CAE==0.0.0) (1.9.0+cu102)\n",
      "Collecting dash~=1.21.0\n",
      "  Downloading dash-1.21.0.tar.gz (1.1 MB)\n",
      "\u001b[K     |████████████████████████████████| 1.1 MB 47.5 MB/s \n",
      "\u001b[?25hRequirement already satisfied: pytest>=3.6.4 in /usr/local/lib/python3.7/dist-packages (from SFC-CAE==0.0.0) (3.6.4)\n",
      "Requirement already satisfied: progressbar2~=3.38.0 in /usr/local/lib/python3.7/dist-packages (from SFC-CAE==0.0.0) (3.38.0)\n",
      "Requirement already satisfied: Flask>=1.0.4 in /usr/local/lib/python3.7/dist-packages (from dash~=1.21.0->SFC-CAE==0.0.0) (1.1.4)\n",
      "Collecting flask-compress\n",
      "  Downloading Flask_Compress-1.10.1-py3-none-any.whl (7.9 kB)\n",
      "Requirement already satisfied: plotly in /usr/local/lib/python3.7/dist-packages (from dash~=1.21.0->SFC-CAE==0.0.0) (4.4.1)\n",
      "Collecting dash-core-components==1.17.1\n",
      "  Downloading dash_core_components-1.17.1.tar.gz (3.7 MB)\n",
      "\u001b[K     |████████████████████████████████| 3.7 MB 67.2 MB/s \n",
      "\u001b[?25hCollecting dash-html-components==1.1.4\n",
      "  Downloading dash_html_components-1.1.4.tar.gz (83 kB)\n",
      "\u001b[K     |████████████████████████████████| 83 kB 3.3 MB/s \n",
      "\u001b[?25hCollecting dash-table==4.12.0\n",
      "  Downloading dash_table-4.12.0.tar.gz (1.8 MB)\n",
      "\u001b[K     |████████████████████████████████| 1.8 MB 53.0 MB/s \n",
      "\u001b[?25hRequirement already satisfied: future in /usr/local/lib/python3.7/dist-packages (from dash~=1.21.0->SFC-CAE==0.0.0) (0.16.0)\n",
      "Requirement already satisfied: click<8.0,>=5.1 in /usr/local/lib/python3.7/dist-packages (from Flask>=1.0.4->dash~=1.21.0->SFC-CAE==0.0.0) (7.1.2)\n",
      "Requirement already satisfied: Jinja2<3.0,>=2.10.1 in /usr/local/lib/python3.7/dist-packages (from Flask>=1.0.4->dash~=1.21.0->SFC-CAE==0.0.0) (2.11.3)\n",
      "Requirement already satisfied: itsdangerous<2.0,>=0.24 in /usr/local/lib/python3.7/dist-packages (from Flask>=1.0.4->dash~=1.21.0->SFC-CAE==0.0.0) (1.1.0)\n",
      "Requirement already satisfied: Werkzeug<2.0,>=0.15 in /usr/local/lib/python3.7/dist-packages (from Flask>=1.0.4->dash~=1.21.0->SFC-CAE==0.0.0) (1.0.1)\n",
      "Requirement already satisfied: MarkupSafe>=0.23 in /usr/local/lib/python3.7/dist-packages (from Jinja2<3.0,>=2.10.1->Flask>=1.0.4->dash~=1.21.0->SFC-CAE==0.0.0) (2.0.1)\n",
      "Requirement already satisfied: ipython in /usr/local/lib/python3.7/dist-packages (from livelossplot~=0.5.4->SFC-CAE==0.0.0) (5.5.0)\n",
      "Requirement already satisfied: bokeh in /usr/local/lib/python3.7/dist-packages (from livelossplot~=0.5.4->SFC-CAE==0.0.0) (2.3.3)\n",
      "Requirement already satisfied: kiwisolver>=1.0.1 in /usr/local/lib/python3.7/dist-packages (from matplotlib~=3.2.2->SFC-CAE==0.0.0) (1.3.1)\n",
      "Requirement already satisfied: cycler>=0.10 in /usr/local/lib/python3.7/dist-packages (from matplotlib~=3.2.2->SFC-CAE==0.0.0) (0.10.0)\n",
      "Requirement already satisfied: python-dateutil>=2.1 in /usr/local/lib/python3.7/dist-packages (from matplotlib~=3.2.2->SFC-CAE==0.0.0) (2.8.1)\n",
      "Requirement already satisfied: pyparsing!=2.0.4,!=2.1.2,!=2.1.6,>=2.0.1 in /usr/local/lib/python3.7/dist-packages (from matplotlib~=3.2.2->SFC-CAE==0.0.0) (2.4.7)\n",
      "Requirement already satisfied: six in /usr/local/lib/python3.7/dist-packages (from cycler>=0.10->matplotlib~=3.2.2->SFC-CAE==0.0.0) (1.15.0)\n",
      "Requirement already satisfied: python-utils>=2.3.0 in /usr/local/lib/python3.7/dist-packages (from progressbar2~=3.38.0->SFC-CAE==0.0.0) (2.5.6)\n",
      "Requirement already satisfied: atomicwrites>=1.0 in /usr/local/lib/python3.7/dist-packages (from pytest>=3.6.4->SFC-CAE==0.0.0) (1.4.0)\n",
      "Requirement already satisfied: setuptools in /usr/local/lib/python3.7/dist-packages (from pytest>=3.6.4->SFC-CAE==0.0.0) (57.2.0)\n",
      "Requirement already satisfied: py>=1.5.0 in /usr/local/lib/python3.7/dist-packages (from pytest>=3.6.4->SFC-CAE==0.0.0) (1.10.0)\n",
      "Requirement already satisfied: attrs>=17.4.0 in /usr/local/lib/python3.7/dist-packages (from pytest>=3.6.4->SFC-CAE==0.0.0) (21.2.0)\n",
      "Requirement already satisfied: pluggy<0.8,>=0.5 in /usr/local/lib/python3.7/dist-packages (from pytest>=3.6.4->SFC-CAE==0.0.0) (0.7.1)\n",
      "Requirement already satisfied: more-itertools>=4.0.0 in /usr/local/lib/python3.7/dist-packages (from pytest>=3.6.4->SFC-CAE==0.0.0) (8.8.0)\n",
      "Requirement already satisfied: typing-extensions in /usr/local/lib/python3.7/dist-packages (from torch>=1.8.0->SFC-CAE==0.0.0) (3.7.4.3)\n",
      "Collecting autobahn>=17.7.1\n",
      "  Downloading autobahn-21.3.1-py2.py3-none-any.whl (495 kB)\n",
      "\u001b[K     |████████████████████████████████| 495 kB 61.5 MB/s \n",
      "\u001b[?25hCollecting wslink>=0.1.3\n",
      "  Downloading wslink-1.0.4-py3-none-any.whl (20 kB)\n",
      "Collecting Twisted>=17.5.0\n",
      "  Downloading Twisted-21.7.0-py3-none-any.whl (3.1 MB)\n",
      "\u001b[K     |████████████████████████████████| 3.1 MB 63.1 MB/s \n",
      "\u001b[?25hCollecting txaio>=21.2.1\n",
      "  Downloading txaio-21.2.1-py2.py3-none-any.whl (30 kB)\n",
      "Collecting cryptography>=3.4.6\n",
      "  Downloading cryptography-3.4.7-cp36-abi3-manylinux2014_x86_64.whl (3.2 MB)\n",
      "\u001b[K     |████████████████████████████████| 3.2 MB 21.0 MB/s \n",
      "\u001b[?25hCollecting hyperlink>=21.0.0\n",
      "  Downloading hyperlink-21.0.0-py2.py3-none-any.whl (74 kB)\n",
      "\u001b[K     |████████████████████████████████| 74 kB 4.9 MB/s \n",
      "\u001b[?25hRequirement already satisfied: cffi>=1.12 in /usr/local/lib/python3.7/dist-packages (from cryptography>=3.4.6->autobahn>=17.7.1->vtk>=9.0->SFC-CAE==0.0.0) (1.14.6)\n",
      "Requirement already satisfied: pycparser in /usr/local/lib/python3.7/dist-packages (from cffi>=1.12->cryptography>=3.4.6->autobahn>=17.7.1->vtk>=9.0->SFC-CAE==0.0.0) (2.20)\n",
      "Requirement already satisfied: idna>=2.5 in /usr/local/lib/python3.7/dist-packages (from hyperlink>=21.0.0->autobahn>=17.7.1->vtk>=9.0->SFC-CAE==0.0.0) (2.10)\n",
      "Collecting constantly>=15.1\n",
      "  Downloading constantly-15.1.0-py2.py3-none-any.whl (7.9 kB)\n",
      "Collecting Automat>=0.8.0\n",
      "  Downloading Automat-20.2.0-py2.py3-none-any.whl (31 kB)\n",
      "Collecting incremental>=21.3.0\n",
      "  Downloading incremental-21.3.0-py2.py3-none-any.whl (15 kB)\n",
      "Collecting zope.interface>=4.4.2\n",
      "  Downloading zope.interface-5.4.0-cp37-cp37m-manylinux2010_x86_64.whl (251 kB)\n",
      "\u001b[K     |████████████████████████████████| 251 kB 56.0 MB/s \n",
      "\u001b[?25hCollecting aiohttp\n",
      "  Downloading aiohttp-3.7.4.post0-cp37-cp37m-manylinux2014_x86_64.whl (1.3 MB)\n",
      "\u001b[K     |████████████████████████████████| 1.3 MB 55.5 MB/s \n",
      "\u001b[?25hCollecting multidict<7.0,>=4.5\n",
      "  Downloading multidict-5.1.0-cp37-cp37m-manylinux2014_x86_64.whl (142 kB)\n",
      "\u001b[K     |████████████████████████████████| 142 kB 73.6 MB/s \n",
      "\u001b[?25hRequirement already satisfied: chardet<5.0,>=2.0 in /usr/local/lib/python3.7/dist-packages (from aiohttp->wslink>=0.1.3->vtk>=9.0->SFC-CAE==0.0.0) (3.0.4)\n",
      "Collecting async-timeout<4.0,>=3.0\n",
      "  Downloading async_timeout-3.0.1-py3-none-any.whl (8.2 kB)\n",
      "Collecting yarl<2.0,>=1.0\n",
      "  Downloading yarl-1.6.3-cp37-cp37m-manylinux2014_x86_64.whl (294 kB)\n",
      "\u001b[K     |████████████████████████████████| 294 kB 70.4 MB/s \n",
      "\u001b[?25hRequirement already satisfied: pillow>=7.1.0 in /usr/local/lib/python3.7/dist-packages (from bokeh->livelossplot~=0.5.4->SFC-CAE==0.0.0) (7.1.2)\n",
      "Requirement already satisfied: tornado>=5.1 in /usr/local/lib/python3.7/dist-packages (from bokeh->livelossplot~=0.5.4->SFC-CAE==0.0.0) (5.1.1)\n",
      "Requirement already satisfied: packaging>=16.8 in /usr/local/lib/python3.7/dist-packages (from bokeh->livelossplot~=0.5.4->SFC-CAE==0.0.0) (21.0)\n",
      "Requirement already satisfied: PyYAML>=3.10 in /usr/local/lib/python3.7/dist-packages (from bokeh->livelossplot~=0.5.4->SFC-CAE==0.0.0) (3.13)\n",
      "Collecting brotli\n",
      "  Downloading Brotli-1.0.9-cp37-cp37m-manylinux1_x86_64.whl (357 kB)\n",
      "\u001b[K     |████████████████████████████████| 357 kB 78.6 MB/s \n",
      "\u001b[?25hRequirement already satisfied: pickleshare in /usr/local/lib/python3.7/dist-packages (from ipython->livelossplot~=0.5.4->SFC-CAE==0.0.0) (0.7.5)\n",
      "Requirement already satisfied: pygments in /usr/local/lib/python3.7/dist-packages (from ipython->livelossplot~=0.5.4->SFC-CAE==0.0.0) (2.6.1)\n",
      "Requirement already satisfied: simplegeneric>0.8 in /usr/local/lib/python3.7/dist-packages (from ipython->livelossplot~=0.5.4->SFC-CAE==0.0.0) (0.8.1)\n",
      "Requirement already satisfied: traitlets>=4.2 in /usr/local/lib/python3.7/dist-packages (from ipython->livelossplot~=0.5.4->SFC-CAE==0.0.0) (5.0.5)\n",
      "Requirement already satisfied: pexpect in /usr/local/lib/python3.7/dist-packages (from ipython->livelossplot~=0.5.4->SFC-CAE==0.0.0) (4.8.0)\n",
      "Requirement already satisfied: decorator in /usr/local/lib/python3.7/dist-packages (from ipython->livelossplot~=0.5.4->SFC-CAE==0.0.0) (4.4.2)\n",
      "Requirement already satisfied: prompt-toolkit<2.0.0,>=1.0.4 in /usr/local/lib/python3.7/dist-packages (from ipython->livelossplot~=0.5.4->SFC-CAE==0.0.0) (1.0.18)\n",
      "Requirement already satisfied: wcwidth in /usr/local/lib/python3.7/dist-packages (from prompt-toolkit<2.0.0,>=1.0.4->ipython->livelossplot~=0.5.4->SFC-CAE==0.0.0) (0.2.5)\n",
      "Requirement already satisfied: ipython-genutils in /usr/local/lib/python3.7/dist-packages (from traitlets>=4.2->ipython->livelossplot~=0.5.4->SFC-CAE==0.0.0) (0.2.0)\n",
      "Requirement already satisfied: importlib-metadata in /usr/local/lib/python3.7/dist-packages (from meshio[all]->SFC-CAE==0.0.0) (4.6.1)\n",
      "Requirement already satisfied: netCDF4 in /usr/local/lib/python3.7/dist-packages (from meshio[all]->SFC-CAE==0.0.0) (1.5.7)\n",
      "Requirement already satisfied: h5py in /usr/local/lib/python3.7/dist-packages (from meshio[all]->SFC-CAE==0.0.0) (3.1.0)\n",
      "Requirement already satisfied: cached-property in /usr/local/lib/python3.7/dist-packages (from h5py->meshio[all]->SFC-CAE==0.0.0) (1.5.2)\n",
      "Requirement already satisfied: zipp>=0.5 in /usr/local/lib/python3.7/dist-packages (from importlib-metadata->meshio[all]->SFC-CAE==0.0.0) (3.5.0)\n",
      "Requirement already satisfied: cftime in /usr/local/lib/python3.7/dist-packages (from netCDF4->meshio[all]->SFC-CAE==0.0.0) (1.5.0)\n",
      "Requirement already satisfied: ptyprocess>=0.5 in /usr/local/lib/python3.7/dist-packages (from pexpect->ipython->livelossplot~=0.5.4->SFC-CAE==0.0.0) (0.7.0)\n",
      "Requirement already satisfied: retrying>=1.3.3 in /usr/local/lib/python3.7/dist-packages (from plotly->dash~=1.21.0->SFC-CAE==0.0.0) (1.3.3)\n",
      "Building wheels for collected packages: dash, dash-core-components, dash-html-components, dash-table\n",
      "  Building wheel for dash (setup.py) ... \u001b[?25l\u001b[?25hdone\n",
      "  Created wheel for dash: filename=dash-1.21.0-py3-none-any.whl size=1100489 sha256=9ac6f8d0dfdd3fd4cca24d89e56858bee942d9ee7edfad33863ff17fb956e44a\n",
      "  Stored in directory: /root/.cache/pip/wheels/59/a4/f1/a7140afcad8dbaa3b1b12ef80843d29403d6ecca1c2f397948\n",
      "  Building wheel for dash-core-components (setup.py) ... \u001b[?25l\u001b[?25hdone\n",
      "  Created wheel for dash-core-components: filename=dash_core_components-1.17.1-py3-none-any.whl size=3738995 sha256=4a1f539f81b18e74da3ebe37b384fded2c0478dbbd3876d8e2d67f68cfc9d544\n",
      "  Stored in directory: /root/.cache/pip/wheels/ca/5b/fb/a135a7bf8e21223e4104aa5526a5173a20b64fe7fcd055b999\n",
      "  Building wheel for dash-html-components (setup.py) ... \u001b[?25l\u001b[?25hdone\n",
      "  Created wheel for dash-html-components: filename=dash_html_components-1.1.4-py3-none-any.whl size=319771 sha256=eb4026be328051ac7f5b714377e705472eae556402b312ec5a38913e5c257e7f\n",
      "  Stored in directory: /root/.cache/pip/wheels/51/d7/5f/5730b784b5333941740a0dfc57b10395c3507b35ddac112ac0\n",
      "  Building wheel for dash-table (setup.py) ... \u001b[?25l\u001b[?25hdone\n",
      "  Created wheel for dash-table: filename=dash_table-4.12.0-py3-none-any.whl size=1837674 sha256=f547cbaac3903aca35e605ef77519d242ea1dc7016a46863880382eaf9de1dd1\n",
      "  Stored in directory: /root/.cache/pip/wheels/5f/d4/8b/639186e25b7234dac44ba004cfb58ea5b39fe492085bda2a88\n",
      "Successfully built dash dash-core-components dash-html-components dash-table\n",
      "Installing collected packages: multidict, yarl, async-timeout, zope.interface, txaio, incremental, hyperlink, cryptography, constantly, brotli, Automat, aiohttp, wslink, Twisted, meshio, flask-compress, dash-table, dash-html-components, dash-core-components, autobahn, vtk, livelossplot, dash, cmocean, SFC-CAE\n",
      "  Running setup.py develop for SFC-CAE\n",
      "Successfully installed Automat-20.2.0 SFC-CAE-0.0.0 Twisted-21.7.0 aiohttp-3.7.4.post0 async-timeout-3.0.1 autobahn-21.3.1 brotli-1.0.9 cmocean-2.0 constantly-15.1.0 cryptography-3.4.7 dash-1.21.0 dash-core-components-1.17.1 dash-html-components-1.1.4 dash-table-4.12.0 flask-compress-1.10.1 hyperlink-21.0.0 incremental-21.3.0 livelossplot-0.5.4 meshio-5.0.0 multidict-5.1.0 txaio-21.2.1 vtk-9.0.3 wslink-1.0.4 yarl-1.6.3 zope.interface-5.4.0\n"
     ]
    }
   ],
   "source": [
    "!pip install -e ."
   ]
  },
  {
   "cell_type": "markdown",
   "metadata": {
    "id": "dp1x1ZtVtn-7"
   },
   "source": [
    "### Import useful functions inside this repo, very important, don't forget!!!"
   ]
  },
  {
   "cell_type": "code",
   "execution_count": null,
   "metadata": {
    "id": "Q1O9kBUQzfaO"
   },
   "outputs": [],
   "source": [
    "from sfc_cae import *"
   ]
  },
  {
   "cell_type": "markdown",
   "metadata": {
    "id": "wSoW9nfOujMF"
   },
   "source": [
    "## (Example) Get the CO2 emission data `ClarenceCentre.zip` (455 snapshots) \n",
    "Try to specify you own `data_dir` !!!!"
   ]
  },
  {
   "cell_type": "code",
   "execution_count": null,
   "metadata": {
    "colab": {
     "base_uri": "https://localhost:8080/"
    },
    "id": "rRVbp9BbAV5b",
    "outputId": "72d5d471-db21-4936-9205-564be2231d02"
   },
   "outputs": [
    {
     "name": "stdout",
     "output_type": "stream",
     "text": [
      "--2021-08-11 08:23:33--  https://www.dropbox.com/s/wmzopedxcelzpaf/ClarenceCentre.zip\n",
      "Resolving www.dropbox.com (www.dropbox.com)... 162.125.82.18, 2620:100:6032:18::a27d:5212\n",
      "Connecting to www.dropbox.com (www.dropbox.com)|162.125.82.18|:443... connected.\n",
      "HTTP request sent, awaiting response... 301 Moved Permanently\n",
      "Location: /s/raw/wmzopedxcelzpaf/ClarenceCentre.zip [following]\n",
      "--2021-08-11 08:23:33--  https://www.dropbox.com/s/raw/wmzopedxcelzpaf/ClarenceCentre.zip\n",
      "Reusing existing connection to www.dropbox.com:443.\n",
      "HTTP request sent, awaiting response... 302 Found\n",
      "Location: https://uc1b20356eccab9ff67c4c3ee659.dl.dropboxusercontent.com/cd/0/inline/BUApmYXSWqylgwvz5ju9HUeduhzYxH3A6EmCxqblEe_375lQOJqsSyO5xbljpR86rgDSfXhxijFNYdhWcFqejUcJRac5vwq0tUcOhGhMqrG0YAbFuPHh7yknCgCSu4-rX0IbxbQ0g0jbp46wSqOL5fz8/file# [following]\n",
      "--2021-08-11 08:23:34--  https://uc1b20356eccab9ff67c4c3ee659.dl.dropboxusercontent.com/cd/0/inline/BUApmYXSWqylgwvz5ju9HUeduhzYxH3A6EmCxqblEe_375lQOJqsSyO5xbljpR86rgDSfXhxijFNYdhWcFqejUcJRac5vwq0tUcOhGhMqrG0YAbFuPHh7yknCgCSu4-rX0IbxbQ0g0jbp46wSqOL5fz8/file\n",
      "Resolving uc1b20356eccab9ff67c4c3ee659.dl.dropboxusercontent.com (uc1b20356eccab9ff67c4c3ee659.dl.dropboxusercontent.com)... 162.125.82.15, 2620:100:6032:15::a27d:520f\n",
      "Connecting to uc1b20356eccab9ff67c4c3ee659.dl.dropboxusercontent.com (uc1b20356eccab9ff67c4c3ee659.dl.dropboxusercontent.com)|162.125.82.15|:443... connected.\n",
      "HTTP request sent, awaiting response... 302 Found\n",
      "Location: /cd/0/inline2/BUBgpDwoSYUgQISXgqJJSRrbIJaH7NgHJXDSoA3wHa1pxiX0wA5CSkIwZmoXqmWYEicM98RSeFrexeEHAgUV7bmCYfTZMO1iozyFRKff5zuEXR89EPIePbvyYFe0dpTReE7JtNwnob0x-KEdO0bqoHBvTcBM5kw4Ejsz-vVWFnLwszhamLqZbV6F3-ASZpRdrMX0yf1gXQ4KPLLhpdyL-HiyjZJEIM4yGt80HBUrYcKLxoNEKECIUisCMIx31vSGD94X3Dq2DIT6tOANNLXdw6UEPI7PQAStfxtzTZB6zf39ZiUcseDjxmT3q3RlBSQ6qtK3UHOBq17UEaPE27QV-yY3cYdwkvwnsoHsewrYl00va2mvQN4d8BN1jdX1_fO4XzY/file [following]\n",
      "--2021-08-11 08:23:34--  https://uc1b20356eccab9ff67c4c3ee659.dl.dropboxusercontent.com/cd/0/inline2/BUBgpDwoSYUgQISXgqJJSRrbIJaH7NgHJXDSoA3wHa1pxiX0wA5CSkIwZmoXqmWYEicM98RSeFrexeEHAgUV7bmCYfTZMO1iozyFRKff5zuEXR89EPIePbvyYFe0dpTReE7JtNwnob0x-KEdO0bqoHBvTcBM5kw4Ejsz-vVWFnLwszhamLqZbV6F3-ASZpRdrMX0yf1gXQ4KPLLhpdyL-HiyjZJEIM4yGt80HBUrYcKLxoNEKECIUisCMIx31vSGD94X3Dq2DIT6tOANNLXdw6UEPI7PQAStfxtzTZB6zf39ZiUcseDjxmT3q3RlBSQ6qtK3UHOBq17UEaPE27QV-yY3cYdwkvwnsoHsewrYl00va2mvQN4d8BN1jdX1_fO4XzY/file\n",
      "Reusing existing connection to uc1b20356eccab9ff67c4c3ee659.dl.dropboxusercontent.com:443.\n",
      "HTTP request sent, awaiting response... 200 OK\n",
      "Length: 6290346282 (5.9G) [application/zip]\n",
      "Saving to: ‘ClarenceCentre.zip’\n",
      "\n",
      "ClarenceCentre.zip  100%[===================>]   5.86G  14.9MB/s    in 7m 25s  \n",
      "\n",
      "2021-08-11 08:30:59 (13.5 MB/s) - ‘ClarenceCentre.zip’ saved [6290346282/6290346282]\n",
      "\n",
      "Archive:  ClarenceCentre.zip\n",
      "   creating: ./run_Clip_ToSend/\n",
      "  inflating: ./run_Clip_ToSend/ClarenceCentre_0.vtu  \n",
      "  inflating: ./run_Clip_ToSend/ClarenceCentre_1.vtu  \n",
      "  inflating: ./run_Clip_ToSend/ClarenceCentre_10.vtu  \n",
      "  inflating: ./run_Clip_ToSend/ClarenceCentre_100.vtu  \n",
      "  inflating: ./run_Clip_ToSend/ClarenceCentre_101.vtu  \n",
      "  inflating: ./run_Clip_ToSend/ClarenceCentre_102.vtu  \n",
      "  inflating: ./run_Clip_ToSend/ClarenceCentre_103.vtu  \n",
      "  inflating: ./run_Clip_ToSend/ClarenceCentre_104.vtu  \n",
      "  inflating: ./run_Clip_ToSend/ClarenceCentre_105.vtu  \n",
      "  inflating: ./run_Clip_ToSend/ClarenceCentre_106.vtu  \n",
      "  inflating: ./run_Clip_ToSend/ClarenceCentre_107.vtu  \n",
      "  inflating: ./run_Clip_ToSend/ClarenceCentre_108.vtu  \n",
      "  inflating: ./run_Clip_ToSend/ClarenceCentre_109.vtu  \n",
      "  inflating: ./run_Clip_ToSend/ClarenceCentre_11.vtu  \n",
      "  inflating: ./run_Clip_ToSend/ClarenceCentre_110.vtu  \n",
      "  inflating: ./run_Clip_ToSend/ClarenceCentre_111.vtu  \n",
      "  inflating: ./run_Clip_ToSend/ClarenceCentre_112.vtu  \n",
      "  inflating: ./run_Clip_ToSend/ClarenceCentre_113.vtu  \n",
      "  inflating: ./run_Clip_ToSend/ClarenceCentre_114.vtu  \n",
      "  inflating: ./run_Clip_ToSend/ClarenceCentre_115.vtu  \n",
      "  inflating: ./run_Clip_ToSend/ClarenceCentre_116.vtu  \n",
      "  inflating: ./run_Clip_ToSend/ClarenceCentre_117.vtu  \n",
      "  inflating: ./run_Clip_ToSend/ClarenceCentre_118.vtu  \n",
      "  inflating: ./run_Clip_ToSend/ClarenceCentre_119.vtu  \n",
      "  inflating: ./run_Clip_ToSend/ClarenceCentre_230.vtu  \n",
      "  inflating: ./run_Clip_ToSend/ClarenceCentre_231.vtu  \n",
      "  inflating: ./run_Clip_ToSend/ClarenceCentre_232.vtu  \n",
      "  inflating: ./run_Clip_ToSend/ClarenceCentre_233.vtu  \n",
      "  inflating: ./run_Clip_ToSend/ClarenceCentre_234.vtu  \n",
      "  inflating: ./run_Clip_ToSend/ClarenceCentre_235.vtu  \n",
      "  inflating: ./run_Clip_ToSend/ClarenceCentre_236.vtu  \n",
      "  inflating: ./run_Clip_ToSend/ClarenceCentre_237.vtu  \n",
      "  inflating: ./run_Clip_ToSend/ClarenceCentre_238.vtu  \n",
      "  inflating: ./run_Clip_ToSend/ClarenceCentre_239.vtu  \n",
      "  inflating: ./run_Clip_ToSend/ClarenceCentre_380.vtu  \n",
      "  inflating: ./run_Clip_ToSend/ClarenceCentre_381.vtu  \n",
      "  inflating: ./run_Clip_ToSend/ClarenceCentre_382.vtu  \n",
      "  inflating: ./run_Clip_ToSend/ClarenceCentre_383.vtu  \n",
      "  inflating: ./run_Clip_ToSend/ClarenceCentre_384.vtu  \n",
      "  inflating: ./run_Clip_ToSend/ClarenceCentre_385.vtu  \n",
      "  inflating: ./run_Clip_ToSend/ClarenceCentre_386.vtu  \n",
      "  inflating: ./run_Clip_ToSend/ClarenceCentre_387.vtu  \n",
      "  inflating: ./run_Clip_ToSend/ClarenceCentre_388.vtu  \n",
      "  inflating: ./run_Clip_ToSend/ClarenceCentre_389.vtu  \n",
      "  inflating: ./run_Clip_ToSend/ClarenceCentre_60.vtu  \n",
      "  inflating: ./run_Clip_ToSend/ClarenceCentre_61.vtu  \n",
      "  inflating: ./run_Clip_ToSend/ClarenceCentre_62.vtu  \n",
      "  inflating: ./run_Clip_ToSend/ClarenceCentre_63.vtu  \n",
      "  inflating: ./run_Clip_ToSend/ClarenceCentre_64.vtu  \n",
      "  inflating: ./run_Clip_ToSend/ClarenceCentre_65.vtu  \n",
      "  inflating: ./run_Clip_ToSend/ClarenceCentre_66.vtu  \n",
      "  inflating: ./run_Clip_ToSend/ClarenceCentre_67.vtu  \n",
      "  inflating: ./run_Clip_ToSend/ClarenceCentre_68.vtu  \n",
      "  inflating: ./run_Clip_ToSend/ClarenceCentre_69.vtu  \n",
      "  inflating: ./run_Clip_ToSend/ClarenceCentre_12.vtu  \n",
      "  inflating: ./run_Clip_ToSend/ClarenceCentre_13.vtu  \n",
      "  inflating: ./run_Clip_ToSend/ClarenceCentre_15.vtu  \n",
      "  inflating: ./run_Clip_ToSend/ClarenceCentre_16.vtu  \n",
      "  inflating: ./run_Clip_ToSend/ClarenceCentre_18.vtu  \n",
      "  inflating: ./run_Clip_ToSend/ClarenceCentre_19.vtu  \n",
      "  inflating: ./run_Clip_ToSend/ClarenceCentre_2.vtu  \n",
      "  inflating: ./run_Clip_ToSend/ClarenceCentre_212.vtu  \n",
      "  inflating: ./run_Clip_ToSend/ClarenceCentre_23.vtu  \n",
      "  inflating: ./run_Clip_ToSend/ClarenceCentre_24.vtu  \n",
      "  inflating: ./run_Clip_ToSend/ClarenceCentre_25.vtu  \n",
      "  inflating: ./run_Clip_ToSend/ClarenceCentre_27.vtu  \n",
      "  inflating: ./run_Clip_ToSend/ClarenceCentre_28.vtu  \n",
      "  inflating: ./run_Clip_ToSend/ClarenceCentre_3.vtu  \n",
      "  inflating: ./run_Clip_ToSend/ClarenceCentre_31.vtu  \n",
      "  inflating: ./run_Clip_ToSend/ClarenceCentre_33.vtu  \n",
      "  inflating: ./run_Clip_ToSend/ClarenceCentre_34.vtu  \n",
      "  inflating: ./run_Clip_ToSend/ClarenceCentre_35.vtu  \n",
      "  inflating: ./run_Clip_ToSend/ClarenceCentre_364.vtu  \n",
      "  inflating: ./run_Clip_ToSend/ClarenceCentre_38.vtu  \n",
      "  inflating: ./run_Clip_ToSend/ClarenceCentre_39.vtu  \n",
      "  inflating: ./run_Clip_ToSend/ClarenceCentre_4.vtu  \n",
      "  inflating: ./run_Clip_ToSend/ClarenceCentre_42.vtu  \n",
      "  inflating: ./run_Clip_ToSend/ClarenceCentre_43.vtu  \n",
      "  inflating: ./run_Clip_ToSend/ClarenceCentre_45.vtu  \n",
      "  inflating: ./run_Clip_ToSend/ClarenceCentre_6.vtu  \n",
      "  inflating: ./run_Clip_ToSend/ClarenceCentre_7.vtu  \n",
      "  inflating: ./run_Clip_ToSend/ClarenceCentre_9.vtu  \n",
      "  inflating: ./run_Clip_ToSend/ClarenceCentre_70.vtu  \n",
      "  inflating: ./run_Clip_ToSend/ClarenceCentre_71.vtu  \n",
      "  inflating: ./run_Clip_ToSend/ClarenceCentre_72.vtu  \n",
      "  inflating: ./run_Clip_ToSend/ClarenceCentre_73.vtu  \n",
      "  inflating: ./run_Clip_ToSend/ClarenceCentre_74.vtu  \n",
      "  inflating: ./run_Clip_ToSend/ClarenceCentre_75.vtu  \n",
      "  inflating: ./run_Clip_ToSend/ClarenceCentre_76.vtu  \n",
      "  inflating: ./run_Clip_ToSend/ClarenceCentre_77.vtu  \n",
      "  inflating: ./run_Clip_ToSend/ClarenceCentre_78.vtu  \n",
      "  inflating: ./run_Clip_ToSend/ClarenceCentre_79.vtu  \n",
      "  inflating: ./run_Clip_ToSend/ClarenceCentre_8.vtu  \n",
      "  inflating: ./run_Clip_ToSend/ClarenceCentre_80.vtu  \n",
      "  inflating: ./run_Clip_ToSend/ClarenceCentre_81.vtu  \n",
      "  inflating: ./run_Clip_ToSend/ClarenceCentre_82.vtu  \n",
      "  inflating: ./run_Clip_ToSend/ClarenceCentre_83.vtu  \n",
      "  inflating: ./run_Clip_ToSend/ClarenceCentre_84.vtu  \n",
      "  inflating: ./run_Clip_ToSend/ClarenceCentre_85.vtu  \n",
      "  inflating: ./run_Clip_ToSend/ClarenceCentre_86.vtu  \n",
      "  inflating: ./run_Clip_ToSend/ClarenceCentre_87.vtu  \n",
      "  inflating: ./run_Clip_ToSend/ClarenceCentre_88.vtu  \n",
      "  inflating: ./run_Clip_ToSend/ClarenceCentre_89.vtu  \n",
      "  inflating: ./run_Clip_ToSend/ClarenceCentre_90.vtu  \n",
      "  inflating: ./run_Clip_ToSend/ClarenceCentre_91.vtu  \n",
      "  inflating: ./run_Clip_ToSend/ClarenceCentre_92.vtu  \n",
      "  inflating: ./run_Clip_ToSend/ClarenceCentre_93.vtu  \n",
      "  inflating: ./run_Clip_ToSend/ClarenceCentre_94.vtu  \n",
      "  inflating: ./run_Clip_ToSend/ClarenceCentre_95.vtu  \n",
      "  inflating: ./run_Clip_ToSend/ClarenceCentre_96.vtu  \n",
      "  inflating: ./run_Clip_ToSend/ClarenceCentre_97.vtu  \n",
      "  inflating: ./run_Clip_ToSend/ClarenceCentre_98.vtu  \n",
      "  inflating: ./run_Clip_ToSend/ClarenceCentre_99.vtu  \n",
      "  inflating: ./run_Clip_ToSend/ClarenceCentre_120.vtu  \n",
      "  inflating: ./run_Clip_ToSend/ClarenceCentre_121.vtu  \n",
      "  inflating: ./run_Clip_ToSend/ClarenceCentre_122.vtu  \n",
      "  inflating: ./run_Clip_ToSend/ClarenceCentre_123.vtu  \n",
      "  inflating: ./run_Clip_ToSend/ClarenceCentre_124.vtu  \n",
      "  inflating: ./run_Clip_ToSend/ClarenceCentre_125.vtu  \n",
      "  inflating: ./run_Clip_ToSend/ClarenceCentre_126.vtu  \n",
      "  inflating: ./run_Clip_ToSend/ClarenceCentre_127.vtu  \n",
      "  inflating: ./run_Clip_ToSend/ClarenceCentre_128.vtu  \n",
      "  inflating: ./run_Clip_ToSend/ClarenceCentre_129.vtu  \n",
      "  inflating: ./run_Clip_ToSend/ClarenceCentre_130.vtu  \n",
      "  inflating: ./run_Clip_ToSend/ClarenceCentre_131.vtu  \n",
      "  inflating: ./run_Clip_ToSend/ClarenceCentre_132.vtu  \n",
      "  inflating: ./run_Clip_ToSend/ClarenceCentre_133.vtu  \n",
      "  inflating: ./run_Clip_ToSend/ClarenceCentre_134.vtu  \n",
      "  inflating: ./run_Clip_ToSend/ClarenceCentre_135.vtu  \n",
      "  inflating: ./run_Clip_ToSend/ClarenceCentre_136.vtu  \n",
      "  inflating: ./run_Clip_ToSend/ClarenceCentre_137.vtu  \n",
      "  inflating: ./run_Clip_ToSend/ClarenceCentre_138.vtu  \n",
      "  inflating: ./run_Clip_ToSend/ClarenceCentre_139.vtu  \n",
      "  inflating: ./run_Clip_ToSend/ClarenceCentre_14.vtu  \n",
      "  inflating: ./run_Clip_ToSend/ClarenceCentre_140.vtu  \n",
      "  inflating: ./run_Clip_ToSend/ClarenceCentre_141.vtu  \n",
      "  inflating: ./run_Clip_ToSend/ClarenceCentre_142.vtu  \n",
      "  inflating: ./run_Clip_ToSend/ClarenceCentre_143.vtu  \n",
      "  inflating: ./run_Clip_ToSend/ClarenceCentre_144.vtu  \n",
      "  inflating: ./run_Clip_ToSend/ClarenceCentre_145.vtu  \n",
      "  inflating: ./run_Clip_ToSend/ClarenceCentre_146.vtu  \n",
      "  inflating: ./run_Clip_ToSend/ClarenceCentre_147.vtu  \n",
      "  inflating: ./run_Clip_ToSend/ClarenceCentre_148.vtu  \n",
      "  inflating: ./run_Clip_ToSend/ClarenceCentre_149.vtu  \n",
      "  inflating: ./run_Clip_ToSend/ClarenceCentre_150.vtu  \n",
      "  inflating: ./run_Clip_ToSend/ClarenceCentre_151.vtu  \n",
      "  inflating: ./run_Clip_ToSend/ClarenceCentre_152.vtu  \n",
      "  inflating: ./run_Clip_ToSend/ClarenceCentre_153.vtu  \n",
      "  inflating: ./run_Clip_ToSend/ClarenceCentre_154.vtu  \n",
      "  inflating: ./run_Clip_ToSend/ClarenceCentre_155.vtu  \n",
      "  inflating: ./run_Clip_ToSend/ClarenceCentre_156.vtu  \n",
      "  inflating: ./run_Clip_ToSend/ClarenceCentre_157.vtu  \n",
      "  inflating: ./run_Clip_ToSend/ClarenceCentre_158.vtu  \n",
      "  inflating: ./run_Clip_ToSend/ClarenceCentre_159.vtu  \n",
      "  inflating: ./run_Clip_ToSend/ClarenceCentre_160.vtu  \n",
      "  inflating: ./run_Clip_ToSend/ClarenceCentre_161.vtu  \n",
      "  inflating: ./run_Clip_ToSend/ClarenceCentre_162.vtu  \n",
      "  inflating: ./run_Clip_ToSend/ClarenceCentre_163.vtu  \n",
      "  inflating: ./run_Clip_ToSend/ClarenceCentre_164.vtu  \n",
      "  inflating: ./run_Clip_ToSend/ClarenceCentre_165.vtu  \n",
      "  inflating: ./run_Clip_ToSend/ClarenceCentre_166.vtu  \n",
      "  inflating: ./run_Clip_ToSend/ClarenceCentre_167.vtu  \n",
      "  inflating: ./run_Clip_ToSend/ClarenceCentre_168.vtu  \n",
      "  inflating: ./run_Clip_ToSend/ClarenceCentre_169.vtu  \n",
      "  inflating: ./run_Clip_ToSend/ClarenceCentre_17.vtu  \n",
      "  inflating: ./run_Clip_ToSend/ClarenceCentre_170.vtu  \n",
      "  inflating: ./run_Clip_ToSend/ClarenceCentre_171.vtu  \n",
      "  inflating: ./run_Clip_ToSend/ClarenceCentre_172.vtu  \n",
      "  inflating: ./run_Clip_ToSend/ClarenceCentre_173.vtu  \n",
      "  inflating: ./run_Clip_ToSend/ClarenceCentre_174.vtu  \n",
      "  inflating: ./run_Clip_ToSend/ClarenceCentre_175.vtu  \n",
      "  inflating: ./run_Clip_ToSend/ClarenceCentre_176.vtu  \n",
      "  inflating: ./run_Clip_ToSend/ClarenceCentre_177.vtu  \n",
      "  inflating: ./run_Clip_ToSend/ClarenceCentre_178.vtu  \n",
      "  inflating: ./run_Clip_ToSend/ClarenceCentre_179.vtu  \n",
      "  inflating: ./run_Clip_ToSend/ClarenceCentre_180.vtu  \n",
      "  inflating: ./run_Clip_ToSend/ClarenceCentre_181.vtu  \n",
      "  inflating: ./run_Clip_ToSend/ClarenceCentre_182.vtu  \n",
      "  inflating: ./run_Clip_ToSend/ClarenceCentre_183.vtu  \n",
      "  inflating: ./run_Clip_ToSend/ClarenceCentre_184.vtu  \n",
      "  inflating: ./run_Clip_ToSend/ClarenceCentre_185.vtu  \n",
      "  inflating: ./run_Clip_ToSend/ClarenceCentre_186.vtu  \n",
      "  inflating: ./run_Clip_ToSend/ClarenceCentre_187.vtu  \n",
      "  inflating: ./run_Clip_ToSend/ClarenceCentre_188.vtu  \n",
      "  inflating: ./run_Clip_ToSend/ClarenceCentre_189.vtu  \n",
      "  inflating: ./run_Clip_ToSend/ClarenceCentre_190.vtu  \n",
      "  inflating: ./run_Clip_ToSend/ClarenceCentre_191.vtu  \n",
      "  inflating: ./run_Clip_ToSend/ClarenceCentre_192.vtu  \n",
      "  inflating: ./run_Clip_ToSend/ClarenceCentre_193.vtu  \n",
      "  inflating: ./run_Clip_ToSend/ClarenceCentre_194.vtu  \n",
      "  inflating: ./run_Clip_ToSend/ClarenceCentre_195.vtu  \n",
      "  inflating: ./run_Clip_ToSend/ClarenceCentre_196.vtu  \n",
      "  inflating: ./run_Clip_ToSend/ClarenceCentre_197.vtu  \n",
      "  inflating: ./run_Clip_ToSend/ClarenceCentre_198.vtu  \n",
      "  inflating: ./run_Clip_ToSend/ClarenceCentre_199.vtu  \n",
      "  inflating: ./run_Clip_ToSend/ClarenceCentre_20.vtu  \n",
      "  inflating: ./run_Clip_ToSend/ClarenceCentre_200.vtu  \n",
      "  inflating: ./run_Clip_ToSend/ClarenceCentre_201.vtu  \n",
      "  inflating: ./run_Clip_ToSend/ClarenceCentre_202.vtu  \n",
      "  inflating: ./run_Clip_ToSend/ClarenceCentre_203.vtu  \n",
      "  inflating: ./run_Clip_ToSend/ClarenceCentre_204.vtu  \n",
      "  inflating: ./run_Clip_ToSend/ClarenceCentre_205.vtu  \n",
      "  inflating: ./run_Clip_ToSend/ClarenceCentre_206.vtu  \n",
      "  inflating: ./run_Clip_ToSend/ClarenceCentre_207.vtu  \n",
      "  inflating: ./run_Clip_ToSend/ClarenceCentre_208.vtu  \n",
      "  inflating: ./run_Clip_ToSend/ClarenceCentre_209.vtu  \n",
      "  inflating: ./run_Clip_ToSend/ClarenceCentre_21.vtu  \n",
      "  inflating: ./run_Clip_ToSend/ClarenceCentre_210.vtu  \n",
      "  inflating: ./run_Clip_ToSend/ClarenceCentre_211.vtu  \n",
      "  inflating: ./run_Clip_ToSend/ClarenceCentre_240.vtu  \n",
      "  inflating: ./run_Clip_ToSend/ClarenceCentre_241.vtu  \n",
      "  inflating: ./run_Clip_ToSend/ClarenceCentre_242.vtu  \n",
      "  inflating: ./run_Clip_ToSend/ClarenceCentre_243.vtu  \n",
      "  inflating: ./run_Clip_ToSend/ClarenceCentre_244.vtu  \n",
      "  inflating: ./run_Clip_ToSend/ClarenceCentre_245.vtu  \n",
      "  inflating: ./run_Clip_ToSend/ClarenceCentre_246.vtu  \n",
      "  inflating: ./run_Clip_ToSend/ClarenceCentre_247.vtu  \n",
      "  inflating: ./run_Clip_ToSend/ClarenceCentre_248.vtu  \n",
      "  inflating: ./run_Clip_ToSend/ClarenceCentre_249.vtu  \n",
      "  inflating: ./run_Clip_ToSend/ClarenceCentre_250.vtu  \n",
      "  inflating: ./run_Clip_ToSend/ClarenceCentre_251.vtu  \n",
      "  inflating: ./run_Clip_ToSend/ClarenceCentre_252.vtu  \n",
      "  inflating: ./run_Clip_ToSend/ClarenceCentre_253.vtu  \n",
      "  inflating: ./run_Clip_ToSend/ClarenceCentre_254.vtu  \n",
      "  inflating: ./run_Clip_ToSend/ClarenceCentre_255.vtu  \n",
      "  inflating: ./run_Clip_ToSend/ClarenceCentre_256.vtu  \n",
      "  inflating: ./run_Clip_ToSend/ClarenceCentre_257.vtu  \n",
      "  inflating: ./run_Clip_ToSend/ClarenceCentre_258.vtu  \n",
      "  inflating: ./run_Clip_ToSend/ClarenceCentre_259.vtu  \n",
      "  inflating: ./run_Clip_ToSend/ClarenceCentre_26.vtu  \n",
      "  inflating: ./run_Clip_ToSend/ClarenceCentre_260.vtu  \n",
      "  inflating: ./run_Clip_ToSend/ClarenceCentre_261.vtu  \n",
      "  inflating: ./run_Clip_ToSend/ClarenceCentre_262.vtu  \n",
      "  inflating: ./run_Clip_ToSend/ClarenceCentre_263.vtu  \n",
      "  inflating: ./run_Clip_ToSend/ClarenceCentre_264.vtu  \n",
      "  inflating: ./run_Clip_ToSend/ClarenceCentre_265.vtu  \n",
      "  inflating: ./run_Clip_ToSend/ClarenceCentre_266.vtu  \n",
      "  inflating: ./run_Clip_ToSend/ClarenceCentre_267.vtu  \n",
      "  inflating: ./run_Clip_ToSend/ClarenceCentre_268.vtu  \n",
      "  inflating: ./run_Clip_ToSend/ClarenceCentre_269.vtu  \n",
      "  inflating: ./run_Clip_ToSend/ClarenceCentre_270.vtu  \n",
      "  inflating: ./run_Clip_ToSend/ClarenceCentre_271.vtu  \n",
      "  inflating: ./run_Clip_ToSend/ClarenceCentre_272.vtu  \n",
      "  inflating: ./run_Clip_ToSend/ClarenceCentre_273.vtu  \n",
      "  inflating: ./run_Clip_ToSend/ClarenceCentre_274.vtu  \n",
      "  inflating: ./run_Clip_ToSend/ClarenceCentre_275.vtu  \n",
      "  inflating: ./run_Clip_ToSend/ClarenceCentre_276.vtu  \n",
      "  inflating: ./run_Clip_ToSend/ClarenceCentre_277.vtu  \n",
      "  inflating: ./run_Clip_ToSend/ClarenceCentre_278.vtu  \n",
      "  inflating: ./run_Clip_ToSend/ClarenceCentre_279.vtu  \n",
      "  inflating: ./run_Clip_ToSend/ClarenceCentre_280.vtu  \n",
      "  inflating: ./run_Clip_ToSend/ClarenceCentre_281.vtu  \n",
      "  inflating: ./run_Clip_ToSend/ClarenceCentre_282.vtu  \n",
      "  inflating: ./run_Clip_ToSend/ClarenceCentre_283.vtu  \n",
      "  inflating: ./run_Clip_ToSend/ClarenceCentre_284.vtu  \n",
      "  inflating: ./run_Clip_ToSend/ClarenceCentre_285.vtu  \n",
      "  inflating: ./run_Clip_ToSend/ClarenceCentre_286.vtu  \n",
      "  inflating: ./run_Clip_ToSend/ClarenceCentre_287.vtu  \n",
      "  inflating: ./run_Clip_ToSend/ClarenceCentre_288.vtu  \n",
      "  inflating: ./run_Clip_ToSend/ClarenceCentre_289.vtu  \n",
      "  inflating: ./run_Clip_ToSend/ClarenceCentre_29.vtu  \n",
      "  inflating: ./run_Clip_ToSend/ClarenceCentre_290.vtu  \n",
      "  inflating: ./run_Clip_ToSend/ClarenceCentre_291.vtu  \n",
      "  inflating: ./run_Clip_ToSend/ClarenceCentre_292.vtu  \n",
      "  inflating: ./run_Clip_ToSend/ClarenceCentre_293.vtu  \n",
      "  inflating: ./run_Clip_ToSend/ClarenceCentre_294.vtu  \n",
      "  inflating: ./run_Clip_ToSend/ClarenceCentre_295.vtu  \n",
      "  inflating: ./run_Clip_ToSend/ClarenceCentre_296.vtu  \n",
      "  inflating: ./run_Clip_ToSend/ClarenceCentre_297.vtu  \n",
      "  inflating: ./run_Clip_ToSend/ClarenceCentre_298.vtu  \n",
      "  inflating: ./run_Clip_ToSend/ClarenceCentre_299.vtu  \n",
      "  inflating: ./run_Clip_ToSend/ClarenceCentre_30.vtu  \n",
      "  inflating: ./run_Clip_ToSend/ClarenceCentre_300.vtu  \n",
      "  inflating: ./run_Clip_ToSend/ClarenceCentre_301.vtu  \n",
      "  inflating: ./run_Clip_ToSend/ClarenceCentre_302.vtu  \n",
      "  inflating: ./run_Clip_ToSend/ClarenceCentre_303.vtu  \n",
      "  inflating: ./run_Clip_ToSend/ClarenceCentre_304.vtu  \n",
      "  inflating: ./run_Clip_ToSend/ClarenceCentre_305.vtu  \n",
      "  inflating: ./run_Clip_ToSend/ClarenceCentre_306.vtu  \n",
      "  inflating: ./run_Clip_ToSend/ClarenceCentre_307.vtu  \n",
      "  inflating: ./run_Clip_ToSend/ClarenceCentre_308.vtu  \n",
      "  inflating: ./run_Clip_ToSend/ClarenceCentre_309.vtu  \n",
      "  inflating: ./run_Clip_ToSend/ClarenceCentre_310.vtu  \n",
      "  inflating: ./run_Clip_ToSend/ClarenceCentre_311.vtu  \n",
      "  inflating: ./run_Clip_ToSend/ClarenceCentre_312.vtu  \n",
      "  inflating: ./run_Clip_ToSend/ClarenceCentre_313.vtu  \n",
      "  inflating: ./run_Clip_ToSend/ClarenceCentre_314.vtu  \n",
      "  inflating: ./run_Clip_ToSend/ClarenceCentre_315.vtu  \n",
      "  inflating: ./run_Clip_ToSend/ClarenceCentre_316.vtu  \n",
      "  inflating: ./run_Clip_ToSend/ClarenceCentre_317.vtu  \n",
      "  inflating: ./run_Clip_ToSend/ClarenceCentre_318.vtu  \n",
      "  inflating: ./run_Clip_ToSend/ClarenceCentre_319.vtu  \n",
      "  inflating: ./run_Clip_ToSend/ClarenceCentre_32.vtu  \n",
      "  inflating: ./run_Clip_ToSend/ClarenceCentre_320.vtu  \n",
      "  inflating: ./run_Clip_ToSend/ClarenceCentre_321.vtu  \n",
      "  inflating: ./run_Clip_ToSend/ClarenceCentre_322.vtu  \n",
      "  inflating: ./run_Clip_ToSend/ClarenceCentre_323.vtu  \n",
      "  inflating: ./run_Clip_ToSend/ClarenceCentre_324.vtu  \n",
      "  inflating: ./run_Clip_ToSend/ClarenceCentre_325.vtu  \n",
      "  inflating: ./run_Clip_ToSend/ClarenceCentre_326.vtu  \n",
      "  inflating: ./run_Clip_ToSend/ClarenceCentre_327.vtu  \n",
      "  inflating: ./run_Clip_ToSend/ClarenceCentre_328.vtu  \n",
      "  inflating: ./run_Clip_ToSend/ClarenceCentre_329.vtu  \n",
      "  inflating: ./run_Clip_ToSend/ClarenceCentre_330.vtu  \n",
      "  inflating: ./run_Clip_ToSend/ClarenceCentre_331.vtu  \n",
      "  inflating: ./run_Clip_ToSend/ClarenceCentre_332.vtu  \n",
      "  inflating: ./run_Clip_ToSend/ClarenceCentre_333.vtu  \n",
      "  inflating: ./run_Clip_ToSend/ClarenceCentre_334.vtu  \n",
      "  inflating: ./run_Clip_ToSend/ClarenceCentre_335.vtu  \n",
      "  inflating: ./run_Clip_ToSend/ClarenceCentre_336.vtu  \n",
      "  inflating: ./run_Clip_ToSend/ClarenceCentre_337.vtu  \n",
      "  inflating: ./run_Clip_ToSend/ClarenceCentre_338.vtu  \n",
      "  inflating: ./run_Clip_ToSend/ClarenceCentre_339.vtu  \n",
      "  inflating: ./run_Clip_ToSend/ClarenceCentre_340.vtu  \n",
      "  inflating: ./run_Clip_ToSend/ClarenceCentre_341.vtu  \n",
      "  inflating: ./run_Clip_ToSend/ClarenceCentre_342.vtu  \n",
      "  inflating: ./run_Clip_ToSend/ClarenceCentre_343.vtu  \n",
      "  inflating: ./run_Clip_ToSend/ClarenceCentre_344.vtu  \n",
      "  inflating: ./run_Clip_ToSend/ClarenceCentre_345.vtu  \n",
      "  inflating: ./run_Clip_ToSend/ClarenceCentre_346.vtu  \n",
      "  inflating: ./run_Clip_ToSend/ClarenceCentre_347.vtu  \n",
      "  inflating: ./run_Clip_ToSend/ClarenceCentre_348.vtu  \n",
      "  inflating: ./run_Clip_ToSend/ClarenceCentre_349.vtu  \n",
      "  inflating: ./run_Clip_ToSend/ClarenceCentre_350.vtu  \n",
      "  inflating: ./run_Clip_ToSend/ClarenceCentre_351.vtu  \n",
      "  inflating: ./run_Clip_ToSend/ClarenceCentre_352.vtu  \n",
      "  inflating: ./run_Clip_ToSend/ClarenceCentre_353.vtu  \n",
      "  inflating: ./run_Clip_ToSend/ClarenceCentre_354.vtu  \n",
      "  inflating: ./run_Clip_ToSend/ClarenceCentre_355.vtu  \n",
      "  inflating: ./run_Clip_ToSend/ClarenceCentre_356.vtu  \n",
      "  inflating: ./run_Clip_ToSend/ClarenceCentre_357.vtu  \n",
      "  inflating: ./run_Clip_ToSend/ClarenceCentre_358.vtu  \n",
      "  inflating: ./run_Clip_ToSend/ClarenceCentre_359.vtu  \n",
      "  inflating: ./run_Clip_ToSend/ClarenceCentre_36.vtu  \n",
      "  inflating: ./run_Clip_ToSend/ClarenceCentre_360.vtu  \n",
      "  inflating: ./run_Clip_ToSend/ClarenceCentre_361.vtu  \n",
      "  inflating: ./run_Clip_ToSend/ClarenceCentre_362.vtu  \n",
      "  inflating: ./run_Clip_ToSend/ClarenceCentre_363.vtu  \n",
      "  inflating: ./run_Clip_ToSend/ClarenceCentre_390.vtu  \n",
      "  inflating: ./run_Clip_ToSend/ClarenceCentre_391.vtu  \n",
      "  inflating: ./run_Clip_ToSend/ClarenceCentre_392.vtu  \n",
      "  inflating: ./run_Clip_ToSend/ClarenceCentre_393.vtu  \n",
      "  inflating: ./run_Clip_ToSend/ClarenceCentre_394.vtu  \n",
      "  inflating: ./run_Clip_ToSend/ClarenceCentre_395.vtu  \n",
      "  inflating: ./run_Clip_ToSend/ClarenceCentre_396.vtu  \n",
      "  inflating: ./run_Clip_ToSend/ClarenceCentre_397.vtu  \n",
      "  inflating: ./run_Clip_ToSend/ClarenceCentre_398.vtu  \n",
      "  inflating: ./run_Clip_ToSend/ClarenceCentre_399.vtu  \n",
      "  inflating: ./run_Clip_ToSend/ClarenceCentre_40.vtu  \n",
      "  inflating: ./run_Clip_ToSend/ClarenceCentre_400.vtu  \n",
      "  inflating: ./run_Clip_ToSend/ClarenceCentre_401.vtu  \n",
      "  inflating: ./run_Clip_ToSend/ClarenceCentre_402.vtu  \n",
      "  inflating: ./run_Clip_ToSend/ClarenceCentre_403.vtu  \n",
      "  inflating: ./run_Clip_ToSend/ClarenceCentre_404.vtu  \n",
      "  inflating: ./run_Clip_ToSend/ClarenceCentre_405.vtu  \n",
      "  inflating: ./run_Clip_ToSend/ClarenceCentre_406.vtu  \n",
      "  inflating: ./run_Clip_ToSend/ClarenceCentre_407.vtu  \n",
      "  inflating: ./run_Clip_ToSend/ClarenceCentre_408.vtu  \n",
      "  inflating: ./run_Clip_ToSend/ClarenceCentre_409.vtu  \n",
      "  inflating: ./run_Clip_ToSend/ClarenceCentre_41.vtu  \n",
      "  inflating: ./run_Clip_ToSend/ClarenceCentre_410.vtu  \n",
      "  inflating: ./run_Clip_ToSend/ClarenceCentre_411.vtu  \n",
      "  inflating: ./run_Clip_ToSend/ClarenceCentre_412.vtu  \n",
      "  inflating: ./run_Clip_ToSend/ClarenceCentre_413.vtu  \n",
      "  inflating: ./run_Clip_ToSend/ClarenceCentre_414.vtu  \n",
      "  inflating: ./run_Clip_ToSend/ClarenceCentre_415.vtu  \n",
      "  inflating: ./run_Clip_ToSend/ClarenceCentre_416.vtu  \n",
      "  inflating: ./run_Clip_ToSend/ClarenceCentre_417.vtu  \n",
      "  inflating: ./run_Clip_ToSend/ClarenceCentre_418.vtu  \n",
      "  inflating: ./run_Clip_ToSend/ClarenceCentre_419.vtu  \n",
      "  inflating: ./run_Clip_ToSend/ClarenceCentre_420.vtu  \n",
      "  inflating: ./run_Clip_ToSend/ClarenceCentre_421.vtu  \n",
      "  inflating: ./run_Clip_ToSend/ClarenceCentre_422.vtu  \n",
      "  inflating: ./run_Clip_ToSend/ClarenceCentre_423.vtu  \n",
      "  inflating: ./run_Clip_ToSend/ClarenceCentre_424.vtu  \n",
      "  inflating: ./run_Clip_ToSend/ClarenceCentre_425.vtu  \n",
      "  inflating: ./run_Clip_ToSend/ClarenceCentre_426.vtu  \n",
      "  inflating: ./run_Clip_ToSend/ClarenceCentre_427.vtu  \n",
      "  inflating: ./run_Clip_ToSend/ClarenceCentre_428.vtu  \n",
      "  inflating: ./run_Clip_ToSend/ClarenceCentre_429.vtu  \n",
      "  inflating: ./run_Clip_ToSend/ClarenceCentre_430.vtu  \n",
      "  inflating: ./run_Clip_ToSend/ClarenceCentre_431.vtu  \n",
      "  inflating: ./run_Clip_ToSend/ClarenceCentre_432.vtu  \n",
      "  inflating: ./run_Clip_ToSend/ClarenceCentre_433.vtu  \n",
      "  inflating: ./run_Clip_ToSend/ClarenceCentre_434.vtu  \n",
      "  inflating: ./run_Clip_ToSend/ClarenceCentre_435.vtu  \n",
      "  inflating: ./run_Clip_ToSend/ClarenceCentre_436.vtu  \n",
      "  inflating: ./run_Clip_ToSend/ClarenceCentre_437.vtu  \n",
      "  inflating: ./run_Clip_ToSend/ClarenceCentre_438.vtu  \n",
      "  inflating: ./run_Clip_ToSend/ClarenceCentre_439.vtu  \n",
      "  inflating: ./run_Clip_ToSend/ClarenceCentre_44.vtu  \n",
      "  inflating: ./run_Clip_ToSend/ClarenceCentre_440.vtu  \n",
      "  inflating: ./run_Clip_ToSend/ClarenceCentre_441.vtu  \n",
      "  inflating: ./run_Clip_ToSend/ClarenceCentre_442.vtu  \n",
      "  inflating: ./run_Clip_ToSend/ClarenceCentre_443.vtu  \n",
      "  inflating: ./run_Clip_ToSend/ClarenceCentre_444.vtu  \n",
      "  inflating: ./run_Clip_ToSend/ClarenceCentre_445.vtu  \n",
      "  inflating: ./run_Clip_ToSend/ClarenceCentre_446.vtu  \n",
      "  inflating: ./run_Clip_ToSend/ClarenceCentre_447.vtu  \n",
      "  inflating: ./run_Clip_ToSend/ClarenceCentre_448.vtu  \n",
      "  inflating: ./run_Clip_ToSend/ClarenceCentre_449.vtu  \n",
      "  inflating: ./run_Clip_ToSend/ClarenceCentre_450.vtu  \n",
      "  inflating: ./run_Clip_ToSend/ClarenceCentre_451.vtu  \n",
      "  inflating: ./run_Clip_ToSend/ClarenceCentre_452.vtu  \n",
      "  inflating: ./run_Clip_ToSend/ClarenceCentre_453.vtu  \n",
      "  inflating: ./run_Clip_ToSend/ClarenceCentre_454.vtu  \n",
      "  inflating: ./run_Clip_ToSend/ClarenceCentre_46.vtu  \n",
      "  inflating: ./run_Clip_ToSend/ClarenceCentre_47.vtu  \n",
      "  inflating: ./run_Clip_ToSend/ClarenceCentre_48.vtu  \n",
      "  inflating: ./run_Clip_ToSend/ClarenceCentre_49.vtu  \n",
      "  inflating: ./run_Clip_ToSend/ClarenceCentre_5.vtu  \n",
      "  inflating: ./run_Clip_ToSend/ClarenceCentre_50.vtu  \n",
      "  inflating: ./run_Clip_ToSend/ClarenceCentre_51.vtu  \n",
      "  inflating: ./run_Clip_ToSend/ClarenceCentre_52.vtu  \n",
      "  inflating: ./run_Clip_ToSend/ClarenceCentre_53.vtu  \n",
      "  inflating: ./run_Clip_ToSend/ClarenceCentre_54.vtu  \n",
      "  inflating: ./run_Clip_ToSend/ClarenceCentre_55.vtu  \n",
      "  inflating: ./run_Clip_ToSend/ClarenceCentre_56.vtu  \n",
      "  inflating: ./run_Clip_ToSend/ClarenceCentre_57.vtu  \n",
      "  inflating: ./run_Clip_ToSend/ClarenceCentre_58.vtu  \n",
      "  inflating: ./run_Clip_ToSend/ClarenceCentre_59.vtu  \n",
      "  inflating: ./run_Clip_ToSend/ClarenceCentre_213.vtu  \n",
      "  inflating: ./run_Clip_ToSend/ClarenceCentre_214.vtu  \n",
      "  inflating: ./run_Clip_ToSend/ClarenceCentre_215.vtu  \n",
      "  inflating: ./run_Clip_ToSend/ClarenceCentre_216.vtu  \n",
      "  inflating: ./run_Clip_ToSend/ClarenceCentre_217.vtu  \n",
      "  inflating: ./run_Clip_ToSend/ClarenceCentre_218.vtu  \n",
      "  inflating: ./run_Clip_ToSend/ClarenceCentre_219.vtu  \n",
      "  inflating: ./run_Clip_ToSend/ClarenceCentre_22.vtu  \n",
      "  inflating: ./run_Clip_ToSend/ClarenceCentre_220.vtu  \n",
      "  inflating: ./run_Clip_ToSend/ClarenceCentre_221.vtu  \n",
      "  inflating: ./run_Clip_ToSend/ClarenceCentre_222.vtu  \n",
      "  inflating: ./run_Clip_ToSend/ClarenceCentre_223.vtu  \n",
      "  inflating: ./run_Clip_ToSend/ClarenceCentre_224.vtu  \n",
      "  inflating: ./run_Clip_ToSend/ClarenceCentre_225.vtu  \n",
      "  inflating: ./run_Clip_ToSend/ClarenceCentre_226.vtu  \n",
      "  inflating: ./run_Clip_ToSend/ClarenceCentre_227.vtu  \n",
      "  inflating: ./run_Clip_ToSend/ClarenceCentre_228.vtu  \n",
      "  inflating: ./run_Clip_ToSend/ClarenceCentre_229.vtu  \n",
      "  inflating: ./run_Clip_ToSend/ClarenceCentre_365.vtu  \n",
      "  inflating: ./run_Clip_ToSend/ClarenceCentre_366.vtu  \n",
      "  inflating: ./run_Clip_ToSend/ClarenceCentre_367.vtu  \n",
      "  inflating: ./run_Clip_ToSend/ClarenceCentre_368.vtu  \n",
      "  inflating: ./run_Clip_ToSend/ClarenceCentre_369.vtu  \n",
      "  inflating: ./run_Clip_ToSend/ClarenceCentre_37.vtu  \n",
      "  inflating: ./run_Clip_ToSend/ClarenceCentre_370.vtu  \n",
      "  inflating: ./run_Clip_ToSend/ClarenceCentre_371.vtu  \n",
      "  inflating: ./run_Clip_ToSend/ClarenceCentre_372.vtu  \n",
      "  inflating: ./run_Clip_ToSend/ClarenceCentre_373.vtu  \n",
      "  inflating: ./run_Clip_ToSend/ClarenceCentre_374.vtu  \n",
      "  inflating: ./run_Clip_ToSend/ClarenceCentre_375.vtu  \n",
      "  inflating: ./run_Clip_ToSend/ClarenceCentre_376.vtu  \n",
      "  inflating: ./run_Clip_ToSend/ClarenceCentre_377.vtu  \n",
      "  inflating: ./run_Clip_ToSend/ClarenceCentre_378.vtu  \n",
      "  inflating: ./run_Clip_ToSend/ClarenceCentre_379.vtu  \n"
     ]
    }
   ],
   "source": [
    "!wget https://www.dropbox.com/s/wmzopedxcelzpaf/ClarenceCentre.zip\n",
    "!unzip ClarenceCentre.zip -d './'\n",
    "!rm -rf ClarenceCentre.zip"
   ]
  },
  {
   "cell_type": "markdown",
   "metadata": {
    "id": "V-6l2HlzjngO"
   },
   "source": [
    "# Specify the folder of the data and load the full_tensors from `vtu` files, or `txt` files, like following, check the folder you specified only contains `vtu` and `txt` files!!!"
   ]
  },
  {
   "cell_type": "markdown",
   "metadata": {
    "id": "2uUae0wxu6s-"
   },
   "source": [
    "### specify your own {DATA_DIR} of vtu files here."
   ]
  },
  {
   "cell_type": "code",
   "execution_count": null,
   "metadata": {
    "id": "q5liu8GegVnP"
   },
   "outputs": [],
   "source": [
    "data_path = 'run_Clip_ToSend/'\n",
    "vtu_fields = ['CO2_ppm', 'Velocity']"
   ]
  },
  {
   "cell_type": "markdown",
   "metadata": {
    "id": "qcQAcXV-Az8s"
   },
   "source": [
    "### Specify the `vtu_fields` (a list) of an unadapted mesh to read in, returns:\n",
    "**full_tensor**: The tensor of all `vtu_fields` you specified for all snapshots in the {data_path}, 3-dimension, the first dimension is number of snapshots in that {data_path}, the second is the number of Nodes in each snapshots, the last is number of components in the `vtu_fields`, for example, in this FPC test case,\n",
    "two components for `Velocity`, one for `Pressure`. <br> <br>\n",
    "**coords**: The coordinates of the unadapted mesh Nodes from the `vtu` file, 3-dimension."
   ]
  },
  {
   "cell_type": "code",
   "execution_count": null,
   "metadata": {
    "colab": {
     "base_uri": "https://localhost:8080/",
     "height": 279
    },
    "id": "4e86ipaRVioU",
    "outputId": "7b6284a9-26f2-4b38-d52e-8e3b7710992a"
   },
   "outputs": [
    {
     "ename": "IndexError",
     "evalue": "ignored",
     "output_type": "error",
     "traceback": [
      "\u001b[0;31m---------------------------------------------------------------------------\u001b[0m",
      "\u001b[0;31mIndexError\u001b[0m                                Traceback (most recent call last)",
      "\u001b[0;32m<ipython-input-5-94d19817770a>\u001b[0m in \u001b[0;36m<module>\u001b[0;34m()\u001b[0m\n\u001b[0;32m----> 1\u001b[0;31m \u001b[0mfull_tensor\u001b[0m\u001b[0;34m,\u001b[0m \u001b[0mcoords\u001b[0m\u001b[0;34m,\u001b[0m \u001b[0mcells\u001b[0m \u001b[0;34m=\u001b[0m \u001b[0mread_in_files\u001b[0m\u001b[0;34m(\u001b[0m\u001b[0mdata_path\u001b[0m\u001b[0;34m,\u001b[0m \u001b[0mvtu_fields\u001b[0m \u001b[0;34m=\u001b[0m \u001b[0mvtu_fields\u001b[0m\u001b[0;34m)\u001b[0m\u001b[0;34m\u001b[0m\u001b[0;34m\u001b[0m\u001b[0m\n\u001b[0m",
      "\u001b[0;32m/content/SFC-CAE-Ready-to-use/sfc_cae/utils.py\u001b[0m in \u001b[0;36mread_in_files\u001b[0;34m(data_path, file_format, vtu_fields)\u001b[0m\n\u001b[1;32m     30\u001b[0m     \u001b[0mdata\u001b[0m \u001b[0;34m=\u001b[0m \u001b[0mglob\u001b[0m\u001b[0;34m.\u001b[0m\u001b[0mglob\u001b[0m\u001b[0;34m(\u001b[0m\u001b[0mdata_path\u001b[0m \u001b[0;34m+\u001b[0m \u001b[0;34m\"*\"\u001b[0m\u001b[0;34m)\u001b[0m\u001b[0;34m\u001b[0m\u001b[0;34m\u001b[0m\u001b[0m\n\u001b[1;32m     31\u001b[0m     \u001b[0mnum_data\u001b[0m \u001b[0;34m=\u001b[0m \u001b[0mlen\u001b[0m\u001b[0;34m(\u001b[0m\u001b[0mdata\u001b[0m\u001b[0;34m)\u001b[0m\u001b[0;34m\u001b[0m\u001b[0;34m\u001b[0m\u001b[0m\n\u001b[0;32m---> 32\u001b[0;31m     \u001b[0mfile_prefix\u001b[0m \u001b[0;34m=\u001b[0m \u001b[0mdata\u001b[0m\u001b[0;34m[\u001b[0m\u001b[0;36m0\u001b[0m\u001b[0;34m]\u001b[0m\u001b[0;34m.\u001b[0m\u001b[0msplit\u001b[0m\u001b[0;34m(\u001b[0m\u001b[0;34m'.'\u001b[0m\u001b[0;34m)\u001b[0m\u001b[0;34m[\u001b[0m\u001b[0;34m-\u001b[0m\u001b[0;36m2\u001b[0m\u001b[0;34m]\u001b[0m\u001b[0;34m.\u001b[0m\u001b[0msplit\u001b[0m\u001b[0;34m(\u001b[0m\u001b[0;34m'_'\u001b[0m\u001b[0;34m)\u001b[0m\u001b[0;34m\u001b[0m\u001b[0;34m\u001b[0m\u001b[0m\n\u001b[0m\u001b[1;32m     33\u001b[0m     \u001b[0mfile_prefix\u001b[0m\u001b[0;34m.\u001b[0m\u001b[0mpop\u001b[0m\u001b[0;34m(\u001b[0m\u001b[0;34m-\u001b[0m\u001b[0;36m1\u001b[0m\u001b[0;34m)\u001b[0m\u001b[0;34m\u001b[0m\u001b[0;34m\u001b[0m\u001b[0m\n\u001b[1;32m     34\u001b[0m     \u001b[0;32mif\u001b[0m \u001b[0mlen\u001b[0m\u001b[0;34m(\u001b[0m\u001b[0mfile_prefix\u001b[0m\u001b[0;34m)\u001b[0m \u001b[0;34m!=\u001b[0m \u001b[0;36m1\u001b[0m\u001b[0;34m:\u001b[0m \u001b[0mfile_prefix\u001b[0m \u001b[0;34m=\u001b[0m \u001b[0;34m'_'\u001b[0m\u001b[0;34m.\u001b[0m\u001b[0mjoin\u001b[0m\u001b[0;34m(\u001b[0m\u001b[0mfile_prefix\u001b[0m\u001b[0;34m)\u001b[0m \u001b[0;34m+\u001b[0m \u001b[0;34m\"_\"\u001b[0m\u001b[0;34m\u001b[0m\u001b[0;34m\u001b[0m\u001b[0m\n",
      "\u001b[0;31mIndexError\u001b[0m: list index out of range"
     ]
    }
   ],
   "source": [
    "full_tensor, coords, cells = read_in_files(data_path, vtu_fields = vtu_fields)"
   ]
  },
  {
   "cell_type": "markdown",
   "metadata": {
    "id": "ejPBE_73Krri"
   },
   "source": [
    "For reading tensor from `txt` files, check the `read_in_files` function from `util.py` at https://github.com/acse-jy220/SFC-CAE-Ready-to-use"
   ]
  },
  {
   "cell_type": "markdown",
   "metadata": {
    "id": "1PxP4LlQO8c5"
   },
   "source": [
    "### Save the full tensor in your `google_drive` for further use."
   ]
  },
  {
   "cell_type": "code",
   "execution_count": null,
   "metadata": {
    "id": "Y3EjoOmgO6f9"
   },
   "outputs": [],
   "source": [
    "# torch.save(full_tensor, '/content/gdrive/MyDrive/CO2.pt')\n",
    "# torch.save(coords, '/content/gdrive/MyDrive/CO2_mesh.pt')"
   ]
  },
  {
   "cell_type": "markdown",
   "metadata": {
    "id": "EkaBK5xeHKVJ"
   },
   "source": [
    "### Load tensor from google drive"
   ]
  },
  {
   "cell_type": "code",
   "execution_count": null,
   "metadata": {
    "id": "vWh7BX5GjJgt"
   },
   "outputs": [],
   "source": [
    "full_tensor = torch.load('/content/gdrive/MyDrive/CO2.pt').float()\n",
    "coords = torch.load('/content/gdrive/MyDrive/CO2_mesh.pt') "
   ]
  },
  {
   "cell_type": "markdown",
   "metadata": {
    "id": "3u3ATEbaTRai"
   },
   "source": [
    "### Check shape of the tensor"
   ]
  },
  {
   "cell_type": "code",
   "execution_count": null,
   "metadata": {
    "colab": {
     "base_uri": "https://localhost:8080/"
    },
    "id": "9Yi9_fgQNivy",
    "outputId": "841bc3d4-778f-46f5-bf02-6435f77488bd"
   },
   "outputs": [
    {
     "data": {
      "text/plain": [
       "torch.Size([455, 148906, 4])"
      ]
     },
     "execution_count": 9,
     "metadata": {
      "tags": []
     },
     "output_type": "execute_result"
    }
   ],
   "source": [
    "full_tensor.shape"
   ]
  },
  {
   "cell_type": "code",
   "execution_count": null,
   "metadata": {
    "colab": {
     "base_uri": "https://localhost:8080/"
    },
    "id": "-Arro4UFNfTm",
    "outputId": "6579d61e-a2c0-49ba-eb6e-8bb1de65176d"
   },
   "outputs": [
    {
     "data": {
      "text/plain": [
       "(148906, 3)"
      ]
     },
     "execution_count": 10,
     "metadata": {
      "tags": []
     },
     "output_type": "execute_result"
    }
   ],
   "source": [
    "coords.shape"
   ]
  },
  {
   "cell_type": "markdown",
   "metadata": {
    "id": "rl0obICyPGiM"
   },
   "source": [
    "### Generate space-filling-curves from coords (unadapted) of the `vtu` files"
   ]
  },
  {
   "cell_type": "code",
   "execution_count": null,
   "metadata": {
    "colab": {
     "base_uri": "https://localhost:8080/",
     "height": 212
    },
    "id": "Q3q2AkVJkTQ-",
    "outputId": "1ae52c1b-2715-47ca-9560-8d52fff1159f"
   },
   "outputs": [
    {
     "ename": "IndexError",
     "evalue": "ignored",
     "output_type": "error",
     "traceback": [
      "\u001b[0;31m---------------------------------------------------------------------------\u001b[0m",
      "\u001b[0;31mIndexError\u001b[0m                                Traceback (most recent call last)",
      "\u001b[0;32m<ipython-input-11-68222fab12c0>\u001b[0m in \u001b[0;36m<module>\u001b[0;34m()\u001b[0m\n\u001b[1;32m      1\u001b[0m \u001b[0mncurves\u001b[0m \u001b[0;34m=\u001b[0m \u001b[0;36m3\u001b[0m  \u001b[0;31m# specify space-filling curve numbers\u001b[0m\u001b[0;34m\u001b[0m\u001b[0;34m\u001b[0m\u001b[0m\n\u001b[1;32m      2\u001b[0m \u001b[0;31m# for CG mesh, according to Claire's code, we need to input an additional template vtu file to it.\u001b[0m\u001b[0;34m\u001b[0m\u001b[0;34m\u001b[0m\u001b[0;34m\u001b[0m\u001b[0m\n\u001b[0;32m----> 3\u001b[0;31m \u001b[0mtemplate_vtu\u001b[0m \u001b[0;34m=\u001b[0m \u001b[0mvtktools\u001b[0m\u001b[0;34m.\u001b[0m\u001b[0mvtu\u001b[0m\u001b[0;34m(\u001b[0m\u001b[0mglob\u001b[0m\u001b[0;34m.\u001b[0m\u001b[0mglob\u001b[0m\u001b[0;34m(\u001b[0m\u001b[0mdata_path\u001b[0m \u001b[0;34m+\u001b[0m \u001b[0;34m'*'\u001b[0m\u001b[0;34m)\u001b[0m\u001b[0;34m[\u001b[0m\u001b[0;36m0\u001b[0m\u001b[0;34m]\u001b[0m\u001b[0;34m)\u001b[0m\u001b[0;34m\u001b[0m\u001b[0;34m\u001b[0m\u001b[0m\n\u001b[0m\u001b[1;32m      4\u001b[0m \u001b[0mspace_filling_orderings\u001b[0m\u001b[0;34m,\u001b[0m \u001b[0minvert_space_filling_orderings\u001b[0m \u001b[0;34m=\u001b[0m \u001b[0mget_sfc_curves_from_coords_CG\u001b[0m\u001b[0;34m(\u001b[0m\u001b[0mcoords\u001b[0m\u001b[0;34m,\u001b[0m \u001b[0mncurves\u001b[0m\u001b[0;34m,\u001b[0m \u001b[0mtemplate_vtu\u001b[0m\u001b[0;34m)\u001b[0m\u001b[0;34m\u001b[0m\u001b[0;34m\u001b[0m\u001b[0m\n",
      "\u001b[0;31mIndexError\u001b[0m: list index out of range"
     ]
    }
   ],
   "source": [
    "ncurves = 3  # specify space-filling curve numbers\n",
    "# for CG mesh, according to Claire's code, we need to input an additional template vtu file to it.\n",
    "template_vtu = vtktools.vtu(glob.glob(data_path + '*')[0])\n",
    "space_filling_orderings, invert_space_filling_orderings = get_sfc_curves_from_coords_CG(coords, ncurves, template_vtu)"
   ]
  },
  {
   "cell_type": "markdown",
   "metadata": {
    "id": "AnTBxfAkTeKh"
   },
   "source": [
    "### Save/Load space-filling curves "
   ]
  },
  {
   "cell_type": "code",
   "execution_count": null,
   "metadata": {
    "id": "ygQpNRsPF--Q"
   },
   "outputs": [],
   "source": [
    "# torch.save(space_filling_orderings, '/content/gdrive/MyDrive/CO2_sfc.pt')\n",
    "# torch.save(invert_space_filling_orderings, '/content/gdrive/MyDrive/CO2_invsfc.pt')"
   ]
  },
  {
   "cell_type": "code",
   "execution_count": null,
   "metadata": {
    "id": "UFIJwWAp6TLH"
   },
   "outputs": [],
   "source": [
    "space_filling_orderings = list(torch.load('/content/gdrive/MyDrive/CO2_sfc.pt'))\n",
    "invert_space_filling_orderings = list(torch.load('/content/gdrive/MyDrive/CO2_invsfc.pt'))"
   ]
  },
  {
   "cell_type": "code",
   "execution_count": null,
   "metadata": {
    "colab": {
     "base_uri": "https://localhost:8080/"
    },
    "id": "y0rUVv_G-HDi",
    "outputId": "eb29164f-0a7d-4a2e-cc8d-2289f41fcd49"
   },
   "outputs": [
    {
     "data": {
      "text/plain": [
       "[tensor([43296, 43198, 43201,  ..., 58125, 61579, 58126]),\n",
       " tensor([92277, 89420, 92371,  ..., 26371, 26289, 26820]),\n",
       " tensor([ 75216,  87388,  91361,  ..., 129296, 128779, 129241])]"
      ]
     },
     "execution_count": 12,
     "metadata": {
      "tags": []
     },
     "output_type": "execute_result"
    }
   ],
   "source": [
    "space_filling_orderings"
   ]
  },
  {
   "cell_type": "markdown",
   "metadata": {
    "id": "3r6QODsTTnL4"
   },
   "source": [
    "### A test for the quality of multiple space-filling curves (Optional)"
   ]
  },
  {
   "cell_type": "code",
   "execution_count": null,
   "metadata": {
    "id": "7ZlPAkxszWJi"
   },
   "outputs": [],
   "source": [
    "# see this in get_sfc_curves_from_coords_CG() func in utils.py, find sparse connectivity for CG meshes.\n",
    "ncolm=0\n",
    "colm=[]\n",
    "findm=[0]\n",
    "for nod in range(coords.shape[0]):\n",
    "    nodes = template_vtu.GetPointPoints(nod)\n",
    "    nodes2 = np.sort(nodes) #sort_assed(nodes) \n",
    "    colm.extend(nodes2[:]) \n",
    "    nlength = nodes2.shape[0]\n",
    "    ncolm=ncolm+nlength\n",
    "    findm.append(ncolm)\n",
    "\n",
    "colm = np.array(colm)\n",
    "colm = colm + 1\n",
    "findm = np.array(findm)\n",
    "findm = findm + 1"
   ]
  },
  {
   "cell_type": "code",
   "execution_count": null,
   "metadata": {
    "id": "6ePDHfHvyr3P"
   },
   "outputs": [],
   "source": [
    "edge_list = csr_to_edges(findm, colm)"
   ]
  },
  {
   "cell_type": "markdown",
   "metadata": {
    "id": "tNooeHB0zxKK"
   },
   "source": [
    "### Print out the filled connectivity by the space-filling curves. (Optional)"
   ]
  },
  {
   "cell_type": "code",
   "execution_count": null,
   "metadata": {
    "colab": {
     "base_uri": "https://localhost:8080/"
    },
    "id": "lTJ4SMV_zlT-",
    "outputId": "9f51143b-21d1-4b64-ebb5-f7c61d3bca14"
   },
   "outputs": [
    {
     "name": "stdout",
     "output_type": "stream",
     "text": [
      "filled adjacencies by the 1 sfcs : 145531 / 1012127\n",
      "filled adjacencies by the 2 sfcs : 269512 / 1012127\n",
      "filled adjacencies by the 3 sfcs : 370869 / 1012127\n",
      "filled adjacencies by the 4 sfcs : 454326 / 1012127\n",
      "filled adjacencies by the 5 sfcs : 524498 / 1012127\n",
      "filled adjacencies by the 6 sfcs : 583345 / 1012127\n",
      "filled adjacencies by the 7 sfcs : 633755 / 1012127\n",
      "filled adjacencies by the 8 sfcs : 676524 / 1012127\n",
      "filled adjacencies by the 9 sfcs : 713484 / 1012127\n",
      "filled adjacencies by the 10 sfcs : 745788 / 1012127\n",
      "filled adjacencies by the 11 sfcs : 773977 / 1012127\n",
      "filled adjacencies by the 12 sfcs : 798489 / 1012127\n"
     ]
    }
   ],
   "source": [
    "filled_edges_for_sfcs(edge_list, space_filling_orderings)"
   ]
  },
  {
   "cell_type": "code",
   "execution_count": null,
   "metadata": {
    "colab": {
     "base_uri": "https://localhost:8080/",
     "height": 1000
    },
    "id": "hvF8pqqedWZp",
    "outputId": "c3b39658-e2a9-4bdc-b435-8c9c93efca45"
   },
   "outputs": [
    {
     "data": {
      "image/png": "[encoded data removed]",
      "text/plain": [
       "<Figure size 2880x2513.58 with 1 Axes>"
      ]
     },
     "metadata": {
      "tags": []
     },
     "output_type": "display_data"
    }
   ],
   "source": [
    "#visualize the space-filling curve on a 2D plane\n",
    "# plot_trace_vtu_2D(coords[space_filling_orderings[0]], 15)\n",
    "countour_plot_vtu_2D(coords[space_filling_orderings[2]], 20, cmap = cmocean.cm.dense_r)"
   ]
  },
  {
   "cell_type": "markdown",
   "metadata": {
    "id": "HNpswnjiMjFI"
   },
   "source": [
    "### Random split the tensor into training_set: valid_set: test_set = 0.8:0.1:0.1 = 8:1:1, and standardlise to [-1, 1] for `Tanh()` activation."
   ]
  },
  {
   "cell_type": "code",
   "execution_count": null,
   "metadata": {
    "id": "d4odlOJDZGUc"
   },
   "outputs": [],
   "source": [
    "train_ratio = 0.8\n",
    "valid_ratio = 0.1\n",
    "test_ratio = 0.1 \n",
    "train_index, valid_index, test_index = index_split(train_ratio, valid_ratio, test_ratio, total_num = full_tensor.shape[0])"
   ]
  },
  {
   "cell_type": "code",
   "execution_count": null,
   "metadata": {
    "id": "HnD66ouCqbPp"
   },
   "outputs": [],
   "source": [
    "full_set, k, b = standardlize_tensor(full_tensor, lower = -1, upper = 1)"
   ]
  },
  {
   "cell_type": "code",
   "execution_count": null,
   "metadata": {
    "colab": {
     "base_uri": "https://localhost:8080/"
    },
    "id": "T3WLEQT_eLo3",
    "outputId": "f0cc2202-9037-4d67-c088-4018ee4970ca"
   },
   "outputs": [
    {
     "data": {
      "text/plain": [
       "array([1.8421940e-03, 7.6536483e-01, 2.0014703e+00, 2.1555524e+00],\n",
       "      dtype=float32)"
      ]
     },
     "execution_count": 15,
     "metadata": {
      "tags": []
     },
     "output_type": "execute_result"
    }
   ],
   "source": [
    "k.detach().numpy()"
   ]
  },
  {
   "cell_type": "code",
   "execution_count": null,
   "metadata": {
    "colab": {
     "base_uri": "https://localhost:8080/"
    },
    "id": "b2JRx4gYeNEu",
    "outputId": "95281bf2-ad0b-4a11-ec96-fdd761070028"
   },
   "outputs": [
    {
     "data": {
      "text/plain": [
       "array([-1.730393  , -0.5493109 ,  0.49897358, -0.00207802], dtype=float32)"
      ]
     },
     "execution_count": 16,
     "metadata": {
      "tags": []
     },
     "output_type": "execute_result"
    }
   ],
   "source": [
    "b.detach().numpy()"
   ]
  },
  {
   "cell_type": "code",
   "execution_count": null,
   "metadata": {
    "id": "Zw11QTSWqhh1"
   },
   "outputs": [],
   "source": [
    "train_set = full_set[train_index - 1]\n",
    "valid_set = full_set[valid_index - 1]\n",
    "test_set = full_set[test_index - 1]"
   ]
  },
  {
   "cell_type": "markdown",
   "metadata": {
    "id": "vAXt8JUghZsZ"
   },
   "source": [
    "### The following cell is quite vital, as it indicates the parameters for the **autoencoder**\n",
    "\n",
    "`input_size` is the number of Node, for example 20550 <br> `dimension` is the dimension of the data in Vtu file, 2 or 3.<br> `components` is the number of components you are compressing, if the tensor is 2 dimension, then it's default of 1. <br>\n",
    "`self_concat` is chennel copying operation, you could keep it default as 1, or 2 when you have multiple SFCs. <br> `structured`: bool, whether you are training SFC-CAE on a structured mesh or not.<br>`nearest_neighboring`: bool, adding sparse layers or not, suggest to turn on.<br>\n",
    "`dims_letent`: The dimension of the compressed data after applying decoder. <br>\n",
    "`space_filling_orderings`, `invert_space_filling_orderings` : lists of sfc\\inverse_sfc nums, generated by `get_sfc_curves_from_coords` function, or read the orderings from a `csv` file on your own. <br>\n",
    "`activation`: Can be customly defined, but if you not spcify, the activation would be `ReLU()` for structured mesh, and `Tanh()` for unstructured mesh. <br>\n",
    "`Variational` Whether this is a variational autoencoder or not. <br>\n",
    "`force_initialising_param`: intialize the parameters of all convolutional/ fully-connected layers according to a uniform random distribution [a, b], default is `None`."
   ]
  },
  {
   "cell_type": "code",
   "execution_count": null,
   "metadata": {
    "id": "2pJWVZ4fM5tA"
   },
   "outputs": [],
   "source": [
    "input_size = full_tensor.shape[1]\n",
    "dimension = 3\n",
    "if full_tensor.ndim == 2: components = 1\n",
    "else: components = full_tensor.shape[-1]\n",
    "self_concat = 2\n",
    "structured = False\n",
    "nearest_neighbouring = True # shut down this may lead to a slightly poorer performance, but a quicker training spped\n",
    "dims_latent = 16\n",
    "activation = nn.Tanh()\n",
    "variational = False\n",
    "# force_initialising_param=[0.001, 0.01]\n",
    "# space_filling_orderings = (mannully spcify it if you didn't generate in the cells before)\n",
    "# invert_space_filling_orderings = "
   ]
  },
  {
   "cell_type": "code",
   "execution_count": null,
   "metadata": {
    "id": "TAAalUJLh7o_"
   },
   "outputs": [],
   "source": [
    "autoencoder = SFC_CAE(input_size,\n",
    "                      dimension,\n",
    "                      components,\n",
    "                      structured,\n",
    "                      self_concat,\n",
    "                      nearest_neighbouring,\n",
    "                      dims_latent,\n",
    "                      space_filling_orderings, \n",
    "                      invert_space_filling_orderings,\n",
    "                      activation,\n",
    "                      variational = variational,\n",
    "                      force_initialising_param=None)"
   ]
  },
  {
   "cell_type": "markdown",
   "metadata": {
    "id": "VDX58NY9Y-N4"
   },
   "source": [
    "### Generate the neural network structure in `LaTeX`."
   ]
  },
  {
   "cell_type": "code",
   "execution_count": null,
   "metadata": {
    "colab": {
     "base_uri": "https://localhost:8080/"
    },
    "id": "QfbifPMzvGFJ",
    "outputId": "190a2548-9db3-458b-987b-ce24ee32bbc0"
   },
   "outputs": [
    {
     "name": "stdout",
     "output_type": "stream",
     "text": [
      "The LaTeX script for the table structure of the SFC-CAE has been written to 'LatexTable.txt', please copy it to a LaTeX compiler environment, e.g. overleaf.\n"
     ]
    }
   ],
   "source": [
    "autoencoder.output_structure()"
   ]
  },
  {
   "cell_type": "markdown",
   "metadata": {
    "id": "f2LcLWgVkL66"
   },
   "source": [
    "### The following are just normal Hyperparameters for training, free to tune it yourself."
   ]
  },
  {
   "cell_type": "code",
   "execution_count": null,
   "metadata": {
    "id": "mV_I8qXKi0bd"
   },
   "outputs": [],
   "source": [
    "batch_size = 16\n",
    "seed = 17\n",
    "lr = 1e-3\n",
    "n_epochs = 2000\n",
    "weight_decay = 0\n",
    "criterion_type = 'MSE'\n",
    "optimizer_type = 'Adamax'\n",
    "valid_batch_size = valid_set.shape[0]"
   ]
  },
  {
   "cell_type": "code",
   "execution_count": null,
   "metadata": {
    "id": "jStujwHSjKH1"
   },
   "outputs": [],
   "source": [
    "train_loader = DataLoader(dataset=train_set, batch_size=batch_size, shuffle=True)\n",
    "valid_loader = DataLoader(dataset=valid_set, batch_size=batch_size, shuffle=True)\n",
    "test_loader = DataLoader(dataset=test_set, batch_size=batch_size, shuffle=True)"
   ]
  },
  {
   "cell_type": "code",
   "execution_count": null,
   "metadata": {
    "colab": {
     "base_uri": "https://localhost:8080/",
     "height": 874
    },
    "id": "oqE4z4TtjK1D",
    "outputId": "cf8566c1-e168-49a4-8b5e-a298b2bf8d2f"
   },
   "outputs": [
    {
     "data": {
      "image/png": "[encoded data removed]",
      "text/plain": [
       "<Figure size 864x576 with 2 Axes>"
      ]
     },
     "metadata": {
      "needs_background": "light",
      "tags": []
     },
     "output_type": "display_data"
    },
    {
     "name": "stdout",
     "output_type": "stream",
     "text": [
      "log loss\n",
      "\ttraining         \t (min:    0.000, max:    0.176, cur:    0.000)\n",
      "\tvalidation       \t (min:    0.000, max:    0.134, cur:    0.000)\n",
      "log loss (relative)\n",
      "\ttraining         \t (min:    0.000, max:   56.330, cur:    0.000)\n",
      "\tvalidation       \t (min:    0.001, max:    0.815, cur:    0.001)\n",
      "Epoch:  1999 | train loss: 1.413428e-04 | valid loss: 3.679031e-04 \n",
      "      \t| train loss (relative): 4.909455e-04 | valid loss (relative): 1.296528e-03 \n",
      "Epoch 1999 use: 16.24 second.\n",
      "\n",
      "test MSE Error: 5.645766e-04 | relative MSE Error: 1.951304e-03 \n",
      " Total time used for training: 8.96 hour.\n",
      "MESLoss saved to  /content/gdrive/MyDrive/Models/CO2/Variational_False_Changelr_False_MSELoss_Latent_16_nearest_neighbouring_True_SFC_nums_3_startlr_0.001_n_epoches_2000.txt\n",
      "relative MSELoss saved to  /content/gdrive/MyDrive/Models/CO2/Variational_False_Changelr_False_reMSELoss_Latent_16_nearest_neighbouring_True_SFC_nums_3_startlr_0.001_n_epoches_2000.txt\n",
      "model saved to /content/gdrive/MyDrive/Models/CO2/Variational_False_Changelr_False_Latent_16_Nearest_neighbouring_True_SFC_nums_3_startlr_0.001_n_epoches_2000.pth\n",
      "model_dict saved to /content/gdrive/MyDrive/Models/CO2/Variational_False_Changelr_False_Latent_16_Nearest_neighbouring_True_SFC_nums_3_startlr_0.001_n_epoches_2000_dict.pth\n"
     ]
    }
   ],
   "source": [
    "autoencoder = train_model(autoencoder, \n",
    "                          train_loader = train_loader,\n",
    "                          valid_loader = valid_loader,\n",
    "                          test_loader = test_loader,\n",
    "                          optimizer_type = optimizer_type,\n",
    "                          n_epochs = n_epochs, \n",
    "                          lr = lr,\n",
    "                          weight_decay = weight_decay,\n",
    "                          criterion_type = criterion_type,\n",
    "                          seed = seed,\n",
    "                          save_path = '/content/gdrive/MyDrive/Models/CO2/')"
   ]
  },
  {
   "cell_type": "markdown",
   "metadata": {
    "id": "Lxh4vlilkjqu"
   },
   "source": [
    "### Reconsturct and convert the result back to `vtu` files....."
   ]
  },
  {
   "cell_type": "code",
   "execution_count": null,
   "metadata": {
    "colab": {
     "base_uri": "https://localhost:8080/"
    },
    "id": "aJ_t-7dOtJwk",
    "outputId": "7e4a0aa9-687d-400c-c12d-bf97c8fac455"
   },
   "outputs": [
    {
     "name": "stderr",
     "output_type": "stream",
     "text": [
      "  0% (1 of 2000) |                       | Elapsed Time: 0:00:00 ETA:   0:03:33"
     ]
    },
    {
     "name": "stdout",
     "output_type": "stream",
     "text": [
      "file_prefix: FPC_Re3900_CG_new/fpc_, file_format: .vtu\n",
      "Write vtu Data......\n",
      "\n",
      "error for snapshot 0: 0.002187\n",
      "torch.Size([3571, 2])\n",
      "error for snapshot 1: 0.000813\n",
      "torch.Size([3571, 2])\n",
      "error for snapshot 2: 0.000553\n",
      "torch.Size([3571, 2])\n",
      "error for snapshot 3: 0.000422\n",
      "torch.Size([3571, 2])\n",
      "error for snapshot 4: 0.000354\n",
      "torch.Size([3571, 2])\n"
     ]
    },
    {
     "name": "stderr",
     "output_type": "stream",
     "text": [
      "  0% (10 of 2000) |                      | Elapsed Time: 0:00:00 ETA:   0:01:05"
     ]
    },
    {
     "name": "stdout",
     "output_type": "stream",
     "text": [
      "error for snapshot 5: 0.000331\n",
      "torch.Size([3571, 2])\n",
      "error for snapshot 6: 0.000343\n",
      "torch.Size([3571, 2])\n",
      "error for snapshot 7: 0.000371\n",
      "torch.Size([3571, 2])\n",
      "error for snapshot 8: 0.000392\n",
      "torch.Size([3571, 2])\n",
      "error for snapshot 9: 0.000396\n",
      "torch.Size([3571, 2])\n",
      "error for snapshot 10: 0.000388\n",
      "torch.Size([3571, 2])\n",
      "error for snapshot 11: 0.000367\n",
      "torch.Size([3571, 2])\n",
      "error for snapshot 12: 0.000331\n",
      "torch.Size([3571, 2])\n",
      "error for snapshot 13: 0.000294\n",
      "torch.Size([3571, 2])\n"
     ]
    },
    {
     "name": "stderr",
     "output_type": "stream",
     "text": [
      "  0% (18 of 2000) |                      | Elapsed Time: 0:00:00 ETA:   0:00:58"
     ]
    },
    {
     "name": "stdout",
     "output_type": "stream",
     "text": [
      "error for snapshot 14: 0.000269\n",
      "torch.Size([3571, 2])\n",
      "error for snapshot 15: 0.000269\n",
      "torch.Size([3571, 2])\n",
      "error for snapshot 16: 0.000283\n",
      "torch.Size([3571, 2])\n",
      "error for snapshot 17: 0.000279\n",
      "torch.Size([3571, 2])\n",
      "error for snapshot 18: 0.000254\n",
      "torch.Size([3571, 2])\n",
      "error for snapshot 19: 0.000224\n",
      "torch.Size([3571, 2])\n",
      "error for snapshot 20: 0.000197\n",
      "torch.Size([3571, 2])\n",
      "error for snapshot 21: 0.000189\n",
      "torch.Size([3571, 2])\n",
      "error for snapshot 22: 0.000197\n",
      "torch.Size([3571, 2])\n"
     ]
    },
    {
     "name": "stderr",
     "output_type": "stream",
     "text": [
      "  1% (31 of 2000) |                      | Elapsed Time: 0:00:00 ETA:   0:00:54"
     ]
    },
    {
     "name": "stdout",
     "output_type": "stream",
     "text": [
      "error for snapshot 23: 0.000206\n",
      "torch.Size([3571, 2])\n",
      "error for snapshot 24: 0.000211\n",
      "torch.Size([3571, 2])\n",
      "error for snapshot 25: 0.000216\n",
      "torch.Size([3571, 2])\n",
      "error for snapshot 26: 0.000222\n",
      "torch.Size([3571, 2])\n",
      "error for snapshot 27: 0.000228\n",
      "torch.Size([3571, 2])\n",
      "error for snapshot 28: 0.000231\n",
      "torch.Size([3571, 2])\n",
      "error for snapshot 29: 0.000230\n",
      "torch.Size([3571, 2])\n",
      "error for snapshot 30: 0.000224\n",
      "torch.Size([3571, 2])\n",
      "error for snapshot 31: 0.000215\n",
      "torch.Size([3571, 2])\n"
     ]
    },
    {
     "name": "stderr",
     "output_type": "stream",
     "text": [
      "  1% (39 of 2000) |                      | Elapsed Time: 0:00:01 ETA:   0:00:53"
     ]
    },
    {
     "name": "stdout",
     "output_type": "stream",
     "text": [
      "error for snapshot 32: 0.000206\n",
      "torch.Size([3571, 2])\n",
      "error for snapshot 33: 0.000202\n",
      "torch.Size([3571, 2])\n",
      "error for snapshot 34: 0.000203\n",
      "torch.Size([3571, 2])\n",
      "error for snapshot 35: 0.000205\n",
      "torch.Size([3571, 2])\n",
      "error for snapshot 36: 0.000205\n",
      "torch.Size([3571, 2])\n",
      "error for snapshot 37: 0.000201\n",
      "torch.Size([3571, 2])\n",
      "error for snapshot 38: 0.000196\n",
      "torch.Size([3571, 2])\n",
      "error for snapshot 39: 0.000192\n",
      "torch.Size([3571, 2])\n",
      "error for snapshot 40: 0.000192\n",
      "torch.Size([3571, 2])\n"
     ]
    },
    {
     "name": "stderr",
     "output_type": "stream",
     "text": [
      "  2% (48 of 2000) |                      | Elapsed Time: 0:00:01 ETA:   0:00:52"
     ]
    },
    {
     "name": "stdout",
     "output_type": "stream",
     "text": [
      "error for snapshot 41: 0.000193\n",
      "torch.Size([3571, 2])\n",
      "error for snapshot 42: 0.000195\n",
      "torch.Size([3571, 2])\n",
      "error for snapshot 43: 0.000197\n",
      "torch.Size([3571, 2])\n",
      "error for snapshot 44: 0.000200\n",
      "torch.Size([3571, 2])\n",
      "error for snapshot 45: 0.000204\n",
      "torch.Size([3571, 2])\n",
      "error for snapshot 46: 0.000207\n",
      "torch.Size([3571, 2])\n",
      "error for snapshot 47: 0.000208\n",
      "torch.Size([3571, 2])\n",
      "error for snapshot 48: 0.000207\n",
      "torch.Size([3571, 2])\n",
      "error for snapshot 49: 0.000203\n",
      "torch.Size([3571, 2])\n"
     ]
    },
    {
     "name": "stderr",
     "output_type": "stream",
     "text": [
      "  2% (55 of 2000) |                      | Elapsed Time: 0:00:01 ETA:   0:00:51"
     ]
    },
    {
     "name": "stdout",
     "output_type": "stream",
     "text": [
      "error for snapshot 50: 0.000198\n",
      "torch.Size([3571, 2])\n",
      "error for snapshot 51: 0.000192\n",
      "torch.Size([3571, 2])\n",
      "error for snapshot 52: 0.000185\n",
      "torch.Size([3571, 2])\n",
      "error for snapshot 53: 0.000178\n",
      "torch.Size([3571, 2])\n",
      "error for snapshot 54: 0.000172\n",
      "torch.Size([3571, 2])\n",
      "error for snapshot 55: 0.000168\n",
      "torch.Size([3571, 2])\n",
      "error for snapshot 56: 0.000165\n",
      "torch.Size([3571, 2])\n",
      "error for snapshot 57: 0.000164\n",
      "torch.Size([3571, 2])\n"
     ]
    },
    {
     "name": "stderr",
     "output_type": "stream",
     "text": [
      "  3% (64 of 2000) |                      | Elapsed Time: 0:00:01 ETA:   0:00:50"
     ]
    },
    {
     "name": "stdout",
     "output_type": "stream",
     "text": [
      "error for snapshot 58: 0.000164\n",
      "torch.Size([3571, 2])\n",
      "error for snapshot 59: 0.000164\n",
      "torch.Size([3571, 2])\n",
      "error for snapshot 60: 0.000164\n",
      "torch.Size([3571, 2])\n",
      "error for snapshot 61: 0.000165\n",
      "torch.Size([3571, 2])\n",
      "error for snapshot 62: 0.000167\n",
      "torch.Size([3571, 2])\n",
      "error for snapshot 63: 0.000169\n",
      "torch.Size([3571, 2])\n",
      "error for snapshot 64: 0.000174\n",
      "torch.Size([3571, 2])\n",
      "error for snapshot 65: 0.000180\n",
      "torch.Size([3571, 2])\n",
      "error for snapshot 66: 0.000188\n",
      "torch.Size([3571, 2])\n"
     ]
    },
    {
     "name": "stderr",
     "output_type": "stream",
     "text": [
      "  3% (74 of 2000) |                      | Elapsed Time: 0:00:01 ETA:   0:00:50"
     ]
    },
    {
     "name": "stdout",
     "output_type": "stream",
     "text": [
      "error for snapshot 67: 0.000198\n",
      "torch.Size([3571, 2])\n",
      "error for snapshot 68: 0.000213\n",
      "torch.Size([3571, 2])\n",
      "error for snapshot 69: 0.000238\n",
      "torch.Size([3571, 2])\n",
      "error for snapshot 70: 0.000268\n",
      "torch.Size([3571, 2])\n",
      "error for snapshot 71: 0.000286\n",
      "torch.Size([3571, 2])\n",
      "error for snapshot 72: 0.000290\n",
      "torch.Size([3571, 2])\n",
      "error for snapshot 73: 0.000300\n",
      "torch.Size([3571, 2])\n",
      "error for snapshot 74: 0.000317\n",
      "torch.Size([3571, 2])\n",
      "error for snapshot 75: 0.000325\n",
      "torch.Size([3571, 2])\n"
     ]
    },
    {
     "name": "stderr",
     "output_type": "stream",
     "text": [
      "  4% (81 of 2000) |                      | Elapsed Time: 0:00:02 ETA:   0:00:49"
     ]
    },
    {
     "name": "stdout",
     "output_type": "stream",
     "text": [
      "error for snapshot 76: 0.000323\n",
      "torch.Size([3571, 2])\n",
      "error for snapshot 77: 0.000322\n",
      "torch.Size([3571, 2])\n",
      "error for snapshot 78: 0.000327\n",
      "torch.Size([3571, 2])\n",
      "error for snapshot 79: 0.000346\n",
      "torch.Size([3571, 2])\n",
      "error for snapshot 80: 0.000378\n",
      "torch.Size([3571, 2])\n",
      "error for snapshot 81: 0.000420\n",
      "torch.Size([3571, 2])\n",
      "error for snapshot 82: 0.000476\n",
      "torch.Size([3571, 2])\n",
      "error for snapshot 83: 0.000526\n",
      "torch.Size([3571, 2])\n",
      "error for snapshot 84: 0.000546\n",
      "torch.Size([3571, 2])\n"
     ]
    },
    {
     "name": "stderr",
     "output_type": "stream",
     "text": [
      "  4% (90 of 2000) |                      | Elapsed Time: 0:00:02 ETA:   0:00:47"
     ]
    },
    {
     "name": "stdout",
     "output_type": "stream",
     "text": [
      "error for snapshot 85: 0.000536\n",
      "torch.Size([3571, 2])\n",
      "error for snapshot 86: 0.000524\n",
      "torch.Size([3571, 2])\n",
      "error for snapshot 87: 0.000519\n",
      "torch.Size([3571, 2])\n",
      "error for snapshot 88: 0.000555\n",
      "torch.Size([3571, 2])\n",
      "error for snapshot 89: 0.000709\n",
      "torch.Size([3571, 2])\n",
      "error for snapshot 90: 0.001432\n",
      "torch.Size([3571, 2])\n",
      "error for snapshot 91: 0.008211\n",
      "torch.Size([3571, 2])\n",
      "error for snapshot 92: 0.002106\n",
      "torch.Size([3571, 2])\n"
     ]
    },
    {
     "name": "stderr",
     "output_type": "stream",
     "text": [
      "  4% (98 of 2000) |#                     | Elapsed Time: 0:00:02 ETA:   0:00:47"
     ]
    },
    {
     "name": "stdout",
     "output_type": "stream",
     "text": [
      "error for snapshot 93: 0.000819\n",
      "torch.Size([3571, 2])\n",
      "error for snapshot 94: 0.000723\n",
      "torch.Size([3571, 2])\n",
      "error for snapshot 95: 0.000769\n",
      "torch.Size([3571, 2])\n",
      "error for snapshot 96: 0.000686\n",
      "torch.Size([3571, 2])\n",
      "error for snapshot 97: 0.000544\n",
      "torch.Size([3571, 2])\n",
      "error for snapshot 98: 0.000479\n",
      "torch.Size([3571, 2])\n",
      "error for snapshot 99: 0.000450\n",
      "torch.Size([3571, 2])\n",
      "error for snapshot 100: 0.000439\n",
      "torch.Size([3571, 2])\n",
      "error for snapshot 101: 0.000469\n",
      "torch.Size([3571, 2])\n"
     ]
    },
    {
     "name": "stderr",
     "output_type": "stream",
     "text": [
      "  5% (107 of 2000) |#                    | Elapsed Time: 0:00:02 ETA:   0:00:47"
     ]
    },
    {
     "name": "stdout",
     "output_type": "stream",
     "text": [
      "error for snapshot 102: 0.000535\n",
      "torch.Size([3571, 2])\n",
      "error for snapshot 103: 0.000586\n",
      "torch.Size([3571, 2])\n",
      "error for snapshot 104: 0.000612\n",
      "torch.Size([3571, 2])\n",
      "error for snapshot 105: 0.000606\n",
      "torch.Size([3571, 2])\n",
      "error for snapshot 106: 0.000622\n",
      "torch.Size([3571, 2])\n",
      "error for snapshot 107: 0.000748\n",
      "torch.Size([3571, 2])\n",
      "error for snapshot 108: 0.000916\n",
      "torch.Size([3571, 2])\n",
      "error for snapshot 109: 0.000957\n",
      "torch.Size([3571, 2])\n",
      "error for snapshot 110: 0.000853\n",
      "torch.Size([3571, 2])\n"
     ]
    },
    {
     "name": "stderr",
     "output_type": "stream",
     "text": [
      "  5% (116 of 2000) |#                    | Elapsed Time: 0:00:02 ETA:   0:00:47"
     ]
    },
    {
     "name": "stdout",
     "output_type": "stream",
     "text": [
      "error for snapshot 111: 0.000791\n",
      "torch.Size([3571, 2])\n",
      "error for snapshot 112: 0.001592\n",
      "torch.Size([3571, 2])\n",
      "error for snapshot 113: 0.002072\n",
      "torch.Size([3571, 2])\n",
      "error for snapshot 114: 0.000645\n",
      "torch.Size([3571, 2])\n",
      "error for snapshot 115: 0.000478\n",
      "torch.Size([3571, 2])\n",
      "error for snapshot 116: 0.000425\n",
      "torch.Size([3571, 2])\n",
      "error for snapshot 117: 0.000407\n",
      "torch.Size([3571, 2])\n",
      "error for snapshot 118: 0.000402\n",
      "torch.Size([3571, 2])\n",
      "error for snapshot 119: 0.000397\n",
      "torch.Size([3571, 2])\n"
     ]
    },
    {
     "name": "stderr",
     "output_type": "stream",
     "text": [
      "  6% (127 of 2000) |#                    | Elapsed Time: 0:00:03 ETA:   0:00:46"
     ]
    },
    {
     "name": "stdout",
     "output_type": "stream",
     "text": [
      "error for snapshot 120: 0.000388\n",
      "torch.Size([3571, 2])\n",
      "error for snapshot 121: 0.000383\n",
      "torch.Size([3571, 2])\n",
      "error for snapshot 122: 0.000389\n",
      "torch.Size([3571, 2])\n",
      "error for snapshot 123: 0.000408\n",
      "torch.Size([3571, 2])\n",
      "error for snapshot 124: 0.000428\n",
      "torch.Size([3571, 2])\n",
      "error for snapshot 125: 0.000439\n",
      "torch.Size([3571, 2])\n",
      "error for snapshot 126: 0.000478\n",
      "torch.Size([3571, 2])\n",
      "error for snapshot 127: 0.000576\n",
      "torch.Size([3571, 2])\n"
     ]
    },
    {
     "name": "stderr",
     "output_type": "stream",
     "text": [
      "  6% (135 of 2000) |#                    | Elapsed Time: 0:00:03 ETA:   0:00:46"
     ]
    },
    {
     "name": "stdout",
     "output_type": "stream",
     "text": [
      "error for snapshot 128: 0.000650\n",
      "torch.Size([3571, 2])\n",
      "error for snapshot 129: 0.000689\n",
      "torch.Size([3571, 2])\n",
      "error for snapshot 130: 0.000684\n",
      "torch.Size([3571, 2])\n",
      "error for snapshot 131: 0.000703\n",
      "torch.Size([3571, 2])\n",
      "error for snapshot 132: 0.000842\n",
      "torch.Size([3571, 2])\n",
      "error for snapshot 133: 0.000952\n",
      "torch.Size([3571, 2])\n",
      "error for snapshot 134: 0.000728\n",
      "torch.Size([3571, 2])\n",
      "error for snapshot 135: 0.000691\n",
      "torch.Size([3571, 2])\n"
     ]
    },
    {
     "name": "stderr",
     "output_type": "stream",
     "text": [
      "  7% (144 of 2000) |#                    | Elapsed Time: 0:00:03 ETA:   0:00:46"
     ]
    },
    {
     "name": "stdout",
     "output_type": "stream",
     "text": [
      "error for snapshot 136: 0.000677\n",
      "torch.Size([3571, 2])\n",
      "error for snapshot 137: 0.000628\n",
      "torch.Size([3571, 2])\n",
      "error for snapshot 138: 0.000581\n",
      "torch.Size([3571, 2])\n",
      "error for snapshot 139: 0.000556\n",
      "torch.Size([3571, 2])\n",
      "error for snapshot 140: 0.000564\n",
      "torch.Size([3571, 2])\n",
      "error for snapshot 141: 0.000634\n",
      "torch.Size([3571, 2])\n",
      "error for snapshot 142: 0.000731\n",
      "torch.Size([3571, 2])\n",
      "error for snapshot 143: 0.000717\n",
      "torch.Size([3571, 2])\n",
      "error for snapshot 144: 0.000599\n",
      "torch.Size([3571, 2])\n"
     ]
    },
    {
     "name": "stderr",
     "output_type": "stream",
     "text": [
      "  7% (152 of 2000) |#                    | Elapsed Time: 0:00:03 ETA:   0:00:46"
     ]
    },
    {
     "name": "stdout",
     "output_type": "stream",
     "text": [
      "error for snapshot 145: 0.000502\n",
      "torch.Size([3571, 2])\n",
      "error for snapshot 146: 0.000464\n",
      "torch.Size([3571, 2])\n",
      "error for snapshot 147: 0.000452\n",
      "torch.Size([3571, 2])\n",
      "error for snapshot 148: 0.000469\n",
      "torch.Size([3571, 2])\n",
      "error for snapshot 149: 0.000482\n",
      "torch.Size([3571, 2])\n",
      "error for snapshot 150: 0.000458\n",
      "torch.Size([3571, 2])\n",
      "error for snapshot 151: 0.000420\n",
      "torch.Size([3571, 2])\n",
      "error for snapshot 152: 0.000397\n",
      "torch.Size([3571, 2])\n"
     ]
    },
    {
     "name": "stderr",
     "output_type": "stream",
     "text": [
      "  8% (161 of 2000) |#                    | Elapsed Time: 0:00:04 ETA:   0:00:46"
     ]
    },
    {
     "name": "stdout",
     "output_type": "stream",
     "text": [
      "error for snapshot 153: 0.000395\n",
      "torch.Size([3571, 2])\n",
      "error for snapshot 154: 0.000405\n",
      "torch.Size([3571, 2])\n",
      "error for snapshot 155: 0.000416\n",
      "torch.Size([3571, 2])\n",
      "error for snapshot 156: 0.000435\n",
      "torch.Size([3571, 2])\n",
      "error for snapshot 157: 0.000458\n",
      "torch.Size([3571, 2])\n",
      "error for snapshot 158: 0.000474\n",
      "torch.Size([3571, 2])\n",
      "error for snapshot 159: 0.000496\n",
      "torch.Size([3571, 2])\n",
      "error for snapshot 160: 0.000536\n",
      "torch.Size([3571, 2])\n",
      "error for snapshot 161: 0.000559\n",
      "torch.Size([3571, 2])\n"
     ]
    },
    {
     "name": "stderr",
     "output_type": "stream",
     "text": [
      "  8% (169 of 2000) |#                    | Elapsed Time: 0:00:04 ETA:   0:00:46"
     ]
    },
    {
     "name": "stdout",
     "output_type": "stream",
     "text": [
      "error for snapshot 162: 0.000592\n",
      "torch.Size([3571, 2])\n",
      "error for snapshot 163: 0.000596\n",
      "torch.Size([3571, 2])\n",
      "error for snapshot 164: 0.000550\n",
      "torch.Size([3571, 2])\n",
      "error for snapshot 165: 0.000492\n",
      "torch.Size([3571, 2])\n",
      "error for snapshot 166: 0.000460\n",
      "torch.Size([3571, 2])\n",
      "error for snapshot 167: 0.000447\n",
      "torch.Size([3571, 2])\n",
      "error for snapshot 168: 0.000450\n",
      "torch.Size([3571, 2])\n",
      "error for snapshot 169: 0.000452\n",
      "torch.Size([3571, 2])\n",
      "error for snapshot 170: 0.000473\n"
     ]
    },
    {
     "name": "stderr",
     "output_type": "stream",
     "text": [
      "  8% (177 of 2000) |#                    | Elapsed Time: 0:00:04 ETA:   0:00:45"
     ]
    },
    {
     "name": "stdout",
     "output_type": "stream",
     "text": [
      "torch.Size([3571, 2])\n",
      "error for snapshot 171: 0.000498\n",
      "torch.Size([3571, 2])\n",
      "error for snapshot 172: 0.000500\n",
      "torch.Size([3571, 2])\n",
      "error for snapshot 173: 0.000481\n",
      "torch.Size([3571, 2])\n",
      "error for snapshot 174: 0.000462\n",
      "torch.Size([3571, 2])\n",
      "error for snapshot 175: 0.000461\n",
      "torch.Size([3571, 2])\n",
      "error for snapshot 176: 0.000478\n",
      "torch.Size([3571, 2])\n",
      "error for snapshot 177: 0.000491\n",
      "torch.Size([3571, 2])\n"
     ]
    },
    {
     "name": "stderr",
     "output_type": "stream",
     "text": [
      "  9% (186 of 2000) |#                    | Elapsed Time: 0:00:04 ETA:   0:00:45"
     ]
    },
    {
     "name": "stdout",
     "output_type": "stream",
     "text": [
      "error for snapshot 178: 0.000475\n",
      "torch.Size([3571, 2])\n",
      "error for snapshot 179: 0.000434\n",
      "torch.Size([3571, 2])\n",
      "error for snapshot 180: 0.000395\n",
      "torch.Size([3571, 2])\n",
      "error for snapshot 181: 0.000375\n",
      "torch.Size([3571, 2])\n",
      "error for snapshot 182: 0.000367\n",
      "torch.Size([3571, 2])\n",
      "error for snapshot 183: 0.000365\n",
      "torch.Size([3571, 2])\n",
      "error for snapshot 184: 0.000369\n",
      "torch.Size([3571, 2])\n",
      "error for snapshot 185: 0.000373\n",
      "torch.Size([3571, 2])\n",
      "error for snapshot 186: 0.000396\n",
      "torch.Size([3571, 2])\n"
     ]
    },
    {
     "name": "stderr",
     "output_type": "stream",
     "text": [
      "  9% (194 of 2000) |##                   | Elapsed Time: 0:00:04 ETA:   0:00:45"
     ]
    },
    {
     "name": "stdout",
     "output_type": "stream",
     "text": [
      "error for snapshot 187: 0.000410\n",
      "torch.Size([3571, 2])\n",
      "error for snapshot 188: 0.000401\n",
      "torch.Size([3571, 2])\n",
      "error for snapshot 189: 0.000400\n",
      "torch.Size([3571, 2])\n",
      "error for snapshot 190: 0.000408\n",
      "torch.Size([3571, 2])\n",
      "error for snapshot 191: 0.000404\n",
      "torch.Size([3571, 2])\n",
      "error for snapshot 192: 0.000393\n",
      "torch.Size([3571, 2])\n",
      "error for snapshot 193: 0.000393\n",
      "torch.Size([3571, 2])\n",
      "error for snapshot 194: 0.000400\n",
      "torch.Size([3571, 2])\n"
     ]
    },
    {
     "name": "stderr",
     "output_type": "stream",
     "text": [
      " 10% (202 of 2000) |##                   | Elapsed Time: 0:00:05 ETA:   0:00:45"
     ]
    },
    {
     "name": "stdout",
     "output_type": "stream",
     "text": [
      "error for snapshot 195: 0.000408\n",
      "torch.Size([3571, 2])\n",
      "error for snapshot 196: 0.000413\n",
      "torch.Size([3571, 2])\n",
      "error for snapshot 197: 0.000410\n",
      "torch.Size([3571, 2])\n",
      "error for snapshot 198: 0.000411\n",
      "torch.Size([3571, 2])\n",
      "error for snapshot 199: 0.000421\n",
      "torch.Size([3571, 2])\n",
      "error for snapshot 200: 0.000448\n",
      "torch.Size([3571, 2])\n",
      "error for snapshot 201: 0.000486\n",
      "torch.Size([3571, 2])\n",
      "error for snapshot 202: 0.000507\n",
      "torch.Size([3571, 2])\n"
     ]
    },
    {
     "name": "stderr",
     "output_type": "stream",
     "text": [
      " 10% (210 of 2000) |##                   | Elapsed Time: 0:00:05 ETA:   0:00:45"
     ]
    },
    {
     "name": "stdout",
     "output_type": "stream",
     "text": [
      "error for snapshot 203: 0.000479\n",
      "torch.Size([3571, 2])\n",
      "error for snapshot 204: 0.000449\n",
      "torch.Size([3571, 2])\n",
      "error for snapshot 205: 0.000458\n",
      "torch.Size([3571, 2])\n",
      "error for snapshot 206: 0.000566\n",
      "torch.Size([3571, 2])\n",
      "error for snapshot 207: 0.000495\n",
      "torch.Size([3571, 2])\n",
      "error for snapshot 208: 0.000423\n",
      "torch.Size([3571, 2])\n",
      "error for snapshot 209: 0.000402\n",
      "torch.Size([3571, 2])\n",
      "error for snapshot 210: 0.000407\n",
      "torch.Size([3571, 2])\n"
     ]
    },
    {
     "name": "stderr",
     "output_type": "stream",
     "text": [
      " 10% (218 of 2000) |##                   | Elapsed Time: 0:00:05 ETA:   0:00:45"
     ]
    },
    {
     "name": "stdout",
     "output_type": "stream",
     "text": [
      "error for snapshot 211: 0.000416\n",
      "torch.Size([3571, 2])\n",
      "error for snapshot 212: 0.000443\n",
      "torch.Size([3571, 2])\n",
      "error for snapshot 213: 0.000443\n",
      "torch.Size([3571, 2])\n",
      "error for snapshot 214: 0.000413\n",
      "torch.Size([3571, 2])\n",
      "error for snapshot 215: 0.000374\n",
      "torch.Size([3571, 2])\n",
      "error for snapshot 216: 0.000340\n",
      "torch.Size([3571, 2])\n",
      "error for snapshot 217: 0.000318\n",
      "torch.Size([3571, 2])\n",
      "error for snapshot 218: 0.000306\n",
      "torch.Size([3571, 2])\n"
     ]
    },
    {
     "name": "stderr",
     "output_type": "stream",
     "text": [
      " 11% (227 of 2000) |##                   | Elapsed Time: 0:00:05 ETA:   0:00:44"
     ]
    },
    {
     "name": "stdout",
     "output_type": "stream",
     "text": [
      "error for snapshot 219: 0.000315\n",
      "torch.Size([3571, 2])\n",
      "error for snapshot 220: 0.000343\n",
      "torch.Size([3571, 2])\n",
      "error for snapshot 221: 0.000384\n",
      "torch.Size([3571, 2])\n",
      "error for snapshot 222: 0.000399\n",
      "torch.Size([3571, 2])\n",
      "error for snapshot 223: 0.000365\n",
      "torch.Size([3571, 2])\n",
      "error for snapshot 224: 0.000328\n",
      "torch.Size([3571, 2])\n",
      "error for snapshot 225: 0.000310\n",
      "torch.Size([3571, 2])\n",
      "error for snapshot 226: 0.000309\n",
      "torch.Size([3571, 2])\n"
     ]
    },
    {
     "name": "stderr",
     "output_type": "stream",
     "text": [
      "\r",
      "                                                                               \r",
      "\r",
      " 11% (231 of 2000) |##                   | Elapsed Time: 0:00:05 ETA:   0:00:44"
     ]
    },
    {
     "name": "stdout",
     "output_type": "stream",
     "text": [
      "error for snapshot 227: 0.000317\n",
      "torch.Size([3571, 2])\n",
      "error for snapshot 228: 0.000320\n",
      "torch.Size([3571, 2])\n",
      "error for snapshot 229: 0.000328\n",
      "torch.Size([3571, 2])\n",
      "error for snapshot 230: 0.000339\n",
      "torch.Size([3571, 2])\n",
      "error for snapshot 231: 0.000350\n",
      "torch.Size([3571, 2])\n",
      "error for snapshot 232: 0.000356\n",
      "torch.Size([3571, 2])\n",
      "error for snapshot 233: 0.000341\n",
      "torch.Size([3571, 2])\n",
      "error for snapshot 234: 0.000325\n",
      "torch.Size([3571, 2])\n",
      "error for snapshot 235: 0.000319\n",
      "torch.Size([3571, 2])\n"
     ]
    },
    {
     "name": "stderr",
     "output_type": "stream",
     "text": [
      " 12% (240 of 2000) |##                   | Elapsed Time: 0:00:06 ETA:   0:00:44"
     ]
    },
    {
     "name": "stdout",
     "output_type": "stream",
     "text": [
      "error for snapshot 236: 0.000315\n",
      "torch.Size([3571, 2])\n",
      "error for snapshot 237: 0.000310\n",
      "torch.Size([3571, 2])\n",
      "error for snapshot 238: 0.000307\n",
      "torch.Size([3571, 2])\n",
      "error for snapshot 239: 0.000314\n",
      "torch.Size([3571, 2])\n",
      "error for snapshot 240: 0.000320\n",
      "torch.Size([3571, 2])\n",
      "error for snapshot 241: 0.000337\n",
      "torch.Size([3571, 2])\n",
      "error for snapshot 242: 0.000357\n",
      "torch.Size([3571, 2])\n",
      "error for snapshot 243: 0.000340\n",
      "torch.Size([3571, 2])\n",
      "error for snapshot 244: 0.000337\n",
      "torch.Size([3571, 2])\n"
     ]
    },
    {
     "name": "stderr",
     "output_type": "stream",
     "text": [
      " 12% (253 of 2000) |##                   | Elapsed Time: 0:00:06 ETA:   0:00:43"
     ]
    },
    {
     "name": "stdout",
     "output_type": "stream",
     "text": [
      "error for snapshot 245: 0.000345\n",
      "torch.Size([3571, 2])\n",
      "error for snapshot 246: 0.000368\n",
      "torch.Size([3571, 2])\n",
      "error for snapshot 247: 0.000436\n",
      "torch.Size([3571, 2])\n",
      "error for snapshot 248: 0.000740\n",
      "torch.Size([3571, 2])\n",
      "error for snapshot 249: 0.000445\n",
      "torch.Size([3571, 2])\n",
      "error for snapshot 250: 0.000377\n",
      "torch.Size([3571, 2])\n",
      "error for snapshot 251: 0.000368\n",
      "torch.Size([3571, 2])\n",
      "error for snapshot 252: 0.000385\n",
      "torch.Size([3571, 2])\n"
     ]
    },
    {
     "name": "stderr",
     "output_type": "stream",
     "text": [
      "\r",
      "                                                                               \r",
      "\r",
      " 12% (257 of 2000) |##                   | Elapsed Time: 0:00:06 ETA:   0:00:43"
     ]
    },
    {
     "name": "stdout",
     "output_type": "stream",
     "text": [
      "error for snapshot 253: 0.000371\n",
      "torch.Size([3571, 2])\n",
      "error for snapshot 254: 0.000361\n",
      "torch.Size([3571, 2])\n",
      "error for snapshot 255: 0.000385\n",
      "torch.Size([3571, 2])\n",
      "error for snapshot 256: 0.000402\n",
      "torch.Size([3571, 2])\n",
      "error for snapshot 257: 0.000392\n",
      "torch.Size([3571, 2])\n",
      "error for snapshot 258: 0.000374\n",
      "torch.Size([3571, 2])\n",
      "error for snapshot 259: 0.000348\n",
      "torch.Size([3571, 2])\n",
      "error for snapshot 260: 0.000340\n",
      "torch.Size([3571, 2])\n",
      "error for snapshot 261: 0.000339\n",
      "torch.Size([3571, 2])\n"
     ]
    },
    {
     "name": "stderr",
     "output_type": "stream",
     "text": [
      " 13% (267 of 2000) |##                   | Elapsed Time: 0:00:06 ETA:   0:00:43"
     ]
    },
    {
     "name": "stdout",
     "output_type": "stream",
     "text": [
      "error for snapshot 262: 0.000317\n",
      "torch.Size([3571, 2])\n",
      "error for snapshot 263: 0.000302\n",
      "torch.Size([3571, 2])\n",
      "error for snapshot 264: 0.000303\n",
      "torch.Size([3571, 2])\n",
      "error for snapshot 265: 0.000302\n",
      "torch.Size([3571, 2])\n",
      "error for snapshot 266: 0.000311\n",
      "torch.Size([3571, 2])\n",
      "error for snapshot 267: 0.000304\n",
      "torch.Size([3571, 2])\n",
      "error for snapshot 268: 0.000305\n",
      "torch.Size([3571, 2])\n",
      "error for snapshot 269: 0.000298\n",
      "torch.Size([3571, 2])\n",
      "error for snapshot 270: 0.000293\n",
      "torch.Size([3571, 2])\n"
     ]
    },
    {
     "name": "stderr",
     "output_type": "stream",
     "text": [
      " 13% (279 of 2000) |##                   | Elapsed Time: 0:00:07 ETA:   0:00:43"
     ]
    },
    {
     "name": "stdout",
     "output_type": "stream",
     "text": [
      "error for snapshot 271: 0.000283\n",
      "torch.Size([3571, 2])\n",
      "error for snapshot 272: 0.000272\n",
      "torch.Size([3571, 2])\n",
      "error for snapshot 273: 0.000272\n",
      "torch.Size([3571, 2])\n",
      "error for snapshot 274: 0.000301\n",
      "torch.Size([3571, 2])\n",
      "error for snapshot 275: 0.000339\n",
      "torch.Size([3571, 2])\n",
      "error for snapshot 276: 0.000355\n",
      "torch.Size([3571, 2])\n",
      "error for snapshot 277: 0.000405\n",
      "torch.Size([3571, 2])\n",
      "error for snapshot 278: 0.000517\n",
      "torch.Size([3571, 2])\n"
     ]
    },
    {
     "name": "stderr",
     "output_type": "stream",
     "text": [
      "\r",
      "                                                                               \r",
      "\r",
      " 14% (283 of 2000) |##                   | Elapsed Time: 0:00:07 ETA:   0:00:43"
     ]
    },
    {
     "name": "stdout",
     "output_type": "stream",
     "text": [
      "error for snapshot 279: 0.000445\n",
      "torch.Size([3571, 2])\n",
      "error for snapshot 280: 0.000377\n",
      "torch.Size([3571, 2])\n",
      "error for snapshot 281: 0.000351\n",
      "torch.Size([3571, 2])\n",
      "error for snapshot 282: 0.000358\n",
      "torch.Size([3571, 2])\n",
      "error for snapshot 283: 0.000385\n",
      "torch.Size([3571, 2])\n",
      "error for snapshot 284: 0.000507\n",
      "torch.Size([3571, 2])\n",
      "error for snapshot 285: 0.000444\n",
      "torch.Size([3571, 2])\n",
      "error for snapshot 286: 0.000344\n",
      "torch.Size([3571, 2])\n",
      "error for snapshot 287: 0.000314\n",
      "torch.Size([3571, 2])\n"
     ]
    },
    {
     "name": "stderr",
     "output_type": "stream",
     "text": [
      " 14% (296 of 2000) |###                  | Elapsed Time: 0:00:07 ETA:   0:00:42"
     ]
    },
    {
     "name": "stdout",
     "output_type": "stream",
     "text": [
      "error for snapshot 288: 0.000302\n",
      "torch.Size([3571, 2])\n",
      "error for snapshot 289: 0.000305\n",
      "torch.Size([3571, 2])\n",
      "error for snapshot 290: 0.000314\n",
      "torch.Size([3571, 2])\n",
      "error for snapshot 291: 0.000320\n",
      "torch.Size([3571, 2])\n",
      "error for snapshot 292: 0.000323\n",
      "torch.Size([3571, 2])\n",
      "error for snapshot 293: 0.000317\n",
      "torch.Size([3571, 2])\n",
      "error for snapshot 294: 0.000309\n",
      "torch.Size([3571, 2])\n",
      "error for snapshot 295: 0.000315\n",
      "torch.Size([3571, 2])\n"
     ]
    },
    {
     "name": "stderr",
     "output_type": "stream",
     "text": [
      " 15% (304 of 2000) |###                  | Elapsed Time: 0:00:07 ETA:   0:00:42"
     ]
    },
    {
     "name": "stdout",
     "output_type": "stream",
     "text": [
      "error for snapshot 296: 0.000324\n",
      "torch.Size([3571, 2])\n",
      "error for snapshot 297: 0.000325\n",
      "torch.Size([3571, 2])\n",
      "error for snapshot 298: 0.000315\n",
      "torch.Size([3571, 2])\n",
      "error for snapshot 299: 0.000294\n",
      "torch.Size([3571, 2])\n",
      "error for snapshot 300: 0.000295\n",
      "torch.Size([3571, 2])\n",
      "error for snapshot 301: 0.000304\n",
      "torch.Size([3571, 2])\n",
      "error for snapshot 302: 0.000318\n",
      "torch.Size([3571, 2])\n",
      "error for snapshot 303: 0.000342\n",
      "torch.Size([3571, 2])\n",
      "error for snapshot 304: 0.000362\n",
      "torch.Size([3571, 2])\n"
     ]
    },
    {
     "name": "stderr",
     "output_type": "stream",
     "text": [
      " 15% (312 of 2000) |###                  | Elapsed Time: 0:00:07 ETA:   0:00:42"
     ]
    },
    {
     "name": "stdout",
     "output_type": "stream",
     "text": [
      "error for snapshot 305: 0.000376\n",
      "torch.Size([3571, 2])\n",
      "error for snapshot 306: 0.000377\n",
      "torch.Size([3571, 2])\n",
      "error for snapshot 307: 0.000377\n",
      "torch.Size([3571, 2])\n",
      "error for snapshot 308: 0.000381\n",
      "torch.Size([3571, 2])\n",
      "error for snapshot 309: 0.000379\n",
      "torch.Size([3571, 2])\n",
      "error for snapshot 310: 0.000383\n",
      "torch.Size([3571, 2])\n",
      "error for snapshot 311: 0.000394\n",
      "torch.Size([3571, 2])\n",
      "error for snapshot 312: 0.000384\n",
      "torch.Size([3571, 2])\n"
     ]
    },
    {
     "name": "stderr",
     "output_type": "stream",
     "text": [
      " 16% (320 of 2000) |###                  | Elapsed Time: 0:00:08 ETA:   0:00:42"
     ]
    },
    {
     "name": "stdout",
     "output_type": "stream",
     "text": [
      "error for snapshot 313: 0.000333\n",
      "torch.Size([3571, 2])\n",
      "error for snapshot 314: 0.000288\n",
      "torch.Size([3571, 2])\n",
      "error for snapshot 315: 0.000273\n",
      "torch.Size([3571, 2])\n",
      "error for snapshot 316: 0.000262\n",
      "torch.Size([3571, 2])\n",
      "error for snapshot 317: 0.000263\n",
      "torch.Size([3571, 2])\n",
      "error for snapshot 318: 0.000270\n",
      "torch.Size([3571, 2])\n",
      "error for snapshot 319: 0.000300\n",
      "torch.Size([3571, 2])\n",
      "error for snapshot 320: 0.000349\n",
      "torch.Size([3571, 2])\n"
     ]
    },
    {
     "name": "stderr",
     "output_type": "stream",
     "text": [
      " 16% (328 of 2000) |###                  | Elapsed Time: 0:00:08 ETA:   0:00:42"
     ]
    },
    {
     "name": "stdout",
     "output_type": "stream",
     "text": [
      "error for snapshot 321: 0.000401\n",
      "torch.Size([3571, 2])\n",
      "error for snapshot 322: 0.000550\n",
      "torch.Size([3571, 2])\n",
      "error for snapshot 323: 0.000431\n",
      "torch.Size([3571, 2])\n",
      "error for snapshot 324: 0.000416\n",
      "torch.Size([3571, 2])\n",
      "error for snapshot 325: 0.000443\n",
      "torch.Size([3571, 2])\n",
      "error for snapshot 326: 0.000477\n",
      "torch.Size([3571, 2])\n",
      "error for snapshot 327: 0.000430\n",
      "torch.Size([3571, 2])\n",
      "error for snapshot 328: 0.000349\n",
      "torch.Size([3571, 2])\n"
     ]
    },
    {
     "name": "stderr",
     "output_type": "stream",
     "text": [
      " 16% (334 of 2000) |###                  | Elapsed Time: 0:00:08 ETA:   0:00:42"
     ]
    },
    {
     "name": "stdout",
     "output_type": "stream",
     "text": [
      "error for snapshot 329: 0.000299\n",
      "torch.Size([3571, 2])\n",
      "error for snapshot 330: 0.000268\n",
      "torch.Size([3571, 2])\n",
      "error for snapshot 331: 0.000255\n",
      "torch.Size([3571, 2])\n",
      "error for snapshot 332: 0.000249\n",
      "torch.Size([3571, 2])\n",
      "error for snapshot 333: 0.000247\n",
      "torch.Size([3571, 2])\n",
      "error for snapshot 334: 0.000251\n",
      "torch.Size([3571, 2])\n",
      "error for snapshot 335: 0.000255\n",
      "torch.Size([3571, 2])\n",
      "error for snapshot 336: 0.000242\n",
      "torch.Size([3571, 2])\n",
      "error for snapshot 337: 0.000227\n",
      "torch.Size([3571, 2])\n"
     ]
    },
    {
     "name": "stderr",
     "output_type": "stream",
     "text": [
      " 17% (344 of 2000) |###                  | Elapsed Time: 0:00:08 ETA:   0:00:41"
     ]
    },
    {
     "name": "stdout",
     "output_type": "stream",
     "text": [
      "error for snapshot 338: 0.000206\n",
      "torch.Size([3571, 2])\n",
      "error for snapshot 339: 0.000204\n",
      "torch.Size([3571, 2])\n",
      "error for snapshot 340: 0.000215\n",
      "torch.Size([3571, 2])\n",
      "error for snapshot 341: 0.000227\n",
      "torch.Size([3571, 2])\n",
      "error for snapshot 342: 0.000232\n",
      "torch.Size([3571, 2])\n",
      "error for snapshot 343: 0.000224\n",
      "torch.Size([3571, 2])\n",
      "error for snapshot 344: 0.000216\n",
      "torch.Size([3571, 2])\n",
      "error for snapshot 345: 0.000213\n",
      "torch.Size([3571, 2])\n",
      "error for snapshot 346: 0.000210\n",
      "torch.Size([3571, 2])\n"
     ]
    },
    {
     "name": "stderr",
     "output_type": "stream",
     "text": [
      " 17% (353 of 2000) |###                  | Elapsed Time: 0:00:08 ETA:   0:00:41"
     ]
    },
    {
     "name": "stdout",
     "output_type": "stream",
     "text": [
      "error for snapshot 347: 0.000208\n",
      "torch.Size([3571, 2])\n",
      "error for snapshot 348: 0.000215\n",
      "torch.Size([3571, 2])\n",
      "error for snapshot 349: 0.000224\n",
      "torch.Size([3571, 2])\n",
      "error for snapshot 350: 0.000227\n",
      "torch.Size([3571, 2])\n",
      "error for snapshot 351: 0.000225\n",
      "torch.Size([3571, 2])\n",
      "error for snapshot 352: 0.000217\n",
      "torch.Size([3571, 2])\n",
      "error for snapshot 353: 0.000218\n",
      "torch.Size([3571, 2])\n",
      "error for snapshot 354: 0.000233\n",
      "torch.Size([3571, 2])\n",
      "error for snapshot 355: 0.000256\n",
      "torch.Size([3571, 2])\n"
     ]
    },
    {
     "name": "stderr",
     "output_type": "stream",
     "text": [
      " 18% (363 of 2000) |###                  | Elapsed Time: 0:00:09 ETA:   0:00:41"
     ]
    },
    {
     "name": "stdout",
     "output_type": "stream",
     "text": [
      "error for snapshot 356: 0.000263\n",
      "torch.Size([3571, 2])\n",
      "error for snapshot 357: 0.000253\n",
      "torch.Size([3571, 2])\n",
      "error for snapshot 358: 0.000245\n",
      "torch.Size([3571, 2])\n",
      "error for snapshot 359: 0.000245\n",
      "torch.Size([3571, 2])\n",
      "error for snapshot 360: 0.000265\n",
      "torch.Size([3571, 2])\n",
      "error for snapshot 361: 0.000322\n",
      "torch.Size([3571, 2])\n",
      "error for snapshot 362: 0.000378\n",
      "torch.Size([3571, 2])\n",
      "error for snapshot 363: 0.000346\n",
      "torch.Size([3571, 2])\n",
      "error for snapshot 364: 0.000308\n",
      "torch.Size([3571, 2])\n"
     ]
    },
    {
     "name": "stderr",
     "output_type": "stream",
     "text": [
      " 18% (373 of 2000) |###                  | Elapsed Time: 0:00:09 ETA:   0:00:40"
     ]
    },
    {
     "name": "stdout",
     "output_type": "stream",
     "text": [
      "error for snapshot 365: 0.000304\n",
      "torch.Size([3571, 2])\n",
      "error for snapshot 366: 0.000297\n",
      "torch.Size([3571, 2])\n",
      "error for snapshot 367: 0.000297\n",
      "torch.Size([3571, 2])\n",
      "error for snapshot 368: 0.000317\n",
      "torch.Size([3571, 2])\n",
      "error for snapshot 369: 0.000321\n",
      "torch.Size([3571, 2])\n",
      "error for snapshot 370: 0.000302\n",
      "torch.Size([3571, 2])\n",
      "error for snapshot 371: 0.000271\n",
      "torch.Size([3571, 2])\n",
      "error for snapshot 372: 0.000249\n",
      "torch.Size([3571, 2])\n",
      "error for snapshot 373: 0.000237\n",
      "torch.Size([3571, 2])\n"
     ]
    },
    {
     "name": "stderr",
     "output_type": "stream",
     "text": [
      "\r",
      "                                                                               \r",
      "\r",
      " 18% (378 of 2000) |###                  | Elapsed Time: 0:00:09 ETA:   0:00:40"
     ]
    },
    {
     "name": "stdout",
     "output_type": "stream",
     "text": [
      "error for snapshot 374: 0.000222\n",
      "torch.Size([3571, 2])\n",
      "error for snapshot 375: 0.000208\n",
      "torch.Size([3571, 2])\n",
      "error for snapshot 376: 0.000198\n",
      "torch.Size([3571, 2])\n",
      "error for snapshot 377: 0.000192\n",
      "torch.Size([3571, 2])\n",
      "error for snapshot 378: 0.000198\n",
      "torch.Size([3571, 2])\n",
      "error for snapshot 379: 0.000207\n",
      "torch.Size([3571, 2])\n",
      "error for snapshot 380: 0.000213\n",
      "torch.Size([3571, 2])\n",
      "error for snapshot 381: 0.000219\n",
      "torch.Size([3571, 2])\n",
      "error for snapshot 382: 0.000223\n",
      "torch.Size([3571, 2])\n"
     ]
    },
    {
     "name": "stderr",
     "output_type": "stream",
     "text": [
      " 19% (388 of 2000) |####                 | Elapsed Time: 0:00:09 ETA:   0:00:39"
     ]
    },
    {
     "name": "stdout",
     "output_type": "stream",
     "text": [
      "error for snapshot 383: 0.000223\n",
      "torch.Size([3571, 2])\n",
      "error for snapshot 384: 0.000224\n",
      "torch.Size([3571, 2])\n",
      "error for snapshot 385: 0.000219\n",
      "torch.Size([3571, 2])\n",
      "error for snapshot 386: 0.000222\n",
      "torch.Size([3571, 2])\n",
      "error for snapshot 387: 0.000227\n",
      "torch.Size([3571, 2])\n",
      "error for snapshot 388: 0.000227\n",
      "torch.Size([3571, 2])\n",
      "error for snapshot 389: 0.000226\n",
      "torch.Size([3571, 2])\n",
      "error for snapshot 390: 0.000222\n",
      "torch.Size([3571, 2])\n",
      "error for snapshot 391: 0.000235\n",
      "torch.Size([3571, 2])\n"
     ]
    },
    {
     "name": "stderr",
     "output_type": "stream",
     "text": [
      " 19% (398 of 2000) |####                 | Elapsed Time: 0:00:10 ETA:   0:00:39"
     ]
    },
    {
     "name": "stdout",
     "output_type": "stream",
     "text": [
      "error for snapshot 392: 0.000265\n",
      "torch.Size([3571, 2])\n",
      "error for snapshot 393: 0.000269\n",
      "torch.Size([3571, 2])\n",
      "error for snapshot 394: 0.000250\n",
      "torch.Size([3571, 2])\n",
      "error for snapshot 395: 0.000229\n",
      "torch.Size([3571, 2])\n",
      "error for snapshot 396: 0.000214\n",
      "torch.Size([3571, 2])\n",
      "error for snapshot 397: 0.000199\n",
      "torch.Size([3571, 2])\n",
      "error for snapshot 398: 0.000191\n",
      "torch.Size([3571, 2])\n",
      "error for snapshot 399: 0.000193\n",
      "torch.Size([3571, 2])\n",
      "error for snapshot 400: 0.000191\n",
      "torch.Size([3571, 2])\n"
     ]
    },
    {
     "name": "stderr",
     "output_type": "stream",
     "text": [
      " 20% (406 of 2000) |####                 | Elapsed Time: 0:00:10 ETA:   0:00:38"
     ]
    },
    {
     "name": "stdout",
     "output_type": "stream",
     "text": [
      "error for snapshot 401: 0.000188\n",
      "torch.Size([3571, 2])\n",
      "error for snapshot 402: 0.000188\n",
      "torch.Size([3571, 2])\n",
      "error for snapshot 403: 0.000196\n",
      "torch.Size([3571, 2])\n",
      "error for snapshot 404: 0.000197\n",
      "torch.Size([3571, 2])\n",
      "error for snapshot 405: 0.000188\n",
      "torch.Size([3571, 2])\n",
      "error for snapshot 406: 0.000184\n",
      "torch.Size([3571, 2])\n",
      "error for snapshot 407: 0.000181\n",
      "torch.Size([3571, 2])\n",
      "error for snapshot 408: 0.000184\n",
      "torch.Size([3571, 2])\n",
      "error for snapshot 409: 0.000187\n",
      "torch.Size([3571, 2])\n"
     ]
    },
    {
     "name": "stderr",
     "output_type": "stream",
     "text": [
      " 20% (416 of 2000) |####                 | Elapsed Time: 0:00:10 ETA:   0:00:37"
     ]
    },
    {
     "name": "stdout",
     "output_type": "stream",
     "text": [
      "error for snapshot 410: 0.000198\n",
      "torch.Size([3571, 2])\n",
      "error for snapshot 411: 0.000201\n",
      "torch.Size([3571, 2])\n",
      "error for snapshot 412: 0.000198\n",
      "torch.Size([3571, 2])\n",
      "error for snapshot 413: 0.000192\n",
      "torch.Size([3571, 2])\n",
      "error for snapshot 414: 0.000188\n",
      "torch.Size([3571, 2])\n",
      "error for snapshot 415: 0.000193\n",
      "torch.Size([3571, 2])\n",
      "error for snapshot 416: 0.000201\n",
      "torch.Size([3571, 2])\n",
      "error for snapshot 417: 0.000213\n",
      "torch.Size([3571, 2])\n",
      "error for snapshot 418: 0.000211\n",
      "torch.Size([3571, 2])\n"
     ]
    },
    {
     "name": "stderr",
     "output_type": "stream",
     "text": [
      " 21% (426 of 2000) |####                 | Elapsed Time: 0:00:10 ETA:   0:00:37"
     ]
    },
    {
     "name": "stdout",
     "output_type": "stream",
     "text": [
      "error for snapshot 419: 0.000189\n",
      "torch.Size([3571, 2])\n",
      "error for snapshot 420: 0.000169\n",
      "torch.Size([3571, 2])\n",
      "error for snapshot 421: 0.000167\n",
      "torch.Size([3571, 2])\n",
      "error for snapshot 422: 0.000169\n",
      "torch.Size([3571, 2])\n",
      "error for snapshot 423: 0.000157\n",
      "torch.Size([3571, 2])\n",
      "error for snapshot 424: 0.000150\n",
      "torch.Size([3571, 2])\n",
      "error for snapshot 425: 0.000148\n",
      "torch.Size([3571, 2])\n",
      "error for snapshot 426: 0.000146\n",
      "torch.Size([3571, 2])\n",
      "error for snapshot 427: 0.000147\n",
      "torch.Size([3571, 2])\n"
     ]
    },
    {
     "name": "stderr",
     "output_type": "stream",
     "text": [
      " 21% (436 of 2000) |####                 | Elapsed Time: 0:00:10 ETA:   0:00:36"
     ]
    },
    {
     "name": "stdout",
     "output_type": "stream",
     "text": [
      "error for snapshot 428: 0.000144\n",
      "torch.Size([3571, 2])\n",
      "error for snapshot 429: 0.000151\n",
      "torch.Size([3571, 2])\n",
      "error for snapshot 430: 0.000164\n",
      "torch.Size([3571, 2])\n",
      "error for snapshot 431: 0.000163\n",
      "torch.Size([3571, 2])\n",
      "error for snapshot 432: 0.000160\n",
      "torch.Size([3571, 2])\n",
      "error for snapshot 433: 0.000151\n",
      "torch.Size([3571, 2])\n",
      "error for snapshot 434: 0.000139\n",
      "torch.Size([3571, 2])\n",
      "error for snapshot 435: 0.000126\n",
      "torch.Size([3571, 2])\n",
      "error for snapshot 436: 0.000124\n",
      "torch.Size([3571, 2])\n"
     ]
    },
    {
     "name": "stderr",
     "output_type": "stream",
     "text": [
      "\r",
      "                                                                               \r",
      "\r",
      " 22% (441 of 2000) |####                 | Elapsed Time: 0:00:11 ETA:   0:00:36"
     ]
    },
    {
     "name": "stdout",
     "output_type": "stream",
     "text": [
      "error for snapshot 437: 0.000135\n",
      "torch.Size([3571, 2])\n",
      "error for snapshot 438: 0.000144\n",
      "torch.Size([3571, 2])\n",
      "error for snapshot 439: 0.000144\n",
      "torch.Size([3571, 2])\n",
      "error for snapshot 440: 0.000156\n",
      "torch.Size([3571, 2])\n",
      "error for snapshot 441: 0.000165\n",
      "torch.Size([3571, 2])\n",
      "error for snapshot 442: 0.000165\n",
      "torch.Size([3571, 2])\n",
      "error for snapshot 443: 0.000152\n",
      "torch.Size([3571, 2])\n",
      "error for snapshot 444: 0.000147\n",
      "torch.Size([3571, 2])\n",
      "error for snapshot 445: 0.000151\n",
      "torch.Size([3571, 2])\n"
     ]
    },
    {
     "name": "stderr",
     "output_type": "stream",
     "text": [
      " 22% (451 of 2000) |####                 | Elapsed Time: 0:00:11 ETA:   0:00:36"
     ]
    },
    {
     "name": "stdout",
     "output_type": "stream",
     "text": [
      "error for snapshot 446: 0.000151\n",
      "torch.Size([3571, 2])\n",
      "error for snapshot 447: 0.000149\n",
      "torch.Size([3571, 2])\n",
      "error for snapshot 448: 0.000151\n",
      "torch.Size([3571, 2])\n",
      "error for snapshot 449: 0.000146\n",
      "torch.Size([3571, 2])\n",
      "error for snapshot 450: 0.000140\n",
      "torch.Size([3571, 2])\n",
      "error for snapshot 451: 0.000138\n",
      "torch.Size([3571, 2])\n",
      "error for snapshot 452: 0.000141\n",
      "torch.Size([3571, 2])\n",
      "error for snapshot 453: 0.000152\n",
      "torch.Size([3571, 2])\n",
      "error for snapshot 454: 0.000167\n",
      "torch.Size([3571, 2])\n"
     ]
    },
    {
     "name": "stderr",
     "output_type": "stream",
     "text": [
      " 23% (461 of 2000) |####                 | Elapsed Time: 0:00:11 ETA:   0:00:36"
     ]
    },
    {
     "name": "stdout",
     "output_type": "stream",
     "text": [
      "error for snapshot 455: 0.000174\n",
      "torch.Size([3571, 2])\n",
      "error for snapshot 456: 0.000179\n",
      "torch.Size([3571, 2])\n",
      "error for snapshot 457: 0.000195\n",
      "torch.Size([3571, 2])\n",
      "error for snapshot 458: 0.000200\n",
      "torch.Size([3571, 2])\n",
      "error for snapshot 459: 0.000190\n",
      "torch.Size([3571, 2])\n",
      "error for snapshot 460: 0.000173\n",
      "torch.Size([3571, 2])\n",
      "error for snapshot 461: 0.000158\n",
      "torch.Size([3571, 2])\n",
      "error for snapshot 462: 0.000153\n",
      "torch.Size([3571, 2])\n",
      "error for snapshot 463: 0.000152\n",
      "torch.Size([3571, 2])\n"
     ]
    },
    {
     "name": "stderr",
     "output_type": "stream",
     "text": [
      " 23% (471 of 2000) |####                 | Elapsed Time: 0:00:11 ETA:   0:00:35"
     ]
    },
    {
     "name": "stdout",
     "output_type": "stream",
     "text": [
      "error for snapshot 464: 0.000166\n",
      "torch.Size([3571, 2])\n",
      "error for snapshot 465: 0.000183\n",
      "torch.Size([3571, 2])\n",
      "error for snapshot 466: 0.000196\n",
      "torch.Size([3571, 2])\n",
      "error for snapshot 467: 0.000205\n",
      "torch.Size([3571, 2])\n",
      "error for snapshot 468: 0.000216\n",
      "torch.Size([3571, 2])\n",
      "error for snapshot 469: 0.000231\n",
      "torch.Size([3571, 2])\n",
      "error for snapshot 470: 0.000227\n",
      "torch.Size([3571, 2])\n",
      "error for snapshot 471: 0.000214\n",
      "torch.Size([3571, 2])\n",
      "error for snapshot 472: 0.000196\n",
      "torch.Size([3571, 2])\n"
     ]
    },
    {
     "name": "stderr",
     "output_type": "stream",
     "text": [
      " 24% (481 of 2000) |#####                | Elapsed Time: 0:00:11 ETA:   0:00:35"
     ]
    },
    {
     "name": "stdout",
     "output_type": "stream",
     "text": [
      "error for snapshot 473: 0.000186\n",
      "torch.Size([3571, 2])\n",
      "error for snapshot 474: 0.000183\n",
      "torch.Size([3571, 2])\n",
      "error for snapshot 475: 0.000194\n",
      "torch.Size([3571, 2])\n",
      "error for snapshot 476: 0.000196\n",
      "torch.Size([3571, 2])\n",
      "error for snapshot 477: 0.000195\n",
      "torch.Size([3571, 2])\n",
      "error for snapshot 478: 0.000191\n",
      "torch.Size([3571, 2])\n",
      "error for snapshot 479: 0.000175\n",
      "torch.Size([3571, 2])\n",
      "error for snapshot 480: 0.000158\n",
      "torch.Size([3571, 2])\n",
      "error for snapshot 481: 0.000140\n",
      "torch.Size([3571, 2])\n"
     ]
    },
    {
     "name": "stderr",
     "output_type": "stream",
     "text": [
      "\r",
      "                                                                               \r",
      "\r",
      " 24% (486 of 2000) |#####                | Elapsed Time: 0:00:12 ETA:   0:00:35"
     ]
    },
    {
     "name": "stdout",
     "output_type": "stream",
     "text": [
      "error for snapshot 482: 0.000132\n",
      "torch.Size([3571, 2])\n",
      "error for snapshot 483: 0.000131\n",
      "torch.Size([3571, 2])\n",
      "error for snapshot 484: 0.000131\n",
      "torch.Size([3571, 2])\n",
      "error for snapshot 485: 0.000127\n",
      "torch.Size([3571, 2])\n",
      "error for snapshot 486: 0.000130\n",
      "torch.Size([3571, 2])\n",
      "error for snapshot 487: 0.000129\n",
      "torch.Size([3571, 2])\n",
      "error for snapshot 488: 0.000127\n",
      "torch.Size([3571, 2])\n",
      "error for snapshot 489: 0.000128\n",
      "torch.Size([3571, 2])\n",
      "error for snapshot 490: 0.000130\n",
      "torch.Size([3571, 2])\n"
     ]
    },
    {
     "name": "stderr",
     "output_type": "stream",
     "text": [
      " 24% (496 of 2000) |#####                | Elapsed Time: 0:00:12 ETA:   0:00:35"
     ]
    },
    {
     "name": "stdout",
     "output_type": "stream",
     "text": [
      "error for snapshot 491: 0.000136\n",
      "torch.Size([3571, 2])\n",
      "error for snapshot 492: 0.000143\n",
      "torch.Size([3571, 2])\n",
      "error for snapshot 493: 0.000152\n",
      "torch.Size([3571, 2])\n",
      "error for snapshot 494: 0.000148\n",
      "torch.Size([3571, 2])\n",
      "error for snapshot 495: 0.000161\n",
      "torch.Size([3571, 2])\n",
      "error for snapshot 496: 0.000183\n",
      "torch.Size([3571, 2])\n",
      "error for snapshot 497: 0.000183\n",
      "torch.Size([3571, 2])\n",
      "error for snapshot 498: 0.000180\n",
      "torch.Size([3571, 2])\n",
      "error for snapshot 499: 0.000176\n",
      "torch.Size([3571, 2])\n"
     ]
    },
    {
     "name": "stderr",
     "output_type": "stream",
     "text": [
      " 25% (506 of 2000) |#####                | Elapsed Time: 0:00:12 ETA:   0:00:35"
     ]
    },
    {
     "name": "stdout",
     "output_type": "stream",
     "text": [
      "error for snapshot 500: 0.000172\n",
      "torch.Size([3571, 2])\n",
      "error for snapshot 501: 0.000168\n",
      "torch.Size([3571, 2])\n",
      "error for snapshot 502: 0.000158\n",
      "torch.Size([3571, 2])\n",
      "error for snapshot 503: 0.000148\n",
      "torch.Size([3571, 2])\n",
      "error for snapshot 504: 0.000143\n",
      "torch.Size([3571, 2])\n",
      "error for snapshot 505: 0.000145\n",
      "torch.Size([3571, 2])\n",
      "error for snapshot 506: 0.000149\n",
      "torch.Size([3571, 2])\n",
      "error for snapshot 507: 0.000144\n",
      "torch.Size([3571, 2])\n",
      "error for snapshot 508: 0.000137\n",
      "torch.Size([3571, 2])\n"
     ]
    },
    {
     "name": "stderr",
     "output_type": "stream",
     "text": [
      " 25% (516 of 2000) |#####                | Elapsed Time: 0:00:12 ETA:   0:00:34"
     ]
    },
    {
     "name": "stdout",
     "output_type": "stream",
     "text": [
      "error for snapshot 509: 0.000134\n",
      "torch.Size([3571, 2])\n",
      "error for snapshot 510: 0.000130\n",
      "torch.Size([3571, 2])\n",
      "error for snapshot 511: 0.000130\n",
      "torch.Size([3571, 2])\n",
      "error for snapshot 512: 0.000143\n",
      "torch.Size([3571, 2])\n",
      "error for snapshot 513: 0.000149\n",
      "torch.Size([3571, 2])\n",
      "error for snapshot 514: 0.000152\n",
      "torch.Size([3571, 2])\n",
      "error for snapshot 515: 0.000170\n",
      "torch.Size([3571, 2])\n",
      "error for snapshot 516: 0.000211\n",
      "torch.Size([3571, 2])\n",
      "error for snapshot 517: 0.000235\n",
      "torch.Size([3571, 2])\n"
     ]
    },
    {
     "name": "stderr",
     "output_type": "stream",
     "text": [
      " 26% (526 of 2000) |#####                | Elapsed Time: 0:00:13 ETA:   0:00:34"
     ]
    },
    {
     "name": "stdout",
     "output_type": "stream",
     "text": [
      "error for snapshot 518: 0.000227\n",
      "torch.Size([3571, 2])\n",
      "error for snapshot 519: 0.000196\n",
      "torch.Size([3571, 2])\n",
      "error for snapshot 520: 0.000173\n",
      "torch.Size([3571, 2])\n",
      "error for snapshot 521: 0.000157\n",
      "torch.Size([3571, 2])\n",
      "error for snapshot 522: 0.000148\n",
      "torch.Size([3571, 2])\n",
      "error for snapshot 523: 0.000144\n",
      "torch.Size([3571, 2])\n",
      "error for snapshot 524: 0.000140\n",
      "torch.Size([3571, 2])\n",
      "error for snapshot 525: 0.000137\n",
      "torch.Size([3571, 2])\n",
      "error for snapshot 526: 0.000140\n",
      "torch.Size([3571, 2])\n"
     ]
    },
    {
     "name": "stderr",
     "output_type": "stream",
     "text": [
      " 26% (536 of 2000) |#####                | Elapsed Time: 0:00:13 ETA:   0:00:34"
     ]
    },
    {
     "name": "stdout",
     "output_type": "stream",
     "text": [
      "error for snapshot 527: 0.000142\n",
      "torch.Size([3571, 2])\n",
      "error for snapshot 528: 0.000147\n",
      "torch.Size([3571, 2])\n",
      "error for snapshot 529: 0.000155\n",
      "torch.Size([3571, 2])\n",
      "error for snapshot 530: 0.000172\n",
      "torch.Size([3571, 2])\n",
      "error for snapshot 531: 0.000183\n",
      "torch.Size([3571, 2])\n",
      "error for snapshot 532: 0.000192\n",
      "torch.Size([3571, 2])\n",
      "error for snapshot 533: 0.000194\n",
      "torch.Size([3571, 2])\n",
      "error for snapshot 534: 0.000184\n",
      "torch.Size([3571, 2])\n",
      "error for snapshot 535: 0.000175\n",
      "torch.Size([3571, 2])\n"
     ]
    },
    {
     "name": "stderr",
     "output_type": "stream",
     "text": [
      "\r",
      "                                                                               \r",
      "\r",
      " 27% (541 of 2000) |#####                | Elapsed Time: 0:00:13 ETA:   0:00:34"
     ]
    },
    {
     "name": "stdout",
     "output_type": "stream",
     "text": [
      "error for snapshot 536: 0.000167\n",
      "torch.Size([3571, 2])\n",
      "error for snapshot 537: 0.000166\n",
      "torch.Size([3571, 2])\n",
      "error for snapshot 538: 0.000175\n",
      "torch.Size([3571, 2])\n",
      "error for snapshot 539: 0.000180\n",
      "torch.Size([3571, 2])\n",
      "error for snapshot 540: 0.000179\n",
      "torch.Size([3571, 2])\n",
      "error for snapshot 541: 0.000170\n",
      "torch.Size([3571, 2])\n",
      "error for snapshot 542: 0.000150\n",
      "torch.Size([3571, 2])\n",
      "error for snapshot 543: 0.000139\n",
      "torch.Size([3571, 2])\n",
      "error for snapshot 544: 0.000141\n",
      "torch.Size([3571, 2])\n"
     ]
    },
    {
     "name": "stderr",
     "output_type": "stream",
     "text": [
      " 27% (551 of 2000) |#####                | Elapsed Time: 0:00:13 ETA:   0:00:34"
     ]
    },
    {
     "name": "stdout",
     "output_type": "stream",
     "text": [
      "error for snapshot 545: 0.000147\n",
      "torch.Size([3571, 2])\n",
      "error for snapshot 546: 0.000143\n",
      "torch.Size([3571, 2])\n",
      "error for snapshot 547: 0.000141\n",
      "torch.Size([3571, 2])\n",
      "error for snapshot 548: 0.000144\n",
      "torch.Size([3571, 2])\n",
      "error for snapshot 549: 0.000147\n",
      "torch.Size([3571, 2])\n",
      "error for snapshot 550: 0.000146\n",
      "torch.Size([3571, 2])\n",
      "error for snapshot 551: 0.000144\n",
      "torch.Size([3571, 2])\n",
      "error for snapshot 552: 0.000138\n",
      "torch.Size([3571, 2])\n",
      "error for snapshot 553: 0.000134\n",
      "torch.Size([3571, 2])\n"
     ]
    },
    {
     "name": "stderr",
     "output_type": "stream",
     "text": [
      " 28% (561 of 2000) |#####                | Elapsed Time: 0:00:13 ETA:   0:00:33"
     ]
    },
    {
     "name": "stdout",
     "output_type": "stream",
     "text": [
      "error for snapshot 554: 0.000129\n",
      "torch.Size([3571, 2])\n",
      "error for snapshot 555: 0.000128\n",
      "torch.Size([3571, 2])\n",
      "error for snapshot 556: 0.000134\n",
      "torch.Size([3571, 2])\n",
      "error for snapshot 557: 0.000137\n",
      "torch.Size([3571, 2])\n",
      "error for snapshot 558: 0.000140\n",
      "torch.Size([3571, 2])\n",
      "error for snapshot 559: 0.000148\n",
      "torch.Size([3571, 2])\n",
      "error for snapshot 560: 0.000159\n",
      "torch.Size([3571, 2])\n",
      "error for snapshot 561: 0.000151\n",
      "torch.Size([3571, 2])\n",
      "error for snapshot 562: 0.000133\n",
      "torch.Size([3571, 2])\n"
     ]
    },
    {
     "name": "stderr",
     "output_type": "stream",
     "text": [
      " 28% (571 of 2000) |#####                | Elapsed Time: 0:00:14 ETA:   0:00:33"
     ]
    },
    {
     "name": "stdout",
     "output_type": "stream",
     "text": [
      "error for snapshot 563: 0.000126\n",
      "torch.Size([3571, 2])\n",
      "error for snapshot 564: 0.000133\n",
      "torch.Size([3571, 2])\n",
      "error for snapshot 565: 0.000145\n",
      "torch.Size([3571, 2])\n",
      "error for snapshot 566: 0.000157\n",
      "torch.Size([3571, 2])\n",
      "error for snapshot 567: 0.000164\n",
      "torch.Size([3571, 2])\n",
      "error for snapshot 568: 0.000159\n",
      "torch.Size([3571, 2])\n",
      "error for snapshot 569: 0.000156\n",
      "torch.Size([3571, 2])\n",
      "error for snapshot 570: 0.000156\n",
      "torch.Size([3571, 2])\n",
      "error for snapshot 571: 0.000161\n",
      "torch.Size([3571, 2])\n"
     ]
    },
    {
     "name": "stderr",
     "output_type": "stream",
     "text": [
      "\r",
      "                                                                               \r",
      "\r",
      " 28% (576 of 2000) |######               | Elapsed Time: 0:00:14 ETA:   0:00:33"
     ]
    },
    {
     "name": "stdout",
     "output_type": "stream",
     "text": [
      "error for snapshot 572: 0.000152\n",
      "torch.Size([3571, 2])\n",
      "error for snapshot 573: 0.000151\n",
      "torch.Size([3571, 2])\n",
      "error for snapshot 574: 0.000159\n",
      "torch.Size([3571, 2])\n",
      "error for snapshot 575: 0.000170\n",
      "torch.Size([3571, 2])\n",
      "error for snapshot 576: 0.000172\n",
      "torch.Size([3571, 2])\n",
      "error for snapshot 577: 0.000177\n",
      "torch.Size([3571, 2])\n",
      "error for snapshot 578: 0.000181\n",
      "torch.Size([3571, 2])\n",
      "error for snapshot 579: 0.000179\n",
      "torch.Size([3571, 2])\n",
      "error for snapshot 580: 0.000189\n",
      "torch.Size([3571, 2])\n"
     ]
    },
    {
     "name": "stderr",
     "output_type": "stream",
     "text": [
      " 29% (586 of 2000) |######               | Elapsed Time: 0:00:14 ETA:   0:00:33"
     ]
    },
    {
     "name": "stdout",
     "output_type": "stream",
     "text": [
      "error for snapshot 581: 0.000190\n",
      "torch.Size([3571, 2])\n",
      "error for snapshot 582: 0.000189\n",
      "torch.Size([3571, 2])\n",
      "error for snapshot 583: 0.000180\n",
      "torch.Size([3571, 2])\n",
      "error for snapshot 584: 0.000175\n",
      "torch.Size([3571, 2])\n",
      "error for snapshot 585: 0.000179\n",
      "torch.Size([3571, 2])\n",
      "error for snapshot 586: 0.000187\n",
      "torch.Size([3571, 2])\n",
      "error for snapshot 587: 0.000195\n",
      "torch.Size([3571, 2])\n",
      "error for snapshot 588: 0.000202\n",
      "torch.Size([3571, 2])\n",
      "error for snapshot 589: 0.000202\n",
      "torch.Size([3571, 2])\n"
     ]
    },
    {
     "name": "stderr",
     "output_type": "stream",
     "text": [
      " 29% (596 of 2000) |######               | Elapsed Time: 0:00:14 ETA:   0:00:32"
     ]
    },
    {
     "name": "stdout",
     "output_type": "stream",
     "text": [
      "error for snapshot 590: 0.000210\n",
      "torch.Size([3571, 2])\n",
      "error for snapshot 591: 0.000228\n",
      "torch.Size([3571, 2])\n",
      "error for snapshot 592: 0.000233\n",
      "torch.Size([3571, 2])\n",
      "error for snapshot 593: 0.000218\n",
      "torch.Size([3571, 2])\n",
      "error for snapshot 594: 0.000188\n",
      "torch.Size([3571, 2])\n",
      "error for snapshot 595: 0.000166\n",
      "torch.Size([3571, 2])\n",
      "error for snapshot 596: 0.000159\n",
      "torch.Size([3571, 2])\n",
      "error for snapshot 597: 0.000165\n",
      "torch.Size([3571, 2])\n",
      "error for snapshot 598: 0.000182\n",
      "torch.Size([3571, 2])\n"
     ]
    },
    {
     "name": "stderr",
     "output_type": "stream",
     "text": [
      " 30% (606 of 2000) |######               | Elapsed Time: 0:00:14 ETA:   0:00:32"
     ]
    },
    {
     "name": "stdout",
     "output_type": "stream",
     "text": [
      "error for snapshot 599: 0.000199\n",
      "torch.Size([3571, 2])\n",
      "error for snapshot 600: 0.000221\n",
      "torch.Size([3571, 2])\n",
      "error for snapshot 601: 0.000225\n",
      "torch.Size([3571, 2])\n",
      "error for snapshot 602: 0.000218\n",
      "torch.Size([3571, 2])\n",
      "error for snapshot 603: 0.000211\n",
      "torch.Size([3571, 2])\n",
      "error for snapshot 604: 0.000204\n",
      "torch.Size([3571, 2])\n",
      "error for snapshot 605: 0.000201\n",
      "torch.Size([3571, 2])\n",
      "error for snapshot 606: 0.000202\n",
      "torch.Size([3571, 2])\n",
      "error for snapshot 607: 0.000206\n",
      "torch.Size([3571, 2])\n"
     ]
    },
    {
     "name": "stderr",
     "output_type": "stream",
     "text": [
      " 30% (613 of 2000) |######               | Elapsed Time: 0:00:15 ETA:   0:00:32"
     ]
    },
    {
     "name": "stdout",
     "output_type": "stream",
     "text": [
      "error for snapshot 608: 0.000212\n",
      "torch.Size([3571, 2])\n",
      "error for snapshot 609: 0.000227\n",
      "torch.Size([3571, 2])\n",
      "error for snapshot 610: 0.000233\n",
      "torch.Size([3571, 2])\n",
      "error for snapshot 611: 0.000226\n",
      "torch.Size([3571, 2])\n",
      "error for snapshot 612: 0.000208\n",
      "torch.Size([3571, 2])\n",
      "error for snapshot 613: 0.000197\n",
      "torch.Size([3571, 2])\n",
      "error for snapshot 614: 0.000201\n",
      "torch.Size([3571, 2])\n",
      "error for snapshot 615: 0.000218\n",
      "torch.Size([3571, 2])\n",
      "error for snapshot 616: 0.000226\n",
      "torch.Size([3571, 2])\n"
     ]
    },
    {
     "name": "stderr",
     "output_type": "stream",
     "text": [
      " 31% (623 of 2000) |######               | Elapsed Time: 0:00:15 ETA:   0:00:32"
     ]
    },
    {
     "name": "stdout",
     "output_type": "stream",
     "text": [
      "error for snapshot 617: 0.000224\n",
      "torch.Size([3571, 2])\n",
      "error for snapshot 618: 0.000223\n",
      "torch.Size([3571, 2])\n",
      "error for snapshot 619: 0.000222\n",
      "torch.Size([3571, 2])\n",
      "error for snapshot 620: 0.000216\n",
      "torch.Size([3571, 2])\n",
      "error for snapshot 621: 0.000196\n",
      "torch.Size([3571, 2])\n",
      "error for snapshot 622: 0.000201\n",
      "torch.Size([3571, 2])\n",
      "error for snapshot 623: 0.000221\n",
      "torch.Size([3571, 2])\n",
      "error for snapshot 624: 0.000201\n",
      "torch.Size([3571, 2])\n",
      "error for snapshot 625: 0.000174\n",
      "torch.Size([3571, 2])\n"
     ]
    },
    {
     "name": "stderr",
     "output_type": "stream",
     "text": [
      " 31% (633 of 2000) |######               | Elapsed Time: 0:00:15 ETA:   0:00:32"
     ]
    },
    {
     "name": "stdout",
     "output_type": "stream",
     "text": [
      "error for snapshot 626: 0.000167\n",
      "torch.Size([3571, 2])\n",
      "error for snapshot 627: 0.000168\n",
      "torch.Size([3571, 2])\n",
      "error for snapshot 628: 0.000195\n",
      "torch.Size([3571, 2])\n",
      "error for snapshot 629: 0.000232\n",
      "torch.Size([3571, 2])\n",
      "error for snapshot 630: 0.000244\n",
      "torch.Size([3571, 2])\n",
      "error for snapshot 631: 0.000240\n",
      "torch.Size([3571, 2])\n",
      "error for snapshot 632: 0.000243\n",
      "torch.Size([3571, 2])\n",
      "error for snapshot 633: 0.000224\n",
      "torch.Size([3571, 2])\n",
      "error for snapshot 634: 0.000199\n",
      "torch.Size([3571, 2])\n"
     ]
    },
    {
     "name": "stderr",
     "output_type": "stream",
     "text": [
      " 32% (643 of 2000) |######               | Elapsed Time: 0:00:15 ETA:   0:00:31"
     ]
    },
    {
     "name": "stdout",
     "output_type": "stream",
     "text": [
      "error for snapshot 635: 0.000182\n",
      "torch.Size([3571, 2])\n",
      "error for snapshot 636: 0.000170\n",
      "torch.Size([3571, 2])\n",
      "error for snapshot 637: 0.000172\n",
      "torch.Size([3571, 2])\n",
      "error for snapshot 638: 0.000193\n",
      "torch.Size([3571, 2])\n",
      "error for snapshot 639: 0.000215\n",
      "torch.Size([3571, 2])\n",
      "error for snapshot 640: 0.000219\n",
      "torch.Size([3571, 2])\n",
      "error for snapshot 641: 0.000202\n",
      "torch.Size([3571, 2])\n",
      "error for snapshot 642: 0.000198\n",
      "torch.Size([3571, 2])\n",
      "error for snapshot 643: 0.000197\n",
      "torch.Size([3571, 2])\n"
     ]
    },
    {
     "name": "stderr",
     "output_type": "stream",
     "text": [
      "\r",
      "                                                                               \r",
      "\r",
      " 32% (648 of 2000) |######               | Elapsed Time: 0:00:15 ETA:   0:00:31"
     ]
    },
    {
     "name": "stdout",
     "output_type": "stream",
     "text": [
      "error for snapshot 644: 0.000204\n",
      "torch.Size([3571, 2])\n",
      "error for snapshot 645: 0.000196\n",
      "torch.Size([3571, 2])\n",
      "error for snapshot 646: 0.000193\n",
      "torch.Size([3571, 2])\n",
      "error for snapshot 647: 0.000197\n",
      "torch.Size([3571, 2])\n",
      "error for snapshot 648: 0.000204\n",
      "torch.Size([3571, 2])\n",
      "error for snapshot 649: 0.000196\n",
      "torch.Size([3571, 2])\n",
      "error for snapshot 650: 0.000184\n",
      "torch.Size([3571, 2])\n",
      "error for snapshot 651: 0.000171\n",
      "torch.Size([3571, 2])\n",
      "error for snapshot 652: 0.000162\n",
      "torch.Size([3571, 2])\n"
     ]
    },
    {
     "name": "stderr",
     "output_type": "stream",
     "text": [
      " 32% (658 of 2000) |######               | Elapsed Time: 0:00:16 ETA:   0:00:31"
     ]
    },
    {
     "name": "stdout",
     "output_type": "stream",
     "text": [
      "error for snapshot 653: 0.000157\n",
      "torch.Size([3571, 2])\n",
      "error for snapshot 654: 0.000153\n",
      "torch.Size([3571, 2])\n",
      "error for snapshot 655: 0.000164\n",
      "torch.Size([3571, 2])\n",
      "error for snapshot 656: 0.000178\n",
      "torch.Size([3571, 2])\n",
      "error for snapshot 657: 0.000178\n",
      "torch.Size([3571, 2])\n",
      "error for snapshot 658: 0.000174\n",
      "torch.Size([3571, 2])\n",
      "error for snapshot 659: 0.000164\n",
      "torch.Size([3571, 2])\n",
      "error for snapshot 660: 0.000159\n",
      "torch.Size([3571, 2])\n",
      "error for snapshot 661: 0.000160\n",
      "torch.Size([3571, 2])\n"
     ]
    },
    {
     "name": "stderr",
     "output_type": "stream",
     "text": [
      " 33% (668 of 2000) |#######              | Elapsed Time: 0:00:16 ETA:   0:00:31"
     ]
    },
    {
     "name": "stdout",
     "output_type": "stream",
     "text": [
      "error for snapshot 662: 0.000172\n",
      "torch.Size([3571, 2])\n",
      "error for snapshot 663: 0.000169\n",
      "torch.Size([3571, 2])\n",
      "error for snapshot 664: 0.000166\n",
      "torch.Size([3571, 2])\n",
      "error for snapshot 665: 0.000162\n",
      "torch.Size([3571, 2])\n",
      "error for snapshot 666: 0.000166\n",
      "torch.Size([3571, 2])\n",
      "error for snapshot 667: 0.000173\n",
      "torch.Size([3571, 2])\n",
      "error for snapshot 668: 0.000173\n",
      "torch.Size([3571, 2])\n",
      "error for snapshot 669: 0.000171\n",
      "torch.Size([3571, 2])\n",
      "error for snapshot 670: 0.000177\n",
      "torch.Size([3571, 2])\n"
     ]
    },
    {
     "name": "stderr",
     "output_type": "stream",
     "text": [
      " 33% (677 of 2000) |#######              | Elapsed Time: 0:00:16 ETA:   0:00:31"
     ]
    },
    {
     "name": "stdout",
     "output_type": "stream",
     "text": [
      "error for snapshot 671: 0.000185\n",
      "torch.Size([3571, 2])\n",
      "error for snapshot 672: 0.000192\n",
      "torch.Size([3571, 2])\n",
      "error for snapshot 673: 0.000195\n",
      "torch.Size([3571, 2])\n",
      "error for snapshot 674: 0.000201\n",
      "torch.Size([3571, 2])\n",
      "error for snapshot 675: 0.000192\n",
      "torch.Size([3571, 2])\n",
      "error for snapshot 676: 0.000184\n",
      "torch.Size([3571, 2])\n",
      "error for snapshot 677: 0.000172\n",
      "torch.Size([3571, 2])\n",
      "error for snapshot 678: 0.000170\n",
      "torch.Size([3571, 2])\n"
     ]
    },
    {
     "name": "stderr",
     "output_type": "stream",
     "text": [
      " 34% (684 of 2000) |#######              | Elapsed Time: 0:00:16 ETA:   0:00:31"
     ]
    },
    {
     "name": "stdout",
     "output_type": "stream",
     "text": [
      "error for snapshot 679: 0.000181\n",
      "torch.Size([3571, 2])\n",
      "error for snapshot 680: 0.000184\n",
      "torch.Size([3571, 2])\n",
      "error for snapshot 681: 0.000176\n",
      "torch.Size([3571, 2])\n",
      "error for snapshot 682: 0.000163\n",
      "torch.Size([3571, 2])\n",
      "error for snapshot 683: 0.000159\n",
      "torch.Size([3571, 2])\n",
      "error for snapshot 684: 0.000153\n",
      "torch.Size([3571, 2])\n",
      "error for snapshot 685: 0.000155\n",
      "torch.Size([3571, 2])\n",
      "error for snapshot 686: 0.000152\n",
      "torch.Size([3571, 2])\n"
     ]
    },
    {
     "name": "stderr",
     "output_type": "stream",
     "text": [
      " 34% (692 of 2000) |#######              | Elapsed Time: 0:00:16 ETA:   0:00:31"
     ]
    },
    {
     "name": "stdout",
     "output_type": "stream",
     "text": [
      "error for snapshot 687: 0.000142\n",
      "torch.Size([3571, 2])\n",
      "error for snapshot 688: 0.000144\n",
      "torch.Size([3571, 2])\n",
      "error for snapshot 689: 0.000145\n",
      "torch.Size([3571, 2])\n",
      "error for snapshot 690: 0.000153\n",
      "torch.Size([3571, 2])\n",
      "error for snapshot 691: 0.000161\n",
      "torch.Size([3571, 2])\n",
      "error for snapshot 692: 0.000165\n",
      "torch.Size([3571, 2])\n",
      "error for snapshot 693: 0.000177\n",
      "torch.Size([3571, 2])\n",
      "error for snapshot 694: 0.000174\n",
      "torch.Size([3571, 2])\n"
     ]
    },
    {
     "name": "stderr",
     "output_type": "stream",
     "text": [
      " 35% (700 of 2000) |#######              | Elapsed Time: 0:00:17 ETA:   0:00:31"
     ]
    },
    {
     "name": "stdout",
     "output_type": "stream",
     "text": [
      "error for snapshot 695: 0.000160\n",
      "torch.Size([3571, 2])\n",
      "error for snapshot 696: 0.000150\n",
      "torch.Size([3571, 2])\n",
      "error for snapshot 697: 0.000140\n",
      "torch.Size([3571, 2])\n",
      "error for snapshot 698: 0.000131\n",
      "torch.Size([3571, 2])\n",
      "error for snapshot 699: 0.000126\n",
      "torch.Size([3571, 2])\n",
      "error for snapshot 700: 0.000125\n",
      "torch.Size([3571, 2])\n",
      "error for snapshot 701: 0.000128\n",
      "torch.Size([3571, 2])\n",
      "error for snapshot 702: 0.000130\n",
      "torch.Size([3571, 2])\n"
     ]
    },
    {
     "name": "stderr",
     "output_type": "stream",
     "text": [
      " 35% (708 of 2000) |#######              | Elapsed Time: 0:00:17 ETA:   0:00:31"
     ]
    },
    {
     "name": "stdout",
     "output_type": "stream",
     "text": [
      "error for snapshot 703: 0.000134\n",
      "torch.Size([3571, 2])\n",
      "error for snapshot 704: 0.000141\n",
      "torch.Size([3571, 2])\n",
      "error for snapshot 705: 0.000140\n",
      "torch.Size([3571, 2])\n",
      "error for snapshot 706: 0.000145\n",
      "torch.Size([3571, 2])\n",
      "error for snapshot 707: 0.000149\n",
      "torch.Size([3571, 2])\n",
      "error for snapshot 708: 0.000152\n",
      "torch.Size([3571, 2])\n",
      "error for snapshot 709: 0.000152\n",
      "torch.Size([3571, 2])\n",
      "error for snapshot 710: 0.000154\n",
      "torch.Size([3571, 2])\n",
      "error for snapshot 711: 0.000160\n"
     ]
    },
    {
     "name": "stderr",
     "output_type": "stream",
     "text": [
      " 35% (718 of 2000) |#######              | Elapsed Time: 0:00:17 ETA:   0:00:31"
     ]
    },
    {
     "name": "stdout",
     "output_type": "stream",
     "text": [
      "torch.Size([3571, 2])\n",
      "error for snapshot 712: 0.000162\n",
      "torch.Size([3571, 2])\n",
      "error for snapshot 713: 0.000164\n",
      "torch.Size([3571, 2])\n",
      "error for snapshot 714: 0.000161\n",
      "torch.Size([3571, 2])\n",
      "error for snapshot 715: 0.000167\n",
      "torch.Size([3571, 2])\n",
      "error for snapshot 716: 0.000183\n",
      "torch.Size([3571, 2])\n",
      "error for snapshot 717: 0.000209\n",
      "torch.Size([3571, 2])\n",
      "error for snapshot 718: 0.000235\n",
      "torch.Size([3571, 2])\n",
      "error for snapshot 719: 0.000253\n"
     ]
    },
    {
     "name": "stderr",
     "output_type": "stream",
     "text": [
      " 36% (727 of 2000) |#######              | Elapsed Time: 0:00:17 ETA:   0:00:31"
     ]
    },
    {
     "name": "stdout",
     "output_type": "stream",
     "text": [
      "torch.Size([3571, 2])\n",
      "error for snapshot 720: 0.000272\n",
      "torch.Size([3571, 2])\n",
      "error for snapshot 721: 0.000296\n",
      "torch.Size([3571, 2])\n",
      "error for snapshot 722: 0.000305\n",
      "torch.Size([3571, 2])\n",
      "error for snapshot 723: 0.000279\n",
      "torch.Size([3571, 2])\n",
      "error for snapshot 724: 0.000256\n",
      "torch.Size([3571, 2])\n",
      "error for snapshot 725: 0.000257\n",
      "torch.Size([3571, 2])\n",
      "error for snapshot 726: 0.000253\n",
      "torch.Size([3571, 2])\n",
      "error for snapshot 727: 0.000256\n",
      "torch.Size([3571, 2])\n"
     ]
    },
    {
     "name": "stderr",
     "output_type": "stream",
     "text": [
      " 36% (735 of 2000) |#######              | Elapsed Time: 0:00:18 ETA:   0:00:31"
     ]
    },
    {
     "name": "stdout",
     "output_type": "stream",
     "text": [
      "error for snapshot 728: 0.000266\n",
      "torch.Size([3571, 2])\n",
      "error for snapshot 729: 0.000258\n",
      "torch.Size([3571, 2])\n",
      "error for snapshot 730: 0.000257\n",
      "torch.Size([3571, 2])\n",
      "error for snapshot 731: 0.000262\n",
      "torch.Size([3571, 2])\n",
      "error for snapshot 732: 0.000258\n",
      "torch.Size([3571, 2])\n",
      "error for snapshot 733: 0.000245\n",
      "torch.Size([3571, 2])\n",
      "error for snapshot 734: 0.000236\n",
      "torch.Size([3571, 2])\n",
      "error for snapshot 735: 0.000234\n",
      "torch.Size([3571, 2])\n",
      "error for snapshot 736: 0.000226\n",
      "torch.Size([3571, 2])\n"
     ]
    },
    {
     "name": "stderr",
     "output_type": "stream",
     "text": [
      " 37% (745 of 2000) |#######              | Elapsed Time: 0:00:18 ETA:   0:00:31"
     ]
    },
    {
     "name": "stdout",
     "output_type": "stream",
     "text": [
      "error for snapshot 737: 0.000224\n",
      "torch.Size([3571, 2])\n",
      "error for snapshot 738: 0.000228\n",
      "torch.Size([3571, 2])\n",
      "error for snapshot 739: 0.000225\n",
      "torch.Size([3571, 2])\n",
      "error for snapshot 740: 0.000214\n",
      "torch.Size([3571, 2])\n",
      "error for snapshot 741: 0.000212\n",
      "torch.Size([3571, 2])\n",
      "error for snapshot 742: 0.000222\n",
      "torch.Size([3571, 2])\n",
      "error for snapshot 743: 0.000225\n",
      "torch.Size([3571, 2])\n",
      "error for snapshot 744: 0.000220\n",
      "torch.Size([3571, 2])\n",
      "error for snapshot 745: 0.000203\n",
      "torch.Size([3571, 2])\n"
     ]
    },
    {
     "name": "stderr",
     "output_type": "stream",
     "text": [
      "\r",
      "                                                                               \r",
      "\r",
      " 37% (750 of 2000) |#######              | Elapsed Time: 0:00:18 ETA:   0:00:31"
     ]
    },
    {
     "name": "stdout",
     "output_type": "stream",
     "text": [
      "error for snapshot 746: 0.000183\n",
      "torch.Size([3571, 2])\n",
      "error for snapshot 747: 0.000170\n",
      "torch.Size([3571, 2])\n",
      "error for snapshot 748: 0.000163\n",
      "torch.Size([3571, 2])\n",
      "error for snapshot 749: 0.000157\n",
      "torch.Size([3571, 2])\n",
      "error for snapshot 750: 0.000151\n",
      "torch.Size([3571, 2])\n",
      "error for snapshot 751: 0.000150\n",
      "torch.Size([3571, 2])\n",
      "error for snapshot 752: 0.000151\n",
      "torch.Size([3571, 2])\n",
      "error for snapshot 753: 0.000147\n",
      "torch.Size([3571, 2])\n",
      "error for snapshot 754: 0.000146\n",
      "torch.Size([3571, 2])\n"
     ]
    },
    {
     "name": "stderr",
     "output_type": "stream",
     "text": [
      " 38% (760 of 2000) |#######              | Elapsed Time: 0:00:18 ETA:   0:00:31"
     ]
    },
    {
     "name": "stdout",
     "output_type": "stream",
     "text": [
      "error for snapshot 755: 0.000147\n",
      "torch.Size([3571, 2])\n",
      "error for snapshot 756: 0.000154\n",
      "torch.Size([3571, 2])\n",
      "error for snapshot 757: 0.000159\n",
      "torch.Size([3571, 2])\n",
      "error for snapshot 758: 0.000157\n",
      "torch.Size([3571, 2])\n",
      "error for snapshot 759: 0.000164\n",
      "torch.Size([3571, 2])\n",
      "error for snapshot 760: 0.000174\n",
      "torch.Size([3571, 2])\n",
      "error for snapshot 761: 0.000166\n",
      "torch.Size([3571, 2])\n",
      "error for snapshot 762: 0.000152\n",
      "torch.Size([3571, 2])\n",
      "error for snapshot 763: 0.000141\n",
      "torch.Size([3571, 2])\n"
     ]
    },
    {
     "name": "stderr",
     "output_type": "stream",
     "text": [
      " 38% (770 of 2000) |########             | Elapsed Time: 0:00:18 ETA:   0:00:30"
     ]
    },
    {
     "name": "stdout",
     "output_type": "stream",
     "text": [
      "error for snapshot 764: 0.000135\n",
      "torch.Size([3571, 2])\n",
      "error for snapshot 765: 0.000136\n",
      "torch.Size([3571, 2])\n",
      "error for snapshot 766: 0.000133\n",
      "torch.Size([3571, 2])\n",
      "error for snapshot 767: 0.000137\n",
      "torch.Size([3571, 2])\n",
      "error for snapshot 768: 0.000144\n",
      "torch.Size([3571, 2])\n",
      "error for snapshot 769: 0.000158\n",
      "torch.Size([3571, 2])\n",
      "error for snapshot 770: 0.000171\n",
      "torch.Size([3571, 2])\n",
      "error for snapshot 771: 0.000174\n",
      "torch.Size([3571, 2])\n",
      "error for snapshot 772: 0.000171\n",
      "torch.Size([3571, 2])\n"
     ]
    },
    {
     "name": "stderr",
     "output_type": "stream",
     "text": [
      " 39% (780 of 2000) |########             | Elapsed Time: 0:00:19 ETA:   0:00:29"
     ]
    },
    {
     "name": "stdout",
     "output_type": "stream",
     "text": [
      "error for snapshot 773: 0.000153\n",
      "torch.Size([3571, 2])\n",
      "error for snapshot 774: 0.000152\n",
      "torch.Size([3571, 2])\n",
      "error for snapshot 775: 0.000153\n",
      "torch.Size([3571, 2])\n",
      "error for snapshot 776: 0.000149\n",
      "torch.Size([3571, 2])\n",
      "error for snapshot 777: 0.000145\n",
      "torch.Size([3571, 2])\n",
      "error for snapshot 778: 0.000147\n",
      "torch.Size([3571, 2])\n",
      "error for snapshot 779: 0.000151\n",
      "torch.Size([3571, 2])\n",
      "error for snapshot 780: 0.000151\n",
      "torch.Size([3571, 2])\n",
      "error for snapshot 781: 0.000152\n",
      "torch.Size([3571, 2])\n"
     ]
    },
    {
     "name": "stderr",
     "output_type": "stream",
     "text": [
      " 39% (790 of 2000) |########             | Elapsed Time: 0:00:19 ETA:   0:00:29"
     ]
    },
    {
     "name": "stdout",
     "output_type": "stream",
     "text": [
      "error for snapshot 782: 0.000146\n",
      "torch.Size([3571, 2])\n",
      "error for snapshot 783: 0.000138\n",
      "torch.Size([3571, 2])\n",
      "error for snapshot 784: 0.000134\n",
      "torch.Size([3571, 2])\n",
      "error for snapshot 785: 0.000135\n",
      "torch.Size([3571, 2])\n",
      "error for snapshot 786: 0.000130\n",
      "torch.Size([3571, 2])\n",
      "error for snapshot 787: 0.000125\n",
      "torch.Size([3571, 2])\n",
      "error for snapshot 788: 0.000113\n",
      "torch.Size([3571, 2])\n",
      "error for snapshot 789: 0.000106\n",
      "torch.Size([3571, 2])\n",
      "error for snapshot 790: 0.000105\n",
      "torch.Size([3571, 2])\n"
     ]
    },
    {
     "name": "stderr",
     "output_type": "stream",
     "text": [
      "\r",
      "                                                                               \r",
      "\r",
      " 39% (795 of 2000) |########             | Elapsed Time: 0:00:19 ETA:   0:00:28"
     ]
    },
    {
     "name": "stdout",
     "output_type": "stream",
     "text": [
      "error for snapshot 791: 0.000108\n",
      "torch.Size([3571, 2])\n",
      "error for snapshot 792: 0.000116\n",
      "torch.Size([3571, 2])\n",
      "error for snapshot 793: 0.000121\n",
      "torch.Size([3571, 2])\n",
      "error for snapshot 794: 0.000123\n",
      "torch.Size([3571, 2])\n",
      "error for snapshot 795: 0.000123\n",
      "torch.Size([3571, 2])\n",
      "error for snapshot 796: 0.000127\n",
      "torch.Size([3571, 2])\n",
      "error for snapshot 797: 0.000137\n",
      "torch.Size([3571, 2])\n",
      "error for snapshot 798: 0.000134\n",
      "torch.Size([3571, 2])\n",
      "error for snapshot 799: 0.000131\n",
      "torch.Size([3571, 2])\n"
     ]
    },
    {
     "name": "stderr",
     "output_type": "stream",
     "text": [
      " 40% (805 of 2000) |########             | Elapsed Time: 0:00:19 ETA:   0:00:28"
     ]
    },
    {
     "name": "stdout",
     "output_type": "stream",
     "text": [
      "error for snapshot 800: 0.000129\n",
      "torch.Size([3571, 2])\n",
      "error for snapshot 801: 0.000127\n",
      "torch.Size([3571, 2])\n",
      "error for snapshot 802: 0.000129\n",
      "torch.Size([3571, 2])\n",
      "error for snapshot 803: 0.000124\n",
      "torch.Size([3571, 2])\n",
      "error for snapshot 804: 0.000114\n",
      "torch.Size([3571, 2])\n",
      "error for snapshot 805: 0.000108\n",
      "torch.Size([3571, 2])\n",
      "error for snapshot 806: 0.000108\n",
      "torch.Size([3571, 2])\n",
      "error for snapshot 807: 0.000110\n",
      "torch.Size([3571, 2])\n",
      "error for snapshot 808: 0.000114\n",
      "torch.Size([3571, 2])\n"
     ]
    },
    {
     "name": "stderr",
     "output_type": "stream",
     "text": [
      " 40% (815 of 2000) |########             | Elapsed Time: 0:00:19 ETA:   0:00:27"
     ]
    },
    {
     "name": "stdout",
     "output_type": "stream",
     "text": [
      "error for snapshot 809: 0.000113\n",
      "torch.Size([3571, 2])\n",
      "error for snapshot 810: 0.000120\n",
      "torch.Size([3571, 2])\n",
      "error for snapshot 811: 0.000128\n",
      "torch.Size([3571, 2])\n",
      "error for snapshot 812: 0.000114\n",
      "torch.Size([3571, 2])\n",
      "error for snapshot 813: 0.000107\n",
      "torch.Size([3571, 2])\n",
      "error for snapshot 814: 0.000112\n",
      "torch.Size([3571, 2])\n",
      "error for snapshot 815: 0.000115\n",
      "torch.Size([3571, 2])\n",
      "error for snapshot 816: 0.000127\n",
      "torch.Size([3571, 2])\n",
      "error for snapshot 817: 0.000151\n",
      "torch.Size([3571, 2])\n"
     ]
    },
    {
     "name": "stderr",
     "output_type": "stream",
     "text": [
      " 41% (825 of 2000) |########             | Elapsed Time: 0:00:20 ETA:   0:00:27"
     ]
    },
    {
     "name": "stdout",
     "output_type": "stream",
     "text": [
      "error for snapshot 818: 0.000164\n",
      "torch.Size([3571, 2])\n",
      "error for snapshot 819: 0.000160\n",
      "torch.Size([3571, 2])\n",
      "error for snapshot 820: 0.000148\n",
      "torch.Size([3571, 2])\n",
      "error for snapshot 821: 0.000141\n",
      "torch.Size([3571, 2])\n",
      "error for snapshot 822: 0.000142\n",
      "torch.Size([3571, 2])\n",
      "error for snapshot 823: 0.000148\n",
      "torch.Size([3571, 2])\n",
      "error for snapshot 824: 0.000152\n",
      "torch.Size([3571, 2])\n",
      "error for snapshot 825: 0.000155\n",
      "torch.Size([3571, 2])\n",
      "error for snapshot 826: 0.000153\n",
      "torch.Size([3571, 2])\n"
     ]
    },
    {
     "name": "stderr",
     "output_type": "stream",
     "text": [
      " 41% (835 of 2000) |########             | Elapsed Time: 0:00:20 ETA:   0:00:27"
     ]
    },
    {
     "name": "stdout",
     "output_type": "stream",
     "text": [
      "error for snapshot 827: 0.000145\n",
      "torch.Size([3571, 2])\n",
      "error for snapshot 828: 0.000144\n",
      "torch.Size([3571, 2])\n",
      "error for snapshot 829: 0.000156\n",
      "torch.Size([3571, 2])\n",
      "error for snapshot 830: 0.000163\n",
      "torch.Size([3571, 2])\n",
      "error for snapshot 831: 0.000169\n",
      "torch.Size([3571, 2])\n",
      "error for snapshot 832: 0.000191\n",
      "torch.Size([3571, 2])\n",
      "error for snapshot 833: 0.000213\n",
      "torch.Size([3571, 2])\n",
      "error for snapshot 834: 0.000208\n",
      "torch.Size([3571, 2])\n",
      "error for snapshot 835: 0.000190\n",
      "torch.Size([3571, 2])\n"
     ]
    },
    {
     "name": "stderr",
     "output_type": "stream",
     "text": [
      "\r",
      "                                                                               \r",
      "\r",
      " 42% (840 of 2000) |########             | Elapsed Time: 0:00:20 ETA:   0:00:27"
     ]
    },
    {
     "name": "stdout",
     "output_type": "stream",
     "text": [
      "error for snapshot 836: 0.000168\n",
      "torch.Size([3571, 2])\n",
      "error for snapshot 837: 0.000149\n",
      "torch.Size([3571, 2])\n",
      "error for snapshot 838: 0.000140\n",
      "torch.Size([3571, 2])\n",
      "error for snapshot 839: 0.000142\n",
      "torch.Size([3571, 2])\n",
      "error for snapshot 840: 0.000153\n",
      "torch.Size([3571, 2])\n",
      "error for snapshot 841: 0.000158\n",
      "torch.Size([3571, 2])\n",
      "error for snapshot 842: 0.000151\n",
      "torch.Size([3571, 2])\n",
      "error for snapshot 843: 0.000142\n",
      "torch.Size([3571, 2])\n",
      "error for snapshot 844: 0.000127\n",
      "torch.Size([3571, 2])\n"
     ]
    },
    {
     "name": "stderr",
     "output_type": "stream",
     "text": [
      " 42% (850 of 2000) |########             | Elapsed Time: 0:00:20 ETA:   0:00:27"
     ]
    },
    {
     "name": "stdout",
     "output_type": "stream",
     "text": [
      "error for snapshot 845: 0.000120\n",
      "torch.Size([3571, 2])\n",
      "error for snapshot 846: 0.000116\n",
      "torch.Size([3571, 2])\n",
      "error for snapshot 847: 0.000106\n",
      "torch.Size([3571, 2])\n",
      "error for snapshot 848: 0.000097\n",
      "torch.Size([3571, 2])\n",
      "error for snapshot 849: 0.000102\n",
      "torch.Size([3571, 2])\n",
      "error for snapshot 850: 0.000106\n",
      "torch.Size([3571, 2])\n",
      "error for snapshot 851: 0.000101\n",
      "torch.Size([3571, 2])\n",
      "error for snapshot 852: 0.000098\n",
      "torch.Size([3571, 2])\n",
      "error for snapshot 853: 0.000104\n",
      "torch.Size([3571, 2])\n"
     ]
    },
    {
     "name": "stderr",
     "output_type": "stream",
     "text": [
      " 43% (860 of 2000) |#########            | Elapsed Time: 0:00:21 ETA:   0:00:26"
     ]
    },
    {
     "name": "stdout",
     "output_type": "stream",
     "text": [
      "error for snapshot 854: 0.000115\n",
      "torch.Size([3571, 2])\n",
      "error for snapshot 855: 0.000120\n",
      "torch.Size([3571, 2])\n",
      "error for snapshot 856: 0.000125\n",
      "torch.Size([3571, 2])\n",
      "error for snapshot 857: 0.000121\n",
      "torch.Size([3571, 2])\n",
      "error for snapshot 858: 0.000113\n",
      "torch.Size([3571, 2])\n",
      "error for snapshot 859: 0.000107\n",
      "torch.Size([3571, 2])\n",
      "error for snapshot 860: 0.000106\n",
      "torch.Size([3571, 2])\n",
      "error for snapshot 861: 0.000107\n",
      "torch.Size([3571, 2])\n",
      "error for snapshot 862: 0.000113\n",
      "torch.Size([3571, 2])\n"
     ]
    },
    {
     "name": "stderr",
     "output_type": "stream",
     "text": [
      " 43% (870 of 2000) |#########            | Elapsed Time: 0:00:21 ETA:   0:00:26"
     ]
    },
    {
     "name": "stdout",
     "output_type": "stream",
     "text": [
      "error for snapshot 863: 0.000118\n",
      "torch.Size([3571, 2])\n",
      "error for snapshot 864: 0.000112\n",
      "torch.Size([3571, 2])\n",
      "error for snapshot 865: 0.000112\n",
      "torch.Size([3571, 2])\n",
      "error for snapshot 866: 0.000116\n",
      "torch.Size([3571, 2])\n",
      "error for snapshot 867: 0.000118\n",
      "torch.Size([3571, 2])\n",
      "error for snapshot 868: 0.000124\n",
      "torch.Size([3571, 2])\n",
      "error for snapshot 869: 0.000126\n",
      "torch.Size([3571, 2])\n",
      "error for snapshot 870: 0.000120\n",
      "torch.Size([3571, 2])\n",
      "error for snapshot 871: 0.000115\n",
      "torch.Size([3571, 2])\n"
     ]
    },
    {
     "name": "stderr",
     "output_type": "stream",
     "text": [
      " 44% (880 of 2000) |#########            | Elapsed Time: 0:00:21 ETA:   0:00:26"
     ]
    },
    {
     "name": "stdout",
     "output_type": "stream",
     "text": [
      "error for snapshot 872: 0.000111\n",
      "torch.Size([3571, 2])\n",
      "error for snapshot 873: 0.000108\n",
      "torch.Size([3571, 2])\n",
      "error for snapshot 874: 0.000104\n",
      "torch.Size([3571, 2])\n",
      "error for snapshot 875: 0.000101\n",
      "torch.Size([3571, 2])\n",
      "error for snapshot 876: 0.000097\n",
      "torch.Size([3571, 2])\n",
      "error for snapshot 877: 0.000094\n",
      "torch.Size([3571, 2])\n",
      "error for snapshot 878: 0.000091\n",
      "torch.Size([3571, 2])\n",
      "error for snapshot 879: 0.000083\n",
      "torch.Size([3571, 2])\n",
      "error for snapshot 880: 0.000077\n",
      "torch.Size([3571, 2])\n"
     ]
    },
    {
     "name": "stderr",
     "output_type": "stream",
     "text": [
      " 44% (890 of 2000) |#########            | Elapsed Time: 0:00:21 ETA:   0:00:26"
     ]
    },
    {
     "name": "stdout",
     "output_type": "stream",
     "text": [
      "error for snapshot 881: 0.000075\n",
      "torch.Size([3571, 2])\n",
      "error for snapshot 882: 0.000075\n",
      "torch.Size([3571, 2])\n",
      "error for snapshot 883: 0.000074\n",
      "torch.Size([3571, 2])\n",
      "error for snapshot 884: 0.000068\n",
      "torch.Size([3571, 2])\n",
      "error for snapshot 885: 0.000064\n",
      "torch.Size([3571, 2])\n",
      "error for snapshot 886: 0.000065\n",
      "torch.Size([3571, 2])\n",
      "error for snapshot 887: 0.000068\n",
      "torch.Size([3571, 2])\n",
      "error for snapshot 888: 0.000069\n",
      "torch.Size([3571, 2])\n",
      "error for snapshot 889: 0.000068\n",
      "torch.Size([3571, 2])\n"
     ]
    },
    {
     "name": "stderr",
     "output_type": "stream",
     "text": [
      "\r",
      "                                                                               \r",
      "\r",
      " 44% (895 of 2000) |#########            | Elapsed Time: 0:00:21 ETA:   0:00:25"
     ]
    },
    {
     "name": "stdout",
     "output_type": "stream",
     "text": [
      "error for snapshot 890: 0.000068\n",
      "torch.Size([3571, 2])\n",
      "error for snapshot 891: 0.000070\n",
      "torch.Size([3571, 2])\n",
      "error for snapshot 892: 0.000081\n",
      "torch.Size([3571, 2])\n",
      "error for snapshot 893: 0.000089\n",
      "torch.Size([3571, 2])\n",
      "error for snapshot 894: 0.000087\n",
      "torch.Size([3571, 2])\n",
      "error for snapshot 895: 0.000081\n",
      "torch.Size([3571, 2])\n",
      "error for snapshot 896: 0.000079\n",
      "torch.Size([3571, 2])\n",
      "error for snapshot 897: 0.000078\n",
      "torch.Size([3571, 2])\n",
      "error for snapshot 898: 0.000079\n",
      "torch.Size([3571, 2])\n"
     ]
    },
    {
     "name": "stderr",
     "output_type": "stream",
     "text": [
      " 45% (905 of 2000) |#########            | Elapsed Time: 0:00:22 ETA:   0:00:25"
     ]
    },
    {
     "name": "stdout",
     "output_type": "stream",
     "text": [
      "error for snapshot 899: 0.000083\n",
      "torch.Size([3571, 2])\n",
      "error for snapshot 900: 0.000085\n",
      "torch.Size([3571, 2])\n",
      "error for snapshot 901: 0.000089\n",
      "torch.Size([3571, 2])\n",
      "error for snapshot 902: 0.000084\n",
      "torch.Size([3571, 2])\n",
      "error for snapshot 903: 0.000075\n",
      "torch.Size([3571, 2])\n",
      "error for snapshot 904: 0.000080\n",
      "torch.Size([3571, 2])\n",
      "error for snapshot 905: 0.000086\n",
      "torch.Size([3571, 2])\n",
      "error for snapshot 906: 0.000089\n",
      "torch.Size([3571, 2])\n",
      "error for snapshot 907: 0.000091\n",
      "torch.Size([3571, 2])\n"
     ]
    },
    {
     "name": "stderr",
     "output_type": "stream",
     "text": [
      " 45% (915 of 2000) |#########            | Elapsed Time: 0:00:22 ETA:   0:00:25"
     ]
    },
    {
     "name": "stdout",
     "output_type": "stream",
     "text": [
      "error for snapshot 908: 0.000092\n",
      "torch.Size([3571, 2])\n",
      "error for snapshot 909: 0.000088\n",
      "torch.Size([3571, 2])\n",
      "error for snapshot 910: 0.000085\n",
      "torch.Size([3571, 2])\n",
      "error for snapshot 911: 0.000079\n",
      "torch.Size([3571, 2])\n",
      "error for snapshot 912: 0.000072\n",
      "torch.Size([3571, 2])\n",
      "error for snapshot 913: 0.000064\n",
      "torch.Size([3571, 2])\n",
      "error for snapshot 914: 0.000060\n",
      "torch.Size([3571, 2])\n",
      "error for snapshot 915: 0.000065\n",
      "torch.Size([3571, 2])\n",
      "error for snapshot 916: 0.000066\n",
      "torch.Size([3571, 2])\n"
     ]
    },
    {
     "name": "stderr",
     "output_type": "stream",
     "text": [
      " 46% (925 of 2000) |#########            | Elapsed Time: 0:00:22 ETA:   0:00:25"
     ]
    },
    {
     "name": "stdout",
     "output_type": "stream",
     "text": [
      "error for snapshot 917: 0.000063\n",
      "torch.Size([3571, 2])\n",
      "error for snapshot 918: 0.000062\n",
      "torch.Size([3571, 2])\n",
      "error for snapshot 919: 0.000060\n",
      "torch.Size([3571, 2])\n",
      "error for snapshot 920: 0.000055\n",
      "torch.Size([3571, 2])\n",
      "error for snapshot 921: 0.000054\n",
      "torch.Size([3571, 2])\n",
      "error for snapshot 922: 0.000053\n",
      "torch.Size([3571, 2])\n",
      "error for snapshot 923: 0.000049\n",
      "torch.Size([3571, 2])\n",
      "error for snapshot 924: 0.000048\n",
      "torch.Size([3571, 2])\n",
      "error for snapshot 925: 0.000052\n",
      "torch.Size([3571, 2])\n"
     ]
    },
    {
     "name": "stderr",
     "output_type": "stream",
     "text": [
      " 46% (935 of 2000) |#########            | Elapsed Time: 0:00:22 ETA:   0:00:24"
     ]
    },
    {
     "name": "stdout",
     "output_type": "stream",
     "text": [
      "error for snapshot 926: 0.000052\n",
      "torch.Size([3571, 2])\n",
      "error for snapshot 927: 0.000051\n",
      "torch.Size([3571, 2])\n",
      "error for snapshot 928: 0.000051\n",
      "torch.Size([3571, 2])\n",
      "error for snapshot 929: 0.000055\n",
      "torch.Size([3571, 2])\n",
      "error for snapshot 930: 0.000057\n",
      "torch.Size([3571, 2])\n",
      "error for snapshot 931: 0.000060\n",
      "torch.Size([3571, 2])\n",
      "error for snapshot 932: 0.000065\n",
      "torch.Size([3571, 2])\n",
      "error for snapshot 933: 0.000060\n",
      "torch.Size([3571, 2])\n",
      "error for snapshot 934: 0.000056\n",
      "torch.Size([3571, 2])\n"
     ]
    },
    {
     "name": "stderr",
     "output_type": "stream",
     "text": [
      " 47% (942 of 2000) |#########            | Elapsed Time: 0:00:22 ETA:   0:00:24"
     ]
    },
    {
     "name": "stdout",
     "output_type": "stream",
     "text": [
      "error for snapshot 935: 0.000052\n",
      "torch.Size([3571, 2])\n",
      "error for snapshot 936: 0.000056\n",
      "torch.Size([3571, 2])\n",
      "error for snapshot 937: 0.000056\n",
      "torch.Size([3571, 2])\n",
      "error for snapshot 938: 0.000059\n",
      "torch.Size([3571, 2])\n",
      "error for snapshot 939: 0.000056\n",
      "torch.Size([3571, 2])\n",
      "error for snapshot 940: 0.000055\n",
      "torch.Size([3571, 2])\n",
      "error for snapshot 941: 0.000057\n",
      "torch.Size([3571, 2])\n",
      "error for snapshot 942: 0.000063\n",
      "torch.Size([3571, 2])\n",
      "error for snapshot 943: 0.000066\n",
      "torch.Size([3571, 2])\n"
     ]
    },
    {
     "name": "stderr",
     "output_type": "stream",
     "text": [
      " 47% (952 of 2000) |#########            | Elapsed Time: 0:00:23 ETA:   0:00:24"
     ]
    },
    {
     "name": "stdout",
     "output_type": "stream",
     "text": [
      "error for snapshot 944: 0.000072\n",
      "torch.Size([3571, 2])\n",
      "error for snapshot 945: 0.000072\n",
      "torch.Size([3571, 2])\n",
      "error for snapshot 946: 0.000070\n",
      "torch.Size([3571, 2])\n",
      "error for snapshot 947: 0.000072\n",
      "torch.Size([3571, 2])\n",
      "error for snapshot 948: 0.000076\n",
      "torch.Size([3571, 2])\n",
      "error for snapshot 949: 0.000071\n",
      "torch.Size([3571, 2])\n",
      "error for snapshot 950: 0.000072\n",
      "torch.Size([3571, 2])\n",
      "error for snapshot 951: 0.000069\n",
      "torch.Size([3571, 2])\n",
      "error for snapshot 952: 0.000064\n",
      "torch.Size([3571, 2])\n"
     ]
    },
    {
     "name": "stderr",
     "output_type": "stream",
     "text": [
      " 48% (962 of 2000) |##########           | Elapsed Time: 0:00:23 ETA:   0:00:24"
     ]
    },
    {
     "name": "stdout",
     "output_type": "stream",
     "text": [
      "error for snapshot 953: 0.000062\n",
      "torch.Size([3571, 2])\n",
      "error for snapshot 954: 0.000063\n",
      "torch.Size([3571, 2])\n",
      "error for snapshot 955: 0.000062\n",
      "torch.Size([3571, 2])\n",
      "error for snapshot 956: 0.000063\n",
      "torch.Size([3571, 2])\n",
      "error for snapshot 957: 0.000067\n",
      "torch.Size([3571, 2])\n",
      "error for snapshot 958: 0.000071\n",
      "torch.Size([3571, 2])\n",
      "error for snapshot 959: 0.000070\n",
      "torch.Size([3571, 2])\n",
      "error for snapshot 960: 0.000063\n",
      "torch.Size([3571, 2])\n",
      "error for snapshot 961: 0.000057\n",
      "torch.Size([3571, 2])\n"
     ]
    },
    {
     "name": "stderr",
     "output_type": "stream",
     "text": [
      "\r",
      "                                                                               \r",
      "\r",
      " 48% (967 of 2000) |##########           | Elapsed Time: 0:00:23 ETA:   0:00:24"
     ]
    },
    {
     "name": "stdout",
     "output_type": "stream",
     "text": [
      "error for snapshot 962: 0.000054\n",
      "torch.Size([3571, 2])\n",
      "error for snapshot 963: 0.000056\n",
      "torch.Size([3571, 2])\n",
      "error for snapshot 964: 0.000059\n",
      "torch.Size([3571, 2])\n",
      "error for snapshot 965: 0.000065\n",
      "torch.Size([3571, 2])\n",
      "error for snapshot 966: 0.000063\n",
      "torch.Size([3571, 2])\n",
      "error for snapshot 967: 0.000069\n",
      "torch.Size([3571, 2])\n",
      "error for snapshot 968: 0.000076\n",
      "torch.Size([3571, 2])\n",
      "error for snapshot 969: 0.000076\n",
      "torch.Size([3571, 2])\n",
      "error for snapshot 970: 0.000072\n",
      "torch.Size([3571, 2])\n"
     ]
    },
    {
     "name": "stderr",
     "output_type": "stream",
     "text": [
      " 48% (977 of 2000) |##########           | Elapsed Time: 0:00:23 ETA:   0:00:23"
     ]
    },
    {
     "name": "stdout",
     "output_type": "stream",
     "text": [
      "error for snapshot 971: 0.000070\n",
      "torch.Size([3571, 2])\n",
      "error for snapshot 972: 0.000069\n",
      "torch.Size([3571, 2])\n",
      "error for snapshot 973: 0.000068\n",
      "torch.Size([3571, 2])\n",
      "error for snapshot 974: 0.000070\n",
      "torch.Size([3571, 2])\n",
      "error for snapshot 975: 0.000071\n",
      "torch.Size([3571, 2])\n",
      "error for snapshot 976: 0.000072\n",
      "torch.Size([3571, 2])\n",
      "error for snapshot 977: 0.000071\n",
      "torch.Size([3571, 2])\n",
      "error for snapshot 978: 0.000066\n",
      "torch.Size([3571, 2])\n",
      "error for snapshot 979: 0.000066\n",
      "torch.Size([3571, 2])\n"
     ]
    },
    {
     "name": "stderr",
     "output_type": "stream",
     "text": [
      " 49% (987 of 2000) |##########           | Elapsed Time: 0:00:23 ETA:   0:00:23"
     ]
    },
    {
     "name": "stdout",
     "output_type": "stream",
     "text": [
      "error for snapshot 980: 0.000075\n",
      "torch.Size([3571, 2])\n",
      "error for snapshot 981: 0.000082\n",
      "torch.Size([3571, 2])\n",
      "error for snapshot 982: 0.000086\n",
      "torch.Size([3571, 2])\n",
      "error for snapshot 983: 0.000090\n",
      "torch.Size([3571, 2])\n",
      "error for snapshot 984: 0.000090\n",
      "torch.Size([3571, 2])\n",
      "error for snapshot 985: 0.000089\n",
      "torch.Size([3571, 2])\n",
      "error for snapshot 986: 0.000084\n",
      "torch.Size([3571, 2])\n",
      "error for snapshot 987: 0.000075\n",
      "torch.Size([3571, 2])\n",
      "error for snapshot 988: 0.000071\n",
      "torch.Size([3571, 2])\n"
     ]
    },
    {
     "name": "stderr",
     "output_type": "stream",
     "text": [
      " 49% (997 of 2000) |##########           | Elapsed Time: 0:00:24 ETA:   0:00:23"
     ]
    },
    {
     "name": "stdout",
     "output_type": "stream",
     "text": [
      "error for snapshot 989: 0.000068\n",
      "torch.Size([3571, 2])\n",
      "error for snapshot 990: 0.000073\n",
      "torch.Size([3571, 2])\n",
      "error for snapshot 991: 0.000075\n",
      "torch.Size([3571, 2])\n",
      "error for snapshot 992: 0.000070\n",
      "torch.Size([3571, 2])\n",
      "error for snapshot 993: 0.000067\n",
      "torch.Size([3571, 2])\n",
      "error for snapshot 994: 0.000065\n",
      "torch.Size([3571, 2])\n",
      "error for snapshot 995: 0.000058\n",
      "torch.Size([3571, 2])\n",
      "error for snapshot 996: 0.000053\n",
      "torch.Size([3571, 2])\n",
      "error for snapshot 997: 0.000052\n",
      "torch.Size([3571, 2])\n"
     ]
    },
    {
     "name": "stderr",
     "output_type": "stream",
     "text": [
      "\r",
      "                                                                               \r",
      "\r",
      " 50% (1002 of 2000) |##########          | Elapsed Time: 0:00:24 ETA:   0:00:23"
     ]
    },
    {
     "name": "stdout",
     "output_type": "stream",
     "text": [
      "error for snapshot 998: 0.000049\n",
      "torch.Size([3571, 2])\n",
      "error for snapshot 999: 0.000048\n",
      "torch.Size([3571, 2])\n",
      "error for snapshot 1000: 0.000052\n",
      "torch.Size([3571, 2])\n",
      "error for snapshot 1001: 0.000054\n",
      "torch.Size([3571, 2])\n",
      "error for snapshot 1002: 0.000052\n",
      "torch.Size([3571, 2])\n",
      "error for snapshot 1003: 0.000051\n",
      "torch.Size([3571, 2])\n",
      "error for snapshot 1004: 0.000053\n",
      "torch.Size([3571, 2])\n",
      "error for snapshot 1005: 0.000055\n",
      "torch.Size([3571, 2])\n",
      "error for snapshot 1006: 0.000058\n",
      "torch.Size([3571, 2])\n"
     ]
    },
    {
     "name": "stderr",
     "output_type": "stream",
     "text": [
      " 50% (1012 of 2000) |##########          | Elapsed Time: 0:00:24 ETA:   0:00:23"
     ]
    },
    {
     "name": "stdout",
     "output_type": "stream",
     "text": [
      "error for snapshot 1007: 0.000063\n",
      "torch.Size([3571, 2])\n",
      "error for snapshot 1008: 0.000063\n",
      "torch.Size([3571, 2])\n",
      "error for snapshot 1009: 0.000061\n",
      "torch.Size([3571, 2])\n",
      "error for snapshot 1010: 0.000056\n",
      "torch.Size([3571, 2])\n",
      "error for snapshot 1011: 0.000058\n",
      "torch.Size([3571, 2])\n",
      "error for snapshot 1012: 0.000060\n",
      "torch.Size([3571, 2])\n",
      "error for snapshot 1013: 0.000060\n",
      "torch.Size([3571, 2])\n",
      "error for snapshot 1014: 0.000053\n",
      "torch.Size([3571, 2])\n",
      "error for snapshot 1015: 0.000047\n",
      "torch.Size([3571, 2])\n"
     ]
    },
    {
     "name": "stderr",
     "output_type": "stream",
     "text": [
      " 51% (1022 of 2000) |##########          | Elapsed Time: 0:00:24 ETA:   0:00:22"
     ]
    },
    {
     "name": "stdout",
     "output_type": "stream",
     "text": [
      "error for snapshot 1016: 0.000048\n",
      "torch.Size([3571, 2])\n",
      "error for snapshot 1017: 0.000056\n",
      "torch.Size([3571, 2])\n",
      "error for snapshot 1018: 0.000063\n",
      "torch.Size([3571, 2])\n",
      "error for snapshot 1019: 0.000074\n",
      "torch.Size([3571, 2])\n",
      "error for snapshot 1020: 0.000073\n",
      "torch.Size([3571, 2])\n",
      "error for snapshot 1021: 0.000071\n",
      "torch.Size([3571, 2])\n",
      "error for snapshot 1022: 0.000068\n",
      "torch.Size([3571, 2])\n",
      "error for snapshot 1023: 0.000068\n",
      "torch.Size([3571, 2])\n",
      "error for snapshot 1024: 0.000061\n",
      "torch.Size([3571, 2])\n"
     ]
    },
    {
     "name": "stderr",
     "output_type": "stream",
     "text": [
      " 51% (1032 of 2000) |##########          | Elapsed Time: 0:00:25 ETA:   0:00:22"
     ]
    },
    {
     "name": "stdout",
     "output_type": "stream",
     "text": [
      "error for snapshot 1025: 0.000060\n",
      "torch.Size([3571, 2])\n",
      "error for snapshot 1026: 0.000060\n",
      "torch.Size([3571, 2])\n",
      "error for snapshot 1027: 0.000055\n",
      "torch.Size([3571, 2])\n",
      "error for snapshot 1028: 0.000053\n",
      "torch.Size([3571, 2])\n",
      "error for snapshot 1029: 0.000056\n",
      "torch.Size([3571, 2])\n",
      "error for snapshot 1030: 0.000055\n",
      "torch.Size([3571, 2])\n",
      "error for snapshot 1031: 0.000055\n",
      "torch.Size([3571, 2])\n",
      "error for snapshot 1032: 0.000057\n",
      "torch.Size([3571, 2])\n",
      "error for snapshot 1033: 0.000060\n",
      "torch.Size([3571, 2])\n"
     ]
    },
    {
     "name": "stderr",
     "output_type": "stream",
     "text": [
      " 52% (1042 of 2000) |##########          | Elapsed Time: 0:00:25 ETA:   0:00:22"
     ]
    },
    {
     "name": "stdout",
     "output_type": "stream",
     "text": [
      "error for snapshot 1034: 0.000057\n",
      "torch.Size([3571, 2])\n",
      "error for snapshot 1035: 0.000052\n",
      "torch.Size([3571, 2])\n",
      "error for snapshot 1036: 0.000048\n",
      "torch.Size([3571, 2])\n",
      "error for snapshot 1037: 0.000042\n",
      "torch.Size([3571, 2])\n",
      "error for snapshot 1038: 0.000041\n",
      "torch.Size([3571, 2])\n",
      "error for snapshot 1039: 0.000045\n",
      "torch.Size([3571, 2])\n",
      "error for snapshot 1040: 0.000049\n",
      "torch.Size([3571, 2])\n",
      "error for snapshot 1041: 0.000048\n",
      "torch.Size([3571, 2])\n",
      "error for snapshot 1042: 0.000054\n",
      "torch.Size([3571, 2])\n"
     ]
    },
    {
     "name": "stderr",
     "output_type": "stream",
     "text": [
      "\r",
      "                                                                               \r",
      "\r",
      " 52% (1047 of 2000) |##########          | Elapsed Time: 0:00:25 ETA:   0:00:22"
     ]
    },
    {
     "name": "stdout",
     "output_type": "stream",
     "text": [
      "error for snapshot 1043: 0.000064\n",
      "torch.Size([3571, 2])\n",
      "error for snapshot 1044: 0.000068\n",
      "torch.Size([3571, 2])\n",
      "error for snapshot 1045: 0.000062\n",
      "torch.Size([3571, 2])\n",
      "error for snapshot 1046: 0.000059\n",
      "torch.Size([3571, 2])\n",
      "error for snapshot 1047: 0.000061\n",
      "torch.Size([3571, 2])\n",
      "error for snapshot 1048: 0.000062\n",
      "torch.Size([3571, 2])\n",
      "error for snapshot 1049: 0.000064\n",
      "torch.Size([3571, 2])\n",
      "error for snapshot 1050: 0.000066\n",
      "torch.Size([3571, 2])\n",
      "error for snapshot 1051: 0.000066\n",
      "torch.Size([3571, 2])\n"
     ]
    },
    {
     "name": "stderr",
     "output_type": "stream",
     "text": [
      " 52% (1057 of 2000) |##########          | Elapsed Time: 0:00:25 ETA:   0:00:22"
     ]
    },
    {
     "name": "stdout",
     "output_type": "stream",
     "text": [
      "error for snapshot 1052: 0.000066\n",
      "torch.Size([3571, 2])\n",
      "error for snapshot 1053: 0.000059\n",
      "torch.Size([3571, 2])\n",
      "error for snapshot 1054: 0.000053\n",
      "torch.Size([3571, 2])\n",
      "error for snapshot 1055: 0.000062\n",
      "torch.Size([3571, 2])\n",
      "error for snapshot 1056: 0.000070\n",
      "torch.Size([3571, 2])\n",
      "error for snapshot 1057: 0.000076\n",
      "torch.Size([3571, 2])\n",
      "error for snapshot 1058: 0.000077\n",
      "torch.Size([3571, 2])\n",
      "error for snapshot 1059: 0.000078\n",
      "torch.Size([3571, 2])\n",
      "error for snapshot 1060: 0.000074\n",
      "torch.Size([3571, 2])\n"
     ]
    },
    {
     "name": "stderr",
     "output_type": "stream",
     "text": [
      " 53% (1069 of 2000) |##########          | Elapsed Time: 0:00:25 ETA:   0:00:21"
     ]
    },
    {
     "name": "stdout",
     "output_type": "stream",
     "text": [
      "error for snapshot 1061: 0.000068\n",
      "torch.Size([3571, 2])\n",
      "error for snapshot 1062: 0.000060\n",
      "torch.Size([3571, 2])\n",
      "error for snapshot 1063: 0.000053\n",
      "torch.Size([3571, 2])\n",
      "error for snapshot 1064: 0.000049\n",
      "torch.Size([3571, 2])\n",
      "error for snapshot 1065: 0.000051\n",
      "torch.Size([3571, 2])\n",
      "error for snapshot 1066: 0.000054\n",
      "torch.Size([3571, 2])\n",
      "error for snapshot 1067: 0.000051\n",
      "torch.Size([3571, 2])\n",
      "error for snapshot 1068: 0.000048\n",
      "torch.Size([3571, 2])\n",
      "error for snapshot 1069: 0.000049\n",
      "torch.Size([3571, 2])\n"
     ]
    },
    {
     "name": "stderr",
     "output_type": "stream",
     "text": [
      "\r",
      "                                                                               \r",
      "\r",
      " 53% (1074 of 2000) |##########          | Elapsed Time: 0:00:26 ETA:   0:00:21"
     ]
    },
    {
     "name": "stdout",
     "output_type": "stream",
     "text": [
      "error for snapshot 1070: 0.000048\n",
      "torch.Size([3571, 2])\n",
      "error for snapshot 1071: 0.000044\n",
      "torch.Size([3571, 2])\n",
      "error for snapshot 1072: 0.000041\n",
      "torch.Size([3571, 2])\n",
      "error for snapshot 1073: 0.000040\n",
      "torch.Size([3571, 2])\n",
      "error for snapshot 1074: 0.000037\n",
      "torch.Size([3571, 2])\n",
      "error for snapshot 1075: 0.000039\n",
      "torch.Size([3571, 2])\n",
      "error for snapshot 1076: 0.000045\n",
      "torch.Size([3571, 2])\n",
      "error for snapshot 1077: 0.000047\n",
      "torch.Size([3571, 2])\n",
      "error for snapshot 1078: 0.000047\n",
      "torch.Size([3571, 2])\n"
     ]
    },
    {
     "name": "stderr",
     "output_type": "stream",
     "text": [
      " 54% (1084 of 2000) |##########          | Elapsed Time: 0:00:26 ETA:   0:00:21"
     ]
    },
    {
     "name": "stdout",
     "output_type": "stream",
     "text": [
      "error for snapshot 1079: 0.000045\n",
      "torch.Size([3571, 2])\n",
      "error for snapshot 1080: 0.000047\n",
      "torch.Size([3571, 2])\n",
      "error for snapshot 1081: 0.000049\n",
      "torch.Size([3571, 2])\n",
      "error for snapshot 1082: 0.000054\n",
      "torch.Size([3571, 2])\n",
      "error for snapshot 1083: 0.000057\n",
      "torch.Size([3571, 2])\n",
      "error for snapshot 1084: 0.000053\n",
      "torch.Size([3571, 2])\n",
      "error for snapshot 1085: 0.000050\n",
      "torch.Size([3571, 2])\n",
      "error for snapshot 1086: 0.000046\n",
      "torch.Size([3571, 2])\n",
      "error for snapshot 1087: 0.000047\n",
      "torch.Size([3571, 2])\n"
     ]
    },
    {
     "name": "stderr",
     "output_type": "stream",
     "text": [
      " 54% (1094 of 2000) |##########          | Elapsed Time: 0:00:26 ETA:   0:00:21"
     ]
    },
    {
     "name": "stdout",
     "output_type": "stream",
     "text": [
      "error for snapshot 1088: 0.000047\n",
      "torch.Size([3571, 2])\n",
      "error for snapshot 1089: 0.000050\n",
      "torch.Size([3571, 2])\n",
      "error for snapshot 1090: 0.000047\n",
      "torch.Size([3571, 2])\n",
      "error for snapshot 1091: 0.000049\n",
      "torch.Size([3571, 2])\n",
      "error for snapshot 1092: 0.000049\n",
      "torch.Size([3571, 2])\n",
      "error for snapshot 1093: 0.000053\n",
      "torch.Size([3571, 2])\n",
      "error for snapshot 1094: 0.000056\n",
      "torch.Size([3571, 2])\n",
      "error for snapshot 1095: 0.000060\n",
      "torch.Size([3571, 2])\n",
      "error for snapshot 1096: 0.000058\n",
      "torch.Size([3571, 2])\n"
     ]
    },
    {
     "name": "stderr",
     "output_type": "stream",
     "text": [
      " 55% (1104 of 2000) |###########         | Elapsed Time: 0:00:26 ETA:   0:00:21"
     ]
    },
    {
     "name": "stdout",
     "output_type": "stream",
     "text": [
      "error for snapshot 1097: 0.000057\n",
      "torch.Size([3571, 2])\n",
      "error for snapshot 1098: 0.000060\n",
      "torch.Size([3571, 2])\n",
      "error for snapshot 1099: 0.000063\n",
      "torch.Size([3571, 2])\n",
      "error for snapshot 1100: 0.000059\n",
      "torch.Size([3571, 2])\n",
      "error for snapshot 1101: 0.000061\n",
      "torch.Size([3571, 2])\n",
      "error for snapshot 1102: 0.000059\n",
      "torch.Size([3571, 2])\n",
      "error for snapshot 1103: 0.000056\n",
      "torch.Size([3571, 2])\n",
      "error for snapshot 1104: 0.000055\n",
      "torch.Size([3571, 2])\n",
      "error for snapshot 1105: 0.000055\n",
      "torch.Size([3571, 2])\n"
     ]
    },
    {
     "name": "stderr",
     "output_type": "stream",
     "text": [
      " 55% (1114 of 2000) |###########         | Elapsed Time: 0:00:26 ETA:   0:00:20"
     ]
    },
    {
     "name": "stdout",
     "output_type": "stream",
     "text": [
      "error for snapshot 1106: 0.000056\n",
      "torch.Size([3571, 2])\n",
      "error for snapshot 1107: 0.000058\n",
      "torch.Size([3571, 2])\n",
      "error for snapshot 1108: 0.000060\n",
      "torch.Size([3571, 2])\n",
      "error for snapshot 1109: 0.000064\n",
      "torch.Size([3571, 2])\n",
      "error for snapshot 1110: 0.000060\n",
      "torch.Size([3571, 2])\n",
      "error for snapshot 1111: 0.000053\n",
      "torch.Size([3571, 2])\n",
      "error for snapshot 1112: 0.000047\n",
      "torch.Size([3571, 2])\n",
      "error for snapshot 1113: 0.000046\n",
      "torch.Size([3571, 2])\n",
      "error for snapshot 1114: 0.000048\n",
      "torch.Size([3571, 2])\n"
     ]
    },
    {
     "name": "stderr",
     "output_type": "stream",
     "text": [
      "\r",
      "                                                                               \r",
      "\r",
      " 55% (1119 of 2000) |###########         | Elapsed Time: 0:00:27 ETA:   0:00:20"
     ]
    },
    {
     "name": "stdout",
     "output_type": "stream",
     "text": [
      "error for snapshot 1115: 0.000051\n",
      "torch.Size([3571, 2])\n",
      "error for snapshot 1116: 0.000054\n",
      "torch.Size([3571, 2])\n",
      "error for snapshot 1117: 0.000053\n",
      "torch.Size([3571, 2])\n",
      "error for snapshot 1118: 0.000063\n",
      "torch.Size([3571, 2])\n",
      "error for snapshot 1119: 0.000071\n",
      "torch.Size([3571, 2])\n",
      "error for snapshot 1120: 0.000070\n",
      "torch.Size([3571, 2])\n",
      "error for snapshot 1121: 0.000066\n",
      "torch.Size([3571, 2])\n",
      "error for snapshot 1122: 0.000065\n",
      "torch.Size([3571, 2])\n",
      "error for snapshot 1123: 0.000064\n",
      "torch.Size([3571, 2])\n"
     ]
    },
    {
     "name": "stderr",
     "output_type": "stream",
     "text": [
      " 56% (1129 of 2000) |###########         | Elapsed Time: 0:00:27 ETA:   0:00:20"
     ]
    },
    {
     "name": "stdout",
     "output_type": "stream",
     "text": [
      "error for snapshot 1124: 0.000063\n",
      "torch.Size([3571, 2])\n",
      "error for snapshot 1125: 0.000065\n",
      "torch.Size([3571, 2])\n",
      "error for snapshot 1126: 0.000066\n",
      "torch.Size([3571, 2])\n",
      "error for snapshot 1127: 0.000068\n",
      "torch.Size([3571, 2])\n",
      "error for snapshot 1128: 0.000066\n",
      "torch.Size([3571, 2])\n",
      "error for snapshot 1129: 0.000060\n",
      "torch.Size([3571, 2])\n",
      "error for snapshot 1130: 0.000062\n",
      "torch.Size([3571, 2])\n",
      "error for snapshot 1131: 0.000071\n",
      "torch.Size([3571, 2])\n",
      "error for snapshot 1132: 0.000078\n",
      "torch.Size([3571, 2])\n"
     ]
    },
    {
     "name": "stderr",
     "output_type": "stream",
     "text": [
      " 56% (1139 of 2000) |###########         | Elapsed Time: 0:00:27 ETA:   0:00:20"
     ]
    },
    {
     "name": "stdout",
     "output_type": "stream",
     "text": [
      "error for snapshot 1133: 0.000081\n",
      "torch.Size([3571, 2])\n",
      "error for snapshot 1134: 0.000084\n",
      "torch.Size([3571, 2])\n",
      "error for snapshot 1135: 0.000080\n",
      "torch.Size([3571, 2])\n",
      "error for snapshot 1136: 0.000078\n",
      "torch.Size([3571, 2])\n",
      "error for snapshot 1137: 0.000074\n",
      "torch.Size([3571, 2])\n",
      "error for snapshot 1138: 0.000067\n",
      "torch.Size([3571, 2])\n",
      "error for snapshot 1139: 0.000063\n",
      "torch.Size([3571, 2])\n",
      "error for snapshot 1140: 0.000060\n",
      "torch.Size([3571, 2])\n",
      "error for snapshot 1141: 0.000067\n",
      "torch.Size([3571, 2])\n"
     ]
    },
    {
     "name": "stderr",
     "output_type": "stream",
     "text": [
      " 57% (1149 of 2000) |###########         | Elapsed Time: 0:00:27 ETA:   0:00:20"
     ]
    },
    {
     "name": "stdout",
     "output_type": "stream",
     "text": [
      "error for snapshot 1142: 0.000067\n",
      "torch.Size([3571, 2])\n",
      "error for snapshot 1143: 0.000063\n",
      "torch.Size([3571, 2])\n",
      "error for snapshot 1144: 0.000064\n",
      "torch.Size([3571, 2])\n",
      "error for snapshot 1145: 0.000062\n",
      "torch.Size([3571, 2])\n",
      "error for snapshot 1146: 0.000055\n",
      "torch.Size([3571, 2])\n",
      "error for snapshot 1147: 0.000054\n",
      "torch.Size([3571, 2])\n",
      "error for snapshot 1148: 0.000054\n",
      "torch.Size([3571, 2])\n",
      "error for snapshot 1149: 0.000050\n",
      "torch.Size([3571, 2])\n",
      "error for snapshot 1150: 0.000052\n",
      "torch.Size([3571, 2])\n"
     ]
    },
    {
     "name": "stderr",
     "output_type": "stream",
     "text": [
      " 57% (1159 of 2000) |###########         | Elapsed Time: 0:00:28 ETA:   0:00:19"
     ]
    },
    {
     "name": "stdout",
     "output_type": "stream",
     "text": [
      "error for snapshot 1151: 0.000054\n",
      "torch.Size([3571, 2])\n",
      "error for snapshot 1152: 0.000055\n",
      "torch.Size([3571, 2])\n",
      "error for snapshot 1153: 0.000053\n",
      "torch.Size([3571, 2])\n",
      "error for snapshot 1154: 0.000053\n",
      "torch.Size([3571, 2])\n",
      "error for snapshot 1155: 0.000055\n",
      "torch.Size([3571, 2])\n",
      "error for snapshot 1156: 0.000055\n",
      "torch.Size([3571, 2])\n",
      "error for snapshot 1157: 0.000059\n",
      "torch.Size([3571, 2])\n",
      "error for snapshot 1158: 0.000062\n",
      "torch.Size([3571, 2])\n",
      "error for snapshot 1159: 0.000061\n",
      "torch.Size([3571, 2])\n"
     ]
    },
    {
     "name": "stderr",
     "output_type": "stream",
     "text": [
      " 58% (1169 of 2000) |###########         | Elapsed Time: 0:00:28 ETA:   0:00:19"
     ]
    },
    {
     "name": "stdout",
     "output_type": "stream",
     "text": [
      "error for snapshot 1160: 0.000058\n",
      "torch.Size([3571, 2])\n",
      "error for snapshot 1161: 0.000055\n",
      "torch.Size([3571, 2])\n",
      "error for snapshot 1162: 0.000059\n",
      "torch.Size([3571, 2])\n",
      "error for snapshot 1163: 0.000061\n",
      "torch.Size([3571, 2])\n",
      "error for snapshot 1164: 0.000060\n",
      "torch.Size([3571, 2])\n",
      "error for snapshot 1165: 0.000050\n",
      "torch.Size([3571, 2])\n",
      "error for snapshot 1166: 0.000047\n",
      "torch.Size([3571, 2])\n",
      "error for snapshot 1167: 0.000051\n",
      "torch.Size([3571, 2])\n",
      "error for snapshot 1168: 0.000060\n",
      "torch.Size([3571, 2])\n"
     ]
    },
    {
     "name": "stderr",
     "output_type": "stream",
     "text": [
      "\r",
      "                                                                               \r",
      "\r",
      " 58% (1173 of 2000) |###########         | Elapsed Time: 0:00:28 ETA:   0:00:19"
     ]
    },
    {
     "name": "stdout",
     "output_type": "stream",
     "text": [
      "error for snapshot 1169: 0.000068\n",
      "torch.Size([3571, 2])\n",
      "error for snapshot 1170: 0.000076\n",
      "torch.Size([3571, 2])\n",
      "error for snapshot 1171: 0.000073\n",
      "torch.Size([3571, 2])\n",
      "error for snapshot 1172: 0.000070\n",
      "torch.Size([3571, 2])\n",
      "error for snapshot 1173: 0.000068\n",
      "torch.Size([3571, 2])\n",
      "error for snapshot 1174: 0.000068\n",
      "torch.Size([3571, 2])\n",
      "error for snapshot 1175: 0.000061\n",
      "torch.Size([3571, 2])\n",
      "error for snapshot 1176: 0.000063\n",
      "torch.Size([3571, 2])\n",
      "error for snapshot 1177: 0.000061\n",
      "torch.Size([3571, 2])\n"
     ]
    },
    {
     "name": "stderr",
     "output_type": "stream",
     "text": [
      " 59% (1183 of 2000) |###########         | Elapsed Time: 0:00:28 ETA:   0:00:19"
     ]
    },
    {
     "name": "stdout",
     "output_type": "stream",
     "text": [
      "error for snapshot 1178: 0.000056\n",
      "torch.Size([3571, 2])\n",
      "error for snapshot 1179: 0.000056\n",
      "torch.Size([3571, 2])\n",
      "error for snapshot 1180: 0.000058\n",
      "torch.Size([3571, 2])\n",
      "error for snapshot 1181: 0.000056\n",
      "torch.Size([3571, 2])\n",
      "error for snapshot 1182: 0.000056\n",
      "torch.Size([3571, 2])\n",
      "error for snapshot 1183: 0.000059\n",
      "torch.Size([3571, 2])\n",
      "error for snapshot 1184: 0.000061\n",
      "torch.Size([3571, 2])\n",
      "error for snapshot 1185: 0.000055\n",
      "torch.Size([3571, 2])\n",
      "error for snapshot 1186: 0.000051\n",
      "torch.Size([3571, 2])\n"
     ]
    },
    {
     "name": "stderr",
     "output_type": "stream",
     "text": [
      " 59% (1193 of 2000) |###########         | Elapsed Time: 0:00:28 ETA:   0:00:19"
     ]
    },
    {
     "name": "stdout",
     "output_type": "stream",
     "text": [
      "error for snapshot 1187: 0.000047\n",
      "torch.Size([3571, 2])\n",
      "error for snapshot 1188: 0.000041\n",
      "torch.Size([3571, 2])\n",
      "error for snapshot 1189: 0.000043\n",
      "torch.Size([3571, 2])\n",
      "error for snapshot 1190: 0.000047\n",
      "torch.Size([3571, 2])\n",
      "error for snapshot 1191: 0.000050\n",
      "torch.Size([3571, 2])\n",
      "error for snapshot 1192: 0.000049\n",
      "torch.Size([3571, 2])\n",
      "error for snapshot 1193: 0.000058\n",
      "torch.Size([3571, 2])\n",
      "error for snapshot 1194: 0.000068\n",
      "torch.Size([3571, 2])\n",
      "error for snapshot 1195: 0.000069\n",
      "torch.Size([3571, 2])\n"
     ]
    },
    {
     "name": "stderr",
     "output_type": "stream",
     "text": [
      " 60% (1203 of 2000) |############        | Elapsed Time: 0:00:29 ETA:   0:00:18"
     ]
    },
    {
     "name": "stdout",
     "output_type": "stream",
     "text": [
      "error for snapshot 1196: 0.000062\n",
      "torch.Size([3571, 2])\n",
      "error for snapshot 1197: 0.000060\n",
      "torch.Size([3571, 2])\n",
      "error for snapshot 1198: 0.000062\n",
      "torch.Size([3571, 2])\n",
      "error for snapshot 1199: 0.000064\n",
      "torch.Size([3571, 2])\n",
      "error for snapshot 1200: 0.000066\n",
      "torch.Size([3571, 2])\n",
      "error for snapshot 1201: 0.000068\n",
      "torch.Size([3571, 2])\n",
      "error for snapshot 1202: 0.000068\n",
      "torch.Size([3571, 2])\n",
      "error for snapshot 1203: 0.000066\n",
      "torch.Size([3571, 2])\n",
      "error for snapshot 1204: 0.000057\n",
      "torch.Size([3571, 2])\n"
     ]
    },
    {
     "name": "stderr",
     "output_type": "stream",
     "text": [
      " 60% (1213 of 2000) |############        | Elapsed Time: 0:00:29 ETA:   0:00:18"
     ]
    },
    {
     "name": "stdout",
     "output_type": "stream",
     "text": [
      "error for snapshot 1205: 0.000055\n",
      "torch.Size([3571, 2])\n",
      "error for snapshot 1206: 0.000066\n",
      "torch.Size([3571, 2])\n",
      "error for snapshot 1207: 0.000073\n",
      "torch.Size([3571, 2])\n",
      "error for snapshot 1208: 0.000079\n",
      "torch.Size([3571, 2])\n",
      "error for snapshot 1209: 0.000079\n",
      "torch.Size([3571, 2])\n",
      "error for snapshot 1210: 0.000078\n",
      "torch.Size([3571, 2])\n",
      "error for snapshot 1211: 0.000076\n",
      "torch.Size([3571, 2])\n",
      "error for snapshot 1212: 0.000068\n",
      "torch.Size([3571, 2])\n",
      "error for snapshot 1213: 0.000059\n",
      "torch.Size([3571, 2])\n"
     ]
    },
    {
     "name": "stderr",
     "output_type": "stream",
     "text": [
      " 61% (1221 of 2000) |############        | Elapsed Time: 0:00:29 ETA:   0:00:18"
     ]
    },
    {
     "name": "stdout",
     "output_type": "stream",
     "text": [
      "error for snapshot 1214: 0.000052\n",
      "torch.Size([3571, 2])\n",
      "error for snapshot 1215: 0.000050\n",
      "torch.Size([3571, 2])\n",
      "error for snapshot 1216: 0.000053\n",
      "torch.Size([3571, 2])\n",
      "error for snapshot 1217: 0.000054\n",
      "torch.Size([3571, 2])\n",
      "error for snapshot 1218: 0.000051\n",
      "torch.Size([3571, 2])\n",
      "error for snapshot 1219: 0.000049\n",
      "torch.Size([3571, 2])\n",
      "error for snapshot 1220: 0.000051\n",
      "torch.Size([3571, 2])\n",
      "error for snapshot 1221: 0.000048\n",
      "torch.Size([3571, 2])\n",
      "error for snapshot 1222: 0.000045\n",
      "torch.Size([3571, 2])\n"
     ]
    },
    {
     "name": "stderr",
     "output_type": "stream",
     "text": [
      " 61% (1231 of 2000) |############        | Elapsed Time: 0:00:29 ETA:   0:00:18"
     ]
    },
    {
     "name": "stdout",
     "output_type": "stream",
     "text": [
      "error for snapshot 1223: 0.000042\n",
      "torch.Size([3571, 2])\n",
      "error for snapshot 1224: 0.000041\n",
      "torch.Size([3571, 2])\n",
      "error for snapshot 1225: 0.000038\n",
      "torch.Size([3571, 2])\n",
      "error for snapshot 1226: 0.000043\n",
      "torch.Size([3571, 2])\n",
      "error for snapshot 1227: 0.000048\n",
      "torch.Size([3571, 2])\n",
      "error for snapshot 1228: 0.000049\n",
      "torch.Size([3571, 2])\n",
      "error for snapshot 1229: 0.000048\n",
      "torch.Size([3571, 2])\n",
      "error for snapshot 1230: 0.000046\n",
      "torch.Size([3571, 2])\n",
      "error for snapshot 1231: 0.000049\n",
      "torch.Size([3571, 2])\n"
     ]
    },
    {
     "name": "stderr",
     "output_type": "stream",
     "text": [
      "\r",
      "                                                                               \r",
      "\r",
      " 61% (1236 of 2000) |############        | Elapsed Time: 0:00:29 ETA:   0:00:18"
     ]
    },
    {
     "name": "stdout",
     "output_type": "stream",
     "text": [
      "error for snapshot 1232: 0.000052\n",
      "torch.Size([3571, 2])\n",
      "error for snapshot 1233: 0.000057\n",
      "torch.Size([3571, 2])\n",
      "error for snapshot 1234: 0.000058\n",
      "torch.Size([3571, 2])\n",
      "error for snapshot 1235: 0.000055\n",
      "torch.Size([3571, 2])\n",
      "error for snapshot 1236: 0.000050\n",
      "torch.Size([3571, 2])\n",
      "error for snapshot 1237: 0.000048\n",
      "torch.Size([3571, 2])\n",
      "error for snapshot 1238: 0.000048\n",
      "torch.Size([3571, 2])\n",
      "error for snapshot 1239: 0.000050\n",
      "torch.Size([3571, 2])\n",
      "error for snapshot 1240: 0.000052\n",
      "torch.Size([3571, 2])\n"
     ]
    },
    {
     "name": "stderr",
     "output_type": "stream",
     "text": [
      " 62% (1246 of 2000) |############        | Elapsed Time: 0:00:30 ETA:   0:00:17"
     ]
    },
    {
     "name": "stdout",
     "output_type": "stream",
     "text": [
      "error for snapshot 1241: 0.000049\n",
      "torch.Size([3571, 2])\n",
      "error for snapshot 1242: 0.000052\n",
      "torch.Size([3571, 2])\n",
      "error for snapshot 1243: 0.000053\n",
      "torch.Size([3571, 2])\n",
      "error for snapshot 1244: 0.000056\n",
      "torch.Size([3571, 2])\n",
      "error for snapshot 1245: 0.000059\n",
      "torch.Size([3571, 2])\n",
      "error for snapshot 1246: 0.000061\n",
      "torch.Size([3571, 2])\n",
      "error for snapshot 1247: 0.000059\n",
      "torch.Size([3571, 2])\n",
      "error for snapshot 1248: 0.000059\n",
      "torch.Size([3571, 2])\n",
      "error for snapshot 1249: 0.000064\n",
      "torch.Size([3571, 2])\n"
     ]
    },
    {
     "name": "stderr",
     "output_type": "stream",
     "text": [
      " 62% (1256 of 2000) |############        | Elapsed Time: 0:00:30 ETA:   0:00:17"
     ]
    },
    {
     "name": "stdout",
     "output_type": "stream",
     "text": [
      "error for snapshot 1250: 0.000065\n",
      "torch.Size([3571, 2])\n",
      "error for snapshot 1251: 0.000063\n",
      "torch.Size([3571, 2])\n",
      "error for snapshot 1252: 0.000064\n",
      "torch.Size([3571, 2])\n",
      "error for snapshot 1253: 0.000061\n",
      "torch.Size([3571, 2])\n",
      "error for snapshot 1254: 0.000059\n",
      "torch.Size([3571, 2])\n",
      "error for snapshot 1255: 0.000059\n",
      "torch.Size([3571, 2])\n",
      "error for snapshot 1256: 0.000058\n",
      "torch.Size([3571, 2])\n",
      "error for snapshot 1257: 0.000059\n",
      "torch.Size([3571, 2])\n",
      "error for snapshot 1258: 0.000061\n",
      "torch.Size([3571, 2])\n"
     ]
    },
    {
     "name": "stderr",
     "output_type": "stream",
     "text": [
      " 63% (1266 of 2000) |############        | Elapsed Time: 0:00:30 ETA:   0:00:17"
     ]
    },
    {
     "name": "stdout",
     "output_type": "stream",
     "text": [
      "error for snapshot 1259: 0.000064\n",
      "torch.Size([3571, 2])\n",
      "error for snapshot 1260: 0.000067\n",
      "torch.Size([3571, 2])\n",
      "error for snapshot 1261: 0.000062\n",
      "torch.Size([3571, 2])\n",
      "error for snapshot 1262: 0.000054\n",
      "torch.Size([3571, 2])\n",
      "error for snapshot 1263: 0.000050\n",
      "torch.Size([3571, 2])\n",
      "error for snapshot 1264: 0.000050\n",
      "torch.Size([3571, 2])\n",
      "error for snapshot 1265: 0.000052\n",
      "torch.Size([3571, 2])\n",
      "error for snapshot 1266: 0.000055\n",
      "torch.Size([3571, 2])\n",
      "error for snapshot 1267: 0.000056\n",
      "torch.Size([3571, 2])\n"
     ]
    },
    {
     "name": "stderr",
     "output_type": "stream",
     "text": [
      " 63% (1276 of 2000) |############        | Elapsed Time: 0:00:30 ETA:   0:00:17"
     ]
    },
    {
     "name": "stdout",
     "output_type": "stream",
     "text": [
      "error for snapshot 1268: 0.000058\n",
      "torch.Size([3571, 2])\n",
      "error for snapshot 1269: 0.000069\n",
      "torch.Size([3571, 2])\n",
      "error for snapshot 1270: 0.000074\n",
      "torch.Size([3571, 2])\n",
      "error for snapshot 1271: 0.000071\n",
      "torch.Size([3571, 2])\n",
      "error for snapshot 1272: 0.000067\n",
      "torch.Size([3571, 2])\n",
      "error for snapshot 1273: 0.000066\n",
      "torch.Size([3571, 2])\n",
      "error for snapshot 1274: 0.000065\n",
      "torch.Size([3571, 2])\n",
      "error for snapshot 1275: 0.000066\n",
      "torch.Size([3571, 2])\n",
      "error for snapshot 1276: 0.000068\n",
      "torch.Size([3571, 2])\n"
     ]
    },
    {
     "name": "stderr",
     "output_type": "stream",
     "text": [
      "\r",
      "                                                                               \r",
      "\r",
      " 64% (1281 of 2000) |############        | Elapsed Time: 0:00:30 ETA:   0:00:16"
     ]
    },
    {
     "name": "stdout",
     "output_type": "stream",
     "text": [
      "error for snapshot 1277: 0.000068\n",
      "torch.Size([3571, 2])\n",
      "error for snapshot 1278: 0.000070\n",
      "torch.Size([3571, 2])\n",
      "error for snapshot 1279: 0.000067\n",
      "torch.Size([3571, 2])\n",
      "error for snapshot 1280: 0.000061\n",
      "torch.Size([3571, 2])\n",
      "error for snapshot 1281: 0.000067\n",
      "torch.Size([3571, 2])\n",
      "error for snapshot 1282: 0.000075\n",
      "torch.Size([3571, 2])\n",
      "error for snapshot 1283: 0.000081\n",
      "torch.Size([3571, 2])\n",
      "error for snapshot 1284: 0.000083\n",
      "torch.Size([3571, 2])\n",
      "error for snapshot 1285: 0.000086\n",
      "torch.Size([3571, 2])\n"
     ]
    },
    {
     "name": "stderr",
     "output_type": "stream",
     "text": [
      " 64% (1291 of 2000) |############        | Elapsed Time: 0:00:31 ETA:   0:00:16"
     ]
    },
    {
     "name": "stdout",
     "output_type": "stream",
     "text": [
      "error for snapshot 1286: 0.000082\n",
      "torch.Size([3571, 2])\n",
      "error for snapshot 1287: 0.000079\n",
      "torch.Size([3571, 2])\n",
      "error for snapshot 1288: 0.000075\n",
      "torch.Size([3571, 2])\n",
      "error for snapshot 1289: 0.000070\n",
      "torch.Size([3571, 2])\n",
      "error for snapshot 1290: 0.000065\n",
      "torch.Size([3571, 2])\n",
      "error for snapshot 1291: 0.000065\n",
      "torch.Size([3571, 2])\n",
      "error for snapshot 1292: 0.000071\n",
      "torch.Size([3571, 2])\n",
      "error for snapshot 1293: 0.000068\n",
      "torch.Size([3571, 2])\n",
      "error for snapshot 1294: 0.000066\n",
      "torch.Size([3571, 2])\n"
     ]
    },
    {
     "name": "stderr",
     "output_type": "stream",
     "text": [
      " 65% (1301 of 2000) |#############       | Elapsed Time: 0:00:31 ETA:   0:00:16"
     ]
    },
    {
     "name": "stdout",
     "output_type": "stream",
     "text": [
      "error for snapshot 1295: 0.000068\n",
      "torch.Size([3571, 2])\n",
      "error for snapshot 1296: 0.000063\n",
      "torch.Size([3571, 2])\n",
      "error for snapshot 1297: 0.000058\n",
      "torch.Size([3571, 2])\n",
      "error for snapshot 1298: 0.000057\n",
      "torch.Size([3571, 2])\n",
      "error for snapshot 1299: 0.000055\n",
      "torch.Size([3571, 2])\n",
      "error for snapshot 1300: 0.000052\n",
      "torch.Size([3571, 2])\n",
      "error for snapshot 1301: 0.000056\n",
      "torch.Size([3571, 2])\n",
      "error for snapshot 1302: 0.000058\n",
      "torch.Size([3571, 2])\n",
      "error for snapshot 1303: 0.000057\n",
      "torch.Size([3571, 2])\n"
     ]
    },
    {
     "name": "stderr",
     "output_type": "stream",
     "text": [
      " 65% (1311 of 2000) |#############       | Elapsed Time: 0:00:31 ETA:   0:00:16"
     ]
    },
    {
     "name": "stdout",
     "output_type": "stream",
     "text": [
      "error for snapshot 1304: 0.000055\n",
      "torch.Size([3571, 2])\n",
      "error for snapshot 1305: 0.000056\n",
      "torch.Size([3571, 2])\n",
      "error for snapshot 1306: 0.000058\n",
      "torch.Size([3571, 2])\n",
      "error for snapshot 1307: 0.000058\n",
      "torch.Size([3571, 2])\n",
      "error for snapshot 1308: 0.000062\n",
      "torch.Size([3571, 2])\n",
      "error for snapshot 1309: 0.000064\n",
      "torch.Size([3571, 2])\n",
      "error for snapshot 1310: 0.000063\n",
      "torch.Size([3571, 2])\n",
      "error for snapshot 1311: 0.000059\n",
      "torch.Size([3571, 2])\n",
      "error for snapshot 1312: 0.000059\n",
      "torch.Size([3571, 2])\n"
     ]
    },
    {
     "name": "stderr",
     "output_type": "stream",
     "text": [
      " 66% (1321 of 2000) |#############       | Elapsed Time: 0:00:31 ETA:   0:00:16"
     ]
    },
    {
     "name": "stdout",
     "output_type": "stream",
     "text": [
      "error for snapshot 1313: 0.000063\n",
      "torch.Size([3571, 2])\n",
      "error for snapshot 1314: 0.000065\n",
      "torch.Size([3571, 2])\n",
      "error for snapshot 1315: 0.000060\n",
      "torch.Size([3571, 2])\n",
      "error for snapshot 1316: 0.000050\n",
      "torch.Size([3571, 2])\n",
      "error for snapshot 1317: 0.000050\n",
      "torch.Size([3571, 2])\n",
      "error for snapshot 1318: 0.000056\n",
      "torch.Size([3571, 2])\n",
      "error for snapshot 1319: 0.000064\n",
      "torch.Size([3571, 2])\n",
      "error for snapshot 1320: 0.000075\n",
      "torch.Size([3571, 2])\n",
      "error for snapshot 1321: 0.000079\n",
      "torch.Size([3571, 2])\n"
     ]
    },
    {
     "name": "stderr",
     "output_type": "stream",
     "text": [
      "\r",
      "                                                                               \r",
      "\r",
      " 66% (1326 of 2000) |#############       | Elapsed Time: 0:00:31 ETA:   0:00:15"
     ]
    },
    {
     "name": "stdout",
     "output_type": "stream",
     "text": [
      "error for snapshot 1322: 0.000077\n",
      "torch.Size([3571, 2])\n",
      "error for snapshot 1323: 0.000073\n",
      "torch.Size([3571, 2])\n",
      "error for snapshot 1324: 0.000073\n",
      "torch.Size([3571, 2])\n",
      "error for snapshot 1325: 0.000069\n",
      "torch.Size([3571, 2])\n",
      "error for snapshot 1326: 0.000064\n",
      "torch.Size([3571, 2])\n",
      "error for snapshot 1327: 0.000067\n",
      "torch.Size([3571, 2])\n",
      "error for snapshot 1328: 0.000062\n",
      "torch.Size([3571, 2])\n",
      "error for snapshot 1329: 0.000058\n",
      "torch.Size([3571, 2])\n",
      "error for snapshot 1330: 0.000060\n",
      "torch.Size([3571, 2])\n"
     ]
    },
    {
     "name": "stderr",
     "output_type": "stream",
     "text": [
      " 66% (1336 of 2000) |#############       | Elapsed Time: 0:00:32 ETA:   0:00:15"
     ]
    },
    {
     "name": "stdout",
     "output_type": "stream",
     "text": [
      "error for snapshot 1331: 0.000060\n",
      "torch.Size([3571, 2])\n",
      "error for snapshot 1332: 0.000059\n",
      "torch.Size([3571, 2])\n",
      "error for snapshot 1333: 0.000060\n",
      "torch.Size([3571, 2])\n",
      "error for snapshot 1334: 0.000063\n",
      "torch.Size([3571, 2])\n",
      "error for snapshot 1335: 0.000062\n",
      "torch.Size([3571, 2])\n",
      "error for snapshot 1336: 0.000056\n",
      "torch.Size([3571, 2])\n",
      "error for snapshot 1337: 0.000053\n",
      "torch.Size([3571, 2])\n",
      "error for snapshot 1338: 0.000048\n",
      "torch.Size([3571, 2])\n",
      "error for snapshot 1339: 0.000043\n",
      "torch.Size([3571, 2])\n"
     ]
    },
    {
     "name": "stderr",
     "output_type": "stream",
     "text": [
      " 67% (1346 of 2000) |#############       | Elapsed Time: 0:00:32 ETA:   0:00:15"
     ]
    },
    {
     "name": "stdout",
     "output_type": "stream",
     "text": [
      "error for snapshot 1340: 0.000047\n",
      "torch.Size([3571, 2])\n",
      "error for snapshot 1341: 0.000050\n",
      "torch.Size([3571, 2])\n",
      "error for snapshot 1342: 0.000052\n",
      "torch.Size([3571, 2])\n",
      "error for snapshot 1343: 0.000053\n",
      "torch.Size([3571, 2])\n",
      "error for snapshot 1344: 0.000064\n",
      "torch.Size([3571, 2])\n",
      "error for snapshot 1345: 0.000070\n",
      "torch.Size([3571, 2])\n",
      "error for snapshot 1346: 0.000068\n",
      "torch.Size([3571, 2])\n",
      "error for snapshot 1347: 0.000062\n",
      "torch.Size([3571, 2])\n",
      "error for snapshot 1348: 0.000062\n",
      "torch.Size([3571, 2])\n"
     ]
    },
    {
     "name": "stderr",
     "output_type": "stream",
     "text": [
      " 67% (1356 of 2000) |#############       | Elapsed Time: 0:00:32 ETA:   0:00:15"
     ]
    },
    {
     "name": "stdout",
     "output_type": "stream",
     "text": [
      "error for snapshot 1349: 0.000064\n",
      "torch.Size([3571, 2])\n",
      "error for snapshot 1350: 0.000066\n",
      "torch.Size([3571, 2])\n",
      "error for snapshot 1351: 0.000069\n",
      "torch.Size([3571, 2])\n",
      "error for snapshot 1352: 0.000069\n",
      "torch.Size([3571, 2])\n",
      "error for snapshot 1353: 0.000070\n",
      "torch.Size([3571, 2])\n",
      "error for snapshot 1354: 0.000065\n",
      "torch.Size([3571, 2])\n",
      "error for snapshot 1355: 0.000056\n",
      "torch.Size([3571, 2])\n",
      "error for snapshot 1356: 0.000058\n",
      "torch.Size([3571, 2])\n",
      "error for snapshot 1357: 0.000069\n",
      "torch.Size([3571, 2])\n"
     ]
    },
    {
     "name": "stderr",
     "output_type": "stream",
     "text": [
      " 68% (1366 of 2000) |#############       | Elapsed Time: 0:00:32 ETA:   0:00:14"
     ]
    },
    {
     "name": "stdout",
     "output_type": "stream",
     "text": [
      "error for snapshot 1358: 0.000075\n",
      "torch.Size([3571, 2])\n",
      "error for snapshot 1359: 0.000081\n",
      "torch.Size([3571, 2])\n",
      "error for snapshot 1360: 0.000081\n",
      "torch.Size([3571, 2])\n",
      "error for snapshot 1361: 0.000079\n",
      "torch.Size([3571, 2])\n",
      "error for snapshot 1362: 0.000076\n",
      "torch.Size([3571, 2])\n",
      "error for snapshot 1363: 0.000067\n",
      "torch.Size([3571, 2])\n",
      "error for snapshot 1364: 0.000058\n",
      "torch.Size([3571, 2])\n",
      "error for snapshot 1365: 0.000052\n",
      "torch.Size([3571, 2])\n",
      "error for snapshot 1366: 0.000052\n",
      "torch.Size([3571, 2])\n"
     ]
    },
    {
     "name": "stderr",
     "output_type": "stream",
     "text": [
      " 68% (1373 of 2000) |#############       | Elapsed Time: 0:00:33 ETA:   0:00:14"
     ]
    },
    {
     "name": "stdout",
     "output_type": "stream",
     "text": [
      "error for snapshot 1367: 0.000055\n",
      "torch.Size([3571, 2])\n",
      "error for snapshot 1368: 0.000054\n",
      "torch.Size([3571, 2])\n",
      "error for snapshot 1369: 0.000051\n",
      "torch.Size([3571, 2])\n",
      "error for snapshot 1370: 0.000050\n",
      "torch.Size([3571, 2])\n",
      "error for snapshot 1371: 0.000053\n",
      "torch.Size([3571, 2])\n",
      "error for snapshot 1372: 0.000048\n",
      "torch.Size([3571, 2])\n",
      "error for snapshot 1373: 0.000045\n",
      "torch.Size([3571, 2])\n",
      "error for snapshot 1374: 0.000043\n",
      "torch.Size([3571, 2])\n",
      "error for snapshot 1375: 0.000041\n",
      "torch.Size([3571, 2])\n"
     ]
    },
    {
     "name": "stderr",
     "output_type": "stream",
     "text": [
      " 69% (1383 of 2000) |#############       | Elapsed Time: 0:00:33 ETA:   0:00:14"
     ]
    },
    {
     "name": "stdout",
     "output_type": "stream",
     "text": [
      "error for snapshot 1376: 0.000039\n",
      "torch.Size([3571, 2])\n",
      "error for snapshot 1377: 0.000045\n",
      "torch.Size([3571, 2])\n",
      "error for snapshot 1378: 0.000050\n",
      "torch.Size([3571, 2])\n",
      "error for snapshot 1379: 0.000051\n",
      "torch.Size([3571, 2])\n",
      "error for snapshot 1380: 0.000048\n",
      "torch.Size([3571, 2])\n",
      "error for snapshot 1381: 0.000048\n",
      "torch.Size([3571, 2])\n",
      "error for snapshot 1382: 0.000051\n",
      "torch.Size([3571, 2])\n",
      "error for snapshot 1383: 0.000055\n",
      "torch.Size([3571, 2])\n",
      "error for snapshot 1384: 0.000060\n",
      "torch.Size([3571, 2])\n"
     ]
    },
    {
     "name": "stderr",
     "output_type": "stream",
     "text": [
      " 69% (1393 of 2000) |#############       | Elapsed Time: 0:00:33 ETA:   0:00:14"
     ]
    },
    {
     "name": "stdout",
     "output_type": "stream",
     "text": [
      "error for snapshot 1385: 0.000058\n",
      "torch.Size([3571, 2])\n",
      "error for snapshot 1386: 0.000055\n",
      "torch.Size([3571, 2])\n",
      "error for snapshot 1387: 0.000050\n",
      "torch.Size([3571, 2])\n",
      "error for snapshot 1388: 0.000049\n",
      "torch.Size([3571, 2])\n",
      "error for snapshot 1389: 0.000049\n",
      "torch.Size([3571, 2])\n",
      "error for snapshot 1390: 0.000053\n",
      "torch.Size([3571, 2])\n",
      "error for snapshot 1391: 0.000053\n",
      "torch.Size([3571, 2])\n",
      "error for snapshot 1392: 0.000052\n",
      "torch.Size([3571, 2])\n",
      "error for snapshot 1393: 0.000053\n",
      "torch.Size([3571, 2])\n"
     ]
    },
    {
     "name": "stderr",
     "output_type": "stream",
     "text": [
      "\r",
      "                                                                               \r",
      "\r",
      " 69% (1398 of 2000) |#############       | Elapsed Time: 0:00:33 ETA:   0:00:14"
     ]
    },
    {
     "name": "stdout",
     "output_type": "stream",
     "text": [
      "error for snapshot 1394: 0.000056\n",
      "torch.Size([3571, 2])\n",
      "error for snapshot 1395: 0.000058\n",
      "torch.Size([3571, 2])\n",
      "error for snapshot 1396: 0.000062\n",
      "torch.Size([3571, 2])\n",
      "error for snapshot 1397: 0.000062\n",
      "torch.Size([3571, 2])\n",
      "error for snapshot 1398: 0.000060\n",
      "torch.Size([3571, 2])\n",
      "error for snapshot 1399: 0.000061\n",
      "torch.Size([3571, 2])\n",
      "error for snapshot 1400: 0.000067\n",
      "torch.Size([3571, 2])\n",
      "error for snapshot 1401: 0.000065\n",
      "torch.Size([3571, 2])\n",
      "error for snapshot 1402: 0.000066\n",
      "torch.Size([3571, 2])\n"
     ]
    },
    {
     "name": "stderr",
     "output_type": "stream",
     "text": [
      " 70% (1408 of 2000) |##############      | Elapsed Time: 0:00:33 ETA:   0:00:13"
     ]
    },
    {
     "name": "stdout",
     "output_type": "stream",
     "text": [
      "error for snapshot 1403: 0.000065\n",
      "torch.Size([3571, 2])\n",
      "error for snapshot 1404: 0.000062\n",
      "torch.Size([3571, 2])\n",
      "error for snapshot 1405: 0.000060\n",
      "torch.Size([3571, 2])\n",
      "error for snapshot 1406: 0.000060\n",
      "torch.Size([3571, 2])\n",
      "error for snapshot 1407: 0.000060\n",
      "torch.Size([3571, 2])\n",
      "error for snapshot 1408: 0.000061\n",
      "torch.Size([3571, 2])\n",
      "error for snapshot 1409: 0.000064\n",
      "torch.Size([3571, 2])\n",
      "error for snapshot 1410: 0.000068\n",
      "torch.Size([3571, 2])\n",
      "error for snapshot 1411: 0.000068\n",
      "torch.Size([3571, 2])\n"
     ]
    },
    {
     "name": "stderr",
     "output_type": "stream",
     "text": [
      " 70% (1418 of 2000) |##############      | Elapsed Time: 0:00:34 ETA:   0:00:13"
     ]
    },
    {
     "name": "stdout",
     "output_type": "stream",
     "text": [
      "error for snapshot 1412: 0.000061\n",
      "torch.Size([3571, 2])\n",
      "error for snapshot 1413: 0.000054\n",
      "torch.Size([3571, 2])\n",
      "error for snapshot 1414: 0.000050\n",
      "torch.Size([3571, 2])\n",
      "error for snapshot 1415: 0.000051\n",
      "torch.Size([3571, 2])\n",
      "error for snapshot 1416: 0.000054\n",
      "torch.Size([3571, 2])\n",
      "error for snapshot 1417: 0.000058\n",
      "torch.Size([3571, 2])\n",
      "error for snapshot 1418: 0.000057\n",
      "torch.Size([3571, 2])\n",
      "error for snapshot 1419: 0.000063\n",
      "torch.Size([3571, 2])\n",
      "error for snapshot 1420: 0.000073\n",
      "torch.Size([3571, 2])\n"
     ]
    },
    {
     "name": "stderr",
     "output_type": "stream",
     "text": [
      " 71% (1428 of 2000) |##############      | Elapsed Time: 0:00:34 ETA:   0:00:13"
     ]
    },
    {
     "name": "stdout",
     "output_type": "stream",
     "text": [
      "error for snapshot 1421: 0.000076\n",
      "torch.Size([3571, 2])\n",
      "error for snapshot 1422: 0.000071\n",
      "torch.Size([3571, 2])\n",
      "error for snapshot 1423: 0.000069\n",
      "torch.Size([3571, 2])\n",
      "error for snapshot 1424: 0.000067\n",
      "torch.Size([3571, 2])\n",
      "error for snapshot 1425: 0.000067\n",
      "torch.Size([3571, 2])\n",
      "error for snapshot 1426: 0.000068\n",
      "torch.Size([3571, 2])\n",
      "error for snapshot 1427: 0.000070\n",
      "torch.Size([3571, 2])\n",
      "error for snapshot 1428: 0.000071\n",
      "torch.Size([3571, 2])\n",
      "error for snapshot 1429: 0.000071\n",
      "torch.Size([3571, 2])\n"
     ]
    },
    {
     "name": "stderr",
     "output_type": "stream",
     "text": [
      " 71% (1438 of 2000) |##############      | Elapsed Time: 0:00:34 ETA:   0:00:13"
     ]
    },
    {
     "name": "stdout",
     "output_type": "stream",
     "text": [
      "error for snapshot 1430: 0.000066\n",
      "torch.Size([3571, 2])\n",
      "error for snapshot 1431: 0.000063\n",
      "torch.Size([3571, 2])\n",
      "error for snapshot 1432: 0.000071\n",
      "torch.Size([3571, 2])\n",
      "error for snapshot 1433: 0.000078\n",
      "torch.Size([3571, 2])\n",
      "error for snapshot 1434: 0.000084\n",
      "torch.Size([3571, 2])\n",
      "error for snapshot 1435: 0.000085\n",
      "torch.Size([3571, 2])\n",
      "error for snapshot 1436: 0.000086\n",
      "torch.Size([3571, 2])\n",
      "error for snapshot 1437: 0.000083\n",
      "torch.Size([3571, 2])\n",
      "error for snapshot 1438: 0.000080\n",
      "torch.Size([3571, 2])\n"
     ]
    },
    {
     "name": "stderr",
     "output_type": "stream",
     "text": [
      "\r",
      "                                                                               \r",
      "\r",
      " 72% (1443 of 2000) |##############      | Elapsed Time: 0:00:34 ETA:   0:00:13"
     ]
    },
    {
     "name": "stdout",
     "output_type": "stream",
     "text": [
      "error for snapshot 1439: 0.000075\n",
      "torch.Size([3571, 2])\n",
      "error for snapshot 1440: 0.000071\n",
      "torch.Size([3571, 2])\n",
      "error for snapshot 1441: 0.000065\n",
      "torch.Size([3571, 2])\n",
      "error for snapshot 1442: 0.000069\n",
      "torch.Size([3571, 2])\n",
      "error for snapshot 1443: 0.000073\n",
      "torch.Size([3571, 2])\n",
      "error for snapshot 1444: 0.000069\n",
      "torch.Size([3571, 2])\n",
      "error for snapshot 1445: 0.000069\n",
      "torch.Size([3571, 2])\n",
      "error for snapshot 1446: 0.000070\n",
      "torch.Size([3571, 2])\n",
      "error for snapshot 1447: 0.000062\n",
      "torch.Size([3571, 2])\n"
     ]
    },
    {
     "name": "stderr",
     "output_type": "stream",
     "text": [
      " 72% (1453 of 2000) |##############      | Elapsed Time: 0:00:34 ETA:   0:00:12"
     ]
    },
    {
     "name": "stdout",
     "output_type": "stream",
     "text": [
      "error for snapshot 1448: 0.000059\n",
      "torch.Size([3571, 2])\n",
      "error for snapshot 1449: 0.000059\n",
      "torch.Size([3571, 2])\n",
      "error for snapshot 1450: 0.000056\n",
      "torch.Size([3571, 2])\n",
      "error for snapshot 1451: 0.000054\n",
      "torch.Size([3571, 2])\n",
      "error for snapshot 1452: 0.000058\n",
      "torch.Size([3571, 2])\n",
      "error for snapshot 1453: 0.000060\n",
      "torch.Size([3571, 2])\n",
      "error for snapshot 1454: 0.000057\n",
      "torch.Size([3571, 2])\n",
      "error for snapshot 1455: 0.000056\n",
      "torch.Size([3571, 2])\n",
      "error for snapshot 1456: 0.000058\n",
      "torch.Size([3571, 2])\n"
     ]
    },
    {
     "name": "stderr",
     "output_type": "stream",
     "text": [
      " 73% (1463 of 2000) |##############      | Elapsed Time: 0:00:35 ETA:   0:00:12"
     ]
    },
    {
     "name": "stdout",
     "output_type": "stream",
     "text": [
      "error for snapshot 1457: 0.000059\n",
      "torch.Size([3571, 2])\n",
      "error for snapshot 1458: 0.000061\n",
      "torch.Size([3571, 2])\n",
      "error for snapshot 1459: 0.000064\n",
      "torch.Size([3571, 2])\n",
      "error for snapshot 1460: 0.000065\n",
      "torch.Size([3571, 2])\n",
      "error for snapshot 1461: 0.000064\n",
      "torch.Size([3571, 2])\n",
      "error for snapshot 1462: 0.000059\n",
      "torch.Size([3571, 2])\n",
      "error for snapshot 1463: 0.000062\n",
      "torch.Size([3571, 2])\n",
      "error for snapshot 1464: 0.000065\n",
      "torch.Size([3571, 2])\n",
      "error for snapshot 1465: 0.000066\n",
      "torch.Size([3571, 2])\n"
     ]
    },
    {
     "name": "stderr",
     "output_type": "stream",
     "text": [
      " 73% (1473 of 2000) |##############      | Elapsed Time: 0:00:35 ETA:   0:00:12"
     ]
    },
    {
     "name": "stdout",
     "output_type": "stream",
     "text": [
      "error for snapshot 1466: 0.000058\n",
      "torch.Size([3571, 2])\n",
      "error for snapshot 1467: 0.000051\n",
      "torch.Size([3571, 2])\n",
      "error for snapshot 1468: 0.000052\n",
      "torch.Size([3571, 2])\n",
      "error for snapshot 1469: 0.000061\n",
      "torch.Size([3571, 2])\n",
      "error for snapshot 1470: 0.000068\n",
      "torch.Size([3571, 2])\n",
      "error for snapshot 1471: 0.000080\n",
      "torch.Size([3571, 2])\n",
      "error for snapshot 1472: 0.000079\n",
      "torch.Size([3571, 2])\n",
      "error for snapshot 1473: 0.000077\n",
      "torch.Size([3571, 2])\n",
      "error for snapshot 1474: 0.000074\n",
      "torch.Size([3571, 2])\n"
     ]
    },
    {
     "name": "stderr",
     "output_type": "stream",
     "text": [
      " 74% (1483 of 2000) |##############      | Elapsed Time: 0:00:35 ETA:   0:00:12"
     ]
    },
    {
     "name": "stdout",
     "output_type": "stream",
     "text": [
      "error for snapshot 1475: 0.000074\n",
      "torch.Size([3571, 2])\n",
      "error for snapshot 1476: 0.000068\n",
      "torch.Size([3571, 2])\n",
      "error for snapshot 1477: 0.000066\n",
      "torch.Size([3571, 2])\n",
      "error for snapshot 1478: 0.000067\n",
      "torch.Size([3571, 2])\n",
      "error for snapshot 1479: 0.000062\n",
      "torch.Size([3571, 2])\n",
      "error for snapshot 1480: 0.000059\n",
      "torch.Size([3571, 2])\n",
      "error for snapshot 1481: 0.000062\n",
      "torch.Size([3571, 2])\n",
      "error for snapshot 1482: 0.000061\n",
      "torch.Size([3571, 2])\n",
      "error for snapshot 1483: 0.000060\n",
      "torch.Size([3571, 2])\n"
     ]
    },
    {
     "name": "stderr",
     "output_type": "stream",
     "text": [
      "\r",
      "                                                                               \r",
      "\r",
      " 74% (1488 of 2000) |##############      | Elapsed Time: 0:00:35 ETA:   0:00:12"
     ]
    },
    {
     "name": "stdout",
     "output_type": "stream",
     "text": [
      "error for snapshot 1484: 0.000062\n",
      "torch.Size([3571, 2])\n",
      "error for snapshot 1485: 0.000065\n",
      "torch.Size([3571, 2])\n",
      "error for snapshot 1486: 0.000062\n",
      "torch.Size([3571, 2])\n",
      "error for snapshot 1487: 0.000056\n",
      "torch.Size([3571, 2])\n",
      "error for snapshot 1488: 0.000053\n",
      "torch.Size([3571, 2])\n",
      "error for snapshot 1489: 0.000047\n",
      "torch.Size([3571, 2])\n",
      "error for snapshot 1490: 0.000045\n",
      "torch.Size([3571, 2])\n",
      "error for snapshot 1491: 0.000049\n",
      "torch.Size([3571, 2])\n",
      "error for snapshot 1492: 0.000053\n",
      "torch.Size([3571, 2])\n"
     ]
    },
    {
     "name": "stderr",
     "output_type": "stream",
     "text": [
      " 74% (1498 of 2000) |##############      | Elapsed Time: 0:00:36 ETA:   0:00:11"
     ]
    },
    {
     "name": "stdout",
     "output_type": "stream",
     "text": [
      "error for snapshot 1493: 0.000052\n",
      "torch.Size([3571, 2])\n",
      "error for snapshot 1494: 0.000057\n",
      "torch.Size([3571, 2])\n",
      "error for snapshot 1495: 0.000068\n",
      "torch.Size([3571, 2])\n",
      "error for snapshot 1496: 0.000072\n",
      "torch.Size([3571, 2])\n",
      "error for snapshot 1497: 0.000066\n",
      "torch.Size([3571, 2])\n",
      "error for snapshot 1498: 0.000062\n",
      "torch.Size([3571, 2])\n",
      "error for snapshot 1499: 0.000063\n",
      "torch.Size([3571, 2])\n",
      "error for snapshot 1500: 0.000066\n",
      "torch.Size([3571, 2])\n",
      "error for snapshot 1501: 0.000067\n",
      "torch.Size([3571, 2])\n"
     ]
    },
    {
     "name": "stderr",
     "output_type": "stream",
     "text": [
      " 75% (1508 of 2000) |###############     | Elapsed Time: 0:00:36 ETA:   0:00:11"
     ]
    },
    {
     "name": "stdout",
     "output_type": "stream",
     "text": [
      "error for snapshot 1502: 0.000070\n",
      "torch.Size([3571, 2])\n",
      "error for snapshot 1503: 0.000070\n",
      "torch.Size([3571, 2])\n",
      "error for snapshot 1504: 0.000070\n",
      "torch.Size([3571, 2])\n",
      "error for snapshot 1505: 0.000063\n",
      "torch.Size([3571, 2])\n",
      "error for snapshot 1506: 0.000056\n",
      "torch.Size([3571, 2])\n",
      "error for snapshot 1507: 0.000063\n",
      "torch.Size([3571, 2])\n",
      "error for snapshot 1508: 0.000072\n",
      "torch.Size([3571, 2])\n",
      "error for snapshot 1509: 0.000078\n",
      "torch.Size([3571, 2])\n",
      "error for snapshot 1510: 0.000081\n",
      "torch.Size([3571, 2])\n"
     ]
    },
    {
     "name": "stderr",
     "output_type": "stream",
     "text": [
      " 75% (1518 of 2000) |###############     | Elapsed Time: 0:00:36 ETA:   0:00:11"
     ]
    },
    {
     "name": "stdout",
     "output_type": "stream",
     "text": [
      "error for snapshot 1511: 0.000082\n",
      "torch.Size([3571, 2])\n",
      "error for snapshot 1512: 0.000079\n",
      "torch.Size([3571, 2])\n",
      "error for snapshot 1513: 0.000074\n",
      "torch.Size([3571, 2])\n",
      "error for snapshot 1514: 0.000065\n",
      "torch.Size([3571, 2])\n",
      "error for snapshot 1515: 0.000057\n",
      "torch.Size([3571, 2])\n",
      "error for snapshot 1516: 0.000052\n",
      "torch.Size([3571, 2])\n",
      "error for snapshot 1517: 0.000053\n",
      "torch.Size([3571, 2])\n",
      "error for snapshot 1518: 0.000056\n",
      "torch.Size([3571, 2])\n",
      "error for snapshot 1519: 0.000054\n",
      "torch.Size([3571, 2])\n"
     ]
    },
    {
     "name": "stderr",
     "output_type": "stream",
     "text": [
      " 76% (1528 of 2000) |###############     | Elapsed Time: 0:00:36 ETA:   0:00:11"
     ]
    },
    {
     "name": "stdout",
     "output_type": "stream",
     "text": [
      "error for snapshot 1520: 0.000051\n",
      "torch.Size([3571, 2])\n",
      "error for snapshot 1521: 0.000052\n",
      "torch.Size([3571, 2])\n",
      "error for snapshot 1522: 0.000053\n",
      "torch.Size([3571, 2])\n",
      "error for snapshot 1523: 0.000048\n",
      "torch.Size([3571, 2])\n",
      "error for snapshot 1524: 0.000044\n",
      "torch.Size([3571, 2])\n",
      "error for snapshot 1525: 0.000043\n",
      "torch.Size([3571, 2])\n",
      "error for snapshot 1526: 0.000040\n",
      "torch.Size([3571, 2])\n",
      "error for snapshot 1527: 0.000042\n",
      "torch.Size([3571, 2])\n",
      "error for snapshot 1528: 0.000048\n",
      "torch.Size([3571, 2])\n"
     ]
    },
    {
     "name": "stderr",
     "output_type": "stream",
     "text": [
      "\r",
      "                                                                               \r",
      "\r",
      " 76% (1533 of 2000) |###############     | Elapsed Time: 0:00:36 ETA:   0:00:11"
     ]
    },
    {
     "name": "stdout",
     "output_type": "stream",
     "text": [
      "error for snapshot 1529: 0.000051\n",
      "torch.Size([3571, 2])\n",
      "error for snapshot 1530: 0.000051\n",
      "torch.Size([3571, 2])\n",
      "error for snapshot 1531: 0.000048\n",
      "torch.Size([3571, 2])\n",
      "error for snapshot 1532: 0.000050\n",
      "torch.Size([3571, 2])\n",
      "error for snapshot 1533: 0.000053\n",
      "torch.Size([3571, 2])\n",
      "error for snapshot 1534: 0.000058\n",
      "torch.Size([3571, 2])\n",
      "error for snapshot 1535: 0.000061\n",
      "torch.Size([3571, 2])\n",
      "error for snapshot 1536: 0.000057\n",
      "torch.Size([3571, 2])\n",
      "error for snapshot 1537: 0.000055\n",
      "torch.Size([3571, 2])\n"
     ]
    },
    {
     "name": "stderr",
     "output_type": "stream",
     "text": [
      " 77% (1545 of 2000) |###############     | Elapsed Time: 0:00:37 ETA:   0:00:10"
     ]
    },
    {
     "name": "stdout",
     "output_type": "stream",
     "text": [
      "error for snapshot 1538: 0.000050\n",
      "torch.Size([3571, 2])\n",
      "error for snapshot 1539: 0.000051\n",
      "torch.Size([3571, 2])\n",
      "error for snapshot 1540: 0.000050\n",
      "torch.Size([3571, 2])\n",
      "error for snapshot 1541: 0.000055\n",
      "torch.Size([3571, 2])\n",
      "error for snapshot 1542: 0.000053\n",
      "torch.Size([3571, 2])\n",
      "error for snapshot 1543: 0.000054\n",
      "torch.Size([3571, 2])\n",
      "error for snapshot 1544: 0.000054\n",
      "torch.Size([3571, 2])\n",
      "error for snapshot 1545: 0.000058\n",
      "torch.Size([3571, 2])\n",
      "error for snapshot 1546: 0.000060\n",
      "torch.Size([3571, 2])\n"
     ]
    },
    {
     "name": "stderr",
     "output_type": "stream",
     "text": [
      " 77% (1555 of 2000) |###############     | Elapsed Time: 0:00:37 ETA:   0:00:10"
     ]
    },
    {
     "name": "stdout",
     "output_type": "stream",
     "text": [
      "error for snapshot 1547: 0.000063\n",
      "torch.Size([3571, 2])\n",
      "error for snapshot 1548: 0.000062\n",
      "torch.Size([3571, 2])\n",
      "error for snapshot 1549: 0.000060\n",
      "torch.Size([3571, 2])\n",
      "error for snapshot 1550: 0.000064\n",
      "torch.Size([3571, 2])\n",
      "error for snapshot 1551: 0.000069\n",
      "torch.Size([3571, 2])\n",
      "error for snapshot 1552: 0.000066\n",
      "torch.Size([3571, 2])\n",
      "error for snapshot 1553: 0.000067\n",
      "torch.Size([3571, 2])\n",
      "error for snapshot 1554: 0.000065\n",
      "torch.Size([3571, 2])\n",
      "error for snapshot 1555: 0.000063\n",
      "torch.Size([3571, 2])\n"
     ]
    },
    {
     "name": "stderr",
     "output_type": "stream",
     "text": [
      "\r",
      "                                                                               \r",
      "\r",
      " 78% (1560 of 2000) |###############     | Elapsed Time: 0:00:37 ETA:   0:00:10"
     ]
    },
    {
     "name": "stdout",
     "output_type": "stream",
     "text": [
      "error for snapshot 1556: 0.000061\n",
      "torch.Size([3571, 2])\n",
      "error for snapshot 1557: 0.000061\n",
      "torch.Size([3571, 2])\n",
      "error for snapshot 1558: 0.000061\n",
      "torch.Size([3571, 2])\n",
      "error for snapshot 1559: 0.000063\n",
      "torch.Size([3571, 2])\n",
      "error for snapshot 1560: 0.000066\n",
      "torch.Size([3571, 2])\n",
      "error for snapshot 1561: 0.000070\n",
      "torch.Size([3571, 2])\n",
      "error for snapshot 1562: 0.000068\n",
      "torch.Size([3571, 2])\n",
      "error for snapshot 1563: 0.000059\n",
      "torch.Size([3571, 2])\n",
      "error for snapshot 1564: 0.000053\n",
      "torch.Size([3571, 2])\n"
     ]
    },
    {
     "name": "stderr",
     "output_type": "stream",
     "text": [
      " 78% (1570 of 2000) |###############     | Elapsed Time: 0:00:37 ETA:   0:00:10"
     ]
    },
    {
     "name": "stdout",
     "output_type": "stream",
     "text": [
      "error for snapshot 1565: 0.000051\n",
      "torch.Size([3571, 2])\n",
      "error for snapshot 1566: 0.000053\n",
      "torch.Size([3571, 2])\n",
      "error for snapshot 1567: 0.000056\n",
      "torch.Size([3571, 2])\n",
      "error for snapshot 1568: 0.000059\n",
      "torch.Size([3571, 2])\n",
      "error for snapshot 1569: 0.000058\n",
      "torch.Size([3571, 2])\n",
      "error for snapshot 1570: 0.000067\n",
      "torch.Size([3571, 2])\n",
      "error for snapshot 1571: 0.000076\n",
      "torch.Size([3571, 2])\n",
      "error for snapshot 1572: 0.000076\n",
      "torch.Size([3571, 2])\n",
      "error for snapshot 1573: 0.000071\n",
      "torch.Size([3571, 2])\n"
     ]
    },
    {
     "name": "stderr",
     "output_type": "stream",
     "text": [
      " 79% (1580 of 2000) |###############     | Elapsed Time: 0:00:37 ETA:   0:00:09"
     ]
    },
    {
     "name": "stdout",
     "output_type": "stream",
     "text": [
      "error for snapshot 1574: 0.000069\n",
      "torch.Size([3571, 2])\n",
      "error for snapshot 1575: 0.000068\n",
      "torch.Size([3571, 2])\n",
      "error for snapshot 1576: 0.000067\n",
      "torch.Size([3571, 2])\n",
      "error for snapshot 1577: 0.000070\n",
      "torch.Size([3571, 2])\n",
      "error for snapshot 1578: 0.000071\n",
      "torch.Size([3571, 2])\n",
      "error for snapshot 1579: 0.000072\n",
      "torch.Size([3571, 2])\n",
      "error for snapshot 1580: 0.000071\n",
      "torch.Size([3571, 2])\n",
      "error for snapshot 1581: 0.000065\n",
      "torch.Size([3571, 2])\n",
      "error for snapshot 1582: 0.000066\n",
      "torch.Size([3571, 2])\n"
     ]
    },
    {
     "name": "stderr",
     "output_type": "stream",
     "text": [
      " 79% (1590 of 2000) |###############     | Elapsed Time: 0:00:38 ETA:   0:00:09"
     ]
    },
    {
     "name": "stdout",
     "output_type": "stream",
     "text": [
      "error for snapshot 1583: 0.000074\n",
      "torch.Size([3571, 2])\n",
      "error for snapshot 1584: 0.000081\n",
      "torch.Size([3571, 2])\n",
      "error for snapshot 1585: 0.000085\n",
      "torch.Size([3571, 2])\n",
      "error for snapshot 1586: 0.000088\n",
      "torch.Size([3571, 2])\n",
      "error for snapshot 1587: 0.000085\n",
      "torch.Size([3571, 2])\n",
      "error for snapshot 1588: 0.000083\n",
      "torch.Size([3571, 2])\n",
      "error for snapshot 1589: 0.000080\n",
      "torch.Size([3571, 2])\n",
      "error for snapshot 1590: 0.000074\n",
      "torch.Size([3571, 2])\n",
      "error for snapshot 1591: 0.000070\n",
      "torch.Size([3571, 2])\n"
     ]
    },
    {
     "name": "stderr",
     "output_type": "stream",
     "text": [
      " 80% (1600 of 2000) |################    | Elapsed Time: 0:00:38 ETA:   0:00:09"
     ]
    },
    {
     "name": "stdout",
     "output_type": "stream",
     "text": [
      "error for snapshot 1592: 0.000066\n",
      "torch.Size([3571, 2])\n",
      "error for snapshot 1593: 0.000073\n",
      "torch.Size([3571, 2])\n",
      "error for snapshot 1594: 0.000073\n",
      "torch.Size([3571, 2])\n",
      "error for snapshot 1595: 0.000069\n",
      "torch.Size([3571, 2])\n",
      "error for snapshot 1596: 0.000071\n",
      "torch.Size([3571, 2])\n",
      "error for snapshot 1597: 0.000069\n",
      "torch.Size([3571, 2])\n",
      "error for snapshot 1598: 0.000061\n",
      "torch.Size([3571, 2])\n",
      "error for snapshot 1599: 0.000060\n",
      "torch.Size([3571, 2])\n",
      "error for snapshot 1600: 0.000059\n",
      "torch.Size([3571, 2])\n"
     ]
    },
    {
     "name": "stderr",
     "output_type": "stream",
     "text": [
      " 80% (1610 of 2000) |################    | Elapsed Time: 0:00:38 ETA:   0:00:09"
     ]
    },
    {
     "name": "stdout",
     "output_type": "stream",
     "text": [
      "error for snapshot 1601: 0.000056\n",
      "torch.Size([3571, 2])\n",
      "error for snapshot 1602: 0.000057\n",
      "torch.Size([3571, 2])\n",
      "error for snapshot 1603: 0.000059\n",
      "torch.Size([3571, 2])\n",
      "error for snapshot 1604: 0.000060\n",
      "torch.Size([3571, 2])\n",
      "error for snapshot 1605: 0.000057\n",
      "torch.Size([3571, 2])\n",
      "error for snapshot 1606: 0.000058\n",
      "torch.Size([3571, 2])\n",
      "error for snapshot 1607: 0.000060\n",
      "torch.Size([3571, 2])\n",
      "error for snapshot 1608: 0.000059\n",
      "torch.Size([3571, 2])\n",
      "error for snapshot 1609: 0.000062\n",
      "torch.Size([3571, 2])\n"
     ]
    },
    {
     "name": "stderr",
     "output_type": "stream",
     "text": [
      "\r",
      "                                                                               \r",
      "\r",
      " 80% (1615 of 2000) |################    | Elapsed Time: 0:00:38 ETA:   0:00:09"
     ]
    },
    {
     "name": "stdout",
     "output_type": "stream",
     "text": [
      "error for snapshot 1610: 0.000065\n",
      "torch.Size([3571, 2])\n",
      "error for snapshot 1611: 0.000065\n",
      "torch.Size([3571, 2])\n",
      "error for snapshot 1612: 0.000063\n",
      "torch.Size([3571, 2])\n",
      "error for snapshot 1613: 0.000059\n",
      "torch.Size([3571, 2])\n",
      "error for snapshot 1614: 0.000064\n",
      "torch.Size([3571, 2])\n",
      "error for snapshot 1615: 0.000067\n",
      "torch.Size([3571, 2])\n",
      "error for snapshot 1616: 0.000066\n",
      "torch.Size([3571, 2])\n",
      "error for snapshot 1617: 0.000055\n",
      "torch.Size([3571, 2])\n",
      "error for snapshot 1618: 0.000051\n",
      "torch.Size([3571, 2])\n"
     ]
    },
    {
     "name": "stderr",
     "output_type": "stream",
     "text": [
      " 81% (1625 of 2000) |################    | Elapsed Time: 0:00:39 ETA:   0:00:08"
     ]
    },
    {
     "name": "stdout",
     "output_type": "stream",
     "text": [
      "error for snapshot 1619: 0.000055\n",
      "torch.Size([3571, 2])\n",
      "error for snapshot 1620: 0.000064\n",
      "torch.Size([3571, 2])\n",
      "error for snapshot 1621: 0.000073\n",
      "torch.Size([3571, 2])\n",
      "error for snapshot 1622: 0.000082\n",
      "torch.Size([3571, 2])\n",
      "error for snapshot 1623: 0.000080\n",
      "torch.Size([3571, 2])\n",
      "error for snapshot 1624: 0.000077\n",
      "torch.Size([3571, 2])\n",
      "error for snapshot 1625: 0.000075\n",
      "torch.Size([3571, 2])\n",
      "error for snapshot 1626: 0.000075\n",
      "torch.Size([3571, 2])\n",
      "error for snapshot 1627: 0.000067\n",
      "torch.Size([3571, 2])\n"
     ]
    },
    {
     "name": "stderr",
     "output_type": "stream",
     "text": [
      " 81% (1635 of 2000) |################    | Elapsed Time: 0:00:39 ETA:   0:00:08"
     ]
    },
    {
     "name": "stdout",
     "output_type": "stream",
     "text": [
      "error for snapshot 1628: 0.000069\n",
      "torch.Size([3571, 2])\n",
      "error for snapshot 1629: 0.000066\n",
      "torch.Size([3571, 2])\n",
      "error for snapshot 1630: 0.000061\n",
      "torch.Size([3571, 2])\n",
      "error for snapshot 1631: 0.000061\n",
      "torch.Size([3571, 2])\n",
      "error for snapshot 1632: 0.000063\n",
      "torch.Size([3571, 2])\n",
      "error for snapshot 1633: 0.000061\n",
      "torch.Size([3571, 2])\n",
      "error for snapshot 1634: 0.000061\n",
      "torch.Size([3571, 2])\n",
      "error for snapshot 1635: 0.000064\n",
      "torch.Size([3571, 2])\n",
      "error for snapshot 1636: 0.000066\n",
      "torch.Size([3571, 2])\n"
     ]
    },
    {
     "name": "stderr",
     "output_type": "stream",
     "text": [
      " 82% (1644 of 2000) |################    | Elapsed Time: 0:00:39 ETA:   0:00:08"
     ]
    },
    {
     "name": "stdout",
     "output_type": "stream",
     "text": [
      "error for snapshot 1637: 0.000061\n",
      "torch.Size([3571, 2])\n",
      "error for snapshot 1638: 0.000056\n",
      "torch.Size([3571, 2])\n",
      "error for snapshot 1639: 0.000053\n",
      "torch.Size([3571, 2])\n",
      "error for snapshot 1640: 0.000046\n",
      "torch.Size([3571, 2])\n",
      "error for snapshot 1641: 0.000046\n",
      "torch.Size([3571, 2])\n",
      "error for snapshot 1642: 0.000051\n",
      "torch.Size([3571, 2])\n",
      "error for snapshot 1643: 0.000054\n",
      "torch.Size([3571, 2])\n",
      "error for snapshot 1644: 0.000053\n",
      "torch.Size([3571, 2])\n",
      "error for snapshot 1645: 0.000061\n",
      "torch.Size([3571, 2])\n"
     ]
    },
    {
     "name": "stderr",
     "output_type": "stream",
     "text": [
      " 82% (1654 of 2000) |################    | Elapsed Time: 0:00:39 ETA:   0:00:08"
     ]
    },
    {
     "name": "stdout",
     "output_type": "stream",
     "text": [
      "error for snapshot 1646: 0.000070\n",
      "torch.Size([3571, 2])\n",
      "error for snapshot 1647: 0.000071\n",
      "torch.Size([3571, 2])\n",
      "error for snapshot 1648: 0.000064\n",
      "torch.Size([3571, 2])\n",
      "error for snapshot 1649: 0.000062\n",
      "torch.Size([3571, 2])\n",
      "error for snapshot 1650: 0.000064\n",
      "torch.Size([3571, 2])\n",
      "error for snapshot 1651: 0.000066\n",
      "torch.Size([3571, 2])\n",
      "error for snapshot 1652: 0.000069\n",
      "torch.Size([3571, 2])\n",
      "error for snapshot 1653: 0.000071\n",
      "torch.Size([3571, 2])\n",
      "error for snapshot 1654: 0.000071\n",
      "torch.Size([3571, 2])\n"
     ]
    },
    {
     "name": "stderr",
     "output_type": "stream",
     "text": [
      "\r",
      "                                                                               \r",
      "\r",
      " 82% (1659 of 2000) |################    | Elapsed Time: 0:00:39 ETA:   0:00:08"
     ]
    },
    {
     "name": "stdout",
     "output_type": "stream",
     "text": [
      "error for snapshot 1655: 0.000069\n",
      "torch.Size([3571, 2])\n",
      "error for snapshot 1656: 0.000060\n",
      "torch.Size([3571, 2])\n",
      "error for snapshot 1657: 0.000056\n",
      "torch.Size([3571, 2])\n",
      "error for snapshot 1658: 0.000067\n",
      "torch.Size([3571, 2])\n",
      "error for snapshot 1659: 0.000074\n",
      "torch.Size([3571, 2])\n",
      "error for snapshot 1660: 0.000081\n",
      "torch.Size([3571, 2])\n",
      "error for snapshot 1661: 0.000081\n",
      "torch.Size([3571, 2])\n",
      "error for snapshot 1662: 0.000082\n",
      "torch.Size([3571, 2])\n",
      "error for snapshot 1663: 0.000079\n",
      "torch.Size([3571, 2])\n"
     ]
    },
    {
     "name": "stderr",
     "output_type": "stream",
     "text": [
      " 83% (1669 of 2000) |################    | Elapsed Time: 0:00:40 ETA:   0:00:07"
     ]
    },
    {
     "name": "stdout",
     "output_type": "stream",
     "text": [
      "error for snapshot 1664: 0.000072\n",
      "torch.Size([3571, 2])\n",
      "error for snapshot 1665: 0.000063\n",
      "torch.Size([3571, 2])\n",
      "error for snapshot 1666: 0.000055\n",
      "torch.Size([3571, 2])\n",
      "error for snapshot 1667: 0.000053\n",
      "torch.Size([3571, 2])\n",
      "error for snapshot 1668: 0.000055\n",
      "torch.Size([3571, 2])\n",
      "error for snapshot 1669: 0.000057\n",
      "torch.Size([3571, 2])\n",
      "error for snapshot 1670: 0.000053\n",
      "torch.Size([3571, 2])\n",
      "error for snapshot 1671: 0.000051\n",
      "torch.Size([3571, 2])\n",
      "error for snapshot 1672: 0.000053\n",
      "torch.Size([3571, 2])\n"
     ]
    },
    {
     "name": "stderr",
     "output_type": "stream",
     "text": [
      " 83% (1679 of 2000) |################    | Elapsed Time: 0:00:40 ETA:   0:00:07"
     ]
    },
    {
     "name": "stdout",
     "output_type": "stream",
     "text": [
      "error for snapshot 1673: 0.000051\n",
      "torch.Size([3571, 2])\n",
      "error for snapshot 1674: 0.000047\n",
      "torch.Size([3571, 2])\n",
      "error for snapshot 1675: 0.000044\n",
      "torch.Size([3571, 2])\n",
      "error for snapshot 1676: 0.000043\n",
      "torch.Size([3571, 2])\n",
      "error for snapshot 1677: 0.000040\n",
      "torch.Size([3571, 2])\n",
      "error for snapshot 1678: 0.000045\n",
      "torch.Size([3571, 2])\n",
      "error for snapshot 1679: 0.000050\n",
      "torch.Size([3571, 2])\n",
      "error for snapshot 1680: 0.000052\n",
      "torch.Size([3571, 2])\n",
      "error for snapshot 1681: 0.000050\n",
      "torch.Size([3571, 2])\n"
     ]
    },
    {
     "name": "stderr",
     "output_type": "stream",
     "text": [
      " 84% (1689 of 2000) |################    | Elapsed Time: 0:00:40 ETA:   0:00:07"
     ]
    },
    {
     "name": "stdout",
     "output_type": "stream",
     "text": [
      "error for snapshot 1682: 0.000048\n",
      "torch.Size([3571, 2])\n",
      "error for snapshot 1683: 0.000052\n",
      "torch.Size([3571, 2])\n",
      "error for snapshot 1684: 0.000054\n",
      "torch.Size([3571, 2])\n",
      "error for snapshot 1685: 0.000059\n",
      "torch.Size([3571, 2])\n",
      "error for snapshot 1686: 0.000060\n",
      "torch.Size([3571, 2])\n",
      "error for snapshot 1687: 0.000057\n",
      "torch.Size([3571, 2])\n",
      "error for snapshot 1688: 0.000053\n",
      "torch.Size([3571, 2])\n",
      "error for snapshot 1689: 0.000050\n",
      "torch.Size([3571, 2])\n",
      "error for snapshot 1690: 0.000051\n",
      "torch.Size([3571, 2])\n"
     ]
    },
    {
     "name": "stderr",
     "output_type": "stream",
     "text": [
      " 84% (1697 of 2000) |################    | Elapsed Time: 0:00:40 ETA:   0:00:07"
     ]
    },
    {
     "name": "stdout",
     "output_type": "stream",
     "text": [
      "error for snapshot 1691: 0.000052\n",
      "torch.Size([3571, 2])\n",
      "error for snapshot 1692: 0.000055\n",
      "torch.Size([3571, 2])\n",
      "error for snapshot 1693: 0.000053\n",
      "torch.Size([3571, 2])\n",
      "error for snapshot 1694: 0.000055\n",
      "torch.Size([3571, 2])\n",
      "error for snapshot 1695: 0.000055\n",
      "torch.Size([3571, 2])\n",
      "error for snapshot 1696: 0.000059\n",
      "torch.Size([3571, 2])\n",
      "error for snapshot 1697: 0.000061\n",
      "torch.Size([3571, 2])\n",
      "error for snapshot 1698: 0.000063\n",
      "torch.Size([3571, 2])\n"
     ]
    },
    {
     "name": "stderr",
     "output_type": "stream",
     "text": [
      " 85% (1705 of 2000) |#################   | Elapsed Time: 0:00:40 ETA:   0:00:07"
     ]
    },
    {
     "name": "stdout",
     "output_type": "stream",
     "text": [
      "error for snapshot 1699: 0.000061\n",
      "torch.Size([3571, 2])\n",
      "error for snapshot 1700: 0.000061\n",
      "torch.Size([3571, 2])\n",
      "error for snapshot 1701: 0.000066\n",
      "torch.Size([3571, 2])\n",
      "error for snapshot 1702: 0.000068\n",
      "torch.Size([3571, 2])\n",
      "error for snapshot 1703: 0.000066\n",
      "torch.Size([3571, 2])\n",
      "error for snapshot 1704: 0.000067\n",
      "torch.Size([3571, 2])\n",
      "error for snapshot 1705: 0.000065\n",
      "torch.Size([3571, 2])\n",
      "error for snapshot 1706: 0.000062\n",
      "torch.Size([3571, 2])\n"
     ]
    },
    {
     "name": "stderr",
     "output_type": "stream",
     "text": [
      " 85% (1713 of 2000) |#################   | Elapsed Time: 0:00:41 ETA:   0:00:07"
     ]
    },
    {
     "name": "stdout",
     "output_type": "stream",
     "text": [
      "error for snapshot 1707: 0.000062\n",
      "torch.Size([3571, 2])\n",
      "error for snapshot 1708: 0.000061\n",
      "torch.Size([3571, 2])\n",
      "error for snapshot 1709: 0.000062\n",
      "torch.Size([3571, 2])\n",
      "error for snapshot 1710: 0.000064\n",
      "torch.Size([3571, 2])\n",
      "error for snapshot 1711: 0.000067\n",
      "torch.Size([3571, 2])\n",
      "error for snapshot 1712: 0.000071\n",
      "torch.Size([3571, 2])\n",
      "error for snapshot 1713: 0.000066\n",
      "torch.Size([3571, 2])\n",
      "error for snapshot 1714: 0.000058\n",
      "torch.Size([3571, 2])\n"
     ]
    },
    {
     "name": "stderr",
     "output_type": "stream",
     "text": [
      " 86% (1721 of 2000) |#################   | Elapsed Time: 0:00:41 ETA:   0:00:06"
     ]
    },
    {
     "name": "stdout",
     "output_type": "stream",
     "text": [
      "error for snapshot 1715: 0.000053\n",
      "torch.Size([3571, 2])\n",
      "error for snapshot 1716: 0.000053\n",
      "torch.Size([3571, 2])\n",
      "error for snapshot 1717: 0.000054\n",
      "torch.Size([3571, 2])\n",
      "error for snapshot 1718: 0.000057\n",
      "torch.Size([3571, 2])\n",
      "error for snapshot 1719: 0.000059\n",
      "torch.Size([3571, 2])\n",
      "error for snapshot 1720: 0.000060\n",
      "torch.Size([3571, 2])\n",
      "error for snapshot 1721: 0.000071\n",
      "torch.Size([3571, 2])\n",
      "error for snapshot 1722: 0.000077\n",
      "torch.Size([3571, 2])\n",
      "error for snapshot 1723: 0.000074\n"
     ]
    },
    {
     "name": "stderr",
     "output_type": "stream",
     "text": [
      " 86% (1731 of 2000) |#################   | Elapsed Time: 0:00:41 ETA:   0:00:06"
     ]
    },
    {
     "name": "stdout",
     "output_type": "stream",
     "text": [
      "torch.Size([3571, 2])\n",
      "error for snapshot 1724: 0.000070\n",
      "torch.Size([3571, 2])\n",
      "error for snapshot 1725: 0.000069\n",
      "torch.Size([3571, 2])\n",
      "error for snapshot 1726: 0.000068\n",
      "torch.Size([3571, 2])\n",
      "error for snapshot 1727: 0.000068\n",
      "torch.Size([3571, 2])\n",
      "error for snapshot 1728: 0.000071\n",
      "torch.Size([3571, 2])\n",
      "error for snapshot 1729: 0.000071\n",
      "torch.Size([3571, 2])\n",
      "error for snapshot 1730: 0.000073\n",
      "torch.Size([3571, 2])\n",
      "error for snapshot 1731: 0.000070\n",
      "torch.Size([3571, 2])\n"
     ]
    },
    {
     "name": "stderr",
     "output_type": "stream",
     "text": [
      "\r",
      "                                                                               \r",
      "\r",
      " 86% (1736 of 2000) |#################   | Elapsed Time: 0:00:41 ETA:   0:00:06"
     ]
    },
    {
     "name": "stdout",
     "output_type": "stream",
     "text": [
      "error for snapshot 1732: 0.000064\n",
      "torch.Size([3571, 2])\n",
      "error for snapshot 1733: 0.000069\n",
      "torch.Size([3571, 2])\n",
      "error for snapshot 1734: 0.000077\n",
      "torch.Size([3571, 2])\n",
      "error for snapshot 1735: 0.000083\n",
      "torch.Size([3571, 2])\n",
      "error for snapshot 1736: 0.000085\n",
      "torch.Size([3571, 2])\n",
      "error for snapshot 1737: 0.000089\n",
      "torch.Size([3571, 2])\n",
      "error for snapshot 1738: 0.000085\n",
      "torch.Size([3571, 2])\n",
      "error for snapshot 1739: 0.000082\n",
      "torch.Size([3571, 2])\n",
      "error for snapshot 1740: 0.000079\n",
      "torch.Size([3571, 2])\n"
     ]
    },
    {
     "name": "stderr",
     "output_type": "stream",
     "text": [
      " 87% (1746 of 2000) |#################   | Elapsed Time: 0:00:42 ETA:   0:00:06"
     ]
    },
    {
     "name": "stdout",
     "output_type": "stream",
     "text": [
      "error for snapshot 1741: 0.000074\n",
      "torch.Size([3571, 2])\n",
      "error for snapshot 1742: 0.000068\n",
      "torch.Size([3571, 2])\n",
      "error for snapshot 1743: 0.000068\n",
      "torch.Size([3571, 2])\n",
      "error for snapshot 1744: 0.000074\n",
      "torch.Size([3571, 2])\n",
      "error for snapshot 1745: 0.000072\n",
      "torch.Size([3571, 2])\n",
      "error for snapshot 1746: 0.000070\n",
      "torch.Size([3571, 2])\n",
      "error for snapshot 1747: 0.000072\n",
      "torch.Size([3571, 2])\n",
      "error for snapshot 1748: 0.000067\n",
      "torch.Size([3571, 2])\n",
      "error for snapshot 1749: 0.000061\n",
      "torch.Size([3571, 2])\n"
     ]
    },
    {
     "name": "stderr",
     "output_type": "stream",
     "text": [
      " 87% (1756 of 2000) |#################   | Elapsed Time: 0:00:42 ETA:   0:00:06"
     ]
    },
    {
     "name": "stdout",
     "output_type": "stream",
     "text": [
      "error for snapshot 1750: 0.000060\n",
      "torch.Size([3571, 2])\n",
      "error for snapshot 1751: 0.000058\n",
      "torch.Size([3571, 2])\n",
      "error for snapshot 1752: 0.000055\n",
      "torch.Size([3571, 2])\n",
      "error for snapshot 1753: 0.000059\n",
      "torch.Size([3571, 2])\n",
      "error for snapshot 1754: 0.000060\n",
      "torch.Size([3571, 2])\n",
      "error for snapshot 1755: 0.000060\n",
      "torch.Size([3571, 2])\n",
      "error for snapshot 1756: 0.000057\n",
      "torch.Size([3571, 2])\n",
      "error for snapshot 1757: 0.000058\n",
      "torch.Size([3571, 2])\n",
      "error for snapshot 1758: 0.000060\n",
      "torch.Size([3571, 2])\n"
     ]
    },
    {
     "name": "stderr",
     "output_type": "stream",
     "text": [
      " 88% (1766 of 2000) |#################   | Elapsed Time: 0:00:42 ETA:   0:00:05"
     ]
    },
    {
     "name": "stdout",
     "output_type": "stream",
     "text": [
      "error for snapshot 1759: 0.000060\n",
      "torch.Size([3571, 2])\n",
      "error for snapshot 1760: 0.000064\n",
      "torch.Size([3571, 2])\n",
      "error for snapshot 1761: 0.000066\n",
      "torch.Size([3571, 2])\n",
      "error for snapshot 1762: 0.000065\n",
      "torch.Size([3571, 2])\n",
      "error for snapshot 1763: 0.000061\n",
      "torch.Size([3571, 2])\n",
      "error for snapshot 1764: 0.000061\n",
      "torch.Size([3571, 2])\n",
      "error for snapshot 1765: 0.000065\n",
      "torch.Size([3571, 2])\n",
      "error for snapshot 1766: 0.000067\n",
      "torch.Size([3571, 2])\n",
      "error for snapshot 1767: 0.000063\n",
      "torch.Size([3571, 2])\n"
     ]
    },
    {
     "name": "stderr",
     "output_type": "stream",
     "text": [
      " 88% (1776 of 2000) |#################   | Elapsed Time: 0:00:42 ETA:   0:00:05"
     ]
    },
    {
     "name": "stdout",
     "output_type": "stream",
     "text": [
      "error for snapshot 1768: 0.000053\n",
      "torch.Size([3571, 2])\n",
      "error for snapshot 1769: 0.000052\n",
      "torch.Size([3571, 2])\n",
      "error for snapshot 1770: 0.000058\n",
      "torch.Size([3571, 2])\n",
      "error for snapshot 1771: 0.000067\n",
      "torch.Size([3571, 2])\n",
      "error for snapshot 1772: 0.000077\n",
      "torch.Size([3571, 2])\n",
      "error for snapshot 1773: 0.000082\n",
      "torch.Size([3571, 2])\n",
      "error for snapshot 1774: 0.000080\n",
      "torch.Size([3571, 2])\n",
      "error for snapshot 1775: 0.000076\n",
      "torch.Size([3571, 2])\n",
      "error for snapshot 1776: 0.000075\n",
      "torch.Size([3571, 2])\n"
     ]
    },
    {
     "name": "stderr",
     "output_type": "stream",
     "text": [
      " 89% (1785 of 2000) |#################   | Elapsed Time: 0:00:42 ETA:   0:00:05"
     ]
    },
    {
     "name": "stdout",
     "output_type": "stream",
     "text": [
      "error for snapshot 1777: 0.000072\n",
      "torch.Size([3571, 2])\n",
      "error for snapshot 1778: 0.000066\n",
      "torch.Size([3571, 2])\n",
      "error for snapshot 1779: 0.000069\n",
      "torch.Size([3571, 2])\n",
      "error for snapshot 1780: 0.000065\n",
      "torch.Size([3571, 2])\n",
      "error for snapshot 1781: 0.000060\n",
      "torch.Size([3571, 2])\n",
      "error for snapshot 1782: 0.000062\n",
      "torch.Size([3571, 2])\n",
      "error for snapshot 1783: 0.000063\n",
      "torch.Size([3571, 2])\n",
      "error for snapshot 1784: 0.000061\n",
      "torch.Size([3571, 2])\n",
      "error for snapshot 1785: 0.000062\n",
      "torch.Size([3571, 2])\n"
     ]
    },
    {
     "name": "stderr",
     "output_type": "stream",
     "text": [
      "\r",
      "                                                                               \r",
      "\r",
      " 89% (1790 of 2000) |#################   | Elapsed Time: 0:00:43 ETA:   0:00:05"
     ]
    },
    {
     "name": "stdout",
     "output_type": "stream",
     "text": [
      "error for snapshot 1786: 0.000066\n",
      "torch.Size([3571, 2])\n",
      "error for snapshot 1787: 0.000065\n",
      "torch.Size([3571, 2])\n",
      "error for snapshot 1788: 0.000059\n",
      "torch.Size([3571, 2])\n",
      "error for snapshot 1789: 0.000056\n",
      "torch.Size([3571, 2])\n",
      "error for snapshot 1790: 0.000051\n",
      "torch.Size([3571, 2])\n",
      "error for snapshot 1791: 0.000045\n",
      "torch.Size([3571, 2])\n",
      "error for snapshot 1792: 0.000048\n",
      "torch.Size([3571, 2])\n",
      "error for snapshot 1793: 0.000052\n",
      "torch.Size([3571, 2])\n",
      "error for snapshot 1794: 0.000054\n",
      "torch.Size([3571, 2])\n"
     ]
    },
    {
     "name": "stderr",
     "output_type": "stream",
     "text": [
      " 90% (1803 of 2000) |##################  | Elapsed Time: 0:00:43 ETA:   0:00:04"
     ]
    },
    {
     "name": "stdout",
     "output_type": "stream",
     "text": [
      "error for snapshot 1795: 0.000054\n",
      "torch.Size([3571, 2])\n",
      "error for snapshot 1796: 0.000065\n",
      "torch.Size([3571, 2])\n",
      "error for snapshot 1797: 0.000072\n",
      "torch.Size([3571, 2])\n",
      "error for snapshot 1798: 0.000070\n",
      "torch.Size([3571, 2])\n",
      "error for snapshot 1799: 0.000063\n",
      "torch.Size([3571, 2])\n",
      "error for snapshot 1800: 0.000063\n",
      "torch.Size([3571, 2])\n",
      "error for snapshot 1801: 0.000065\n",
      "torch.Size([3571, 2])\n",
      "error for snapshot 1802: 0.000067\n",
      "torch.Size([3571, 2])\n",
      "error for snapshot 1803: 0.000070\n",
      "torch.Size([3571, 2])\n"
     ]
    },
    {
     "name": "stderr",
     "output_type": "stream",
     "text": [
      " 90% (1813 of 2000) |##################  | Elapsed Time: 0:00:43 ETA:   0:00:04"
     ]
    },
    {
     "name": "stdout",
     "output_type": "stream",
     "text": [
      "error for snapshot 1804: 0.000071\n",
      "torch.Size([3571, 2])\n",
      "error for snapshot 1805: 0.000071\n",
      "torch.Size([3571, 2])\n",
      "error for snapshot 1806: 0.000067\n",
      "torch.Size([3571, 2])\n",
      "error for snapshot 1807: 0.000058\n",
      "torch.Size([3571, 2])\n",
      "error for snapshot 1808: 0.000059\n",
      "torch.Size([3571, 2])\n",
      "error for snapshot 1809: 0.000070\n",
      "torch.Size([3571, 2])\n",
      "error for snapshot 1810: 0.000076\n",
      "torch.Size([3571, 2])\n",
      "error for snapshot 1811: 0.000083\n",
      "torch.Size([3571, 2])\n",
      "error for snapshot 1812: 0.000082\n",
      "torch.Size([3571, 2])\n"
     ]
    },
    {
     "name": "stderr",
     "output_type": "stream",
     "text": [
      " 91% (1821 of 2000) |##################  | Elapsed Time: 0:00:43 ETA:   0:00:04"
     ]
    },
    {
     "name": "stdout",
     "output_type": "stream",
     "text": [
      "error for snapshot 1813: 0.000081\n",
      "torch.Size([3571, 2])\n",
      "error for snapshot 1814: 0.000078\n",
      "torch.Size([3571, 2])\n",
      "error for snapshot 1815: 0.000069\n",
      "torch.Size([3571, 2])\n",
      "error for snapshot 1816: 0.000060\n",
      "torch.Size([3571, 2])\n",
      "error for snapshot 1817: 0.000054\n",
      "torch.Size([3571, 2])\n",
      "error for snapshot 1818: 0.000053\n",
      "torch.Size([3571, 2])\n",
      "error for snapshot 1819: 0.000056\n",
      "torch.Size([3571, 2])\n",
      "error for snapshot 1820: 0.000056\n",
      "torch.Size([3571, 2])\n"
     ]
    },
    {
     "name": "stderr",
     "output_type": "stream",
     "text": [
      " 91% (1828 of 2000) |##################  | Elapsed Time: 0:00:43 ETA:   0:00:04"
     ]
    },
    {
     "name": "stdout",
     "output_type": "stream",
     "text": [
      "error for snapshot 1821: 0.000052\n",
      "torch.Size([3571, 2])\n",
      "error for snapshot 1822: 0.000051\n",
      "torch.Size([3571, 2])\n",
      "error for snapshot 1823: 0.000054\n",
      "torch.Size([3571, 2])\n",
      "error for snapshot 1824: 0.000050\n",
      "torch.Size([3571, 2])\n",
      "error for snapshot 1825: 0.000046\n",
      "torch.Size([3571, 2])\n",
      "error for snapshot 1826: 0.000044\n",
      "torch.Size([3571, 2])\n",
      "error for snapshot 1827: 0.000042\n",
      "torch.Size([3571, 2])\n",
      "error for snapshot 1828: 0.000040\n",
      "torch.Size([3571, 2])\n",
      "error for snapshot 1829: 0.000046\n",
      "torch.Size([3571, 2])\n"
     ]
    },
    {
     "name": "stderr",
     "output_type": "stream",
     "text": [
      " 91% (1838 of 2000) |##################  | Elapsed Time: 0:00:44 ETA:   0:00:03"
     ]
    },
    {
     "name": "stdout",
     "output_type": "stream",
     "text": [
      "error for snapshot 1830: 0.000051\n",
      "torch.Size([3571, 2])\n",
      "error for snapshot 1831: 0.000052\n",
      "torch.Size([3571, 2])\n",
      "error for snapshot 1832: 0.000049\n",
      "torch.Size([3571, 2])\n",
      "error for snapshot 1833: 0.000049\n",
      "torch.Size([3571, 2])\n",
      "error for snapshot 1834: 0.000052\n",
      "torch.Size([3571, 2])\n",
      "error for snapshot 1835: 0.000056\n",
      "torch.Size([3571, 2])\n",
      "error for snapshot 1836: 0.000061\n",
      "torch.Size([3571, 2])\n",
      "error for snapshot 1837: 0.000059\n",
      "torch.Size([3571, 2])\n",
      "error for snapshot 1838: 0.000057\n",
      "torch.Size([3571, 2])\n"
     ]
    },
    {
     "name": "stderr",
     "output_type": "stream",
     "text": [
      "\r",
      "                                                                               \r",
      "\r",
      " 92% (1843 of 2000) |##################  | Elapsed Time: 0:00:44 ETA:   0:00:03"
     ]
    },
    {
     "name": "stdout",
     "output_type": "stream",
     "text": [
      "error for snapshot 1839: 0.000052\n",
      "torch.Size([3571, 2])\n",
      "error for snapshot 1840: 0.000051\n",
      "torch.Size([3571, 2])\n",
      "error for snapshot 1841: 0.000050\n",
      "torch.Size([3571, 2])\n",
      "error for snapshot 1842: 0.000054\n",
      "torch.Size([3571, 2])\n",
      "error for snapshot 1843: 0.000055\n",
      "torch.Size([3571, 2])\n",
      "error for snapshot 1844: 0.000053\n",
      "torch.Size([3571, 2])\n",
      "error for snapshot 1845: 0.000055\n",
      "torch.Size([3571, 2])\n",
      "error for snapshot 1846: 0.000057\n",
      "torch.Size([3571, 2])\n",
      "error for snapshot 1847: 0.000059\n",
      "torch.Size([3571, 2])\n"
     ]
    },
    {
     "name": "stderr",
     "output_type": "stream",
     "text": [
      " 92% (1853 of 2000) |##################  | Elapsed Time: 0:00:44 ETA:   0:00:03"
     ]
    },
    {
     "name": "stdout",
     "output_type": "stream",
     "text": [
      "error for snapshot 1848: 0.000063\n",
      "torch.Size([3571, 2])\n",
      "error for snapshot 1849: 0.000063\n",
      "torch.Size([3571, 2])\n",
      "error for snapshot 1850: 0.000061\n",
      "torch.Size([3571, 2])\n",
      "error for snapshot 1851: 0.000062\n",
      "torch.Size([3571, 2])\n",
      "error for snapshot 1852: 0.000069\n",
      "torch.Size([3571, 2])\n",
      "error for snapshot 1853: 0.000067\n",
      "torch.Size([3571, 2])\n",
      "error for snapshot 1854: 0.000067\n",
      "torch.Size([3571, 2])\n",
      "error for snapshot 1855: 0.000067\n",
      "torch.Size([3571, 2])\n",
      "error for snapshot 1856: 0.000064\n",
      "torch.Size([3571, 2])\n"
     ]
    },
    {
     "name": "stderr",
     "output_type": "stream",
     "text": [
      " 93% (1863 of 2000) |##################  | Elapsed Time: 0:00:44 ETA:   0:00:03"
     ]
    },
    {
     "name": "stdout",
     "output_type": "stream",
     "text": [
      "error for snapshot 1857: 0.000062\n",
      "torch.Size([3571, 2])\n",
      "error for snapshot 1858: 0.000062\n",
      "torch.Size([3571, 2])\n",
      "error for snapshot 1859: 0.000061\n",
      "torch.Size([3571, 2])\n",
      "error for snapshot 1860: 0.000063\n",
      "torch.Size([3571, 2])\n",
      "error for snapshot 1861: 0.000065\n",
      "torch.Size([3571, 2])\n",
      "error for snapshot 1862: 0.000069\n",
      "torch.Size([3571, 2])\n",
      "error for snapshot 1863: 0.000070\n",
      "torch.Size([3571, 2])\n",
      "error for snapshot 1864: 0.000063\n",
      "torch.Size([3571, 2])\n",
      "error for snapshot 1865: 0.000056\n",
      "torch.Size([3571, 2])\n"
     ]
    },
    {
     "name": "stderr",
     "output_type": "stream",
     "text": [
      " 93% (1873 of 2000) |##################  | Elapsed Time: 0:00:45 ETA:   0:00:03"
     ]
    },
    {
     "name": "stdout",
     "output_type": "stream",
     "text": [
      "error for snapshot 1866: 0.000052\n",
      "torch.Size([3571, 2])\n",
      "error for snapshot 1867: 0.000053\n",
      "torch.Size([3571, 2])\n",
      "error for snapshot 1868: 0.000055\n",
      "torch.Size([3571, 2])\n",
      "error for snapshot 1869: 0.000059\n",
      "torch.Size([3571, 2])\n",
      "error for snapshot 1870: 0.000058\n",
      "torch.Size([3571, 2])\n",
      "error for snapshot 1871: 0.000064\n",
      "torch.Size([3571, 2])\n",
      "error for snapshot 1872: 0.000074\n",
      "torch.Size([3571, 2])\n",
      "error for snapshot 1873: 0.000078\n",
      "torch.Size([3571, 2])\n",
      "error for snapshot 1874: 0.000073\n",
      "torch.Size([3571, 2])\n"
     ]
    },
    {
     "name": "stderr",
     "output_type": "stream",
     "text": [
      " 94% (1883 of 2000) |##################  | Elapsed Time: 0:00:45 ETA:   0:00:02"
     ]
    },
    {
     "name": "stdout",
     "output_type": "stream",
     "text": [
      "error for snapshot 1875: 0.000070\n",
      "torch.Size([3571, 2])\n",
      "error for snapshot 1876: 0.000069\n",
      "torch.Size([3571, 2])\n",
      "error for snapshot 1877: 0.000068\n",
      "torch.Size([3571, 2])\n",
      "error for snapshot 1878: 0.000069\n",
      "torch.Size([3571, 2])\n",
      "error for snapshot 1879: 0.000071\n",
      "torch.Size([3571, 2])\n",
      "error for snapshot 1880: 0.000072\n",
      "torch.Size([3571, 2])\n",
      "error for snapshot 1881: 0.000073\n",
      "torch.Size([3571, 2])\n",
      "error for snapshot 1882: 0.000068\n",
      "torch.Size([3571, 2])\n",
      "error for snapshot 1883: 0.000064\n",
      "torch.Size([3571, 2])\n"
     ]
    },
    {
     "name": "stderr",
     "output_type": "stream",
     "text": [
      "\r",
      "                                                                               \r",
      "\r",
      " 94% (1888 of 2000) |##################  | Elapsed Time: 0:00:45 ETA:   0:00:02"
     ]
    },
    {
     "name": "stdout",
     "output_type": "stream",
     "text": [
      "error for snapshot 1884: 0.000072\n",
      "torch.Size([3571, 2])\n",
      "error for snapshot 1885: 0.000079\n",
      "torch.Size([3571, 2])\n",
      "error for snapshot 1886: 0.000084\n",
      "torch.Size([3571, 2])\n",
      "error for snapshot 1887: 0.000086\n",
      "torch.Size([3571, 2])\n",
      "error for snapshot 1888: 0.000088\n",
      "torch.Size([3571, 2])\n",
      "error for snapshot 1889: 0.000085\n",
      "torch.Size([3571, 2])\n",
      "error for snapshot 1890: 0.000082\n",
      "torch.Size([3571, 2])\n",
      "error for snapshot 1891: 0.000077\n",
      "torch.Size([3571, 2])\n",
      "error for snapshot 1892: 0.000073\n",
      "torch.Size([3571, 2])\n"
     ]
    },
    {
     "name": "stderr",
     "output_type": "stream",
     "text": [
      " 94% (1898 of 2000) |##################  | Elapsed Time: 0:00:45 ETA:   0:00:02"
     ]
    },
    {
     "name": "stdout",
     "output_type": "stream",
     "text": [
      "error for snapshot 1893: 0.000067\n",
      "torch.Size([3571, 2])\n",
      "error for snapshot 1894: 0.000070\n",
      "torch.Size([3571, 2])\n",
      "error for snapshot 1895: 0.000075\n",
      "torch.Size([3571, 2])\n",
      "error for snapshot 1896: 0.000071\n",
      "torch.Size([3571, 2])\n",
      "error for snapshot 1897: 0.000071\n",
      "torch.Size([3571, 2])\n",
      "error for snapshot 1898: 0.000072\n",
      "torch.Size([3571, 2])\n",
      "error for snapshot 1899: 0.000064\n",
      "torch.Size([3571, 2])\n",
      "error for snapshot 1900: 0.000061\n",
      "torch.Size([3571, 2])\n",
      "error for snapshot 1901: 0.000060\n",
      "torch.Size([3571, 2])\n"
     ]
    },
    {
     "name": "stderr",
     "output_type": "stream",
     "text": [
      " 95% (1908 of 2000) |################### | Elapsed Time: 0:00:45 ETA:   0:00:02"
     ]
    },
    {
     "name": "stdout",
     "output_type": "stream",
     "text": [
      "error for snapshot 1902: 0.000058\n",
      "torch.Size([3571, 2])\n",
      "error for snapshot 1903: 0.000056\n",
      "torch.Size([3571, 2])\n",
      "error for snapshot 1904: 0.000059\n",
      "torch.Size([3571, 2])\n",
      "error for snapshot 1905: 0.000061\n",
      "torch.Size([3571, 2])\n",
      "error for snapshot 1906: 0.000059\n",
      "torch.Size([3571, 2])\n",
      "error for snapshot 1907: 0.000058\n",
      "torch.Size([3571, 2])\n",
      "error for snapshot 1908: 0.000059\n",
      "torch.Size([3571, 2])\n",
      "error for snapshot 1909: 0.000060\n",
      "torch.Size([3571, 2])\n",
      "error for snapshot 1910: 0.000062\n",
      "torch.Size([3571, 2])\n"
     ]
    },
    {
     "name": "stderr",
     "output_type": "stream",
     "text": [
      " 95% (1918 of 2000) |################### | Elapsed Time: 0:00:46 ETA:   0:00:01"
     ]
    },
    {
     "name": "stdout",
     "output_type": "stream",
     "text": [
      "error for snapshot 1911: 0.000065\n",
      "torch.Size([3571, 2])\n",
      "error for snapshot 1912: 0.000066\n",
      "torch.Size([3571, 2])\n",
      "error for snapshot 1913: 0.000065\n",
      "torch.Size([3571, 2])\n",
      "error for snapshot 1914: 0.000060\n",
      "torch.Size([3571, 2])\n",
      "error for snapshot 1915: 0.000063\n",
      "torch.Size([3571, 2])\n",
      "error for snapshot 1916: 0.000066\n",
      "torch.Size([3571, 2])\n",
      "error for snapshot 1917: 0.000068\n",
      "torch.Size([3571, 2])\n",
      "error for snapshot 1918: 0.000060\n",
      "torch.Size([3571, 2])\n",
      "error for snapshot 1919: 0.000052\n",
      "torch.Size([3571, 2])\n"
     ]
    },
    {
     "name": "stderr",
     "output_type": "stream",
     "text": [
      " 96% (1928 of 2000) |################### | Elapsed Time: 0:00:46 ETA:   0:00:01"
     ]
    },
    {
     "name": "stdout",
     "output_type": "stream",
     "text": [
      "error for snapshot 1920: 0.000053\n",
      "torch.Size([3571, 2])\n",
      "error for snapshot 1921: 0.000061\n",
      "torch.Size([3571, 2])\n",
      "error for snapshot 1922: 0.000070\n",
      "torch.Size([3571, 2])\n",
      "error for snapshot 1923: 0.000081\n",
      "torch.Size([3571, 2])\n",
      "error for snapshot 1924: 0.000082\n",
      "torch.Size([3571, 2])\n",
      "error for snapshot 1925: 0.000080\n",
      "torch.Size([3571, 2])\n",
      "error for snapshot 1926: 0.000076\n",
      "torch.Size([3571, 2])\n",
      "error for snapshot 1927: 0.000076\n",
      "torch.Size([3571, 2])\n",
      "error for snapshot 1928: 0.000070\n",
      "torch.Size([3571, 2])\n"
     ]
    },
    {
     "name": "stderr",
     "output_type": "stream",
     "text": [
      "\r",
      "                                                                               \r",
      "\r",
      " 96% (1933 of 2000) |################### | Elapsed Time: 0:00:46 ETA:   0:00:01"
     ]
    },
    {
     "name": "stdout",
     "output_type": "stream",
     "text": [
      "error for snapshot 1929: 0.000068\n",
      "torch.Size([3571, 2])\n",
      "error for snapshot 1930: 0.000069\n",
      "torch.Size([3571, 2])\n",
      "error for snapshot 1931: 0.000064\n",
      "torch.Size([3571, 2])\n",
      "error for snapshot 1932: 0.000060\n",
      "torch.Size([3571, 2])\n",
      "error for snapshot 1933: 0.000063\n",
      "torch.Size([3571, 2])\n",
      "error for snapshot 1934: 0.000062\n",
      "torch.Size([3571, 2])\n",
      "error for snapshot 1935: 0.000061\n",
      "torch.Size([3571, 2])\n",
      "error for snapshot 1936: 0.000063\n",
      "torch.Size([3571, 2])\n",
      "error for snapshot 1937: 0.000067\n",
      "torch.Size([3571, 2])\n"
     ]
    },
    {
     "name": "stderr",
     "output_type": "stream",
     "text": [
      " 97% (1943 of 2000) |################### | Elapsed Time: 0:00:46 ETA:   0:00:01"
     ]
    },
    {
     "name": "stdout",
     "output_type": "stream",
     "text": [
      "error for snapshot 1938: 0.000064\n",
      "torch.Size([3571, 2])\n",
      "error for snapshot 1939: 0.000058\n",
      "torch.Size([3571, 2])\n",
      "error for snapshot 1940: 0.000055\n",
      "torch.Size([3571, 2])\n",
      "error for snapshot 1941: 0.000049\n",
      "torch.Size([3571, 2])\n",
      "error for snapshot 1942: 0.000046\n",
      "torch.Size([3571, 2])\n",
      "error for snapshot 1943: 0.000050\n",
      "torch.Size([3571, 2])\n",
      "error for snapshot 1944: 0.000054\n",
      "torch.Size([3571, 2])\n",
      "error for snapshot 1945: 0.000054\n",
      "torch.Size([3571, 2])\n",
      "error for snapshot 1946: 0.000057\n",
      "torch.Size([3571, 2])\n"
     ]
    },
    {
     "name": "stderr",
     "output_type": "stream",
     "text": [
      " 97% (1953 of 2000) |################### | Elapsed Time: 0:00:46 ETA:   0:00:01"
     ]
    },
    {
     "name": "stdout",
     "output_type": "stream",
     "text": [
      "error for snapshot 1947: 0.000068\n",
      "torch.Size([3571, 2])\n",
      "error for snapshot 1948: 0.000072\n",
      "torch.Size([3571, 2])\n",
      "error for snapshot 1949: 0.000067\n",
      "torch.Size([3571, 2])\n",
      "error for snapshot 1950: 0.000063\n",
      "torch.Size([3571, 2])\n",
      "error for snapshot 1951: 0.000064\n",
      "torch.Size([3571, 2])\n",
      "error for snapshot 1952: 0.000066\n",
      "torch.Size([3571, 2])\n",
      "error for snapshot 1953: 0.000068\n",
      "torch.Size([3571, 2])\n",
      "error for snapshot 1954: 0.000071\n",
      "torch.Size([3571, 2])\n",
      "error for snapshot 1955: 0.000071\n",
      "torch.Size([3571, 2])\n"
     ]
    },
    {
     "name": "stderr",
     "output_type": "stream",
     "text": [
      " 98% (1963 of 2000) |################### | Elapsed Time: 0:00:47 ETA:   0:00:00"
     ]
    },
    {
     "name": "stdout",
     "output_type": "stream",
     "text": [
      "error for snapshot 1956: 0.000071\n",
      "torch.Size([3571, 2])\n",
      "error for snapshot 1957: 0.000064\n",
      "torch.Size([3571, 2])\n",
      "error for snapshot 1958: 0.000057\n",
      "torch.Size([3571, 2])\n",
      "error for snapshot 1959: 0.000063\n",
      "torch.Size([3571, 2])\n",
      "error for snapshot 1960: 0.000072\n",
      "torch.Size([3571, 2])\n",
      "error for snapshot 1961: 0.000078\n",
      "torch.Size([3571, 2])\n",
      "error for snapshot 1962: 0.000082\n",
      "torch.Size([3571, 2])\n",
      "error for snapshot 1963: 0.000083\n",
      "torch.Size([3571, 2])\n",
      "error for snapshot 1964: 0.000080\n",
      "torch.Size([3571, 2])\n"
     ]
    },
    {
     "name": "stderr",
     "output_type": "stream",
     "text": [
      " 98% (1973 of 2000) |################### | Elapsed Time: 0:00:47 ETA:   0:00:00"
     ]
    },
    {
     "name": "stdout",
     "output_type": "stream",
     "text": [
      "error for snapshot 1965: 0.000076\n",
      "torch.Size([3571, 2])\n",
      "error for snapshot 1966: 0.000067\n",
      "torch.Size([3571, 2])\n",
      "error for snapshot 1967: 0.000058\n",
      "torch.Size([3571, 2])\n",
      "error for snapshot 1968: 0.000053\n",
      "torch.Size([3571, 2])\n",
      "error for snapshot 1969: 0.000054\n",
      "torch.Size([3571, 2])\n",
      "error for snapshot 1970: 0.000057\n",
      "torch.Size([3571, 2])\n",
      "error for snapshot 1971: 0.000055\n",
      "torch.Size([3571, 2])\n",
      "error for snapshot 1972: 0.000052\n",
      "torch.Size([3571, 2])\n",
      "error for snapshot 1973: 0.000052\n",
      "torch.Size([3571, 2])\n"
     ]
    },
    {
     "name": "stderr",
     "output_type": "stream",
     "text": [
      " 99% (1982 of 2000) |################### | Elapsed Time: 0:00:47 ETA:   0:00:00"
     ]
    },
    {
     "name": "stdout",
     "output_type": "stream",
     "text": [
      "error for snapshot 1974: 0.000054\n",
      "torch.Size([3571, 2])\n",
      "error for snapshot 1975: 0.000049\n",
      "torch.Size([3571, 2])\n",
      "error for snapshot 1976: 0.000045\n",
      "torch.Size([3571, 2])\n",
      "error for snapshot 1977: 0.000044\n",
      "torch.Size([3571, 2])\n",
      "error for snapshot 1978: 0.000041\n",
      "torch.Size([3571, 2])\n",
      "error for snapshot 1979: 0.000042\n",
      "torch.Size([3571, 2])\n",
      "error for snapshot 1980: 0.000049\n",
      "torch.Size([3571, 2])\n",
      "error for snapshot 1981: 0.000052\n",
      "torch.Size([3571, 2])\n"
     ]
    },
    {
     "name": "stderr",
     "output_type": "stream",
     "text": [
      "\r",
      "                                                                               \r",
      "\r",
      " 99% (1986 of 2000) |################### | Elapsed Time: 0:00:47 ETA:   0:00:00"
     ]
    },
    {
     "name": "stdout",
     "output_type": "stream",
     "text": [
      "error for snapshot 1982: 0.000052\n",
      "torch.Size([3571, 2])\n",
      "error for snapshot 1983: 0.000049\n",
      "torch.Size([3571, 2])\n",
      "error for snapshot 1984: 0.000051\n",
      "torch.Size([3571, 2])\n",
      "error for snapshot 1985: 0.000053\n",
      "torch.Size([3571, 2])\n",
      "error for snapshot 1986: 0.000058\n",
      "torch.Size([3571, 2])\n",
      "error for snapshot 1987: 0.000061\n",
      "torch.Size([3571, 2])\n",
      "error for snapshot 1988: 0.000058\n",
      "torch.Size([3571, 2])\n",
      "error for snapshot 1989: 0.000056\n",
      "torch.Size([3571, 2])\n"
     ]
    },
    {
     "name": "stderr",
     "output_type": "stream",
     "text": [
      " 99% (1995 of 2000) |################### | Elapsed Time: 0:00:47 ETA:   0:00:00"
     ]
    },
    {
     "name": "stdout",
     "output_type": "stream",
     "text": [
      "error for snapshot 1990: 0.000051\n",
      "torch.Size([3571, 2])\n",
      "error for snapshot 1991: 0.000051\n",
      "torch.Size([3571, 2])\n",
      "error for snapshot 1992: 0.000051\n",
      "torch.Size([3571, 2])\n",
      "error for snapshot 1993: 0.000055\n",
      "torch.Size([3571, 2])\n",
      "error for snapshot 1994: 0.000054\n",
      "torch.Size([3571, 2])\n",
      "error for snapshot 1995: 0.000055\n",
      "torch.Size([3571, 2])\n",
      "error for snapshot 1996: 0.000055\n",
      "torch.Size([3571, 2])\n",
      "error for snapshot 1997: 0.000058\n",
      "torch.Size([3571, 2])\n",
      "error for snapshot 1998: 0.000060\n",
      "torch.Size([3571, 2])\n"
     ]
    },
    {
     "name": "stderr",
     "output_type": "stream",
     "text": [
      "100% (2000 of 2000) |####################| Elapsed Time: 0:00:48 Time:  0:00:48\n"
     ]
    },
    {
     "name": "stdout",
     "output_type": "stream",
     "text": [
      "error for snapshot 1999: 0.000064\n",
      "torch.Size([3571, 2])\n",
      "\n",
      " Finished writing vtu files.\n"
     ]
    }
   ],
   "source": [
    "# added functions to output vtu files from reconstruct\n",
    "model_device = torch.device('cuda')\n",
    "autoencoder = autoencoder.to(model_device)\n",
    "result_vtu_to_vtu(data_path, vtu_fields, autoencoder, k.detach().numpy(), b.detach().numpy(), model_device = model_device)"
   ]
  },
  {
   "cell_type": "markdown",
   "metadata": {
    "id": "BUEsKMa-QDle"
   },
   "source": [
    "Please find the reconstructed files in `reconstructed` folder"
   ]
  }
 ],
 "metadata": {
  "accelerator": "GPU",
  "colab": {
   "collapsed_sections": [],
   "name": "Instruction-SFC-CAE-CO2.ipynb",
   "provenance": []
  },
  "kernelspec": {
   "display_name": "Python 3",
   "language": "python",
   "name": "python3"
  },
  "language_info": {
   "codemirror_mode": {
    "name": "ipython",
    "version": 3
   },
   "file_extension": ".py",
   "mimetype": "text/x-python",
   "name": "python",
   "nbconvert_exporter": "python",
   "pygments_lexer": "ipython3",
   "version": "3.8.10"
  }
 },
 "nbformat": 4,
 "nbformat_minor": 1
}
